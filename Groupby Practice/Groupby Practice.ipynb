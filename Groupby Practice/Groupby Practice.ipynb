{
 "cells": [
  {
   "cell_type": "markdown",
   "id": "93361b2f",
   "metadata": {},
   "source": [
    "# Groupby Practice\n",
    "\n",
    "## Aggregate\n",
    "Aggregation is the process of taking multiple values and returning a single value\n",
    "\n",
    "Calculating an arithmetic mean is an example\n",
    "\n",
    "### Basic One Variable Grouped Aggregation\n",
    "\n",
    "Load the gapminder data"
   ]
  },
  {
   "cell_type": "code",
   "execution_count": 1,
   "id": "b0608a54",
   "metadata": {},
   "outputs": [
    {
     "data": {
      "text/html": [
       "<div>\n",
       "<style scoped>\n",
       "    .dataframe tbody tr th:only-of-type {\n",
       "        vertical-align: middle;\n",
       "    }\n",
       "\n",
       "    .dataframe tbody tr th {\n",
       "        vertical-align: top;\n",
       "    }\n",
       "\n",
       "    .dataframe thead th {\n",
       "        text-align: right;\n",
       "    }\n",
       "</style>\n",
       "<table border=\"1\" class=\"dataframe\">\n",
       "  <thead>\n",
       "    <tr style=\"text-align: right;\">\n",
       "      <th></th>\n",
       "      <th>country</th>\n",
       "      <th>continent</th>\n",
       "      <th>year</th>\n",
       "      <th>lifeExp</th>\n",
       "      <th>pop</th>\n",
       "      <th>gdpPercap</th>\n",
       "    </tr>\n",
       "  </thead>\n",
       "  <tbody>\n",
       "    <tr>\n",
       "      <th>0</th>\n",
       "      <td>Afghanistan</td>\n",
       "      <td>Asia</td>\n",
       "      <td>1952</td>\n",
       "      <td>28.801</td>\n",
       "      <td>8425333</td>\n",
       "      <td>779.445314</td>\n",
       "    </tr>\n",
       "    <tr>\n",
       "      <th>1</th>\n",
       "      <td>Afghanistan</td>\n",
       "      <td>Asia</td>\n",
       "      <td>1957</td>\n",
       "      <td>30.332</td>\n",
       "      <td>9240934</td>\n",
       "      <td>820.853030</td>\n",
       "    </tr>\n",
       "    <tr>\n",
       "      <th>2</th>\n",
       "      <td>Afghanistan</td>\n",
       "      <td>Asia</td>\n",
       "      <td>1962</td>\n",
       "      <td>31.997</td>\n",
       "      <td>10267083</td>\n",
       "      <td>853.100710</td>\n",
       "    </tr>\n",
       "    <tr>\n",
       "      <th>3</th>\n",
       "      <td>Afghanistan</td>\n",
       "      <td>Asia</td>\n",
       "      <td>1967</td>\n",
       "      <td>34.020</td>\n",
       "      <td>11537966</td>\n",
       "      <td>836.197138</td>\n",
       "    </tr>\n",
       "    <tr>\n",
       "      <th>4</th>\n",
       "      <td>Afghanistan</td>\n",
       "      <td>Asia</td>\n",
       "      <td>1972</td>\n",
       "      <td>36.088</td>\n",
       "      <td>13079460</td>\n",
       "      <td>739.981106</td>\n",
       "    </tr>\n",
       "  </tbody>\n",
       "</table>\n",
       "</div>"
      ],
      "text/plain": [
       "       country continent  year  lifeExp       pop   gdpPercap\n",
       "0  Afghanistan      Asia  1952   28.801   8425333  779.445314\n",
       "1  Afghanistan      Asia  1957   30.332   9240934  820.853030\n",
       "2  Afghanistan      Asia  1962   31.997  10267083  853.100710\n",
       "3  Afghanistan      Asia  1967   34.020  11537966  836.197138\n",
       "4  Afghanistan      Asia  1972   36.088  13079460  739.981106"
      ]
     },
     "execution_count": 1,
     "metadata": {},
     "output_type": "execute_result"
    }
   ],
   "source": [
    "import pandas as pd\n",
    "df = pd.read_csv('gapminder.tsv',sep='\\t')\n",
    "df.head()"
   ]
  },
  {
   "cell_type": "code",
   "execution_count": 2,
   "id": "6d43c32e",
   "metadata": {},
   "outputs": [
    {
     "data": {
      "text/plain": [
       "(1704, 6)"
      ]
     },
     "execution_count": 2,
     "metadata": {},
     "output_type": "execute_result"
    }
   ],
   "source": [
    "df.shape"
   ]
  },
  {
   "cell_type": "markdown",
   "id": "537f1fb2",
   "metadata": {},
   "source": [
    "### Calculate the average life expectancy for each year"
   ]
  },
  {
   "cell_type": "code",
   "execution_count": 3,
   "id": "c74ea473",
   "metadata": {},
   "outputs": [
    {
     "data": {
      "text/plain": [
       "year\n",
       "1952    49.057620\n",
       "1957    51.507401\n",
       "1962    53.609249\n",
       "1967    55.678290\n",
       "1972    57.647386\n",
       "Name: lifeExp, dtype: float64"
      ]
     },
     "execution_count": 3,
     "metadata": {},
     "output_type": "execute_result"
    }
   ],
   "source": [
    "avg_life_exp_by_year = df.groupby('year').lifeExp.mean()\n",
    "avg_life_exp_by_year.head()"
   ]
  },
  {
   "cell_type": "markdown",
   "id": "d3b6a96c",
   "metadata": {},
   "source": [
    "You can also use bracket notation"
   ]
  },
  {
   "cell_type": "code",
   "execution_count": 4,
   "id": "4b6ab889",
   "metadata": {},
   "outputs": [
    {
     "data": {
      "text/plain": [
       "year\n",
       "1952    49.057620\n",
       "1957    51.507401\n",
       "1962    53.609249\n",
       "1967    55.678290\n",
       "1972    57.647386\n",
       "Name: lifeExp, dtype: float64"
      ]
     },
     "execution_count": 4,
     "metadata": {},
     "output_type": "execute_result"
    }
   ],
   "source": [
    "avg_life_exp_by_year = df.groupby('year')['lifeExp'].mean()\n",
    "avg_life_exp_by_year.head()"
   ]
  },
  {
   "cell_type": "markdown",
   "id": "ab397839",
   "metadata": {},
   "source": [
    "Groupby statement can be thought of as comprising three steps\n",
    "\n",
    "**Step 1** : Create a subset of each unique value of a column "
   ]
  },
  {
   "cell_type": "code",
   "execution_count": 5,
   "id": "11f2b04b",
   "metadata": {},
   "outputs": [
    {
     "data": {
      "text/plain": [
       "array([1952, 1957, 1962, 1967, 1972, 1977, 1982, 1987, 1992, 1997, 2002,\n",
       "       2007], dtype=int64)"
      ]
     },
     "execution_count": 5,
     "metadata": {},
     "output_type": "execute_result"
    }
   ],
   "source": [
    "years = df.year.unique()\n",
    "years"
   ]
  },
  {
   "cell_type": "markdown",
   "id": "bc3a1548",
   "metadata": {},
   "source": [
    "**Step 2**: We go through each year and subset the data\n",
    "\n",
    "eg. we subset the data for the year 1952"
   ]
  },
  {
   "cell_type": "code",
   "execution_count": 6,
   "id": "7fb037c0",
   "metadata": {},
   "outputs": [
    {
     "data": {
      "text/html": [
       "<div>\n",
       "<style scoped>\n",
       "    .dataframe tbody tr th:only-of-type {\n",
       "        vertical-align: middle;\n",
       "    }\n",
       "\n",
       "    .dataframe tbody tr th {\n",
       "        vertical-align: top;\n",
       "    }\n",
       "\n",
       "    .dataframe thead th {\n",
       "        text-align: right;\n",
       "    }\n",
       "</style>\n",
       "<table border=\"1\" class=\"dataframe\">\n",
       "  <thead>\n",
       "    <tr style=\"text-align: right;\">\n",
       "      <th></th>\n",
       "      <th>country</th>\n",
       "      <th>continent</th>\n",
       "      <th>year</th>\n",
       "      <th>lifeExp</th>\n",
       "      <th>pop</th>\n",
       "      <th>gdpPercap</th>\n",
       "    </tr>\n",
       "  </thead>\n",
       "  <tbody>\n",
       "    <tr>\n",
       "      <th>0</th>\n",
       "      <td>Afghanistan</td>\n",
       "      <td>Asia</td>\n",
       "      <td>1952</td>\n",
       "      <td>28.801</td>\n",
       "      <td>8425333</td>\n",
       "      <td>779.445314</td>\n",
       "    </tr>\n",
       "    <tr>\n",
       "      <th>12</th>\n",
       "      <td>Albania</td>\n",
       "      <td>Europe</td>\n",
       "      <td>1952</td>\n",
       "      <td>55.230</td>\n",
       "      <td>1282697</td>\n",
       "      <td>1601.056136</td>\n",
       "    </tr>\n",
       "    <tr>\n",
       "      <th>24</th>\n",
       "      <td>Algeria</td>\n",
       "      <td>Africa</td>\n",
       "      <td>1952</td>\n",
       "      <td>43.077</td>\n",
       "      <td>9279525</td>\n",
       "      <td>2449.008185</td>\n",
       "    </tr>\n",
       "    <tr>\n",
       "      <th>36</th>\n",
       "      <td>Angola</td>\n",
       "      <td>Africa</td>\n",
       "      <td>1952</td>\n",
       "      <td>30.015</td>\n",
       "      <td>4232095</td>\n",
       "      <td>3520.610273</td>\n",
       "    </tr>\n",
       "    <tr>\n",
       "      <th>48</th>\n",
       "      <td>Argentina</td>\n",
       "      <td>Americas</td>\n",
       "      <td>1952</td>\n",
       "      <td>62.485</td>\n",
       "      <td>17876956</td>\n",
       "      <td>5911.315053</td>\n",
       "    </tr>\n",
       "  </tbody>\n",
       "</table>\n",
       "</div>"
      ],
      "text/plain": [
       "        country continent  year  lifeExp       pop    gdpPercap\n",
       "0   Afghanistan      Asia  1952   28.801   8425333   779.445314\n",
       "12      Albania    Europe  1952   55.230   1282697  1601.056136\n",
       "24      Algeria    Africa  1952   43.077   9279525  2449.008185\n",
       "36       Angola    Africa  1952   30.015   4232095  3520.610273\n",
       "48    Argentina  Americas  1952   62.485  17876956  5911.315053"
      ]
     },
     "execution_count": 6,
     "metadata": {},
     "output_type": "execute_result"
    }
   ],
   "source": [
    "y1952 = df.loc[df.year==1952,:]\n",
    "y1952.head()"
   ]
  },
  {
   "cell_type": "markdown",
   "id": "103a0e5f",
   "metadata": {},
   "source": [
    "**Step 3**: We peform a function on the subset data. \n",
    "\n",
    "Here we take the mean of the lifeExp"
   ]
  },
  {
   "cell_type": "code",
   "execution_count": 7,
   "id": "a11b847f",
   "metadata": {},
   "outputs": [
    {
     "data": {
      "text/plain": [
       "49.057619718309866"
      ]
     },
     "execution_count": 7,
     "metadata": {},
     "output_type": "execute_result"
    }
   ],
   "source": [
    "y1952_mean = y1952.lifeExp.mean()\n",
    "y1952_mean"
   ]
  },
  {
   "cell_type": "markdown",
   "id": "de8e2568",
   "metadata": {},
   "source": [
    "The groupby statement essentially repeats the process for every year column\n",
    "\n",
    "**Methods and functions that can be used with groupby:**\n",
    "\n",
    "**count**- frequency count not including NaN values\n",
    "\n",
    "**size**- frequency count with NaN values\n",
    "\n",
    "**mean-** Mean of the values\n",
    "\n",
    "**std -** Sample Standard Deviation\n",
    "\n",
    "**min -** Minimum values\n",
    "\n",
    "**quantile (q = 0.25)** - 25th Percentile of the values\n",
    "\n",
    "**quantile ( q = 0.50)** - 50th Percentile of the values\n",
    "\n",
    "**quantile ( q - 0.75)** - 75th Percentile of the values\n",
    "\n",
    "**max** - Maximum value\n",
    "\n",
    "**sum**- sum of the values\n",
    "\n",
    "**var** - Unbiased variance\n",
    "\n",
    "**sem** - Unbiased standard error of the mean\n",
    "\n",
    "**describe** - Count mean, standard deviation, minimum, 25%, 50%, 75% and maximum\n",
    "\n",
    "**first** - Returns the first row\n",
    "\n",
    "**last** - Returns the last row\n",
    "\n",
    "**nth** - Returns the nth row ( Python starts counting from 0)\n",
    "\n",
    "The agg method in groupby expects either a dictionary with column names as keys and aggregation functions as values or a list of tuples with column names and corresponding aggregation functions."
   ]
  },
  {
   "cell_type": "markdown",
   "id": "fbaab5a1",
   "metadata": {},
   "source": [
    "### Built in Aggregate Functions\n",
    "As described above, we can use built in aggregate functions eg."
   ]
  },
  {
   "cell_type": "code",
   "execution_count": 8,
   "id": "f1e19450",
   "metadata": {},
   "outputs": [
    {
     "data": {
      "text/html": [
       "<div>\n",
       "<style scoped>\n",
       "    .dataframe tbody tr th:only-of-type {\n",
       "        vertical-align: middle;\n",
       "    }\n",
       "\n",
       "    .dataframe tbody tr th {\n",
       "        vertical-align: top;\n",
       "    }\n",
       "\n",
       "    .dataframe thead th {\n",
       "        text-align: right;\n",
       "    }\n",
       "</style>\n",
       "<table border=\"1\" class=\"dataframe\">\n",
       "  <thead>\n",
       "    <tr style=\"text-align: right;\">\n",
       "      <th></th>\n",
       "      <th>count</th>\n",
       "      <th>mean</th>\n",
       "      <th>std</th>\n",
       "      <th>min</th>\n",
       "      <th>25%</th>\n",
       "      <th>50%</th>\n",
       "      <th>75%</th>\n",
       "      <th>max</th>\n",
       "    </tr>\n",
       "    <tr>\n",
       "      <th>continent</th>\n",
       "      <th></th>\n",
       "      <th></th>\n",
       "      <th></th>\n",
       "      <th></th>\n",
       "      <th></th>\n",
       "      <th></th>\n",
       "      <th></th>\n",
       "      <th></th>\n",
       "    </tr>\n",
       "  </thead>\n",
       "  <tbody>\n",
       "    <tr>\n",
       "      <th>Africa</th>\n",
       "      <td>624.0</td>\n",
       "      <td>48.865330</td>\n",
       "      <td>9.150210</td>\n",
       "      <td>23.599</td>\n",
       "      <td>42.37250</td>\n",
       "      <td>47.7920</td>\n",
       "      <td>54.41150</td>\n",
       "      <td>76.442</td>\n",
       "    </tr>\n",
       "    <tr>\n",
       "      <th>Americas</th>\n",
       "      <td>300.0</td>\n",
       "      <td>64.658737</td>\n",
       "      <td>9.345088</td>\n",
       "      <td>37.579</td>\n",
       "      <td>58.41000</td>\n",
       "      <td>67.0480</td>\n",
       "      <td>71.69950</td>\n",
       "      <td>80.653</td>\n",
       "    </tr>\n",
       "    <tr>\n",
       "      <th>Asia</th>\n",
       "      <td>396.0</td>\n",
       "      <td>60.064903</td>\n",
       "      <td>11.864532</td>\n",
       "      <td>28.801</td>\n",
       "      <td>51.42625</td>\n",
       "      <td>61.7915</td>\n",
       "      <td>69.50525</td>\n",
       "      <td>82.603</td>\n",
       "    </tr>\n",
       "    <tr>\n",
       "      <th>Europe</th>\n",
       "      <td>360.0</td>\n",
       "      <td>71.903686</td>\n",
       "      <td>5.433178</td>\n",
       "      <td>43.585</td>\n",
       "      <td>69.57000</td>\n",
       "      <td>72.2410</td>\n",
       "      <td>75.45050</td>\n",
       "      <td>81.757</td>\n",
       "    </tr>\n",
       "    <tr>\n",
       "      <th>Oceania</th>\n",
       "      <td>24.0</td>\n",
       "      <td>74.326208</td>\n",
       "      <td>3.795611</td>\n",
       "      <td>69.120</td>\n",
       "      <td>71.20500</td>\n",
       "      <td>73.6650</td>\n",
       "      <td>77.55250</td>\n",
       "      <td>81.235</td>\n",
       "    </tr>\n",
       "  </tbody>\n",
       "</table>\n",
       "</div>"
      ],
      "text/plain": [
       "           count       mean        std     min       25%      50%       75%  \\\n",
       "continent                                                                     \n",
       "Africa     624.0  48.865330   9.150210  23.599  42.37250  47.7920  54.41150   \n",
       "Americas   300.0  64.658737   9.345088  37.579  58.41000  67.0480  71.69950   \n",
       "Asia       396.0  60.064903  11.864532  28.801  51.42625  61.7915  69.50525   \n",
       "Europe     360.0  71.903686   5.433178  43.585  69.57000  72.2410  75.45050   \n",
       "Oceania     24.0  74.326208   3.795611  69.120  71.20500  73.6650  77.55250   \n",
       "\n",
       "              max  \n",
       "continent          \n",
       "Africa     76.442  \n",
       "Americas   80.653  \n",
       "Asia       82.603  \n",
       "Europe     81.757  \n",
       "Oceania    81.235  "
      ]
     },
     "execution_count": 8,
     "metadata": {},
     "output_type": "execute_result"
    }
   ],
   "source": [
    "# group by continent and describe each group\n",
    "continent_describe = df.groupby('continent').lifeExp.describe()\n",
    "continent_describe"
   ]
  },
  {
   "cell_type": "markdown",
   "id": "5668b842",
   "metadata": {},
   "source": [
    "### Aggregate Functions\n",
    "Instead of directly calling the aggregation method, you can call the **agg** or **aggregate** method and pass the aggregation function. \n",
    "You have to use functions defined in numpy"
   ]
  },
  {
   "cell_type": "code",
   "execution_count": 9,
   "id": "2c649402",
   "metadata": {},
   "outputs": [
    {
     "data": {
      "text/plain": [
       "continent\n",
       "Africa      48.865330\n",
       "Americas    64.658737\n",
       "Asia        60.064903\n",
       "Europe      71.903686\n",
       "Oceania     74.326208\n",
       "Name: lifeExp, dtype: float64"
      ]
     },
     "execution_count": 9,
     "metadata": {},
     "output_type": "execute_result"
    }
   ],
   "source": [
    "import numpy as  np\n",
    "cont_le_agg = df.groupby('continent').lifeExp.agg(np.mean)\n",
    "cont_le_agg"
   ]
  },
  {
   "cell_type": "markdown",
   "id": "319e75b1",
   "metadata": {},
   "source": [
    "### Custom User Functions\n",
    "\n",
    "Sometimes, we want to write out own function. Lets create our own mean function"
   ]
  },
  {
   "cell_type": "code",
   "execution_count": 10,
   "id": "fb7df868",
   "metadata": {},
   "outputs": [
    {
     "data": {
      "text/plain": [
       "year\n",
       "1952    49.057620\n",
       "1957    51.507401\n",
       "1962    53.609249\n",
       "1967    55.678290\n",
       "1972    57.647386\n",
       "1977    59.570157\n",
       "1982    61.533197\n",
       "1987    63.212613\n",
       "1992    64.160338\n",
       "1997    65.014676\n",
       "2002    65.694923\n",
       "2007    67.007423\n",
       "Name: lifeExp, dtype: float64"
      ]
     },
     "execution_count": 10,
     "metadata": {},
     "output_type": "execute_result"
    }
   ],
   "source": [
    "def my_mean(values):\n",
    "    \"\"\"My Version of Calculating an mean\n",
    "    \"\"\"\n",
    "    # get the total number of numbers for the denominator\n",
    "    n = len(values)\n",
    "    \n",
    "    #start the sum at 0\n",
    "    sum = 0\n",
    "    for value in values:\n",
    "        # add each value to the running sum\n",
    "        sum +=value\n",
    "        \n",
    "    # return the summed values divided by the number of values\n",
    "    return(sum/n)\n",
    "\n",
    "agg_my_mean = df.groupby('year').lifeExp.agg(my_mean)\n",
    "agg_my_mean"
   ]
  },
  {
   "cell_type": "markdown",
   "id": "9e520320",
   "metadata": {},
   "source": [
    "### Functions that take multiple parameters\n",
    "\n",
    "In this case we will calculate the global average for average life expectancy, diff_value and subtract it from each grouped value"
   ]
  },
  {
   "cell_type": "code",
   "execution_count": 11,
   "id": "3cf999aa",
   "metadata": {},
   "outputs": [
    {
     "data": {
      "text/plain": [
       "59.474439366197174"
      ]
     },
     "execution_count": 11,
     "metadata": {},
     "output_type": "execute_result"
    }
   ],
   "source": [
    "def my_mean_diff(values,diff_value):\n",
    "    \"\"\"My Version of Calculating an mean\n",
    "    \"\"\"\n",
    "    # get the total number of numbers for the denominator\n",
    "    n = len(values)\n",
    "    \n",
    "    #start the sum at 0\n",
    "    sum = 0\n",
    "    for value in values:\n",
    "        # add each value to the running sum\n",
    "        sum +=value\n",
    "    mean = sum/n\n",
    "    return(mean-diff_value)\n",
    "\n",
    "# calculate the global  average life expectancy mean\n",
    "global_mean = df.lifeExp.mean()\n",
    "global_mean"
   ]
  },
  {
   "cell_type": "code",
   "execution_count": 12,
   "id": "a699d27f",
   "metadata": {},
   "outputs": [
    {
     "data": {
      "text/plain": [
       "year\n",
       "1952   -10.416820\n",
       "1957    -7.967038\n",
       "1962    -5.865190\n",
       "1967    -3.796150\n",
       "1972    -1.827053\n",
       "1977     0.095718\n",
       "1982     2.058758\n",
       "1987     3.738173\n",
       "1992     4.685899\n",
       "1997     5.540237\n",
       "2002     6.220483\n",
       "2007     7.532983\n",
       "Name: lifeExp, dtype: float64"
      ]
     },
     "execution_count": 12,
     "metadata": {},
     "output_type": "execute_result"
    }
   ],
   "source": [
    "# custom aggregation function with multiple parameters\n",
    "agg_mean_diff = df.groupby('year').lifeExp.agg(my_mean_diff,diff_value=global_mean)\n",
    "agg_mean_diff"
   ]
  },
  {
   "cell_type": "markdown",
   "id": "4a908112",
   "metadata": {},
   "source": [
    "### Multiple Functions Simulataneously"
   ]
  },
  {
   "cell_type": "code",
   "execution_count": 13,
   "id": "9a0ec5db",
   "metadata": {},
   "outputs": [
    {
     "data": {
      "text/html": [
       "<div>\n",
       "<style scoped>\n",
       "    .dataframe tbody tr th:only-of-type {\n",
       "        vertical-align: middle;\n",
       "    }\n",
       "\n",
       "    .dataframe tbody tr th {\n",
       "        vertical-align: top;\n",
       "    }\n",
       "\n",
       "    .dataframe thead th {\n",
       "        text-align: right;\n",
       "    }\n",
       "</style>\n",
       "<table border=\"1\" class=\"dataframe\">\n",
       "  <thead>\n",
       "    <tr style=\"text-align: right;\">\n",
       "      <th></th>\n",
       "      <th>count_nonzero</th>\n",
       "      <th>mean</th>\n",
       "      <th>std</th>\n",
       "    </tr>\n",
       "    <tr>\n",
       "      <th>year</th>\n",
       "      <th></th>\n",
       "      <th></th>\n",
       "      <th></th>\n",
       "    </tr>\n",
       "  </thead>\n",
       "  <tbody>\n",
       "    <tr>\n",
       "      <th>1952</th>\n",
       "      <td>142</td>\n",
       "      <td>49.057620</td>\n",
       "      <td>12.225956</td>\n",
       "    </tr>\n",
       "    <tr>\n",
       "      <th>1957</th>\n",
       "      <td>142</td>\n",
       "      <td>51.507401</td>\n",
       "      <td>12.231286</td>\n",
       "    </tr>\n",
       "    <tr>\n",
       "      <th>1962</th>\n",
       "      <td>142</td>\n",
       "      <td>53.609249</td>\n",
       "      <td>12.097245</td>\n",
       "    </tr>\n",
       "    <tr>\n",
       "      <th>1967</th>\n",
       "      <td>142</td>\n",
       "      <td>55.678290</td>\n",
       "      <td>11.718858</td>\n",
       "    </tr>\n",
       "    <tr>\n",
       "      <th>1972</th>\n",
       "      <td>142</td>\n",
       "      <td>57.647386</td>\n",
       "      <td>11.381953</td>\n",
       "    </tr>\n",
       "  </tbody>\n",
       "</table>\n",
       "</div>"
      ],
      "text/plain": [
       "      count_nonzero       mean        std\n",
       "year                                     \n",
       "1952            142  49.057620  12.225956\n",
       "1957            142  51.507401  12.231286\n",
       "1962            142  53.609249  12.097245\n",
       "1967            142  55.678290  11.718858\n",
       "1972            142  57.647386  11.381953"
      ]
     },
     "execution_count": 13,
     "metadata": {},
     "output_type": "execute_result"
    }
   ],
   "source": [
    "# Calculate the count,mean,std of the lifeExp by continent\n",
    "gdf = df.groupby('year').lifeExp.agg([np.count_nonzero,np.mean,np.std])\n",
    "gdf.head()"
   ]
  },
  {
   "cell_type": "markdown",
   "id": "9de4490e",
   "metadata": {},
   "source": [
    "### Using a dict in agg/aggregate"
   ]
  },
  {
   "cell_type": "code",
   "execution_count": 14,
   "id": "ab9d5220",
   "metadata": {},
   "outputs": [
    {
     "data": {
      "text/html": [
       "<div>\n",
       "<style scoped>\n",
       "    .dataframe tbody tr th:only-of-type {\n",
       "        vertical-align: middle;\n",
       "    }\n",
       "\n",
       "    .dataframe tbody tr th {\n",
       "        vertical-align: top;\n",
       "    }\n",
       "\n",
       "    .dataframe thead th {\n",
       "        text-align: right;\n",
       "    }\n",
       "</style>\n",
       "<table border=\"1\" class=\"dataframe\">\n",
       "  <thead>\n",
       "    <tr style=\"text-align: right;\">\n",
       "      <th></th>\n",
       "      <th>lifeExp</th>\n",
       "      <th>pop</th>\n",
       "      <th>gdpPercap</th>\n",
       "    </tr>\n",
       "    <tr>\n",
       "      <th>year</th>\n",
       "      <th></th>\n",
       "      <th></th>\n",
       "      <th></th>\n",
       "    </tr>\n",
       "  </thead>\n",
       "  <tbody>\n",
       "    <tr>\n",
       "      <th>1952</th>\n",
       "      <td>49.057620</td>\n",
       "      <td>3943953.0</td>\n",
       "      <td>1968.528344</td>\n",
       "    </tr>\n",
       "    <tr>\n",
       "      <th>1957</th>\n",
       "      <td>51.507401</td>\n",
       "      <td>4282942.0</td>\n",
       "      <td>2173.220291</td>\n",
       "    </tr>\n",
       "    <tr>\n",
       "      <th>1962</th>\n",
       "      <td>53.609249</td>\n",
       "      <td>4686039.5</td>\n",
       "      <td>2335.439533</td>\n",
       "    </tr>\n",
       "    <tr>\n",
       "      <th>1967</th>\n",
       "      <td>55.678290</td>\n",
       "      <td>5170175.5</td>\n",
       "      <td>2678.334740</td>\n",
       "    </tr>\n",
       "    <tr>\n",
       "      <th>1972</th>\n",
       "      <td>57.647386</td>\n",
       "      <td>5877996.5</td>\n",
       "      <td>3339.129407</td>\n",
       "    </tr>\n",
       "  </tbody>\n",
       "</table>\n",
       "</div>"
      ],
      "text/plain": [
       "        lifeExp        pop    gdpPercap\n",
       "year                                   \n",
       "1952  49.057620  3943953.0  1968.528344\n",
       "1957  51.507401  4282942.0  2173.220291\n",
       "1962  53.609249  4686039.5  2335.439533\n",
       "1967  55.678290  5170175.5  2678.334740\n",
       "1972  57.647386  5877996.5  3339.129407"
      ]
     },
     "execution_count": 14,
     "metadata": {},
     "output_type": "execute_result"
    }
   ],
   "source": [
    "gdf_dict = df.groupby('year').agg({\n",
    "    'lifeExp':'mean',\n",
    "    'pop':'median',\n",
    "    'gdpPercap':'median'\n",
    "    \n",
    "})\n",
    "gdf_dict.head()"
   ]
  },
  {
   "cell_type": "markdown",
   "id": "ca759a71",
   "metadata": {},
   "source": [
    "### Renaming the column when multiple functions are applied to the same columns"
   ]
  },
  {
   "cell_type": "code",
   "execution_count": 15,
   "id": "98c81477",
   "metadata": {},
   "outputs": [
    {
     "data": {
      "text/html": [
       "<div>\n",
       "<style scoped>\n",
       "    .dataframe tbody tr th:only-of-type {\n",
       "        vertical-align: middle;\n",
       "    }\n",
       "\n",
       "    .dataframe tbody tr th {\n",
       "        vertical-align: top;\n",
       "    }\n",
       "\n",
       "    .dataframe thead th {\n",
       "        text-align: right;\n",
       "    }\n",
       "</style>\n",
       "<table border=\"1\" class=\"dataframe\">\n",
       "  <thead>\n",
       "    <tr style=\"text-align: right;\">\n",
       "      <th></th>\n",
       "      <th>year</th>\n",
       "      <th>count</th>\n",
       "      <th>avg</th>\n",
       "      <th>std_dev</th>\n",
       "    </tr>\n",
       "  </thead>\n",
       "  <tbody>\n",
       "    <tr>\n",
       "      <th>0</th>\n",
       "      <td>1952</td>\n",
       "      <td>142</td>\n",
       "      <td>49.057620</td>\n",
       "      <td>12.225956</td>\n",
       "    </tr>\n",
       "    <tr>\n",
       "      <th>1</th>\n",
       "      <td>1957</td>\n",
       "      <td>142</td>\n",
       "      <td>51.507401</td>\n",
       "      <td>12.231286</td>\n",
       "    </tr>\n",
       "    <tr>\n",
       "      <th>2</th>\n",
       "      <td>1962</td>\n",
       "      <td>142</td>\n",
       "      <td>53.609249</td>\n",
       "      <td>12.097245</td>\n",
       "    </tr>\n",
       "    <tr>\n",
       "      <th>3</th>\n",
       "      <td>1967</td>\n",
       "      <td>142</td>\n",
       "      <td>55.678290</td>\n",
       "      <td>11.718858</td>\n",
       "    </tr>\n",
       "    <tr>\n",
       "      <th>4</th>\n",
       "      <td>1972</td>\n",
       "      <td>142</td>\n",
       "      <td>57.647386</td>\n",
       "      <td>11.381953</td>\n",
       "    </tr>\n",
       "  </tbody>\n",
       "</table>\n",
       "</div>"
      ],
      "text/plain": [
       "   year  count        avg    std_dev\n",
       "0  1952    142  49.057620  12.225956\n",
       "1  1957    142  51.507401  12.231286\n",
       "2  1962    142  53.609249  12.097245\n",
       "3  1967    142  55.678290  11.718858\n",
       "4  1972    142  57.647386  11.381953"
      ]
     },
     "execution_count": 15,
     "metadata": {},
     "output_type": "execute_result"
    }
   ],
   "source": [
    "gdf = df.groupby('year')['lifeExp'].agg([np.count_nonzero,\n",
    "                                        np.mean,\n",
    "                                        np.std]).rename(columns={'count_nonzero':'count',\n",
    "                                                                'mean':'avg',\n",
    "                                                                'std':'std_dev'}).reset_index()\n",
    "gdf.head()"
   ]
  },
  {
   "cell_type": "markdown",
   "id": "d609dbb2",
   "metadata": {},
   "source": [
    "## Transform\n",
    "\n",
    "When we transform, we pass values from our dataframe into a function.\n",
    "\n",
    "The function then transforms the data.\n",
    "\n",
    "Unlike aggregate, which can take multiple values and returns a single ( aggregated ) value,\n",
    "\n",
    "transform takes multiple values and returns a one-to-one transformation of the values.\n",
    "\n",
    "That is it does not reduce the amount of data\n",
    "\n",
    "### z-Score Example\n",
    "\n",
    "Let's calculate the z-socre of our life expectancy data by year. The z-score identifies the number of std deviations from the mean of the data. It centers our data around 0 with a std dev of 1. Lets write a function to calculate the z-score"
   ]
  },
  {
   "cell_type": "code",
   "execution_count": 16,
   "id": "da6218d7",
   "metadata": {},
   "outputs": [
    {
     "data": {
      "text/plain": [
       "0      -1.656854\n",
       "1      -1.731249\n",
       "2      -1.786543\n",
       "3      -1.848157\n",
       "4      -1.894173\n",
       "          ...   \n",
       "1699   -0.081621\n",
       "1700   -0.336974\n",
       "1701   -1.574962\n",
       "1702   -2.093346\n",
       "1703   -1.948180\n",
       "Name: lifeExp, Length: 1704, dtype: float64"
      ]
     },
     "execution_count": 16,
     "metadata": {},
     "output_type": "execute_result"
    }
   ],
   "source": [
    "def my_zscore(x):\n",
    "    \"\"\"Calculates the z-score of provided data\n",
    "    'x' is a vector or a series of values\n",
    "    \"\"\"\n",
    "    return((x-x.mean())/x.std())\n",
    "\n",
    "transform_z = df.groupby('year').lifeExp.transform(my_zscore)\n",
    "transform_z"
   ]
  },
  {
   "cell_type": "code",
   "execution_count": 17,
   "id": "512c6033",
   "metadata": {},
   "outputs": [
    {
     "data": {
      "text/plain": [
       "(1704, 6)"
      ]
     },
     "execution_count": 17,
     "metadata": {},
     "output_type": "execute_result"
    }
   ],
   "source": [
    "df.shape"
   ]
  },
  {
   "cell_type": "code",
   "execution_count": 18,
   "id": "4968ffef",
   "metadata": {},
   "outputs": [
    {
     "data": {
      "text/plain": [
       "(1704,)"
      ]
     },
     "execution_count": 18,
     "metadata": {},
     "output_type": "execute_result"
    }
   ],
   "source": [
    "transform_z.shape"
   ]
  },
  {
   "cell_type": "markdown",
   "id": "c8068749",
   "metadata": {},
   "source": [
    "The scipy library has its own zscore function. Lets use the zscore function in a groupby transform, rather than in a groupby"
   ]
  },
  {
   "cell_type": "code",
   "execution_count": 19,
   "id": "56baa5dc",
   "metadata": {},
   "outputs": [],
   "source": [
    "from scipy.stats import zscore\n",
    "\n",
    "# Calculate a grouped zscore\n",
    "sp_z_grouped = df.groupby('year').lifeExp.transform(zscore)\n",
    "\n",
    "# Calculate a nongrouped zscore\n",
    "sp_z_nogroup = zscore(df.lifeExp)"
   ]
  },
  {
   "cell_type": "markdown",
   "id": "a8aaead3",
   "metadata": {},
   "source": [
    "Notice that not all of the zscore values are the same"
   ]
  },
  {
   "cell_type": "code",
   "execution_count": 20,
   "id": "1aedd66e",
   "metadata": {},
   "outputs": [
    {
     "data": {
      "text/plain": [
       "0   -1.656854\n",
       "1   -1.731249\n",
       "2   -1.786543\n",
       "3   -1.848157\n",
       "4   -1.894173\n",
       "Name: lifeExp, dtype: float64"
      ]
     },
     "execution_count": 20,
     "metadata": {},
     "output_type": "execute_result"
    }
   ],
   "source": [
    "#grouped z-socre\n",
    "transform_z.head()"
   ]
  },
  {
   "cell_type": "code",
   "execution_count": 21,
   "id": "0dd03110",
   "metadata": {},
   "outputs": [
    {
     "data": {
      "text/plain": [
       "0   -1.662719\n",
       "1   -1.737377\n",
       "2   -1.792867\n",
       "3   -1.854699\n",
       "4   -1.900878\n",
       "Name: lifeExp, dtype: float64"
      ]
     },
     "execution_count": 21,
     "metadata": {},
     "output_type": "execute_result"
    }
   ],
   "source": [
    "# grouped z-score using scipy\n",
    "sp_z_grouped.head()"
   ]
  },
  {
   "cell_type": "code",
   "execution_count": 22,
   "id": "c2785d8c",
   "metadata": {},
   "outputs": [
    {
     "data": {
      "text/plain": [
       "0   -2.375334\n",
       "1   -2.256774\n",
       "2   -2.127837\n",
       "3   -1.971178\n",
       "4   -1.811033\n",
       "Name: lifeExp, dtype: float64"
      ]
     },
     "execution_count": 22,
     "metadata": {},
     "output_type": "execute_result"
    }
   ],
   "source": [
    "# nongrouped z-score\n",
    "sp_z_nogroup[:5]"
   ]
  },
  {
   "cell_type": "markdown",
   "id": "882d3562",
   "metadata": {},
   "source": [
    "Our grouped results are similar. However, when we calculate the z-score outside the groupby, we get the z-score calculated on the entire data set, not broken out by group."
   ]
  },
  {
   "cell_type": "markdown",
   "id": "0e16fc86",
   "metadata": {},
   "source": [
    "### Missing Value Example\n",
    "\n",
    "We can fill in the missing data based on a particular group"
   ]
  },
  {
   "cell_type": "code",
   "execution_count": 23,
   "id": "987801e9",
   "metadata": {},
   "outputs": [
    {
     "data": {
      "text/html": [
       "<div>\n",
       "<style scoped>\n",
       "    .dataframe tbody tr th:only-of-type {\n",
       "        vertical-align: middle;\n",
       "    }\n",
       "\n",
       "    .dataframe tbody tr th {\n",
       "        vertical-align: top;\n",
       "    }\n",
       "\n",
       "    .dataframe thead th {\n",
       "        text-align: right;\n",
       "    }\n",
       "</style>\n",
       "<table border=\"1\" class=\"dataframe\">\n",
       "  <thead>\n",
       "    <tr style=\"text-align: right;\">\n",
       "      <th></th>\n",
       "      <th>total_bill</th>\n",
       "      <th>tip</th>\n",
       "      <th>sex</th>\n",
       "      <th>smoker</th>\n",
       "      <th>day</th>\n",
       "      <th>time</th>\n",
       "      <th>size</th>\n",
       "    </tr>\n",
       "  </thead>\n",
       "  <tbody>\n",
       "    <tr>\n",
       "      <th>24</th>\n",
       "      <td>19.82</td>\n",
       "      <td>3.18</td>\n",
       "      <td>Male</td>\n",
       "      <td>No</td>\n",
       "      <td>Sat</td>\n",
       "      <td>Dinner</td>\n",
       "      <td>2</td>\n",
       "    </tr>\n",
       "    <tr>\n",
       "      <th>6</th>\n",
       "      <td>8.77</td>\n",
       "      <td>2.00</td>\n",
       "      <td>Male</td>\n",
       "      <td>No</td>\n",
       "      <td>Sun</td>\n",
       "      <td>Dinner</td>\n",
       "      <td>2</td>\n",
       "    </tr>\n",
       "    <tr>\n",
       "      <th>153</th>\n",
       "      <td>NaN</td>\n",
       "      <td>2.00</td>\n",
       "      <td>Male</td>\n",
       "      <td>No</td>\n",
       "      <td>Sun</td>\n",
       "      <td>Dinner</td>\n",
       "      <td>4</td>\n",
       "    </tr>\n",
       "    <tr>\n",
       "      <th>211</th>\n",
       "      <td>NaN</td>\n",
       "      <td>5.16</td>\n",
       "      <td>Male</td>\n",
       "      <td>Yes</td>\n",
       "      <td>Sat</td>\n",
       "      <td>Dinner</td>\n",
       "      <td>4</td>\n",
       "    </tr>\n",
       "    <tr>\n",
       "      <th>198</th>\n",
       "      <td>NaN</td>\n",
       "      <td>2.00</td>\n",
       "      <td>Female</td>\n",
       "      <td>Yes</td>\n",
       "      <td>Thur</td>\n",
       "      <td>Lunch</td>\n",
       "      <td>2</td>\n",
       "    </tr>\n",
       "    <tr>\n",
       "      <th>176</th>\n",
       "      <td>NaN</td>\n",
       "      <td>2.00</td>\n",
       "      <td>Male</td>\n",
       "      <td>Yes</td>\n",
       "      <td>Sun</td>\n",
       "      <td>Dinner</td>\n",
       "      <td>2</td>\n",
       "    </tr>\n",
       "    <tr>\n",
       "      <th>192</th>\n",
       "      <td>28.44</td>\n",
       "      <td>2.56</td>\n",
       "      <td>Male</td>\n",
       "      <td>Yes</td>\n",
       "      <td>Thur</td>\n",
       "      <td>Lunch</td>\n",
       "      <td>2</td>\n",
       "    </tr>\n",
       "    <tr>\n",
       "      <th>124</th>\n",
       "      <td>12.48</td>\n",
       "      <td>2.52</td>\n",
       "      <td>Female</td>\n",
       "      <td>No</td>\n",
       "      <td>Thur</td>\n",
       "      <td>Lunch</td>\n",
       "      <td>2</td>\n",
       "    </tr>\n",
       "    <tr>\n",
       "      <th>9</th>\n",
       "      <td>14.78</td>\n",
       "      <td>3.23</td>\n",
       "      <td>Male</td>\n",
       "      <td>No</td>\n",
       "      <td>Sun</td>\n",
       "      <td>Dinner</td>\n",
       "      <td>2</td>\n",
       "    </tr>\n",
       "    <tr>\n",
       "      <th>101</th>\n",
       "      <td>15.38</td>\n",
       "      <td>3.00</td>\n",
       "      <td>Female</td>\n",
       "      <td>Yes</td>\n",
       "      <td>Fri</td>\n",
       "      <td>Dinner</td>\n",
       "      <td>2</td>\n",
       "    </tr>\n",
       "  </tbody>\n",
       "</table>\n",
       "</div>"
      ],
      "text/plain": [
       "     total_bill   tip     sex smoker   day    time  size\n",
       "24        19.82  3.18    Male     No   Sat  Dinner     2\n",
       "6          8.77  2.00    Male     No   Sun  Dinner     2\n",
       "153         NaN  2.00    Male     No   Sun  Dinner     4\n",
       "211         NaN  5.16    Male    Yes   Sat  Dinner     4\n",
       "198         NaN  2.00  Female    Yes  Thur   Lunch     2\n",
       "176         NaN  2.00    Male    Yes   Sun  Dinner     2\n",
       "192       28.44  2.56    Male    Yes  Thur   Lunch     2\n",
       "124       12.48  2.52  Female     No  Thur   Lunch     2\n",
       "9         14.78  3.23    Male     No   Sun  Dinner     2\n",
       "101       15.38  3.00  Female    Yes   Fri  Dinner     2"
      ]
     },
     "execution_count": 23,
     "metadata": {},
     "output_type": "execute_result"
    }
   ],
   "source": [
    "import seaborn as sns\n",
    "import numpy as np\n",
    "\n",
    "# set the seed so results are deterministic\n",
    "np.random.seed(42)\n",
    "\n",
    "# sample 10 rows from tips\n",
    "tips_10 = sns.load_dataset('tips').sample(10)\n",
    "\n",
    "# randomly pick 4 'total_bill' values and turn them into missing\n",
    "tips_10.loc[np.random.permutation(tips_10.index)[:4],'total_bill'] = np.NaN\n",
    "tips_10"
   ]
  },
  {
   "cell_type": "markdown",
   "id": "6b26f614",
   "metadata": {},
   "source": [
    "We can use the groupby statement to calculate a statistic to fill in missing value. Instead of using agg or aggregate, we use the transform method. First let's count the non-missing values by sex."
   ]
  },
  {
   "cell_type": "code",
   "execution_count": 24,
   "id": "56bc4412",
   "metadata": {},
   "outputs": [
    {
     "data": {
      "text/html": [
       "<div>\n",
       "<style scoped>\n",
       "    .dataframe tbody tr th:only-of-type {\n",
       "        vertical-align: middle;\n",
       "    }\n",
       "\n",
       "    .dataframe tbody tr th {\n",
       "        vertical-align: top;\n",
       "    }\n",
       "\n",
       "    .dataframe thead th {\n",
       "        text-align: right;\n",
       "    }\n",
       "</style>\n",
       "<table border=\"1\" class=\"dataframe\">\n",
       "  <thead>\n",
       "    <tr style=\"text-align: right;\">\n",
       "      <th></th>\n",
       "      <th>total_bill</th>\n",
       "      <th>tip</th>\n",
       "      <th>smoker</th>\n",
       "      <th>day</th>\n",
       "      <th>time</th>\n",
       "      <th>size</th>\n",
       "    </tr>\n",
       "    <tr>\n",
       "      <th>sex</th>\n",
       "      <th></th>\n",
       "      <th></th>\n",
       "      <th></th>\n",
       "      <th></th>\n",
       "      <th></th>\n",
       "      <th></th>\n",
       "    </tr>\n",
       "  </thead>\n",
       "  <tbody>\n",
       "    <tr>\n",
       "      <th>Male</th>\n",
       "      <td>4</td>\n",
       "      <td>7</td>\n",
       "      <td>7</td>\n",
       "      <td>7</td>\n",
       "      <td>7</td>\n",
       "      <td>7</td>\n",
       "    </tr>\n",
       "    <tr>\n",
       "      <th>Female</th>\n",
       "      <td>2</td>\n",
       "      <td>3</td>\n",
       "      <td>3</td>\n",
       "      <td>3</td>\n",
       "      <td>3</td>\n",
       "      <td>3</td>\n",
       "    </tr>\n",
       "  </tbody>\n",
       "</table>\n",
       "</div>"
      ],
      "text/plain": [
       "        total_bill  tip  smoker  day  time  size\n",
       "sex                                             \n",
       "Male             4    7       7    7     7     7\n",
       "Female           2    3       3    3     3     3"
      ]
     },
     "execution_count": 24,
     "metadata": {},
     "output_type": "execute_result"
    }
   ],
   "source": [
    "count_sex = tips_10.groupby('sex').count()\n",
    "count_sex"
   ]
  },
  {
   "cell_type": "markdown",
   "id": "9beba67a",
   "metadata": {},
   "source": [
    "We have three missing values for Male and one missing value for Female.Now let's calculate a grouped average and use the grouped average to fill in the missing values"
   ]
  },
  {
   "cell_type": "code",
   "execution_count": 25,
   "id": "fcd3b46f",
   "metadata": {},
   "outputs": [
    {
     "data": {
      "text/html": [
       "<div>\n",
       "<style scoped>\n",
       "    .dataframe tbody tr th:only-of-type {\n",
       "        vertical-align: middle;\n",
       "    }\n",
       "\n",
       "    .dataframe tbody tr th {\n",
       "        vertical-align: top;\n",
       "    }\n",
       "\n",
       "    .dataframe thead th {\n",
       "        text-align: right;\n",
       "    }\n",
       "</style>\n",
       "<table border=\"1\" class=\"dataframe\">\n",
       "  <thead>\n",
       "    <tr style=\"text-align: right;\">\n",
       "      <th></th>\n",
       "      <th>total_bill</th>\n",
       "      <th>tip</th>\n",
       "      <th>sex</th>\n",
       "      <th>smoker</th>\n",
       "      <th>day</th>\n",
       "      <th>time</th>\n",
       "      <th>size</th>\n",
       "      <th>fill_total_bill</th>\n",
       "    </tr>\n",
       "  </thead>\n",
       "  <tbody>\n",
       "    <tr>\n",
       "      <th>24</th>\n",
       "      <td>19.82</td>\n",
       "      <td>3.18</td>\n",
       "      <td>Male</td>\n",
       "      <td>No</td>\n",
       "      <td>Sat</td>\n",
       "      <td>Dinner</td>\n",
       "      <td>2</td>\n",
       "      <td>19.8200</td>\n",
       "    </tr>\n",
       "    <tr>\n",
       "      <th>6</th>\n",
       "      <td>8.77</td>\n",
       "      <td>2.00</td>\n",
       "      <td>Male</td>\n",
       "      <td>No</td>\n",
       "      <td>Sun</td>\n",
       "      <td>Dinner</td>\n",
       "      <td>2</td>\n",
       "      <td>8.7700</td>\n",
       "    </tr>\n",
       "    <tr>\n",
       "      <th>153</th>\n",
       "      <td>NaN</td>\n",
       "      <td>2.00</td>\n",
       "      <td>Male</td>\n",
       "      <td>No</td>\n",
       "      <td>Sun</td>\n",
       "      <td>Dinner</td>\n",
       "      <td>4</td>\n",
       "      <td>17.9525</td>\n",
       "    </tr>\n",
       "    <tr>\n",
       "      <th>211</th>\n",
       "      <td>NaN</td>\n",
       "      <td>5.16</td>\n",
       "      <td>Male</td>\n",
       "      <td>Yes</td>\n",
       "      <td>Sat</td>\n",
       "      <td>Dinner</td>\n",
       "      <td>4</td>\n",
       "      <td>17.9525</td>\n",
       "    </tr>\n",
       "    <tr>\n",
       "      <th>198</th>\n",
       "      <td>NaN</td>\n",
       "      <td>2.00</td>\n",
       "      <td>Female</td>\n",
       "      <td>Yes</td>\n",
       "      <td>Thur</td>\n",
       "      <td>Lunch</td>\n",
       "      <td>2</td>\n",
       "      <td>13.9300</td>\n",
       "    </tr>\n",
       "    <tr>\n",
       "      <th>176</th>\n",
       "      <td>NaN</td>\n",
       "      <td>2.00</td>\n",
       "      <td>Male</td>\n",
       "      <td>Yes</td>\n",
       "      <td>Sun</td>\n",
       "      <td>Dinner</td>\n",
       "      <td>2</td>\n",
       "      <td>17.9525</td>\n",
       "    </tr>\n",
       "    <tr>\n",
       "      <th>192</th>\n",
       "      <td>28.44</td>\n",
       "      <td>2.56</td>\n",
       "      <td>Male</td>\n",
       "      <td>Yes</td>\n",
       "      <td>Thur</td>\n",
       "      <td>Lunch</td>\n",
       "      <td>2</td>\n",
       "      <td>28.4400</td>\n",
       "    </tr>\n",
       "    <tr>\n",
       "      <th>124</th>\n",
       "      <td>12.48</td>\n",
       "      <td>2.52</td>\n",
       "      <td>Female</td>\n",
       "      <td>No</td>\n",
       "      <td>Thur</td>\n",
       "      <td>Lunch</td>\n",
       "      <td>2</td>\n",
       "      <td>12.4800</td>\n",
       "    </tr>\n",
       "    <tr>\n",
       "      <th>9</th>\n",
       "      <td>14.78</td>\n",
       "      <td>3.23</td>\n",
       "      <td>Male</td>\n",
       "      <td>No</td>\n",
       "      <td>Sun</td>\n",
       "      <td>Dinner</td>\n",
       "      <td>2</td>\n",
       "      <td>14.7800</td>\n",
       "    </tr>\n",
       "    <tr>\n",
       "      <th>101</th>\n",
       "      <td>15.38</td>\n",
       "      <td>3.00</td>\n",
       "      <td>Female</td>\n",
       "      <td>Yes</td>\n",
       "      <td>Fri</td>\n",
       "      <td>Dinner</td>\n",
       "      <td>2</td>\n",
       "      <td>15.3800</td>\n",
       "    </tr>\n",
       "  </tbody>\n",
       "</table>\n",
       "</div>"
      ],
      "text/plain": [
       "     total_bill   tip     sex smoker   day    time  size  fill_total_bill\n",
       "24        19.82  3.18    Male     No   Sat  Dinner     2          19.8200\n",
       "6          8.77  2.00    Male     No   Sun  Dinner     2           8.7700\n",
       "153         NaN  2.00    Male     No   Sun  Dinner     4          17.9525\n",
       "211         NaN  5.16    Male    Yes   Sat  Dinner     4          17.9525\n",
       "198         NaN  2.00  Female    Yes  Thur   Lunch     2          13.9300\n",
       "176         NaN  2.00    Male    Yes   Sun  Dinner     2          17.9525\n",
       "192       28.44  2.56    Male    Yes  Thur   Lunch     2          28.4400\n",
       "124       12.48  2.52  Female     No  Thur   Lunch     2          12.4800\n",
       "9         14.78  3.23    Male     No   Sun  Dinner     2          14.7800\n",
       "101       15.38  3.00  Female    Yes   Fri  Dinner     2          15.3800"
      ]
     },
     "execution_count": 25,
     "metadata": {},
     "output_type": "execute_result"
    }
   ],
   "source": [
    "def fill_na_mean(x):\n",
    "    \"\"\"Returns the average of a given vector\n",
    "    \"\"\"\n",
    "    avg = x.mean()\n",
    "    return(x.fillna(avg))\n",
    "\n",
    "# calculate a mean \"total_bill\" by 'sex'\n",
    "total_bill_group_mean = tips_10.groupby('sex').total_bill.transform(fill_na_mean)\n",
    "\n",
    "# assign to a new column in the original data\n",
    "# you can also replace the original column by using \"total_bill\"\n",
    "tips_10['fill_total_bill'] = total_bill_group_mean\n",
    "tips_10"
   ]
  },
  {
   "cell_type": "markdown",
   "id": "69065490",
   "metadata": {},
   "source": [
    "if we just look at the two total bill columns, we see that different values were filled in for the NaN missing values. "
   ]
  },
  {
   "cell_type": "code",
   "execution_count": 26,
   "id": "c4d08f43",
   "metadata": {},
   "outputs": [
    {
     "data": {
      "text/html": [
       "<div>\n",
       "<style scoped>\n",
       "    .dataframe tbody tr th:only-of-type {\n",
       "        vertical-align: middle;\n",
       "    }\n",
       "\n",
       "    .dataframe tbody tr th {\n",
       "        vertical-align: top;\n",
       "    }\n",
       "\n",
       "    .dataframe thead th {\n",
       "        text-align: right;\n",
       "    }\n",
       "</style>\n",
       "<table border=\"1\" class=\"dataframe\">\n",
       "  <thead>\n",
       "    <tr style=\"text-align: right;\">\n",
       "      <th></th>\n",
       "      <th>sex</th>\n",
       "      <th>total_bill</th>\n",
       "      <th>fill_total_bill</th>\n",
       "    </tr>\n",
       "  </thead>\n",
       "  <tbody>\n",
       "    <tr>\n",
       "      <th>24</th>\n",
       "      <td>Male</td>\n",
       "      <td>19.82</td>\n",
       "      <td>19.8200</td>\n",
       "    </tr>\n",
       "    <tr>\n",
       "      <th>6</th>\n",
       "      <td>Male</td>\n",
       "      <td>8.77</td>\n",
       "      <td>8.7700</td>\n",
       "    </tr>\n",
       "    <tr>\n",
       "      <th>153</th>\n",
       "      <td>Male</td>\n",
       "      <td>NaN</td>\n",
       "      <td>17.9525</td>\n",
       "    </tr>\n",
       "    <tr>\n",
       "      <th>211</th>\n",
       "      <td>Male</td>\n",
       "      <td>NaN</td>\n",
       "      <td>17.9525</td>\n",
       "    </tr>\n",
       "    <tr>\n",
       "      <th>198</th>\n",
       "      <td>Female</td>\n",
       "      <td>NaN</td>\n",
       "      <td>13.9300</td>\n",
       "    </tr>\n",
       "    <tr>\n",
       "      <th>176</th>\n",
       "      <td>Male</td>\n",
       "      <td>NaN</td>\n",
       "      <td>17.9525</td>\n",
       "    </tr>\n",
       "    <tr>\n",
       "      <th>192</th>\n",
       "      <td>Male</td>\n",
       "      <td>28.44</td>\n",
       "      <td>28.4400</td>\n",
       "    </tr>\n",
       "    <tr>\n",
       "      <th>124</th>\n",
       "      <td>Female</td>\n",
       "      <td>12.48</td>\n",
       "      <td>12.4800</td>\n",
       "    </tr>\n",
       "    <tr>\n",
       "      <th>9</th>\n",
       "      <td>Male</td>\n",
       "      <td>14.78</td>\n",
       "      <td>14.7800</td>\n",
       "    </tr>\n",
       "    <tr>\n",
       "      <th>101</th>\n",
       "      <td>Female</td>\n",
       "      <td>15.38</td>\n",
       "      <td>15.3800</td>\n",
       "    </tr>\n",
       "  </tbody>\n",
       "</table>\n",
       "</div>"
      ],
      "text/plain": [
       "        sex  total_bill  fill_total_bill\n",
       "24     Male       19.82          19.8200\n",
       "6      Male        8.77           8.7700\n",
       "153    Male         NaN          17.9525\n",
       "211    Male         NaN          17.9525\n",
       "198  Female         NaN          13.9300\n",
       "176    Male         NaN          17.9525\n",
       "192    Male       28.44          28.4400\n",
       "124  Female       12.48          12.4800\n",
       "9      Male       14.78          14.7800\n",
       "101  Female       15.38          15.3800"
      ]
     },
     "execution_count": 26,
     "metadata": {},
     "output_type": "execute_result"
    }
   ],
   "source": [
    "tips_10[['sex','total_bill','fill_total_bill']]"
   ]
  },
  {
   "cell_type": "markdown",
   "id": "ba45cfa5",
   "metadata": {},
   "source": [
    "# Filter\n",
    "This allows you to split your data by keys, and then perform some kind of boolean subsetting on the data."
   ]
  },
  {
   "cell_type": "code",
   "execution_count": 27,
   "id": "93a44a7e",
   "metadata": {},
   "outputs": [
    {
     "data": {
      "text/plain": [
       "(244, 7)"
      ]
     },
     "execution_count": 27,
     "metadata": {},
     "output_type": "execute_result"
    }
   ],
   "source": [
    "tips = sns.load_dataset('tips')\n",
    "tips.shape"
   ]
  },
  {
   "cell_type": "code",
   "execution_count": 28,
   "id": "837aebda",
   "metadata": {},
   "outputs": [
    {
     "data": {
      "text/plain": [
       "2    156\n",
       "3     38\n",
       "4     37\n",
       "5      5\n",
       "1      4\n",
       "6      4\n",
       "Name: size, dtype: int64"
      ]
     },
     "execution_count": 28,
     "metadata": {},
     "output_type": "execute_result"
    }
   ],
   "source": [
    "tips['size'].value_counts()"
   ]
  },
  {
   "cell_type": "markdown",
   "id": "c2057e5d",
   "metadata": {},
   "source": [
    "the output shows that table sizes of 1,5 and 6 are infrequent. Depending on your needs, you may want to filter those data points out. In this example we want each group to consist of 30 or more more observations\n",
    "\n",
    "To accomplish this goal, we can use the filter method on a grouped operation. "
   ]
  },
  {
   "cell_type": "code",
   "execution_count": 29,
   "id": "f02314e0",
   "metadata": {},
   "outputs": [
    {
     "data": {
      "text/plain": [
       "(231, 7)"
      ]
     },
     "execution_count": 29,
     "metadata": {},
     "output_type": "execute_result"
    }
   ],
   "source": [
    "tips_filtered = tips.groupby('size').filter(lambda x:x['size'].count() >=30)\n",
    "tips_filtered.shape"
   ]
  },
  {
   "cell_type": "code",
   "execution_count": 30,
   "id": "2e0c96c2",
   "metadata": {},
   "outputs": [
    {
     "data": {
      "text/plain": [
       "2    156\n",
       "3     38\n",
       "4     37\n",
       "Name: size, dtype: int64"
      ]
     },
     "execution_count": 30,
     "metadata": {},
     "output_type": "execute_result"
    }
   ],
   "source": [
    "tips_filtered['size'].value_counts()"
   ]
  },
  {
   "cell_type": "markdown",
   "id": "01cf910e",
   "metadata": {},
   "source": [
    "## The Pandas.core.groupby.DataFrameGroupBy OBject\n",
    "\n",
    "### Groups"
   ]
  },
  {
   "cell_type": "code",
   "execution_count": 31,
   "id": "28ec7f64",
   "metadata": {},
   "outputs": [
    {
     "data": {
      "text/html": [
       "<div>\n",
       "<style scoped>\n",
       "    .dataframe tbody tr th:only-of-type {\n",
       "        vertical-align: middle;\n",
       "    }\n",
       "\n",
       "    .dataframe tbody tr th {\n",
       "        vertical-align: top;\n",
       "    }\n",
       "\n",
       "    .dataframe thead th {\n",
       "        text-align: right;\n",
       "    }\n",
       "</style>\n",
       "<table border=\"1\" class=\"dataframe\">\n",
       "  <thead>\n",
       "    <tr style=\"text-align: right;\">\n",
       "      <th></th>\n",
       "      <th>total_bill</th>\n",
       "      <th>tip</th>\n",
       "      <th>sex</th>\n",
       "      <th>smoker</th>\n",
       "      <th>day</th>\n",
       "      <th>time</th>\n",
       "      <th>size</th>\n",
       "    </tr>\n",
       "  </thead>\n",
       "  <tbody>\n",
       "    <tr>\n",
       "      <th>24</th>\n",
       "      <td>19.82</td>\n",
       "      <td>3.18</td>\n",
       "      <td>Male</td>\n",
       "      <td>No</td>\n",
       "      <td>Sat</td>\n",
       "      <td>Dinner</td>\n",
       "      <td>2</td>\n",
       "    </tr>\n",
       "    <tr>\n",
       "      <th>6</th>\n",
       "      <td>8.77</td>\n",
       "      <td>2.00</td>\n",
       "      <td>Male</td>\n",
       "      <td>No</td>\n",
       "      <td>Sun</td>\n",
       "      <td>Dinner</td>\n",
       "      <td>2</td>\n",
       "    </tr>\n",
       "    <tr>\n",
       "      <th>153</th>\n",
       "      <td>24.55</td>\n",
       "      <td>2.00</td>\n",
       "      <td>Male</td>\n",
       "      <td>No</td>\n",
       "      <td>Sun</td>\n",
       "      <td>Dinner</td>\n",
       "      <td>4</td>\n",
       "    </tr>\n",
       "    <tr>\n",
       "      <th>211</th>\n",
       "      <td>25.89</td>\n",
       "      <td>5.16</td>\n",
       "      <td>Male</td>\n",
       "      <td>Yes</td>\n",
       "      <td>Sat</td>\n",
       "      <td>Dinner</td>\n",
       "      <td>4</td>\n",
       "    </tr>\n",
       "    <tr>\n",
       "      <th>198</th>\n",
       "      <td>13.00</td>\n",
       "      <td>2.00</td>\n",
       "      <td>Female</td>\n",
       "      <td>Yes</td>\n",
       "      <td>Thur</td>\n",
       "      <td>Lunch</td>\n",
       "      <td>2</td>\n",
       "    </tr>\n",
       "    <tr>\n",
       "      <th>176</th>\n",
       "      <td>17.89</td>\n",
       "      <td>2.00</td>\n",
       "      <td>Male</td>\n",
       "      <td>Yes</td>\n",
       "      <td>Sun</td>\n",
       "      <td>Dinner</td>\n",
       "      <td>2</td>\n",
       "    </tr>\n",
       "    <tr>\n",
       "      <th>192</th>\n",
       "      <td>28.44</td>\n",
       "      <td>2.56</td>\n",
       "      <td>Male</td>\n",
       "      <td>Yes</td>\n",
       "      <td>Thur</td>\n",
       "      <td>Lunch</td>\n",
       "      <td>2</td>\n",
       "    </tr>\n",
       "    <tr>\n",
       "      <th>124</th>\n",
       "      <td>12.48</td>\n",
       "      <td>2.52</td>\n",
       "      <td>Female</td>\n",
       "      <td>No</td>\n",
       "      <td>Thur</td>\n",
       "      <td>Lunch</td>\n",
       "      <td>2</td>\n",
       "    </tr>\n",
       "    <tr>\n",
       "      <th>9</th>\n",
       "      <td>14.78</td>\n",
       "      <td>3.23</td>\n",
       "      <td>Male</td>\n",
       "      <td>No</td>\n",
       "      <td>Sun</td>\n",
       "      <td>Dinner</td>\n",
       "      <td>2</td>\n",
       "    </tr>\n",
       "    <tr>\n",
       "      <th>101</th>\n",
       "      <td>15.38</td>\n",
       "      <td>3.00</td>\n",
       "      <td>Female</td>\n",
       "      <td>Yes</td>\n",
       "      <td>Fri</td>\n",
       "      <td>Dinner</td>\n",
       "      <td>2</td>\n",
       "    </tr>\n",
       "  </tbody>\n",
       "</table>\n",
       "</div>"
      ],
      "text/plain": [
       "     total_bill   tip     sex smoker   day    time  size\n",
       "24        19.82  3.18    Male     No   Sat  Dinner     2\n",
       "6          8.77  2.00    Male     No   Sun  Dinner     2\n",
       "153       24.55  2.00    Male     No   Sun  Dinner     4\n",
       "211       25.89  5.16    Male    Yes   Sat  Dinner     4\n",
       "198       13.00  2.00  Female    Yes  Thur   Lunch     2\n",
       "176       17.89  2.00    Male    Yes   Sun  Dinner     2\n",
       "192       28.44  2.56    Male    Yes  Thur   Lunch     2\n",
       "124       12.48  2.52  Female     No  Thur   Lunch     2\n",
       "9         14.78  3.23    Male     No   Sun  Dinner     2\n",
       "101       15.38  3.00  Female    Yes   Fri  Dinner     2"
      ]
     },
     "execution_count": 31,
     "metadata": {},
     "output_type": "execute_result"
    }
   ],
   "source": [
    "tips_10 = sns.load_dataset('tips').sample(10,random_state=42)\n",
    "tips_10"
   ]
  },
  {
   "cell_type": "markdown",
   "id": "4bc1f910",
   "metadata": {},
   "source": [
    "We can choose to save just the groupby object"
   ]
  },
  {
   "cell_type": "code",
   "execution_count": 32,
   "id": "17b4f366",
   "metadata": {},
   "outputs": [
    {
     "data": {
      "text/plain": [
       "<pandas.core.groupby.generic.DataFrameGroupBy object at 0x000001C73E895930>"
      ]
     },
     "execution_count": 32,
     "metadata": {},
     "output_type": "execute_result"
    }
   ],
   "source": [
    "grouped = tips_10.groupby('sex')\n",
    "grouped"
   ]
  },
  {
   "cell_type": "markdown",
   "id": "db8cb478",
   "metadata": {},
   "source": [
    "We just get back an object and its memory location. If we wanto to actualoly see the calculated groups, we can call the groups attribute"
   ]
  },
  {
   "cell_type": "code",
   "execution_count": 33,
   "id": "ae5c9b89",
   "metadata": {},
   "outputs": [
    {
     "data": {
      "text/plain": [
       "{'Male': [24, 6, 153, 211, 176, 192, 9], 'Female': [198, 124, 101]}"
      ]
     },
     "execution_count": 33,
     "metadata": {},
     "output_type": "execute_result"
    }
   ],
   "source": [
    "# See the actual groups of the groupby\n",
    "# it returns only the index\n",
    "grouped.groups"
   ]
  },
  {
   "cell_type": "markdown",
   "id": "fae4c0ef",
   "metadata": {},
   "source": [
    "Think of index as indicating the row numbers.\n",
    "This approach allows you to save just the grouped result. You would then perform the multiple aggrgate, transform or filter operations without having to process the groupby statement again. \n",
    "\n",
    "If we specify the calculation we want right after the groupby,however, Python will perform the calculation on all the columns it can, and silently dropthe rest"
   ]
  },
  {
   "cell_type": "code",
   "execution_count": 34,
   "id": "2df68393",
   "metadata": {},
   "outputs": [
    {
     "name": "stderr",
     "output_type": "stream",
     "text": [
      "C:\\Users\\asus\\AppData\\Local\\Temp\\ipykernel_16640\\2665069882.py:2: FutureWarning: The default value of numeric_only in DataFrameGroupBy.mean is deprecated. In a future version, numeric_only will default to False. Either specify numeric_only or select only columns which should be valid for the function.\n",
      "  avgs = grouped.mean()\n"
     ]
    },
    {
     "data": {
      "text/html": [
       "<div>\n",
       "<style scoped>\n",
       "    .dataframe tbody tr th:only-of-type {\n",
       "        vertical-align: middle;\n",
       "    }\n",
       "\n",
       "    .dataframe tbody tr th {\n",
       "        vertical-align: top;\n",
       "    }\n",
       "\n",
       "    .dataframe thead th {\n",
       "        text-align: right;\n",
       "    }\n",
       "</style>\n",
       "<table border=\"1\" class=\"dataframe\">\n",
       "  <thead>\n",
       "    <tr style=\"text-align: right;\">\n",
       "      <th></th>\n",
       "      <th>total_bill</th>\n",
       "      <th>tip</th>\n",
       "      <th>size</th>\n",
       "    </tr>\n",
       "    <tr>\n",
       "      <th>sex</th>\n",
       "      <th></th>\n",
       "      <th></th>\n",
       "      <th></th>\n",
       "    </tr>\n",
       "  </thead>\n",
       "  <tbody>\n",
       "    <tr>\n",
       "      <th>Male</th>\n",
       "      <td>20.02</td>\n",
       "      <td>2.875714</td>\n",
       "      <td>2.571429</td>\n",
       "    </tr>\n",
       "    <tr>\n",
       "      <th>Female</th>\n",
       "      <td>13.62</td>\n",
       "      <td>2.506667</td>\n",
       "      <td>2.000000</td>\n",
       "    </tr>\n",
       "  </tbody>\n",
       "</table>\n",
       "</div>"
      ],
      "text/plain": [
       "        total_bill       tip      size\n",
       "sex                                   \n",
       "Male         20.02  2.875714  2.571429\n",
       "Female       13.62  2.506667  2.000000"
      ]
     },
     "execution_count": 34,
     "metadata": {},
     "output_type": "execute_result"
    }
   ],
   "source": [
    "# calculate the mean on relevant columns\n",
    "avgs = grouped.mean()\n",
    "avgs"
   ]
  },
  {
   "cell_type": "markdown",
   "id": "ff041773",
   "metadata": {},
   "source": [
    "### Selecting a Group\n",
    "\n",
    "If we want to extract a particular group, we can use the get_group method, and pass the group that we want, eg. if we wanted the Female values"
   ]
  },
  {
   "cell_type": "code",
   "execution_count": 35,
   "id": "031a0d18",
   "metadata": {},
   "outputs": [
    {
     "data": {
      "text/html": [
       "<div>\n",
       "<style scoped>\n",
       "    .dataframe tbody tr th:only-of-type {\n",
       "        vertical-align: middle;\n",
       "    }\n",
       "\n",
       "    .dataframe tbody tr th {\n",
       "        vertical-align: top;\n",
       "    }\n",
       "\n",
       "    .dataframe thead th {\n",
       "        text-align: right;\n",
       "    }\n",
       "</style>\n",
       "<table border=\"1\" class=\"dataframe\">\n",
       "  <thead>\n",
       "    <tr style=\"text-align: right;\">\n",
       "      <th></th>\n",
       "      <th>total_bill</th>\n",
       "      <th>tip</th>\n",
       "      <th>sex</th>\n",
       "      <th>smoker</th>\n",
       "      <th>day</th>\n",
       "      <th>time</th>\n",
       "      <th>size</th>\n",
       "    </tr>\n",
       "  </thead>\n",
       "  <tbody>\n",
       "    <tr>\n",
       "      <th>198</th>\n",
       "      <td>13.00</td>\n",
       "      <td>2.00</td>\n",
       "      <td>Female</td>\n",
       "      <td>Yes</td>\n",
       "      <td>Thur</td>\n",
       "      <td>Lunch</td>\n",
       "      <td>2</td>\n",
       "    </tr>\n",
       "    <tr>\n",
       "      <th>124</th>\n",
       "      <td>12.48</td>\n",
       "      <td>2.52</td>\n",
       "      <td>Female</td>\n",
       "      <td>No</td>\n",
       "      <td>Thur</td>\n",
       "      <td>Lunch</td>\n",
       "      <td>2</td>\n",
       "    </tr>\n",
       "    <tr>\n",
       "      <th>101</th>\n",
       "      <td>15.38</td>\n",
       "      <td>3.00</td>\n",
       "      <td>Female</td>\n",
       "      <td>Yes</td>\n",
       "      <td>Fri</td>\n",
       "      <td>Dinner</td>\n",
       "      <td>2</td>\n",
       "    </tr>\n",
       "  </tbody>\n",
       "</table>\n",
       "</div>"
      ],
      "text/plain": [
       "     total_bill   tip     sex smoker   day    time  size\n",
       "198       13.00  2.00  Female    Yes  Thur   Lunch     2\n",
       "124       12.48  2.52  Female     No  Thur   Lunch     2\n",
       "101       15.38  3.00  Female    Yes   Fri  Dinner     2"
      ]
     },
     "execution_count": 35,
     "metadata": {},
     "output_type": "execute_result"
    }
   ],
   "source": [
    "# get the Female group\n",
    "female = grouped.get_group('Female')\n",
    "female"
   ]
  },
  {
   "cell_type": "markdown",
   "id": "ab213204",
   "metadata": {},
   "source": [
    "### Iterating through Groups"
   ]
  },
  {
   "cell_type": "code",
   "execution_count": null,
   "id": "75be296a",
   "metadata": {},
   "outputs": [],
   "source": []
  },
  {
   "cell_type": "markdown",
   "id": "33c9adc4",
   "metadata": {},
   "source": [
    "# Groupby Practice"
   ]
  },
  {
   "cell_type": "code",
   "execution_count": null,
   "id": "e8e86a56",
   "metadata": {},
   "outputs": [],
   "source": []
  },
  {
   "cell_type": "markdown",
   "id": "e36554b1",
   "metadata": {},
   "source": [
    "# Groupby Practice"
   ]
  },
  {
   "cell_type": "code",
   "execution_count": null,
   "id": "e238db68",
   "metadata": {},
   "outputs": [],
   "source": []
  },
  {
   "cell_type": "markdown",
   "id": "e86585c3",
   "metadata": {},
   "source": [
    "# Groupby Practice\n",
    "\n",
    "We can iterate through our grouped values just like any other container in Python using a for loop"
   ]
  },
  {
   "cell_type": "code",
   "execution_count": 36,
   "id": "52a45f4f",
   "metadata": {},
   "outputs": [
    {
     "name": "stdout",
     "output_type": "stream",
     "text": [
      "('Male',      total_bill   tip   sex smoker   day    time  size\n",
      "24        19.82  3.18  Male     No   Sat  Dinner     2\n",
      "6          8.77  2.00  Male     No   Sun  Dinner     2\n",
      "153       24.55  2.00  Male     No   Sun  Dinner     4\n",
      "211       25.89  5.16  Male    Yes   Sat  Dinner     4\n",
      "176       17.89  2.00  Male    Yes   Sun  Dinner     2\n",
      "192       28.44  2.56  Male    Yes  Thur   Lunch     2\n",
      "9         14.78  3.23  Male     No   Sun  Dinner     2)\n",
      "('Female',      total_bill   tip     sex smoker   day    time  size\n",
      "198       13.00  2.00  Female    Yes  Thur   Lunch     2\n",
      "124       12.48  2.52  Female     No  Thur   Lunch     2\n",
      "101       15.38  3.00  Female    Yes   Fri  Dinner     2)\n"
     ]
    }
   ],
   "source": [
    "for sex_group in grouped:\n",
    "    print(sex_group)"
   ]
  },
  {
   "cell_type": "markdown",
   "id": "d9d265f2",
   "metadata": {},
   "source": [
    "You can't get the first element by typing grouped[0].\n",
    "Lets modify the for loop to just show the first element, along with some of the things we get when we loop over the grouped object"
   ]
  },
  {
   "cell_type": "code",
   "execution_count": 45,
   "id": "698cf239",
   "metadata": {},
   "outputs": [
    {
     "name": "stdout",
     "output_type": "stream",
     "text": [
      "The type is <class 'tuple'>\n",
      "\n",
      "the length is:2\n",
      "\n",
      "the first element is:Male\n",
      "\n",
      "it has a type of :<class 'str'>\n",
      "\n",
      "the second element is:     total_bill   tip   sex smoker   day    time  size\n",
      "24        19.82  3.18  Male     No   Sat  Dinner     2\n",
      "6          8.77  2.00  Male     No   Sun  Dinner     2\n",
      "153       24.55  2.00  Male     No   Sun  Dinner     4\n",
      "211       25.89  5.16  Male    Yes   Sat  Dinner     4\n",
      "176       17.89  2.00  Male    Yes   Sun  Dinner     2\n",
      "192       28.44  2.56  Male    Yes  Thur   Lunch     2\n",
      "9         14.78  3.23  Male     No   Sun  Dinner     2\n",
      "\n",
      "it has a type of :<class 'pandas.core.frame.DataFrame'>\n",
      "\n",
      "what we have:\n",
      "('Male',      total_bill   tip   sex smoker   day    time  size\n",
      "24        19.82  3.18  Male     No   Sat  Dinner     2\n",
      "6          8.77  2.00  Male     No   Sun  Dinner     2\n",
      "153       24.55  2.00  Male     No   Sun  Dinner     4\n",
      "211       25.89  5.16  Male    Yes   Sat  Dinner     4\n",
      "176       17.89  2.00  Male    Yes   Sun  Dinner     2\n",
      "192       28.44  2.56  Male    Yes  Thur   Lunch     2\n",
      "9         14.78  3.23  Male     No   Sun  Dinner     2)\n"
     ]
    }
   ],
   "source": [
    "for sex_group in grouped:\n",
    "    # get the type of the object ( tuple)\n",
    "    print('The type is {}\\n'.format(type(sex_group)))\n",
    "    \n",
    "    # Get the length of the object ( 2 elements)\n",
    "    print('the length is:{}\\n'.format(len(sex_group)))\n",
    "    \n",
    "    # Get the first element\n",
    "    first_element = sex_group[0]\n",
    "    print('the first element is:{}\\n'.format(first_element))\n",
    "    \n",
    "    # the type of the first element ( string)\n",
    "    print('it has a type of :{}\\n'.format(type(first_element)))\n",
    "    \n",
    "    # Get the second element\n",
    "    second_element = sex_group[1]\n",
    "    print('the second element is:{}\\n'.format(second_element))\n",
    "    \n",
    "    # the type of the second element ( dataframe)\n",
    "    print('it has a type of :{}\\n'.format(type(second_element)))\n",
    "    \n",
    "    # print what we have\n",
    "    print('what we have:')\n",
    "    print(sex_group)    \n",
    "    \n",
    "    # stop after first iteration\n",
    "    break"
   ]
  },
  {
   "cell_type": "markdown",
   "id": "8e7a4613",
   "metadata": {},
   "source": [
    "We have a two-element tuple in which the first element is a str(string) that represents the Female key and the second element is a Datafrmae of the Female data\n",
    "\n",
    "You can forgo all the techniques introduced in this chapter and iterate through your grouped values in this mannaer to perform you calculations. "
   ]
  },
  {
   "cell_type": "markdown",
   "id": "de06eb5d",
   "metadata": {},
   "source": [
    "### Multiple Groups"
   ]
  },
  {
   "cell_type": "markdown",
   "id": "eea8ae31",
   "metadata": {},
   "source": [
    "We can add multiple variables during the groupby process."
   ]
  },
  {
   "cell_type": "code",
   "execution_count": 47,
   "id": "f890b158",
   "metadata": {},
   "outputs": [
    {
     "name": "stdout",
     "output_type": "stream",
     "text": [
      "               total_bill       tip      size\n",
      "sex    time                                  \n",
      "Male   Lunch    28.440000  2.560000  2.000000\n",
      "       Dinner   18.616667  2.928333  2.666667\n",
      "Female Lunch    12.740000  2.260000  2.000000\n",
      "       Dinner   15.380000  3.000000  2.000000\n"
     ]
    },
    {
     "name": "stderr",
     "output_type": "stream",
     "text": [
      "C:\\Users\\asus\\AppData\\Local\\Temp\\ipykernel_16640\\1921593068.py:4: FutureWarning: The default value of numeric_only in DataFrameGroupBy.mean is deprecated. In a future version, numeric_only will default to False. Either specify numeric_only or select only columns which should be valid for the function.\n",
      "  group_avg = bill_sex_time.mean()\n"
     ]
    }
   ],
   "source": [
    "# MEAN BY SEX AND TIME\n",
    "bill_sex_time = tips_10.groupby(['sex','time'])\n",
    "\n",
    "group_avg = bill_sex_time.mean()\n",
    "print(group_avg)"
   ]
  },
  {
   "cell_type": "markdown",
   "id": "33461720",
   "metadata": {},
   "source": [
    "### Flattening the results"
   ]
  },
  {
   "cell_type": "markdown",
   "id": "367c093e",
   "metadata": {},
   "source": [
    "Lets look at the type of the group_avg we just calculated"
   ]
  },
  {
   "cell_type": "code",
   "execution_count": 49,
   "id": "085b8889",
   "metadata": {},
   "outputs": [
    {
     "data": {
      "text/plain": [
       "pandas.core.frame.DataFrame"
      ]
     },
     "execution_count": 49,
     "metadata": {},
     "output_type": "execute_result"
    }
   ],
   "source": [
    "# type of the group_avg\n",
    "type(group_avg)"
   ]
  },
  {
   "cell_type": "markdown",
   "id": "3e173ca7",
   "metadata": {},
   "source": [
    "We have a DataFrame, but it is multiindexex, by sex and time. If we want a regular flat dataframe back, we can call the reset_index method on the results"
   ]
  },
  {
   "cell_type": "code",
   "execution_count": 50,
   "id": "16019e5a",
   "metadata": {},
   "outputs": [
    {
     "name": "stderr",
     "output_type": "stream",
     "text": [
      "C:\\Users\\asus\\AppData\\Local\\Temp\\ipykernel_16640\\582219596.py:1: FutureWarning: The default value of numeric_only in DataFrameGroupBy.mean is deprecated. In a future version, numeric_only will default to False. Either specify numeric_only or select only columns which should be valid for the function.\n",
      "  group_method = tips_10.groupby(['sex','time']).mean().reset_index()\n"
     ]
    },
    {
     "data": {
      "text/html": [
       "<div>\n",
       "<style scoped>\n",
       "    .dataframe tbody tr th:only-of-type {\n",
       "        vertical-align: middle;\n",
       "    }\n",
       "\n",
       "    .dataframe tbody tr th {\n",
       "        vertical-align: top;\n",
       "    }\n",
       "\n",
       "    .dataframe thead th {\n",
       "        text-align: right;\n",
       "    }\n",
       "</style>\n",
       "<table border=\"1\" class=\"dataframe\">\n",
       "  <thead>\n",
       "    <tr style=\"text-align: right;\">\n",
       "      <th></th>\n",
       "      <th>sex</th>\n",
       "      <th>time</th>\n",
       "      <th>total_bill</th>\n",
       "      <th>tip</th>\n",
       "      <th>size</th>\n",
       "    </tr>\n",
       "  </thead>\n",
       "  <tbody>\n",
       "    <tr>\n",
       "      <th>0</th>\n",
       "      <td>Male</td>\n",
       "      <td>Lunch</td>\n",
       "      <td>28.440000</td>\n",
       "      <td>2.560000</td>\n",
       "      <td>2.000000</td>\n",
       "    </tr>\n",
       "    <tr>\n",
       "      <th>1</th>\n",
       "      <td>Male</td>\n",
       "      <td>Dinner</td>\n",
       "      <td>18.616667</td>\n",
       "      <td>2.928333</td>\n",
       "      <td>2.666667</td>\n",
       "    </tr>\n",
       "    <tr>\n",
       "      <th>2</th>\n",
       "      <td>Female</td>\n",
       "      <td>Lunch</td>\n",
       "      <td>12.740000</td>\n",
       "      <td>2.260000</td>\n",
       "      <td>2.000000</td>\n",
       "    </tr>\n",
       "    <tr>\n",
       "      <th>3</th>\n",
       "      <td>Female</td>\n",
       "      <td>Dinner</td>\n",
       "      <td>15.380000</td>\n",
       "      <td>3.000000</td>\n",
       "      <td>2.000000</td>\n",
       "    </tr>\n",
       "  </tbody>\n",
       "</table>\n",
       "</div>"
      ],
      "text/plain": [
       "      sex    time  total_bill       tip      size\n",
       "0    Male   Lunch   28.440000  2.560000  2.000000\n",
       "1    Male  Dinner   18.616667  2.928333  2.666667\n",
       "2  Female   Lunch   12.740000  2.260000  2.000000\n",
       "3  Female  Dinner   15.380000  3.000000  2.000000"
      ]
     },
     "execution_count": 50,
     "metadata": {},
     "output_type": "execute_result"
    }
   ],
   "source": [
    "group_method = tips_10.groupby(['sex','time']).mean().reset_index()\n",
    "group_method"
   ]
  },
  {
   "cell_type": "markdown",
   "id": "273382c6",
   "metadata": {},
   "source": [
    "or we can use the as_index=False parameter in the groupby object "
   ]
  },
  {
   "cell_type": "code",
   "execution_count": 51,
   "id": "30ca5d81",
   "metadata": {},
   "outputs": [
    {
     "name": "stderr",
     "output_type": "stream",
     "text": [
      "C:\\Users\\asus\\AppData\\Local\\Temp\\ipykernel_16640\\2642870877.py:1: FutureWarning: The default value of numeric_only in DataFrameGroupBy.mean is deprecated. In a future version, numeric_only will default to False. Either specify numeric_only or select only columns which should be valid for the function.\n",
      "  group_param= tips_10.groupby(['sex','time'],as_index=False).mean()\n"
     ]
    },
    {
     "data": {
      "text/html": [
       "<div>\n",
       "<style scoped>\n",
       "    .dataframe tbody tr th:only-of-type {\n",
       "        vertical-align: middle;\n",
       "    }\n",
       "\n",
       "    .dataframe tbody tr th {\n",
       "        vertical-align: top;\n",
       "    }\n",
       "\n",
       "    .dataframe thead th {\n",
       "        text-align: right;\n",
       "    }\n",
       "</style>\n",
       "<table border=\"1\" class=\"dataframe\">\n",
       "  <thead>\n",
       "    <tr style=\"text-align: right;\">\n",
       "      <th></th>\n",
       "      <th>sex</th>\n",
       "      <th>time</th>\n",
       "      <th>total_bill</th>\n",
       "      <th>tip</th>\n",
       "      <th>size</th>\n",
       "    </tr>\n",
       "  </thead>\n",
       "  <tbody>\n",
       "    <tr>\n",
       "      <th>0</th>\n",
       "      <td>Male</td>\n",
       "      <td>Lunch</td>\n",
       "      <td>28.440000</td>\n",
       "      <td>2.560000</td>\n",
       "      <td>2.000000</td>\n",
       "    </tr>\n",
       "    <tr>\n",
       "      <th>1</th>\n",
       "      <td>Male</td>\n",
       "      <td>Dinner</td>\n",
       "      <td>18.616667</td>\n",
       "      <td>2.928333</td>\n",
       "      <td>2.666667</td>\n",
       "    </tr>\n",
       "    <tr>\n",
       "      <th>2</th>\n",
       "      <td>Female</td>\n",
       "      <td>Lunch</td>\n",
       "      <td>12.740000</td>\n",
       "      <td>2.260000</td>\n",
       "      <td>2.000000</td>\n",
       "    </tr>\n",
       "    <tr>\n",
       "      <th>3</th>\n",
       "      <td>Female</td>\n",
       "      <td>Dinner</td>\n",
       "      <td>15.380000</td>\n",
       "      <td>3.000000</td>\n",
       "      <td>2.000000</td>\n",
       "    </tr>\n",
       "  </tbody>\n",
       "</table>\n",
       "</div>"
      ],
      "text/plain": [
       "      sex    time  total_bill       tip      size\n",
       "0    Male   Lunch   28.440000  2.560000  2.000000\n",
       "1    Male  Dinner   18.616667  2.928333  2.666667\n",
       "2  Female   Lunch   12.740000  2.260000  2.000000\n",
       "3  Female  Dinner   15.380000  3.000000  2.000000"
      ]
     },
     "execution_count": 51,
     "metadata": {},
     "output_type": "execute_result"
    }
   ],
   "source": [
    "group_param= tips_10.groupby(['sex','time'],as_index=False).mean()\n",
    "group_param"
   ]
  },
  {
   "cell_type": "markdown",
   "id": "47700e87",
   "metadata": {},
   "source": [
    "## Working with a Multi index"
   ]
  },
  {
   "cell_type": "code",
   "execution_count": 52,
   "id": "38c48f25",
   "metadata": {},
   "outputs": [
    {
     "data": {
      "text/plain": [
       "(9434653, 6)"
      ]
     },
     "execution_count": 52,
     "metadata": {},
     "output_type": "execute_result"
    }
   ],
   "source": [
    "intv_df = pd.read_csv('epi_sim.txt')\n",
    "intv_df.shape"
   ]
  },
  {
   "cell_type": "code",
   "execution_count": 54,
   "id": "e81fb488",
   "metadata": {},
   "outputs": [
    {
     "data": {
      "text/html": [
       "<div>\n",
       "<style scoped>\n",
       "    .dataframe tbody tr th:only-of-type {\n",
       "        vertical-align: middle;\n",
       "    }\n",
       "\n",
       "    .dataframe tbody tr th {\n",
       "        vertical-align: top;\n",
       "    }\n",
       "\n",
       "    .dataframe thead th {\n",
       "        text-align: right;\n",
       "    }\n",
       "</style>\n",
       "<table border=\"1\" class=\"dataframe\">\n",
       "  <thead>\n",
       "    <tr style=\"text-align: right;\">\n",
       "      <th></th>\n",
       "      <th>ig_type</th>\n",
       "      <th>intervened</th>\n",
       "      <th>pid</th>\n",
       "      <th>rep</th>\n",
       "      <th>sid</th>\n",
       "      <th>tr</th>\n",
       "    </tr>\n",
       "  </thead>\n",
       "  <tbody>\n",
       "    <tr>\n",
       "      <th>0</th>\n",
       "      <td>3</td>\n",
       "      <td>40</td>\n",
       "      <td>294524448</td>\n",
       "      <td>1</td>\n",
       "      <td>201</td>\n",
       "      <td>0.000135</td>\n",
       "    </tr>\n",
       "    <tr>\n",
       "      <th>1</th>\n",
       "      <td>3</td>\n",
       "      <td>40</td>\n",
       "      <td>294571037</td>\n",
       "      <td>1</td>\n",
       "      <td>201</td>\n",
       "      <td>0.000135</td>\n",
       "    </tr>\n",
       "    <tr>\n",
       "      <th>2</th>\n",
       "      <td>3</td>\n",
       "      <td>40</td>\n",
       "      <td>290699504</td>\n",
       "      <td>1</td>\n",
       "      <td>201</td>\n",
       "      <td>0.000135</td>\n",
       "    </tr>\n",
       "    <tr>\n",
       "      <th>3</th>\n",
       "      <td>3</td>\n",
       "      <td>40</td>\n",
       "      <td>288354895</td>\n",
       "      <td>1</td>\n",
       "      <td>201</td>\n",
       "      <td>0.000135</td>\n",
       "    </tr>\n",
       "    <tr>\n",
       "      <th>4</th>\n",
       "      <td>3</td>\n",
       "      <td>40</td>\n",
       "      <td>292271290</td>\n",
       "      <td>1</td>\n",
       "      <td>201</td>\n",
       "      <td>0.000135</td>\n",
       "    </tr>\n",
       "  </tbody>\n",
       "</table>\n",
       "</div>"
      ],
      "text/plain": [
       "   ig_type  intervened        pid  rep  sid        tr\n",
       "0        3          40  294524448    1  201  0.000135\n",
       "1        3          40  294571037    1  201  0.000135\n",
       "2        3          40  290699504    1  201  0.000135\n",
       "3        3          40  288354895    1  201  0.000135\n",
       "4        3          40  292271290    1  201  0.000135"
      ]
     },
     "execution_count": 54,
     "metadata": {},
     "output_type": "execute_result"
    }
   ],
   "source": [
    "intv_df.head() #ig_type: edge tyoe, intervened: time in the simlation, pid, Simulated id number, rep: replication run, sid: Simulation id, tr: Transmissibility value of the influenza virus"
   ]
  },
  {
   "cell_type": "markdown",
   "id": "4d277732",
   "metadata": {},
   "source": [
    "Let's count the number of interventions for each replicate, intervention time and the treatment value. "
   ]
  },
  {
   "cell_type": "code",
   "execution_count": 55,
   "id": "93117ff4",
   "metadata": {},
   "outputs": [
    {
     "data": {
      "text/plain": [
       "rep  intervened  tr      \n",
       "0    8           0.000166    1\n",
       "     9           0.000152    3\n",
       "                 0.000166    1\n",
       "     10          0.000152    1\n",
       "                 0.000166    1\n",
       "Name: ig_type, dtype: int64"
      ]
     },
     "execution_count": 55,
     "metadata": {},
     "output_type": "execute_result"
    }
   ],
   "source": [
    "count_only = intv_df.groupby(['rep','intervened','tr'])['ig_type'].count()\n",
    "count_only.head()"
   ]
  },
  {
   "cell_type": "markdown",
   "id": "77a2d062",
   "metadata": {},
   "source": [
    "Now that we've done a groupby count, we can perform an additional groupby that calculates the average value.However, our intial groupby statement does not return a regular flat dataframe"
   ]
  },
  {
   "cell_type": "code",
   "execution_count": 56,
   "id": "c543d8a7",
   "metadata": {},
   "outputs": [
    {
     "data": {
      "text/plain": [
       "pandas.core.series.Series"
      ]
     },
     "execution_count": 56,
     "metadata": {},
     "output_type": "execute_result"
    }
   ],
   "source": [
    "type(count_only)"
   ]
  },
  {
   "cell_type": "markdown",
   "id": "175821ef",
   "metadata": {},
   "source": [
    "Instead, the results take the form of a multiindex series. Iw we want to do another groupby operation, we have to pass in the levels parameters to refer to the multi index levels. Here we pass in [0,1,2] for the first, second, and third index levels, respectively"
   ]
  },
  {
   "cell_type": "code",
   "execution_count": 57,
   "id": "fd275348",
   "metadata": {},
   "outputs": [
    {
     "data": {
      "text/plain": [
       "rep  intervened  tr      \n",
       "0    8           0.000166    1.0\n",
       "     9           0.000152    3.0\n",
       "                 0.000166    1.0\n",
       "     10          0.000152    1.0\n",
       "                 0.000166    1.0\n",
       "Name: ig_type, dtype: float64"
      ]
     },
     "execution_count": 57,
     "metadata": {},
     "output_type": "execute_result"
    }
   ],
   "source": [
    "count_mean = count_only.groupby(level=[0,1,2]).mean()\n",
    "count_mean.head()"
   ]
  },
  {
   "cell_type": "markdown",
   "id": "a3e82fb0",
   "metadata": {},
   "source": [
    "We can plot these results"
   ]
  },
  {
   "cell_type": "code",
   "execution_count": 58,
   "id": "0c4ba4ab",
   "metadata": {},
   "outputs": [],
   "source": [
    "import seaborn as sns\n",
    "import matplotlib.pyplot as plt"
   ]
  },
  {
   "cell_type": "code",
   "execution_count": 60,
   "id": "0142a89d",
   "metadata": {},
   "outputs": [
    {
     "data": {
      "image/png": "[encoded data removed]",
      "text/plain": [
       "<Figure size 1558.88x500 with 3 Axes>"
      ]
     },
     "metadata": {},
     "output_type": "display_data"
    }
   ],
   "source": [
    "fig = sns.lmplot(x='intervened',y='ig_type',hue='rep',col='tr',\n",
    "                fit_reg = False,data = count_mean.reset_index())\n",
    "plt.show()"
   ]
  },
  {
   "cell_type": "markdown",
   "id": "7f9eee40",
   "metadata": {},
   "source": [
    "Below we will be using cumsum for the cumulative sum. "
   ]
  },
  {
   "cell_type": "code",
   "execution_count": 61,
   "id": "02e57602",
   "metadata": {},
   "outputs": [],
   "source": [
    "cumulative_count = intv_df.groupby(['rep','intervened','tr'])['ig_type'].count().groupby(level=['rep']).cumsum().reset_index()"
   ]
  },
  {
   "cell_type": "code",
   "execution_count": 62,
   "id": "e447e660",
   "metadata": {},
   "outputs": [
    {
     "data": {
      "image/png": "[encoded data removed]",
      "text/plain": [
       "<Figure size 1558.88x500 with 3 Axes>"
      ]
     },
     "metadata": {},
     "output_type": "display_data"
    }
   ],
   "source": [
    "fig = sns.lmplot(x='intervened',y='ig_type',hue='rep',col='tr',\n",
    "                fit_reg = False,data = cumulative_count.reset_index())\n",
    "plt.show()"
   ]
  }
 ],
 "metadata": {
  "kernelspec": {
   "display_name": "Python 3 (ipykernel)",
   "language": "python",
   "name": "python3"
  },
  "language_info": {
   "codemirror_mode": {
    "name": "ipython",
    "version": 3
   },
   "file_extension": ".py",
   "mimetype": "text/x-python",
   "name": "python",
   "nbconvert_exporter": "python",
   "pygments_lexer": "ipython3",
   "version": "3.10.9"
  }
 },
 "nbformat": 4,
 "nbformat_minor": 5
}
