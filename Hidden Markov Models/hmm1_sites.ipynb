{
 "cells": [
  {
   "cell_type": "code",
   "execution_count": 2,
   "id": "1423a7ff",
   "metadata": {},
   "outputs": [],
   "source": [
    "import pandas as pd"
   ]
  },
  {
   "cell_type": "code",
   "execution_count": 15,
   "id": "2ff64f5a",
   "metadata": {},
   "outputs": [
    {
     "name": "stdout",
     "output_type": "stream",
     "text": [
      "Initial state distribution:\n",
      "   e  probability\n",
      "0  0     0.102992\n",
      "1  1     0.103495\n",
      "2  2     0.095085\n",
      "3  3     0.095135\n",
      "4  4     0.102438\n",
      "5  5     0.097804\n",
      "6  6     0.098006\n",
      "7  7     0.099718\n",
      "8  8     0.101481\n",
      "9  9     0.103848\n",
      "\n",
      "Bounce Rates for Each Page:\n",
      "     s  probability\n",
      "20   0     0.127967\n",
      "32   1     0.125940\n",
      "44   2     0.126496\n",
      "56   3     0.127434\n",
      "68   4     0.125576\n",
      "80   5     0.123696\n",
      "92   6     0.120815\n",
      "104  7     0.123717\n",
      "116  8     0.125296\n",
      "128  9     0.131762\n",
      "\n",
      "Page with the Highest Bounce Rate:\n",
      "Page: 9.0\n",
      "Bounce rate: 0.13176232104396302\n"
     ]
    }
   ],
   "source": [
    "# Note: The column names are assumed as 's' (start) and 'e' (end)\n",
    "csv_df=pd.read_csv('site_data.csv')\n",
    "csv_df.columns = ['s', 'e']\n",
    "\n",
    "# Calculating the transitions using groupby and count\n",
    "transitions_df = csv_df.groupby(['s', 'e']).size().reset_index(name='count')\n",
    "\n",
    "# Normalizing the counts to get probabilities (preserving the current behavior)\n",
    "transitions_df['probability'] = transitions_df.groupby('s', group_keys=False)['count'].apply(lambda x: x / x.sum())\n",
    "\n",
    "# Initial state distribution\n",
    "initial_state_dist = transitions_df[transitions_df['s'] == -1][['e', 'probability']]\n",
    "\n",
    "# Bounce rate calculation (assuming 'B' as the bounce state)\n",
    "bounce_rates = transitions_df[transitions_df['e'] == 'B'][['s', 'probability']]\n",
    "\n",
    "# Finding the page with the highest bounce rate\n",
    "max_bounce_page = bounce_rates.loc[bounce_rates['probability'].idxmax()]\n",
    "\n",
    "print(\"Initial state distribution:\")\n",
    "print(initial_state_dist)\n",
    "print(\"\\nBounce Rates for Each Page:\")\n",
    "print(bounce_rates)\n",
    "print(\"\\nPage with the Highest Bounce Rate:\")\n",
    "print(\"Page:\", max_bounce_page['s'])\n",
    "print(\"Bounce rate:\", max_bounce_page['probability'])\n"
   ]
  },
  {
   "cell_type": "code",
   "execution_count": null,
   "id": "d13e0f2d",
   "metadata": {},
   "outputs": [],
   "source": []
  }
 ],
 "metadata": {
  "kernelspec": {
   "display_name": "Python 3 (ipykernel)",
   "language": "python",
   "name": "python3"
  },
  "language_info": {
   "codemirror_mode": {
    "name": "ipython",
    "version": 3
   },
   "file_extension": ".py",
   "mimetype": "text/x-python",
   "name": "python",
   "nbconvert_exporter": "python",
   "pygments_lexer": "ipython3",
   "version": "3.11.4"
  }
 },
 "nbformat": 4,
 "nbformat_minor": 5
}
