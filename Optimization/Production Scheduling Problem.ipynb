{
 "cells": [
  {
   "cell_type": "markdown",
   "id": "23a672ac",
   "metadata": {},
   "source": [
    "See the Problem Here: https://myoptimizationnotes.blogspot.com/2024/01/production-scheduling-problem.html "
   ]
  },
  {
   "cell_type": "code",
   "execution_count": 4,
   "id": "be1b8ed0",
   "metadata": {},
   "outputs": [],
   "source": [
    "from pulp import *"
   ]
  },
  {
   "cell_type": "code",
   "execution_count": 5,
   "id": "9dd2930a",
   "metadata": {},
   "outputs": [],
   "source": [
    "# Create a problem variable\n",
    "prob = pulp.LpProblem('production_scheduling',LpMinimize)"
   ]
  },
  {
   "cell_type": "code",
   "execution_count": 6,
   "id": "1f157ba2",
   "metadata": {},
   "outputs": [],
   "source": [
    "x11=pulp.LpVariable('x11',lowBound=0,cat='Continuous')\n",
    "x12=pulp.LpVariable('x12',lowBound=0,cat='Continuous')\n",
    "x13=pulp.LpVariable('x13',lowBound=0,cat='Continuous')\n",
    "x21=pulp.LpVariable('x21',lowBound=0,cat='Continuous')\n",
    "x22=pulp.LpVariable('x22',lowBound=0,cat='Continuous')\n",
    "x23=pulp.LpVariable('x23',lowBound=0,cat='Continuous')\n",
    "s11=pulp.LpVariable('s11',lowBound=0,cat='Continuous')\n",
    "s12=pulp.LpVariable('s12',lowBound=0,cat='Continuous')\n",
    "s13=pulp.LpVariable('s13',lowBound=0,cat='Continuous')\n",
    "s21=pulp.LpVariable('s21',lowBound=0,cat='Continuous')\n",
    "s22=pulp.LpVariable('s22',lowBound=0,cat='Continuous')\n",
    "s23=pulp.LpVariable('s23',lowBound=0,cat='Continuous')\n",
    "I1=pulp.LpVariable('I1',lowBound=0,cat='Continuous')\n",
    "I2=pulp.LpVariable('I2',lowBound=0,cat='Continuous')\n",
    "I3=pulp.LpVariable('I3',lowBound=0,cat='Continuous')\n",
    "D1=pulp.LpVariable('D1',lowBound=0,cat='Continuous')\n",
    "D2=pulp.LpVariable('D2',lowBound=0,cat='Continuous')\n",
    "D3=pulp.LpVariable('D3',lowBound=0,cat='Continuous')\n",
    "\n",
    "variables = []\n",
    "# should assign different names\n",
    "# Take care of the case of lowBound"
   ]
  },
  {
   "cell_type": "code",
   "execution_count": 7,
   "id": "1fd38417",
   "metadata": {},
   "outputs": [],
   "source": [
    "# Objective function\n",
    "prob += 20*x11+20*x12+20*x13+10*x21+10*x22+10*x23+0.30*s11+0.30*s12+0.30*s13+0.15*s21+0.15*s22+0.15*s23+0.50*I1+0.50*I2+0.50*I3+0.20*D1+0.20*D2+0.20*D3, \"Total Costs\""
   ]
  },
  {
   "cell_type": "code",
   "execution_count": 11,
   "id": "efb2e085",
   "metadata": {},
   "outputs": [],
   "source": [
    "# Constraints\n",
    "prob += x11-s11==500\n",
    "prob += x21-s21==800\n",
    "prob += s11+x12-s12==3000\n",
    "prob += s21+x22-s22==500\n",
    "prob += s12+x13-s13==5000\n",
    "prob += s22+x23-s23==3000\n",
    "prob += s13>=400\n",
    "prob += s23>=200\n",
    "prob += 0.10*x11+0.08*x21<=400\n",
    "prob += 0.10*x12+0.08*x22<=500\n",
    "prob += 0.10*x13+0.08*x23<=600\n",
    "prob += 0.05*x11+0.07*x21<=300\n",
    "prob += 0.05*x12+0.07*x22<=300\n",
    "prob += 0.05*x13+0.07*x23<=300\n",
    "prob += 2*s11+3*s21<=10000\n",
    "prob += 2*s12+3*s22<=10000\n",
    "prob += 2*s13+3*s23<=10000\n",
    "prob += x11+x21-I1+D1==2500\n",
    "prob += -x11-x21+x12+x22-I2+D2==0\n",
    "prob += -x12-x22+x13+x23-I3+D3==0"
   ]
  },
  {
   "cell_type": "code",
   "execution_count": 12,
   "id": "b8f69629",
   "metadata": {},
   "outputs": [
    {
     "data": {
      "text/plain": [
       "1"
      ]
     },
     "execution_count": 12,
     "metadata": {},
     "output_type": "execute_result"
    }
   ],
   "source": [
    "# Solve the problem\n",
    "prob.solve()"
   ]
  },
  {
   "cell_type": "code",
   "execution_count": 13,
   "id": "59a2936a",
   "metadata": {},
   "outputs": [
    {
     "name": "stdout",
     "output_type": "stream",
     "text": [
      "D1 = 0.0\n",
      "D2 = 0.0\n",
      "D3 = 0.0\n",
      "I1 = 500.0\n",
      "I2 = 2200.0\n",
      "I3 = 0.0\n",
      "s11 = 0.0\n",
      "s12 = 200.0\n",
      "s13 = 400.0\n",
      "s21 = 1700.0\n",
      "s22 = 3200.0\n",
      "s23 = 200.0\n",
      "x11 = 500.0\n",
      "x12 = 3200.0\n",
      "x13 = 5200.0\n",
      "x21 = 2500.0\n",
      "x22 = 2000.0\n",
      "x23 = 0.0\n"
     ]
    }
   ],
   "source": [
    "# Each of the variables is printed with it's resolved optimum value\n",
    "for v in prob.variables():\n",
    "    print(v.name, \"=\", v.varValue)"
   ]
  },
  {
   "cell_type": "code",
   "execution_count": null,
   "id": "653ea52b",
   "metadata": {},
   "outputs": [],
   "source": []
  }
 ],
 "metadata": {
  "kernelspec": {
   "display_name": "Python 3 (ipykernel)",
   "language": "python",
   "name": "python3"
  },
  "language_info": {
   "codemirror_mode": {
    "name": "ipython",
    "version": 3
   },
   "file_extension": ".py",
   "mimetype": "text/x-python",
   "name": "python",
   "nbconvert_exporter": "python",
   "pygments_lexer": "ipython3",
   "version": "3.11.4"
  }
 },
 "nbformat": 4,
 "nbformat_minor": 5
}
