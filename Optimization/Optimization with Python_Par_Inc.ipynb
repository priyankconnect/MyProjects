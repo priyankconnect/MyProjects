{
 "cells": [
  {
   "cell_type": "markdown",
   "id": "510bdea5",
   "metadata": {},
   "source": [
    " Problem:\n",
    "\n",
    "Par Inc. is a small manufacturer of gold equipment and supplies whose management has decided to move into the market for medium and high priced golf bags. Par's distributor is enthusiastic about the new product line and has agreed to buy all the golf bags Par produces over the next three months. \n",
    "\n",
    "After a thorough investigation of the steps involved in manufacturing a golf bag, management determined that each golf bag produced will require the following operations:\n",
    "\n",
    "1. Cutting and Dyeing the material\n",
    "\n",
    "2. Sewing \n",
    "\n",
    "3. Finishing \n",
    "\n",
    "4. Inspection and Packaging\n",
    "\n",
    "The director of manufacturing analysed each of the operations and concluded that if the company produces a medium priced standard model, each bag will require 7/10 hours in the cutting and dyeing department, 1/2 hour in the sewing department, 1 hour in the finishing department and 1/10 hours in the inspection and packaging department. The more expensive deluxe model will require 1 hour for cutting and dyeing, 5/6 hours for sewing, 2/3 hours for finishing, and 1/4 hours for inspection and packaging.\n",
    "\n",
    "Par's production is constrained by a limited number of hours available in each department. After studying departmental workload projections, the director of manufacturing estimates that 630 hours for cutting, 600 hours for sewing, 708 hours for finishing and 135 hours for inspection and packaging will be available for the production of golf bags during the next three months. \n",
    "\n",
    "The accounting department analyzed the production data, assigned all relevant variable costs, and arrived at prices for both bags that will result in a profit contribution of $10 for every standard bag and $9 for every deluxe bag produced. "
   ]
  },
  {
   "cell_type": "markdown",
   "id": "fe718ed2",
   "metadata": {},
   "source": [
    "See the Approach here at https://myoptimizationnotes.blogspot.com/2024/01/solving-linear-programming-problem.html "
   ]
  },
  {
   "cell_type": "code",
   "execution_count": 3,
   "id": "ee0a6f50",
   "metadata": {},
   "outputs": [],
   "source": [
    "#! pip install pulp"
   ]
  },
  {
   "cell_type": "code",
   "execution_count": 5,
   "id": "1feb4afc",
   "metadata": {},
   "outputs": [],
   "source": [
    "import pulp"
   ]
  },
  {
   "cell_type": "code",
   "execution_count": 6,
   "id": "cb0d1d9a",
   "metadata": {},
   "outputs": [],
   "source": [
    "# Create a problem variable\n",
    "prob = pulp.LpProblem(\"Par_Inc_Golf_Bags\", pulp.LpMaximize)"
   ]
  },
  {
   "cell_type": "code",
   "execution_count": 7,
   "id": "a4d03770",
   "metadata": {},
   "outputs": [],
   "source": [
    "# Decision variables\n",
    "x = pulp.LpVariable(\"Standard_Bags\", lowBound=0, cat='Continuous')\n",
    "y = pulp.LpVariable(\"Deluxe_Bags\", lowBound=0, cat='Continuous')"
   ]
  },
  {
   "cell_type": "code",
   "execution_count": 8,
   "id": "fddac6c0",
   "metadata": {},
   "outputs": [],
   "source": [
    "# Objective function\n",
    "prob += 10 * x + 9 * y, \"Total Profit\""
   ]
  },
  {
   "cell_type": "code",
   "execution_count": 9,
   "id": "571bfa14",
   "metadata": {},
   "outputs": [],
   "source": [
    "# Constraints\n",
    "prob += 0.7 * x + 1 * y <= 630, \"Cutting_Dyeing\"\n",
    "prob += 0.5 * x + 5/6 * y <= 600, \"Sewing\"\n",
    "prob += 1 * x + 2/3 * y <= 708, \"Finishing\"\n",
    "prob += 0.1 * x + 0.25 * y <= 135, \"Inspection_Packaging\""
   ]
  },
  {
   "cell_type": "code",
   "execution_count": 10,
   "id": "21526760",
   "metadata": {},
   "outputs": [
    {
     "data": {
      "text/plain": [
       "1"
      ]
     },
     "execution_count": 10,
     "metadata": {},
     "output_type": "execute_result"
    }
   ],
   "source": [
    "# Solve the problem\n",
    "prob.solve()"
   ]
  },
  {
   "cell_type": "code",
   "execution_count": 11,
   "id": "cff53c5d",
   "metadata": {},
   "outputs": [
    {
     "name": "stdout",
     "output_type": "stream",
     "text": [
      "Produce 540.0 Standard bags\n",
      "Produce 252.0 Deluxe bags\n",
      "Total Profit: $7668.0\n"
     ]
    }
   ],
   "source": [
    "# Print the results\n",
    "print(\"Produce {} Standard bags\".format(x.varValue))\n",
    "print(\"Produce {} Deluxe bags\".format(y.varValue))\n",
    "print(\"Total Profit: ${}\".format(pulp.value(prob.objective)))\n"
   ]
  },
  {
   "cell_type": "code",
   "execution_count": null,
   "id": "6f0fba29",
   "metadata": {},
   "outputs": [],
   "source": []
  }
 ],
 "metadata": {
  "kernelspec": {
   "display_name": "Python 3 (ipykernel)",
   "language": "python",
   "name": "python3"
  },
  "language_info": {
   "codemirror_mode": {
    "name": "ipython",
    "version": 3
   },
   "file_extension": ".py",
   "mimetype": "text/x-python",
   "name": "python",
   "nbconvert_exporter": "python",
   "pygments_lexer": "ipython3",
   "version": "3.11.4"
  }
 },
 "nbformat": 4,
 "nbformat_minor": 5
}
