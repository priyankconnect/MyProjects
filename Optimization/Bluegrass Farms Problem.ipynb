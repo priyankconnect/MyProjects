{
 "cells": [
  {
   "attachments": {
    "image-2.png": {
     "image/png": "[encoded data removed]"
    }
   },
   "cell_type": "markdown",
   "id": "5dfda042",
   "metadata": {},
   "source": [
    "![image-2.png](attachment:image-2.png)"
   ]
  },
  {
   "cell_type": "markdown",
   "id": "04e1a6d4",
   "metadata": {},
   "source": [
    " Bluegrass Farms,has been experimenting with a special diet for its racehorces. the feed component available are standard, enriched and Additive.Each pound of Standard feed component for example has 0.8  units of A, 1 unit of B and 0.1 unit of C. \n",
    " \n",
    " The min daily diet requirements for each house are 3 units of ingredient A , 6 unit of ingredient B and 4 unit of ingredient C. \n",
    " \n",
    "To control the weight of the horses , the total daily feed should not exceed 6 pounds.\n",
    "\n",
    "Bluegrass Farms would like to determine the min cost mix that will satisfy the daily diet requirement\n",
    "\n",
    "Let  S, E and A are the feedcomponents"
   ]
  },
  {
   "cell_type": "code",
   "execution_count": 35,
   "id": "2fd0a143",
   "metadata": {},
   "outputs": [],
   "source": [
    "import pulp"
   ]
  },
  {
   "cell_type": "code",
   "execution_count": 36,
   "id": "5079f857",
   "metadata": {},
   "outputs": [],
   "source": [
    "# Create a problem variable\n",
    "prob = pulp.LpProblem(\"Bluegrass_Farms\", pulp.LpMinimize) # spaces not permissible"
   ]
  },
  {
   "cell_type": "code",
   "execution_count": 37,
   "id": "d2e84141",
   "metadata": {},
   "outputs": [],
   "source": [
    "# Decision variables\n",
    "x = pulp.LpVariable(\"S\", lowBound=0, cat='Continuous')\n",
    "y = pulp.LpVariable(\"E\", lowBound=0, cat='Continuous')\n",
    "z = pulp.LpVariable(\"A\", lowBound=0, cat='Continuous') # should assign different names"
   ]
  },
  {
   "cell_type": "code",
   "execution_count": 38,
   "id": "ad188916",
   "metadata": {},
   "outputs": [],
   "source": [
    "# Objective function\n",
    "prob += 0.25 * x + 0.50 * y+3*z, \"Total Cost\""
   ]
  },
  {
   "cell_type": "code",
   "execution_count": 39,
   "id": "a7a99fa9",
   "metadata": {},
   "outputs": [],
   "source": [
    "# Constraints\n",
    "prob += 0.8*x +0.2*y >= 3\n",
    "prob += 1*x+1.5*y+3*z >= 6\n",
    "prob += 0.1*x+0.6*y+2*z >= 4\n",
    "prob += x+y+z <=6\n",
    "prob += x >=0\n",
    "prob += y>=0\n",
    "prob += z>=0"
   ]
  },
  {
   "cell_type": "code",
   "execution_count": 40,
   "id": "68698ba1",
   "metadata": {},
   "outputs": [
    {
     "data": {
      "text/plain": [
       "1"
      ]
     },
     "execution_count": 40,
     "metadata": {},
     "output_type": "execute_result"
    }
   ],
   "source": [
    "# Solve the problem\n",
    "prob.solve()"
   ]
  },
  {
   "cell_type": "code",
   "execution_count": 51,
   "id": "140f51b3",
   "metadata": {},
   "outputs": [
    {
     "name": "stdout",
     "output_type": "stream",
     "text": [
      "We need 3.5135135 lbs S\n",
      "We Need 0.94594595 lbs E\n",
      "We Need 1.5405405 lbs A\n",
      "Total Cost is:5.97297285\n"
     ]
    }
   ],
   "source": [
    "# Print the results\n",
    "print(\"We need {} lbs S\".format(x.varValue))\n",
    "print(\"We Need {} lbs E\".format(y.varValue))\n",
    "print(\"We Need {} lbs A\".format(z.varValue))\n",
    "print(\"Total Cost is:{}\".format(pulp.value(prob.objective)))"
   ]
  }
 ],
 "metadata": {
  "kernelspec": {
   "display_name": "Python 3 (ipykernel)",
   "language": "python",
   "name": "python3"
  },
  "language_info": {
   "codemirror_mode": {
    "name": "ipython",
    "version": 3
   },
   "file_extension": ".py",
   "mimetype": "text/x-python",
   "name": "python",
   "nbconvert_exporter": "python",
   "pygments_lexer": "ipython3",
   "version": "3.11.4"
  }
 },
 "nbformat": 4,
 "nbformat_minor": 5
}
