{
 "cells": [
  {
   "cell_type": "markdown",
   "id": "30f8a26f",
   "metadata": {},
   "source": [
    "Welte is a company that wants to invest 100000 D. The following are opportunities with the projected rate of return available where they want to invest:\n",
    "\n",
    "Atlantic Oil: 7.3%\n",
    "Pacific Oil: 10.3%\n",
    "Midwest Steel: 6.4%\n",
    "Huber Steel: 7.5%\n",
    "Government Bonds: 4.5%\n",
    "The following are the guidelines imposed by Welte's Management\n",
    "\n",
    "Neither Industry ( Oil or steel) should receive more than 50000\n",
    "Governemnt bonds should be at least 25% of the steel industry investments\n",
    "The investment in Pacific Oil, cannot be mre than 60% of the total oil industry investment\n",
    "what portfolio recommendations should be made."
   ]
  },
  {
   "cell_type": "code",
   "execution_count": 51,
   "id": "be1b8ed0",
   "metadata": {},
   "outputs": [],
   "source": [
    "from pulp import *"
   ]
  },
  {
   "cell_type": "markdown",
   "id": "8618c67d",
   "metadata": {},
   "source": [
    "## Enter the Key Problem Data into Dictionaries"
   ]
  },
  {
   "cell_type": "code",
   "execution_count": 52,
   "id": "0b2c4674",
   "metadata": {},
   "outputs": [],
   "source": [
    "# Create a List of the Decision Variables\n",
    "#prob += 0.073 * x + 0.103 * y+ 0.064*z + 0.075*v + 0.045 *w, \"Total Investment\"\n",
    "Dsc_var=['A','P','M','H','G']\n",
    "\n",
    "obj_coff ={'A':0.073,\n",
    "          'P':0.103,\n",
    "          'M':0.064,\n",
    "          'H':0.075,\n",
    "          'G':0.045}\n",
    "\n",
    "Budget = {'A':1,\n",
    "          'P':1,\n",
    "          'M':1,\n",
    "          'H':1,\n",
    "          'G':1 }\n",
    "oil_ind_max ={'A':1,\n",
    "          'P':1,\n",
    "          'M':0,\n",
    "          'H':0,\n",
    "          'G':0 }\n",
    "Steel_ind_max={'A':0,\n",
    "          'P':0,\n",
    "          'M':1,\n",
    "          'H':1,\n",
    "          'G':0 }\n",
    "Bond_c={'A':0,\n",
    "          'P':0,\n",
    "          'M':-0.25,\n",
    "          'H':-0.25,\n",
    "          'G':1 }\n",
    "Pacific_c={'A':-0.60,\n",
    "          'P':0.40,\n",
    "          'M':0,\n",
    "          'H':0,\n",
    "          'G':0 }\n",
    "\n",
    "#prob += x+y+z+v+w ==100000\n",
    "#prob += x+y<=50000 # oil industry maximum\n",
    "#prob += z+v <=50000 # steel idustry maximum\n",
    "#prob += -0.25*z-0.25*v+w>=0  # G >=0.25(M+H)\n",
    "#prob += -0.60*x+0.40*y<=0 # P <=0.60(A+P)"
   ]
  },
  {
   "cell_type": "markdown",
   "id": "26bdf3ac",
   "metadata": {},
   "source": [
    "## Problem Variable: Change to LpMaximize or LpMinimize"
   ]
  },
  {
   "cell_type": "code",
   "execution_count": 53,
   "id": "9dd2930a",
   "metadata": {},
   "outputs": [],
   "source": [
    "# Create a problem variable\n",
    "prob = pulp.LpProblem('General',LpMaximize)"
   ]
  },
  {
   "cell_type": "code",
   "execution_count": 54,
   "id": "8436f613",
   "metadata": {},
   "outputs": [],
   "source": [
    "# A dictionary called 'desc_vars' is created to contain the referenced Variables\n",
    "desc_vars = LpVariable.dicts(\"dv\", Dsc_var, 0)"
   ]
  },
  {
   "cell_type": "code",
   "execution_count": 55,
   "id": "f5e18ef5",
   "metadata": {},
   "outputs": [],
   "source": [
    "# The objective function is added to 'prob' first\n",
    "prob += (\n",
    "    lpSum([obj_coff[i] * desc_vars[i] for i in Dsc_var]),\n",
    "    \"Total Cost of Ingredients per can\",)"
   ]
  },
  {
   "cell_type": "code",
   "execution_count": 56,
   "id": "f4842d35",
   "metadata": {},
   "outputs": [],
   "source": [
    "# The constraints are added to 'prob'\n",
    "prob += lpSum([desc_vars[i] for i in Dsc_var]) == 100000, \"Budget\"\n",
    "prob += (\n",
    "    lpSum([oil_ind_max[i] * desc_vars[i] for i in Dsc_var]) <= 50000,\n",
    "    \"Oil_ind_max\",\n",
    ")\n",
    "prob += (\n",
    "    lpSum([Steel_ind_max[i] * desc_vars[i] for i in Dsc_var]) <= 50000,\n",
    "    \"Steel_ind_max\",\n",
    ")\n",
    "prob += (\n",
    "    lpSum([Bond_c[i] * desc_vars[i] for i in Dsc_var]) >= 0,\n",
    "    \"Bond_c\",\n",
    ")\n",
    "prob += (\n",
    "    lpSum([Pacific_c[i] * desc_vars[i] for i in Dsc_var]) <= 0,\n",
    "    \"Pacific_c\",\n",
    ")"
   ]
  },
  {
   "cell_type": "code",
   "execution_count": 60,
   "id": "b8f69629",
   "metadata": {},
   "outputs": [
    {
     "data": {
      "text/plain": [
       "1"
      ]
     },
     "execution_count": 60,
     "metadata": {},
     "output_type": "execute_result"
    }
   ],
   "source": [
    "# Solve the problem\n",
    "prob.solve()"
   ]
  },
  {
   "cell_type": "code",
   "execution_count": 61,
   "id": "59a2936a",
   "metadata": {},
   "outputs": [
    {
     "name": "stdout",
     "output_type": "stream",
     "text": [
      "Status: Optimal\n"
     ]
    }
   ],
   "source": [
    "# The status of the solution is printed to the screen\n",
    "print(\"Status:\", LpStatus[prob.status])"
   ]
  },
  {
   "cell_type": "code",
   "execution_count": 62,
   "id": "653ea52b",
   "metadata": {},
   "outputs": [
    {
     "name": "stdout",
     "output_type": "stream",
     "text": [
      "dv_A = 20000.0\n",
      "dv_G = 10000.0\n",
      "dv_H = 40000.0\n",
      "dv_M = 0.0\n",
      "dv_P = 30000.0\n"
     ]
    }
   ],
   "source": [
    "# Each of the variables is printed with it's resolved optimum value\n",
    "for v in prob.variables():\n",
    "    print(v.name, \"=\", v.varValue)"
   ]
  },
  {
   "cell_type": "code",
   "execution_count": null,
   "id": "d73370a7",
   "metadata": {},
   "outputs": [],
   "source": []
  }
 ],
 "metadata": {
  "kernelspec": {
   "display_name": "Python 3 (ipykernel)",
   "language": "python",
   "name": "python3"
  },
  "language_info": {
   "codemirror_mode": {
    "name": "ipython",
    "version": 3
   },
   "file_extension": ".py",
   "mimetype": "text/x-python",
   "name": "python",
   "nbconvert_exporter": "python",
   "pygments_lexer": "ipython3",
   "version": "3.11.4"
  }
 },
 "nbformat": 4,
 "nbformat_minor": 5
}
