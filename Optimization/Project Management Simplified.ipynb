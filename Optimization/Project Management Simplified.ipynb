{
 "cells": [
  {
   "cell_type": "code",
   "execution_count": 1,
   "id": "2f67d5d3",
   "metadata": {},
   "outputs": [],
   "source": [
    "import networkx as nx\n",
    "\n",
    "# Create a directed graph\n",
    "G = nx.DiGraph()\n",
    "\n",
    "# Add nodes with task information. Nodes can be anything hashable.\n",
    "G.add_node(\"Task 1\", duration=5)\n",
    "G.add_node(\"Task 2\", duration=3)\n",
    "G.add_node(\"Task 3\", duration=2)\n",
    "G.add_node(\"Task 4\", duration=4)\n",
    "\n",
    "# Add edges to represent dependencies between tasks\n",
    "G.add_edge(\"Task 1\", \"Task 2\")\n",
    "G.add_edge(\"Task 1\", \"Task 3\")\n",
    "G.add_edge(\"Task 2\", \"Task 4\")\n",
    "G.add_edge(\"Task 3\", \"Task 4\")\n"
   ]
  },
  {
   "cell_type": "code",
   "execution_count": 2,
   "id": "89407d1b",
   "metadata": {},
   "outputs": [
    {
     "name": "stdout",
     "output_type": "stream",
     "text": [
      "Critical Path: ['Task 1', 'Task 2', 'Task 4'] with duration 2\n"
     ]
    }
   ],
   "source": [
    "# Calculate the critical path\n",
    "length, path = nx.algorithms.dag.dag_longest_path_length(G), nx.algorithms.dag.dag_longest_path(G)\n",
    "print(f\"Critical Path: {path} with duration {length}\")\n"
   ]
  },
  {
   "cell_type": "code",
   "execution_count": 3,
   "id": "079585db",
   "metadata": {},
   "outputs": [
    {
     "name": "stdout",
     "output_type": "stream",
     "text": [
      "Task Order: ['Task 1', 'Task 2', 'Task 3', 'Task 4']\n"
     ]
    }
   ],
   "source": [
    "# Get a list of tasks in a topologically sorted manner\n",
    "task_order = list(nx.topological_sort(G))\n",
    "print(f\"Task Order: {task_order}\")\n"
   ]
  },
  {
   "cell_type": "code",
   "execution_count": 9,
   "id": "78d43e8c",
   "metadata": {},
   "outputs": [],
   "source": [
    "# Adding a new task and its dependency\n",
    "G.add_node(\"Task 5\", duration=3)\n",
    "G.add_edge(\"Task 4\", \"Task 5\")\n",
    "\n",
    "# Removing a task and its dependencies\n",
    "# G.remove_node(\"Task 5\")\n"
   ]
  },
  {
   "cell_type": "code",
   "execution_count": null,
   "id": "e3c8442e",
   "metadata": {},
   "outputs": [],
   "source": []
  }
 ],
 "metadata": {
  "kernelspec": {
   "display_name": "Python 3 (ipykernel)",
   "language": "python",
   "name": "python3"
  },
  "language_info": {
   "codemirror_mode": {
    "name": "ipython",
    "version": 3
   },
   "file_extension": ".py",
   "mimetype": "text/x-python",
   "name": "python",
   "nbconvert_exporter": "python",
   "pygments_lexer": "ipython3",
   "version": "3.11.4"
  }
 },
 "nbformat": 4,
 "nbformat_minor": 5
}
