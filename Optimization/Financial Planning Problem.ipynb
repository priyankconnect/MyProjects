{
 "cells": [
  {
   "cell_type": "markdown",
   "id": "e6763132",
   "metadata": {},
   "source": [
    "Read the Problem Description here: https://myoptimizationnotes.blogspot.com/2024/01/hewlitt-financial-planning-problem.html"
   ]
  },
  {
   "cell_type": "code",
   "execution_count": 1,
   "id": "be1b8ed0",
   "metadata": {},
   "outputs": [],
   "source": [
    "from pulp import *"
   ]
  },
  {
   "cell_type": "code",
   "execution_count": 2,
   "id": "9dd2930a",
   "metadata": {},
   "outputs": [],
   "source": [
    "# Create a problem variable\n",
    "prob = pulp.LpProblem('Financial_Planning',LpMinimize)"
   ]
  },
  {
   "cell_type": "code",
   "execution_count": 3,
   "id": "1f157ba2",
   "metadata": {},
   "outputs": [],
   "source": [
    "# Decision variables\n",
    "# F=Total Dollars required to meet the retirement plan's eight-year obligation\n",
    "# B1= units of Bond 1 purchased at the beginning of year 1\n",
    "# B1= units of Bond 2 purchased at the beginning of year 1\n",
    "# B1= units of Bond 3 purchased at the beginning of year 1\n",
    "#Si = Amount placed in savings at the beginning of year i for i =1...8\n",
    "\n",
    "f = pulp.LpVariable(\"f\",lowBound=0,cat='Continuous')\n",
    "b1 = pulp.LpVariable('b1',lowBound=0,cat='Continuous')\n",
    "b2 = pulp.LpVariable('b2',lowBound=0,cat='Continuous')\n",
    "b3= pulp.LpVariable('b3',lowBound=0,cat='Continuous')\n",
    "s1= pulp.LpVariable('s1',lowBound=0,cat='Continuous')\n",
    "s2= pulp.LpVariable('s2',lowBound=0,cat='Continuous')\n",
    "s3= pulp.LpVariable('s3',lowBound=0,cat='Continuous')\n",
    "s4= pulp.LpVariable('s4',lowBound=0,cat='Continuous')\n",
    "s5= pulp.LpVariable('s5',lowBound=0,cat='Continuous')\n",
    "s6= pulp.LpVariable('s6',lowBound=0,cat='Continuous')\n",
    "s7= pulp.LpVariable('s7',lowBound=0,cat='Continuous')\n",
    "s8= pulp.LpVariable('s8',lowBound=0,cat='Continuous')\n",
    "variables = []\n",
    "# should assign different names\n",
    "# Take care of the case of lowBound"
   ]
  },
  {
   "cell_type": "code",
   "execution_count": 4,
   "id": "1fd38417",
   "metadata": {},
   "outputs": [],
   "source": [
    "# Objective function\n",
    "prob += f, \"Total Investment\""
   ]
  },
  {
   "cell_type": "code",
   "execution_count": 5,
   "id": "efb2e085",
   "metadata": {},
   "outputs": [],
   "source": [
    "# Constraints\n",
    "prob += f-1.15*b1-1*b2-1.35*b3-s1==430 # year1\n",
    "prob += 0.08875*b1+0.055*b2+0.1175*b3+1.04*s1-s2==210 # year2\n",
    "prob += 0.08875*b1+0.055*b2+0.1175*b3+1.04*s2-s3==222 # year3\n",
    "prob += 0.08875*b1+0.055*b2+0.1175*b3+1.04*s3-s4==231 # year4\n",
    "prob += 0.08875*b1+0.055*b2+0.1175*b3+1.04*s4-s5==240 # year5\n",
    "prob += 1.08875*b1+0.055*b2+0.1175*b3+1.04*s5-s6==195 # year6\n",
    "prob += 1.055*b2+0.1175*b3+1.04*s6-s7==195 # year6\n",
    "prob += 1.1175*b3+1.04*s7-s8==195 # year6"
   ]
  },
  {
   "cell_type": "code",
   "execution_count": 6,
   "id": "b8f69629",
   "metadata": {},
   "outputs": [
    {
     "data": {
      "text/plain": [
       "1"
      ]
     },
     "execution_count": 6,
     "metadata": {},
     "output_type": "execute_result"
    }
   ],
   "source": [
    "# Solve the problem\n",
    "prob.solve()"
   ]
  },
  {
   "cell_type": "code",
   "execution_count": 7,
   "id": "59a2936a",
   "metadata": {},
   "outputs": [
    {
     "name": "stdout",
     "output_type": "stream",
     "text": [
      "b1 = 151.91703\n",
      "b2 = 165.39966\n",
      "b3 = 174.49664\n",
      "f = 1666.9738\n",
      "s1 = 661.29904\n",
      "s2 = 520.83398\n",
      "s3 = 362.75031\n",
      "s4 = 189.34329\n",
      "s5 = 0.0\n",
      "s6 = 0.0\n",
      "s7 = 0.0\n",
      "s8 = 0.0\n"
     ]
    }
   ],
   "source": [
    "# Each of the variables is printed with it's resolved optimum value\n",
    "for v in prob.variables():\n",
    "    print(v.name, \"=\", v.varValue)"
   ]
  },
  {
   "cell_type": "code",
   "execution_count": null,
   "id": "653ea52b",
   "metadata": {},
   "outputs": [],
   "source": []
  }
 ],
 "metadata": {
  "kernelspec": {
   "display_name": "Python 3 (ipykernel)",
   "language": "python",
   "name": "python3"
  },
  "language_info": {
   "codemirror_mode": {
    "name": "ipython",
    "version": 3
   },
   "file_extension": ".py",
   "mimetype": "text/x-python",
   "name": "python",
   "nbconvert_exporter": "python",
   "pygments_lexer": "ipython3",
   "version": "3.11.4"
  }
 },
 "nbformat": 4,
 "nbformat_minor": 5
}
