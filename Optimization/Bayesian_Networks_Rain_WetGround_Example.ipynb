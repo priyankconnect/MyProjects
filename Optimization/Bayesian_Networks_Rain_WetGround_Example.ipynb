{
 "cells": [
  {
   "cell_type": "code",
   "execution_count": 14,
   "id": "0813e83c",
   "metadata": {},
   "outputs": [],
   "source": [
    "from pgmpy.models import BayesianNetwork\n",
    "from pgmpy.estimators import ParameterEstimator, MaximumLikelihoodEstimator\n",
    "from pgmpy.inference import VariableElimination\n",
    "import pandas as pd"
   ]
  },
  {
   "cell_type": "code",
   "execution_count": 15,
   "id": "af43778c",
   "metadata": {},
   "outputs": [],
   "source": [
    "# Define the structure of the Bayesian network\n",
    "model = BayesianNetwork([('Rain', 'WetGround')])"
   ]
  },
  {
   "cell_type": "code",
   "execution_count": 16,
   "id": "d866a9bf",
   "metadata": {},
   "outputs": [],
   "source": [
    "# Estimate parameters using Maximum Likelihood Estimator\n",
    "data = pd.DataFrame(data={'Rain': [1, 0, 1, 0], 'WetGround': [1, 0, 1, 0]})\n",
    "model.fit(data, estimator=MaximumLikelihoodEstimator)"
   ]
  },
  {
   "cell_type": "code",
   "execution_count": 17,
   "id": "db888795",
   "metadata": {},
   "outputs": [
    {
     "name": "stdout",
     "output_type": "stream",
     "text": [
      "+--------------+------------------+\n",
      "| WetGround    |   phi(WetGround) |\n",
      "+==============+==================+\n",
      "| WetGround(0) |           0.0000 |\n",
      "+--------------+------------------+\n",
      "| WetGround(1) |           1.0000 |\n",
      "+--------------+------------------+\n"
     ]
    }
   ],
   "source": [
    "# Perform inference\n",
    "inference = VariableElimination(model)\n",
    "result = inference.query(variables=['WetGround'], evidence={'Rain': 1})\n",
    "print(result)\n"
   ]
  },
  {
   "cell_type": "code",
   "execution_count": null,
   "id": "648bd127",
   "metadata": {},
   "outputs": [],
   "source": []
  }
 ],
 "metadata": {
  "kernelspec": {
   "display_name": "Python 3 (ipykernel)",
   "language": "python",
   "name": "python3"
  },
  "language_info": {
   "codemirror_mode": {
    "name": "ipython",
    "version": 3
   },
   "file_extension": ".py",
   "mimetype": "text/x-python",
   "name": "python",
   "nbconvert_exporter": "python",
   "pygments_lexer": "ipython3",
   "version": "3.11.4"
  }
 },
 "nbformat": 4,
 "nbformat_minor": 5
}
