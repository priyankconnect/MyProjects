{
 "cells": [
  {
   "cell_type": "markdown",
   "id": "a2b9318d",
   "metadata": {},
   "source": [
    "https://myoptimizationnotes.blogspot.com/2024/01/data-envelopment-analysis.html "
   ]
  },
  {
   "cell_type": "markdown",
   "id": "7159bade",
   "metadata": {},
   "source": [
    "# Using Specific Example"
   ]
  },
  {
   "cell_type": "code",
   "execution_count": 1,
   "id": "be1b8ed0",
   "metadata": {},
   "outputs": [],
   "source": [
    "from pulp import *"
   ]
  },
  {
   "cell_type": "code",
   "execution_count": 8,
   "id": "6df48ec9",
   "metadata": {},
   "outputs": [
    {
     "name": "stdout",
     "output_type": "stream",
     "text": [
      "Plant A :E1 0.8333333333333334 E2 0.6666666666666666 O1 0.8333333333333334 O2 0.8333333333333334\n",
      "Plant B :E1 0.6666666666666666 E2 0.8333333333333334 O1 0.6666666666666666 O2 0.6666666666666666\n",
      "Plant C :E1 1.0 E2 1.0 O1 1.0 O2 1.0\n",
      "Efficiency Score for Plant A: 0.83\n",
      "Efficiency Score for Plant B: 0.67\n",
      "Efficiency Score for Plant C: 1.00\n",
      "Optimal Lambda (λ): 0.0\n",
      "Optimal Mu (μ): 1.0\n"
     ]
    }
   ],
   "source": [
    "import pulp\n",
    "\n",
    "# Create a linear programming problem\n",
    "prob = pulp.LpProblem(\"DEA\", pulp.LpMaximize)\n",
    "\n",
    "# Define variables for lambda (λ) and mu (μ)\n",
    "lambda_var = pulp.LpVariable(\"Lambda\", lowBound=0)\n",
    "mu_var = pulp.LpVariable(\"Mu\", lowBound=0)\n",
    "\n",
    "# Define the original data for each plant\n",
    "original_data = {\n",
    "    'Plant A': {'E1': 10000, 'E2': 200, 'O1': 1000, 'O2': 20000},\n",
    "    'Plant B': {'E1': 8000, 'E2': 250, 'O1': 800, 'O2': 16000},\n",
    "    'Plant C': {'E1': 12000, 'E2': 300, 'O1': 1200, 'O2': 24000}\n",
    "}\n",
    "\n",
    "# Normalize the data\n",
    "normalized_data = {}\n",
    "for plant, data in original_data.items():\n",
    "    max_E1 = max([data['E1'] for data in original_data.values()])\n",
    "    max_E2 = max([data['E2'] for data in original_data.values()])\n",
    "    max_O1 = max([data['O1'] for data in original_data.values()])\n",
    "    max_O2 = max([data['O2'] for data in original_data.values()])\n",
    "    \n",
    "    normalized_data[plant] = {\n",
    "        'E1': data['E1'] / max_E1,\n",
    "        'E2': data['E2'] / max_E2,\n",
    "        'O1': data['O1'] / max_O1,\n",
    "        'O2': data['O2'] / max_O2}\n",
    "    print(plant,':E1',normalized_data[plant]['E1'],'E2',normalized_data[plant]['E2'],'O1',normalized_data[plant]['O1'],\n",
    "     'O2',normalized_data[plant]['O2'])\n",
    "\n",
    "# Define the objective function to maximize ES while minimizing mu\n",
    "prob += lambda_var + mu_var, \"Efficiency Score\"\n",
    "\n",
    "# Define the constraints for all plants\n",
    "for plant in normalized_data:\n",
    "    prob += lambda_var * normalized_data[plant]['E1'] + mu_var * normalized_data[plant]['E2'] <= 1, f\"Constraint_{plant}\"\n",
    "\n",
    "# Solve the linear programming problem\n",
    "prob.solve()\n",
    "\n",
    "# Calculate the efficiency scores for all plants\n",
    "efficiency_scores = {}\n",
    "for plant in normalized_data:\n",
    "    efficiency_scores[plant] = pulp.value(lambda_var) * normalized_data[plant]['O1'] + pulp.value(mu_var) * normalized_data[plant]['O2']\n",
    "\n",
    "# Print the efficiency scores for all plants\n",
    "for plant, efficiency_score in efficiency_scores.items():\n",
    "    print(f\"Efficiency Score for {plant}: {efficiency_score:.2f}\")\n",
    "\n",
    "# Print the optimal lambda (λ) and mu (μ)\n",
    "print(f\"Optimal Lambda (λ): {pulp.value(lambda_var)}\")\n",
    "print(f\"Optimal Mu (μ): {pulp.value(mu_var)}\")\n"
   ]
  },
  {
   "cell_type": "markdown",
   "id": "62743fe9",
   "metadata": {},
   "source": [
    "# Using General Examples"
   ]
  },
  {
   "cell_type": "code",
   "execution_count": 9,
   "id": "4aaed6aa",
   "metadata": {},
   "outputs": [
    {
     "name": "stdout",
     "output_type": "stream",
     "text": [
      "Efficiency Score for Plant A: 0.83\n",
      "Efficiency Score for Plant B: 0.67\n",
      "Efficiency Score for Plant C: 1.00\n",
      "Optimal Lambda (λ): 0.80808081\n",
      "Optimal Mu (μ): 0.0\n"
     ]
    }
   ],
   "source": [
    "import pulp\n",
    "\n",
    "def perform_dea_analysis(data):\n",
    "    # Create a linear programming problem\n",
    "    prob = pulp.LpProblem(\"DEA\", pulp.LpMaximize)\n",
    "\n",
    "    num_inputs = len(data[0]['inputs'])\n",
    "    num_outputs = len(data[0]['outputs'])\n",
    "\n",
    "    # Define variables for lambda (λ) and mu (μ)\n",
    "    lambda_var = pulp.LpVariable(\"Lambda\", lowBound=0)\n",
    "    mu_var = pulp.LpVariable(\"Mu\", lowBound=0)\n",
    "\n",
    "    # Normalize the data\n",
    "    normalized_data = normalize_data(data)\n",
    "\n",
    "    # Define the objective function to maximize ES while minimizing mu\n",
    "    prob += lambda_var - mu_var, \"Efficiency Score\"\n",
    "\n",
    "    # Define the constraints for all plants\n",
    "    for plant_data in normalized_data:\n",
    "        inputs = plant_data['inputs']\n",
    "        outputs = plant_data['outputs']\n",
    "\n",
    "        input_constraints = [lambda_var * inputs[i] for i in range(num_inputs)]\n",
    "        output_constraints = [mu_var * outputs[i] for i in range(num_outputs)]\n",
    "\n",
    "        prob += sum(input_constraints) + sum(output_constraints) <= 1, f\"Constraint_{plant_data['name']}\"\n",
    "\n",
    "    # Solve the linear programming problem\n",
    "    prob.solve()\n",
    "\n",
    "    # Calculate the efficiency scores for all plants\n",
    "    efficiency_scores = {}\n",
    "    for plant_data in normalized_data:\n",
    "        inputs = plant_data['inputs']\n",
    "        outputs = plant_data['outputs']\n",
    "\n",
    "        efficiency_score = sum([pulp.value(lambda_var) * inputs[i] for i in range(num_inputs)]) \\\n",
    "            + sum([pulp.value(mu_var) * outputs[i] for i in range(num_outputs)])\n",
    "\n",
    "        efficiency_scores[plant_data['name']] = efficiency_score\n",
    "\n",
    "    # Print the efficiency scores for all plants\n",
    "    for plant, efficiency_score in efficiency_scores.items():\n",
    "        print(f\"Efficiency Score for {plant}: {efficiency_score:.2f}\")\n",
    "\n",
    "    # Print the optimal lambda (λ) and mu (μ)\n",
    "    print(f\"Optimal Lambda (λ): {pulp.value(lambda_var)}\")\n",
    "    print(f\"Optimal Mu (μ): {pulp.value(mu_var)}\")\n",
    "\n",
    "def normalize_data(data):\n",
    "    max_inputs = [max(plant['inputs']) for plant in data]\n",
    "    max_outputs = [max(plant['outputs']) for plant in data]\n",
    "\n",
    "    normalized_data = []\n",
    "    for plant in data:\n",
    "        inputs = [x / max_x for x, max_x in zip(plant['inputs'], max_inputs)]\n",
    "        outputs = [x / max_x for x, max_x in zip(plant['outputs'], max_outputs)]\n",
    "\n",
    "        normalized_data.append({\n",
    "            'name': plant['name'],\n",
    "            'inputs': inputs,\n",
    "            'outputs': outputs\n",
    "        })\n",
    "\n",
    "    return normalized_data\n",
    "\n",
    "# Define the data for each plant (you can add more plants as needed)\n",
    "plants_data = [\n",
    "    {\n",
    "        'name': 'Plant A',\n",
    "        'inputs': [10000, 200],\n",
    "        'outputs': [1000, 20000]\n",
    "    },\n",
    "    {\n",
    "        'name': 'Plant B',\n",
    "        'inputs': [8000, 250],\n",
    "        'outputs': [800, 16000]\n",
    "    },\n",
    "    {\n",
    "        'name': 'Plant C',\n",
    "        'inputs': [12000, 300],\n",
    "        'outputs': [1200, 24000]\n",
    "    }\n",
    "]\n",
    "\n",
    "# Perform DEA analysis\n",
    "perform_dea_analysis(plants_data)\n"
   ]
  }
 ],
 "metadata": {
  "kernelspec": {
   "display_name": "Python 3 (ipykernel)",
   "language": "python",
   "name": "python3"
  },
  "language_info": {
   "codemirror_mode": {
    "name": "ipython",
    "version": 3
   },
   "file_extension": ".py",
   "mimetype": "text/x-python",
   "name": "python",
   "nbconvert_exporter": "python",
   "pygments_lexer": "ipython3",
   "version": "3.11.4"
  }
 },
 "nbformat": 4,
 "nbformat_minor": 5
}
