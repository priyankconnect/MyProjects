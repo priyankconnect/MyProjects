{
 "cells": [
  {
   "attachments": {
    "image-3.png": {
     "image/png": "[encoded data removed]"
    }
   },
   "cell_type": "markdown",
   "id": "6b0b5349",
   "metadata": {},
   "source": [
    "![image-3.png](attachment:image-3.png)"
   ]
  },
  {
   "cell_type": "markdown",
   "id": "e6763132",
   "metadata": {},
   "source": [
    "Electronic Communications manufactures portable radio systems that can be used for two way communications.\n",
    "\n",
    "The company's new product,which has a range of up to 25 miles, is particularly suitable for use in a variety of business and personal applications. The distribution channels for the new radios are as follows:\n",
    "\n",
    "1. Marine equipment distributors\n",
    "2. Business Equipment distrbutors\n",
    "3. National chain of retail stores\n",
    "4. Direct Mail\n",
    "\n",
    "The profitability of the product will vary with the distribution channel. In addition the ad cost and personal sales effor will vary with the distribution channel. See table for the brakup\n",
    "\n",
    "The firm set the advertising budget at 5000 D and a max of 1800 hours of salesforce time is available for allocation to the sales effort.\n",
    "\n",
    "Management also decided to produce exactly 600 units for the current production period. \n",
    "\n",
    "The contract requires that at least 150 units be distributed through the retail distribution channel.\n",
    "\n",
    "Need a strategy to provide distribution in such a way that overall profitability of the new radio production will be maximised. \n",
    "\n",
    "How many units should be allocated to each of the four distribution channels"
   ]
  },
  {
   "cell_type": "code",
   "execution_count": 20,
   "id": "be1b8ed0",
   "metadata": {},
   "outputs": [],
   "source": [
    "import pulp"
   ]
  },
  {
   "cell_type": "code",
   "execution_count": 21,
   "id": "9dd2930a",
   "metadata": {},
   "outputs": [],
   "source": [
    "# Create a problem variable\n",
    "prob = pulp.LpProblem('Electronic_Communication',pulp.LpMaximize)\n",
    "#prob = pulp.LpProblem(\"Bluegrass_Farms\", pulp.LpMinimize) # spaces not permissible"
   ]
  },
  {
   "cell_type": "code",
   "execution_count": 22,
   "id": "1f157ba2",
   "metadata": {},
   "outputs": [],
   "source": [
    "# Decision variables\n",
    "x = pulp.LpVariable(\"M\",lowBound=0,cat='Integer')\n",
    "y = pulp.LpVariable('B',lowBound=0,cat='Integer')\n",
    "z = pulp.LpVariable('N',lowBound=0,cat='Integer')\n",
    "v = pulp.LpVariable('D',lowBound=0,cat='Integer')\n",
    "# should assign different names\n",
    "# Take care of the case of lowBound"
   ]
  },
  {
   "cell_type": "code",
   "execution_count": 23,
   "id": "1fd38417",
   "metadata": {},
   "outputs": [],
   "source": [
    "# Objective function\n",
    "prob += 90 * x + 84 * y+ 70*z + 60*v, \"Total Profit\""
   ]
  },
  {
   "cell_type": "code",
   "execution_count": 25,
   "id": "efb2e085",
   "metadata": {},
   "outputs": [],
   "source": [
    "# Constraints\n",
    "prob += 10*x+8*y+9*z+15*v <= 5000\n",
    "prob += 2*x+3*y+3*z+0*v <=1800\n",
    "prob += z >=150\n",
    "prob += x + y + z + v ==600"
   ]
  },
  {
   "cell_type": "code",
   "execution_count": 26,
   "id": "b8f69629",
   "metadata": {},
   "outputs": [
    {
     "data": {
      "text/plain": [
       "1"
      ]
     },
     "execution_count": 26,
     "metadata": {},
     "output_type": "execute_result"
    }
   ],
   "source": [
    "# Solve the problem\n",
    "prob.solve()"
   ]
  },
  {
   "cell_type": "code",
   "execution_count": 27,
   "id": "59a2936a",
   "metadata": {},
   "outputs": [
    {
     "name": "stdout",
     "output_type": "stream",
     "text": [
      "We need 25.0 units of M\n",
      "We Need 425.0 units of B\n",
      "We Need 150.0 units of  N\n",
      "We Need 0.0 units of  D\n",
      "Total Profit is :48450.0\n"
     ]
    }
   ],
   "source": [
    "# Print the results\n",
    "print(\"We need {} units of M\".format(x.varValue))\n",
    "print(\"We Need {} units of B\".format(y.varValue))\n",
    "print(\"We Need {} units of  N\".format(z.varValue))\n",
    "print(\"We Need {} units of  D\".format(v.varValue))\n",
    "print(\"Total Profit is :{}\".format(pulp.value(prob.objective)))"
   ]
  },
  {
   "cell_type": "code",
   "execution_count": null,
   "id": "653ea52b",
   "metadata": {},
   "outputs": [],
   "source": []
  }
 ],
 "metadata": {
  "kernelspec": {
   "display_name": "Python 3 (ipykernel)",
   "language": "python",
   "name": "python3"
  },
  "language_info": {
   "codemirror_mode": {
    "name": "ipython",
    "version": 3
   },
   "file_extension": ".py",
   "mimetype": "text/x-python",
   "name": "python",
   "nbconvert_exporter": "python",
   "pygments_lexer": "ipython3",
   "version": "3.11.4"
  }
 },
 "nbformat": 4,
 "nbformat_minor": 5
}
