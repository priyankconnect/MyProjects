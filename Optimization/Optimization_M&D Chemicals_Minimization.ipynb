{
 "cells": [
  {
   "cell_type": "markdown",
   "id": "6fe0e1f4",
   "metadata": {},
   "source": [
    " Problem:\n",
    "\n",
    "M&D Chemicals produces two products that are sold as raw materials to companies manufacturing bath soaps and laundry detergents.  \n",
    "\n",
    "Based on an analysis of current inventory levels and potential demand for the coming month, M&D management specified that the combined production for products A and B must total at least 350 gallons.\n",
    "\n",
    "Separately a maor customer's order for 125 gallons of product A must also be satisfied.\n",
    "\n",
    "Product A requires 2 hours of processing time per gallon and product B requires 1 hour of processing time per gallon\n",
    "\n",
    "For the coming month, 600 hours of processing time are available. \n",
    "\n",
    "M&D objective is to satisfy these requirements at a minimum total production cost.\n",
    "\n",
    "Production costs are 'usd2 per gallon for product A and 'USD3 per gallon for product B"
   ]
  },
  {
   "cell_type": "code",
   "execution_count": 12,
   "id": "39952832",
   "metadata": {},
   "outputs": [],
   "source": [
    "#! pip install pulp"
   ]
  },
  {
   "cell_type": "code",
   "execution_count": 13,
   "id": "6217ff1b",
   "metadata": {},
   "outputs": [],
   "source": [
    "import pulp"
   ]
  },
  {
   "cell_type": "code",
   "execution_count": 17,
   "id": "b9b98e89",
   "metadata": {},
   "outputs": [],
   "source": [
    "# Create a problem variable\n",
    "prob = pulp.LpProblem(\"M&D_Chemicals\", pulp.LpMinimize) # spaces not permissible"
   ]
  },
  {
   "cell_type": "code",
   "execution_count": 18,
   "id": "22fd1a71",
   "metadata": {},
   "outputs": [],
   "source": [
    "# Decision variables\n",
    "x = pulp.LpVariable(\"A\", lowBound=0, cat='Continuous')\n",
    "y = pulp.LpVariable(\"B\", lowBound=0, cat='Continuous')"
   ]
  },
  {
   "cell_type": "code",
   "execution_count": 19,
   "id": "fba441a2",
   "metadata": {},
   "outputs": [],
   "source": [
    "# Objective function\n",
    "prob += 2 * x + 3 * y, \"Total Cost\""
   ]
  },
  {
   "cell_type": "code",
   "execution_count": 21,
   "id": "f953cd8d",
   "metadata": {},
   "outputs": [],
   "source": [
    "# Constraints\n",
    "prob += x + y >= 350, \"Production constraint\"\n",
    "prob += x>=125,  \"Product A Constraint\"\n",
    "prob += 2* x + 1* y <= 600, \"Process Time Constraint\""
   ]
  },
  {
   "cell_type": "code",
   "execution_count": 22,
   "id": "6ef4c2c7",
   "metadata": {},
   "outputs": [
    {
     "data": {
      "text/plain": [
       "1"
      ]
     },
     "execution_count": 22,
     "metadata": {},
     "output_type": "execute_result"
    }
   ],
   "source": [
    "# Solve the problem\n",
    "prob.solve()"
   ]
  },
  {
   "cell_type": "code",
   "execution_count": 23,
   "id": "7a21624d",
   "metadata": {},
   "outputs": [
    {
     "name": "stdout",
     "output_type": "stream",
     "text": [
      "Produce 250.0 A\n",
      "Produce 100.0 B\n",
      "Total Cost: $800.0\n"
     ]
    }
   ],
   "source": [
    "# Print the results\n",
    "print(\"Produce {} A\".format(x.varValue))\n",
    "print(\"Produce {} B\".format(y.varValue))\n",
    "print(\"Total Cost: ${}\".format(pulp.value(prob.objective)))\n"
   ]
  },
  {
   "cell_type": "code",
   "execution_count": null,
   "id": "d1598506",
   "metadata": {},
   "outputs": [],
   "source": []
  }
 ],
 "metadata": {
  "kernelspec": {
   "display_name": "Python 3 (ipykernel)",
   "language": "python",
   "name": "python3"
  },
  "language_info": {
   "codemirror_mode": {
    "name": "ipython",
    "version": 3
   },
   "file_extension": ".py",
   "mimetype": "text/x-python",
   "name": "python",
   "nbconvert_exporter": "python",
   "pygments_lexer": "ipython3",
   "version": "3.11.4"
  }
 },
 "nbformat": 4,
 "nbformat_minor": 5
}
