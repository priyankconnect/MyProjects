{
 "cells": [
  {
   "cell_type": "markdown",
   "id": "6ca0d5a6",
   "metadata": {},
   "source": [
    "https://myoptimizationnotes.blogspot.com/2024/02/monte-carlo-simulation-porta-com.html"
   ]
  },
  {
   "cell_type": "code",
   "execution_count": 40,
   "id": "844cbc98",
   "metadata": {},
   "outputs": [],
   "source": [
    "import pandas as pd\n",
    "import numpy as np\n",
    "import matplotlib.pyplot as plt\n",
    "import seaborn as sns"
   ]
  },
  {
   "cell_type": "code",
   "execution_count": 53,
   "id": "12c7988e",
   "metadata": {},
   "outputs": [
    {
     "data": {
      "text/html": [
       "<div>\n",
       "<style scoped>\n",
       "    .dataframe tbody tr th:only-of-type {\n",
       "        vertical-align: middle;\n",
       "    }\n",
       "\n",
       "    .dataframe tbody tr th {\n",
       "        vertical-align: top;\n",
       "    }\n",
       "\n",
       "    .dataframe thead th {\n",
       "        text-align: right;\n",
       "    }\n",
       "</style>\n",
       "<table border=\"1\" class=\"dataframe\">\n",
       "  <thead>\n",
       "    <tr style=\"text-align: right;\">\n",
       "      <th></th>\n",
       "      <th>Trial No</th>\n",
       "      <th>Direct Labor Cost per Unit</th>\n",
       "      <th>Parts Cost per Unit</th>\n",
       "      <th>Units Sold</th>\n",
       "      <th>Profit</th>\n",
       "    </tr>\n",
       "  </thead>\n",
       "  <tbody>\n",
       "    <tr>\n",
       "      <th>0</th>\n",
       "      <td>1</td>\n",
       "      <td>44</td>\n",
       "      <td>83.01</td>\n",
       "      <td>7947.0</td>\n",
       "      <td>-30545.47</td>\n",
       "    </tr>\n",
       "    <tr>\n",
       "      <th>1</th>\n",
       "      <td>2</td>\n",
       "      <td>44</td>\n",
       "      <td>93.73</td>\n",
       "      <td>11102.0</td>\n",
       "      <td>235319.54</td>\n",
       "    </tr>\n",
       "    <tr>\n",
       "      <th>2</th>\n",
       "      <td>3</td>\n",
       "      <td>47</td>\n",
       "      <td>92.75</td>\n",
       "      <td>18318.0</td>\n",
       "      <td>1001241.50</td>\n",
       "    </tr>\n",
       "    <tr>\n",
       "      <th>3</th>\n",
       "      <td>4</td>\n",
       "      <td>44</td>\n",
       "      <td>85.28</td>\n",
       "      <td>8634.0</td>\n",
       "      <td>33662.48</td>\n",
       "    </tr>\n",
       "    <tr>\n",
       "      <th>4</th>\n",
       "      <td>5</td>\n",
       "      <td>43</td>\n",
       "      <td>98.25</td>\n",
       "      <td>18944.0</td>\n",
       "      <td>1041216.00</td>\n",
       "    </tr>\n",
       "    <tr>\n",
       "      <th>...</th>\n",
       "      <td>...</td>\n",
       "      <td>...</td>\n",
       "      <td>...</td>\n",
       "      <td>...</td>\n",
       "      <td>...</td>\n",
       "    </tr>\n",
       "    <tr>\n",
       "      <th>95</th>\n",
       "      <td>96</td>\n",
       "      <td>46</td>\n",
       "      <td>81.00</td>\n",
       "      <td>13725.0</td>\n",
       "      <td>674450.00</td>\n",
       "    </tr>\n",
       "    <tr>\n",
       "      <th>96</th>\n",
       "      <td>97</td>\n",
       "      <td>47</td>\n",
       "      <td>87.08</td>\n",
       "      <td>11554.0</td>\n",
       "      <td>327785.68</td>\n",
       "    </tr>\n",
       "    <tr>\n",
       "      <th>97</th>\n",
       "      <td>98</td>\n",
       "      <td>46</td>\n",
       "      <td>82.71</td>\n",
       "      <td>13203.0</td>\n",
       "      <td>588188.87</td>\n",
       "    </tr>\n",
       "    <tr>\n",
       "      <th>98</th>\n",
       "      <td>99</td>\n",
       "      <td>46</td>\n",
       "      <td>85.07</td>\n",
       "      <td>17605.0</td>\n",
       "      <td>1076157.65</td>\n",
       "    </tr>\n",
       "    <tr>\n",
       "      <th>99</th>\n",
       "      <td>100</td>\n",
       "      <td>45</td>\n",
       "      <td>87.81</td>\n",
       "      <td>5896.0</td>\n",
       "      <td>-314943.76</td>\n",
       "    </tr>\n",
       "  </tbody>\n",
       "</table>\n",
       "<p>100 rows × 5 columns</p>\n",
       "</div>"
      ],
      "text/plain": [
       "    Trial No  Direct Labor Cost per Unit  Parts Cost per Unit  Units Sold  \\\n",
       "0          1                          44                83.01      7947.0   \n",
       "1          2                          44                93.73     11102.0   \n",
       "2          3                          47                92.75     18318.0   \n",
       "3          4                          44                85.28      8634.0   \n",
       "4          5                          43                98.25     18944.0   \n",
       "..       ...                         ...                  ...         ...   \n",
       "95        96                          46                81.00     13725.0   \n",
       "96        97                          47                87.08     11554.0   \n",
       "97        98                          46                82.71     13203.0   \n",
       "98        99                          46                85.07     17605.0   \n",
       "99       100                          45                87.81      5896.0   \n",
       "\n",
       "        Profit  \n",
       "0    -30545.47  \n",
       "1    235319.54  \n",
       "2   1001241.50  \n",
       "3     33662.48  \n",
       "4   1041216.00  \n",
       "..         ...  \n",
       "95   674450.00  \n",
       "96   327785.68  \n",
       "97   588188.87  \n",
       "98  1076157.65  \n",
       "99  -314943.76  \n",
       "\n",
       "[100 rows x 5 columns]"
      ]
     },
     "execution_count": 53,
     "metadata": {},
     "output_type": "execute_result"
    }
   ],
   "source": [
    "# Re-importing pandas after reset and re-defining the simulation\n",
    "import pandas as pd\n",
    "\n",
    "# Redefine constants and re-run the simulations for completeness\n",
    "selling_price = 249\n",
    "admin_cost = 400000\n",
    "ad_cost = 600000\n",
    "mean_demand = 15000\n",
    "std_dev_demand = 4500\n",
    "trials = 100\n",
    "\n",
    "#np.random.seed(42)  # For reproducibility\n",
    "demands = np.random.normal(mean_demand, std_dev_demand, trials).round(0)\n",
    "labor_costs = np.random.choice([43, 44, 45, 46, 47], size=trials, p=[0.1, 0.2, 0.4, 0.2, 0.1]).round(2)\n",
    "parts_costs = np.random.uniform(80, 100, trials).round(2)\n",
    "profits = (selling_price - labor_costs - parts_costs) * demands - admin_cost - ad_cost\n",
    "\n",
    "# Creating the DataFrame again with all the necessary columns\n",
    "df = pd.DataFrame({\n",
    "    'Trial No': np.arange(1, trials+1),\n",
    "    'Direct Labor Cost per Unit': labor_costs,\n",
    "    'Parts Cost per Unit': parts_costs,\n",
    "    'Units Sold': demands,\n",
    "    'Profit': profits\n",
    "})\n",
    "\n",
    "df\n"
   ]
  },
  {
   "cell_type": "code",
   "execution_count": 54,
   "id": "fa9bf563",
   "metadata": {},
   "outputs": [
    {
     "name": "stdout",
     "output_type": "stream",
     "text": [
      "Number of Trials 100\n",
      "Mean Profit: 643985.0\n",
      "Standard Deviation: 539210.55\n",
      "Maximum Profit: 1843321.4\n",
      "Minimum Profit: -714682.0\n",
      "Number of Losses: 12\n",
      "Probability of Loss 12.0 %\n"
     ]
    }
   ],
   "source": [
    "print('Number of Trials',trials)\n",
    "print('Mean Profit:',df['Profit'].mean().round())\n",
    "std = df['Profit'].std()\n",
    "print('Standard Deviation:',round(std,2))\n",
    "print('Maximum Profit:',df['Profit'].max())\n",
    "print('Minimum Profit:',round(df['Profit'].min(),2))\n",
    "No_of_losses = (df['Profit']<0).sum()\n",
    "print('Number of Losses:',No_of_losses)\n",
    "print('Probability of Loss',(No_of_losses*100)/trials,\"%\")"
   ]
  },
  {
   "cell_type": "code",
   "execution_count": 55,
   "id": "1a52f623",
   "metadata": {},
   "outputs": [
    {
     "data": {
      "text/plain": [
       "<Axes: xlabel='Profit', ylabel='Count'>"
      ]
     },
     "execution_count": 55,
     "metadata": {},
     "output_type": "execute_result"
    },
    {
     "data": {
      "image/png": "[encoded data removed]",
      "text/plain": [
       "<Figure size 640x480 with 1 Axes>"
      ]
     },
     "metadata": {},
     "output_type": "display_data"
    }
   ],
   "source": [
    "sns.histplot(df['Profit'])"
   ]
  }
 ],
 "metadata": {
  "kernelspec": {
   "display_name": "Python 3 (ipykernel)",
   "language": "python",
   "name": "python3"
  },
  "language_info": {
   "codemirror_mode": {
    "name": "ipython",
    "version": 3
   },
   "file_extension": ".py",
   "mimetype": "text/x-python",
   "name": "python",
   "nbconvert_exporter": "python",
   "pygments_lexer": "ipython3",
   "version": "3.11.4"
  }
 },
 "nbformat": 4,
 "nbformat_minor": 5
}
