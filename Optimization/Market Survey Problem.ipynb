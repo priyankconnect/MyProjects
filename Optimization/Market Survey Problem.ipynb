{
 "cells": [
  {
   "attachments": {
    "image-6.png": {
     "image/png": "[encoded data removed]"
    }
   },
   "cell_type": "markdown",
   "id": "6b0b5349",
   "metadata": {},
   "source": [
    "![image-6.png](attachment:image-6.png)"
   ]
  },
  {
   "cell_type": "markdown",
   "id": "e6763132",
   "metadata": {},
   "source": [
    "MSI is a market survey company. His client has given  the following requirement\n",
    "\n",
    "1. Responses to be obtained from households with children and without children\n",
    "2. Responses to be obtanied both morning and evening\n",
    "3. Interview at leaset 400 households with children\n",
    "4. Interview at least 400 households without children\n",
    "5. The total numbr of households interviewed during the evening must be at least as great as the number of households interviewed during the day\n",
    "6. At least 40 percent of the interviews for households with children must be conducted during the evening\n",
    "7. At least 60 percent of the interviews for households without children must be conducted during the evening\n",
    "8. Interview cost is given in the table\n",
    "\n",
    "What is the household,time of day interview plan that will satisfy the contract requirements at a min total interviewing cost"
   ]
  },
  {
   "cell_type": "code",
   "execution_count": 2,
   "id": "be1b8ed0",
   "metadata": {},
   "outputs": [],
   "source": [
    "import pulp"
   ]
  },
  {
   "cell_type": "code",
   "execution_count": 3,
   "id": "9dd2930a",
   "metadata": {},
   "outputs": [],
   "source": [
    "# Create a problem variable\n",
    "prob = pulp.LpProblem('Media_Mix',pulp.LpMinimize)\n",
    "#prob = pulp.LpProblem('Electronic_Communication',pulp.LpMaximize)"
   ]
  },
  {
   "cell_type": "code",
   "execution_count": 4,
   "id": "1f157ba2",
   "metadata": {},
   "outputs": [],
   "source": [
    "# Decision variables\n",
    "# Let DC - Interviews ( Day with Children)\n",
    "# Let EC - Interviews ( Evening with Children)\n",
    "# Let DNC - Interviews ( Day without children)\n",
    "# let ENC - Interviews ( Evening without children)\n",
    "\n",
    "x = pulp.LpVariable(\"DC\",lowBound=0,cat='Integer')\n",
    "y = pulp.LpVariable('EC',lowBound=0,cat='Integer')\n",
    "z = pulp.LpVariable('DNC',lowBound=0,cat='Integer')\n",
    "v = pulp.LpVariable('ENC',lowBound=0,cat='Integer')\n",
    "\n",
    "variables = []\n",
    "# should assign different names\n",
    "# Take care of the case of lowBound"
   ]
  },
  {
   "cell_type": "code",
   "execution_count": 5,
   "id": "1fd38417",
   "metadata": {},
   "outputs": [],
   "source": [
    "# Objective function\n",
    "prob += 20 * x + 25 * y+ 18*z + 20*v, \"Total Quality Units\""
   ]
  },
  {
   "cell_type": "code",
   "execution_count": 7,
   "id": "efb2e085",
   "metadata": {},
   "outputs": [],
   "source": [
    "# Constraints\n",
    "prob += x+y >= 400\n",
    "prob += z+v >= 400\n",
    "prob += y+v-x-z >=0\n",
    "prob += -0.4*x+0.6*y>=0  # EC>=0.4(DC+EC)\n",
    "prob += -0.6*z+0.4*v >=0 # ENC >=0.6(DNC+ENC)\n",
    "prob += x+y+z+v >=1000"
   ]
  },
  {
   "cell_type": "code",
   "execution_count": 8,
   "id": "b8f69629",
   "metadata": {},
   "outputs": [
    {
     "data": {
      "text/plain": [
       "1"
      ]
     },
     "execution_count": 8,
     "metadata": {},
     "output_type": "execute_result"
    }
   ],
   "source": [
    "# Solve the problem\n",
    "prob.solve()"
   ]
  },
  {
   "cell_type": "code",
   "execution_count": 10,
   "id": "59a2936a",
   "metadata": {},
   "outputs": [
    {
     "name": "stdout",
     "output_type": "stream",
     "text": [
      "We need 240.0 units of DC\n",
      "We Need 160.0 units of EC\n",
      "We Need 240.0 units of  DNC\n",
      "We Need 360.0 units of  ENC\n",
      "Total Cost will be :20320.0\n"
     ]
    }
   ],
   "source": [
    "# Print the results\n",
    "print(\"We need {} units of DC\".format(x.varValue))\n",
    "print(\"We Need {} units of EC\".format(y.varValue))\n",
    "print(\"We Need {} units of  DNC\".format(z.varValue))\n",
    "print(\"We Need {} units of  ENC\".format(v.varValue))\n",
    "print(\"Total Cost will be :{}\".format(pulp.value(prob.objective)))"
   ]
  },
  {
   "cell_type": "code",
   "execution_count": null,
   "id": "653ea52b",
   "metadata": {},
   "outputs": [],
   "source": []
  }
 ],
 "metadata": {
  "kernelspec": {
   "display_name": "Python 3 (ipykernel)",
   "language": "python",
   "name": "python3"
  },
  "language_info": {
   "codemirror_mode": {
    "name": "ipython",
    "version": 3
   },
   "file_extension": ".py",
   "mimetype": "text/x-python",
   "name": "python",
   "nbconvert_exporter": "python",
   "pygments_lexer": "ipython3",
   "version": "3.11.4"
  }
 },
 "nbformat": 4,
 "nbformat_minor": 5
}
