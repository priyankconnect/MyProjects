{
 "cells": [
  {
   "cell_type": "markdown",
   "id": "e6763132",
   "metadata": {},
   "source": [
    "Read the Problem Description here: https://myoptimizationnotes.blogspot.com/2024/01/hewlitt-financial-planning-problem.html"
   ]
  },
  {
   "cell_type": "code",
   "execution_count": 2,
   "id": "be1b8ed0",
   "metadata": {},
   "outputs": [],
   "source": [
    "from pulp import *"
   ]
  },
  {
   "cell_type": "code",
   "execution_count": 10,
   "id": "9dd2930a",
   "metadata": {},
   "outputs": [],
   "source": [
    "# Create a problem variable\n",
    "prob = pulp.LpProblem('make_Buy',LpMinimize)"
   ]
  },
  {
   "cell_type": "code",
   "execution_count": 11,
   "id": "1f157ba2",
   "metadata": {},
   "outputs": [],
   "source": [
    "# BM = Number of Bases manufactured\n",
    "# BP = Number of Bases purchased\n",
    "# FCM= Number of Financial cartridges manufactured\n",
    "# FCP= Number of Financial cartridges purchased\n",
    "# TCM = Number of Technician cartridges manufactured\n",
    "# TCP= Number of Technician cartridges purchased\n",
    "# FTM = Number of Financial tops manufactured\n",
    "# FTP=Number of Financial tops purchased\n",
    "# TTM= Number of Technician Tops manufactured\n",
    "# TTP= Number of Technician Tops purchased\n",
    "# OT = Number of hours of overtime to be scheduled\n",
    "\n",
    "BM=pulp.LpVariable('BM',lowBound=0,cat='Continuous')\n",
    "BP=pulp.LpVariable('BP',lowBound=0,cat='Continuous')\n",
    "FCM=pulp.LpVariable('FCM',lowBound=0,cat='Continuous')\n",
    "FCP=pulp.LpVariable('FCP',lowBound=0,cat='Continuous')\n",
    "TCM=pulp.LpVariable('TCM',lowBound=0,cat='Continuous')\n",
    "TCP=pulp.LpVariable('TCP',lowBound=0,cat='Continuous')\n",
    "FTM=pulp.LpVariable('FTM',lowBound=0,cat='Continuous')\n",
    "FTP=pulp.LpVariable('FTP',lowBound=0,cat='Continuous')\n",
    "TTM=pulp.LpVariable('TTM',lowBound=0,cat='Continuous')\n",
    "TTP=pulp.LpVariable('TTP',lowBound=0,cat='Continuous')\n",
    "OT=pulp.LpVariable('OT',lowBound=0,cat='Continuous')\n",
    "\n",
    "variables = []\n",
    "# should assign different names\n",
    "# Take care of the case of lowBound"
   ]
  },
  {
   "cell_type": "code",
   "execution_count": 12,
   "id": "1fd38417",
   "metadata": {},
   "outputs": [],
   "source": [
    "# Objective function\n",
    "prob += 0.5*BM+0.6*BP+3.75*FCM+4*FCP+3.3*TCM+3.9*TCP+0.6*FTM+0.65*FTP+0.75*TTM+0.78*TTP+9*OT, \"Total Cost\""
   ]
  },
  {
   "cell_type": "code",
   "execution_count": 13,
   "id": "efb2e085",
   "metadata": {},
   "outputs": [],
   "source": [
    "# Constraints\n",
    "prob += BM + BP ==5000 # Demand Constraint1\n",
    "prob += FCM+FCP==3000 # Demand Constraint2\n",
    "prob += TCM+TCP==2000 # Demand Constraint3\n",
    "prob += FTM+FTP==3000 # Demand Constraint4\n",
    "prob += TTM+TTP==2000 # Demand Constraint5\n",
    "prob += OT <=50 # OT Constraint\n",
    "prob += BM+3*FCM+2.5*TCM+FTM+1.5*TTM-60*OT <=12000 # Manufacturing Time Constraint"
   ]
  },
  {
   "cell_type": "code",
   "execution_count": 14,
   "id": "b8f69629",
   "metadata": {},
   "outputs": [
    {
     "data": {
      "text/plain": [
       "1"
      ]
     },
     "execution_count": 14,
     "metadata": {},
     "output_type": "execute_result"
    }
   ],
   "source": [
    "# Solve the problem\n",
    "prob.solve()"
   ]
  },
  {
   "cell_type": "code",
   "execution_count": 15,
   "id": "59a2936a",
   "metadata": {},
   "outputs": [
    {
     "name": "stdout",
     "output_type": "stream",
     "text": [
      "BM = 5000.0\n",
      "BP = 0.0\n",
      "FCM = 666.66667\n",
      "FCP = 2333.3333\n",
      "FTM = 0.0\n",
      "FTP = 3000.0\n",
      "OT = 0.0\n",
      "TCM = 2000.0\n",
      "TCP = 0.0\n",
      "TTM = 0.0\n",
      "TTP = 2000.0\n"
     ]
    }
   ],
   "source": [
    "# Each of the variables is printed with it's resolved optimum value\n",
    "for v in prob.variables():\n",
    "    print(v.name, \"=\", v.varValue)"
   ]
  },
  {
   "cell_type": "code",
   "execution_count": null,
   "id": "653ea52b",
   "metadata": {},
   "outputs": [],
   "source": []
  }
 ],
 "metadata": {
  "kernelspec": {
   "display_name": "Python 3 (ipykernel)",
   "language": "python",
   "name": "python3"
  },
  "language_info": {
   "codemirror_mode": {
    "name": "ipython",
    "version": 3
   },
   "file_extension": ".py",
   "mimetype": "text/x-python",
   "name": "python",
   "nbconvert_exporter": "python",
   "pygments_lexer": "ipython3",
   "version": "3.11.4"
  }
 },
 "nbformat": 4,
 "nbformat_minor": 5
}
