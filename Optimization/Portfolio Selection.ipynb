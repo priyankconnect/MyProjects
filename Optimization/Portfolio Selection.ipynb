{
 "cells": [
  {
   "cell_type": "markdown",
   "id": "e6763132",
   "metadata": {},
   "source": [
    "Welte is a company that wants to invest 100000 D. The following are opportunities with the projected rate of return  available where they want to invest:\n",
    "1. Atlantic Oil: 7.3%\n",
    "2. Pacific Oil: 10.3%\n",
    "3. Midwest Steel: 6.4%\n",
    "4. Huber Steel: 7.5%\n",
    "5. Government Bonds: 4.5%\n",
    "\n",
    "The following are the guidelines imposed by  Welte's Management\n",
    "\n",
    "1. Neither Industry ( Oil or steel) should receive more than 50000\n",
    "2. Governemnt bonds should be at least 25% of the steel industry investments\n",
    "3. The investment in Pacific Oil, cannot be mre than 60% of the total oil industry investment\n",
    "\n",
    "what portfolio recommendations should be made."
   ]
  },
  {
   "cell_type": "code",
   "execution_count": 25,
   "id": "be1b8ed0",
   "metadata": {},
   "outputs": [],
   "source": [
    "import pulp"
   ]
  },
  {
   "cell_type": "code",
   "execution_count": 26,
   "id": "9dd2930a",
   "metadata": {},
   "outputs": [],
   "source": [
    "# Create a problem variable\n",
    "prob = pulp.LpProblem('Investment',pulp.LpMaximize)"
   ]
  },
  {
   "cell_type": "code",
   "execution_count": 27,
   "id": "1f157ba2",
   "metadata": {},
   "outputs": [],
   "source": [
    "# Decision variables\n",
    "# Let A - Dollars invested in Atlantic Oil\n",
    "# Let P - Dollars invested in Pacific Oil\n",
    "# Let M = Dollars invested in Midwest Steel\n",
    "# let H - Dollars invested in Huber Steel\n",
    "# Let G - Dollsars invested in government bonds\n",
    "\n",
    "x = pulp.LpVariable(\"A\",lowBound=0,cat='Integer')\n",
    "y = pulp.LpVariable('P',lowBound=0,cat='Integer')\n",
    "z = pulp.LpVariable('M',lowBound=0,cat='Integer')\n",
    "v = pulp.LpVariable('H',lowBound=0,cat='Integer')\n",
    "w = pulp.LpVariable('G',lowBound=0,cat='Integer')\n",
    "\n",
    "variables = []\n",
    "# should assign different names\n",
    "# Take care of the case of lowBound"
   ]
  },
  {
   "cell_type": "code",
   "execution_count": 28,
   "id": "1fd38417",
   "metadata": {},
   "outputs": [],
   "source": [
    "# Objective function\n",
    "prob += 0.073 * x + 0.103 * y+ 0.064*z + 0.075*v + 0.045 *w, \"Total Investment\""
   ]
  },
  {
   "cell_type": "code",
   "execution_count": 29,
   "id": "efb2e085",
   "metadata": {},
   "outputs": [],
   "source": [
    "# Constraints\n",
    "prob += x+y+z+v+w ==100000\n",
    "prob += x+y<=50000 # oil industry maximum\n",
    "prob += z+v <=50000 # steel idustry maximum\n",
    "prob += -0.25*z-0.25*v+w>=0  # G >=0.25(M+H)\n",
    "prob += -0.60*x+0.40*y<=0 # P <=0.60(A+P)"
   ]
  },
  {
   "cell_type": "code",
   "execution_count": 30,
   "id": "b8f69629",
   "metadata": {},
   "outputs": [
    {
     "data": {
      "text/plain": [
       "1"
      ]
     },
     "execution_count": 30,
     "metadata": {},
     "output_type": "execute_result"
    }
   ],
   "source": [
    "# Solve the problem\n",
    "prob.solve()"
   ]
  },
  {
   "cell_type": "code",
   "execution_count": 31,
   "id": "59a2936a",
   "metadata": {},
   "outputs": [
    {
     "name": "stdout",
     "output_type": "stream",
     "text": [
      "We need 20000.0 dollars of A\n",
      "We Need 30000.0 dollars of P\n",
      "We Need 0.0 dollars of M\n",
      "We Need 40000.0 dollars of H\n",
      "We Need 10000.0 dollars of G\n",
      "Total Investment will be :8000.0\n"
     ]
    }
   ],
   "source": [
    "# Print the results\n",
    "print(\"We need {} dollars of A\".format(x.varValue))\n",
    "print(\"We Need {} dollars of P\".format(y.varValue))\n",
    "print(\"We Need {} dollars of M\".format(z.varValue))\n",
    "print(\"We Need {} dollars of H\".format(v.varValue))\n",
    "print(\"We Need {} dollars of G\".format(w.varValue))\n",
    "print(\"Total Investment will be :{}\".format(pulp.value(prob.objective)))"
   ]
  },
  {
   "cell_type": "code",
   "execution_count": null,
   "id": "653ea52b",
   "metadata": {},
   "outputs": [],
   "source": []
  }
 ],
 "metadata": {
  "kernelspec": {
   "display_name": "Python 3 (ipykernel)",
   "language": "python",
   "name": "python3"
  },
  "language_info": {
   "codemirror_mode": {
    "name": "ipython",
    "version": 3
   },
   "file_extension": ".py",
   "mimetype": "text/x-python",
   "name": "python",
   "nbconvert_exporter": "python",
   "pygments_lexer": "ipython3",
   "version": "3.11.4"
  }
 },
 "nbformat": 4,
 "nbformat_minor": 5
}
