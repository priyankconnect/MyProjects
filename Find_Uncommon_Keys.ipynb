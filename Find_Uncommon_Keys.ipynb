{
 "cells": [
  {
   "cell_type": "code",
   "execution_count": 79,
   "id": "2f9da82b",
   "metadata": {},
   "outputs": [
    {
     "data": {
      "text/plain": [
       "(['A', 'C'], ['E', 'F'])"
      ]
     },
     "execution_count": 79,
     "metadata": {},
     "output_type": "execute_result"
    }
   ],
   "source": [
    "def find_uncommon_keys(df1, df2, key1, key2):\n",
    "    \"\"\"\n",
    "    Find keys that are not common between two DataFrames.\n",
    "    \n",
    "    Parameters:\n",
    "    - df1: First DataFrame\n",
    "    - df2: Second DataFrame\n",
    "    - key1: Key column name for the first DataFrame\n",
    "    - key2: Key column name for the second DataFrame\n",
    "    \n",
    "    Returns:\n",
    "    - A tuple containing two lists:\n",
    "        1. Keys exclusive to df1\n",
    "        2. Keys exclusive to df2\n",
    "    \"\"\"\n",
    "    \n",
    "    # Perform an outer join\n",
    "    merged_outer = df1.merge(df2, left_on=key1, right_on=key2, how='outer', suffixes=('_df1', '_df2'))\n",
    "    \n",
    "    # Find keys exclusive to df1 and df2\n",
    "    df1_exclusive_keys = merged_outer.loc[pd.isna(merged_outer[f'value_df2']), key1]\n",
    "    df2_exclusive_keys = merged_outer.loc[pd.isna(merged_outer[f'value_df1']), key2]\n",
    "    \n",
    "    return df1_exclusive_keys.tolist(), df2_exclusive_keys.tolist()\n",
    "\n",
    "# Test the function with the provided data\n",
    "find_uncommon_keys(left, right, 'key', 'key')"
   ]
  }
 ],
 "metadata": {
  "kernelspec": {
   "display_name": "Python 3 (ipykernel)",
   "language": "python",
   "name": "python3"
  },
  "language_info": {
   "codemirror_mode": {
    "name": "ipython",
    "version": 3
   },
   "file_extension": ".py",
   "mimetype": "text/x-python",
   "name": "python",
   "nbconvert_exporter": "python",
   "pygments_lexer": "ipython3",
   "version": "3.10.9"
  }
 },
 "nbformat": 4,
 "nbformat_minor": 5
}
