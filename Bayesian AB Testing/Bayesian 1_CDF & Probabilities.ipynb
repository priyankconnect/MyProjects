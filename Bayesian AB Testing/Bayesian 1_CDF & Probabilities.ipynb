{
 "cells": [
  {
   "cell_type": "markdown",
   "id": "21e59267",
   "metadata": {},
   "source": [
    "## CDFs and Percentiles"
   ]
  },
  {
   "cell_type": "code",
   "execution_count": 2,
   "id": "670d43ca",
   "metadata": {},
   "outputs": [],
   "source": [
    "import numpy as np\n",
    "import matplotlib.pyplot as plt\n",
    "from scipy.stats import norm\n",
    "np.random.seed(0)"
   ]
  },
  {
   "cell_type": "code",
   "execution_count": 5,
   "id": "352c07ca",
   "metadata": {},
   "outputs": [],
   "source": [
    "mu=170\n",
    "sd=7"
   ]
  },
  {
   "cell_type": "code",
   "execution_count": 6,
   "id": "f759be75",
   "metadata": {},
   "outputs": [],
   "source": [
    "# generate samples from our distribution\n",
    "x=norm.rvs(loc=mu,scale=sd,size=100)"
   ]
  },
  {
   "cell_type": "code",
   "execution_count": 7,
   "id": "fbd8e2d2",
   "metadata": {},
   "outputs": [
    {
     "data": {
      "text/plain": [
       "170.41865610874137"
      ]
     },
     "execution_count": 7,
     "metadata": {},
     "output_type": "execute_result"
    }
   ],
   "source": [
    "# maximum likelihood mean\n",
    "x.mean()"
   ]
  },
  {
   "cell_type": "code",
   "execution_count": 8,
   "id": "86aaad58",
   "metadata": {},
   "outputs": [
    {
     "data": {
      "text/plain": [
       "49.77550434153163"
      ]
     },
     "execution_count": 8,
     "metadata": {},
     "output_type": "execute_result"
    }
   ],
   "source": [
    "# maximum likelihood variance\n",
    "x.var()"
   ]
  },
  {
   "cell_type": "code",
   "execution_count": 9,
   "id": "afd947b4",
   "metadata": {},
   "outputs": [
    {
     "data": {
      "text/plain": [
       "49.77550434153163"
      ]
     },
     "execution_count": 9,
     "metadata": {},
     "output_type": "execute_result"
    }
   ],
   "source": [
    "((x-x.mean())**2).mean()"
   ]
  },
  {
   "cell_type": "code",
   "execution_count": 10,
   "id": "892ea3d4",
   "metadata": {},
   "outputs": [
    {
     "data": {
      "text/plain": [
       "7.055175713016057"
      ]
     },
     "execution_count": 10,
     "metadata": {},
     "output_type": "execute_result"
    }
   ],
   "source": [
    "# maximum likelihood std\n",
    "x.std()"
   ]
  },
  {
   "cell_type": "code",
   "execution_count": 12,
   "id": "d10aae78",
   "metadata": {},
   "outputs": [
    {
     "data": {
      "text/plain": [
       "50.278287213668314"
      ]
     },
     "execution_count": 12,
     "metadata": {},
     "output_type": "execute_result"
    }
   ],
   "source": [
    "# unbiased variannce\n",
    "x.var(ddof=1)"
   ]
  },
  {
   "cell_type": "code",
   "execution_count": 13,
   "id": "2840120a",
   "metadata": {},
   "outputs": [
    {
     "data": {
      "text/plain": [
       "50.278287213668314"
      ]
     },
     "execution_count": 13,
     "metadata": {},
     "output_type": "execute_result"
    }
   ],
   "source": [
    "((x-x.mean())**2).sum()/(len(x)-1)"
   ]
  },
  {
   "cell_type": "code",
   "execution_count": 14,
   "id": "0c5423cc",
   "metadata": {},
   "outputs": [
    {
     "data": {
      "text/plain": [
       "7.090718384879512"
      ]
     },
     "execution_count": 14,
     "metadata": {},
     "output_type": "execute_result"
    }
   ],
   "source": [
    "# unbiased std\n",
    "x.std(ddof=1)"
   ]
  },
  {
   "cell_type": "code",
   "execution_count": 15,
   "id": "02d33179",
   "metadata": {},
   "outputs": [
    {
     "data": {
      "text/plain": [
       "181.5139753886603"
      ]
     },
     "execution_count": 15,
     "metadata": {},
     "output_type": "execute_result"
    }
   ],
   "source": [
    "# At what height are you in the 95th percentile\n",
    "norm.ppf(0.95,loc=mu,scale=sd)"
   ]
  },
  {
   "cell_type": "code",
   "execution_count": 16,
   "id": "76f9a0df",
   "metadata": {},
   "outputs": [
    {
     "data": {
      "text/plain": [
       "0.07656372550983476"
      ]
     },
     "execution_count": 16,
     "metadata": {},
     "output_type": "execute_result"
    }
   ],
   "source": [
    "# you are 160 m tall, what percentile you are in\n",
    "norm.cdf(160,loc=mu,scale=sd)"
   ]
  },
  {
   "cell_type": "code",
   "execution_count": 17,
   "id": "8e90f4dc",
   "metadata": {},
   "outputs": [
    {
     "data": {
      "text/plain": [
       "0.07656372550983481"
      ]
     },
     "execution_count": 17,
     "metadata": {},
     "output_type": "execute_result"
    }
   ],
   "source": [
    "# You are 180 cm tall, what is the probability that someone is taller than you\n",
    "1-norm.cdf(180,loc=mu,scale=sd)"
   ]
  },
  {
   "cell_type": "code",
   "execution_count": 19,
   "id": "8de7c510",
   "metadata": {},
   "outputs": [
    {
     "data": {
      "text/plain": [
       "0.07656372550983476"
      ]
     },
     "execution_count": 19,
     "metadata": {},
     "output_type": "execute_result"
    }
   ],
   "source": [
    "norm.sf(180,loc=mu,scale=sd) # 1-norm.cdf is also known as sf or survival function"
   ]
  },
  {
   "cell_type": "code",
   "execution_count": null,
   "id": "7b4864b0",
   "metadata": {},
   "outputs": [],
   "source": []
  }
 ],
 "metadata": {
  "kernelspec": {
   "display_name": "Python 3 (ipykernel)",
   "language": "python",
   "name": "python3"
  },
  "language_info": {
   "codemirror_mode": {
    "name": "ipython",
    "version": 3
   },
   "file_extension": ".py",
   "mimetype": "text/x-python",
   "name": "python",
   "nbconvert_exporter": "python",
   "pygments_lexer": "ipython3",
   "version": "3.11.4"
  }
 },
 "nbformat": 4,
 "nbformat_minor": 5
}
