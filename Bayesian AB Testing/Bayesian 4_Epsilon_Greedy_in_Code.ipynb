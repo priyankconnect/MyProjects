{
 "cells": [
  {
   "cell_type": "code",
   "execution_count": 1,
   "id": "256ede30",
   "metadata": {},
   "outputs": [
    {
     "name": "stdout",
     "output_type": "stream",
     "text": [
      "optimal j: 2\n",
      "mean estimate: 0.25\n",
      "mean estimate: 0.0\n",
      "mean estimate: 0.7437693924532055\n",
      "total reward earned: 7433.0\n",
      "overall win rate: 0.7433\n",
      "num_times_explored: 9\n",
      "num_times_exploited: 9991\n",
      "num times selected optimal bandit: 9991\n"
     ]
    },
    {
     "data": {
      "image/png": "[encoded data removed]",
      "text/plain": [
       "<Figure size 640x480 with 1 Axes>"
      ]
     },
     "metadata": {},
     "output_type": "display_data"
    }
   ],
   "source": [
    "from __future__ import print_function, division\n",
    "from builtins import range\n",
    "\n",
    "import matplotlib.pyplot as plt\n",
    "import numpy as np\n",
    "\n",
    "NUM_TRIALS = 10000\n",
    "EPS = 0.1\n",
    "BANDIT_PROBABILITIES = [0.2, 0.5, 0.75]\n",
    "\n",
    "def pull_bandit(p):\n",
    "    return np.random.random() < p\n",
    "\n",
    "def update_estimate(p_estimate, N, x):\n",
    "    N += 1\n",
    "    p_estimate = (1 / N) * ((N - 1) * p_estimate + x)\n",
    "    return p_estimate, N\n",
    "\n",
    "def experiment():\n",
    "    p_estimates = [0] * len(BANDIT_PROBABILITIES)\n",
    "    Ns = [0] * len(BANDIT_PROBABILITIES)\n",
    "    rewards = np.zeros(NUM_TRIALS)\n",
    "    num_times_explored = 0\n",
    "    num_times_exploited = 0\n",
    "    num_optimal = 0\n",
    "    optimal_j = np.argmax(BANDIT_PROBABILITIES)\n",
    "    print(\"optimal j:\", optimal_j)\n",
    "\n",
    "    for i in range(NUM_TRIALS):\n",
    "        eps = EPS * (0.99) ** i\n",
    "\n",
    "        if np.random.random() < eps:\n",
    "            num_times_explored += 1\n",
    "            j = np.random.randint(0, len(BANDIT_PROBABILITIES))\n",
    "        else:\n",
    "            num_times_exploited += 1\n",
    "            j = np.argmax(p_estimates)\n",
    "\n",
    "        if j == optimal_j:\n",
    "            num_optimal += 1\n",
    "\n",
    "        x = pull_bandit(BANDIT_PROBABILITIES[j])\n",
    "        rewards[i] = x\n",
    "\n",
    "        p_estimates[j], Ns[j] = update_estimate(p_estimates[j], Ns[j], x)\n",
    "\n",
    "    for p_estimate in p_estimates:\n",
    "        print(\"mean estimate:\", p_estimate)\n",
    "\n",
    "    print(\"total reward earned:\", rewards.sum())\n",
    "    print(\"overall win rate:\", rewards.sum() / NUM_TRIALS)\n",
    "    print(\"num_times_explored:\", num_times_explored)\n",
    "    print(\"num_times_exploited:\", num_times_exploited)\n",
    "    print(\"num times selected optimal bandit:\", num_optimal)\n",
    "\n",
    "    cumulative_rewards = np.cumsum(rewards)\n",
    "    win_rates = cumulative_rewards / (np.arange(NUM_TRIALS) + 1)\n",
    "    plt.plot(win_rates)\n",
    "    plt.plot(np.ones(NUM_TRIALS) * np.max(BANDIT_PROBABILITIES))\n",
    "    plt.show()\n",
    "\n",
    "# Call the experiment function directly when the script is run\n",
    "experiment()\n"
   ]
  },
  {
   "cell_type": "markdown",
   "id": "bcf6bf53",
   "metadata": {},
   "source": [
    "Import Libraries:\n",
    "\n",
    "The program starts by importing necessary libraries: numpy for random number generation, matplotlib for plotting, and some future-related imports for compatibility.\n",
    "Constants:\n",
    "\n",
    "NUM_TRIALS: The number of trials or rounds in the bandit problem simulation.\n",
    "EPS: The exploration-exploitation parameter epsilon, which determines the exploration rate. It starts at 0.1 and decays over time.\n",
    "BANDIT_PROBABILITIES: A list representing the true win probabilities of different bandit arms. In this example, there are three bandit arms with win probabilities of 0.2, 0.5, and 0.75.\n",
    "Functions:\n",
    "\n",
    "pull_bandit(p): Simulates pulling a bandit arm with a win probability p. It returns True with probability p (win) and False otherwise (lose).\n",
    "update_estimate(p_estimate, N, x): Updates the estimated win probability p_estimate and the number of pulls N based on the latest outcome x.\n",
    "Experiment Function:\n",
    "\n",
    "experiment(): This function performs the actual multi-armed bandit simulation.\n",
    "It initializes arrays to store estimated win probabilities (p_estimates) and the number of pulls for each bandit arm (Ns).\n",
    "It also initializes arrays to record rewards, counts for exploration and exploitation, and counts for choosing the optimal bandit arm.\n",
    "It calculates the index of the optimal bandit arm based on the true win probabilities.\n",
    "It runs the simulation loop for a fixed number of trials (NUM_TRIALS):\n",
    "At each trial, it calculates the exploration rate eps, which decreases over time.\n",
    "It uses the epsilon-greedy strategy to choose whether to explore (select a random bandit) or exploit (select the bandit with the highest estimated win probability).\n",
    "It records whether the selected bandit was the optimal one.\n",
    "It simulates pulling the selected bandit arm and records the reward.\n",
    "It updates the estimated win probability for the selected bandit arm.\n",
    "After the simulation, it prints the estimated win probabilities, total rewards, win rate, exploration and exploitation counts, and the count of choosing the optimal bandit arm.\n",
    "Finally, it plots the cumulative win rate over time along with a reference line showing the maximum win probability.\n",
    "Script Execution:\n",
    "\n",
    "The program concludes by calling the experiment() function to run the multi-armed bandit simulation.\n",
    "In essence, the program simulates the process of repeatedly selecting bandit arms to maximize the total reward while balancing exploration (trying new arms) and exploitation (selecting the best-known arm). The epsilon-greedy strategy is used for this purpose, and the results are visualized with a plot showing how the cumulative win rate evolves over time."
   ]
  },
  {
   "cell_type": "markdown",
   "id": "8fbd4d8a",
   "metadata": {},
   "source": [
    "# Analysis of Output\n",
    "\n",
    "optimal j: 2: This line tells you the index of the optimal bandit arm based on the true win probabilities. In this case, the optimal bandit arm has an index of 2 (0-based index), which corresponds to the bandit arm with a true win probability of 0.75.\n",
    "\n",
    "mean estimate: 0.25, mean estimate: 0.0, mean estimate: 0.7437693924532055: These lines show the estimated win probabilities for each of the three bandit arms after running the simulation.\n",
    "\n",
    "The first line (mean estimate: 0.25) shows that the estimated win probability for the first bandit arm (with a true win probability of 0.2) is approximately 0.25.\n",
    "The second line (mean estimate: 0.0) shows that the estimated win probability for the second bandit arm (with a true win probability of 0.5) is 0.0, indicating that this arm was not selected often.\n",
    "The third line (mean estimate: 0.7437693924532055) shows that the estimated win probability for the third bandit arm (with a true win probability of 0.75) is approximately 0.7437. This estimated win probability is close to the true win probability, indicating that the algorithm has learned to exploit this arm effectively.\n",
    "total reward earned: 7433.0: This line displays the total accumulated reward earned during the entire simulation. In this case, the total reward earned is 7433.\n",
    "\n",
    "overall win rate: 0.7433: This line shows the overall win rate, which is the total reward earned divided by the number of trials (NUM_TRIALS). The win rate is approximately 0.7433, indicating that the algorithm has learned to select the bandit arms with higher win probabilities over time.\n",
    "\n",
    "num_times_explored: 9: This line tells you the number of times the algorithm chose to explore (select a random bandit arm) during the simulation. In this case, the algorithm explored 9 times.\n",
    "\n",
    "num_times_exploited: 9991: This line tells you the number of times the algorithm chose to exploit (select the bandit with the highest estimated win probability) during the simulation. In this case, the algorithm exploited 9991 times, indicating that it mostly favored exploitation over exploration.\n",
    "\n",
    "num times selected optimal bandit: 9991: This line indicates how many times the algorithm selected the optimal bandit arm (the one with the highest true win probability) during the simulation. In this case, it selected the optimal bandit arm 9991 times, showing that the algorithm learned to choose the best arm effectively over time.\n",
    "\n",
    "Overall, the output demonstrates that the epsilon-greedy algorithm successfully learned to exploit the bandit arm with the highest true win probability, resulting in a high overall win rate. The estimated win probabilities converged towards the true probabilities as the algorithm gained more experience."
   ]
  },
  {
   "cell_type": "code",
   "execution_count": null,
   "id": "3c815541",
   "metadata": {},
   "outputs": [],
   "source": []
  }
 ],
 "metadata": {
  "kernelspec": {
   "display_name": "Python 3 (ipykernel)",
   "language": "python",
   "name": "python3"
  },
  "language_info": {
   "codemirror_mode": {
    "name": "ipython",
    "version": 3
   },
   "file_extension": ".py",
   "mimetype": "text/x-python",
   "name": "python",
   "nbconvert_exporter": "python",
   "pygments_lexer": "ipython3",
   "version": "3.11.4"
  }
 },
 "nbformat": 4,
 "nbformat_minor": 5
}
