{
 "cells": [
  {
   "cell_type": "code",
   "execution_count": 1,
   "id": "5fc38858",
   "metadata": {},
   "outputs": [],
   "source": [
    "import pandas as pd\n",
    "import numpy as np\n"
   ]
  },
  {
   "cell_type": "markdown",
   "id": "4607260b",
   "metadata": {},
   "source": [
    "#  How to extend an iterable to the datastructure "
   ]
  },
  {
   "cell_type": "markdown",
   "id": "e33eb45d",
   "metadata": {},
   "source": [
    "### List"
   ]
  },
  {
   "cell_type": "code",
   "execution_count": 2,
   "id": "a09886e2",
   "metadata": {
    "tags": []
   },
   "outputs": [
    {
     "data": {
      "text/plain": [
       "[1, 2, 3, 4, 5, 6]"
      ]
     },
     "execution_count": 2,
     "metadata": {},
     "output_type": "execute_result"
    }
   ],
   "source": [
    "list1 = [1, 2, 3]\n",
    "list2 = [4, 5, 6]\n",
    "list1.extend(list2)\n",
    "list1"
   ]
  },
  {
   "cell_type": "markdown",
   "id": "d299073e",
   "metadata": {},
   "source": [
    "### np.Array"
   ]
  },
  {
   "cell_type": "code",
   "execution_count": 3,
   "id": "cc218784",
   "metadata": {},
   "outputs": [
    {
     "data": {
      "text/plain": [
       "array([1, 2, 3, 4, 5, 6])"
      ]
     },
     "execution_count": 3,
     "metadata": {},
     "output_type": "execute_result"
    }
   ],
   "source": [
    "arr1 = np.array([1, 2, 3])\n",
    "arr2 = np.array([4, 5, 6])\n",
    "arr_combined = np.concatenate([arr1, arr2])\n",
    "arr_combined"
   ]
  },
  {
   "cell_type": "markdown",
   "id": "b29b5d74",
   "metadata": {},
   "source": [
    "### Dictionary"
   ]
  },
  {
   "cell_type": "code",
   "execution_count": 4,
   "id": "f70770b2",
   "metadata": {},
   "outputs": [
    {
     "data": {
      "text/plain": [
       "{'a': 1, 'b': 2, 'c': 3, 'd': 4}"
      ]
     },
     "execution_count": 4,
     "metadata": {},
     "output_type": "execute_result"
    }
   ],
   "source": [
    "dict1 = {'a': 1, 'b': 2}\n",
    "dict2 = {'c': 3, 'd': 4}\n",
    "dict1.update(dict2)\n",
    "dict1"
   ]
  },
  {
   "cell_type": "markdown",
   "id": "4ed24814",
   "metadata": {},
   "source": [
    "### Series"
   ]
  },
  {
   "cell_type": "code",
   "execution_count": 5,
   "id": "b16d97bc",
   "metadata": {},
   "outputs": [
    {
     "data": {
      "text/plain": [
       "0    1\n",
       "1    2\n",
       "2    3\n",
       "3    4\n",
       "4    5\n",
       "5    6\n",
       "dtype: int64"
      ]
     },
     "execution_count": 5,
     "metadata": {},
     "output_type": "execute_result"
    }
   ],
   "source": [
    "import pandas as pd\n",
    "\n",
    "s1 = pd.Series([1, 2, 3])\n",
    "s2 = pd.Series([4, 5, 6])\n",
    "s3 = pd.concat([s1, s2], ignore_index=True)\n",
    "s3"
   ]
  },
  {
   "cell_type": "markdown",
   "id": "06dcc8e8",
   "metadata": {},
   "source": [
    "### Dataframe"
   ]
  },
  {
   "cell_type": "code",
   "execution_count": 6,
   "id": "00585036",
   "metadata": {},
   "outputs": [
    {
     "data": {
      "text/html": [
       "<div>\n",
       "<style scoped>\n",
       "    .dataframe tbody tr th:only-of-type {\n",
       "        vertical-align: middle;\n",
       "    }\n",
       "\n",
       "    .dataframe tbody tr th {\n",
       "        vertical-align: top;\n",
       "    }\n",
       "\n",
       "    .dataframe thead th {\n",
       "        text-align: right;\n",
       "    }\n",
       "</style>\n",
       "<table border=\"1\" class=\"dataframe\">\n",
       "  <thead>\n",
       "    <tr style=\"text-align: right;\">\n",
       "      <th></th>\n",
       "      <th>A</th>\n",
       "      <th>B</th>\n",
       "    </tr>\n",
       "  </thead>\n",
       "  <tbody>\n",
       "    <tr>\n",
       "      <th>0</th>\n",
       "      <td>1</td>\n",
       "      <td>3</td>\n",
       "    </tr>\n",
       "    <tr>\n",
       "      <th>1</th>\n",
       "      <td>2</td>\n",
       "      <td>4</td>\n",
       "    </tr>\n",
       "    <tr>\n",
       "      <th>2</th>\n",
       "      <td>5</td>\n",
       "      <td>7</td>\n",
       "    </tr>\n",
       "    <tr>\n",
       "      <th>3</th>\n",
       "      <td>6</td>\n",
       "      <td>8</td>\n",
       "    </tr>\n",
       "  </tbody>\n",
       "</table>\n",
       "</div>"
      ],
      "text/plain": [
       "   A  B\n",
       "0  1  3\n",
       "1  2  4\n",
       "2  5  7\n",
       "3  6  8"
      ]
     },
     "execution_count": 6,
     "metadata": {},
     "output_type": "execute_result"
    }
   ],
   "source": [
    "import pandas as pd\n",
    "df1 = pd.DataFrame({'A': [1, 2], 'B': [3, 4]})\n",
    "df2 = pd.DataFrame({'A': [5, 6], 'B': [7, 8]})\n",
    "df3 = pd.concat([df1, df2], ignore_index=True)\n",
    "df3"
   ]
  },
  {
   "cell_type": "markdown",
   "id": "404e4624",
   "metadata": {},
   "source": [
    "# How to add an item to a data structure"
   ]
  },
  {
   "cell_type": "markdown",
   "id": "2937cf1b",
   "metadata": {},
   "source": [
    "### List"
   ]
  },
  {
   "cell_type": "code",
   "execution_count": 7,
   "id": "13ac3df2",
   "metadata": {},
   "outputs": [
    {
     "data": {
      "text/plain": [
       "[1, 2, 3, 4]"
      ]
     },
     "execution_count": 7,
     "metadata": {},
     "output_type": "execute_result"
    }
   ],
   "source": [
    "numbers = [1, 2, 3]\n",
    "# to append the number 4\n",
    "numbers.append(4)\n",
    "numbers"
   ]
  },
  {
   "cell_type": "markdown",
   "id": "b850a3b8",
   "metadata": {},
   "source": [
    "### Array"
   ]
  },
  {
   "cell_type": "code",
   "execution_count": 8,
   "id": "29363275",
   "metadata": {},
   "outputs": [
    {
     "data": {
      "text/plain": [
       "array([1, 2, 3, 4])"
      ]
     },
     "execution_count": 8,
     "metadata": {},
     "output_type": "execute_result"
    }
   ],
   "source": [
    "import numpy as np\n",
    "arr = np.array([1, 2, 3])\n",
    "python_list = arr.tolist()\n",
    "python_list.append(4)\n",
    "arr = np.array(python_list)\n",
    "arr"
   ]
  },
  {
   "cell_type": "markdown",
   "id": "96e96018",
   "metadata": {},
   "source": [
    "### Dictionary- To add a new key,value pair"
   ]
  },
  {
   "cell_type": "code",
   "execution_count": 9,
   "id": "917c0f22",
   "metadata": {},
   "outputs": [
    {
     "data": {
      "text/plain": [
       "{'a': 1, 'b': 2, 'c': 3}"
      ]
     },
     "execution_count": 9,
     "metadata": {},
     "output_type": "execute_result"
    }
   ],
   "source": [
    "my_dict={'a':1,'b':2}\n",
    "my_dict['c']=3\n",
    "my_dict"
   ]
  },
  {
   "cell_type": "markdown",
   "id": "36460f15",
   "metadata": {},
   "source": [
    "### Dictionary- To add a new value in an existing key"
   ]
  },
  {
   "cell_type": "code",
   "execution_count": 10,
   "id": "b56448d8",
   "metadata": {},
   "outputs": [
    {
     "data": {
      "text/plain": [
       "{'a': [1, 3], 'b': 2}"
      ]
     },
     "execution_count": 10,
     "metadata": {},
     "output_type": "execute_result"
    }
   ],
   "source": [
    "my_dict={'a':1,'b':2}\n",
    "if not isinstance(my_dict[\"a\"], list):\n",
    "    my_dict[\"a\"] = [my_dict[\"a\"]]\n",
    "my_dict[\"a\"].append(3)\n",
    "my_dict"
   ]
  },
  {
   "cell_type": "markdown",
   "id": "ff40ee00",
   "metadata": {},
   "source": [
    "### Series"
   ]
  },
  {
   "cell_type": "code",
   "execution_count": 11,
   "id": "42ff019d",
   "metadata": {},
   "outputs": [
    {
     "data": {
      "text/plain": [
       "0    1\n",
       "1    2\n",
       "2    3\n",
       "3    4\n",
       "dtype: int64"
      ]
     },
     "execution_count": 11,
     "metadata": {},
     "output_type": "execute_result"
    }
   ],
   "source": [
    "import numpy as np\n",
    "s = pd.Series([1, 2, 3])\n",
    "python_list = s.tolist()\n",
    "python_list.append(4)\n",
    "s = pd.Series(python_list)\n",
    "s"
   ]
  },
  {
   "cell_type": "markdown",
   "id": "64536f20",
   "metadata": {},
   "source": [
    "### Dataframe- Adding a new Column"
   ]
  },
  {
   "cell_type": "code",
   "execution_count": 12,
   "id": "db7fc865",
   "metadata": {},
   "outputs": [],
   "source": [
    "df = pd.DataFrame({\n",
    "    \"names\": [\"Alice\", \"Bob\"],\n",
    "    \"ages\": [25, 30]\n",
    "})"
   ]
  },
  {
   "cell_type": "code",
   "execution_count": 13,
   "id": "cbf1b639",
   "metadata": {},
   "outputs": [
    {
     "data": {
      "text/html": [
       "<div>\n",
       "<style scoped>\n",
       "    .dataframe tbody tr th:only-of-type {\n",
       "        vertical-align: middle;\n",
       "    }\n",
       "\n",
       "    .dataframe tbody tr th {\n",
       "        vertical-align: top;\n",
       "    }\n",
       "\n",
       "    .dataframe thead th {\n",
       "        text-align: right;\n",
       "    }\n",
       "</style>\n",
       "<table border=\"1\" class=\"dataframe\">\n",
       "  <thead>\n",
       "    <tr style=\"text-align: right;\">\n",
       "      <th></th>\n",
       "      <th>names</th>\n",
       "      <th>ages</th>\n",
       "      <th>gender</th>\n",
       "    </tr>\n",
       "  </thead>\n",
       "  <tbody>\n",
       "    <tr>\n",
       "      <th>0</th>\n",
       "      <td>Alice</td>\n",
       "      <td>25</td>\n",
       "      <td>Female</td>\n",
       "    </tr>\n",
       "    <tr>\n",
       "      <th>1</th>\n",
       "      <td>Bob</td>\n",
       "      <td>30</td>\n",
       "      <td>Male</td>\n",
       "    </tr>\n",
       "  </tbody>\n",
       "</table>\n",
       "</div>"
      ],
      "text/plain": [
       "   names  ages  gender\n",
       "0  Alice    25  Female\n",
       "1    Bob    30    Male"
      ]
     },
     "execution_count": 13,
     "metadata": {},
     "output_type": "execute_result"
    }
   ],
   "source": [
    "df[\"gender\"] = [\"Female\", \"Male\"]\n",
    "df"
   ]
  },
  {
   "cell_type": "markdown",
   "id": "6e49b995",
   "metadata": {},
   "source": [
    "### Dataframe- Adding a new Row"
   ]
  },
  {
   "cell_type": "code",
   "execution_count": 14,
   "id": "e2bc43c1",
   "metadata": {},
   "outputs": [
    {
     "data": {
      "text/html": [
       "<div>\n",
       "<style scoped>\n",
       "    .dataframe tbody tr th:only-of-type {\n",
       "        vertical-align: middle;\n",
       "    }\n",
       "\n",
       "    .dataframe tbody tr th {\n",
       "        vertical-align: top;\n",
       "    }\n",
       "\n",
       "    .dataframe thead th {\n",
       "        text-align: right;\n",
       "    }\n",
       "</style>\n",
       "<table border=\"1\" class=\"dataframe\">\n",
       "  <thead>\n",
       "    <tr style=\"text-align: right;\">\n",
       "      <th></th>\n",
       "      <th>names</th>\n",
       "      <th>ages</th>\n",
       "      <th>gender</th>\n",
       "    </tr>\n",
       "  </thead>\n",
       "  <tbody>\n",
       "    <tr>\n",
       "      <th>0</th>\n",
       "      <td>Alice</td>\n",
       "      <td>25</td>\n",
       "      <td>Female</td>\n",
       "    </tr>\n",
       "    <tr>\n",
       "      <th>1</th>\n",
       "      <td>Bob</td>\n",
       "      <td>30</td>\n",
       "      <td>Male</td>\n",
       "    </tr>\n",
       "    <tr>\n",
       "      <th>2</th>\n",
       "      <td>Charlie</td>\n",
       "      <td>28</td>\n",
       "      <td>Male</td>\n",
       "    </tr>\n",
       "  </tbody>\n",
       "</table>\n",
       "</div>"
      ],
      "text/plain": [
       "     names  ages  gender\n",
       "0    Alice    25  Female\n",
       "1      Bob    30    Male\n",
       "2  Charlie    28    Male"
      ]
     },
     "execution_count": 14,
     "metadata": {},
     "output_type": "execute_result"
    }
   ],
   "source": [
    "new_row = {\"names\": \"Charlie\", \"ages\": 28, \"gender\": \"Male\"}\n",
    "new_row_df = pd.DataFrame([new_row]) # convert new row into a dataframe\n",
    "df = pd.concat([df, new_row_df], ignore_index=True) # use concat\n",
    "df"
   ]
  },
  {
   "cell_type": "markdown",
   "id": "04f1fd4a",
   "metadata": {},
   "source": [
    "#  How to insert an item at a position to the datastructure "
   ]
  },
  {
   "cell_type": "markdown",
   "id": "8051ad46",
   "metadata": {},
   "source": [
    "### List"
   ]
  },
  {
   "cell_type": "code",
   "execution_count": 15,
   "id": "a8e66e34",
   "metadata": {},
   "outputs": [
    {
     "data": {
      "text/plain": [
       "[1, 1.5, 2, 3]"
      ]
     },
     "execution_count": 15,
     "metadata": {},
     "output_type": "execute_result"
    }
   ],
   "source": [
    "lst = [1, 2, 3]\n",
    "lst.insert(1, 1.5)  # Insert 1.5 at position 1\n",
    "lst"
   ]
  },
  {
   "cell_type": "markdown",
   "id": "19992233",
   "metadata": {},
   "source": [
    "### np.Array"
   ]
  },
  {
   "cell_type": "code",
   "execution_count": 16,
   "id": "e710781f",
   "metadata": {},
   "outputs": [
    {
     "data": {
      "text/plain": [
       "array([1, 1, 2, 3])"
      ]
     },
     "execution_count": 16,
     "metadata": {},
     "output_type": "execute_result"
    }
   ],
   "source": [
    "arr = np.array([1, 2, 3])\n",
    "arr = np.insert(arr, 1, 1.5)  # Insert 1.5 at position 1\n",
    "arr"
   ]
  },
  {
   "cell_type": "markdown",
   "id": "4138adda",
   "metadata": {},
   "source": [
    "### Dictionary - Not Possible"
   ]
  },
  {
   "cell_type": "markdown",
   "id": "06d7e883",
   "metadata": {},
   "source": [
    "### Series"
   ]
  },
  {
   "cell_type": "code",
   "execution_count": 17,
   "id": "c6a41a55",
   "metadata": {},
   "outputs": [
    {
     "data": {
      "text/plain": [
       "0    1.0\n",
       "1    1.5\n",
       "2    2.0\n",
       "3    3.0\n",
       "4    4.0\n",
       "dtype: float64"
      ]
     },
     "execution_count": 17,
     "metadata": {},
     "output_type": "execute_result"
    }
   ],
   "source": [
    "s_list = s.tolist()\n",
    "s_list.insert(1, 1.5)\n",
    "s = pd.Series(s_list)\n",
    "s"
   ]
  },
  {
   "cell_type": "markdown",
   "id": "01e8aa87",
   "metadata": {},
   "source": [
    "### Dataframe- Row"
   ]
  },
  {
   "cell_type": "code",
   "execution_count": 18,
   "id": "4b59f589",
   "metadata": {},
   "outputs": [
    {
     "data": {
      "text/html": [
       "<div>\n",
       "<style scoped>\n",
       "    .dataframe tbody tr th:only-of-type {\n",
       "        vertical-align: middle;\n",
       "    }\n",
       "\n",
       "    .dataframe tbody tr th {\n",
       "        vertical-align: top;\n",
       "    }\n",
       "\n",
       "    .dataframe thead th {\n",
       "        text-align: right;\n",
       "    }\n",
       "</style>\n",
       "<table border=\"1\" class=\"dataframe\">\n",
       "  <thead>\n",
       "    <tr style=\"text-align: right;\">\n",
       "      <th></th>\n",
       "      <th>A</th>\n",
       "      <th>B</th>\n",
       "    </tr>\n",
       "  </thead>\n",
       "  <tbody>\n",
       "    <tr>\n",
       "      <th>0</th>\n",
       "      <td>1.0</td>\n",
       "      <td>3.0</td>\n",
       "    </tr>\n",
       "    <tr>\n",
       "      <th>1</th>\n",
       "      <td>1.5</td>\n",
       "      <td>3.5</td>\n",
       "    </tr>\n",
       "    <tr>\n",
       "      <th>2</th>\n",
       "      <td>2.0</td>\n",
       "      <td>4.0</td>\n",
       "    </tr>\n",
       "  </tbody>\n",
       "</table>\n",
       "</div>"
      ],
      "text/plain": [
       "     A    B\n",
       "0  1.0  3.0\n",
       "1  1.5  3.5\n",
       "2  2.0  4.0"
      ]
     },
     "execution_count": 18,
     "metadata": {},
     "output_type": "execute_result"
    }
   ],
   "source": [
    "import pandas as pd\n",
    "\n",
    "# Redefining the sample DataFrame, new row, and insertion index\n",
    "\n",
    "df_sample = pd.DataFrame({'A': [1, 2], 'B': [3, 4]})\n",
    "new_row = pd.DataFrame({'A': [1.5], 'B': [3.5]})\n",
    "index_to_insert = 1\n",
    "\n",
    "# Splitting the DataFrame\n",
    "df_top = df_sample.iloc[:index_to_insert]\n",
    "df_bottom = df_sample.iloc[index_to_insert:]\n",
    "\n",
    "# Concatenating the parts with the new row\n",
    "df_updated = pd.concat([df_top, new_row, df_bottom], ignore_index=True)\n",
    "df_updated\n"
   ]
  },
  {
   "cell_type": "markdown",
   "id": "b58f8580",
   "metadata": {},
   "source": [
    "### Dataframe: Column"
   ]
  },
  {
   "cell_type": "code",
   "execution_count": 19,
   "id": "10d2d3e2",
   "metadata": {},
   "outputs": [
    {
     "data": {
      "text/html": [
       "<div>\n",
       "<style scoped>\n",
       "    .dataframe tbody tr th:only-of-type {\n",
       "        vertical-align: middle;\n",
       "    }\n",
       "\n",
       "    .dataframe tbody tr th {\n",
       "        vertical-align: top;\n",
       "    }\n",
       "\n",
       "    .dataframe thead th {\n",
       "        text-align: right;\n",
       "    }\n",
       "</style>\n",
       "<table border=\"1\" class=\"dataframe\">\n",
       "  <thead>\n",
       "    <tr style=\"text-align: right;\">\n",
       "      <th></th>\n",
       "      <th>A</th>\n",
       "      <th>A.5</th>\n",
       "      <th>B</th>\n",
       "    </tr>\n",
       "  </thead>\n",
       "  <tbody>\n",
       "    <tr>\n",
       "      <th>0</th>\n",
       "      <td>1</td>\n",
       "      <td>1.5</td>\n",
       "      <td>3</td>\n",
       "    </tr>\n",
       "    <tr>\n",
       "      <th>1</th>\n",
       "      <td>2</td>\n",
       "      <td>2.5</td>\n",
       "      <td>4</td>\n",
       "    </tr>\n",
       "  </tbody>\n",
       "</table>\n",
       "</div>"
      ],
      "text/plain": [
       "   A  A.5  B\n",
       "0  1  1.5  3\n",
       "1  2  2.5  4"
      ]
     },
     "execution_count": 19,
     "metadata": {},
     "output_type": "execute_result"
    }
   ],
   "source": [
    "df = pd.DataFrame({'A': [1, 2], 'B': [3, 4]})\n",
    "df.insert(1, 'A.5', [1.5, 2.5])  # Insert a column named 'A.5' at position 1\n",
    "df"
   ]
  },
  {
   "cell_type": "markdown",
   "id": "ce7b32be",
   "metadata": {},
   "source": [
    "#  How to Remove an item from the datastructure "
   ]
  },
  {
   "cell_type": "markdown",
   "id": "8e61a290",
   "metadata": {},
   "source": [
    "### List"
   ]
  },
  {
   "cell_type": "code",
   "execution_count": 20,
   "id": "f6d3d857",
   "metadata": {},
   "outputs": [
    {
     "data": {
      "text/plain": [
       "[1, 3, 2]"
      ]
     },
     "execution_count": 20,
     "metadata": {},
     "output_type": "execute_result"
    }
   ],
   "source": [
    "lst = [1, 2, 3, 2]\n",
    "lst.remove(2)  # This will remove the first occurrence of 2\n",
    "lst"
   ]
  },
  {
   "cell_type": "markdown",
   "id": "2d37df6c",
   "metadata": {},
   "source": [
    "### np.Array"
   ]
  },
  {
   "cell_type": "code",
   "execution_count": 21,
   "id": "32199d77",
   "metadata": {},
   "outputs": [
    {
     "data": {
      "text/plain": [
       "array([1, 3])"
      ]
     },
     "execution_count": 21,
     "metadata": {},
     "output_type": "execute_result"
    }
   ],
   "source": [
    "arr = np.array([1, 2, 3, 2])\n",
    "arr = arr[arr != 2]  # This will remove all occurrences of 2\n",
    "arr"
   ]
  },
  {
   "cell_type": "code",
   "execution_count": 22,
   "id": "56c62472",
   "metadata": {},
   "outputs": [
    {
     "data": {
      "text/plain": [
       "array([1, 3, 2])"
      ]
     },
     "execution_count": 22,
     "metadata": {},
     "output_type": "execute_result"
    }
   ],
   "source": [
    "arr = np.array([1, 2, 3, 2])\n",
    "index_to_remove = np.where(arr == 2)[0][0]  # Find the index of the first occurrence of 2\n",
    "arr = np.delete(arr, index_to_remove)  # Remove the element at that index\n",
    "arr"
   ]
  },
  {
   "cell_type": "markdown",
   "id": "2214d028",
   "metadata": {},
   "source": [
    "### Dictionary - Not Possible"
   ]
  },
  {
   "cell_type": "code",
   "execution_count": 23,
   "id": "6c6b0c01",
   "metadata": {},
   "outputs": [
    {
     "data": {
      "text/plain": [
       "{'a': 1, 'c': 3}"
      ]
     },
     "execution_count": 23,
     "metadata": {},
     "output_type": "execute_result"
    }
   ],
   "source": [
    "dict_example = {'a': 1, 'b': 2, 'c': 3}\n",
    "del dict_example['b']  # This will remove the key 'b' and its associated value\n",
    "dict_example"
   ]
  },
  {
   "cell_type": "markdown",
   "id": "895f82a1",
   "metadata": {},
   "source": [
    "### Series"
   ]
  },
  {
   "cell_type": "code",
   "execution_count": 24,
   "id": "e2d4f439",
   "metadata": {},
   "outputs": [
    {
     "data": {
      "text/plain": [
       "0    1\n",
       "2    3\n",
       "dtype: int64"
      ]
     },
     "execution_count": 24,
     "metadata": {},
     "output_type": "execute_result"
    }
   ],
   "source": [
    "s = pd.Series([1, 2, 3, 2])\n",
    "s = s[s != 2]  # This will remove all occurrences of 2\n",
    "s"
   ]
  },
  {
   "cell_type": "code",
   "execution_count": 25,
   "id": "3ff6c70f",
   "metadata": {},
   "outputs": [
    {
     "data": {
      "text/plain": [
       "0    1\n",
       "2    3\n",
       "3    2\n",
       "dtype: int64"
      ]
     },
     "execution_count": 25,
     "metadata": {},
     "output_type": "execute_result"
    }
   ],
   "source": [
    "s = pd.Series([1, 2, 3, 2])\n",
    "# Removing the first occurrence of 2 in the Series\n",
    "index_to_remove = (s == 2).idxmax()\n",
    "s_first_removed = s.drop(index_to_remove)\n",
    "\n",
    "s_first_removed"
   ]
  },
  {
   "cell_type": "markdown",
   "id": "781c8fa2",
   "metadata": {},
   "source": [
    "### Dataframe- Row"
   ]
  },
  {
   "cell_type": "code",
   "execution_count": 26,
   "id": "39371384",
   "metadata": {},
   "outputs": [
    {
     "data": {
      "text/html": [
       "<div>\n",
       "<style scoped>\n",
       "    .dataframe tbody tr th:only-of-type {\n",
       "        vertical-align: middle;\n",
       "    }\n",
       "\n",
       "    .dataframe tbody tr th {\n",
       "        vertical-align: top;\n",
       "    }\n",
       "\n",
       "    .dataframe thead th {\n",
       "        text-align: right;\n",
       "    }\n",
       "</style>\n",
       "<table border=\"1\" class=\"dataframe\">\n",
       "  <thead>\n",
       "    <tr style=\"text-align: right;\">\n",
       "      <th></th>\n",
       "      <th>A</th>\n",
       "      <th>B</th>\n",
       "    </tr>\n",
       "  </thead>\n",
       "  <tbody>\n",
       "    <tr>\n",
       "      <th>0</th>\n",
       "      <td>1</td>\n",
       "      <td>4</td>\n",
       "    </tr>\n",
       "    <tr>\n",
       "      <th>2</th>\n",
       "      <td>3</td>\n",
       "      <td>6</td>\n",
       "    </tr>\n",
       "  </tbody>\n",
       "</table>\n",
       "</div>"
      ],
      "text/plain": [
       "   A  B\n",
       "0  1  4\n",
       "2  3  6"
      ]
     },
     "execution_count": 26,
     "metadata": {},
     "output_type": "execute_result"
    }
   ],
   "source": [
    "df = pd.DataFrame({'A': [1, 2, 3], 'B': [4, 5, 6]})\n",
    "df = df[df['A'] != 2]\n",
    "df"
   ]
  },
  {
   "cell_type": "markdown",
   "id": "fa806c06",
   "metadata": {},
   "source": [
    "### Dataframe: Column"
   ]
  },
  {
   "cell_type": "code",
   "execution_count": 27,
   "id": "6a6f6f1e",
   "metadata": {},
   "outputs": [
    {
     "data": {
      "text/html": [
       "<div>\n",
       "<style scoped>\n",
       "    .dataframe tbody tr th:only-of-type {\n",
       "        vertical-align: middle;\n",
       "    }\n",
       "\n",
       "    .dataframe tbody tr th {\n",
       "        vertical-align: top;\n",
       "    }\n",
       "\n",
       "    .dataframe thead th {\n",
       "        text-align: right;\n",
       "    }\n",
       "</style>\n",
       "<table border=\"1\" class=\"dataframe\">\n",
       "  <thead>\n",
       "    <tr style=\"text-align: right;\">\n",
       "      <th></th>\n",
       "      <th>B</th>\n",
       "    </tr>\n",
       "  </thead>\n",
       "  <tbody>\n",
       "    <tr>\n",
       "      <th>0</th>\n",
       "      <td>4</td>\n",
       "    </tr>\n",
       "    <tr>\n",
       "      <th>1</th>\n",
       "      <td>5</td>\n",
       "    </tr>\n",
       "    <tr>\n",
       "      <th>2</th>\n",
       "      <td>6</td>\n",
       "    </tr>\n",
       "  </tbody>\n",
       "</table>\n",
       "</div>"
      ],
      "text/plain": [
       "   B\n",
       "0  4\n",
       "1  5\n",
       "2  6"
      ]
     },
     "execution_count": 27,
     "metadata": {},
     "output_type": "execute_result"
    }
   ],
   "source": [
    "df = pd.DataFrame({'A': [1, 2, 3], 'B': [4, 5, 6]})\n",
    "df.drop('A', axis=1, inplace=True)\n",
    "df"
   ]
  },
  {
   "cell_type": "markdown",
   "id": "50ff9348",
   "metadata": {},
   "source": [
    "#  How to Clear the items from the datastructure "
   ]
  },
  {
   "cell_type": "markdown",
   "id": "1e9f8ad1",
   "metadata": {},
   "source": [
    "### List"
   ]
  },
  {
   "cell_type": "code",
   "execution_count": 28,
   "id": "a12f0bd4",
   "metadata": {},
   "outputs": [
    {
     "data": {
      "text/plain": [
       "[]"
      ]
     },
     "execution_count": 28,
     "metadata": {},
     "output_type": "execute_result"
    }
   ],
   "source": [
    "lst = [1, 2, 3]\n",
    "lst.clear()\n",
    "lst"
   ]
  },
  {
   "cell_type": "markdown",
   "id": "144d61aa",
   "metadata": {},
   "source": [
    "### np.Array"
   ]
  },
  {
   "cell_type": "code",
   "execution_count": 29,
   "id": "3f003288",
   "metadata": {},
   "outputs": [
    {
     "data": {
      "text/plain": [
       "array([], dtype=float64)"
      ]
     },
     "execution_count": 29,
     "metadata": {},
     "output_type": "execute_result"
    }
   ],
   "source": [
    "arr = np.array([1, 2, 3])\n",
    "arr = np.array([])\n",
    "arr"
   ]
  },
  {
   "cell_type": "markdown",
   "id": "8585463a",
   "metadata": {},
   "source": [
    "### Dictionary - Not Possible"
   ]
  },
  {
   "cell_type": "code",
   "execution_count": 30,
   "id": "37e374f8",
   "metadata": {},
   "outputs": [
    {
     "data": {
      "text/plain": [
       "{}"
      ]
     },
     "execution_count": 30,
     "metadata": {},
     "output_type": "execute_result"
    }
   ],
   "source": [
    "dict_example = {'a': 1, 'b': 2}\n",
    "dict_example.clear()\n",
    "dict_example"
   ]
  },
  {
   "cell_type": "markdown",
   "id": "2f44c2f0",
   "metadata": {},
   "source": [
    "### Series"
   ]
  },
  {
   "cell_type": "code",
   "execution_count": 31,
   "id": "d7aa1616",
   "metadata": {},
   "outputs": [
    {
     "data": {
      "text/plain": [
       "Series([], dtype: object)"
      ]
     },
     "execution_count": 31,
     "metadata": {},
     "output_type": "execute_result"
    }
   ],
   "source": [
    "s = pd.Series([1, 2, 3])\n",
    "s = pd.Series([], dtype='object')\n",
    "s"
   ]
  },
  {
   "cell_type": "markdown",
   "id": "36648951",
   "metadata": {},
   "source": [
    "### Dataframe- Row"
   ]
  },
  {
   "cell_type": "code",
   "execution_count": 32,
   "id": "c2757350",
   "metadata": {},
   "outputs": [
    {
     "data": {
      "text/html": [
       "<div>\n",
       "<style scoped>\n",
       "    .dataframe tbody tr th:only-of-type {\n",
       "        vertical-align: middle;\n",
       "    }\n",
       "\n",
       "    .dataframe tbody tr th {\n",
       "        vertical-align: top;\n",
       "    }\n",
       "\n",
       "    .dataframe thead th {\n",
       "        text-align: right;\n",
       "    }\n",
       "</style>\n",
       "<table border=\"1\" class=\"dataframe\">\n",
       "  <thead>\n",
       "    <tr style=\"text-align: right;\">\n",
       "      <th></th>\n",
       "      <th>A</th>\n",
       "      <th>B</th>\n",
       "    </tr>\n",
       "  </thead>\n",
       "  <tbody>\n",
       "    <tr>\n",
       "      <th>0</th>\n",
       "      <td>1</td>\n",
       "      <td>4</td>\n",
       "    </tr>\n",
       "    <tr>\n",
       "      <th>2</th>\n",
       "      <td>3</td>\n",
       "      <td>6</td>\n",
       "    </tr>\n",
       "  </tbody>\n",
       "</table>\n",
       "</div>"
      ],
      "text/plain": [
       "   A  B\n",
       "0  1  4\n",
       "2  3  6"
      ]
     },
     "execution_count": 32,
     "metadata": {},
     "output_type": "execute_result"
    }
   ],
   "source": [
    "df = pd.DataFrame({'A': [1, 2, 3], 'B': [4, 5, 6]})\n",
    "df = df[df['A'] != 2]\n",
    "df"
   ]
  },
  {
   "cell_type": "markdown",
   "id": "a40594cc",
   "metadata": {},
   "source": [
    "### Dataframe"
   ]
  },
  {
   "cell_type": "code",
   "execution_count": 33,
   "id": "3b8716d7",
   "metadata": {},
   "outputs": [
    {
     "data": {
      "text/html": [
       "<div>\n",
       "<style scoped>\n",
       "    .dataframe tbody tr th:only-of-type {\n",
       "        vertical-align: middle;\n",
       "    }\n",
       "\n",
       "    .dataframe tbody tr th {\n",
       "        vertical-align: top;\n",
       "    }\n",
       "\n",
       "    .dataframe thead th {\n",
       "        text-align: right;\n",
       "    }\n",
       "</style>\n",
       "<table border=\"1\" class=\"dataframe\">\n",
       "  <thead>\n",
       "    <tr style=\"text-align: right;\">\n",
       "      <th></th>\n",
       "    </tr>\n",
       "  </thead>\n",
       "  <tbody>\n",
       "  </tbody>\n",
       "</table>\n",
       "</div>"
      ],
      "text/plain": [
       "Empty DataFrame\n",
       "Columns: []\n",
       "Index: []"
      ]
     },
     "execution_count": 33,
     "metadata": {},
     "output_type": "execute_result"
    }
   ],
   "source": [
    "df = pd.DataFrame({'A': [1, 2], 'B': [3, 4]})\n",
    "df = pd.DataFrame()\n",
    "df"
   ]
  },
  {
   "cell_type": "markdown",
   "id": "33b6d17c",
   "metadata": {},
   "source": [
    "#  How to Return the index of the first item from the datastructure "
   ]
  },
  {
   "cell_type": "markdown",
   "id": "45a79711",
   "metadata": {},
   "source": [
    "### List"
   ]
  },
  {
   "cell_type": "code",
   "execution_count": 34,
   "id": "3f064676",
   "metadata": {},
   "outputs": [
    {
     "data": {
      "text/plain": [
       "1"
      ]
     },
     "execution_count": 34,
     "metadata": {},
     "output_type": "execute_result"
    }
   ],
   "source": [
    "lst = [1, 2, 3, 2]\n",
    "idx = lst.index(2)  # This will return the index of the first occurrence of 2\n",
    "idx"
   ]
  },
  {
   "cell_type": "markdown",
   "id": "e0f720b4",
   "metadata": {},
   "source": [
    "### np.Array"
   ]
  },
  {
   "cell_type": "code",
   "execution_count": 35,
   "id": "7f4eb5ed",
   "metadata": {},
   "outputs": [
    {
     "data": {
      "text/plain": [
       "1"
      ]
     },
     "execution_count": 35,
     "metadata": {},
     "output_type": "execute_result"
    }
   ],
   "source": [
    "arr = np.array([1, 2, 3, 2])\n",
    "idx = np.where(arr == 2)[0][0]\n",
    "idx"
   ]
  },
  {
   "cell_type": "markdown",
   "id": "d091854b",
   "metadata": {},
   "source": [
    "### Dictionary"
   ]
  },
  {
   "cell_type": "code",
   "execution_count": 36,
   "id": "b0e6c773",
   "metadata": {},
   "outputs": [
    {
     "data": {
      "text/plain": [
       "'b'"
      ]
     },
     "execution_count": 36,
     "metadata": {},
     "output_type": "execute_result"
    }
   ],
   "source": [
    "dict_example = {'a': 1, 'b': 2, 'c': 3}\n",
    "key_for_value = next(key for key, value in dict_example.items() if value == 2)\n",
    "key_for_value"
   ]
  },
  {
   "cell_type": "markdown",
   "id": "df4748a1",
   "metadata": {},
   "source": [
    "### Series"
   ]
  },
  {
   "cell_type": "code",
   "execution_count": 37,
   "id": "591c2fcf",
   "metadata": {},
   "outputs": [
    {
     "data": {
      "text/plain": [
       "1"
      ]
     },
     "execution_count": 37,
     "metadata": {},
     "output_type": "execute_result"
    }
   ],
   "source": [
    "s = pd.Series([1, 2, 3, 2])\n",
    "idx = (s == 2).idxmax()\n",
    "idx"
   ]
  },
  {
   "cell_type": "markdown",
   "id": "c93464aa",
   "metadata": {},
   "source": [
    "### Dataframe"
   ]
  },
  {
   "cell_type": "code",
   "execution_count": 38,
   "id": "9d93da4d",
   "metadata": {},
   "outputs": [
    {
     "data": {
      "text/plain": [
       "1"
      ]
     },
     "execution_count": 38,
     "metadata": {},
     "output_type": "execute_result"
    }
   ],
   "source": [
    "df = pd.DataFrame({'A': [1, 2, 3], 'B': [4, 5, 6]})\n",
    "idx = (df['A'] == 2).idxmax()\n",
    "idx"
   ]
  },
  {
   "cell_type": "markdown",
   "id": "861c9929",
   "metadata": {},
   "source": [
    "#  How to Count the items from the datastructure "
   ]
  },
  {
   "cell_type": "markdown",
   "id": "ebb530f2",
   "metadata": {},
   "source": [
    "### List"
   ]
  },
  {
   "cell_type": "code",
   "execution_count": 39,
   "id": "5b1892a4",
   "metadata": {},
   "outputs": [
    {
     "data": {
      "text/plain": [
       "2"
      ]
     },
     "execution_count": 39,
     "metadata": {},
     "output_type": "execute_result"
    }
   ],
   "source": [
    "lst = [1, 2, 2, 3]\n",
    "count = lst.count(2)  # This will return 2 because 2 appears twice\n",
    "count"
   ]
  },
  {
   "cell_type": "markdown",
   "id": "510253f9",
   "metadata": {},
   "source": [
    "### np.Array"
   ]
  },
  {
   "cell_type": "code",
   "execution_count": 40,
   "id": "88aac8e2",
   "metadata": {},
   "outputs": [
    {
     "data": {
      "text/plain": [
       "2"
      ]
     },
     "execution_count": 40,
     "metadata": {},
     "output_type": "execute_result"
    }
   ],
   "source": [
    "arr = np.array([1, 2, 2, 3])\n",
    "count = np.count_nonzero(arr == 2)\n",
    "count"
   ]
  },
  {
   "cell_type": "markdown",
   "id": "76552a84",
   "metadata": {},
   "source": [
    "### Dictionary"
   ]
  },
  {
   "cell_type": "code",
   "execution_count": 41,
   "id": "a30e4756",
   "metadata": {},
   "outputs": [
    {
     "data": {
      "text/plain": [
       "2"
      ]
     },
     "execution_count": 41,
     "metadata": {},
     "output_type": "execute_result"
    }
   ],
   "source": [
    "dict_example = {'a': 1, 'b': 2, 'c': 2}\n",
    "count = list(dict_example.values()).count(2)\n",
    "count"
   ]
  },
  {
   "cell_type": "markdown",
   "id": "844e2477",
   "metadata": {},
   "source": [
    "### Series"
   ]
  },
  {
   "cell_type": "code",
   "execution_count": 42,
   "id": "0c130e93",
   "metadata": {},
   "outputs": [
    {
     "data": {
      "text/plain": [
       "2"
      ]
     },
     "execution_count": 42,
     "metadata": {},
     "output_type": "execute_result"
    }
   ],
   "source": [
    "s = pd.Series([1, 2, 2, 3])\n",
    "count = s.value_counts().get(2, 0)\n",
    "count"
   ]
  },
  {
   "cell_type": "markdown",
   "id": "2e31eb01",
   "metadata": {},
   "source": [
    "### Dataframe"
   ]
  },
  {
   "cell_type": "code",
   "execution_count": 43,
   "id": "820a2de1",
   "metadata": {},
   "outputs": [
    {
     "data": {
      "text/plain": [
       "2"
      ]
     },
     "execution_count": 43,
     "metadata": {},
     "output_type": "execute_result"
    }
   ],
   "source": [
    "#for a specific column\n",
    "df = pd.DataFrame({'A': [1, 2, 2], 'B': [4, 5, 6]})\n",
    "count = df['A'].value_counts().get(2, 0)\n",
    "count"
   ]
  },
  {
   "cell_type": "code",
   "execution_count": 44,
   "id": "d6995052",
   "metadata": {},
   "outputs": [
    {
     "data": {
      "text/plain": [
       "2"
      ]
     },
     "execution_count": 44,
     "metadata": {},
     "output_type": "execute_result"
    }
   ],
   "source": [
    "# for the entire dataframe\n",
    "count = (df == 2).sum().sum()\n",
    "count"
   ]
  },
  {
   "cell_type": "markdown",
   "id": "aa381555",
   "metadata": {},
   "source": [
    "#  How to Sort the items in the datastructure "
   ]
  },
  {
   "cell_type": "markdown",
   "id": "d8d98644",
   "metadata": {},
   "source": [
    "### List"
   ]
  },
  {
   "cell_type": "code",
   "execution_count": 45,
   "id": "013a9f2c",
   "metadata": {},
   "outputs": [
    {
     "data": {
      "text/plain": [
       "[1, 2, 3]"
      ]
     },
     "execution_count": 45,
     "metadata": {},
     "output_type": "execute_result"
    }
   ],
   "source": [
    "lst = [3, 1, 2]\n",
    "lst.sort()  # Sorts in ascending order\n",
    "lst"
   ]
  },
  {
   "cell_type": "markdown",
   "id": "0a5d7b6b",
   "metadata": {},
   "source": [
    "### np.Array"
   ]
  },
  {
   "cell_type": "code",
   "execution_count": 46,
   "id": "f6004164",
   "metadata": {},
   "outputs": [
    {
     "data": {
      "text/plain": [
       "array([1, 2, 3])"
      ]
     },
     "execution_count": 46,
     "metadata": {},
     "output_type": "execute_result"
    }
   ],
   "source": [
    "arr = np.array([3, 1, 2])\n",
    "sorted_arr = np.sort(arr)\n",
    "sorted_arr"
   ]
  },
  {
   "cell_type": "markdown",
   "id": "39ce67b4",
   "metadata": {},
   "source": [
    "### Dictionary"
   ]
  },
  {
   "cell_type": "code",
   "execution_count": 47,
   "id": "9f73e688",
   "metadata": {},
   "outputs": [
    {
     "name": "stdout",
     "output_type": "stream",
     "text": [
      "sorted_keys ['a', 'b', 'c']\n",
      "sorted_items [('a', 1), ('b', 2), ('c', 3)]\n"
     ]
    }
   ],
   "source": [
    "dict_example = {'b': 2, 'a': 1, 'c': 3}\n",
    "sorted_keys = sorted(dict_example.keys())\n",
    "sorted_items = sorted(dict_example.items(), key=lambda x: x[1])  # Sort by value\n",
    "print('sorted_keys',sorted_keys)\n",
    "print('sorted_items',sorted_items)"
   ]
  },
  {
   "cell_type": "markdown",
   "id": "824366ac",
   "metadata": {},
   "source": [
    "### Series"
   ]
  },
  {
   "cell_type": "code",
   "execution_count": 48,
   "id": "e87a6c26",
   "metadata": {},
   "outputs": [
    {
     "data": {
      "text/plain": [
       "1    1\n",
       "2    2\n",
       "0    3\n",
       "dtype: int64"
      ]
     },
     "execution_count": 48,
     "metadata": {},
     "output_type": "execute_result"
    }
   ],
   "source": [
    "s = pd.Series([3, 1, 2])\n",
    "sorted_s = s.sort_values()\n",
    "sorted_s"
   ]
  },
  {
   "cell_type": "markdown",
   "id": "91fc398c",
   "metadata": {},
   "source": [
    "### Dataframe"
   ]
  },
  {
   "cell_type": "code",
   "execution_count": 49,
   "id": "b9508d59",
   "metadata": {},
   "outputs": [
    {
     "data": {
      "text/html": [
       "<div>\n",
       "<style scoped>\n",
       "    .dataframe tbody tr th:only-of-type {\n",
       "        vertical-align: middle;\n",
       "    }\n",
       "\n",
       "    .dataframe tbody tr th {\n",
       "        vertical-align: top;\n",
       "    }\n",
       "\n",
       "    .dataframe thead th {\n",
       "        text-align: right;\n",
       "    }\n",
       "</style>\n",
       "<table border=\"1\" class=\"dataframe\">\n",
       "  <thead>\n",
       "    <tr style=\"text-align: right;\">\n",
       "      <th></th>\n",
       "      <th>A</th>\n",
       "      <th>B</th>\n",
       "    </tr>\n",
       "  </thead>\n",
       "  <tbody>\n",
       "    <tr>\n",
       "      <th>1</th>\n",
       "      <td>1</td>\n",
       "      <td>3</td>\n",
       "    </tr>\n",
       "    <tr>\n",
       "      <th>2</th>\n",
       "      <td>2</td>\n",
       "      <td>1</td>\n",
       "    </tr>\n",
       "    <tr>\n",
       "      <th>0</th>\n",
       "      <td>3</td>\n",
       "      <td>2</td>\n",
       "    </tr>\n",
       "  </tbody>\n",
       "</table>\n",
       "</div>"
      ],
      "text/plain": [
       "   A  B\n",
       "1  1  3\n",
       "2  2  1\n",
       "0  3  2"
      ]
     },
     "execution_count": 49,
     "metadata": {},
     "output_type": "execute_result"
    }
   ],
   "source": [
    "df = pd.DataFrame({'A': [3, 1, 2], 'B': [2, 3, 1]})\n",
    "sorted_df = df.sort_values(by='A')\n",
    "sorted_df"
   ]
  },
  {
   "cell_type": "markdown",
   "id": "b84a6e64",
   "metadata": {},
   "source": [
    "#  How to Reverse the items in the datastructure "
   ]
  },
  {
   "cell_type": "markdown",
   "id": "417abd76",
   "metadata": {},
   "source": [
    "### List"
   ]
  },
  {
   "cell_type": "code",
   "execution_count": 50,
   "id": "ebadd98a",
   "metadata": {},
   "outputs": [
    {
     "data": {
      "text/plain": [
       "[3, 2, 1]"
      ]
     },
     "execution_count": 50,
     "metadata": {},
     "output_type": "execute_result"
    }
   ],
   "source": [
    "lst = [1, 2, 3]\n",
    "lst.reverse()\n",
    "lst"
   ]
  },
  {
   "cell_type": "markdown",
   "id": "9da2adb6",
   "metadata": {},
   "source": [
    "### np.Array"
   ]
  },
  {
   "cell_type": "code",
   "execution_count": 51,
   "id": "5e109f29",
   "metadata": {},
   "outputs": [
    {
     "data": {
      "text/plain": [
       "array([3, 2, 1])"
      ]
     },
     "execution_count": 51,
     "metadata": {},
     "output_type": "execute_result"
    }
   ],
   "source": [
    "arr = np.array([1, 2, 3])\n",
    "reversed_arr = np.flip(arr)\n",
    "reversed_arr"
   ]
  },
  {
   "cell_type": "markdown",
   "id": "e1d8fe2b",
   "metadata": {},
   "source": [
    "### Dictionary"
   ]
  },
  {
   "cell_type": "code",
   "execution_count": 52,
   "id": "2293e09f",
   "metadata": {},
   "outputs": [
    {
     "data": {
      "text/plain": [
       "{'c': 3, 'b': 2, 'a': 1}"
      ]
     },
     "execution_count": 52,
     "metadata": {},
     "output_type": "execute_result"
    }
   ],
   "source": [
    "dict_example = {'a': 1, 'b': 2, 'c': 3}\n",
    "reversed_dict = dict(reversed(dict_example.items()))\n",
    "reversed_dict"
   ]
  },
  {
   "cell_type": "markdown",
   "id": "4a3a39a1",
   "metadata": {},
   "source": [
    "### Series"
   ]
  },
  {
   "cell_type": "code",
   "execution_count": 53,
   "id": "d86774e2",
   "metadata": {},
   "outputs": [
    {
     "data": {
      "text/plain": [
       "2    3\n",
       "1    2\n",
       "0    1\n",
       "dtype: int64"
      ]
     },
     "execution_count": 53,
     "metadata": {},
     "output_type": "execute_result"
    }
   ],
   "source": [
    "s = pd.Series([1, 2, 3])\n",
    "reversed_s = s.iloc[::-1]\n",
    "reversed_s"
   ]
  },
  {
   "cell_type": "markdown",
   "id": "1d508bae",
   "metadata": {},
   "source": [
    "### Dataframe"
   ]
  },
  {
   "cell_type": "code",
   "execution_count": 54,
   "id": "be55484c",
   "metadata": {
    "scrolled": true
   },
   "outputs": [
    {
     "data": {
      "text/html": [
       "<div>\n",
       "<style scoped>\n",
       "    .dataframe tbody tr th:only-of-type {\n",
       "        vertical-align: middle;\n",
       "    }\n",
       "\n",
       "    .dataframe tbody tr th {\n",
       "        vertical-align: top;\n",
       "    }\n",
       "\n",
       "    .dataframe thead th {\n",
       "        text-align: right;\n",
       "    }\n",
       "</style>\n",
       "<table border=\"1\" class=\"dataframe\">\n",
       "  <thead>\n",
       "    <tr style=\"text-align: right;\">\n",
       "      <th></th>\n",
       "      <th>A</th>\n",
       "      <th>B</th>\n",
       "    </tr>\n",
       "  </thead>\n",
       "  <tbody>\n",
       "    <tr>\n",
       "      <th>2</th>\n",
       "      <td>3</td>\n",
       "      <td>6</td>\n",
       "    </tr>\n",
       "    <tr>\n",
       "      <th>1</th>\n",
       "      <td>2</td>\n",
       "      <td>5</td>\n",
       "    </tr>\n",
       "    <tr>\n",
       "      <th>0</th>\n",
       "      <td>1</td>\n",
       "      <td>4</td>\n",
       "    </tr>\n",
       "  </tbody>\n",
       "</table>\n",
       "</div>"
      ],
      "text/plain": [
       "   A  B\n",
       "2  3  6\n",
       "1  2  5\n",
       "0  1  4"
      ]
     },
     "execution_count": 54,
     "metadata": {},
     "output_type": "execute_result"
    }
   ],
   "source": [
    "df = pd.DataFrame({'A': [1, 2, 3], 'B': [4, 5, 6]})\n",
    "reversed_df = df.iloc[::-1]\n",
    "reversed_df"
   ]
  },
  {
   "cell_type": "markdown",
   "id": "8eb158e7",
   "metadata": {},
   "source": [
    "#  How to Convert one to Another Data Structure"
   ]
  },
  {
   "cell_type": "markdown",
   "id": "5c4f47fd",
   "metadata": {},
   "source": [
    "### List to Dictionary"
   ]
  },
  {
   "cell_type": "code",
   "execution_count": 55,
   "id": "4d6bd717",
   "metadata": {},
   "outputs": [
    {
     "data": {
      "text/plain": [
       "{'a': 1, 'b': 2}"
      ]
     },
     "execution_count": 55,
     "metadata": {},
     "output_type": "execute_result"
    }
   ],
   "source": [
    "lst = [('a', 1), ('b', 2)]\n",
    "dict_obj = dict(lst)\n",
    "dict_obj"
   ]
  },
  {
   "cell_type": "markdown",
   "id": "aeb44025",
   "metadata": {},
   "source": [
    "### Dictionary to List"
   ]
  },
  {
   "cell_type": "code",
   "execution_count": 56,
   "id": "14db3b52",
   "metadata": {},
   "outputs": [
    {
     "data": {
      "text/plain": [
       "(['a', 'b'], [1, 2])"
      ]
     },
     "execution_count": 56,
     "metadata": {},
     "output_type": "execute_result"
    }
   ],
   "source": [
    "dict_obj = {'a': 1, 'b': 2}\n",
    "lst_keys = list(dict_obj.keys())\n",
    "lst_values = list(dict_obj.values())\n",
    "lst_keys,lst_values"
   ]
  },
  {
   "cell_type": "markdown",
   "id": "9fb11d0a",
   "metadata": {},
   "source": [
    "### List to np.array"
   ]
  },
  {
   "cell_type": "code",
   "execution_count": 57,
   "id": "48aa0d50",
   "metadata": {},
   "outputs": [
    {
     "data": {
      "text/plain": [
       "array([1, 2, 3])"
      ]
     },
     "execution_count": 57,
     "metadata": {},
     "output_type": "execute_result"
    }
   ],
   "source": [
    "import numpy as np\n",
    "lst = [1, 2, 3]\n",
    "arr = np.array(lst)\n",
    "arr"
   ]
  },
  {
   "cell_type": "markdown",
   "id": "8095ca5b",
   "metadata": {},
   "source": [
    "### np.array to List"
   ]
  },
  {
   "cell_type": "code",
   "execution_count": 58,
   "id": "b088d574",
   "metadata": {},
   "outputs": [
    {
     "data": {
      "text/plain": [
       "[1, 2, 3]"
      ]
     },
     "execution_count": 58,
     "metadata": {},
     "output_type": "execute_result"
    }
   ],
   "source": [
    "arr = np.array([1, 2, 3])\n",
    "lst = arr.tolist()\n",
    "lst\n"
   ]
  },
  {
   "cell_type": "markdown",
   "id": "2ba7fde4",
   "metadata": {},
   "source": [
    "### List to Series"
   ]
  },
  {
   "cell_type": "code",
   "execution_count": 59,
   "id": "f93070f7",
   "metadata": {},
   "outputs": [
    {
     "data": {
      "text/plain": [
       "0    1\n",
       "1    2\n",
       "2    3\n",
       "dtype: int64"
      ]
     },
     "execution_count": 59,
     "metadata": {},
     "output_type": "execute_result"
    }
   ],
   "source": [
    "import pandas as pd\n",
    "lst = [1, 2, 3]\n",
    "series_obj = pd.Series(lst)\n",
    "series_obj"
   ]
  },
  {
   "cell_type": "markdown",
   "id": "94d64032",
   "metadata": {},
   "source": [
    "### Series to List"
   ]
  },
  {
   "cell_type": "code",
   "execution_count": 60,
   "id": "5a9c506c",
   "metadata": {},
   "outputs": [
    {
     "data": {
      "text/plain": [
       "[1, 2, 3]"
      ]
     },
     "execution_count": 60,
     "metadata": {},
     "output_type": "execute_result"
    }
   ],
   "source": [
    "series_obj = pd.Series([1, 2, 3])\n",
    "lst = series_obj.tolist()\n",
    "lst"
   ]
  },
  {
   "cell_type": "markdown",
   "id": "920bdd11",
   "metadata": {},
   "source": [
    "### Dictiionary to Series"
   ]
  },
  {
   "cell_type": "code",
   "execution_count": 61,
   "id": "bb0c7c9e",
   "metadata": {},
   "outputs": [
    {
     "data": {
      "text/plain": [
       "a    1\n",
       "b    2\n",
       "dtype: int64"
      ]
     },
     "execution_count": 61,
     "metadata": {},
     "output_type": "execute_result"
    }
   ],
   "source": [
    "dict_obj = {'a': 1, 'b': 2}\n",
    "series_obj = pd.Series(dict_obj)\n",
    "series_obj"
   ]
  },
  {
   "cell_type": "markdown",
   "id": "7cb9381b",
   "metadata": {},
   "source": [
    "### Series to Dictionary"
   ]
  },
  {
   "cell_type": "code",
   "execution_count": 62,
   "id": "fb7bf71f",
   "metadata": {},
   "outputs": [
    {
     "data": {
      "text/plain": [
       "{'a': 1, 'b': 2}"
      ]
     },
     "execution_count": 62,
     "metadata": {},
     "output_type": "execute_result"
    }
   ],
   "source": [
    "series_obj = pd.Series({'a': 1, 'b': 2})\n",
    "dict_obj = series_obj.to_dict()\n",
    "dict_obj"
   ]
  },
  {
   "cell_type": "markdown",
   "id": "6c1b32aa",
   "metadata": {},
   "source": [
    "### np.array to Series"
   ]
  },
  {
   "cell_type": "code",
   "execution_count": 63,
   "id": "25cfc8ac",
   "metadata": {},
   "outputs": [
    {
     "data": {
      "text/plain": [
       "0    1\n",
       "1    2\n",
       "2    3\n",
       "dtype: int32"
      ]
     },
     "execution_count": 63,
     "metadata": {},
     "output_type": "execute_result"
    }
   ],
   "source": [
    "arr = np.array([1, 2, 3])\n",
    "series_obj = pd.Series(arr)\n",
    "series_obj"
   ]
  },
  {
   "cell_type": "markdown",
   "id": "e476ceec",
   "metadata": {},
   "source": [
    "### Series to np.array"
   ]
  },
  {
   "cell_type": "code",
   "execution_count": 64,
   "id": "e43f0d0c",
   "metadata": {},
   "outputs": [
    {
     "data": {
      "text/plain": [
       "array([1, 2, 3], dtype=int64)"
      ]
     },
     "execution_count": 64,
     "metadata": {},
     "output_type": "execute_result"
    }
   ],
   "source": [
    "series_obj = pd.Series([1, 2, 3])\n",
    "arr = series_obj.values\n",
    "arr"
   ]
  },
  {
   "cell_type": "markdown",
   "id": "195b2b91",
   "metadata": {},
   "source": [
    "### Dictonary to Dataframe"
   ]
  },
  {
   "cell_type": "code",
   "execution_count": 65,
   "id": "ff6633b3",
   "metadata": {},
   "outputs": [
    {
     "data": {
      "text/html": [
       "<div>\n",
       "<style scoped>\n",
       "    .dataframe tbody tr th:only-of-type {\n",
       "        vertical-align: middle;\n",
       "    }\n",
       "\n",
       "    .dataframe tbody tr th {\n",
       "        vertical-align: top;\n",
       "    }\n",
       "\n",
       "    .dataframe thead th {\n",
       "        text-align: right;\n",
       "    }\n",
       "</style>\n",
       "<table border=\"1\" class=\"dataframe\">\n",
       "  <thead>\n",
       "    <tr style=\"text-align: right;\">\n",
       "      <th></th>\n",
       "      <th>col1</th>\n",
       "      <th>col2</th>\n",
       "    </tr>\n",
       "  </thead>\n",
       "  <tbody>\n",
       "    <tr>\n",
       "      <th>0</th>\n",
       "      <td>1</td>\n",
       "      <td>3</td>\n",
       "    </tr>\n",
       "    <tr>\n",
       "      <th>1</th>\n",
       "      <td>2</td>\n",
       "      <td>4</td>\n",
       "    </tr>\n",
       "  </tbody>\n",
       "</table>\n",
       "</div>"
      ],
      "text/plain": [
       "   col1  col2\n",
       "0     1     3\n",
       "1     2     4"
      ]
     },
     "execution_count": 65,
     "metadata": {},
     "output_type": "execute_result"
    }
   ],
   "source": [
    "dict_obj = {'col1': [1, 2], 'col2': [3, 4]}\n",
    "df = pd.DataFrame(dict_obj)\n",
    "df"
   ]
  },
  {
   "cell_type": "markdown",
   "id": "d4db49c1",
   "metadata": {},
   "source": [
    "###  Dataframe to Dictionary"
   ]
  },
  {
   "cell_type": "code",
   "execution_count": 66,
   "id": "3f714711",
   "metadata": {},
   "outputs": [
    {
     "data": {
      "text/plain": [
       "{'col1': {0: 1, 1: 2}, 'col2': {0: 3, 1: 4}}"
      ]
     },
     "execution_count": 66,
     "metadata": {},
     "output_type": "execute_result"
    }
   ],
   "source": [
    "df = pd.DataFrame({'col1': [1, 2], 'col2': [3, 4]})\n",
    "dict_obj = df.to_dict()\n",
    "dict_obj"
   ]
  },
  {
   "cell_type": "markdown",
   "id": "9fd5aca0",
   "metadata": {},
   "source": [
    "###  List of Dictionary to dataframe"
   ]
  },
  {
   "cell_type": "code",
   "execution_count": 67,
   "id": "1e0bdfd1",
   "metadata": {},
   "outputs": [
    {
     "data": {
      "text/html": [
       "<div>\n",
       "<style scoped>\n",
       "    .dataframe tbody tr th:only-of-type {\n",
       "        vertical-align: middle;\n",
       "    }\n",
       "\n",
       "    .dataframe tbody tr th {\n",
       "        vertical-align: top;\n",
       "    }\n",
       "\n",
       "    .dataframe thead th {\n",
       "        text-align: right;\n",
       "    }\n",
       "</style>\n",
       "<table border=\"1\" class=\"dataframe\">\n",
       "  <thead>\n",
       "    <tr style=\"text-align: right;\">\n",
       "      <th></th>\n",
       "      <th>col1</th>\n",
       "      <th>col2</th>\n",
       "    </tr>\n",
       "  </thead>\n",
       "  <tbody>\n",
       "    <tr>\n",
       "      <th>0</th>\n",
       "      <td>1</td>\n",
       "      <td>3</td>\n",
       "    </tr>\n",
       "    <tr>\n",
       "      <th>1</th>\n",
       "      <td>2</td>\n",
       "      <td>4</td>\n",
       "    </tr>\n",
       "  </tbody>\n",
       "</table>\n",
       "</div>"
      ],
      "text/plain": [
       "   col1  col2\n",
       "0     1     3\n",
       "1     2     4"
      ]
     },
     "execution_count": 67,
     "metadata": {},
     "output_type": "execute_result"
    }
   ],
   "source": [
    "lst_of_dicts = [{'col1': 1, 'col2': 3}, {'col1': 2, 'col2': 4}]\n",
    "df = pd.DataFrame(lst_of_dicts)\n",
    "df"
   ]
  },
  {
   "cell_type": "markdown",
   "id": "960f1cba",
   "metadata": {},
   "source": [
    "###  Dataframe to List of Dictionaries"
   ]
  },
  {
   "cell_type": "code",
   "execution_count": 68,
   "id": "089b930b",
   "metadata": {},
   "outputs": [
    {
     "data": {
      "text/plain": [
       "[{'col1': 1, 'col2': 3}, {'col1': 2, 'col2': 4}]"
      ]
     },
     "execution_count": 68,
     "metadata": {},
     "output_type": "execute_result"
    }
   ],
   "source": [
    "df = pd.DataFrame({'col1': [1, 2], 'col2': [3, 4]})\n",
    "lst_of_dicts = df.to_dict('records')\n",
    "lst_of_dicts"
   ]
  },
  {
   "cell_type": "markdown",
   "id": "419ffbd0",
   "metadata": {},
   "source": [
    "###  np.array to dataframe"
   ]
  },
  {
   "cell_type": "code",
   "execution_count": 69,
   "id": "aaa92fcc",
   "metadata": {},
   "outputs": [
    {
     "data": {
      "text/html": [
       "<div>\n",
       "<style scoped>\n",
       "    .dataframe tbody tr th:only-of-type {\n",
       "        vertical-align: middle;\n",
       "    }\n",
       "\n",
       "    .dataframe tbody tr th {\n",
       "        vertical-align: top;\n",
       "    }\n",
       "\n",
       "    .dataframe thead th {\n",
       "        text-align: right;\n",
       "    }\n",
       "</style>\n",
       "<table border=\"1\" class=\"dataframe\">\n",
       "  <thead>\n",
       "    <tr style=\"text-align: right;\">\n",
       "      <th></th>\n",
       "      <th>col1</th>\n",
       "      <th>col2</th>\n",
       "    </tr>\n",
       "  </thead>\n",
       "  <tbody>\n",
       "    <tr>\n",
       "      <th>0</th>\n",
       "      <td>1</td>\n",
       "      <td>3</td>\n",
       "    </tr>\n",
       "    <tr>\n",
       "      <th>1</th>\n",
       "      <td>2</td>\n",
       "      <td>4</td>\n",
       "    </tr>\n",
       "  </tbody>\n",
       "</table>\n",
       "</div>"
      ],
      "text/plain": [
       "   col1  col2\n",
       "0     1     3\n",
       "1     2     4"
      ]
     },
     "execution_count": 69,
     "metadata": {},
     "output_type": "execute_result"
    }
   ],
   "source": [
    "arr = np.array([[1, 3], [2, 4]])\n",
    "df = pd.DataFrame(arr, columns=['col1', 'col2'])\n",
    "df"
   ]
  },
  {
   "cell_type": "markdown",
   "id": "14a1d134",
   "metadata": {},
   "source": [
    "###  Dataframe to np.array"
   ]
  },
  {
   "cell_type": "code",
   "execution_count": 70,
   "id": "cec97f5d",
   "metadata": {},
   "outputs": [
    {
     "data": {
      "text/plain": [
       "array([[1, 3],\n",
       "       [2, 4]], dtype=int64)"
      ]
     },
     "execution_count": 70,
     "metadata": {},
     "output_type": "execute_result"
    }
   ],
   "source": [
    "df = pd.DataFrame({'col1': [1, 2], 'col2': [3, 4]})\n",
    "arr = df.values\n",
    "arr"
   ]
  },
  {
   "cell_type": "markdown",
   "id": "079b2680",
   "metadata": {},
   "source": [
    "###  Series to np.array"
   ]
  },
  {
   "cell_type": "code",
   "execution_count": 71,
   "id": "1bd06269",
   "metadata": {},
   "outputs": [
    {
     "data": {
      "text/html": [
       "<div>\n",
       "<style scoped>\n",
       "    .dataframe tbody tr th:only-of-type {\n",
       "        vertical-align: middle;\n",
       "    }\n",
       "\n",
       "    .dataframe tbody tr th {\n",
       "        vertical-align: top;\n",
       "    }\n",
       "\n",
       "    .dataframe thead th {\n",
       "        text-align: right;\n",
       "    }\n",
       "</style>\n",
       "<table border=\"1\" class=\"dataframe\">\n",
       "  <thead>\n",
       "    <tr style=\"text-align: right;\">\n",
       "      <th></th>\n",
       "      <th>0</th>\n",
       "    </tr>\n",
       "  </thead>\n",
       "  <tbody>\n",
       "    <tr>\n",
       "      <th>0</th>\n",
       "      <td>1</td>\n",
       "    </tr>\n",
       "    <tr>\n",
       "      <th>1</th>\n",
       "      <td>2</td>\n",
       "    </tr>\n",
       "    <tr>\n",
       "      <th>2</th>\n",
       "      <td>3</td>\n",
       "    </tr>\n",
       "  </tbody>\n",
       "</table>\n",
       "</div>"
      ],
      "text/plain": [
       "   0\n",
       "0  1\n",
       "1  2\n",
       "2  3"
      ]
     },
     "execution_count": 71,
     "metadata": {},
     "output_type": "execute_result"
    }
   ],
   "source": [
    "series_obj = pd.Series([1, 2, 3])\n",
    "df = series_obj.to_frame()\n",
    "df"
   ]
  },
  {
   "cell_type": "markdown",
   "id": "bddad50f",
   "metadata": {},
   "source": [
    "###  Series to Dataframe"
   ]
  },
  {
   "cell_type": "code",
   "execution_count": 72,
   "id": "0f3cd805",
   "metadata": {},
   "outputs": [
    {
     "data": {
      "text/html": [
       "<div>\n",
       "<style scoped>\n",
       "    .dataframe tbody tr th:only-of-type {\n",
       "        vertical-align: middle;\n",
       "    }\n",
       "\n",
       "    .dataframe tbody tr th {\n",
       "        vertical-align: top;\n",
       "    }\n",
       "\n",
       "    .dataframe thead th {\n",
       "        text-align: right;\n",
       "    }\n",
       "</style>\n",
       "<table border=\"1\" class=\"dataframe\">\n",
       "  <thead>\n",
       "    <tr style=\"text-align: right;\">\n",
       "      <th></th>\n",
       "      <th>0</th>\n",
       "    </tr>\n",
       "  </thead>\n",
       "  <tbody>\n",
       "    <tr>\n",
       "      <th>0</th>\n",
       "      <td>1</td>\n",
       "    </tr>\n",
       "    <tr>\n",
       "      <th>1</th>\n",
       "      <td>2</td>\n",
       "    </tr>\n",
       "    <tr>\n",
       "      <th>2</th>\n",
       "      <td>3</td>\n",
       "    </tr>\n",
       "  </tbody>\n",
       "</table>\n",
       "</div>"
      ],
      "text/plain": [
       "   0\n",
       "0  1\n",
       "1  2\n",
       "2  3"
      ]
     },
     "execution_count": 72,
     "metadata": {},
     "output_type": "execute_result"
    }
   ],
   "source": [
    "series_obj = pd.Series([1, 2, 3])\n",
    "df = series_obj.to_frame()\n",
    "df"
   ]
  },
  {
   "cell_type": "markdown",
   "id": "8c6e5b8f",
   "metadata": {},
   "source": [
    "###  Dataframe (Single Column) to series"
   ]
  },
  {
   "cell_type": "code",
   "execution_count": 73,
   "id": "70b38ece",
   "metadata": {},
   "outputs": [
    {
     "data": {
      "text/plain": [
       "0    1\n",
       "1    2\n",
       "2    3\n",
       "Name: col1, dtype: int64"
      ]
     },
     "execution_count": 73,
     "metadata": {},
     "output_type": "execute_result"
    }
   ],
   "source": [
    "df = pd.DataFrame({'col1': [1, 2, 3]})\n",
    "series_obj = df['col1']\n",
    "series_obj"
   ]
  },
  {
   "cell_type": "markdown",
   "id": "0560a186",
   "metadata": {},
   "source": [
    "###  Single List to dataframe"
   ]
  },
  {
   "cell_type": "code",
   "execution_count": 74,
   "id": "52f95935",
   "metadata": {},
   "outputs": [
    {
     "data": {
      "text/html": [
       "<div>\n",
       "<style scoped>\n",
       "    .dataframe tbody tr th:only-of-type {\n",
       "        vertical-align: middle;\n",
       "    }\n",
       "\n",
       "    .dataframe tbody tr th {\n",
       "        vertical-align: top;\n",
       "    }\n",
       "\n",
       "    .dataframe thead th {\n",
       "        text-align: right;\n",
       "    }\n",
       "</style>\n",
       "<table border=\"1\" class=\"dataframe\">\n",
       "  <thead>\n",
       "    <tr style=\"text-align: right;\">\n",
       "      <th></th>\n",
       "      <th>column_name</th>\n",
       "    </tr>\n",
       "  </thead>\n",
       "  <tbody>\n",
       "    <tr>\n",
       "      <th>0</th>\n",
       "      <td>1</td>\n",
       "    </tr>\n",
       "    <tr>\n",
       "      <th>1</th>\n",
       "      <td>2</td>\n",
       "    </tr>\n",
       "    <tr>\n",
       "      <th>2</th>\n",
       "      <td>3</td>\n",
       "    </tr>\n",
       "    <tr>\n",
       "      <th>3</th>\n",
       "      <td>4</td>\n",
       "    </tr>\n",
       "    <tr>\n",
       "      <th>4</th>\n",
       "      <td>5</td>\n",
       "    </tr>\n",
       "  </tbody>\n",
       "</table>\n",
       "</div>"
      ],
      "text/plain": [
       "   column_name\n",
       "0            1\n",
       "1            2\n",
       "2            3\n",
       "3            4\n",
       "4            5"
      ]
     },
     "execution_count": 74,
     "metadata": {},
     "output_type": "execute_result"
    }
   ],
   "source": [
    "import pandas as pd\n",
    "lst = [1, 2, 3, 4, 5]\n",
    "df = pd.DataFrame(lst, columns=['column_name'])\n",
    "df"
   ]
  },
  {
   "cell_type": "markdown",
   "id": "b4469778",
   "metadata": {},
   "source": [
    "###  List of Lists to dataframe"
   ]
  },
  {
   "cell_type": "code",
   "execution_count": 75,
   "id": "70c8c883",
   "metadata": {},
   "outputs": [
    {
     "data": {
      "text/html": [
       "<div>\n",
       "<style scoped>\n",
       "    .dataframe tbody tr th:only-of-type {\n",
       "        vertical-align: middle;\n",
       "    }\n",
       "\n",
       "    .dataframe tbody tr th {\n",
       "        vertical-align: top;\n",
       "    }\n",
       "\n",
       "    .dataframe thead th {\n",
       "        text-align: right;\n",
       "    }\n",
       "</style>\n",
       "<table border=\"1\" class=\"dataframe\">\n",
       "  <thead>\n",
       "    <tr style=\"text-align: right;\">\n",
       "      <th></th>\n",
       "      <th>col1</th>\n",
       "      <th>col2</th>\n",
       "    </tr>\n",
       "  </thead>\n",
       "  <tbody>\n",
       "    <tr>\n",
       "      <th>0</th>\n",
       "      <td>1</td>\n",
       "      <td>A</td>\n",
       "    </tr>\n",
       "    <tr>\n",
       "      <th>1</th>\n",
       "      <td>2</td>\n",
       "      <td>B</td>\n",
       "    </tr>\n",
       "    <tr>\n",
       "      <th>2</th>\n",
       "      <td>3</td>\n",
       "      <td>C</td>\n",
       "    </tr>\n",
       "  </tbody>\n",
       "</table>\n",
       "</div>"
      ],
      "text/plain": [
       "   col1 col2\n",
       "0     1    A\n",
       "1     2    B\n",
       "2     3    C"
      ]
     },
     "execution_count": 75,
     "metadata": {},
     "output_type": "execute_result"
    }
   ],
   "source": [
    "lst_of_lists = [[1, 'A'], [2, 'B'], [3, 'C']]\n",
    "df = pd.DataFrame(lst_of_lists, columns=['col1', 'col2'])\n",
    "df"
   ]
  },
  {
   "cell_type": "markdown",
   "id": "a92fe228",
   "metadata": {},
   "source": [
    "###  Dataframe (Single Column) to list"
   ]
  },
  {
   "cell_type": "code",
   "execution_count": 76,
   "id": "d3dd3303",
   "metadata": {},
   "outputs": [
    {
     "data": {
      "text/plain": [
       "[1, 2, 3]"
      ]
     },
     "execution_count": 76,
     "metadata": {},
     "output_type": "execute_result"
    }
   ],
   "source": [
    "df = pd.DataFrame({'col1': [1, 2, 3]})\n",
    "lst = df['col1'].tolist()\n",
    "lst"
   ]
  },
  {
   "cell_type": "markdown",
   "id": "3611f96e",
   "metadata": {},
   "source": [
    "### Entire Dataframe to list of lists"
   ]
  },
  {
   "cell_type": "code",
   "execution_count": 77,
   "id": "0fdfb0cd",
   "metadata": {},
   "outputs": [
    {
     "data": {
      "text/plain": [
       "[[1, 'A'], [2, 'B']]"
      ]
     },
     "execution_count": 77,
     "metadata": {},
     "output_type": "execute_result"
    }
   ],
   "source": [
    "df = pd.DataFrame({'col1': [1, 2], 'col2': ['A', 'B']})\n",
    "lst_of_lists = df.values.tolist()\n",
    "lst_of_lists"
   ]
  },
  {
   "cell_type": "markdown",
   "id": "2ed60214",
   "metadata": {},
   "source": [
    "## How to get the position of an element in a data structure\n",
    "### List"
   ]
  },
  {
   "cell_type": "code",
   "execution_count": 78,
   "id": "82184f9a",
   "metadata": {},
   "outputs": [
    {
     "data": {
      "text/plain": [
       "2"
      ]
     },
     "execution_count": 78,
     "metadata": {},
     "output_type": "execute_result"
    }
   ],
   "source": [
    "lst = [10, 20, 30, 40, 50]\n",
    "position = lst.index(30)  # returns 2\n",
    "position"
   ]
  },
  {
   "cell_type": "markdown",
   "id": "ce81e995",
   "metadata": {},
   "source": [
    "### Numpy Array"
   ]
  },
  {
   "cell_type": "code",
   "execution_count": 79,
   "id": "acf1740f",
   "metadata": {},
   "outputs": [
    {
     "data": {
      "text/plain": [
       "(array([2], dtype=int64),)"
      ]
     },
     "execution_count": 79,
     "metadata": {},
     "output_type": "execute_result"
    }
   ],
   "source": [
    "import numpy as np\n",
    "arr = np.array([10, 20, 30, 40, 50])\n",
    "positions = np.where(arr == 30)  # returns (array([2]),)\n",
    "positions"
   ]
  },
  {
   "cell_type": "markdown",
   "id": "9bdc225c",
   "metadata": {},
   "source": [
    "### Dictionary"
   ]
  },
  {
   "cell_type": "code",
   "execution_count": 80,
   "id": "609e133f",
   "metadata": {},
   "outputs": [
    {
     "data": {
      "text/plain": [
       "2"
      ]
     },
     "execution_count": 80,
     "metadata": {},
     "output_type": "execute_result"
    }
   ],
   "source": [
    "dct = {'a': 10, 'b': 20, 'c': 30}\n",
    "keys_list = list(dct.keys())\n",
    "position = keys_list.index('c')  # returns 2\n",
    "position"
   ]
  },
  {
   "cell_type": "markdown",
   "id": "3ce071a3",
   "metadata": {},
   "source": [
    "### Series"
   ]
  },
  {
   "cell_type": "code",
   "execution_count": 81,
   "id": "8839d4a1",
   "metadata": {},
   "outputs": [
    {
     "data": {
      "text/plain": [
       "2"
      ]
     },
     "execution_count": 81,
     "metadata": {},
     "output_type": "execute_result"
    }
   ],
   "source": [
    "import pandas as pd\n",
    "s = pd.Series([10, 20, 30, 40, 50], index=['a', 'b', 'c', 'd', 'e'])\n",
    "position = s.index.get_loc('c')  # returns 2\n",
    "position"
   ]
  },
  {
   "cell_type": "markdown",
   "id": "f0695bd8",
   "metadata": {},
   "source": [
    "### Dataframe: Row position"
   ]
  },
  {
   "cell_type": "code",
   "execution_count": 82,
   "id": "6a3b1157",
   "metadata": {},
   "outputs": [
    {
     "data": {
      "text/plain": [
       "1"
      ]
     },
     "execution_count": 82,
     "metadata": {},
     "output_type": "execute_result"
    }
   ],
   "source": [
    "df = pd.DataFrame({'A': [1, 2, 3], 'B': [4, 5, 6]}, index=['x', 'y', 'z'])\n",
    "row_position = df.index.get_loc('y')  # returns 1\n",
    "row_position"
   ]
  },
  {
   "cell_type": "markdown",
   "id": "bfbba1e4",
   "metadata": {},
   "source": [
    "### Dataframe: Column Position"
   ]
  },
  {
   "cell_type": "code",
   "execution_count": 83,
   "id": "6b833939",
   "metadata": {},
   "outputs": [
    {
     "data": {
      "text/plain": [
       "1"
      ]
     },
     "execution_count": 83,
     "metadata": {},
     "output_type": "execute_result"
    }
   ],
   "source": [
    "col_position = df.columns.get_loc('B')  # returns 1\n",
    "col_position"
   ]
  },
  {
   "cell_type": "markdown",
   "id": "e7e9ab15",
   "metadata": {},
   "source": [
    "## How to iterate through the elements in a data structure\n",
    "### List"
   ]
  },
  {
   "cell_type": "code",
   "execution_count": 84,
   "id": "18b4fb7b",
   "metadata": {},
   "outputs": [
    {
     "name": "stdout",
     "output_type": "stream",
     "text": [
      "10\n",
      "20\n",
      "30\n",
      "40\n",
      "50\n"
     ]
    }
   ],
   "source": [
    "lst = [10, 20, 30, 40, 50]\n",
    "for item in lst:\n",
    "    print(item)"
   ]
  },
  {
   "cell_type": "markdown",
   "id": "e4745ee0",
   "metadata": {},
   "source": [
    "### np.array"
   ]
  },
  {
   "cell_type": "code",
   "execution_count": 85,
   "id": "84775f90",
   "metadata": {},
   "outputs": [
    {
     "name": "stdout",
     "output_type": "stream",
     "text": [
      "10\n",
      "20\n",
      "30\n",
      "40\n",
      "50\n"
     ]
    }
   ],
   "source": [
    "import numpy as np\n",
    "arr = np.array([10, 20, 30, 40, 50])\n",
    "for item in arr:\n",
    "    print(item)"
   ]
  },
  {
   "cell_type": "markdown",
   "id": "d4d800a6",
   "metadata": {},
   "source": [
    "### Dataframe: Column Position"
   ]
  },
  {
   "cell_type": "code",
   "execution_count": 86,
   "id": "0669f587",
   "metadata": {},
   "outputs": [
    {
     "data": {
      "text/plain": [
       "1"
      ]
     },
     "execution_count": 86,
     "metadata": {},
     "output_type": "execute_result"
    }
   ],
   "source": [
    "col_position = df.columns.get_loc('B')  # returns 1\n",
    "col_position"
   ]
  },
  {
   "cell_type": "markdown",
   "id": "a1cec389",
   "metadata": {},
   "source": [
    "### Dictionary: For Keys"
   ]
  },
  {
   "cell_type": "code",
   "execution_count": 87,
   "id": "3080871b",
   "metadata": {},
   "outputs": [
    {
     "name": "stdout",
     "output_type": "stream",
     "text": [
      "a\n",
      "b\n",
      "c\n"
     ]
    }
   ],
   "source": [
    "dct = {'a': 10, 'b': 20, 'c': 30}\n",
    "for key in dct:\n",
    "    print(key)"
   ]
  },
  {
   "cell_type": "markdown",
   "id": "37394377",
   "metadata": {},
   "source": [
    "### Dictionary: For values"
   ]
  },
  {
   "cell_type": "code",
   "execution_count": 88,
   "id": "02597ba1",
   "metadata": {},
   "outputs": [
    {
     "name": "stdout",
     "output_type": "stream",
     "text": [
      "10\n",
      "20\n",
      "30\n"
     ]
    }
   ],
   "source": [
    "for value in dct.values():\n",
    "    print(value)"
   ]
  },
  {
   "cell_type": "markdown",
   "id": "f4e397e8",
   "metadata": {},
   "source": [
    "### Dictionary: for both keys and values"
   ]
  },
  {
   "cell_type": "code",
   "execution_count": 89,
   "id": "2cc5e1d8",
   "metadata": {},
   "outputs": [
    {
     "name": "stdout",
     "output_type": "stream",
     "text": [
      "a 10\n",
      "b 20\n",
      "c 30\n"
     ]
    }
   ],
   "source": [
    "for key, value in dct.items():\n",
    "    print(key, value)"
   ]
  },
  {
   "cell_type": "markdown",
   "id": "d10ca2a4",
   "metadata": {},
   "source": [
    "### Series"
   ]
  },
  {
   "cell_type": "code",
   "execution_count": 90,
   "id": "031e91e2",
   "metadata": {},
   "outputs": [
    {
     "name": "stdout",
     "output_type": "stream",
     "text": [
      "a 10\n",
      "b 20\n",
      "c 30\n",
      "d 40\n",
      "e 50\n"
     ]
    }
   ],
   "source": [
    "import pandas as pd\n",
    "s = pd.Series([10, 20, 30, 40, 50], index=['a', 'b', 'c', 'd', 'e'])\n",
    "for index, value in s.items():\n",
    "    print(index, value)\n"
   ]
  },
  {
   "cell_type": "markdown",
   "id": "fad8d09f",
   "metadata": {},
   "source": [
    "### Dataframe: for Each Column"
   ]
  },
  {
   "cell_type": "code",
   "execution_count": 91,
   "id": "fdc35022",
   "metadata": {},
   "outputs": [
    {
     "name": "stdout",
     "output_type": "stream",
     "text": [
      "A\n",
      "0    1\n",
      "1    2\n",
      "2    3\n",
      "Name: A, dtype: int64\n",
      "B\n",
      "0    4\n",
      "1    5\n",
      "2    6\n",
      "Name: B, dtype: int64\n"
     ]
    }
   ],
   "source": [
    "df = pd.DataFrame({'A': [1, 2, 3], 'B': [4, 5, 6]})\n",
    "for column, data in df.items():\n",
    "    print(column)\n",
    "    print(data)"
   ]
  },
  {
   "cell_type": "markdown",
   "id": "54b4ce4c",
   "metadata": {},
   "source": [
    "### Dataframe: for each row"
   ]
  },
  {
   "cell_type": "code",
   "execution_count": 92,
   "id": "04b3c63f",
   "metadata": {},
   "outputs": [
    {
     "name": "stdout",
     "output_type": "stream",
     "text": [
      "0\n",
      "A    1\n",
      "B    4\n",
      "Name: 0, dtype: int64\n",
      "1\n",
      "A    2\n",
      "B    5\n",
      "Name: 1, dtype: int64\n",
      "2\n",
      "A    3\n",
      "B    6\n",
      "Name: 2, dtype: int64\n"
     ]
    }
   ],
   "source": [
    "for index, row in df.iterrows():\n",
    "    print(index)\n",
    "    print(row)"
   ]
  },
  {
   "cell_type": "code",
   "execution_count": null,
   "id": "fc5e0dfb",
   "metadata": {},
   "outputs": [],
   "source": []
  },
  {
   "cell_type": "markdown",
   "id": "b1988c55",
   "metadata": {},
   "source": [
    "## Calculating union, intersection, difference, subset,superset, complement, symmetric difference and cartesian product for Data Structures\n",
    "### List"
   ]
  },
  {
   "cell_type": "code",
   "execution_count": 93,
   "id": "e32c33e0",
   "metadata": {},
   "outputs": [
    {
     "name": "stdout",
     "output_type": "stream",
     "text": [
      "list1 [1, 2, 3, 4]\n",
      "list2 [3, 4, 5, 6]\n",
      "union: [1, 2, 3, 4, 5, 6]\n",
      "Intersection: [3, 4]\n",
      "Difference list1: [1, 2]\n",
      "Difference list2: [5, 6]\n",
      "Subset: False\n",
      "Superset: False\n",
      "Complement list1: [5, 6]\n",
      "complement list2: [1, 2]\n",
      "Symmetric Difference: [1, 2, 5, 6]\n",
      "Cartesian Product: [(1, 3), (1, 4), (1, 5), (1, 6), (2, 3), (2, 4), (2, 5), (2, 6), (3, 3), (3, 4), (3, 5), (3, 6), (4, 3), (4, 4), (4, 5), (4, 6)]\n"
     ]
    }
   ],
   "source": [
    "# Sample lists\n",
    "list1 = [1, 2, 3, 4]\n",
    "list2 = [3, 4, 5, 6]\n",
    "print('list1',list1)\n",
    "print('list2',list2)\n",
    "\n",
    "# Convert lists to sets for set operations\n",
    "set1 = set(list1)\n",
    "set2 = set(list2)\n",
    "\n",
    "# Union\n",
    "union_result = list(set1 | set2)\n",
    "\n",
    "# Intersection\n",
    "intersection_result = list(set1 & set2)\n",
    "\n",
    "# Difference (elements in list1 but not in list2)\n",
    "difference_list1 = list(set1 - set2)\n",
    "\n",
    "# Difference (elements in list2 but not in list1)\n",
    "difference_list2 = list(set2 - set1)\n",
    "\n",
    "# Subset (check if list1 is a subset of list2)\n",
    "is_subset = set1 <= set2\n",
    "\n",
    "# Superset (check if list1 is a superset of list2)\n",
    "is_superset = set1 >= set2\n",
    "\n",
    "# Complement (relative to the union of the two lists)\n",
    "universal_set = set1 | set2\n",
    "complement_list1 = list(universal_set - set1)\n",
    "complement_list2 = list(universal_set - set2)\n",
    "\n",
    "# Symmetric Difference\n",
    "symmetric_diff = list(set1 ^ set2)\n",
    "\n",
    "# Cartesian Product\n",
    "cartesian_product = [(a, b) for a in list1 for b in list2]\n",
    "\n",
    "print('union:',union_result)\n",
    "print('Intersection:',intersection_result)\n",
    "print('Difference list1:', difference_list1)\n",
    "print('Difference list2:', difference_list2)\n",
    "print('Subset:', is_subset)\n",
    "print('Superset:', is_superset)\n",
    "print('Complement list1:', complement_list1)\n",
    "print('complement list2:', complement_list2)\n",
    "print('Symmetric Difference:', symmetric_diff)\n",
    "print('Cartesian Product:', cartesian_product)\n",
    "\n",
    "#union_result, intersection_result, difference_list1, difference_list2, is_subset, is_superset, complement_list1, complement_list2, symmetric_diff, cartesian_product\n"
   ]
  },
  {
   "cell_type": "markdown",
   "id": "bd8895a5",
   "metadata": {},
   "source": [
    "### np.array"
   ]
  },
  {
   "cell_type": "code",
   "execution_count": 94,
   "id": "1468f31a",
   "metadata": {},
   "outputs": [
    {
     "name": "stdout",
     "output_type": "stream",
     "text": [
      "arr1: [1 2 3 4]\n",
      "arr2: [3 4 5 6]\n",
      "union: [1 2 3 4 5 6]\n",
      "Intersection: [3 4]\n",
      "Difference arr1: [1 2]\n",
      "Difference arr2: [5 6]\n",
      "Subset: False\n",
      "Superset: False\n",
      "Complement arr1: [5 6]\n",
      "complement arr2: [1 2]\n",
      "Symmetric Difference: [1 2 5 6]\n",
      "Cartesian Product: [[1 3]\n",
      " [2 3]\n",
      " [3 3]\n",
      " [4 3]\n",
      " [1 4]\n",
      " [2 4]\n",
      " [3 4]\n",
      " [4 4]\n",
      " [1 5]\n",
      " [2 5]\n",
      " [3 5]\n",
      " [4 5]\n",
      " [1 6]\n",
      " [2 6]\n",
      " [3 6]\n",
      " [4 6]]\n"
     ]
    }
   ],
   "source": [
    "import numpy as np\n",
    "\n",
    "# Sample arrays\n",
    "arr1 = np.array([1, 2, 3, 4])\n",
    "arr2 = np.array([3, 4, 5, 6])\n",
    "print('arr1:',arr1)\n",
    "print('arr2:',arr2)\n",
    "\n",
    "# Union\n",
    "union_result = np.union1d(arr1, arr2)\n",
    "\n",
    "# Intersection\n",
    "intersection_result = np.intersect1d(arr1, arr2)\n",
    "\n",
    "# Difference (elements in arr1 but not in arr2)\n",
    "difference_arr1 = np.setdiff1d(arr1, arr2)\n",
    "\n",
    "# Difference (elements in arr2 but not in arr1)\n",
    "difference_arr2 = np.setdiff1d(arr2, arr1)\n",
    "\n",
    "# Subset (check if arr1 is a subset of arr2)\n",
    "is_subset = np.array_equal(arr1, np.intersect1d(arr1, arr2))\n",
    "\n",
    "# Superset (check if arr1 is a superset of arr2)\n",
    "is_superset = np.array_equal(arr2, np.intersect1d(arr1, arr2))\n",
    "\n",
    "# Complement (relative to the union of the two arrays)\n",
    "universal_array = np.union1d(arr1, arr2)\n",
    "complement_arr1 = np.setdiff1d(universal_array, arr1)\n",
    "complement_arr2 = np.setdiff1d(universal_array, arr2)\n",
    "\n",
    "# Symmetric Difference\n",
    "symmetric_diff = np.setxor1d(arr1, arr2)\n",
    "\n",
    "# Cartesian Product\n",
    "cartesian_product = np.transpose([np.tile(arr1, len(arr2)), np.repeat(arr2, len(arr1))])\n",
    "\n",
    "print('union:',union_result)\n",
    "print('Intersection:', intersection_result)\n",
    "print('Difference arr1:',difference_arr1)\n",
    "print('Difference arr2:', difference_arr2)\n",
    "print('Subset:', is_subset)\n",
    "print('Superset:', is_superset)\n",
    "print('Complement arr1:', complement_arr1)\n",
    "print('complement arr2:', complement_arr2)\n",
    "print('Symmetric Difference:', symmetric_diff)\n",
    "print('Cartesian Product:', cartesian_product)\n",
    "\n",
    "#union_result, intersection_result, difference_arr1, difference_arr2, is_subset, is_superset, complement_arr1, complement_arr2, symmetric_diff, cartesian_product\n"
   ]
  },
  {
   "cell_type": "markdown",
   "id": "4a32d2cd",
   "metadata": {},
   "source": [
    "### Dataframe"
   ]
  },
  {
   "cell_type": "code",
   "execution_count": 95,
   "id": "a409f5d1",
   "metadata": {},
   "outputs": [
    {
     "name": "stdout",
     "output_type": "stream",
     "text": [
      "df1:\n",
      "    A  B\n",
      "0  1  a\n",
      "1  2  b\n",
      "2  3  c\n",
      "df2:\n",
      "    A  B\n",
      "0  3  c\n",
      "1  4  d\n",
      "---------------\n",
      "---------------\n",
      "union:\n",
      "    A  B\n",
      "0  1  a\n",
      "1  2  b\n",
      "2  3  c\n",
      "3  4  d\n",
      "---------------\n",
      "Intersection:\n",
      "    A  B\n",
      "0  3  c\n",
      "---------------\n",
      "Difference df1:\n",
      "    A  B\n",
      "0  1  a\n",
      "1  2  b\n",
      "---------------\n",
      "Difference df2:\n",
      "    A  B\n",
      "1  4  d\n",
      "---------------\n",
      "Subset: False\n",
      "---------------\n",
      "Superset:\n",
      " False\n",
      "---------------\n",
      "Complement df1:\n",
      "    A  B\n",
      "3  4  d\n",
      "---------------\n",
      "complement df2:\n",
      "    A  B\n",
      "0  1  a\n",
      "1  2  b\n",
      "---------------\n",
      "Symmetric Difference:\n",
      "    A  B\n",
      "0  1  a\n",
      "1  2  b\n",
      "2  4  d\n",
      "---------------\n",
      "Cartesian Product:\n",
      "    A_x B_x  A_y B_y\n",
      "0    1   a    3   c\n",
      "1    1   a    4   d\n",
      "2    2   b    3   c\n",
      "3    2   b    4   d\n",
      "4    3   c    3   c\n",
      "5    3   c    4   d\n",
      "---------------\n"
     ]
    }
   ],
   "source": [
    "import pandas as pd\n",
    "# Sample dataframes\n",
    "df1 = pd.DataFrame({\n",
    "    'A': [1, 2, 3],\n",
    "    'B': ['a', 'b', 'c']\n",
    "})\n",
    "print('df1:\\n',df1)\n",
    "\n",
    "df2 = pd.DataFrame({\n",
    "    'A': [3, 4],\n",
    "    'B': ['c', 'd']\n",
    "})\n",
    "print('df2:\\n',df2)\n",
    "print('---------------')\n",
    "print('---------------')\n",
    "# Union\n",
    "union_df = pd.concat([df1, df2]).drop_duplicates().reset_index(drop=True)\n",
    "\n",
    "# Intersection\n",
    "intersection_df = df1.merge(df2, how='inner')\n",
    "\n",
    "# Difference (rows in df1 but not in df2)\n",
    "difference_df1 = df1.merge(df2, how='outer', indicator=True).loc[lambda x : x['_merge']=='left_only'].drop('_merge', axis=1)\n",
    "\n",
    "# Difference (rows in df2 but not in df1)\n",
    "difference_df2 = df2.merge(df1, how='outer', indicator=True).loc[lambda x : x['_merge']=='left_only'].drop('_merge', axis=1)\n",
    "\n",
    "# Subset (check if df1 is a subset of df2)\n",
    "is_subset = difference_df1.empty\n",
    "\n",
    "# Superset (check if df1 is a superset of df2)\n",
    "is_superset = difference_df2.empty\n",
    "\n",
    "# Complement (relative to the union of the two dataframes)\n",
    "universal_df = pd.concat([df1, df2]).drop_duplicates().reset_index(drop=True)\n",
    "complement_df1 = universal_df.merge(df1, how='outer', indicator=True).loc[lambda x : x['_merge']=='left_only'].drop('_merge', axis=1)\n",
    "complement_df2 = universal_df.merge(df2, how='outer', indicator=True).loc[lambda x : x['_merge']=='left_only'].drop('_merge', axis=1)\n",
    "\n",
    "# Symmetric Difference\n",
    "symmetric_diff = pd.concat([difference_df1, difference_df2]).reset_index(drop=True)\n",
    "\n",
    "# Cartesian Product (Cross Join)\n",
    "df1['key'] = 1\n",
    "df2['key'] = 1\n",
    "cartesian_product = pd.merge(df1, df2, on='key').drop('key', axis=1)\n",
    "\n",
    "print('union:\\n',union_df)\n",
    "print('---------------')\n",
    "print('Intersection:\\n',intersection_df)\n",
    "print('---------------')\n",
    "print('Difference df1:\\n',difference_df1)\n",
    "print('---------------')\n",
    "print('Difference df2:\\n',difference_df2)\n",
    "print('---------------')\n",
    "print('Subset:',is_subset)\n",
    "print('---------------')\n",
    "print('Superset:\\n',is_superset)\n",
    "print('---------------')\n",
    "print('Complement df1:\\n',complement_df1)\n",
    "print('---------------')\n",
    "print('complement df2:\\n',complement_df2)\n",
    "print('---------------')\n",
    "print('Symmetric Difference:\\n',symmetric_diff)\n",
    "print('---------------')\n",
    "print('Cartesian Product:\\n',cartesian_product)\n",
    "print('---------------')\n",
    "\n",
    "#union_df, intersection_df, difference_df1, difference_df2, is_subset, is_superset, complement_df1, complement_df2, symmetric_diff, cartesian_product\n"
   ]
  },
  {
   "cell_type": "markdown",
   "id": "bce57e19",
   "metadata": {},
   "source": [
    "### Dictionary"
   ]
  },
  {
   "cell_type": "code",
   "execution_count": 96,
   "id": "f168f73a",
   "metadata": {},
   "outputs": [
    {
     "name": "stdout",
     "output_type": "stream",
     "text": [
      "dict1: {'a': 1, 'b': 2, 'c': 3}\n",
      "dict2: {'c': 30, 'd': 4}\n",
      "union: {'a': 1, 'b': 2, 'c': 30, 'd': 4}\n",
      "Intersection: {'c': 30}\n",
      "Difference dict1: {'b': 2, 'a': 1}\n",
      "Difference dict2: {'d': 4}\n",
      "Subset: False\n",
      "Superset: False\n",
      "Complement dict1: {'d': 4}\n",
      "complement dict2: {'b': 2, 'a': 1}\n",
      "Symmetric Difference: {'d': 4, 'b': 2, 'a': 1}\n",
      "Cartesian Product: [{'key1': 'a', 'value1': 1, 'key2': 'c', 'value2': 30}, {'key1': 'a', 'value1': 1, 'key2': 'd', 'value2': 4}, {'key1': 'b', 'value1': 2, 'key2': 'c', 'value2': 30}, {'key1': 'b', 'value1': 2, 'key2': 'd', 'value2': 4}, {'key1': 'c', 'value1': 3, 'key2': 'c', 'value2': 30}, {'key1': 'c', 'value1': 3, 'key2': 'd', 'value2': 4}]\n"
     ]
    }
   ],
   "source": [
    "# Redefining the sample dictionaries\n",
    "dict1 = {'a': 1, 'b': 2, 'c': 3}\n",
    "dict2 = {'c': 30, 'd': 4}\n",
    "print('dict1:',dict1)\n",
    "print('dict2:',dict2)\n",
    "\n",
    "# Recalculating the operations\n",
    "\n",
    "# Union\n",
    "union_dict = {**dict1, **dict2}\n",
    "\n",
    "# Intersection\n",
    "intersection_keys = dict1.keys() & dict2.keys()\n",
    "intersection_dict = {k: dict2[k] for k in intersection_keys}\n",
    "\n",
    "# Difference (keys in dict1 but not in dict2)\n",
    "difference_dict1 = {k: dict1[k] for k in (dict1.keys() - dict2.keys())}\n",
    "\n",
    "# Difference (keys in dict2 but not in dict1)\n",
    "difference_dict2 = {k: dict2[k] for k in (dict2.keys() - dict1.keys())}\n",
    "\n",
    "# Subset (check if dict1 is a subset of dict2 based on keys)\n",
    "is_subset = dict1.keys() <= dict2.keys()\n",
    "\n",
    "# Superset (check if dict1 is a superset of dict2 based on keys)\n",
    "is_superset = dict1.keys() >= dict2.keys()\n",
    "\n",
    "# Complement (relative to the union of the two dictionaries)\n",
    "universal_keys = dict1.keys() | dict2.keys()\n",
    "complement_dict1 = {k: union_dict[k] for k in (universal_keys - dict1.keys())}\n",
    "complement_dict2 = {k: union_dict[k] for k in (universal_keys - dict2.keys())}\n",
    "\n",
    "# Symmetric Difference (keys present in one dictionary but not in both)\n",
    "symmetric_diff_keys = dict1.keys() ^ dict2.keys()\n",
    "symmetric_diff = {k: union_dict[k] for k in symmetric_diff_keys}\n",
    "\n",
    "# Cartesian Product (Not typical for dictionaries, but possible)\n",
    "cartesian_product = [{'key1': k1, 'value1': v1, 'key2': k2, 'value2': v2} for k1, v1 in dict1.items() for k2, v2 in dict2.items()]\n",
    "\n",
    "print('union:',union_dict)\n",
    "print('Intersection:',intersection_dict)\n",
    "print('Difference dict1:',difference_dict1)\n",
    "print('Difference dict2:',difference_dict2)\n",
    "print('Subset:',is_subset)\n",
    "print('Superset:',is_superset)\n",
    "print('Complement dict1:',complement_dict1)\n",
    "print('complement dict2:',complement_dict2)\n",
    "print('Symmetric Difference:',symmetric_diff)\n",
    "print('Cartesian Product:',cartesian_product)\n",
    "\n",
    "\n",
    "#union_dict, intersection_dict, difference_dict1, difference_dict2, is_subset, is_superset, complement_dict1, complement_dict2, symmetric_diff, cartesian_product\n"
   ]
  },
  {
   "cell_type": "markdown",
   "id": "42894d98",
   "metadata": {},
   "source": [
    "### Series"
   ]
  },
  {
   "cell_type": "code",
   "execution_count": 97,
   "id": "78df4ffd",
   "metadata": {},
   "outputs": [
    {
     "name": "stdout",
     "output_type": "stream",
     "text": [
      "s1: 0    1\n",
      "1    2\n",
      "2    3\n",
      "3    4\n",
      "dtype: int64\n",
      "s2: 0    3\n",
      "1    4\n",
      "2    5\n",
      "3    6\n",
      "dtype: int64\n",
      "union:\n",
      " 0    1\n",
      "1    2\n",
      "2    3\n",
      "3    4\n",
      "4    5\n",
      "5    6\n",
      "dtype: int64\n",
      "Intersection:\n",
      " 0    3\n",
      "1    4\n",
      "dtype: int64\n",
      "Difference s1:\n",
      " 0    1\n",
      "1    2\n",
      "dtype: int64\n",
      "Difference s2:\n",
      " 0    5\n",
      "1    6\n",
      "dtype: int64\n",
      "Subset:\n",
      " False\n",
      "Superset:\n",
      " False\n",
      "Complement s1:\n",
      " 0    5\n",
      "1    6\n",
      "dtype: int64\n",
      "complement s2:\n",
      " 0    1\n",
      "1    2\n",
      "dtype: int64\n",
      "Symmetric Difference:\n",
      " 0    1\n",
      "1    2\n",
      "2    5\n",
      "3    6\n",
      "dtype: int64\n",
      "Cartesian Product:\n",
      "     s1  s2\n",
      "0    1   3\n",
      "1    1   4\n",
      "2    1   5\n",
      "3    1   6\n",
      "4    2   3\n",
      "5    2   4\n",
      "6    2   5\n",
      "7    2   6\n",
      "8    3   3\n",
      "9    3   4\n",
      "10   3   5\n",
      "11   3   6\n",
      "12   4   3\n",
      "13   4   4\n",
      "14   4   5\n",
      "15   4   6\n"
     ]
    }
   ],
   "source": [
    "import pandas as pd\n",
    "\n",
    "# Sample series\n",
    "s1 = pd.Series([1, 2, 3, 4])\n",
    "s2 = pd.Series([3, 4, 5, 6])\n",
    "print('s1:',s1)\n",
    "print('s2:',s2)\n",
    "\n",
    "# Convert series to sets for set operations\n",
    "set1 = set(s1)\n",
    "set2 = set(s2)\n",
    "\n",
    "# Union\n",
    "union_result = pd.Series(list(set1 | set2))\n",
    "\n",
    "# Intersection\n",
    "intersection_result = pd.Series(list(set1 & set2))\n",
    "\n",
    "# Difference (elements in s1 but not in s2)\n",
    "difference_s1 = pd.Series(list(set1 - set2))\n",
    "\n",
    "# Difference (elements in s2 but not in s1)\n",
    "difference_s2 = pd.Series(list(set2 - set1))\n",
    "\n",
    "# Subset (check if s1 is a subset of s2)\n",
    "is_subset = set1 <= set2\n",
    "\n",
    "# Superset (check if s1 is a superset of s2)\n",
    "is_superset = set1 >= set2\n",
    "\n",
    "# Complement (relative to the union of the two series)\n",
    "universal_set = set1 | set2\n",
    "complement_s1 = pd.Series(list(universal_set - set1))\n",
    "complement_s2 = pd.Series(list(universal_set - set2))\n",
    "\n",
    "# Symmetric Difference\n",
    "symmetric_diff = pd.Series(list(set1 ^ set2))\n",
    "\n",
    "# Cartesian Product\n",
    "cartesian_product = pd.DataFrame([(a, b) for a in s1 for b in s2], columns=['s1', 's2'])\n",
    "\n",
    "print('union:\\n',union_result)\n",
    "print('Intersection:\\n',intersection_result)\n",
    "print('Difference s1:\\n',difference_s1)\n",
    "print('Difference s2:\\n',difference_s2)\n",
    "print('Subset:\\n',is_subset)\n",
    "print('Superset:\\n',is_superset)\n",
    "print('Complement s1:\\n',complement_s1)\n",
    "print('complement s2:\\n',complement_s2)\n",
    "print('Symmetric Difference:\\n',symmetric_diff)\n",
    "print('Cartesian Product:\\n',cartesian_product)\n",
    "\n",
    "\n",
    "#union_result, intersection_result, difference_s1, difference_s2, is_subset, is_superset, complement_s1, complement_s2, symmetric_diff, cartesian_product\n"
   ]
  },
  {
   "cell_type": "markdown",
   "id": "d24c3bb1",
   "metadata": {},
   "source": [
    "##  Iterating Index and Values in Various Data Structures\n",
    "### List"
   ]
  },
  {
   "cell_type": "code",
   "execution_count": 104,
   "id": "1454b253",
   "metadata": {},
   "outputs": [],
   "source": [
    "my_list=[1,2,3,4]\n",
    "\n",
    "for idx, value in enumerate(my_list):\n",
    "    pass"
   ]
  },
  {
   "cell_type": "markdown",
   "id": "19833c96",
   "metadata": {},
   "source": [
    "### np.array"
   ]
  },
  {
   "cell_type": "code",
   "execution_count": 105,
   "id": "44723f7b",
   "metadata": {},
   "outputs": [],
   "source": [
    "import numpy as np\n",
    "arr1 = np.array([1, 2, 3, 4])\n",
    "for idx, value in enumerate(arr1):\n",
    "    pass\n"
   ]
  },
  {
   "cell_type": "markdown",
   "id": "34fd7800",
   "metadata": {},
   "source": [
    "### Dataframe"
   ]
  },
  {
   "cell_type": "code",
   "execution_count": 108,
   "id": "07523a7e",
   "metadata": {},
   "outputs": [],
   "source": [
    "import pandas as pd\n",
    "# Sample dataframes\n",
    "df1 = pd.DataFrame({\n",
    "    'A': [1, 2, 3],\n",
    "    'B': ['a', 'b', 'c']\n",
    "})\n",
    "# Iterating over rows\n",
    "for idx, row in df1.iterrows():\n",
    "    pass\n",
    "# Iterating over columns\n",
    "for column_name,column_data in df1.items():\n",
    "    pass"
   ]
  },
  {
   "cell_type": "markdown",
   "id": "ee09baf2",
   "metadata": {},
   "source": [
    "### Dictionary"
   ]
  },
  {
   "cell_type": "code",
   "execution_count": 110,
   "id": "aa77e078",
   "metadata": {},
   "outputs": [],
   "source": [
    "# Redefining the sample dictionaries\n",
    "dict1 = {'a': 1, 'b': 2, 'c': 3}\n",
    "# Iterating over keys:\n",
    "for key in dict1:\n",
    "    pass\n",
    "# Iterating over key-value pairs:\n",
    "for key, value in my_dict.items():\n",
    "    pass"
   ]
  },
  {
   "cell_type": "markdown",
   "id": "ab4b9e89",
   "metadata": {},
   "source": [
    "### Series"
   ]
  },
  {
   "cell_type": "code",
   "execution_count": 113,
   "id": "718840d5",
   "metadata": {},
   "outputs": [],
   "source": [
    "import pandas as pd\n",
    "\n",
    "# Sample series\n",
    "s1 = pd.Series([1, 2, 3, 4])\n",
    "for idx, value in s1.items():\n",
    "    pass"
   ]
  }
 ],
 "metadata": {
  "kernelspec": {
   "display_name": "Python 3 (ipykernel)",
   "language": "python",
   "name": "python3"
  },
  "language_info": {
   "codemirror_mode": {
    "name": "ipython",
    "version": 3
   },
   "file_extension": ".py",
   "mimetype": "text/x-python",
   "name": "python",
   "nbconvert_exporter": "python",
   "pygments_lexer": "ipython3",
   "version": "3.11.4"
  },
  "toc-autonumbering": true,
  "toc-showcode": false,
  "toc-showmarkdowntxt": true,
  "toc-showtags": false
 },
 "nbformat": 4,
 "nbformat_minor": 5
}
