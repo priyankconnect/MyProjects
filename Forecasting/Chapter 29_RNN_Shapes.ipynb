{
 "cells": [
  {
   "cell_type": "code",
   "execution_count": 11,
   "id": "5750d661",
   "metadata": {},
   "outputs": [],
   "source": [
    "from tensorflow.keras.layers import Input,SimpleRNN,Dense,Flatten\n",
    "from tensorflow.keras.models import Model\n",
    "from tensorflow.keras.optimizers import SGD,Adam\n",
    "\n",
    "import numpy as np\n",
    "import pandas as pd\n",
    "import matplotlib.pyplot as plt"
   ]
  },
  {
   "cell_type": "code",
   "execution_count": 12,
   "id": "ff30f2bb",
   "metadata": {},
   "outputs": [],
   "source": [
    "# Make some data\n",
    "N=1\n",
    "T=10\n",
    "D=3\n",
    "K=2\n",
    "X=np.random.randn(N,T,D)"
   ]
  },
  {
   "cell_type": "code",
   "execution_count": 13,
   "id": "d05ecd41",
   "metadata": {},
   "outputs": [],
   "source": [
    "# Make an RNN\n",
    "M=5 # number of hidden units\n",
    "i= Input(shape=(T,D))\n",
    "x=SimpleRNN(M)(i)\n",
    "x=Dense(K)(x)\n",
    "\n",
    "model=Model(i,x)"
   ]
  },
  {
   "cell_type": "code",
   "execution_count": 14,
   "id": "5142dcb1",
   "metadata": {},
   "outputs": [
    {
     "name": "stdout",
     "output_type": "stream",
     "text": [
      "1/1 [==============================] - 0s 256ms/step\n",
      "[[-0.622304   -0.01148811]]\n"
     ]
    }
   ],
   "source": [
    "# Get the output\n",
    "Yhat=model.predict(X)\n",
    "print(Yhat)"
   ]
  },
  {
   "cell_type": "code",
   "execution_count": 15,
   "id": "75757136",
   "metadata": {},
   "outputs": [
    {
     "name": "stdout",
     "output_type": "stream",
     "text": [
      "Model: \"model_1\"\n",
      "_________________________________________________________________\n",
      " Layer (type)                Output Shape              Param #   \n",
      "=================================================================\n",
      " input_2 (InputLayer)        [(None, 10, 3)]           0         \n",
      "                                                                 \n",
      " simple_rnn_1 (SimpleRNN)    (None, 5)                 45        \n",
      "                                                                 \n",
      " dense_1 (Dense)             (None, 2)                 12        \n",
      "                                                                 \n",
      "=================================================================\n",
      "Total params: 57 (228.00 Byte)\n",
      "Trainable params: 57 (228.00 Byte)\n",
      "Non-trainable params: 0 (0.00 Byte)\n",
      "_________________________________________________________________\n"
     ]
    }
   ],
   "source": [
    "# See if we can replicate this output\n",
    "# Get the weights first\n",
    "model.summary()"
   ]
  },
  {
   "cell_type": "code",
   "execution_count": 16,
   "id": "a56a073d",
   "metadata": {},
   "outputs": [
    {
     "data": {
      "text/plain": [
       "[array([[ 0.6499576 ,  0.11976713,  0.3232593 ,  0.18013674,  0.31690186],\n",
       "        [ 0.6804969 ,  0.8524062 ,  0.09597379, -0.21013719,  0.17415279],\n",
       "        [-0.05742896,  0.05230957, -0.82196575, -0.27570748,  0.08022481]],\n",
       "       dtype=float32),\n",
       " array([[ 0.03571045,  0.37183568,  0.05109354, -0.9261336 ,  0.01135594],\n",
       "        [-0.3104643 ,  0.2781922 ,  0.69135225,  0.14487661,  0.57206964],\n",
       "        [-0.5042895 ,  0.1737008 ,  0.33285612,  0.05915043, -0.7753889 ],\n",
       "        [-0.00437217, -0.846253  ,  0.4275535 , -0.3166806 , -0.02735131],\n",
       "        [ 0.8049905 ,  0.1950158 ,  0.47521162,  0.13229477, -0.26576516]],\n",
       "       dtype=float32),\n",
       " array([0., 0., 0., 0., 0.], dtype=float32)]"
      ]
     },
     "execution_count": 16,
     "metadata": {},
     "output_type": "execute_result"
    }
   ],
   "source": [
    "model.layers[1].get_weights()"
   ]
  },
  {
   "cell_type": "code",
   "execution_count": 17,
   "id": "5fe91bcb",
   "metadata": {},
   "outputs": [
    {
     "name": "stdout",
     "output_type": "stream",
     "text": [
      "(3, 5) (5, 5) (5,)\n"
     ]
    }
   ],
   "source": [
    "# Check their shapes\n",
    "# should make sense\n",
    "# First output is input > hidden\n",
    "# Second output is hidden > hidden\n",
    "# Third output is bias term (vector of length M)\n",
    "a, b, c = model.layers[1].get_weights()\n",
    "print(a.shape,b.shape,c.shape)"
   ]
  },
  {
   "cell_type": "code",
   "execution_count": 18,
   "id": "57c016d9",
   "metadata": {},
   "outputs": [],
   "source": [
    "Wx,Wh,bh=model.layers[1].get_weights()\n",
    "Wo,bo=model.layers[2].get_weights()"
   ]
  },
  {
   "cell_type": "code",
   "execution_count": 20,
   "id": "49925820",
   "metadata": {},
   "outputs": [
    {
     "name": "stdout",
     "output_type": "stream",
     "text": [
      "[-0.62230406 -0.01148818]\n"
     ]
    }
   ],
   "source": [
    "h_last=np.zeros(M) # initial hidden state\n",
    "x=X[0] # the one and only sample\n",
    "Yhats=[] # where we store the outputs\n",
    "\n",
    "for t in range(T):\n",
    "    h=np.tanh(x[t].dot(Wx)+h_last.dot(Wh)+bh)\n",
    "    y=h.dot(Wo)+bo # we only care about this value on the last iteration\n",
    "    Yhats.append(y)\n",
    "    \n",
    "    # important: assign h to h_last\n",
    "    h_last=h\n",
    "    \n",
    "# print the final output\n",
    "print(Yhats[-1])"
   ]
  }
 ],
 "metadata": {
  "kernelspec": {
   "display_name": "Python 3 (ipykernel)",
   "language": "python",
   "name": "python3"
  },
  "language_info": {
   "codemirror_mode": {
    "name": "ipython",
    "version": 3
   },
   "file_extension": ".py",
   "mimetype": "text/x-python",
   "name": "python",
   "nbconvert_exporter": "python",
   "pygments_lexer": "ipython3",
   "version": "3.11.4"
  }
 },
 "nbformat": 4,
 "nbformat_minor": 5
}
