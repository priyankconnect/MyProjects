{
 "cells": [
  {
   "cell_type": "code",
   "execution_count": 1,
   "id": "6066be1b",
   "metadata": {},
   "outputs": [],
   "source": [
    "# Here we predict only stocks direction i.e. down or up and that too for one step only.That should make the problem easier"
   ]
  },
  {
   "cell_type": "code",
   "execution_count": 2,
   "id": "be1b1a98",
   "metadata": {},
   "outputs": [],
   "source": [
    "import pandas as pd\n",
    "import numpy as np\n",
    "import matplotlib.pyplot as plt\n",
    "from statsmodels.graphics.tsaplots import plot_pacf,plot_acf"
   ]
  },
  {
   "cell_type": "code",
   "execution_count": 21,
   "id": "6a0fa208",
   "metadata": {},
   "outputs": [],
   "source": [
    "from sklearn.linear_model import LogisticRegression\n",
    "from sklearn.svm import SVC  # we are importing classifiers and not regressor\n",
    "from sklearn.ensemble import RandomForestClassifier\n",
    "from sklearn.preprocessing import StandardScaler\n",
    "\n",
    "from sklearn.metrics import mean_absolute_percentage_error,r2_score"
   ]
  },
  {
   "cell_type": "code",
   "execution_count": 8,
   "id": "8688cacb",
   "metadata": {},
   "outputs": [
    {
     "name": "stderr",
     "output_type": "stream",
     "text": [
      "  % Total    % Received % Xferd  Average Speed   Time    Time     Time  Current\n",
      "                                 Dload  Upload   Total   Spent    Left  Speed\n",
      "\n",
      "  0     0    0     0    0     0      0      0 --:--:-- --:--:-- --:--:--     0\n",
      "  0     0    0     0    0     0      0      0 --:--:--  0:00:01 --:--:--     0\n",
      "  0 24.2M    0 30795    0     0  18019      0  0:23:33  0:00:01  0:23:32 18040\n",
      "  2 24.2M    2  542k    0     0   198k      0  0:02:05  0:00:02  0:02:03  198k\n",
      "  8 24.2M    8 2126k    0     0   585k      0  0:00:42  0:00:03  0:00:39  585k\n",
      " 23 24.2M   23 5774k    0     0  1209k      0  0:00:20  0:00:04  0:00:16 1209k\n",
      " 37 24.2M   37 9214k    0     0  1624k      0  0:00:15  0:00:05  0:00:10 2128k\n",
      " 47 24.2M   47 11.6M    0     0  1703k      0  0:00:14  0:00:07  0:00:07 2247k\n",
      " 63 24.2M   63 15.3M    0     0  2039k      0  0:00:12  0:00:07  0:00:05 3049k\n",
      " 81 24.2M   81 19.7M    0     0  2337k      0  0:00:10  0:00:08  0:00:02 3605k\n",
      " 95 24.2M   95 23.0M    0     0  2455k      0  0:00:10  0:00:09  0:00:01 3680k\n",
      "100 24.2M  100 24.2M    0     0  2506k      0  0:00:09  0:00:09 --:--:-- 3682k\n"
     ]
    }
   ],
   "source": [
    "!curl -O https://lazyprogrammer.me/course_files/sp500sub.csv"
   ]
  },
  {
   "cell_type": "code",
   "execution_count": 9,
   "id": "5cb7c8d7",
   "metadata": {},
   "outputs": [
    {
     "data": {
      "text/html": [
       "<div>\n",
       "<style scoped>\n",
       "    .dataframe tbody tr th:only-of-type {\n",
       "        vertical-align: middle;\n",
       "    }\n",
       "\n",
       "    .dataframe tbody tr th {\n",
       "        vertical-align: top;\n",
       "    }\n",
       "\n",
       "    .dataframe thead th {\n",
       "        text-align: right;\n",
       "    }\n",
       "</style>\n",
       "<table border=\"1\" class=\"dataframe\">\n",
       "  <thead>\n",
       "    <tr style=\"text-align: right;\">\n",
       "      <th></th>\n",
       "      <th>Open</th>\n",
       "      <th>High</th>\n",
       "      <th>Low</th>\n",
       "      <th>Close</th>\n",
       "      <th>Adj Close</th>\n",
       "      <th>Volume</th>\n",
       "      <th>Name</th>\n",
       "    </tr>\n",
       "    <tr>\n",
       "      <th>Date</th>\n",
       "      <th></th>\n",
       "      <th></th>\n",
       "      <th></th>\n",
       "      <th></th>\n",
       "      <th></th>\n",
       "      <th></th>\n",
       "      <th></th>\n",
       "    </tr>\n",
       "  </thead>\n",
       "  <tbody>\n",
       "    <tr>\n",
       "      <th>2010-01-04</th>\n",
       "      <td>9.22</td>\n",
       "      <td>9.51</td>\n",
       "      <td>9.17</td>\n",
       "      <td>9.50</td>\n",
       "      <td>9.50</td>\n",
       "      <td>1865400.0</td>\n",
       "      <td>INCY</td>\n",
       "    </tr>\n",
       "    <tr>\n",
       "      <th>2010-01-05</th>\n",
       "      <td>9.51</td>\n",
       "      <td>10.29</td>\n",
       "      <td>9.45</td>\n",
       "      <td>10.27</td>\n",
       "      <td>10.27</td>\n",
       "      <td>7608900.0</td>\n",
       "      <td>INCY</td>\n",
       "    </tr>\n",
       "    <tr>\n",
       "      <th>2010-01-06</th>\n",
       "      <td>10.38</td>\n",
       "      <td>11.09</td>\n",
       "      <td>10.35</td>\n",
       "      <td>11.00</td>\n",
       "      <td>11.00</td>\n",
       "      <td>8046700.0</td>\n",
       "      <td>INCY</td>\n",
       "    </tr>\n",
       "    <tr>\n",
       "      <th>2010-01-07</th>\n",
       "      <td>11.00</td>\n",
       "      <td>11.06</td>\n",
       "      <td>10.62</td>\n",
       "      <td>10.82</td>\n",
       "      <td>10.82</td>\n",
       "      <td>3680300.0</td>\n",
       "      <td>INCY</td>\n",
       "    </tr>\n",
       "    <tr>\n",
       "      <th>2010-01-08</th>\n",
       "      <td>10.82</td>\n",
       "      <td>11.00</td>\n",
       "      <td>10.75</td>\n",
       "      <td>10.94</td>\n",
       "      <td>10.94</td>\n",
       "      <td>1529300.0</td>\n",
       "      <td>INCY</td>\n",
       "    </tr>\n",
       "  </tbody>\n",
       "</table>\n",
       "</div>"
      ],
      "text/plain": [
       "             Open   High    Low  Close  Adj Close     Volume  Name\n",
       "Date                                                              \n",
       "2010-01-04   9.22   9.51   9.17   9.50       9.50  1865400.0  INCY\n",
       "2010-01-05   9.51  10.29   9.45  10.27      10.27  7608900.0  INCY\n",
       "2010-01-06  10.38  11.09  10.35  11.00      11.00  8046700.0  INCY\n",
       "2010-01-07  11.00  11.06  10.62  10.82      10.82  3680300.0  INCY\n",
       "2010-01-08  10.82  11.00  10.75  10.94      10.94  1529300.0  INCY"
      ]
     },
     "execution_count": 9,
     "metadata": {},
     "output_type": "execute_result"
    }
   ],
   "source": [
    "df0=pd.read_csv('sp500sub.csv',index_col='Date',parse_dates=True)\n",
    "df0.head()"
   ]
  },
  {
   "cell_type": "code",
   "execution_count": 10,
   "id": "670022c5",
   "metadata": {},
   "outputs": [],
   "source": [
    "df=df0[df0['Name']=='IBM'][['Close']].copy()"
   ]
  },
  {
   "cell_type": "code",
   "execution_count": 11,
   "id": "cfee2a49",
   "metadata": {},
   "outputs": [],
   "source": [
    "df['LogClose']=np.log(df['Close'])"
   ]
  },
  {
   "cell_type": "code",
   "execution_count": 12,
   "id": "ff4eaf6d",
   "metadata": {},
   "outputs": [],
   "source": [
    "df['LogReturn']=df['LogClose'].diff()"
   ]
  },
  {
   "cell_type": "code",
   "execution_count": 13,
   "id": "d3e72d03",
   "metadata": {},
   "outputs": [],
   "source": [
    "Ntest=252\n",
    "train=df.iloc[:-Ntest]\n",
    "test=df.iloc[-Ntest:]"
   ]
  },
  {
   "cell_type": "code",
   "execution_count": 14,
   "id": "7793fb7f",
   "metadata": {},
   "outputs": [
    {
     "name": "stdout",
     "output_type": "stream",
     "text": [
      "X.shape (2241, 21) Y.shape (2241,)\n"
     ]
    }
   ],
   "source": [
    "# Make supervised dataset\n",
    "# Let's see if we can use T past values to predict the next value\n",
    "\n",
    "series=df['LogReturn'].to_numpy()[1:] # Numpy array are little easier to index\n",
    "target=(series>0)*1\n",
    "# It starts from 1 as due to taking the first difference the first value is zero\n",
    "T=21 # We set the number of lags.\n",
    "X=[] # We also create empty lists to store inputs and targets\n",
    "Y=[]\n",
    "\n",
    "for t in range(len(series)-T):\n",
    "    x=series[t:t+T] # This is our input which is of the time series of size T\n",
    "    X.append(x)\n",
    "    y=target[t+T] # This is to compute the target which is the next value of the time series\n",
    "    Y.append(y)\n",
    "    \n",
    "# We convert both the inputs and targets to the numpy array, which are easy to index    \n",
    "X=np.array(X).reshape(-1,T)\n",
    "Y=np.array(Y)\n",
    "N=len(X)\n",
    "print('X.shape',X.shape,'Y.shape',Y.shape)"
   ]
  },
  {
   "cell_type": "code",
   "execution_count": 15,
   "id": "6082f377",
   "metadata": {},
   "outputs": [],
   "source": [
    "# To split our input and targets into train and test\n",
    "Xtrain,Ytrain=X[:-Ntest],Y[:-Ntest]\n",
    "Xtest,Ytest=X[-Ntest:],Y[-Ntest:]"
   ]
  },
  {
   "cell_type": "code",
   "execution_count": 22,
   "id": "418f8042",
   "metadata": {},
   "outputs": [
    {
     "data": {
      "text/plain": [
       "0.5093011563599799"
      ]
     },
     "execution_count": 22,
     "metadata": {},
     "output_type": "execute_result"
    }
   ],
   "source": [
    "# To fit a linear regression\n",
    "lr=LogisticRegression()\n",
    "lr.fit(Xtrain,Ytrain)\n",
    "lr.score(Xtrain,Ytrain)"
   ]
  },
  {
   "cell_type": "code",
   "execution_count": 23,
   "id": "9f85220d",
   "metadata": {},
   "outputs": [
    {
     "data": {
      "text/plain": [
       "0.49603174603174605"
      ]
     },
     "execution_count": 23,
     "metadata": {},
     "output_type": "execute_result"
    }
   ],
   "source": [
    "lr.score(Xtest,Ytest)"
   ]
  },
  {
   "cell_type": "code",
   "execution_count": 24,
   "id": "2c8d03d0",
   "metadata": {},
   "outputs": [
    {
     "data": {
      "text/plain": [
       "0.7551533433886375"
      ]
     },
     "execution_count": 24,
     "metadata": {},
     "output_type": "execute_result"
    }
   ],
   "source": [
    "svc=SVC()\n",
    "svc.fit(Xtrain,Ytrain)\n",
    "svc.score(Xtrain,Ytrain)"
   ]
  },
  {
   "cell_type": "code",
   "execution_count": 25,
   "id": "f3049d12",
   "metadata": {},
   "outputs": [
    {
     "data": {
      "text/plain": [
       "0.49603174603174605"
      ]
     },
     "execution_count": 25,
     "metadata": {},
     "output_type": "execute_result"
    }
   ],
   "source": [
    "svc.score(Xtest,Ytest)"
   ]
  },
  {
   "cell_type": "code",
   "execution_count": 26,
   "id": "71ff18f5",
   "metadata": {},
   "outputs": [
    {
     "data": {
      "text/plain": [
       "1.0"
      ]
     },
     "execution_count": 26,
     "metadata": {},
     "output_type": "execute_result"
    }
   ],
   "source": [
    "# This is the same as coin toss, so no big deal\n",
    "rf=RandomForestClassifier()\n",
    "rf.fit(Xtrain,Ytrain)\n",
    "rf.score(Xtrain,Ytrain)"
   ]
  },
  {
   "cell_type": "code",
   "execution_count": 27,
   "id": "b4ed0d5b",
   "metadata": {},
   "outputs": [
    {
     "data": {
      "text/plain": [
       "0.44841269841269843"
      ]
     },
     "execution_count": 27,
     "metadata": {},
     "output_type": "execute_result"
    }
   ],
   "source": [
    "rf.score(Xtest,Ytest)"
   ]
  },
  {
   "cell_type": "code",
   "execution_count": 28,
   "id": "eaab661f",
   "metadata": {},
   "outputs": [],
   "source": [
    "# Does worse than coin test on test set"
   ]
  },
  {
   "cell_type": "code",
   "execution_count": null,
   "id": "39a58b85",
   "metadata": {},
   "outputs": [],
   "source": []
  }
 ],
 "metadata": {
  "kernelspec": {
   "display_name": "Python 3 (ipykernel)",
   "language": "python",
   "name": "python3"
  },
  "language_info": {
   "codemirror_mode": {
    "name": "ipython",
    "version": 3
   },
   "file_extension": ".py",
   "mimetype": "text/x-python",
   "name": "python",
   "nbconvert_exporter": "python",
   "pygments_lexer": "ipython3",
   "version": "3.11.4"
  }
 },
 "nbformat": 4,
 "nbformat_minor": 5
}
