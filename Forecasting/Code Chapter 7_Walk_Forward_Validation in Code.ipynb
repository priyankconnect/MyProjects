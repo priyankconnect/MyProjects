{
 "cells": [
  {
   "cell_type": "code",
   "execution_count": 1,
   "id": "ad81ec80",
   "metadata": {},
   "outputs": [],
   "source": [
    "import pandas as pd\n",
    "import numpy as np\n",
    "import matplotlib.pyplot as plt"
   ]
  },
  {
   "cell_type": "code",
   "execution_count": 2,
   "id": "0bd6bd92",
   "metadata": {},
   "outputs": [
    {
     "name": "stderr",
     "output_type": "stream",
     "text": [
      "  % Total    % Received % Xferd  Average Speed   Time    Time     Time  Current\n",
      "                                 Dload  Upload   Total   Spent    Left  Speed\n",
      "\n",
      "  0     0    0     0    0     0      0      0 --:--:-- --:--:-- --:--:--     0\n",
      "100  2036  100  2036    0     0   1793      0  0:00:01  0:00:01 --:--:--  1798\n",
      "100  2036  100  2036    0     0   1792      0  0:00:01  0:00:01 --:--:--  1798\n"
     ]
    }
   ],
   "source": [
    "!curl -O  https://lazyprogrammer.me/course_files/airline_passengers.csv"
   ]
  },
  {
   "cell_type": "code",
   "execution_count": 3,
   "id": "30810676",
   "metadata": {},
   "outputs": [
    {
     "data": {
      "text/html": [
       "<div>\n",
       "<style scoped>\n",
       "    .dataframe tbody tr th:only-of-type {\n",
       "        vertical-align: middle;\n",
       "    }\n",
       "\n",
       "    .dataframe tbody tr th {\n",
       "        vertical-align: top;\n",
       "    }\n",
       "\n",
       "    .dataframe thead th {\n",
       "        text-align: right;\n",
       "    }\n",
       "</style>\n",
       "<table border=\"1\" class=\"dataframe\">\n",
       "  <thead>\n",
       "    <tr style=\"text-align: right;\">\n",
       "      <th></th>\n",
       "      <th>Passengers</th>\n",
       "    </tr>\n",
       "    <tr>\n",
       "      <th>Month</th>\n",
       "      <th></th>\n",
       "    </tr>\n",
       "  </thead>\n",
       "  <tbody>\n",
       "    <tr>\n",
       "      <th>1949-01-01</th>\n",
       "      <td>112</td>\n",
       "    </tr>\n",
       "    <tr>\n",
       "      <th>1949-02-01</th>\n",
       "      <td>118</td>\n",
       "    </tr>\n",
       "    <tr>\n",
       "      <th>1949-03-01</th>\n",
       "      <td>132</td>\n",
       "    </tr>\n",
       "    <tr>\n",
       "      <th>1949-04-01</th>\n",
       "      <td>129</td>\n",
       "    </tr>\n",
       "    <tr>\n",
       "      <th>1949-05-01</th>\n",
       "      <td>121</td>\n",
       "    </tr>\n",
       "  </tbody>\n",
       "</table>\n",
       "</div>"
      ],
      "text/plain": [
       "            Passengers\n",
       "Month                 \n",
       "1949-01-01         112\n",
       "1949-02-01         118\n",
       "1949-03-01         132\n",
       "1949-04-01         129\n",
       "1949-05-01         121"
      ]
     },
     "execution_count": 3,
     "metadata": {},
     "output_type": "execute_result"
    }
   ],
   "source": [
    "df=pd.read_csv('airline_passengers.csv',index_col='Month',parse_dates=True)\n",
    "df.head()"
   ]
  },
  {
   "cell_type": "code",
   "execution_count": 4,
   "id": "c04b3523",
   "metadata": {},
   "outputs": [],
   "source": [
    "import itertools\n",
    "\n",
    "from sklearn.metrics import mean_squared_error\n",
    "from statsmodels.tsa.holtwinters import ExponentialSmoothing"
   ]
  },
  {
   "cell_type": "code",
   "execution_count": 5,
   "id": "d8c3f4b8",
   "metadata": {},
   "outputs": [],
   "source": [
    "df.index.freq='MS'"
   ]
  },
  {
   "cell_type": "code",
   "execution_count": 6,
   "id": "49bb19f1",
   "metadata": {},
   "outputs": [
    {
     "data": {
      "text/plain": [
       "(144, 1)"
      ]
     },
     "execution_count": 6,
     "metadata": {},
     "output_type": "execute_result"
    }
   ],
   "source": [
    "df.shape"
   ]
  },
  {
   "cell_type": "code",
   "execution_count": 7,
   "id": "fed45fd0",
   "metadata": {},
   "outputs": [],
   "source": [
    "# Assume the forecast horizon we care about is 12\n",
    "# Validation over 10 steps\n",
    "h=12\n",
    "steps=10\n",
    "Ntest=len(df)-h-steps+1"
   ]
  },
  {
   "cell_type": "code",
   "execution_count": 8,
   "id": "8ffbd25e",
   "metadata": {},
   "outputs": [],
   "source": [
    "# Configuration hyperparameters to try\n",
    "trend_type_list=['add','mul']\n",
    "seasonal_type_list=['add','mul']\n",
    "damped_trend_list=[True,False]\n",
    "init_method_list=['estimated','heuristic','legacy-heuristic']\n",
    "use_boxcox_list=[True,False,0]"
   ]
  },
  {
   "cell_type": "code",
   "execution_count": 9,
   "id": "b29038a1",
   "metadata": {},
   "outputs": [],
   "source": [
    "def walkforward(\n",
    "trend_type,\n",
    "seasonal_type,\n",
    "damped_trend,\n",
    "init_method,\n",
    "use_boxcox,\n",
    "debug=False):\n",
    "    \n",
    "    # Store errors\n",
    "    errors=[]\n",
    "    seen_last=False\n",
    "    steps_completed=0\n",
    "    \n",
    "    for end_of_train in range(Ntest,len(df)-h+1):\n",
    "        # We don't have to manually 'add' data to our dataset\n",
    "        # just index it at the right points- this is view and not a copy\n",
    "        # So it doesn't take up any extra space or computation\n",
    "        train=df.iloc[:end_of_train]\n",
    "        test =df.iloc[end_of_train:end_of_train+h]\n",
    "        \n",
    "        if test.index[-1]==df.index[-1]:\n",
    "            seen_last=True\n",
    "        \n",
    "        steps_completed +=1\n",
    "        \n",
    "    hw = ExponentialSmoothing(\n",
    "    train['Passengers'],\n",
    "    initialization_method=init_method,\n",
    "    trend=trend_type,\n",
    "    damped_trend=damped_trend,\n",
    "    seasonal=seasonal_type,\n",
    "    seasonal_periods=12,\n",
    "    use_boxcox=use_boxcox)\n",
    "    \n",
    "    res_hw=hw.fit()\n",
    "    \n",
    "    # Compute error for the forecast horizon\n",
    "    fcast=res_hw.forecast(h)\n",
    "    error=mean_squared_error(test['Passengers'],fcast)\n",
    "    errors.append(error)\n",
    "    \n",
    "    if debug:\n",
    "        print('seen_last:',seen_last)\n",
    "        print('steps completed:',steps_completed)\n",
    "        \n",
    "    return np.mean(errors)"
   ]
  },
  {
   "cell_type": "code",
   "execution_count": 10,
   "id": "1913e8cb",
   "metadata": {},
   "outputs": [
    {
     "name": "stdout",
     "output_type": "stream",
     "text": [
      "seen_last: True\n",
      "steps completed: 10\n"
     ]
    },
    {
     "data": {
      "text/plain": [
       "708.2967560540783"
      ]
     },
     "execution_count": 10,
     "metadata": {},
     "output_type": "execute_result"
    }
   ],
   "source": [
    "# test our function\n",
    "walkforward('add','add',False,'legacy-heuristic',0,debug=True)"
   ]
  },
  {
   "cell_type": "code",
   "execution_count": 11,
   "id": "904df98b",
   "metadata": {},
   "outputs": [
    {
     "name": "stdout",
     "output_type": "stream",
     "text": [
      "('add', 'add', True, 'estimated', True)\n",
      "('add', 'add', True, 'estimated', False)\n",
      "('add', 'add', True, 'estimated', 0)\n",
      "('add', 'add', True, 'heuristic', True)\n",
      "('add', 'add', True, 'heuristic', False)\n",
      "('add', 'add', True, 'heuristic', 0)\n",
      "('add', 'add', True, 'legacy-heuristic', True)\n",
      "('add', 'add', True, 'legacy-heuristic', False)\n",
      "('add', 'add', True, 'legacy-heuristic', 0)\n",
      "('add', 'add', False, 'estimated', True)\n",
      "('add', 'add', False, 'estimated', False)\n",
      "('add', 'add', False, 'estimated', 0)\n",
      "('add', 'add', False, 'heuristic', True)\n",
      "('add', 'add', False, 'heuristic', False)\n",
      "('add', 'add', False, 'heuristic', 0)\n",
      "('add', 'add', False, 'legacy-heuristic', True)\n",
      "('add', 'add', False, 'legacy-heuristic', False)\n",
      "('add', 'add', False, 'legacy-heuristic', 0)\n",
      "('add', 'mul', True, 'estimated', True)\n",
      "('add', 'mul', True, 'estimated', False)\n",
      "('add', 'mul', True, 'estimated', 0)\n",
      "('add', 'mul', True, 'heuristic', True)\n",
      "('add', 'mul', True, 'heuristic', False)\n",
      "('add', 'mul', True, 'heuristic', 0)\n",
      "('add', 'mul', True, 'legacy-heuristic', True)\n",
      "('add', 'mul', True, 'legacy-heuristic', False)\n",
      "('add', 'mul', True, 'legacy-heuristic', 0)\n",
      "('add', 'mul', False, 'estimated', True)\n",
      "('add', 'mul', False, 'estimated', False)\n",
      "('add', 'mul', False, 'estimated', 0)\n",
      "('add', 'mul', False, 'heuristic', True)\n",
      "('add', 'mul', False, 'heuristic', False)\n",
      "('add', 'mul', False, 'heuristic', 0)\n",
      "('add', 'mul', False, 'legacy-heuristic', True)\n",
      "('add', 'mul', False, 'legacy-heuristic', False)\n",
      "('add', 'mul', False, 'legacy-heuristic', 0)\n",
      "('mul', 'add', True, 'estimated', True)\n",
      "('mul', 'add', True, 'estimated', False)\n",
      "('mul', 'add', True, 'estimated', 0)\n",
      "('mul', 'add', True, 'heuristic', True)\n",
      "('mul', 'add', True, 'heuristic', False)\n",
      "('mul', 'add', True, 'heuristic', 0)\n",
      "('mul', 'add', True, 'legacy-heuristic', True)\n",
      "('mul', 'add', True, 'legacy-heuristic', False)\n",
      "('mul', 'add', True, 'legacy-heuristic', 0)\n",
      "('mul', 'add', False, 'estimated', True)\n",
      "('mul', 'add', False, 'estimated', False)\n",
      "('mul', 'add', False, 'estimated', 0)\n",
      "('mul', 'add', False, 'heuristic', True)\n",
      "('mul', 'add', False, 'heuristic', False)\n",
      "('mul', 'add', False, 'heuristic', 0)\n",
      "('mul', 'add', False, 'legacy-heuristic', True)\n",
      "('mul', 'add', False, 'legacy-heuristic', False)\n",
      "('mul', 'add', False, 'legacy-heuristic', 0)\n",
      "('mul', 'mul', True, 'estimated', True)\n",
      "('mul', 'mul', True, 'estimated', False)\n",
      "('mul', 'mul', True, 'estimated', 0)\n",
      "('mul', 'mul', True, 'heuristic', True)\n",
      "('mul', 'mul', True, 'heuristic', False)\n",
      "('mul', 'mul', True, 'heuristic', 0)\n",
      "('mul', 'mul', True, 'legacy-heuristic', True)\n",
      "('mul', 'mul', True, 'legacy-heuristic', False)\n",
      "('mul', 'mul', True, 'legacy-heuristic', 0)\n",
      "('mul', 'mul', False, 'estimated', True)\n",
      "('mul', 'mul', False, 'estimated', False)\n",
      "('mul', 'mul', False, 'estimated', 0)\n",
      "('mul', 'mul', False, 'heuristic', True)\n",
      "('mul', 'mul', False, 'heuristic', False)\n",
      "('mul', 'mul', False, 'heuristic', 0)\n",
      "('mul', 'mul', False, 'legacy-heuristic', True)\n",
      "('mul', 'mul', False, 'legacy-heuristic', False)\n",
      "('mul', 'mul', False, 'legacy-heuristic', 0)\n"
     ]
    }
   ],
   "source": [
    "# iterate through all possible options(i.e. grid search)\n",
    "tuple_of_option_lists=(\n",
    "trend_type_list,\n",
    "seasonal_type_list,\n",
    "damped_trend_list,\n",
    "init_method_list,\n",
    "use_boxcox_list,\n",
    ")\n",
    "for x in itertools.product(*tuple_of_option_lists):\n",
    "    print(x)"
   ]
  },
  {
   "cell_type": "code",
   "execution_count": 12,
   "id": "ac69c5b8",
   "metadata": {},
   "outputs": [
    {
     "name": "stdout",
     "output_type": "stream",
     "text": [
      "Best Score so Far: 265.3716003370259\n",
      "Best Score so Far: 251.33118439083964\n",
      "Best Score so Far: 237.53660728440934\n"
     ]
    },
    {
     "name": "stderr",
     "output_type": "stream",
     "text": [
      "C:\\Users\\asus\\anaconda31\\Lib\\site-packages\\statsmodels\\tsa\\holtwinters\\model.py:83: RuntimeWarning: overflow encountered in matmul\n",
      "  return err.T @ err\n",
      "C:\\Users\\asus\\anaconda31\\Lib\\site-packages\\statsmodels\\tsa\\holtwinters\\model.py:83: RuntimeWarning: overflow encountered in matmul\n",
      "  return err.T @ err\n"
     ]
    }
   ],
   "source": [
    "best_score=float('inf')\n",
    "best_options=None\n",
    "for x in itertools.product(*tuple_of_option_lists):\n",
    "    score=walkforward(*x)\n",
    "    \n",
    "    if score<best_score:\n",
    "        print('Best Score so Far:',score)\n",
    "        best_score=score\n",
    "        best_options=x\n",
    "        \n",
    "## Overflow is not an issue"
   ]
  },
  {
   "cell_type": "code",
   "execution_count": 14,
   "id": "24f461ff",
   "metadata": {},
   "outputs": [
    {
     "name": "stdout",
     "output_type": "stream",
     "text": [
      "best score: 237.53660728440934\n",
      "trend_type: add\n",
      "seasonal_type: add\n",
      "damped_trend: True\n",
      "init_method: heuristic\n",
      "use_boxcox: False\n"
     ]
    }
   ],
   "source": [
    "print('best score:',best_score)\n",
    "trend_type,seasonal_type,damped_trend,init_method,use_boxcox=best_options\n",
    "print('trend_type:',trend_type)\n",
    "print('seasonal_type:',seasonal_type)\n",
    "print('damped_trend:',damped_trend)\n",
    "print('init_method:',init_method)\n",
    "print('use_boxcox:',use_boxcox)"
   ]
  },
  {
   "cell_type": "code",
   "execution_count": null,
   "id": "8695ba62",
   "metadata": {},
   "outputs": [],
   "source": []
  }
 ],
 "metadata": {
  "kernelspec": {
   "display_name": "Python 3 (ipykernel)",
   "language": "python",
   "name": "python3"
  },
  "language_info": {
   "codemirror_mode": {
    "name": "ipython",
    "version": 3
   },
   "file_extension": ".py",
   "mimetype": "text/x-python",
   "name": "python",
   "nbconvert_exporter": "python",
   "pygments_lexer": "ipython3",
   "version": "3.11.4"
  }
 },
 "nbformat": 4,
 "nbformat_minor": 5
}
