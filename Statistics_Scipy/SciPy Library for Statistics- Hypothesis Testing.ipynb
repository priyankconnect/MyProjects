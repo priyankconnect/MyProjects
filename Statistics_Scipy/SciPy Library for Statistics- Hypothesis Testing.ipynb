{
 "cells": [
  {
   "cell_type": "code",
   "execution_count": 1,
   "id": "abd2fcdd",
   "metadata": {},
   "outputs": [],
   "source": [
    "import pandas as pd\n",
    "import numpy as np\n",
    "import matplotlib.pyplot as plt\n",
    "import seaborn as sns"
   ]
  },
  {
   "cell_type": "markdown",
   "id": "8f8d215e",
   "metadata": {},
   "source": [
    "### Program to show usage of statistical functions from SciPy library"
   ]
  },
  {
   "cell_type": "code",
   "execution_count": 2,
   "id": "8b65db3b",
   "metadata": {},
   "outputs": [],
   "source": [
    "from scipy import stats"
   ]
  },
  {
   "cell_type": "code",
   "execution_count": 3,
   "id": "c691cfe6",
   "metadata": {},
   "outputs": [],
   "source": [
    "mydata =[15,17,21,24,17,20,21,12,21,12,16,15,11]"
   ]
  },
  {
   "cell_type": "markdown",
   "id": "8ad3fbea",
   "metadata": {},
   "source": [
    "### General statistics"
   ]
  },
  {
   "cell_type": "code",
   "execution_count": 4,
   "id": "ae875863",
   "metadata": {},
   "outputs": [
    {
     "data": {
      "text/plain": [
       "DescribeResult(nobs=13, minmax=(11, 24), mean=17.076923076923077, variance=16.74358974358974, skewness=0.0413054162308033, kurtosis=-1.128471725502979)"
      ]
     },
     "execution_count": 4,
     "metadata": {},
     "output_type": "execute_result"
    }
   ],
   "source": [
    "stats.describe(mydata)"
   ]
  },
  {
   "cell_type": "markdown",
   "id": "bc2e344a",
   "metadata": {},
   "source": [
    "nobs = No of observations\n",
    "### Cumulative Frequency"
   ]
  },
  {
   "cell_type": "code",
   "execution_count": 5,
   "id": "cf4bc39b",
   "metadata": {},
   "outputs": [
    {
     "data": {
      "text/plain": [
       "CumfreqResult(cumcount=array([ 1.,  3.,  3.,  6.,  8.,  8.,  9., 12., 12., 13.]), lowerlimit=10.277777777777779, binsize=1.4444444444444446, extrapoints=0)"
      ]
     },
     "execution_count": 5,
     "metadata": {},
     "output_type": "execute_result"
    }
   ],
   "source": [
    "stats.cumfreq(mydata)"
   ]
  },
  {
   "cell_type": "markdown",
   "id": "a2a9d87c",
   "metadata": {},
   "source": [
    "### Geometric Mean"
   ]
  },
  {
   "cell_type": "code",
   "execution_count": 6,
   "id": "62e35328",
   "metadata": {},
   "outputs": [
    {
     "data": {
      "text/plain": [
       "16.61014539547352"
      ]
     },
     "execution_count": 6,
     "metadata": {},
     "output_type": "execute_result"
    }
   ],
   "source": [
    "stats.gmean(mydata)"
   ]
  },
  {
   "cell_type": "markdown",
   "id": "89a53a59",
   "metadata": {},
   "source": [
    "### Harmonic Mean"
   ]
  },
  {
   "cell_type": "code",
   "execution_count": 7,
   "id": "4d0aa75e",
   "metadata": {},
   "outputs": [
    {
     "data": {
      "text/plain": [
       "16.137442162785828"
      ]
     },
     "execution_count": 7,
     "metadata": {},
     "output_type": "execute_result"
    }
   ],
   "source": [
    "stats.hmean(mydata)"
   ]
  },
  {
   "cell_type": "markdown",
   "id": "9792ce03",
   "metadata": {},
   "source": [
    "### Interquartile Range"
   ]
  },
  {
   "cell_type": "code",
   "execution_count": 8,
   "id": "1ae24c77",
   "metadata": {},
   "outputs": [
    {
     "data": {
      "text/plain": [
       "6.0"
      ]
     },
     "execution_count": 8,
     "metadata": {},
     "output_type": "execute_result"
    }
   ],
   "source": [
    "stats.iqr(mydata)"
   ]
  },
  {
   "cell_type": "markdown",
   "id": "9ee82fe3",
   "metadata": {},
   "source": [
    "### Z-score"
   ]
  },
  {
   "cell_type": "code",
   "execution_count": 9,
   "id": "bbca59a2",
   "metadata": {},
   "outputs": [
    {
     "data": {
      "text/plain": [
       "array([-0.52829582, -0.01956651,  0.99789211,  1.76098608, -0.01956651,\n",
       "        0.74352746,  0.99789211, -1.29138979,  0.99789211, -1.29138979,\n",
       "       -0.27393117, -0.52829582, -1.54575445])"
      ]
     },
     "execution_count": 9,
     "metadata": {},
     "output_type": "execute_result"
    }
   ],
   "source": [
    "stats.zscore(mydata)"
   ]
  },
  {
   "cell_type": "markdown",
   "id": "a6d80450",
   "metadata": {},
   "source": [
    "### Standard Error of the Mean"
   ]
  },
  {
   "cell_type": "code",
   "execution_count": 10,
   "id": "55868dac",
   "metadata": {},
   "outputs": [
    {
     "data": {
      "text/plain": [
       "1.1348869731451656"
      ]
     },
     "execution_count": 10,
     "metadata": {},
     "output_type": "execute_result"
    }
   ],
   "source": [
    "stats.sem(mydata)"
   ]
  },
  {
   "cell_type": "markdown",
   "id": "86e2245e",
   "metadata": {},
   "source": [
    "### Rank\n",
    "ranking refers to data transformation in which the numerical values are replaced by their ranks"
   ]
  },
  {
   "cell_type": "code",
   "execution_count": 11,
   "id": "59fee212",
   "metadata": {},
   "outputs": [
    {
     "data": {
      "text/plain": [
       "array([ 7. , 10. ,  1. ,  6. , 10. , 12. ,  4.5,  2.5,  4.5,  2.5,  8. ,\n",
       "       10. ])"
      ]
     },
     "execution_count": 11,
     "metadata": {},
     "output_type": "execute_result"
    }
   ],
   "source": [
    "mydata2 = [15,17,11,14,17,20,13,12,13,12,16,17]\n",
    "stats.rankdata(mydata2)"
   ]
  },
  {
   "cell_type": "markdown",
   "id": "365f6118",
   "metadata": {},
   "source": [
    "Here wherever there is a tie the rank is calculated and replaced by their average"
   ]
  },
  {
   "cell_type": "markdown",
   "id": "bc0f4d2e",
   "metadata": {},
   "source": [
    "### Determining Normality\n",
    "\n",
    "a. By applying skewness and Kurtosis\n",
    "\n",
    "b. Applying normal test function\n",
    "\n",
    "c. Shapiro Test"
   ]
  },
  {
   "cell_type": "code",
   "execution_count": 12,
   "id": "b49deadb",
   "metadata": {},
   "outputs": [],
   "source": [
    "mydata3 = [125,127,121,132,127,120,134,126,135,129,126,127,126,123,122,121,127,126,123,125]"
   ]
  },
  {
   "cell_type": "markdown",
   "id": "aabef655",
   "metadata": {},
   "source": [
    "### Using skewness and Kurtosis Functions for determining normality\n"
   ]
  },
  {
   "cell_type": "code",
   "execution_count": 13,
   "id": "10264727",
   "metadata": {},
   "outputs": [
    {
     "name": "stdout",
     "output_type": "stream",
     "text": [
      "0.643279161557402\n",
      "-0.059619587516806405\n"
     ]
    }
   ],
   "source": [
    "print(stats.skew(mydata3))\n",
    "print(stats.kurtosis(mydata3))"
   ]
  },
  {
   "cell_type": "markdown",
   "id": "3148b487",
   "metadata": {},
   "source": [
    "If the value of skewness and Kurtosis is between -1 and +1, we consider the data to be normal. In this case the values are between -1 and +1"
   ]
  },
  {
   "cell_type": "markdown",
   "id": "fde5e9f9",
   "metadata": {},
   "source": [
    "### Using normaltest() function\n"
   ]
  },
  {
   "cell_type": "code",
   "execution_count": 14,
   "id": "9df5e7c5",
   "metadata": {},
   "outputs": [
    {
     "data": {
      "text/plain": [
       "NormaltestResult(statistic=2.222167732125128, pvalue=0.3292019568090198)"
      ]
     },
     "execution_count": 14,
     "metadata": {},
     "output_type": "execute_result"
    }
   ],
   "source": [
    "stats.normaltest(mydata3)"
   ]
  },
  {
   "cell_type": "markdown",
   "id": "188c8406",
   "metadata": {},
   "source": [
    "p-value is insignificant so the data is normal"
   ]
  },
  {
   "cell_type": "markdown",
   "id": "fc6d1cdf",
   "metadata": {},
   "source": [
    "### Using shapiro() function\n"
   ]
  },
  {
   "cell_type": "code",
   "execution_count": 15,
   "id": "b695c636",
   "metadata": {},
   "outputs": [
    {
     "data": {
      "text/plain": [
       "ShapiroResult(statistic=0.9267992973327637, pvalue=0.13397882878780365)"
      ]
     },
     "execution_count": 15,
     "metadata": {},
     "output_type": "execute_result"
    }
   ],
   "source": [
    "stats.shapiro(mydata3)"
   ]
  },
  {
   "cell_type": "markdown",
   "id": "56e33dc8",
   "metadata": {},
   "source": [
    "p-value is insignificant so the data is normal"
   ]
  },
  {
   "cell_type": "markdown",
   "id": "95eea893",
   "metadata": {},
   "source": [
    "## Homogeneity of Variances\n",
    "We use Brtlett's test or Levene Test to check that. If p value is more than 0.05, the assumption of homogenity of variance is met. It means that there is a homogeniety of variances in the two groups"
   ]
  },
  {
   "cell_type": "code",
   "execution_count": 16,
   "id": "5b587ce0",
   "metadata": {},
   "outputs": [
    {
     "name": "stdout",
     "output_type": "stream",
     "text": [
      "BartlettResult(statistic=1.40217443015265, pvalue=0.23635983922962633)\n",
      "LeveneResult(statistic=0.6391259815636738, pvalue=0.4312710035181735)\n"
     ]
    }
   ],
   "source": [
    "mydata4 = [15,19,12,14,17,17,21,23,11,19,18,11,13,18]\n",
    "mydata5 = [11,14,17,19,13,22,27,28,16,18,11,14,18,18]\n",
    "# Bartlett test\n",
    "print(stats.bartlett(mydata4,mydata5))\n",
    "print(stats.levene(mydata4,mydata5))"
   ]
  },
  {
   "cell_type": "markdown",
   "id": "5d8305af",
   "metadata": {},
   "source": [
    "## Correlation Coefficient\n",
    "\n",
    "### Determining Spearman correlation coefficient\n",
    "Null Hypothesis: There is no correlation between two groups\n"
   ]
  },
  {
   "cell_type": "code",
   "execution_count": 17,
   "id": "24fd8d2b",
   "metadata": {},
   "outputs": [
    {
     "data": {
      "text/plain": [
       "SignificanceResult(statistic=0.3633342304559976, pvalue=0.201633766201691)"
      ]
     },
     "execution_count": 17,
     "metadata": {},
     "output_type": "execute_result"
    }
   ],
   "source": [
    "stats.spearmanr(mydata4,mydata5)"
   ]
  },
  {
   "cell_type": "markdown",
   "id": "2a001aef",
   "metadata": {},
   "source": [
    "p value means that there is no significant correlation between the groups"
   ]
  },
  {
   "cell_type": "markdown",
   "id": "d8c23975",
   "metadata": {},
   "source": [
    "### Determining Pearson correlation coefficient\n",
    "Null Hypothesis: There is no correlation between two groups\n"
   ]
  },
  {
   "cell_type": "code",
   "execution_count": 18,
   "id": "7f878fe3",
   "metadata": {},
   "outputs": [
    {
     "data": {
      "text/plain": [
       "PearsonRResult(statistic=0.5076714611348472, pvalue=0.06385187280931964)"
      ]
     },
     "execution_count": 18,
     "metadata": {},
     "output_type": "execute_result"
    }
   ],
   "source": [
    "stats.pearsonr(mydata4,mydata5)"
   ]
  },
  {
   "cell_type": "markdown",
   "id": "f4ee70bb",
   "metadata": {},
   "source": [
    "p value means that there is no significant correlation between the groups"
   ]
  },
  {
   "cell_type": "markdown",
   "id": "18dd6b1e",
   "metadata": {},
   "source": [
    "### Chi-Square Test\n",
    "It is a statistical method to dertermine if two variables in a table have a significant correlation between them. \n",
    "#### Null Hypothesis: The two groups are independent\n"
   ]
  },
  {
   "cell_type": "code",
   "execution_count": 19,
   "id": "b84a9398",
   "metadata": {},
   "outputs": [
    {
     "name": "stdout",
     "output_type": "stream",
     "text": [
      "228\n",
      "246\n"
     ]
    }
   ],
   "source": [
    "# to apply this the sum of mydata4 and mydata5 must be same. Lets check that\n",
    "sum_mydata4 =sum(mydata4)\n",
    "sum_mydata5 = sum(mydata5)\n",
    "print(sum(mydata4))\n",
    "print(sum(mydata5))"
   ]
  },
  {
   "cell_type": "code",
   "execution_count": 20,
   "id": "c78c6366",
   "metadata": {},
   "outputs": [
    {
     "data": {
      "text/plain": [
       "Power_divergenceResult(statistic=19.878436400201107, pvalue=0.09828314835390596)"
      ]
     },
     "execution_count": 20,
     "metadata": {},
     "output_type": "execute_result"
    }
   ],
   "source": [
    "# the sums are different. We can normalize the mydata5 so that it matches with 228\n",
    "# Normalizing mydata5 to match the sum of mydata4\n",
    "normalized_mydata5 = [round(value * sum_mydata4 / sum_mydata5) for value in mydata5]\n",
    "\n",
    "# Verifying the sum of the normalized data\n",
    "sum_normalized_mydata5 = sum(normalized_mydata5)\n",
    "\n",
    "# Adjusting one of the values in normalized_mydata5 to ensure the sums match exactly\n",
    "difference = sum_mydata4 - sum_normalized_mydata5\n",
    "normalized_mydata5[-1] += difference  # Adjusting the last value of the list\n",
    "\n",
    "# Verifying the sum of the adjusted data\n",
    "sum_normalized_mydata5_adjusted = sum(normalized_mydata5)\n",
    "\n",
    "stats.chisquare(mydata4,normalized_mydata5)"
   ]
  },
  {
   "cell_type": "markdown",
   "id": "733655d7",
   "metadata": {},
   "source": [
    "p-value is more than 0.05, so the two groups are independent"
   ]
  },
  {
   "cell_type": "markdown",
   "id": "4ea00ad2",
   "metadata": {},
   "source": [
    "### Parameteric Techniques for comparing means\n",
    "t-test: for 2 samples\n",
    "ANOVA: for more than two samples\n",
    "\n",
    "Three assumptions to be fulfilled before applying t-test or ANOVA\n",
    "a. Normally distributed\n",
    "b. Independent Samples\n",
    "c .Homogenity of Variances\n",
    "\n",
    "While comparing Means of differnt groups we frame hypothesis in which the dependent variable is continuous and independent variable is categorical in nature. eg. in determining the effect of gender on job satisfaction, gender(categorical variable) will be considered as indendent variable and job satisfaction will be considered as dependent variable"
   ]
  },
  {
   "cell_type": "code",
   "execution_count": 21,
   "id": "ddd816c2",
   "metadata": {},
   "outputs": [
    {
     "data": {
      "text/html": [
       "<div>\n",
       "<style scoped>\n",
       "    .dataframe tbody tr th:only-of-type {\n",
       "        vertical-align: middle;\n",
       "    }\n",
       "\n",
       "    .dataframe tbody tr th {\n",
       "        vertical-align: top;\n",
       "    }\n",
       "\n",
       "    .dataframe thead th {\n",
       "        text-align: right;\n",
       "    }\n",
       "</style>\n",
       "<table border=\"1\" class=\"dataframe\">\n",
       "  <thead>\n",
       "    <tr style=\"text-align: right;\">\n",
       "      <th></th>\n",
       "      <th>model</th>\n",
       "      <th>mpg</th>\n",
       "      <th>cyl</th>\n",
       "      <th>disp</th>\n",
       "      <th>hp</th>\n",
       "      <th>drat</th>\n",
       "      <th>wt</th>\n",
       "      <th>qsec</th>\n",
       "      <th>vs</th>\n",
       "      <th>am</th>\n",
       "      <th>gear</th>\n",
       "      <th>carb</th>\n",
       "    </tr>\n",
       "  </thead>\n",
       "  <tbody>\n",
       "    <tr>\n",
       "      <th>0</th>\n",
       "      <td>Mazda RX4</td>\n",
       "      <td>21.0</td>\n",
       "      <td>6</td>\n",
       "      <td>160.0</td>\n",
       "      <td>110</td>\n",
       "      <td>3.90</td>\n",
       "      <td>2.620</td>\n",
       "      <td>16.46</td>\n",
       "      <td>0</td>\n",
       "      <td>1</td>\n",
       "      <td>4</td>\n",
       "      <td>4</td>\n",
       "    </tr>\n",
       "    <tr>\n",
       "      <th>1</th>\n",
       "      <td>Mazda RX4 Wag</td>\n",
       "      <td>21.0</td>\n",
       "      <td>6</td>\n",
       "      <td>160.0</td>\n",
       "      <td>110</td>\n",
       "      <td>3.90</td>\n",
       "      <td>2.875</td>\n",
       "      <td>17.02</td>\n",
       "      <td>0</td>\n",
       "      <td>1</td>\n",
       "      <td>4</td>\n",
       "      <td>4</td>\n",
       "    </tr>\n",
       "    <tr>\n",
       "      <th>2</th>\n",
       "      <td>Datsun 710</td>\n",
       "      <td>22.8</td>\n",
       "      <td>4</td>\n",
       "      <td>108.0</td>\n",
       "      <td>93</td>\n",
       "      <td>3.85</td>\n",
       "      <td>2.320</td>\n",
       "      <td>18.61</td>\n",
       "      <td>1</td>\n",
       "      <td>1</td>\n",
       "      <td>4</td>\n",
       "      <td>1</td>\n",
       "    </tr>\n",
       "    <tr>\n",
       "      <th>3</th>\n",
       "      <td>Hornet 4 Drive</td>\n",
       "      <td>21.4</td>\n",
       "      <td>6</td>\n",
       "      <td>258.0</td>\n",
       "      <td>110</td>\n",
       "      <td>3.08</td>\n",
       "      <td>3.215</td>\n",
       "      <td>19.44</td>\n",
       "      <td>1</td>\n",
       "      <td>0</td>\n",
       "      <td>3</td>\n",
       "      <td>1</td>\n",
       "    </tr>\n",
       "    <tr>\n",
       "      <th>4</th>\n",
       "      <td>Hornet Sportabout</td>\n",
       "      <td>18.7</td>\n",
       "      <td>8</td>\n",
       "      <td>360.0</td>\n",
       "      <td>175</td>\n",
       "      <td>3.15</td>\n",
       "      <td>3.440</td>\n",
       "      <td>17.02</td>\n",
       "      <td>0</td>\n",
       "      <td>0</td>\n",
       "      <td>3</td>\n",
       "      <td>2</td>\n",
       "    </tr>\n",
       "  </tbody>\n",
       "</table>\n",
       "</div>"
      ],
      "text/plain": [
       "               model   mpg  cyl   disp   hp  drat     wt   qsec  vs  am  gear  \\\n",
       "0          Mazda RX4  21.0    6  160.0  110  3.90  2.620  16.46   0   1     4   \n",
       "1      Mazda RX4 Wag  21.0    6  160.0  110  3.90  2.875  17.02   0   1     4   \n",
       "2         Datsun 710  22.8    4  108.0   93  3.85  2.320  18.61   1   1     4   \n",
       "3     Hornet 4 Drive  21.4    6  258.0  110  3.08  3.215  19.44   1   0     3   \n",
       "4  Hornet Sportabout  18.7    8  360.0  175  3.15  3.440  17.02   0   0     3   \n",
       "\n",
       "   carb  \n",
       "0     4  \n",
       "1     4  \n",
       "2     1  \n",
       "3     1  \n",
       "4     2  "
      ]
     },
     "execution_count": 21,
     "metadata": {},
     "output_type": "execute_result"
    }
   ],
   "source": [
    "mtcars = pd.read_csv('mtcars.csv',sep=',',na_values=\".\")\n",
    "mtcars.head()"
   ]
  },
  {
   "cell_type": "code",
   "execution_count": 22,
   "id": "30e3eb60",
   "metadata": {},
   "outputs": [
    {
     "data": {
      "text/plain": [
       "(32, 12)"
      ]
     },
     "execution_count": 22,
     "metadata": {},
     "output_type": "execute_result"
    }
   ],
   "source": [
    "mtcars.shape"
   ]
  },
  {
   "cell_type": "code",
   "execution_count": 23,
   "id": "bd998492",
   "metadata": {},
   "outputs": [
    {
     "data": {
      "text/plain": [
       "Index(['model', 'mpg', 'cyl', 'disp', 'hp', 'drat', 'wt', 'qsec', 'vs', 'am',\n",
       "       'gear', 'carb'],\n",
       "      dtype='object')"
      ]
     },
     "execution_count": 23,
     "metadata": {},
     "output_type": "execute_result"
    }
   ],
   "source": [
    "mtcars.columns"
   ]
  },
  {
   "cell_type": "markdown",
   "id": "987ed5e0",
   "metadata": {},
   "source": [
    "### One Sample t-test\n",
    "\n",
    "This test compares the sample mean of one group with a standard value. Since only one sample is involved, hence for this test there is a need to fulfil only the normality assumption\n",
    "\n",
    "syntax: stats.ttest_1samp(sample,val)\n",
    "\n",
    "Sample is the continuous variable diplaying the set of observations\n",
    "val represents the value which we want to compare the sample mean\n",
    "\n",
    "#### One sample test on User's Data\n",
    "\n",
    "Example, the pharmaceutical company desired that to check the whether the report of the cheimical deviate from the standard varlue of 3. Bsed on 30 different observations generated, we will check whether or not the chemical devaiates significantly from the expected value of 3. But before we apply one-sample t-test, it is necessary to fulfil the assumption of normality. "
   ]
  },
  {
   "cell_type": "code",
   "execution_count": 24,
   "id": "916fd443",
   "metadata": {},
   "outputs": [
    {
     "name": "stdout",
     "output_type": "stream",
     "text": [
      "Sample Size: 30\n",
      "Skewness: 0.6131524814522338\n",
      "Kurtosis: -0.6495231070672487\n",
      "Normality Function: p value >0.05 for normality: NormaltestResult(statistic=2.735896790927154, pvalue=0.2546288216880709)\n"
     ]
    },
    {
     "data": {
      "image/png": "[encoded data removed]",
      "text/plain": [
       "<Figure size 640x480 with 1 Axes>"
      ]
     },
     "metadata": {},
     "output_type": "display_data"
    }
   ],
   "source": [
    "# Creating a sample\n",
    "report = np.array([3.7,3.6,3.9,3.2,3.6,3.0,3.0,2.8,2.8,2.9,2.9,3.2,3.3,3.4,3.3,3.2,3.9,3.2,3.0,3.7,\n",
    "                  2.9,3.0,3.5,3.3,3.3,2.8,3.0,3.1,2.9,2.8])\n",
    "print('Sample Size:',len(report))\n",
    "# checking Normality\n",
    "print(\"Skewness:\",stats.skew(report))\n",
    "print(\"Kurtosis:\",stats.kurtosis(report))\n",
    "print(\"Normality Function: p value >0.05 for normality:\",stats.mstats.normaltest(report))\n",
    "# plotting probability plot\n",
    "stats.probplot(report,fit=True,plot=plt)\n",
    "plt.show()"
   ]
  },
  {
   "cell_type": "markdown",
   "id": "a488c7dc",
   "metadata": {},
   "source": [
    "Data is Normal"
   ]
  },
  {
   "cell_type": "code",
   "execution_count": 25,
   "id": "d8148cf5",
   "metadata": {},
   "outputs": [
    {
     "data": {
      "text/plain": [
       "TtestResult(statistic=3.4190666531267673, pvalue=0.0018844344706902736, df=29)"
      ]
     },
     "execution_count": 25,
     "metadata": {},
     "output_type": "execute_result"
    }
   ],
   "source": [
    "# applying 1 sample test\n",
    "# Null hypothesis: No significant difference in the report and value 3\n",
    "stats.ttest_1samp(report,3)"
   ]
  },
  {
   "cell_type": "markdown",
   "id": "c97e902e",
   "metadata": {},
   "source": [
    "There is a significant difference\n",
    "\n",
    "### Applying t-test on existing data mtcars\n",
    "\n",
    "We consider the \"disp\" variable which corresponds to the displacement in mtcars dataset. We think the displacement is 160"
   ]
  },
  {
   "cell_type": "code",
   "execution_count": 26,
   "id": "d95f60e0",
   "metadata": {},
   "outputs": [
    {
     "name": "stdout",
     "output_type": "stream",
     "text": [
      "Skewness (-1 to +1 for Normal): 0.40027244847286664\n",
      "Kurtosis: (-1 to +1 for Normal) -1.0896826570135087\n",
      "Normality Function: p value >0.05 for normality: NormaltestResult(statistic=5.000392776591721, pvalue=0.08206887967374173)\n"
     ]
    },
    {
     "data": {
      "image/png": "[encoded data removed]",
      "text/plain": [
       "<Figure size 640x480 with 1 Axes>"
      ]
     },
     "metadata": {},
     "output_type": "display_data"
    }
   ],
   "source": [
    "# checking Normality\n",
    "print(\"Skewness (-1 to +1 for Normal):\",stats.skew(mtcars[\"disp\"]))\n",
    "print(\"Kurtosis: (-1 to +1 for Normal)\",stats.kurtosis(mtcars[\"disp\"]))\n",
    "print(\"Normality Function: p value >0.05 for normality:\",stats.mstats.normaltest(mtcars[\"disp\"]))\n",
    "# plotting probability plot\n",
    "stats.probplot(mtcars[\"disp\"],fit=True,plot=plt)\n",
    "plt.show()"
   ]
  },
  {
   "cell_type": "markdown",
   "id": "ff830eee",
   "metadata": {},
   "source": [
    "Data Seems Normal"
   ]
  },
  {
   "cell_type": "code",
   "execution_count": 27,
   "id": "a9a2d447",
   "metadata": {},
   "outputs": [
    {
     "data": {
      "text/plain": [
       "TtestResult(statistic=3.2279131460761015, pvalue=0.0029430502062477958, df=31)"
      ]
     },
     "execution_count": 27,
     "metadata": {},
     "output_type": "execute_result"
    }
   ],
   "source": [
    "# applying 1 sample test\n",
    "# Null hypothesis: No significant difference in the report and value 160\n",
    "stats.ttest_1samp(mtcars[\"disp\"],160)"
   ]
  },
  {
   "cell_type": "markdown",
   "id": "b36ee39c",
   "metadata": {},
   "source": [
    "P value is less than 0.05, so there is a significant difference"
   ]
  },
  {
   "cell_type": "markdown",
   "id": "f67ca069",
   "metadata": {},
   "source": [
    "### Independent Sample t-test\n",
    "The t-test helps in comparing the population means of only two groups, and hus helps in examining whether the population means of two samples greatly differ from each another. \n",
    "\n",
    "Syntex: stats.ttest_ind(sample_a,sample_b,equal_var=)\n",
    "\n",
    "sample_a and sample_b are two independent samples\n",
    "equal_var has a Boolean value representing the variance for the two groups. Default value is True\n",
    "\n",
    "#### Applying t-test on User's Data\n",
    "\n",
    "We create our own dataset for perception related to online shopping for young and old groups and apply independent sample t-test on both the groups after checking the assumptions"
   ]
  },
  {
   "cell_type": "code",
   "execution_count": 28,
   "id": "8d175640",
   "metadata": {},
   "outputs": [
    {
     "name": "stdout",
     "output_type": "stream",
     "text": [
      "size-Senior: 25\n",
      "size-junior: 30\n"
     ]
    }
   ],
   "source": [
    "# Storing the perception of two groups senior and junior\n",
    "senior = [192,187,195,194,191,193,195,187,188,191,192,197,191,187,195,186,188,191,192,197,\n",
    "         193,190,191,194,193]\n",
    "junior = [101,107,98,99,104,99,106,105,101,105,103,96,95,104,91,106,103,104,101,103,99,99,104,\n",
    "         99,106,101,106,102,103,104]\n",
    "\n",
    "print(\"size-Senior:\",len(senior))\n",
    "print(\"size-junior:\",len(junior))"
   ]
  },
  {
   "cell_type": "code",
   "execution_count": 29,
   "id": "370a4588",
   "metadata": {},
   "outputs": [
    {
     "name": "stdout",
     "output_type": "stream",
     "text": [
      "skew: Senior(Between 1 and -1 for normality): -0.1340504464760123\n",
      "Kurtosis:Senior(Between 1 and -1 for normality): -0.8233266302786566\n",
      "skew: Junior(Between 1 and -1 for normality): -0.9374069158238724\n",
      "Kurtosis:Junior(Between 1 and -1 for normality): 0.6796048621320185\n"
     ]
    },
    {
     "data": {
      "image/png": "[encoded data removed]",
      "text/plain": [
       "<Figure size 640x480 with 2 Axes>"
      ]
     },
     "metadata": {},
     "output_type": "display_data"
    },
    {
     "name": "stdout",
     "output_type": "stream",
     "text": [
      "Levene test: p value to be >0.05 for Homogenity LeveneResult(statistic=0.38087140794162133, pvalue=0.5397796466241933)\n",
      "Bartlett test: p value to be >0.05 for Homogenity BartlettResult(statistic=0.7351344117107318, pvalue=0.3912239715112361)\n"
     ]
    }
   ],
   "source": [
    "# Determining Normality of the data\n",
    "print(\"skew: Senior(Between 1 and -1 for normality):\",stats.skew(senior))\n",
    "print(\"Kurtosis:Senior(Between 1 and -1 for normality):\",stats.kurtosis(senior))\n",
    "print(\"skew: Junior(Between 1 and -1 for normality):\",stats.skew(junior))\n",
    "print(\"Kurtosis:Junior(Between 1 and -1 for normality):\",stats.kurtosis(junior))\n",
    "\n",
    "# Dispalying the normality graphically\n",
    "plt.subplot(121) # graph in the 1st quadrant\n",
    "stats.probplot(senior,fit=True,plot=plt)\n",
    "plt.subplot(122) # graph in the 2nd quadrant\n",
    "stats.probplot(junior,fit=True,plot=plt)\n",
    "plt.show()\n",
    "\n",
    "# Determine the Homogenity of variances for both the samples\n",
    "print(\"Levene test: p value to be >0.05 for Homogenity\",stats.levene(senior,junior))\n",
    "print(\"Bartlett test: p value to be >0.05 for Homogenity\",stats.bartlett(senior,junior))"
   ]
  },
  {
   "cell_type": "markdown",
   "id": "b44406b9",
   "metadata": {},
   "source": [
    "Data seems normal"
   ]
  },
  {
   "cell_type": "code",
   "execution_count": 30,
   "id": "18f6f32a",
   "metadata": {},
   "outputs": [
    {
     "data": {
      "text/plain": [
       "Ttest_indResult(statistic=95.66697264518015, pvalue=4.8465172344723005e-61)"
      ]
     },
     "execution_count": 30,
     "metadata": {},
     "output_type": "execute_result"
    }
   ],
   "source": [
    "## t-test for independent samples\n",
    "stats.ttest_ind(senior,junior)"
   ]
  },
  {
   "cell_type": "markdown",
   "id": "de5f4c0e",
   "metadata": {},
   "source": [
    "As the p value is less than 0.05 so null hypothesis is rejected. So there is a true difference in the means. So it means that there is a significant difference in the perception of senior and junior groups. \n",
    "### Independent sample test on an existing dataset\n",
    "In this example we first take \"mpg\" check for normality then split it into two parts v shape and straight shape and test for homogenity in the two groups and apply independent sample test for difference in mpg given these shapes"
   ]
  },
  {
   "cell_type": "code",
   "execution_count": 31,
   "id": "294700fa",
   "metadata": {},
   "outputs": [
    {
     "name": "stdout",
     "output_type": "stream",
     "text": [
      "Skewness (-1 to +1 for Normal): 0.6404398640318834\n",
      "Kurtosis: (-1 to +1 for Normal) -0.20053320971549793\n",
      "Normality Function: p value >0.05 for normality: NormaltestResult(statistic=2.714135080337956, pvalue=0.25741452900583284)\n"
     ]
    },
    {
     "data": {
      "image/png": "[encoded data removed]",
      "text/plain": [
       "<Figure size 640x480 with 1 Axes>"
      ]
     },
     "metadata": {},
     "output_type": "display_data"
    }
   ],
   "source": [
    "# checking Normality\n",
    "print(\"Skewness (-1 to +1 for Normal):\",stats.skew(mtcars[\"mpg\"]))\n",
    "print(\"Kurtosis: (-1 to +1 for Normal)\",stats.kurtosis(mtcars[\"mpg\"]))\n",
    "print(\"Normality Function: p value >0.05 for normality:\",stats.mstats.normaltest(mtcars[\"mpg\"]))\n",
    "# plotting probability plot\n",
    "stats.probplot(mtcars[\"mpg\"],fit=True,plot=plt)\n",
    "plt.show()"
   ]
  },
  {
   "cell_type": "markdown",
   "id": "8e9f71d0",
   "metadata": {},
   "source": [
    "Data Seems Normal"
   ]
  },
  {
   "cell_type": "code",
   "execution_count": 32,
   "id": "f7eda63c",
   "metadata": {},
   "outputs": [
    {
     "name": "stdout",
     "output_type": "stream",
     "text": [
      "Levene test: p value to be >0.05 for Homogenity LeveneResult(statistic=1.5922160724616752, pvalue=0.21673257532557122)\n",
      "Bartlett test: p value to be >0.05 for Homogenity BartlettResult(statistic=1.5848658640382187, pvalue=0.20806119496717373)\n"
     ]
    }
   ],
   "source": [
    "# Creating two groups for vshape and straight\n",
    "vshape_mpg = mtcars[mtcars['vs']==0]['mpg']\n",
    "straight_mpg = mtcars[mtcars['vs']==1]['mpg']\n",
    "\n",
    "# Determining homogenity of variances\n",
    "print(\"Levene test: p value to be >0.05 for Homogenity\",stats.levene(vshape_mpg,straight_mpg))\n",
    "print(\"Bartlett test: p value to be >0.05 for Homogenity\",stats.bartlett(vshape_mpg,straight_mpg))"
   ]
  },
  {
   "cell_type": "markdown",
   "id": "80e77c1a",
   "metadata": {},
   "source": [
    "Variances seems to homogeneous in both the samples"
   ]
  },
  {
   "cell_type": "code",
   "execution_count": 33,
   "id": "5be12564",
   "metadata": {},
   "outputs": [
    {
     "data": {
      "text/plain": [
       "Ttest_indResult(statistic=-4.864384956122782, pvalue=3.415937254419951e-05)"
      ]
     },
     "execution_count": 33,
     "metadata": {},
     "output_type": "execute_result"
    }
   ],
   "source": [
    "# applying ttest of independent samples\n",
    "# Null Hypothesis: There is no significant difference between the two shapes\n",
    "stats.ttest_ind(vshape_mpg,straight_mpg)"
   ]
  },
  {
   "cell_type": "markdown",
   "id": "f4e33823",
   "metadata": {},
   "source": [
    "\n",
    "There is a significant difference between the two shapes, looking at the p value\n",
    "\n",
    "### Homogeneity of Variance- Condition Not fulfilled\n",
    "\n",
    "Whether there is  a significant difference between automatic and manual transmission wrt mpg. Here mpg is a continuous variable and hence considered as dependent variable"
   ]
  },
  {
   "cell_type": "code",
   "execution_count": 34,
   "id": "d1bcd9c6",
   "metadata": {},
   "outputs": [],
   "source": [
    "# program for t-test when homogenity assumption is not fulfilled\n",
    "from scipy import stats\n",
    "mtcars = pd.read_csv('mtcars.csv',sep=',',na_values=\".\")"
   ]
  },
  {
   "cell_type": "code",
   "execution_count": 35,
   "id": "a8593bde",
   "metadata": {},
   "outputs": [],
   "source": [
    "# Creating Datasets for transmission related to mpg\n",
    "auto_mpg = mtcars[mtcars['am']==0]['mpg']\n",
    "manual_mpg = mtcars[mtcars['am']==1]['mpg']"
   ]
  },
  {
   "cell_type": "code",
   "execution_count": 36,
   "id": "ca8825be",
   "metadata": {},
   "outputs": [
    {
     "name": "stdout",
     "output_type": "stream",
     "text": [
      "Mean of automatic transmission group: 17.147368421052633\n",
      "Mean of manual transmission group: 24.39230769230769\n"
     ]
    }
   ],
   "source": [
    "# displaying the mens of two groups\n",
    "print(f\"Mean of automatic transmission group: {auto_mpg.mean()}\")\n",
    "print(f\"Mean of manual transmission group: {manual_mpg.mean()}\")"
   ]
  },
  {
   "cell_type": "code",
   "execution_count": 37,
   "id": "7d325ff1",
   "metadata": {},
   "outputs": [
    {
     "name": "stdout",
     "output_type": "stream",
     "text": [
      "Levene test: p value to be >0.05 for Homogenity LeveneResult(statistic=4.1876255537753995, pvalue=0.04957067404156203)\n",
      "Bartlett test: p value to be >0.05 for Homogenity BartlettResult(statistic=3.2258823148923645, pvalue=0.07248272665325972)\n"
     ]
    }
   ],
   "source": [
    "# Determine the Homogenity of variances for both the samples\n",
    "print(\"Levene test: p value to be >0.05 for Homogenity\",stats.levene(auto_mpg,manual_mpg))\n",
    "print(\"Bartlett test: p value to be >0.05 for Homogenity\",stats.bartlett(auto_mpg,manual_mpg))"
   ]
  },
  {
   "cell_type": "markdown",
   "id": "d6fe968c",
   "metadata": {},
   "source": [
    "The homogenity of variance is not met as compared to Levene test, which is morr reliable\n",
    "Applying independent Sample t-test with unequal variances\n",
    "#### Null Hypthesis: There is no significant difference between automatic and manual\n"
   ]
  },
  {
   "cell_type": "code",
   "execution_count": 38,
   "id": "f36f1e82",
   "metadata": {},
   "outputs": [
    {
     "name": "stdout",
     "output_type": "stream",
     "text": [
      "Result:  Ttest_indResult(statistic=-3.767123145144923, pvalue=0.0013736383330710345)\n"
     ]
    }
   ],
   "source": [
    "print(\"Result: \",stats.ttest_ind(auto_mpg,manual_mpg,equal_var=False))"
   ]
  },
  {
   "cell_type": "markdown",
   "id": "8fe6e63a",
   "metadata": {},
   "source": [
    "So there is a signficant difference"
   ]
  },
  {
   "cell_type": "markdown",
   "id": "d8ad817c",
   "metadata": {},
   "source": [
    "## Dependent t-Test\n",
    "\n",
    "Paired t-test is used for dependent samples.If we collect two measuremnts on each item, person or experimental unit, then each pair of observation is closely related or matched.In this type of scenario, we apply a paired-t test. \n",
    "\n",
    "Syntax: \n",
    "stats.ttest_rel(sample_a,sample_b)\n",
    "where sample_a and sample_b are two dependent samples\n",
    "\n",
    "In the following example, we need to determine the effect of treatment on patients. This leads to a set of paired observations(scores before and after each treatment) for each patient"
   ]
  },
  {
   "cell_type": "code",
   "execution_count": 39,
   "id": "02ae5d27",
   "metadata": {},
   "outputs": [],
   "source": [
    "# Create two arrays pretreat and posttreat\n",
    "pretreat = [287,277,252,245,265,287,242,250,252,258,259,212,213,205,207]\n",
    "posttreat = [286,277,251,246,266,288,242,252,256,253,257,212,216,206,208]"
   ]
  },
  {
   "cell_type": "code",
   "execution_count": 40,
   "id": "90c05d6f",
   "metadata": {},
   "outputs": [
    {
     "name": "stdout",
     "output_type": "stream",
     "text": [
      "Result of test is: \n",
      " TtestResult(statistic=-0.606976978666884, pvalue=0.5535832579206403, df=14)\n"
     ]
    }
   ],
   "source": [
    "# Applying paired t-test for parameteric data.\n",
    "# Null hypothesis: There is no sifnificant difference between the two scores (before and after treatment)\n",
    "\n",
    "print(\"Result of test is: \\n\",stats.ttest_rel(pretreat,posttreat))"
   ]
  },
  {
   "cell_type": "markdown",
   "id": "3e236f6a",
   "metadata": {},
   "source": [
    "Failed to reject the null hypothesis- No significant difference between the two treatments"
   ]
  },
  {
   "cell_type": "markdown",
   "id": "c13c6f16",
   "metadata": {},
   "source": [
    "## One Way ANOVA\n",
    "\n",
    "One way ANOVA is used when a comparison is to be made between more than two populations means. \n",
    "\n",
    "In ANOVA the total amount of variation in a dataset is split into two types, that is, the amount allocated to chance and the amount assigned to particular causes.\n",
    "\n",
    "Its basis principle is to test the variances among population means by assessing the amount of variation within group items, proportionate to the amount of variation between groups.\n",
    "\n",
    "With the use of this technnique, we test null hypothesis(H0) wherein all population means are the same, or alternative hypothesis(H1) wherein at least one population mean is different\n",
    "\n",
    "### Applying ANOVA test on the user's data"
   ]
  },
  {
   "cell_type": "code",
   "execution_count": 41,
   "id": "315dce99",
   "metadata": {},
   "outputs": [
    {
     "data": {
      "text/plain": [
       "[16, 15, 16]"
      ]
     },
     "execution_count": 41,
     "metadata": {},
     "output_type": "execute_result"
    }
   ],
   "source": [
    "# Perception of people belonging to three different income groups.\n",
    "low = [4.0,4.5,5.0,4.9,4.1,3.5,3.7,2.1,2.7,3.2,2.4,3.6,3.6,3,3.1,3.5]\n",
    "middle = [4.0,4.5,5.0,4.9,3.2,2.4,3.6,3.6,3.0,3.1,3.5,3.2,3.7,3.8,3.5]\n",
    "High = [3.7,2.1,2.7,3.2,2.4,3.6,3.6,3.0,3.1,3.5,3.2,3.7,3.8,3.5,3.6,3.8]\n",
    "[len(x) for x in[low,middle,High]]"
   ]
  },
  {
   "cell_type": "code",
   "execution_count": 42,
   "id": "39c09647",
   "metadata": {},
   "outputs": [
    {
     "data": {
      "text/plain": [
       "[0.11808551658763525, 0.4483461182549051, -1.0363243782008256]"
      ]
     },
     "execution_count": 42,
     "metadata": {},
     "output_type": "execute_result"
    }
   ],
   "source": [
    "# Determining the Normality of the data\n",
    "[stats.skew(x) for x in [low,middle,High]]"
   ]
  },
  {
   "cell_type": "markdown",
   "id": "a386ecbd",
   "metadata": {},
   "source": [
    "Normal data -1 to +1. The data seems to be normal"
   ]
  },
  {
   "cell_type": "code",
   "execution_count": 43,
   "id": "f1e18fee",
   "metadata": {},
   "outputs": [
    {
     "data": {
      "text/plain": [
       "[-0.5873383735027673, -0.2578882607340418, 0.026932843360271796]"
      ]
     },
     "execution_count": 43,
     "metadata": {},
     "output_type": "execute_result"
    }
   ],
   "source": [
    "# Determining the Normality of the data\n",
    "[stats.kurtosis(x) for x in [low,middle,High]]"
   ]
  },
  {
   "cell_type": "markdown",
   "id": "f28462ca",
   "metadata": {},
   "source": [
    "Kurtosis for Normal data should be -1 to +1. The data seems to be normal"
   ]
  },
  {
   "cell_type": "code",
   "execution_count": 44,
   "id": "884f69c5",
   "metadata": {},
   "outputs": [
    {
     "data": {
      "text/plain": [
       "F_onewayResult(statistic=1.287903238368855, pvalue=0.2860424199410573)"
      ]
     },
     "execution_count": 44,
     "metadata": {},
     "output_type": "execute_result"
    }
   ],
   "source": [
    "# Applying one way ANOVA\n",
    "stats.f_oneway(low,middle,High)"
   ]
  },
  {
   "cell_type": "markdown",
   "id": "3065a81d",
   "metadata": {},
   "source": [
    "p-value is more than 0.05, so failed to reject the null hypothesis, there is no significant difference between two different income groups"
   ]
  },
  {
   "cell_type": "markdown",
   "id": "9e9f651f",
   "metadata": {},
   "source": [
    "An ANOVA test can give result saying that some of the group means are different. But we do not know which pairs of groups are different.\n",
    "\n",
    "It is possible to perform multiple pairwise comparisons. \n",
    "\n",
    "We can apply Tukey HSD ( TukeyHonest Significant Differences) for performaing multiple pairwise comparisons between the means of groups from the statsmodel.stats package\n",
    "\n",
    "Syntax: pairwise_tukeyhsd(endog=,groups=,alpha=)\n",
    "\n",
    "endog- has the continous dependent variable\n",
    "\n",
    "groups has the categorical independent variable\n",
    "\n",
    "alpha represent desired level of significance"
   ]
  },
  {
   "cell_type": "code",
   "execution_count": 45,
   "id": "e0f1b11f",
   "metadata": {},
   "outputs": [
    {
     "data": {
      "text/plain": [
       "F_onewayResult(statistic=36.17687319884725, pvalue=1.3185414187614477e-08)"
      ]
     },
     "execution_count": 45,
     "metadata": {},
     "output_type": "execute_result"
    }
   ],
   "source": [
    "from statsmodels.stats.multicomp import pairwise_tukeyhsd\n",
    "\n",
    "# Applying ANOVA test on Horse Power according to the number of cylinders\n",
    "\n",
    "Four_hp = mtcars[mtcars['cyl']==4]['hp']\n",
    "Six_hp  = mtcars[mtcars['cyl']==6]['hp']\n",
    "Eight_hp = mtcars[mtcars['cyl']==8]['hp']\n",
    "\n",
    "stats.f_oneway(Four_hp,Six_hp,Eight_hp)"
   ]
  },
  {
   "cell_type": "markdown",
   "id": "c3eddc52",
   "metadata": {},
   "source": [
    "As p value is less than 0.05, so there is a significant difference in the milage with  different horse power"
   ]
  },
  {
   "cell_type": "code",
   "execution_count": 46,
   "id": "fca1c09b",
   "metadata": {},
   "outputs": [
    {
     "data": {
      "text/html": [
       "<table class=\"simpletable\">\n",
       "<caption>Multiple Comparison of Means - Tukey HSD, FWER=0.05</caption>\n",
       "<tr>\n",
       "  <th>group1</th> <th>group2</th> <th>meandiff</th>  <th>p-adj</th>  <th>lower</th>    <th>upper</th>  <th>reject</th>\n",
       "</tr>\n",
       "<tr>\n",
       "     <td>4</td>      <td>6</td>    <td>39.6494</td> <td>0.0949</td> <td>-5.6275</td>  <td>84.9262</td>  <td>False</td>\n",
       "</tr>\n",
       "<tr>\n",
       "     <td>4</td>      <td>8</td>   <td>126.5779</td>   <td>0.0</td>  <td>88.8473</td> <td>164.3086</td>  <td>True</td> \n",
       "</tr>\n",
       "<tr>\n",
       "     <td>6</td>      <td>8</td>    <td>86.9286</td> <td>0.0001</td> <td>43.5793</td> <td>130.2778</td>  <td>True</td> \n",
       "</tr>\n",
       "</table>"
      ],
      "text/plain": [
       "<class 'statsmodels.iolib.table.SimpleTable'>"
      ]
     },
     "execution_count": 46,
     "metadata": {},
     "output_type": "execute_result"
    }
   ],
   "source": [
    "# Applying TUKEY test on Horse Power According to the number of cylinders\n",
    "tukey = pairwise_tukeyhsd(endog=mtcars['hp'],groups=mtcars['cyl'],alpha=0.05)\n",
    "tukey.summary()"
   ]
  },
  {
   "cell_type": "markdown",
   "id": "128117ed",
   "metadata": {},
   "source": [
    "So there is no significance difference in the horse power between 4 and 6 cylinders"
   ]
  },
  {
   "cell_type": "markdown",
   "id": "c766260b",
   "metadata": {},
   "source": [
    "# Non Parameteric Techniques for Comparing Means"
   ]
  },
  {
   "cell_type": "markdown",
   "id": "e1474992",
   "metadata": {},
   "source": [
    "If the data is not normal, then non parametric techniques are generally used for comparing the means. However, non-parameteric techniques are considered to be less effective in comparison to parameteric Techniques.\n",
    "\n",
    "## Komogorov-Smirnov Test: Comparing the two distributionsTest for one sample\n",
    "\n",
    "Syntax: ks.scipy.stats.kstest(a,dist) where\n",
    "\n",
    "a is the distribution\n",
    "\n",
    "dist indicates the name of the distribution\n",
    "\n",
    "### Applying KS Test on user's data"
   ]
  },
  {
   "cell_type": "code",
   "execution_count": 47,
   "id": "60dc1cc0",
   "metadata": {},
   "outputs": [
    {
     "data": {
      "text/plain": [
       "13"
      ]
     },
     "execution_count": 47,
     "metadata": {},
     "output_type": "execute_result"
    }
   ],
   "source": [
    "data = [312,313,315,316,311,312,313,319,317,315,320,320,312]\n",
    "len(data)"
   ]
  },
  {
   "cell_type": "code",
   "execution_count": 48,
   "id": "e8232c8a",
   "metadata": {},
   "outputs": [
    {
     "data": {
      "text/plain": [
       "KstestResult(statistic=1.0, pvalue=0.0, statistic_location=311, statistic_sign=-1)"
      ]
     },
     "execution_count": 48,
     "metadata": {},
     "output_type": "execute_result"
    }
   ],
   "source": [
    "# Null Hypothesis: the two distributions are identical\n",
    "stats.kstest(data,'norm')"
   ]
  },
  {
   "cell_type": "markdown",
   "id": "39fa3e88",
   "metadata": {},
   "source": [
    "p value is less than 0.5 so the two distributions are not Identical, which means the distribution given is not normal"
   ]
  },
  {
   "cell_type": "markdown",
   "id": "b40116d3",
   "metadata": {},
   "source": [
    "### Applying KS Test on existing dataset"
   ]
  },
  {
   "cell_type": "code",
   "execution_count": 49,
   "id": "bedaed44",
   "metadata": {},
   "outputs": [
    {
     "data": {
      "text/plain": [
       "KstestResult(statistic=1.0, pvalue=0.0, statistic_location=10.4, statistic_sign=-1)"
      ]
     },
     "execution_count": 49,
     "metadata": {},
     "output_type": "execute_result"
    }
   ],
   "source": [
    "stats.kstest(mtcars[\"mpg\"],'norm')"
   ]
  },
  {
   "cell_type": "markdown",
   "id": "a9e5fa20",
   "metadata": {},
   "source": [
    "p value is less than 0.5 so the two distributions are not Identical, which means the distribution given is not normal"
   ]
  },
  {
   "cell_type": "markdown",
   "id": "20025522",
   "metadata": {},
   "source": [
    "## Komogorov-Smirnov Test: Comparing the two distributions Test for Two sample\n",
    "\n",
    "Syntax: ks.scipy.stats.ks_2samp(a,b)\n",
    "\n",
    "where a and b are two distributions"
   ]
  },
  {
   "cell_type": "markdown",
   "id": "f8387659",
   "metadata": {},
   "source": [
    "### Applying KS Test on user's data- Two Sample"
   ]
  },
  {
   "cell_type": "code",
   "execution_count": 50,
   "id": "a7c41168",
   "metadata": {},
   "outputs": [
    {
     "data": {
      "text/plain": [
       "KstestResult(statistic=0.6, pvalue=0.05244755244755244, statistic_location=510, statistic_sign=-1)"
      ]
     },
     "execution_count": 50,
     "metadata": {},
     "output_type": "execute_result"
    }
   ],
   "source": [
    "# We want to see if there is a significant difference between the perception of yound and old people\n",
    "\n",
    "young= [511,512,513,514,511,515,512,514,515,513]\n",
    "old=[504,507,519,511,502,510,508,417,513,512]\n",
    "\n",
    "# Null Hypothesis: There is no significant difference between two samples\n",
    "\n",
    "stats.ks_2samp(young,old)"
   ]
  },
  {
   "cell_type": "markdown",
   "id": "efcd5a9d",
   "metadata": {},
   "source": [
    "p-value is less than 0.05, so there is a significant difference in the perception"
   ]
  },
  {
   "cell_type": "markdown",
   "id": "4ec35088",
   "metadata": {},
   "source": [
    "### Applying KS Test on existing Dataset- Two Sample"
   ]
  },
  {
   "cell_type": "code",
   "execution_count": 51,
   "id": "ac086af7",
   "metadata": {},
   "outputs": [
    {
     "data": {
      "text/plain": [
       "KstestResult(statistic=0.6882591093117408, pvalue=0.0005273572890973868, statistic_location=160.0, statistic_sign=-1)"
      ]
     },
     "execution_count": 51,
     "metadata": {},
     "output_type": "execute_result"
    }
   ],
   "source": [
    "# We want to know whether the type of transmission affects the value of disp variable or not\n",
    "\n",
    "auto_disp=mtcars[mtcars['am']==0]['disp']\n",
    "manual_disp=mtcars[mtcars['am']==1]['disp']\n",
    "\n",
    "# There is no difference in the diplacement of Auto or manual transmission\n",
    "\n",
    "stats.ks_2samp(auto_disp,manual_disp)"
   ]
  },
  {
   "cell_type": "markdown",
   "id": "67166b4d",
   "metadata": {},
   "source": [
    "As p value is less than 0.05, so there is a significant difference in the displacment for the two types of transmissions"
   ]
  },
  {
   "cell_type": "markdown",
   "id": "eff67802",
   "metadata": {},
   "source": [
    "## Mann-Whitney Test for Indpendent Samples\n",
    "\n",
    "Two data samples are independent if they come from distinct populations and the samples do not affect each other. Using the Mann Whitney test, we can decide whether the population distributions are identical without assuming them to follow normal distributions"
   ]
  },
  {
   "cell_type": "code",
   "execution_count": 52,
   "id": "6fecefe6",
   "metadata": {},
   "outputs": [
    {
     "data": {
      "text/plain": [
       "MannwhitneyuResult(statistic=119.5, pvalue=0.0004137422883783115)"
      ]
     },
     "execution_count": 52,
     "metadata": {},
     "output_type": "execute_result"
    }
   ],
   "source": [
    "# Perception of two samples male and female\n",
    "\n",
    "male = [721,725,728,729,731,738,742,735,741]\n",
    "female=[722,712,713,715,718,719,721,722,724,718,719,716,723,727]\n",
    "\n",
    "# Null: There is no significant difference between two samples\n",
    "stats.mannwhitneyu(male,female)"
   ]
  },
  {
   "cell_type": "markdown",
   "id": "0df7f322",
   "metadata": {},
   "source": [
    "As p value is less than 0.05.There is a significance difference in the perception of males and females."
   ]
  },
  {
   "cell_type": "code",
   "execution_count": 53,
   "id": "ad9dd98f",
   "metadata": {},
   "outputs": [
    {
     "data": {
      "text/plain": [
       "MannwhitneyuResult(statistic=24.0, pvalue=0.000142691919565049)"
      ]
     },
     "execution_count": 53,
     "metadata": {},
     "output_type": "execute_result"
    }
   ],
   "source": [
    "# MW test on existing dataset\n",
    "\n",
    "# Here we consider 'drat' indicating rear axle ratio of mtcars along with another data column named \"am\". Want to chek if the \n",
    "# distribution of 'drat' is identical for both the transmission\n",
    "\n",
    "auto_drat = mtcars[mtcars['am']==0]['drat']\n",
    "manual_drat = mtcars[mtcars['am']==1]['drat']\n",
    "\n",
    "stats.mannwhitneyu(auto_drat,manual_drat)"
   ]
  },
  {
   "cell_type": "markdown",
   "id": "b5843de6",
   "metadata": {},
   "source": [
    "p=value is less than 0.05 indicating that these two samples are NOT coming from identical populations"
   ]
  },
  {
   "cell_type": "markdown",
   "id": "18bb601b",
   "metadata": {},
   "source": [
    "## Wilcxon Test for Dependent Samples\n",
    "\n",
    "It is used to compare dependent samples ( before and after).It is important to understand that the number of observations remain the same in both the dependent samples,\n",
    "\n",
    "syntax:\n",
    "wilcoxon(a,b)\n",
    "\n",
    "Where a and b are two dependent data samples\n",
    "\n",
    "We want to check whether there was any differece after the training was conducted for employees inn the organization. The data is considered to be not normal. "
   ]
  },
  {
   "cell_type": "code",
   "execution_count": 54,
   "id": "acba577e",
   "metadata": {},
   "outputs": [
    {
     "name": "stderr",
     "output_type": "stream",
     "text": [
      "C:\\Users\\asus\\anaconda3\\lib\\site-packages\\scipy\\stats\\_morestats.py:3414: UserWarning: Exact p-value calculation does not work if there are zeros. Switching to normal approximation.\n",
      "  warnings.warn(\"Exact p-value calculation does not work if there are \"\n"
     ]
    },
    {
     "data": {
      "text/plain": [
       "WilcoxonResult(statistic=36.5, pvalue=0.5263223114789696)"
      ]
     },
     "execution_count": 54,
     "metadata": {},
     "output_type": "execute_result"
    }
   ],
   "source": [
    "# Two dependent samples related to before and after training\n",
    "pretrg = [19,18,15,13,16,11,15,13,14,17,15,12,14,15,13]\n",
    "posttrg = [18,17,16,13,16,14,17,19,15,12,10,18,17,13,12]\n",
    "# Null Hypothesis: No significant difference\n",
    "stats.wilcoxon(pretrg,posttrg)"
   ]
  },
  {
   "cell_type": "markdown",
   "id": "6395634b",
   "metadata": {},
   "source": [
    "As the p value is more than 0.05, so there is no significant difference between pre and post."
   ]
  },
  {
   "cell_type": "markdown",
   "id": "8c95d366",
   "metadata": {},
   "source": [
    "## Kusksal Test for Dependent Samples\n",
    "\n",
    "This is a non-parametric alternative to one-way ANOVA test, which is used when assumptions are not met.\n",
    "\n",
    "Syntax\n",
    "\n",
    "kurskalwallis(GroupA,GroupB...GroupN)\n",
    "wherer GroupA, GroupB,...are different groups\n"
   ]
  },
  {
   "cell_type": "code",
   "execution_count": 55,
   "id": "33a72217",
   "metadata": {},
   "outputs": [
    {
     "data": {
      "text/plain": [
       "KruskalResult(statistic=21.885637834140322, pvalue=1.7684554666122655e-05)"
      ]
     },
     "execution_count": 55,
     "metadata": {},
     "output_type": "execute_result"
    }
   ],
   "source": [
    "# Creating three different groups.Checking perception in these three groups\n",
    "grad=[851,853,858,749,743,848,842,745,741,765,798,801,832,809]\n",
    "postgrad=[842,945,943,945,938,939,921,922,924,828,929,836,923,827]\n",
    "doubpostgrad=[929,921,924,927,928,929,926,925,927,936,987,964]\n",
    "\n",
    "# Null Hypothesis: There is no significance between these three groups\n",
    "\n",
    "stats.mstats.kruskalwallis(grad,postgrad,doubpostgrad)"
   ]
  },
  {
   "cell_type": "markdown",
   "id": "9fb4db1e",
   "metadata": {},
   "source": [
    "p-value is less than 0.05, so there is a significant difference"
   ]
  },
  {
   "cell_type": "code",
   "execution_count": 56,
   "id": "b103b70a",
   "metadata": {},
   "outputs": [
    {
     "data": {
      "text/plain": [
       "KruskalResult(statistic=14.323348320792807, pvalue=0.0007757547276206059)"
      ]
     },
     "execution_count": 56,
     "metadata": {},
     "output_type": "execute_result"
    }
   ],
   "source": [
    "# is mpg is different for 3 different types of gears\n",
    "\n",
    "Three_mpg = mtcars[mtcars['gear']==3]['mpg']\n",
    "Four_mpg = mtcars[mtcars['gear']==4]['mpg']\n",
    "Five_mpg = mtcars[mtcars['gear']==5]['mpg']\n",
    "\n",
    "[type(x) for x in [Three_mpg,Four_mpg,Five_mpg]]\n",
    "\n",
    "# Converting the series types to list\n",
    "\n",
    "Three_lst = list(Three_mpg)\n",
    "Four_lst = list(Four_mpg)\n",
    "Five_lst = list(Five_mpg)\n",
    "\n",
    "# Applying Kruskal-Wallis Test on three groups\n",
    "# Null Hypothesis: There is no sifnificant differnce between three groups\n",
    "stats.mstats.kruskalwallis(Three_lst,Four_lst,Five_lst)"
   ]
  },
  {
   "cell_type": "markdown",
   "id": "1184f331",
   "metadata": {},
   "source": [
    "p value is less than 0.05, so mpg of cars having different gears is different"
   ]
  }
 ],
 "metadata": {
  "kernelspec": {
   "display_name": "Python 3 (ipykernel)",
   "language": "python",
   "name": "python3"
  },
  "language_info": {
   "codemirror_mode": {
    "name": "ipython",
    "version": 3
   },
   "file_extension": ".py",
   "mimetype": "text/x-python",
   "name": "python",
   "nbconvert_exporter": "python",
   "pygments_lexer": "ipython3",
   "version": "3.10.9"
  }
 },
 "nbformat": 4,
 "nbformat_minor": 5
}
