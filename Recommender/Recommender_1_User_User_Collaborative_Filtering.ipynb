{
 "cells": [
  {
   "cell_type": "markdown",
   "id": "99cf8f2c",
   "metadata": {},
   "source": [
    "### User-user collaborative filtering\n",
    "User-user collaborative filteringUser-user collaborative filtering is a technique commonly used in recommendation systems. Here's an intuitive way to understand it:\n",
    "\n",
    "Analogy: Friends' Recommendations\n",
    "Imagine you're looking to watch a new movie. You ask your friends for suggestions. Each of your friends has a history of movies they've watched and enjoyed. You'd likely give more weight to recommendations from friends who have a similar taste in movies to yours. For example, if both you and a friend loved \"The Matrix\" and \"Inception,\" you'd probably be more inclined to watch other movies they recommend.\n",
    "\n",
    "How User-User Collaborative Filtering Works\n",
    "Similarity Calculation: The system first identifies users who are similar to the target user (you, in this case). This similarity is based on how similarly users have rated items (like movies, products, etc.). If two users have rated many items similarly, they are considered similar.\n",
    "\n",
    "Rating Predictions: Once similar users are found, the system predicts the target user's interest in an item (a movie, for example) that they haven't yet rated or seen. This prediction is based on how the similar users have rated that item.\n",
    "\n",
    "Recommendation Generation: The system then recommends items to the target user that have high predicted ratings, suggesting that the user will like these items based on the preferences of similar users.\n",
    "\n",
    "Key Points\n",
    "User Profiles: The system builds a profile for each user based on their past ratings or interactions.\n",
    "Neighborhood Selection: It selects a \"neighborhood\" of users who have the most similar tastes to the target user.\n",
    "Weighted Averages: The ratings from these similar users are often combined using a weighted average to predict the target user's preference for an unrated item.\n",
    "Dynamic: The recommendations change as users' preferences evolve and as new users and new ratings are added to the system.\n",
    "Limitations\n",
    "Cold Start Problem: New users who haven't rated many items yet can be hard to match with similar users.\n",
    "Scalability: As the number of users and items grows, finding the most similar users quickly becomes computationally expensive.\n",
    "Diversity of Recommendations: Sometimes, the system might recommend very popular items repeatedly, leading to a lack of diversity in recommendations.\n",
    "In essence, user-user collaborative filtering is like getting recommendations from a large, constantly evolving group of friends who share your tastes and preferences."
   ]
  },
  {
   "cell_type": "markdown",
   "id": "046b1885",
   "metadata": {},
   "source": [
    "Let's create a basic example of user-user collaborative filtering using Python. We'll use a small dataset of users and their ratings for simplicity. The example will demonstrate how to calculate user similarity and then predict ratings for a user.\n",
    "\n",
    "First, we will create a simple dataset, calculate similarity between users, and then predict ratings for a user who has not rated some items.\n",
    "\n",
    "Step 1: Create a Simple Dataset\n",
    "We'll use a Python dictionary to represent user ratings for different movies."
   ]
  },
  {
   "cell_type": "code",
   "execution_count": 1,
   "id": "c08d753c",
   "metadata": {},
   "outputs": [],
   "source": [
    "ratings = {\n",
    "    'User1': {'Matrix': 5, 'Inception': 3, 'Avengers': 2},\n",
    "    'User2': {'Matrix': 3, 'Inception': 5, 'Avengers': 1},\n",
    "    'User3': {'Matrix': 4, 'Inception': 4, 'Avengers': 3},\n",
    "    'User4': {'Inception': 4, 'Avengers': 5}\n",
    "}\n"
   ]
  },
  {
   "cell_type": "markdown",
   "id": "830789e5",
   "metadata": {},
   "source": [
    "Step 2: Calculate Similarity\n",
    "We'll use cosine similarity to measure the similarity between users. Let's define a function to calculate this."
   ]
  },
  {
   "cell_type": "code",
   "execution_count": 2,
   "id": "996c19e9",
   "metadata": {},
   "outputs": [],
   "source": [
    "import numpy as np\n",
    "\n",
    "def cosine_similarity(user1, user2):\n",
    "    common_movies = set(ratings[user1]).intersection(set(ratings[user2]))\n",
    "    if not common_movies:\n",
    "        return 0\n",
    "\n",
    "    user1_ratings = np.array([ratings[user1][movie] for movie in common_movies])\n",
    "    user2_ratings = np.array([ratings[user2][movie] for movie in common_movies])\n",
    "\n",
    "    return np.dot(user1_ratings, user2_ratings) / (np.linalg.norm(user1_ratings) * np.linalg.norm(user2_ratings))\n"
   ]
  },
  {
   "cell_type": "markdown",
   "id": "2033b5ff",
   "metadata": {},
   "source": [
    "Step 3: Predict Ratings\n",
    "Now, we'll write a function to predict ratings for a user. We'll average the ratings from the most similar users."
   ]
  },
  {
   "cell_type": "code",
   "execution_count": 3,
   "id": "e3e49fea",
   "metadata": {},
   "outputs": [],
   "source": [
    "def predict_rating(user, movie):\n",
    "    total_similarity = 0\n",
    "    weighted_ratings = 0\n",
    "\n",
    "    for other_user in ratings.keys():\n",
    "        if other_user != user and movie in ratings[other_user]:\n",
    "            similarity = cosine_similarity(user, other_user)\n",
    "            total_similarity += similarity\n",
    "            weighted_ratings += similarity * ratings[other_user][movie]\n",
    "\n",
    "    if total_similarity == 0:\n",
    "        return 0\n",
    "\n",
    "    return weighted_ratings / total_similarity\n"
   ]
  },
  {
   "cell_type": "markdown",
   "id": "42617240",
   "metadata": {},
   "source": [
    "Step 4: Run the Example\n",
    "Let's predict the rating for User4 for the movie \"Matrix\"."
   ]
  },
  {
   "cell_type": "code",
   "execution_count": 4,
   "id": "f57dd6b9",
   "metadata": {},
   "outputs": [
    {
     "name": "stdout",
     "output_type": "stream",
     "text": [
      "Predicted rating for User4 for 'Matrix': 4.069678945992079\n"
     ]
    }
   ],
   "source": [
    "predicted_rating = predict_rating('User4', 'Matrix')\n",
    "print(f\"Predicted rating for User4 for 'Matrix': {predicted_rating}\")\n"
   ]
  },
  {
   "cell_type": "markdown",
   "id": "79048bb2",
   "metadata": {},
   "source": [
    "### Example Using Test and Train Data"
   ]
  },
  {
   "cell_type": "code",
   "execution_count": 5,
   "id": "a52b75ab",
   "metadata": {},
   "outputs": [],
   "source": [
    "import random\n",
    "\n",
    "# Expanded dataset\n",
    "ratings = {\n",
    "    'User1': {'Matrix': 5, 'Inception': 3, 'Avengers': 2, 'Toy Story': 4},\n",
    "    'User2': {'Matrix': 3, 'Inception': 5, 'Avengers': 1, 'Toy Story': 3},\n",
    "    'User3': {'Matrix': 4, 'Inception': 4, 'Avengers': 3, 'Toy Story': 5},\n",
    "    'User4': {'Inception': 4, 'Avengers': 5, 'Toy Story': 2},\n",
    "    'User5': {'Matrix': 3, 'Avengers': 4, 'Toy Story': 3}\n",
    "}\n",
    "\n",
    "# Function to split data into train and test sets\n",
    "def split_data(data, test_ratio=0.2):\n",
    "    train_data = {}\n",
    "    test_data = {}\n",
    "\n",
    "    for user, movies in data.items():\n",
    "        train_data[user] = {}\n",
    "        test_data[user] = {}\n",
    "\n",
    "        for movie, rating in movies.items():\n",
    "            if random.random() < test_ratio:\n",
    "                test_data[user][movie] = rating\n",
    "            else:\n",
    "                train_data[user][movie] = rating\n",
    "\n",
    "    return train_data, test_data\n",
    "\n",
    "train_ratings, test_ratings = split_data(ratings)\n"
   ]
  },
  {
   "cell_type": "code",
   "execution_count": 6,
   "id": "43796cdc",
   "metadata": {},
   "outputs": [],
   "source": [
    "def cosine_similarity(user1, user2, data):\n",
    "    common_movies = set(data[user1]).intersection(set(data[user2]))\n",
    "    if not common_movies:\n",
    "        return 0\n",
    "\n",
    "    user1_ratings = np.array([data[user1][movie] for movie in common_movies])\n",
    "    user2_ratings = np.array([data[user2][movie] for movie in common_movies])\n",
    "\n",
    "    return np.dot(user1_ratings, user2_ratings) / (np.linalg.norm(user1_ratings) * np.linalg.norm(user2_ratings))\n"
   ]
  },
  {
   "cell_type": "code",
   "execution_count": 7,
   "id": "95308900",
   "metadata": {},
   "outputs": [],
   "source": [
    "def predict_rating(user, movie, train_data):\n",
    "    total_similarity = 0\n",
    "    weighted_ratings = 0\n",
    "\n",
    "    for other_user in train_data.keys():\n",
    "        if other_user != user and movie in train_data[other_user]:\n",
    "            similarity = cosine_similarity(user, other_user, train_data)\n",
    "            total_similarity += similarity\n",
    "            weighted_ratings += similarity * train_data[other_user][movie]\n",
    "\n",
    "    if total_similarity == 0:\n",
    "        return 0\n",
    "\n",
    "    return weighted_ratings / total_similarity\n"
   ]
  },
  {
   "cell_type": "code",
   "execution_count": 8,
   "id": "5d039a17",
   "metadata": {},
   "outputs": [
    {
     "name": "stdout",
     "output_type": "stream",
     "text": [
      "Average prediction error: 1.0032964351234455\n"
     ]
    }
   ],
   "source": [
    "def evaluate_model(train_data, test_data):\n",
    "    total_error = 0\n",
    "    count = 0\n",
    "\n",
    "    for user in test_data.keys():\n",
    "        for movie, actual_rating in test_data[user].items():\n",
    "            predicted_rating = predict_rating(user, movie, train_data)\n",
    "            total_error += abs(predicted_rating - actual_rating)\n",
    "            count += 1\n",
    "\n",
    "    return total_error / count if count else 0\n",
    "\n",
    "error = evaluate_model(train_ratings, test_ratings)\n",
    "print(f\"Average prediction error: {error}\")\n"
   ]
  },
  {
   "cell_type": "markdown",
   "id": "030e061b",
   "metadata": {},
   "source": [
    "### Example Using sklearn"
   ]
  },
  {
   "cell_type": "code",
   "execution_count": 9,
   "id": "d2efce62",
   "metadata": {},
   "outputs": [],
   "source": [
    "import numpy as np\n",
    "from sklearn.metrics.pairwise import cosine_similarity\n",
    "\n",
    "# Sample dataset\n",
    "ratings = {\n",
    "    'User1': {'Matrix': 5, 'Inception': 3, 'Avengers': 2, 'Toy Story': 4},\n",
    "    'User2': {'Matrix': 3, 'Inception': 5, 'Avengers': 1, 'Toy Story': 3},\n",
    "    'User3': {'Matrix': 4, 'Inception': 4, 'Avengers': 3, 'Toy Story': 5},\n",
    "    'User4': {'Inception': 4, 'Avengers': 5, 'Toy Story': 2},\n",
    "    'User5': {'Matrix': 3, 'Avengers': 4, 'Toy Story': 3}\n",
    "}\n",
    "\n",
    "# Convert the ratings dictionary to a user-item matrix\n",
    "movies = sorted({movie for user_ratings in ratings.values() for movie in user_ratings})\n",
    "user_ids = sorted(ratings.keys())\n",
    "user_item_matrix = np.zeros((len(user_ids), len(movies)))\n",
    "\n",
    "for i, user in enumerate(user_ids):\n",
    "    for j, movie in enumerate(movies):\n",
    "        user_item_matrix[i, j] = ratings[user].get(movie, 0)\n"
   ]
  },
  {
   "cell_type": "code",
   "execution_count": 10,
   "id": "4275d087",
   "metadata": {},
   "outputs": [],
   "source": [
    "similarity_matrix = cosine_similarity(user_item_matrix)\n"
   ]
  },
  {
   "cell_type": "code",
   "execution_count": 11,
   "id": "c864609a",
   "metadata": {},
   "outputs": [
    {
     "name": "stdout",
     "output_type": "stream",
     "text": [
      "Predicted rating for User1 for 'Avengers': 2.7411199529949077\n"
     ]
    }
   ],
   "source": [
    "def predict_rating(user_index, movie_index):\n",
    "    # Weights are the similarities of other users to the target user\n",
    "    weights = similarity_matrix[user_index]\n",
    "\n",
    "    # Ratings are the ratings of all users for the target movie\n",
    "    movie_ratings = user_item_matrix[:, movie_index]\n",
    "\n",
    "    # Exclude the target user from the calculation\n",
    "    weights[user_index] = 0\n",
    "\n",
    "    weighted_sum = np.dot(weights, movie_ratings)\n",
    "    sum_of_weights = np.sum(np.abs(weights))\n",
    "\n",
    "    if sum_of_weights == 0:\n",
    "        return 0\n",
    "\n",
    "    return weighted_sum / sum_of_weights\n",
    "\n",
    "# Example: Predict the rating for User1 (index 0) for 'Avengers' (index 2)\n",
    "user_index = 0  # User1\n",
    "movie_index = 2  # 'Avengers'\n",
    "predicted_rating = predict_rating(user_index, movie_index)\n",
    "print(f\"Predicted rating for User1 for 'Avengers': {predicted_rating}\")\n"
   ]
  },
  {
   "cell_type": "code",
   "execution_count": null,
   "id": "ebcc497c",
   "metadata": {},
   "outputs": [],
   "source": []
  }
 ],
 "metadata": {
  "kernelspec": {
   "display_name": "Python 3 (ipykernel)",
   "language": "python",
   "name": "python3"
  },
  "language_info": {
   "codemirror_mode": {
    "name": "ipython",
    "version": 3
   },
   "file_extension": ".py",
   "mimetype": "text/x-python",
   "name": "python",
   "nbconvert_exporter": "python",
   "pygments_lexer": "ipython3",
   "version": "3.11.4"
  }
 },
 "nbformat": 4,
 "nbformat_minor": 5
}
