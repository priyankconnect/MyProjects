{
  "nbformat": 4,
  "nbformat_minor": 0,
  "metadata": {
    "colab": {
      "provenance": [],
      "authorship_tag": "ABX9TyNklxVORNjeJNPEqcyCuN+Y",
      "include_colab_link": true
    },
    "kernelspec": {
      "name": "python3",
      "display_name": "Python 3"
    },
    "language_info": {
      "name": "python"
    }
  },
  "cells": [
    {
      "cell_type": "markdown",
      "metadata": {
        "id": "view-in-github",
        "colab_type": "text"
      },
      "source": [
        "<a href=\"https://colab.research.google.com/github/priyankconnect/MyProjects/blob/main/Regular_Expressions/All_About_Regular_Expression.ipynb\" target=\"_parent\"><img src=\"https://colab.research.google.com/assets/colab-badge.svg\" alt=\"Open In Colab\"/></a>"
      ]
    },
    {
      "cell_type": "markdown",
      "source": [
        "Import re module"
      ],
      "metadata": {
        "id": "507KVJGQCiD8"
      }
    },
    {
      "cell_type": "code",
      "execution_count": null,
      "metadata": {
        "id": "nK3PnsE5B-2Y"
      },
      "outputs": [],
      "source": [
        "import re"
      ]
    },
    {
      "cell_type": "markdown",
      "source": [
        "Just click help to get a help in this module"
      ],
      "metadata": {
        "id": "9QtBi_hWCjey"
      }
    },
    {
      "cell_type": "code",
      "execution_count": null,
      "metadata": {
        "id": "hR2RmpkvCjez",
        "colab": {
          "base_uri": "https://localhost:8080/"
        },
        "outputId": "ccbadc96-36a8-4e63-a1bb-f4675b71026e"
      },
      "outputs": [
        {
          "output_type": "stream",
          "name": "stdout",
          "text": [
            "Help on module re:\n",
            "\n",
            "NAME\n",
            "    re - Support for regular expressions (RE).\n",
            "\n",
            "MODULE REFERENCE\n",
            "    https://docs.python.org/3.7/library/re\n",
            "    \n",
            "    The following documentation is automatically generated from the Python\n",
            "    source files.  It may be incomplete, incorrect or include features that\n",
            "    are considered implementation detail and may vary between Python\n",
            "    implementations.  When in doubt, consult the module reference at the\n",
            "    location listed above.\n",
            "\n",
            "DESCRIPTION\n",
            "    This module provides regular expression matching operations similar to\n",
            "    those found in Perl.  It supports both 8-bit and Unicode strings; both\n",
            "    the pattern and the strings being processed can contain null bytes and\n",
            "    characters outside the US ASCII range.\n",
            "    \n",
            "    Regular expressions can contain both special and ordinary characters.\n",
            "    Most ordinary characters, like \"A\", \"a\", or \"0\", are the simplest\n",
            "    regular expressions; they simply match themselves.  You can\n",
            "    concatenate ordinary characters, so last matches the string 'last'.\n",
            "    \n",
            "    The special characters are:\n",
            "        \".\"      Matches any character except a newline.\n",
            "        \"^\"      Matches the start of the string.\n",
            "        \"$\"      Matches the end of the string or just before the newline at\n",
            "                 the end of the string.\n",
            "        \"*\"      Matches 0 or more (greedy) repetitions of the preceding RE.\n",
            "                 Greedy means that it will match as many repetitions as possible.\n",
            "        \"+\"      Matches 1 or more (greedy) repetitions of the preceding RE.\n",
            "        \"?\"      Matches 0 or 1 (greedy) of the preceding RE.\n",
            "        *?,+?,?? Non-greedy versions of the previous three special characters.\n",
            "        {m,n}    Matches from m to n repetitions of the preceding RE.\n",
            "        {m,n}?   Non-greedy version of the above.\n",
            "        \"\\\\\"     Either escapes special characters or signals a special sequence.\n",
            "        []       Indicates a set of characters.\n",
            "                 A \"^\" as the first character indicates a complementing set.\n",
            "        \"|\"      A|B, creates an RE that will match either A or B.\n",
            "        (...)    Matches the RE inside the parentheses.\n",
            "                 The contents can be retrieved or matched later in the string.\n",
            "        (?aiLmsux) The letters set the corresponding flags defined below.\n",
            "        (?:...)  Non-grouping version of regular parentheses.\n",
            "        (?P<name>...) The substring matched by the group is accessible by name.\n",
            "        (?P=name)     Matches the text matched earlier by the group named name.\n",
            "        (?#...)  A comment; ignored.\n",
            "        (?=...)  Matches if ... matches next, but doesn't consume the string.\n",
            "        (?!...)  Matches if ... doesn't match next.\n",
            "        (?<=...) Matches if preceded by ... (must be fixed length).\n",
            "        (?<!...) Matches if not preceded by ... (must be fixed length).\n",
            "        (?(id/name)yes|no) Matches yes pattern if the group with id/name matched,\n",
            "                           the (optional) no pattern otherwise.\n",
            "    \n",
            "    The special sequences consist of \"\\\\\" and a character from the list\n",
            "    below.  If the ordinary character is not on the list, then the\n",
            "    resulting RE will match the second character.\n",
            "        \\number  Matches the contents of the group of the same number.\n",
            "        \\A       Matches only at the start of the string.\n",
            "        \\Z       Matches only at the end of the string.\n",
            "        \\b       Matches the empty string, but only at the start or end of a word.\n",
            "        \\B       Matches the empty string, but not at the start or end of a word.\n",
            "        \\d       Matches any decimal digit; equivalent to the set [0-9] in\n",
            "                 bytes patterns or string patterns with the ASCII flag.\n",
            "                 In string patterns without the ASCII flag, it will match the whole\n",
            "                 range of Unicode digits.\n",
            "        \\D       Matches any non-digit character; equivalent to [^\\d].\n",
            "        \\s       Matches any whitespace character; equivalent to [ \\t\\n\\r\\f\\v] in\n",
            "                 bytes patterns or string patterns with the ASCII flag.\n",
            "                 In string patterns without the ASCII flag, it will match the whole\n",
            "                 range of Unicode whitespace characters.\n",
            "        \\S       Matches any non-whitespace character; equivalent to [^\\s].\n",
            "        \\w       Matches any alphanumeric character; equivalent to [a-zA-Z0-9_]\n",
            "                 in bytes patterns or string patterns with the ASCII flag.\n",
            "                 In string patterns without the ASCII flag, it will match the\n",
            "                 range of Unicode alphanumeric characters (letters plus digits\n",
            "                 plus underscore).\n",
            "                 With LOCALE, it will match the set [0-9_] plus characters defined\n",
            "                 as letters for the current locale.\n",
            "        \\W       Matches the complement of \\w.\n",
            "        \\\\       Matches a literal backslash.\n",
            "    \n",
            "    This module exports the following functions:\n",
            "        match     Match a regular expression pattern to the beginning of a string.\n",
            "        fullmatch Match a regular expression pattern to all of a string.\n",
            "        search    Search a string for the presence of a pattern.\n",
            "        sub       Substitute occurrences of a pattern found in a string.\n",
            "        subn      Same as sub, but also return the number of substitutions made.\n",
            "        split     Split a string by the occurrences of a pattern.\n",
            "        findall   Find all occurrences of a pattern in a string.\n",
            "        finditer  Return an iterator yielding a Match object for each match.\n",
            "        compile   Compile a pattern into a Pattern object.\n",
            "        purge     Clear the regular expression cache.\n",
            "        escape    Backslash all non-alphanumerics in a string.\n",
            "    \n",
            "    Each function other than purge and escape can take an optional 'flags' argument\n",
            "    consisting of one or more of the following module constants, joined by \"|\".\n",
            "    A, L, and U are mutually exclusive.\n",
            "        A  ASCII       For string patterns, make \\w, \\W, \\b, \\B, \\d, \\D\n",
            "                       match the corresponding ASCII character categories\n",
            "                       (rather than the whole Unicode categories, which is the\n",
            "                       default).\n",
            "                       For bytes patterns, this flag is the only available\n",
            "                       behaviour and needn't be specified.\n",
            "        I  IGNORECASE  Perform case-insensitive matching.\n",
            "        L  LOCALE      Make \\w, \\W, \\b, \\B, dependent on the current locale.\n",
            "        M  MULTILINE   \"^\" matches the beginning of lines (after a newline)\n",
            "                       as well as the string.\n",
            "                       \"$\" matches the end of lines (before a newline) as well\n",
            "                       as the end of the string.\n",
            "        S  DOTALL      \".\" matches any character at all, including the newline.\n",
            "        X  VERBOSE     Ignore whitespace and comments for nicer looking RE's.\n",
            "        U  UNICODE     For compatibility only. Ignored for string patterns (it\n",
            "                       is the default), and forbidden for bytes patterns.\n",
            "    \n",
            "    This module also defines an exception 'error'.\n",
            "\n",
            "CLASSES\n",
            "    builtins.Exception(builtins.BaseException)\n",
            "        error\n",
            "    builtins.object\n",
            "        Match\n",
            "        Pattern\n",
            "    \n",
            "    class Match(builtins.object)\n",
            "     |  The result of re.match() and re.search().\n",
            "     |  Match objects always have a boolean value of True.\n",
            "     |  \n",
            "     |  Methods defined here:\n",
            "     |  \n",
            "     |  __copy__(self, /)\n",
            "     |  \n",
            "     |  __deepcopy__(self, memo, /)\n",
            "     |  \n",
            "     |  __getitem__(self, key, /)\n",
            "     |      Return self[key].\n",
            "     |  \n",
            "     |  __repr__(self, /)\n",
            "     |      Return repr(self).\n",
            "     |  \n",
            "     |  end(self, group=0, /)\n",
            "     |      Return index of the end of the substring matched by group.\n",
            "     |  \n",
            "     |  expand(self, /, template)\n",
            "     |      Return the string obtained by doing backslash substitution on the string template, as done by the sub() method.\n",
            "     |  \n",
            "     |  group(...)\n",
            "     |      group([group1, ...]) -> str or tuple.\n",
            "     |      Return subgroup(s) of the match by indices or names.\n",
            "     |      For 0 returns the entire match.\n",
            "     |  \n",
            "     |  groupdict(self, /, default=None)\n",
            "     |      Return a dictionary containing all the named subgroups of the match, keyed by the subgroup name.\n",
            "     |      \n",
            "     |      default\n",
            "     |        Is used for groups that did not participate in the match.\n",
            "     |  \n",
            "     |  groups(self, /, default=None)\n",
            "     |      Return a tuple containing all the subgroups of the match, from 1.\n",
            "     |      \n",
            "     |      default\n",
            "     |        Is used for groups that did not participate in the match.\n",
            "     |  \n",
            "     |  span(self, group=0, /)\n",
            "     |      For match object m, return the 2-tuple (m.start(group), m.end(group)).\n",
            "     |  \n",
            "     |  start(self, group=0, /)\n",
            "     |      Return index of the start of the substring matched by group.\n",
            "     |  \n",
            "     |  ----------------------------------------------------------------------\n",
            "     |  Data descriptors defined here:\n",
            "     |  \n",
            "     |  endpos\n",
            "     |      The index into the string beyond which the RE engine will not go.\n",
            "     |  \n",
            "     |  lastgroup\n",
            "     |      The name of the last matched capturing group.\n",
            "     |  \n",
            "     |  lastindex\n",
            "     |      The integer index of the last matched capturing group.\n",
            "     |  \n",
            "     |  pos\n",
            "     |      The index into the string at which the RE engine started looking for a match.\n",
            "     |  \n",
            "     |  re\n",
            "     |      The regular expression object.\n",
            "     |  \n",
            "     |  regs\n",
            "     |  \n",
            "     |  string\n",
            "     |      The string passed to match() or search().\n",
            "    \n",
            "    class Pattern(builtins.object)\n",
            "     |  Compiled regular expression object.\n",
            "     |  \n",
            "     |  Methods defined here:\n",
            "     |  \n",
            "     |  __copy__(self, /)\n",
            "     |  \n",
            "     |  __deepcopy__(self, memo, /)\n",
            "     |  \n",
            "     |  __eq__(self, value, /)\n",
            "     |      Return self==value.\n",
            "     |  \n",
            "     |  __ge__(self, value, /)\n",
            "     |      Return self>=value.\n",
            "     |  \n",
            "     |  __gt__(self, value, /)\n",
            "     |      Return self>value.\n",
            "     |  \n",
            "     |  __hash__(self, /)\n",
            "     |      Return hash(self).\n",
            "     |  \n",
            "     |  __le__(self, value, /)\n",
            "     |      Return self<=value.\n",
            "     |  \n",
            "     |  __lt__(self, value, /)\n",
            "     |      Return self<value.\n",
            "     |  \n",
            "     |  __ne__(self, value, /)\n",
            "     |      Return self!=value.\n",
            "     |  \n",
            "     |  __repr__(self, /)\n",
            "     |      Return repr(self).\n",
            "     |  \n",
            "     |  findall(self, /, string, pos=0, endpos=9223372036854775807)\n",
            "     |      Return a list of all non-overlapping matches of pattern in string.\n",
            "     |  \n",
            "     |  finditer(self, /, string, pos=0, endpos=9223372036854775807)\n",
            "     |      Return an iterator over all non-overlapping matches for the RE pattern in string.\n",
            "     |      \n",
            "     |      For each match, the iterator returns a match object.\n",
            "     |  \n",
            "     |  fullmatch(self, /, string, pos=0, endpos=9223372036854775807)\n",
            "     |      Matches against all of the string.\n",
            "     |  \n",
            "     |  match(self, /, string, pos=0, endpos=9223372036854775807)\n",
            "     |      Matches zero or more characters at the beginning of the string.\n",
            "     |  \n",
            "     |  scanner(self, /, string, pos=0, endpos=9223372036854775807)\n",
            "     |  \n",
            "     |  search(self, /, string, pos=0, endpos=9223372036854775807)\n",
            "     |      Scan through string looking for a match, and return a corresponding match object instance.\n",
            "     |      \n",
            "     |      Return None if no position in the string matches.\n",
            "     |  \n",
            "     |  split(self, /, string, maxsplit=0)\n",
            "     |      Split string by the occurrences of pattern.\n",
            "     |  \n",
            "     |  sub(self, /, repl, string, count=0)\n",
            "     |      Return the string obtained by replacing the leftmost non-overlapping occurrences of pattern in string by the replacement repl.\n",
            "     |  \n",
            "     |  subn(self, /, repl, string, count=0)\n",
            "     |      Return the tuple (new_string, number_of_subs_made) found by replacing the leftmost non-overlapping occurrences of pattern with the replacement repl.\n",
            "     |  \n",
            "     |  ----------------------------------------------------------------------\n",
            "     |  Data descriptors defined here:\n",
            "     |  \n",
            "     |  flags\n",
            "     |      The regex matching flags.\n",
            "     |  \n",
            "     |  groupindex\n",
            "     |      A dictionary mapping group names to group numbers.\n",
            "     |  \n",
            "     |  groups\n",
            "     |      The number of capturing groups in the pattern.\n",
            "     |  \n",
            "     |  pattern\n",
            "     |      The pattern string from which the RE object was compiled.\n",
            "    \n",
            "    class error(builtins.Exception)\n",
            "     |  error(msg, pattern=None, pos=None)\n",
            "     |  \n",
            "     |  Exception raised for invalid regular expressions.\n",
            "     |  \n",
            "     |  Attributes:\n",
            "     |  \n",
            "     |      msg: The unformatted error message\n",
            "     |      pattern: The regular expression pattern\n",
            "     |      pos: The index in the pattern where compilation failed (may be None)\n",
            "     |      lineno: The line corresponding to pos (may be None)\n",
            "     |      colno: The column corresponding to pos (may be None)\n",
            "     |  \n",
            "     |  Method resolution order:\n",
            "     |      error\n",
            "     |      builtins.Exception\n",
            "     |      builtins.BaseException\n",
            "     |      builtins.object\n",
            "     |  \n",
            "     |  Methods defined here:\n",
            "     |  \n",
            "     |  __init__(self, msg, pattern=None, pos=None)\n",
            "     |      Initialize self.  See help(type(self)) for accurate signature.\n",
            "     |  \n",
            "     |  ----------------------------------------------------------------------\n",
            "     |  Data descriptors defined here:\n",
            "     |  \n",
            "     |  __weakref__\n",
            "     |      list of weak references to the object (if defined)\n",
            "     |  \n",
            "     |  ----------------------------------------------------------------------\n",
            "     |  Static methods inherited from builtins.Exception:\n",
            "     |  \n",
            "     |  __new__(*args, **kwargs) from builtins.type\n",
            "     |      Create and return a new object.  See help(type) for accurate signature.\n",
            "     |  \n",
            "     |  ----------------------------------------------------------------------\n",
            "     |  Methods inherited from builtins.BaseException:\n",
            "     |  \n",
            "     |  __delattr__(self, name, /)\n",
            "     |      Implement delattr(self, name).\n",
            "     |  \n",
            "     |  __getattribute__(self, name, /)\n",
            "     |      Return getattr(self, name).\n",
            "     |  \n",
            "     |  __reduce__(...)\n",
            "     |      Helper for pickle.\n",
            "     |  \n",
            "     |  __repr__(self, /)\n",
            "     |      Return repr(self).\n",
            "     |  \n",
            "     |  __setattr__(self, name, value, /)\n",
            "     |      Implement setattr(self, name, value).\n",
            "     |  \n",
            "     |  __setstate__(...)\n",
            "     |  \n",
            "     |  __str__(self, /)\n",
            "     |      Return str(self).\n",
            "     |  \n",
            "     |  with_traceback(...)\n",
            "     |      Exception.with_traceback(tb) --\n",
            "     |      set self.__traceback__ to tb and return self.\n",
            "     |  \n",
            "     |  ----------------------------------------------------------------------\n",
            "     |  Data descriptors inherited from builtins.BaseException:\n",
            "     |  \n",
            "     |  __cause__\n",
            "     |      exception cause\n",
            "     |  \n",
            "     |  __context__\n",
            "     |      exception context\n",
            "     |  \n",
            "     |  __dict__\n",
            "     |  \n",
            "     |  __suppress_context__\n",
            "     |  \n",
            "     |  __traceback__\n",
            "     |  \n",
            "     |  args\n",
            "\n",
            "FUNCTIONS\n",
            "    compile(pattern, flags=0)\n",
            "        Compile a regular expression pattern, returning a Pattern object.\n",
            "    \n",
            "    escape(pattern)\n",
            "        Escape special characters in a string.\n",
            "    \n",
            "    findall(pattern, string, flags=0)\n",
            "        Return a list of all non-overlapping matches in the string.\n",
            "        \n",
            "        If one or more capturing groups are present in the pattern, return\n",
            "        a list of groups; this will be a list of tuples if the pattern\n",
            "        has more than one group.\n",
            "        \n",
            "        Empty matches are included in the result.\n",
            "    \n",
            "    finditer(pattern, string, flags=0)\n",
            "        Return an iterator over all non-overlapping matches in the\n",
            "        string.  For each match, the iterator returns a Match object.\n",
            "        \n",
            "        Empty matches are included in the result.\n",
            "    \n",
            "    fullmatch(pattern, string, flags=0)\n",
            "        Try to apply the pattern to all of the string, returning\n",
            "        a Match object, or None if no match was found.\n",
            "    \n",
            "    match(pattern, string, flags=0)\n",
            "        Try to apply the pattern at the start of the string, returning\n",
            "        a Match object, or None if no match was found.\n",
            "    \n",
            "    purge()\n",
            "        Clear the regular expression caches\n",
            "    \n",
            "    search(pattern, string, flags=0)\n",
            "        Scan through string looking for a match to the pattern, returning\n",
            "        a Match object, or None if no match was found.\n",
            "    \n",
            "    split(pattern, string, maxsplit=0, flags=0)\n",
            "        Split the source string by the occurrences of the pattern,\n",
            "        returning a list containing the resulting substrings.  If\n",
            "        capturing parentheses are used in pattern, then the text of all\n",
            "        groups in the pattern are also returned as part of the resulting\n",
            "        list.  If maxsplit is nonzero, at most maxsplit splits occur,\n",
            "        and the remainder of the string is returned as the final element\n",
            "        of the list.\n",
            "    \n",
            "    sub(pattern, repl, string, count=0, flags=0)\n",
            "        Return the string obtained by replacing the leftmost\n",
            "        non-overlapping occurrences of the pattern in string by the\n",
            "        replacement repl.  repl can be either a string or a callable;\n",
            "        if a string, backslash escapes in it are processed.  If it is\n",
            "        a callable, it's passed the Match object and must return\n",
            "        a replacement string to be used.\n",
            "    \n",
            "    subn(pattern, repl, string, count=0, flags=0)\n",
            "        Return a 2-tuple containing (new_string, number).\n",
            "        new_string is the string obtained by replacing the leftmost\n",
            "        non-overlapping occurrences of the pattern in the source\n",
            "        string by the replacement repl.  number is the number of\n",
            "        substitutions that were made. repl can be either a string or a\n",
            "        callable; if a string, backslash escapes in it are processed.\n",
            "        If it is a callable, it's passed the Match object and must\n",
            "        return a replacement string to be used.\n",
            "    \n",
            "    template(pattern, flags=0)\n",
            "        Compile a template pattern, returning a Pattern object\n",
            "\n",
            "DATA\n",
            "    A = <RegexFlag.ASCII: 256>\n",
            "    ASCII = <RegexFlag.ASCII: 256>\n",
            "    DOTALL = <RegexFlag.DOTALL: 16>\n",
            "    I = <RegexFlag.IGNORECASE: 2>\n",
            "    IGNORECASE = <RegexFlag.IGNORECASE: 2>\n",
            "    L = <RegexFlag.LOCALE: 4>\n",
            "    LOCALE = <RegexFlag.LOCALE: 4>\n",
            "    M = <RegexFlag.MULTILINE: 8>\n",
            "    MULTILINE = <RegexFlag.MULTILINE: 8>\n",
            "    S = <RegexFlag.DOTALL: 16>\n",
            "    U = <RegexFlag.UNICODE: 32>\n",
            "    UNICODE = <RegexFlag.UNICODE: 32>\n",
            "    VERBOSE = <RegexFlag.VERBOSE: 64>\n",
            "    X = <RegexFlag.VERBOSE: 64>\n",
            "    __all__ = ['match', 'fullmatch', 'search', 'sub', 'subn', 'split', 'fi...\n",
            "\n",
            "VERSION\n",
            "    2.2.1\n",
            "\n",
            "FILE\n",
            "    /usr/lib/python3.7/re.py\n",
            "\n",
            "\n"
          ]
        }
      ],
      "source": [
        "help(re)"
      ]
    },
    {
      "cell_type": "markdown",
      "source": [
        "You can also use dir function"
      ],
      "metadata": {
        "id": "3vh720kqCjiz"
      }
    },
    {
      "cell_type": "code",
      "execution_count": null,
      "metadata": {
        "id": "_7nubMM3Cji0",
        "colab": {
          "base_uri": "https://localhost:8080/"
        },
        "outputId": "41d8f328-2586-42b3-b442-cef153a356f7"
      },
      "outputs": [
        {
          "output_type": "execute_result",
          "data": {
            "text/plain": [
              "['A',\n",
              " 'ASCII',\n",
              " 'DEBUG',\n",
              " 'DOTALL',\n",
              " 'I',\n",
              " 'IGNORECASE',\n",
              " 'L',\n",
              " 'LOCALE',\n",
              " 'M',\n",
              " 'MULTILINE',\n",
              " 'Match',\n",
              " 'Pattern',\n",
              " 'RegexFlag',\n",
              " 'S',\n",
              " 'Scanner',\n",
              " 'T',\n",
              " 'TEMPLATE',\n",
              " 'U',\n",
              " 'UNICODE',\n",
              " 'VERBOSE',\n",
              " 'X',\n",
              " '_MAXCACHE',\n",
              " '__all__',\n",
              " '__builtins__',\n",
              " '__cached__',\n",
              " '__doc__',\n",
              " '__file__',\n",
              " '__loader__',\n",
              " '__name__',\n",
              " '__package__',\n",
              " '__spec__',\n",
              " '__version__',\n",
              " '_cache',\n",
              " '_compile',\n",
              " '_compile_repl',\n",
              " '_expand',\n",
              " '_locale',\n",
              " '_pickle',\n",
              " '_special_chars_map',\n",
              " '_subx',\n",
              " 'compile',\n",
              " 'copyreg',\n",
              " 'enum',\n",
              " 'error',\n",
              " 'escape',\n",
              " 'findall',\n",
              " 'finditer',\n",
              " 'fullmatch',\n",
              " 'functools',\n",
              " 'match',\n",
              " 'purge',\n",
              " 'search',\n",
              " 'split',\n",
              " 'sre_compile',\n",
              " 'sre_parse',\n",
              " 'sub',\n",
              " 'subn',\n",
              " 'template']"
            ]
          },
          "metadata": {},
          "execution_count": 3
        }
      ],
      "source": [
        "dir(re)"
      ]
    },
    {
      "cell_type": "markdown",
      "source": [
        "Raw Strings\n",
        "\n",
        "Lets first understand the meaning of back slash in regular strings\n",
        "Some famous back slash characters are\n",
        "\\n for the new line,\n",
        "\n",
        "\\t for the tab,\n",
        "\n",
        "\\u for the unicode\n",
        "\n",
        "If we write like this\n"
      ],
      "metadata": {
        "id": "4CxNJ0M7Cjnt"
      }
    },
    {
      "cell_type": "code",
      "execution_count": null,
      "metadata": {
        "id": "gv_tf6OhCjnt"
      },
      "outputs": [],
      "source": [
        "#path = \"C:\\Users\\PR_Jul_2018_Sar.xlsx\""
      ]
    },
    {
      "cell_type": "markdown",
      "source": [
        "We have a syntax error because of the backslash U character over here, so python has interpreted this combination of \\U as a special character.\n",
        "\n",
        "We can solve this issue by turning the regular string into a raw string. Just prepend the string with a lowercase r"
      ],
      "metadata": {
        "id": "91ZmaZM6Cjsw"
      }
    },
    {
      "cell_type": "code",
      "execution_count": null,
      "metadata": {
        "id": "NdS3k_iECjsx"
      },
      "outputs": [],
      "source": [
        "path = r\"C:\\Users\\PR_Jul_2018_Sar.xlsx\""
      ]
    },
    {
      "cell_type": "markdown",
      "source": [
        "This time no syntax error is being raised\n",
        "\n",
        "The same issue happens if it finds \\t or \\new eg. Python thinks that it is the tab or new line.\n",
        "\n",
        "In order to avoid this we are always prepend our regular expressions with the letter r.\n",
        "\n",
        "![image.png](data:image/png;base64,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)"
      ],
      "metadata": {
        "id": "Kvz6NN8JCjw-"
      }
    },
    {
      "cell_type": "markdown",
      "source": [
        "![image.png](data:image/png;base64,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)"
      ],
      "metadata": {
        "id": "b_dS-mf5MHIS"
      }
    },
    {
      "cell_type": "markdown",
      "source": [
        "The first method we'll learn is re.compile() method. This method simply compiles the regular expression pattern provided as a string into a regular expression object which can then be handled using various other methods such as match or search.\n",
        "\n",
        "Notice that I have used r to prepend the regular expression pattern in order to classify this string as the raw string.\n",
        "\n",
        "\\d is called a special sequence and it will match a digit, any digit from 0 to 9 in a target string. The 4 inside curly braces means that the preceding pattern  -in this case a digit- has to occur exactly four times in a row. This means we are matching any number such as 1234, 3416 etc."
      ],
      "metadata": {
        "id": "pF2V74GZMWBy"
      }
    },
    {
      "cell_type": "code",
      "execution_count": null,
      "metadata": {
        "id": "y3SKUMiCCjw_"
      },
      "outputs": [],
      "source": [
        "s = r\"\\d{4}\""
      ]
    },
    {
      "cell_type": "markdown",
      "source": [
        "The above string r\"\\d{4}\" is just a string, you can verify this using the type function"
      ],
      "metadata": {
        "id": "D9DszfLOCj1U"
      }
    },
    {
      "cell_type": "code",
      "execution_count": null,
      "metadata": {
        "colab": {
          "base_uri": "https://localhost:8080/"
        },
        "id": "-Oo-X5Y-Cj1V",
        "outputId": "f3b106c0-055e-4f68-9840-69120c4c1247"
      },
      "outputs": [
        {
          "output_type": "execute_result",
          "data": {
            "text/plain": [
              "str"
            ]
          },
          "metadata": {},
          "execution_count": 7
        }
      ],
      "source": [
        "type(s)"
      ]
    },
    {
      "cell_type": "markdown",
      "source": [
        "Now lets use the compile method to turn this string into a regular expression object, that we can work with."
      ],
      "metadata": {
        "id": "shZq3RDjCj5w"
      }
    },
    {
      "cell_type": "code",
      "execution_count": null,
      "metadata": {
        "id": "YsXj19uKCj5x"
      },
      "outputs": [],
      "source": [
        "t = re.compile(s)"
      ]
    },
    {
      "cell_type": "markdown",
      "source": [
        "Lets check the type of t"
      ],
      "metadata": {
        "id": "BFv7hRJyCj97"
      }
    },
    {
      "cell_type": "code",
      "execution_count": null,
      "metadata": {
        "colab": {
          "base_uri": "https://localhost:8080/"
        },
        "id": "cBqEfVvqCj97",
        "outputId": "c1224d8c-33b4-4ca8-f039-56fc8ab56c29"
      },
      "outputs": [
        {
          "output_type": "execute_result",
          "data": {
            "text/plain": [
              "re.Pattern"
            ]
          },
          "metadata": {},
          "execution_count": 9
        }
      ],
      "source": [
        "type(t)"
      ]
    },
    {
      "cell_type": "markdown",
      "source": [
        "This allows us to further work with this object using regular expressions. The compile method is useful when you want to search for the same pattern over and over again, perhaps in different target strings. You are actually compiling the regular expressions once at the beginning, and then use another method such as the findall method, to look for occurrences of the same pattern inside various target strings eg.\n",
        "\n",
        "Lets say our target string is as given below:"
      ],
      "metadata": {
        "id": "NfgIsgYZCkCS"
      }
    },
    {
      "cell_type": "code",
      "execution_count": null,
      "metadata": {
        "id": "AtthE774CkCT"
      },
      "outputs": [],
      "source": [
        "\n",
        "string = \"The Euro STOXX 600 index, which tracks all stock markets across Europe including the FTSE, fell by 11.48% – the worst day since it launched in 1998. The panic selling prompted by the coronavirus has wiped £2.7tn off the value of STOXX 600 shares since its all-time peak on 19 February.\""
      ]
    },
    {
      "cell_type": "markdown",
      "source": [
        "Lets look at findall method to look for any four digit numbers inside the string."
      ],
      "metadata": {
        "id": "iYvIdoYnCkFz"
      }
    },
    {
      "cell_type": "code",
      "execution_count": null,
      "metadata": {
        "colab": {
          "base_uri": "https://localhost:8080/"
        },
        "id": "pZKtytm_CkFz",
        "outputId": "7188115f-97c4-45b5-e37e-3988fdb8b0d1"
      },
      "outputs": [
        {
          "output_type": "execute_result",
          "data": {
            "text/plain": [
              "['1998']"
            ]
          },
          "metadata": {},
          "execution_count": 11
        }
      ],
      "source": [
        "result = re.findall(t,string)\n",
        "result"
      ]
    },
    {
      "cell_type": "markdown",
      "source": [
        "This object t can be used for searching four consecutive digits in other target strings as well. However for methods such as search(), match() or findall(), you don't need to compile. as compiling and operations are done at the same time.\n",
        "\n",
        "So compile first if you want to use the search string again and again.\n",
        "\n",
        "Lets Look at the search Method.\n",
        "\n",
        "So we write re.search().\n",
        "\n",
        "And inside the () we have our regular expressions, we call it pattern.\n",
        "\n",
        "then , and then string, which is a variable referencing our target string.\n",
        "\n",
        "And finally we have flags, which is optional. By default no flags are applied\n",
        "\n",
        "so we have re.search(pattern, string, flags)\n",
        "\n",
        "So search method looks inside the entire target string and looks occurrences of the pattern that we specifiy as the first argument.\n",
        "\n",
        "So lets do this.\n",
        "\n",
        "Here we are searching for three consecutive digits in the target string\n",
        "\n"
      ],
      "metadata": {
        "id": "usW7YP8sCkJW"
      }
    },
    {
      "cell_type": "code",
      "execution_count": null,
      "metadata": {
        "colab": {
          "base_uri": "https://localhost:8080/"
        },
        "id": "FIk3YrwsCkJW",
        "outputId": "b60a852e-5462-4bd3-9796-de787df4cb24"
      },
      "outputs": [
        {
          "output_type": "execute_result",
          "data": {
            "text/plain": [
              "<re.Match object; span=(15, 18), match='600'>"
            ]
          },
          "metadata": {},
          "execution_count": 12
        }
      ],
      "source": [
        "result = re.search(r\"\\d{3}\",string)\n",
        "result"
      ]
    },
    {
      "cell_type": "markdown",
      "source": [
        "1.   First the result returned by the object is the match object\n",
        "\n"
      ],
      "metadata": {
        "id": "49o0vzu4CkM3"
      }
    },
    {
      "cell_type": "code",
      "execution_count": null,
      "metadata": {
        "colab": {
          "base_uri": "https://localhost:8080/"
        },
        "id": "BBqzVRWMCkM3",
        "outputId": "85aa7f71-c394-4e5f-ea42-61dd67c8a76f"
      },
      "outputs": [
        {
          "output_type": "execute_result",
          "data": {
            "text/plain": [
              "re.Match"
            ]
          },
          "metadata": {},
          "execution_count": 13
        }
      ],
      "source": [
        "type(result)"
      ]
    },
    {
      "cell_type": "markdown",
      "source": [
        "2. The search method only returns the first occurrence of the pattern in the target string.\n",
        "\n",
        "Though there are three occurrences, but search method only finds the first and then stops its execution\n",
        "\n",
        "So going to span(15,18), notice that there are two numbers in the tuple.\n",
        "\n",
        "The first number (15) is the index at which the first group of three consecutive groups has been located.\n",
        "\n",
        "The second number (18) is the index of the first character following the match.\n",
        "\n",
        "Think of this as a string slice\n",
        "\n",
        "Actually if we use these indexes for slicing the target string, we should obtain 600, so lets try this\n",
        ""
      ],
      "metadata": {
        "id": "MGTqO1ZSCkQ4"
      }
    },
    {
      "cell_type": "code",
      "execution_count": null,
      "metadata": {
        "colab": {
          "base_uri": "https://localhost:8080/",
          "height": 35
        },
        "id": "E7Q_T_AuCkQ4",
        "outputId": "3c4983be-371d-4e7d-c426-711f6f85fd13"
      },
      "outputs": [
        {
          "output_type": "execute_result",
          "data": {
            "text/plain": [
              "'600'"
            ],
            "application/vnd.google.colaboratory.intrinsic+json": {
              "type": "string"
            }
          },
          "metadata": {},
          "execution_count": 14
        }
      ],
      "source": [
        "string[15:18]"
      ]
    },
    {
      "cell_type": "markdown",
      "source": [
        "You see\n",
        "\n",
        "After the span variable we have the match itself 600.\n",
        "\n",
        "On the other hand if the search method doesnt find a match, then it will return None.\n",
        "\n",
        "Lets assume that we are searching for groups of 10 consecutive integers"
      ],
      "metadata": {
        "id": "6p0deIqECkUh"
      }
    },
    {
      "cell_type": "code",
      "execution_count": null,
      "metadata": {
        "id": "lWEdN5n6CkUi"
      },
      "outputs": [],
      "source": [
        "result = re.search(r\"\\d{10}\",string)\n",
        "result"
      ]
    },
    {
      "cell_type": "markdown",
      "source": [
        "The search method doesnt return anything as there was no match.\n",
        "\n",
        "Let us check the type of result"
      ],
      "metadata": {
        "id": "0OPK3OvuCkX-"
      }
    },
    {
      "cell_type": "code",
      "execution_count": null,
      "metadata": {
        "colab": {
          "base_uri": "https://localhost:8080/"
        },
        "id": "o2fHCnkoCkX_",
        "outputId": "862ca215-0f59-4280-abc6-55097bf178df"
      },
      "outputs": [
        {
          "output_type": "execute_result",
          "data": {
            "text/plain": [
              "NoneType"
            ]
          },
          "metadata": {},
          "execution_count": 16
        }
      ],
      "source": [
        "type(result)"
      ]
    },
    {
      "cell_type": "markdown",
      "source": [
        "We get a none type instead of re.match.\n",
        "\n",
        "Lets see the re.match() method\n",
        "\n",
        "the match method returns a match object if and only if the pattern is located at the beginning of the string- so starting with the first character of the string, otherwise it will return none.\n",
        "\n",
        "Lets check with our string. Our string starts with the word 'The'.\n",
        "\n",
        "So using 'match', lets try to scan for this pattern at the beginning of the string and lets see the result.\n",
        "\n",
        "Now the word The is a three letter word, so regular expression should be similar to the one used in previous video, only that this time we are not searching for digits but letters.\n",
        "\n"
      ],
      "metadata": {
        "id": "OZfIdYxICkbo"
      }
    },
    {
      "cell_type": "code",
      "execution_count": null,
      "metadata": {
        "colab": {
          "base_uri": "https://localhost:8080/"
        },
        "id": "RS2snucsCkbp",
        "outputId": "b074aaaa-55ac-464f-944e-610a222a726a"
      },
      "outputs": [
        {
          "output_type": "execute_result",
          "data": {
            "text/plain": [
              "<re.Match object; span=(0, 3), match='The'>"
            ]
          },
          "metadata": {},
          "execution_count": 17
        }
      ],
      "source": [
        "result = re.match(r\"\\w{3}\",string)\n",
        "result"
      ]
    },
    {
      "cell_type": "markdown",
      "source": [
        "\\w is used for the words.\n",
        "\n",
        "It doesn't match whitespaces\n",
        "\n",
        "It rep any alphanumeric letter A-Za-z0-9_\n",
        "\n",
        "Lets assume that we are looking for a four letter word at the beginning of the string"
      ],
      "metadata": {
        "id": "tlOQHNWOCkfK"
      }
    },
    {
      "cell_type": "code",
      "execution_count": null,
      "metadata": {
        "id": "9kLHqAsYCkfL"
      },
      "outputs": [],
      "source": [
        "result = re.match(\"r\\w{4}\",string)\n",
        "result"
      ]
    },
    {
      "cell_type": "markdown",
      "source": [
        "Nothing is returned.\n",
        "\n"
      ],
      "metadata": {
        "id": "sqozVqtaCkjE"
      }
    },
    {
      "cell_type": "code",
      "execution_count": null,
      "metadata": {
        "colab": {
          "base_uri": "https://localhost:8080/"
        },
        "id": "Ho-rtVjtCkjE",
        "outputId": "84e24b73-e515-45a7-8ad8-7aad32fe61ff"
      },
      "outputs": [
        {
          "output_type": "execute_result",
          "data": {
            "text/plain": [
              "NoneType"
            ]
          },
          "metadata": {},
          "execution_count": 19
        }
      ],
      "source": [
        "type(result)"
      ]
    },
    {
      "cell_type": "markdown",
      "source": [
        "Lets study the fullmatch() method.\n",
        "\n",
        "Unlike match which performs the pattern matching only at the beginning of the string, the fullmatch() method returns a match object only if the pattern matches the **entire** target string.\n",
        "\n",
        "Lets first check the length of the target string"
      ],
      "metadata": {
        "id": "djUKCXyDCkm7"
      }
    },
    {
      "cell_type": "code",
      "execution_count": null,
      "metadata": {
        "colab": {
          "base_uri": "https://localhost:8080/"
        },
        "id": "wt3XdHntCkm7",
        "outputId": "5679ef26-bcbc-44fe-c5c8-2a9070216151"
      },
      "outputs": [
        {
          "output_type": "execute_result",
          "data": {
            "text/plain": [
              "285"
            ]
          },
          "metadata": {},
          "execution_count": 20
        }
      ],
      "source": [
        "len(string)"
      ]
    },
    {
      "cell_type": "markdown",
      "source": [
        "So we have 285 characters in total"
      ],
      "metadata": {
        "id": "KVOHjyOQCkqd"
      }
    },
    {
      "cell_type": "code",
      "execution_count": null,
      "metadata": {
        "colab": {
          "base_uri": "https://localhost:8080/"
        },
        "id": "6p_RaWHBCkqe",
        "outputId": "c096202e-21ff-4070-a4f0-642ac89a948b"
      },
      "outputs": [
        {
          "output_type": "execute_result",
          "data": {
            "text/plain": [
              "<re.Match object; span=(0, 285), match='The Euro STOXX 600 index, which tracks all stock >"
            ]
          },
          "metadata": {},
          "execution_count": 21
        }
      ],
      "source": [
        "result = re.fullmatch(r'.{285}',string)\n",
        "result"
      ]
    },
    {
      "cell_type": "markdown",
      "source": [
        "First notice the . in .{285}. In regex syntex, the dot matches any character except the new line character (\\n)\n",
        "\n",
        "So .{285} basically says I want to match a string of 285 characters\n",
        "\n",
        "Lets look at the result. Match object means the match pefromed successfully. If the target string had multiple lines, the match would have failed.\n",
        "\n",
        "There is a solution for this as well, that means using a special optional flag that includes the new line character, in the set of characters covered by the dot.\n",
        "\n",
        "Lets try \\w"
      ],
      "metadata": {
        "id": "s4K4Jx2pCkto"
      }
    },
    {
      "cell_type": "code",
      "execution_count": null,
      "metadata": {
        "id": "5vkxqQ_ECktp"
      },
      "outputs": [],
      "source": [
        "result = re.fullmatch(r\"\\w{285}\",string)\n",
        "result"
      ]
    },
    {
      "cell_type": "markdown",
      "source": [
        "It it None"
      ],
      "metadata": {
        "id": "vOxjt87rCkxC"
      }
    },
    {
      "cell_type": "code",
      "execution_count": null,
      "metadata": {
        "colab": {
          "base_uri": "https://localhost:8080/"
        },
        "id": "cM4xS-xqCkxD",
        "outputId": "412dd40e-256d-4996-fc58-5e44ed7aa2cc"
      },
      "outputs": [
        {
          "output_type": "execute_result",
          "data": {
            "text/plain": [
              "NoneType"
            ]
          },
          "metadata": {},
          "execution_count": 23
        }
      ],
      "source": [
        "type(result)"
      ]
    },
    {
      "cell_type": "markdown",
      "source": [
        "So the match failed because of whitespaces\n",
        "\n",
        "One of the most frequently methods in re module is definitely the findall() methods.\n",
        "\n",
        "The findall() method searches and returns all the matches that are found inside the target string according to the regular expression pattern.\n",
        "\n",
        "Using this method, the target string is scanned from left to right and the matches are returned in the order they are found as a list of string."
      ],
      "metadata": {
        "id": "g6CJ0v9GCk0X"
      }
    },
    {
      "cell_type": "code",
      "execution_count": null,
      "metadata": {
        "colab": {
          "base_uri": "https://localhost:8080/"
        },
        "id": "MAgM6wEaCk0X",
        "outputId": "7da6aa13-54f0-44de-c97d-da7c86745e1a"
      },
      "outputs": [
        {
          "output_type": "execute_result",
          "data": {
            "text/plain": [
              "['600', '199', '600']"
            ]
          },
          "metadata": {},
          "execution_count": 24
        }
      ],
      "source": [
        " result= re.findall(r'\\d{3}',string)\n",
        " result"
      ]
    },
    {
      "cell_type": "markdown",
      "source": [
        "So it found all the three digits.\n",
        "\n",
        "The result is of type list"
      ],
      "metadata": {
        "id": "C150LDIUCk3i"
      }
    },
    {
      "cell_type": "code",
      "execution_count": null,
      "metadata": {
        "colab": {
          "base_uri": "https://localhost:8080/"
        },
        "id": "n-yXGvc3Ck3i",
        "outputId": "2f457be2-ce1e-4d0a-b676-f7d5702431ba"
      },
      "outputs": [
        {
          "output_type": "execute_result",
          "data": {
            "text/plain": [
              "list"
            ]
          },
          "metadata": {},
          "execution_count": 25
        }
      ],
      "source": [
        "type(result)"
      ]
    },
    {
      "cell_type": "markdown",
      "source": [
        "If no such pattern is found, the result is an empty list"
      ],
      "metadata": {
        "id": "--Q8WhvOCk7T"
      }
    },
    {
      "cell_type": "code",
      "execution_count": null,
      "metadata": {
        "colab": {
          "base_uri": "https://localhost:8080/"
        },
        "id": "kmG2sJkpCk7U",
        "outputId": "d34fc362-22f9-4139-e23a-c9d611656539"
      },
      "outputs": [
        {
          "output_type": "execute_result",
          "data": {
            "text/plain": [
              "[]"
            ]
          },
          "metadata": {},
          "execution_count": 26
        }
      ],
      "source": [
        "result = re.findall(r\"\\d{5}\",string)\n",
        "result"
      ]
    },
    {
      "cell_type": "markdown",
      "source": [
        "You can see the result is an empty list.\n",
        "\n",
        "**re.split() method**\n",
        "\n",
        "Lets think the default split method in python, which is specific to strings.\n",
        "\n",
        "The default split method splits the string by a certain delimiter.\n",
        "\n",
        "This delimiter is a fixed string that you define inside the paranthesis.\n",
        "\n",
        "So lets consider our target string once again. We can use the default split method to split the string using the whitespace as a delimiter.\n",
        "\n",
        "This means that the result is going to be a list of all the words in the string that were previously separated by a whitespace."
      ],
      "metadata": {
        "id": "xJBTyBznCk-b"
      }
    },
    {
      "cell_type": "code",
      "execution_count": null,
      "metadata": {
        "colab": {
          "base_uri": "https://localhost:8080/"
        },
        "id": "Vqz8G2g4Ck-c",
        "outputId": "00dc47d4-a666-4e1a-e0db-81256a2d23d7"
      },
      "outputs": [
        {
          "output_type": "execute_result",
          "data": {
            "text/plain": [
              "['The',\n",
              " 'Euro',\n",
              " 'STOXX',\n",
              " '600',\n",
              " 'index,',\n",
              " 'which',\n",
              " 'tracks',\n",
              " 'all',\n",
              " 'stock',\n",
              " 'markets',\n",
              " 'across',\n",
              " 'Europe',\n",
              " 'including',\n",
              " 'the',\n",
              " 'FTSE,',\n",
              " 'fell',\n",
              " 'by',\n",
              " '11.48%',\n",
              " '–',\n",
              " 'the',\n",
              " 'worst',\n",
              " 'day',\n",
              " 'since',\n",
              " 'it',\n",
              " 'launched',\n",
              " 'in',\n",
              " '1998.',\n",
              " 'The',\n",
              " 'panic',\n",
              " 'selling',\n",
              " 'prompted',\n",
              " 'by',\n",
              " 'the',\n",
              " 'coronavirus',\n",
              " 'has',\n",
              " 'wiped',\n",
              " '£2.7tn',\n",
              " 'off',\n",
              " 'the',\n",
              " 'value',\n",
              " 'of',\n",
              " 'STOXX',\n",
              " '600',\n",
              " 'shares',\n",
              " 'since',\n",
              " 'its',\n",
              " 'all-time',\n",
              " 'peak',\n",
              " 'on',\n",
              " '19',\n",
              " 'February.']"
            ]
          },
          "metadata": {},
          "execution_count": 27
        }
      ],
      "source": [
        "string.split(\" \")"
      ]
    },
    {
      "cell_type": "markdown",
      "source": [
        "We can achieve the similar result from split method in the re module."
      ],
      "metadata": {
        "id": "ik7pvizYClBr"
      }
    },
    {
      "cell_type": "code",
      "execution_count": null,
      "metadata": {
        "colab": {
          "base_uri": "https://localhost:8080/"
        },
        "id": "mcfGosznClBr",
        "outputId": "0c0e2134-ca8c-4ded-f669-b2e4f0b0c07f"
      },
      "outputs": [
        {
          "output_type": "execute_result",
          "data": {
            "text/plain": [
              "['The',\n",
              " 'Euro',\n",
              " 'STOXX',\n",
              " '600',\n",
              " 'index,',\n",
              " 'which',\n",
              " 'tracks',\n",
              " 'all',\n",
              " 'stock',\n",
              " 'markets',\n",
              " 'across',\n",
              " 'Europe',\n",
              " 'including',\n",
              " 'the',\n",
              " 'FTSE,',\n",
              " 'fell',\n",
              " 'by',\n",
              " '11.48%',\n",
              " '–',\n",
              " 'the',\n",
              " 'worst',\n",
              " 'day',\n",
              " 'since',\n",
              " 'it',\n",
              " 'launched',\n",
              " 'in',\n",
              " '1998.',\n",
              " 'The',\n",
              " 'panic',\n",
              " 'selling',\n",
              " 'prompted',\n",
              " 'by',\n",
              " 'the',\n",
              " 'coronavirus',\n",
              " 'has',\n",
              " 'wiped',\n",
              " '£2.7tn',\n",
              " 'off',\n",
              " 'the',\n",
              " 'value',\n",
              " 'of',\n",
              " 'STOXX',\n",
              " '600',\n",
              " 'shares',\n",
              " 'since',\n",
              " 'its',\n",
              " 'all-time',\n",
              " 'peak',\n",
              " 'on',\n",
              " '19',\n",
              " 'February.']"
            ]
          },
          "metadata": {},
          "execution_count": 28
        }
      ],
      "source": [
        "result = re.split(r\"\\s\",string)\n",
        "result"
      ]
    },
    {
      "cell_type": "markdown",
      "source": [
        "\\s is another special sequence it matches any white space character \\n,\\t,\\r.\n",
        "\n",
        "So what's the difference between default split an re split.\n",
        "\n",
        "With re method, you can specify a pattern for the delimiter, while with a default split method, you could have used only a fixed character or set of characters.\n",
        "\n",
        "So you can split by , by . or any combination of any two consecutive digits, or by Words that start with a capital letter.\n",
        "\n",
        "What if no pattern is found\n",
        "\n",
        "Then string is not split in any way. eg. the following, we are looking for 3 consecutive spaces"
      ],
      "metadata": {
        "id": "9Ibu78urClFJ"
      }
    },
    {
      "cell_type": "code",
      "execution_count": null,
      "metadata": {
        "colab": {
          "base_uri": "https://localhost:8080/"
        },
        "id": "_ZzCq0o3ClFJ",
        "outputId": "a5d1f972-27ff-41b4-93af-21182955a4cd"
      },
      "outputs": [
        {
          "output_type": "execute_result",
          "data": {
            "text/plain": [
              "['The Euro STOXX 600 index, which tracks all stock markets across Europe including the FTSE, fell by 11.48% – the worst day since it launched in 1998. The panic selling prompted by the coronavirus has wiped £2.7tn off the value of STOXX 600 shares since its all-time peak on 19 February.']"
            ]
          },
          "metadata": {},
          "execution_count": 29
        }
      ],
      "source": [
        "result = re.split(r\"\\s{3}\",string)\n",
        "result"
      ]
    },
    {
      "cell_type": "markdown",
      "source": [
        "So in above, the string still generated a list, however the list contained only one element. string itself\n",
        "\n",
        "**re.sub()**\n",
        "\n",
        "It is used for replacing one or more occurrences of a certain pattern in the target string with another string. Lets substitute all the Upper case words with the word INDEX.\n",
        "\n",
        "So to do that we need to write the regular expression pattern that matches each of these words, then replace each occurrence of the pattern with the word INDEX. The general syntax for the sub method is the following\n",
        "\n",
        "**re.sub(pattern, replacement, string, count,flags)**\n",
        "\n",
        "pattern to look for inside the target string\n",
        "\n",
        "**count ( optional):** max number of pattern occurrence to be replaced . must be a positive integer, by default it is zero, means all occurrence need to be replaced.\n",
        "\n",
        "flags(optional)"
      ],
      "metadata": {
        "id": "r0dDhGluClJH"
      }
    },
    {
      "cell_type": "code",
      "execution_count": null,
      "metadata": {
        "colab": {
          "base_uri": "https://localhost:8080/",
          "height": 53
        },
        "id": "934qDWiFClJI",
        "outputId": "a34d008c-197f-4a18-fcf0-4e86d710ed5d"
      },
      "outputs": [
        {
          "output_type": "execute_result",
          "data": {
            "text/plain": [
              "'The Euro INDEX 600 index, which tracks all stock markets across Europe including the INDEX, fell by 11.48% – the worst day since it launched in 1998. The panic selling prompted by the coronavirus has wiped £2.7tn off the value of INDEX 600 shares since its all-time peak on 19 February.'"
            ],
            "application/vnd.google.colaboratory.intrinsic+json": {
              "type": "string"
            }
          },
          "metadata": {},
          "execution_count": 30
        }
      ],
      "source": [
        "result=re.sub(r\"[A-Z]{2,}\",\"INDEX\",string)\n",
        "result"
      ]
    },
    {
      "cell_type": "markdown",
      "source": [
        "[A-Z] is called a character class. It means that we are expecting a character from A to Z in upper case exclusively. There is also a lower case equivalent of this class which is [a-z], it stands for any lowercase letter.\n",
        "\n",
        "{2,}: It specifies how many times this replacement will repeat. {2,} means we are expecting the pattern or character to repeat at least twice\n",
        "\n",
        "Remember the fourth argument which is count(), this will set the max number of replacements that we want to make inside the string. Lets set the value of count to 2. So we want to replace only the first two matches."
      ],
      "metadata": {
        "id": "xOrRf6KnClMz"
      }
    },
    {
      "cell_type": "code",
      "execution_count": null,
      "metadata": {
        "id": "Ir8MNp64ClMz",
        "colab": {
          "base_uri": "https://localhost:8080/",
          "height": 53
        },
        "outputId": "9da8dfc1-4ab0-4b5b-87b7-cbd6df436e2b"
      },
      "outputs": [
        {
          "output_type": "execute_result",
          "data": {
            "text/plain": [
              "'The Euro INDEX 600 index, which tracks all stock markets across Europe including the INDEX, fell by 11.48% – the worst day since it launched in 1998. The panic selling prompted by the coronavirus has wiped £2.7tn off the value of STOXX 600 shares since its all-time peak on 19 February.'"
            ],
            "application/vnd.google.colaboratory.intrinsic+json": {
              "type": "string"
            }
          },
          "metadata": {},
          "execution_count": 31
        }
      ],
      "source": [
        "result = re.sub(r\"[A-Z]{2,}\",'INDEX',string,2)\n",
        "result"
      ]
    },
    {
      "cell_type": "markdown",
      "source": [
        "So this time we have replaced only the two capital letters.\n",
        "\n",
        "**re.subn()**\n",
        "\n",
        "Although it performs the same task as the sub() method, the result it returns is a bit different.\n",
        "\n",
        " The subn method returns a tuple consisting of the new version of the target string after all the replacements have been made as the first element of the tuple and then the number of replacements it has made as the second element of the tuple."
      ],
      "metadata": {
        "id": "oOA2OAq3ClQK"
      }
    },
    {
      "cell_type": "code",
      "execution_count": null,
      "metadata": {
        "id": "eij_7DysClQL",
        "colab": {
          "base_uri": "https://localhost:8080/"
        },
        "outputId": "11d7c2dc-0077-4a2c-d46a-722535ea6ef4"
      },
      "outputs": [
        {
          "output_type": "execute_result",
          "data": {
            "text/plain": [
              "('The Euro INDEX 600 index, which tracks all stock markets across Europe including the INDEX, fell by 11.48% – the worst day since it launched in 1998. The panic selling prompted by the coronavirus has wiped £2.7tn off the value of INDEX 600 shares since its all-time peak on 19 February.',\n",
              " 3)"
            ]
          },
          "metadata": {},
          "execution_count": 32
        }
      ],
      "source": [
        "result = re.subn(r'[A-Z]{2,}','INDEX',string)\n",
        "result"
      ]
    },
    {
      "cell_type": "markdown",
      "source": [
        "If you use count argument with subn, the value of the second tuple should change accordingly"
      ],
      "metadata": {
        "id": "cEa6HljZClTr"
      }
    },
    {
      "cell_type": "code",
      "execution_count": null,
      "metadata": {
        "id": "_s3AUM8zClTs",
        "colab": {
          "base_uri": "https://localhost:8080/"
        },
        "outputId": "ca2175a9-d999-4fe4-a253-24253ff992cb"
      },
      "outputs": [
        {
          "output_type": "execute_result",
          "data": {
            "text/plain": [
              "('The Euro INDEX 600 index, which tracks all stock markets across Europe including the INDEX, fell by 11.48% – the worst day since it launched in 1998. The panic selling prompted by the coronavirus has wiped £2.7tn off the value of STOXX 600 shares since its all-time peak on 19 February.',\n",
              " 2)"
            ]
          },
          "metadata": {},
          "execution_count": 33
        }
      ],
      "source": [
        "result = re.subn(r'[A-Z]{2,}','INDEX',string,2)\n",
        "result"
      ]
    },
    {
      "cell_type": "markdown",
      "source": [
        "**Group and Groups**\n",
        "\n",
        "In this we are going to discuss groups in regard to regular expressions.\n",
        "\n",
        "More often than not, specially when having target strings larger than just a few words or sentences, we are interested in matching several distinct patterns inside the same string.\n",
        "\n",
        "For example we are interested in finding matches for a word that ends in ex, such as index as well as matching a date such as 19 february\n",
        "\n",
        "To deal with such tasks we are provided with group and groups methods from the re module."
      ],
      "metadata": {
        "id": "YE_ivFJMClXh"
      }
    },
    {
      "cell_type": "code",
      "execution_count": null,
      "metadata": {
        "id": "9unL-pQmClXi",
        "colab": {
          "base_uri": "https://localhost:8080/",
          "height": 53
        },
        "outputId": "041c6eba-2c49-4bae-b84a-1c371e24fcba"
      },
      "outputs": [
        {
          "output_type": "execute_result",
          "data": {
            "text/plain": [
              "'The Euro STOXX 600 index, which tracks all stock markets across Europe including the FTSE, fell by 11.48% – the worst day since it launched in 1998. The panic selling prompted by the coronavirus has wiped £2.7tn off the value of STOXX 600 shares since its all-time peak on 19 February.'"
            ],
            "application/vnd.google.colaboratory.intrinsic+json": {
              "type": "string"
            }
          },
          "metadata": {},
          "execution_count": 34
        }
      ],
      "source": [
        "result = re.search(r\".+\\s(.+ex).+(\\d\\d\\s.+).\",string)\n",
        "result.group()"
      ]
    },
    {
      "cell_type": "markdown",
      "source": [
        "In order to define and isolate the two patterns that we are looking to match, we need two things:\n",
        "a. First, we need to enclose each of the two patterns inside a pair of paranthesis. These are actually the two groups that we need to identify.\n",
        "\n",
        "So (.+ex) and (\\d\\d\\s.+) are groups\n",
        "\n",
        "2. We need to consider the larger context in which these groups reside.\n",
        "\n",
        "This means that we also care about the location of each of these groups inside the entire target string, that is why we need to provide context or borders for each group.\n",
        "\n",
        "First for the word index that we want to match using a pattern:\n",
        "\n",
        "We know that the word index is not the first word, it is preceded by a single space Thats why in the first group before (.+ex), we have provided \\s. Here . represents any character except the new line + sign indicate that the preceding pattern is repeating one or more time. \\s matches the space character right before the word index.\n",
        "\n",
        "So what this means is that before the first group we have a bunch of chacaters, that we really don't care about and then a space.\n",
        "\n",
        "Now lets focus on the first pair of paranthesis, the first group.(.+ex). Meaning we have a string of one or more consecutive characters ending in ex.\n",
        "\n",
        "Next we also want to match the data at the end of the string. But there is a text between the two. And since this text is a bunch of consecutive characters, we have no new line characters inbetween, we can use the .+ notation once again.\n",
        "\n",
        "Now lets look at the format of the date. So we have two consecutive digits. (\\d\\d\\s.+) which can be 12 followed by a space and followed by the name of the month which can be february march July and Nov and so on. and followed by the dot at the end of the sentence.\n",
        "\n",
        "In (\\d\\d\\s.+), the \\d\\d mark the date of the month, we could have used \\d{2} and the result would have been the same. \\s represents the white space between the day and the month. Finally the month is any character except the new line. Therefore we have .+ notation. Finally we want to match the date located at the end of the sentence, we can provide more context about the location of this pattern, there is dot at the end of sentence, so . is added at the end (\\d\\d\\s.+).\n",
        "\n",
        "With the group or groups method, we can match all the target string which are matched using the provided pattern. Lets see groups"
      ],
      "metadata": {
        "id": "58V6WlUYClbP"
      }
    },
    {
      "cell_type": "code",
      "execution_count": null,
      "metadata": {
        "id": "xKomdybDClbP",
        "colab": {
          "base_uri": "https://localhost:8080/"
        },
        "outputId": "47465f09-cfb4-4184-a404-9fe2e15330d3"
      },
      "outputs": [
        {
          "output_type": "execute_result",
          "data": {
            "text/plain": [
              "('index', '19 February')"
            ]
          },
          "metadata": {},
          "execution_count": 35
        }
      ],
      "source": [
        "result.groups()"
      ]
    },
    {
      "cell_type": "markdown",
      "source": [
        "To access each element separately we can index using the group method. Unlike the string indexing which start at 0, group start with 1\n"
      ],
      "metadata": {
        "id": "NrZxFrU4ClfV"
      }
    },
    {
      "cell_type": "code",
      "execution_count": null,
      "metadata": {
        "id": "C30XjOz_ClfV",
        "colab": {
          "base_uri": "https://localhost:8080/",
          "height": 35
        },
        "outputId": "81db5b90-a855-4820-95e7-f4aef09b1692"
      },
      "outputs": [
        {
          "output_type": "execute_result",
          "data": {
            "text/plain": [
              "'index'"
            ],
            "application/vnd.google.colaboratory.intrinsic+json": {
              "type": "string"
            }
          },
          "metadata": {},
          "execution_count": 36
        }
      ],
      "source": [
        "result.group(1)"
      ]
    },
    {
      "cell_type": "markdown",
      "source": [
        "Next Group"
      ],
      "metadata": {
        "id": "o02zm60TCljA"
      }
    },
    {
      "cell_type": "code",
      "execution_count": null,
      "metadata": {
        "id": "JfRxIvbnCljB",
        "colab": {
          "base_uri": "https://localhost:8080/",
          "height": 35
        },
        "outputId": "7c667577-c458-4aac-dd0f-c95ed2f0f017"
      },
      "outputs": [
        {
          "output_type": "execute_result",
          "data": {
            "text/plain": [
              "'19 February'"
            ],
            "application/vnd.google.colaboratory.intrinsic+json": {
              "type": "string"
            }
          },
          "metadata": {},
          "execution_count": 37
        }
      ],
      "source": [
        "result.group(2)"
      ]
    },
    {
      "cell_type": "markdown",
      "source": [
        "You can also call the group method with no arguments at all, or with 0 as an argument, and the result is going to be the same and that is the entire target string."
      ],
      "metadata": {
        "id": "N9GEW97FClml"
      }
    },
    {
      "cell_type": "code",
      "execution_count": null,
      "metadata": {
        "id": "LNHDwCeCClml",
        "colab": {
          "base_uri": "https://localhost:8080/",
          "height": 53
        },
        "outputId": "5da4196c-2834-46df-99bf-17071ea3577a"
      },
      "outputs": [
        {
          "output_type": "execute_result",
          "data": {
            "text/plain": [
              "'The Euro STOXX 600 index, which tracks all stock markets across Europe including the FTSE, fell by 11.48% – the worst day since it launched in 1998. The panic selling prompted by the coronavirus has wiped £2.7tn off the value of STOXX 600 shares since its all-time peak on 19 February.'"
            ],
            "application/vnd.google.colaboratory.intrinsic+json": {
              "type": "string"
            }
          },
          "metadata": {},
          "execution_count": 38
        }
      ],
      "source": [
        "result.group()"
      ]
    },
    {
      "cell_type": "markdown",
      "source": [
        "Another thing you can do with group as a method, is return the matches as a tuple, by specifying the associated group numbers, in between the paranthesis of group method."
      ],
      "metadata": {
        "id": "dKvobLI2Clqb"
      }
    },
    {
      "cell_type": "code",
      "execution_count": null,
      "metadata": {
        "id": "sjAhZHKFClqb",
        "colab": {
          "base_uri": "https://localhost:8080/"
        },
        "outputId": "88e80ccd-effe-4524-8e26-b353926aa5c9"
      },
      "outputs": [
        {
          "output_type": "execute_result",
          "data": {
            "text/plain": [
              "('index', '19 February')"
            ]
          },
          "metadata": {},
          "execution_count": 39
        }
      ],
      "source": [
        "result.group(1,2)"
      ]
    },
    {
      "cell_type": "markdown",
      "source": [
        "groups work in the same way for methods such as match() and search() which return objects when used.\n",
        "\n",
        "For findall, these methods cannot be applied"
      ],
      "metadata": {
        "id": "dBMXzqpQClut"
      }
    },
    {
      "cell_type": "code",
      "execution_count": null,
      "metadata": {
        "id": "8rePNlOeClut",
        "colab": {
          "base_uri": "https://localhost:8080/"
        },
        "outputId": "00ec37a7-1d4d-4e3a-9b15-d423891b4191"
      },
      "outputs": [
        {
          "output_type": "execute_result",
          "data": {
            "text/plain": [
              "[('index', '19 February')]"
            ]
          },
          "metadata": {},
          "execution_count": 40
        }
      ],
      "source": [
        "result = re.findall(r\".+\\s(.+ex).+(\\d\\d\\s.+).\",string)\n",
        "result"
      ]
    },
    {
      "cell_type": "markdown",
      "source": [
        "However you cannot use result.group() or result.groups()\n",
        "\n",
        "**start(), end() and span() methods**\n",
        "\n",
        "Lets take the previous results"
      ],
      "metadata": {
        "id": "_o7z_Q8PClyF"
      }
    },
    {
      "cell_type": "code",
      "execution_count": null,
      "metadata": {
        "id": "goH5w9T3ClyF",
        "colab": {
          "base_uri": "https://localhost:8080/",
          "height": 35
        },
        "outputId": "a26cd5ca-5f23-47a6-c792-de36f146e204"
      },
      "outputs": [
        {
          "output_type": "execute_result",
          "data": {
            "text/plain": [
              "'index'"
            ],
            "application/vnd.google.colaboratory.intrinsic+json": {
              "type": "string"
            }
          },
          "metadata": {},
          "execution_count": 41
        }
      ],
      "source": [
        "result = re.search(r\".+\\s(.+ex).+(\\d\\d\\s.+).\",string)\n",
        "result.group(1)"
      ]
    },
    {
      "cell_type": "markdown",
      "source": [
        "Other group"
      ],
      "metadata": {
        "id": "xW-fewStCl1n"
      }
    },
    {
      "cell_type": "code",
      "execution_count": null,
      "metadata": {
        "id": "5ytotrx0Cl1n",
        "colab": {
          "base_uri": "https://localhost:8080/",
          "height": 35
        },
        "outputId": "01a06605-d56a-4431-d9b1-876ceac08575"
      },
      "outputs": [
        {
          "output_type": "execute_result",
          "data": {
            "text/plain": [
              "'19 February'"
            ],
            "application/vnd.google.colaboratory.intrinsic+json": {
              "type": "string"
            }
          },
          "metadata": {},
          "execution_count": 42
        }
      ],
      "source": [
        "result.group(2)"
      ]
    },
    {
      "cell_type": "markdown",
      "source": [
        "Now what the start() method does is, it returns the index at which that group starts inside the larger target string. Lets apply this method on group(1)"
      ],
      "metadata": {
        "id": "0KFn9WEgCl5L"
      }
    },
    {
      "cell_type": "code",
      "execution_count": null,
      "metadata": {
        "id": "6ezR6WCvCl5L",
        "colab": {
          "base_uri": "https://localhost:8080/"
        },
        "outputId": "1dd6a13e-1211-4798-e9c1-3bd42c3b1195"
      },
      "outputs": [
        {
          "output_type": "execute_result",
          "data": {
            "text/plain": [
              "19"
            ]
          },
          "metadata": {},
          "execution_count": 43
        }
      ],
      "source": [
        "result.start(1)"
      ]
    },
    {
      "cell_type": "markdown",
      "source": [
        "result.start(2)"
      ],
      "metadata": {
        "id": "tUDnt9hPCl9I"
      }
    },
    {
      "cell_type": "code",
      "execution_count": null,
      "metadata": {
        "id": "isV_oFWzCl9I",
        "colab": {
          "base_uri": "https://localhost:8080/"
        },
        "outputId": "02f5006b-0a21-4c27-8d14-804d7995e43e"
      },
      "outputs": [
        {
          "output_type": "execute_result",
          "data": {
            "text/plain": [
              "273"
            ]
          },
          "metadata": {},
          "execution_count": 44
        }
      ],
      "source": [
        "result.start(2)"
      ]
    },
    {
      "cell_type": "markdown",
      "source": [
        "We can double check that using the default index method in python for strings"
      ],
      "metadata": {
        "id": "tsyroWv1CmAU"
      }
    },
    {
      "cell_type": "code",
      "execution_count": null,
      "metadata": {
        "id": "CbBBL4AyCmAV",
        "colab": {
          "base_uri": "https://localhost:8080/"
        },
        "outputId": "b06cb901-3f86-4fd3-f585-969f25daa0d1"
      },
      "outputs": [
        {
          "output_type": "execute_result",
          "data": {
            "text/plain": [
              "19"
            ]
          },
          "metadata": {},
          "execution_count": 45
        }
      ],
      "source": [
        "string.index(\"index\")"
      ]
    },
    {
      "cell_type": "markdown",
      "source": [
        "for other"
      ],
      "metadata": {
        "id": "_23ke0dGCmE2"
      }
    },
    {
      "cell_type": "code",
      "execution_count": null,
      "metadata": {
        "id": "5XdSBiX-CmE2",
        "colab": {
          "base_uri": "https://localhost:8080/"
        },
        "outputId": "124b8aaf-18c1-4d5b-a845-e061180b1c29"
      },
      "outputs": [
        {
          "output_type": "execute_result",
          "data": {
            "text/plain": [
              "273"
            ]
          },
          "metadata": {},
          "execution_count": 46
        }
      ],
      "source": [
        "string.index(\"19 February\")"
      ]
    },
    {
      "cell_type": "markdown",
      "source": [
        "Now the end() method also returns an index\n",
        "\n",
        "This is the rightmost boundary of the group.Meaning the index of the first character **following** the group not the index of the last character in the group.\n",
        "\n",
        "eg. lets use this"
      ],
      "metadata": {
        "id": "KpUawr6WCmIu"
      }
    },
    {
      "cell_type": "code",
      "execution_count": null,
      "metadata": {
        "id": "0hMkCPjOCmIv",
        "colab": {
          "base_uri": "https://localhost:8080/"
        },
        "outputId": "fd5a3c4b-b760-429f-82dd-57baba973fa6"
      },
      "outputs": [
        {
          "output_type": "execute_result",
          "data": {
            "text/plain": [
              "24"
            ]
          },
          "metadata": {},
          "execution_count": 47
        }
      ],
      "source": [
        "result.end(1)"
      ]
    },
    {
      "cell_type": "markdown",
      "source": [
        "other"
      ],
      "metadata": {
        "id": "1nxccbZeCmMY"
      }
    },
    {
      "cell_type": "code",
      "execution_count": null,
      "metadata": {
        "id": "iLzQkaMzCmMZ",
        "colab": {
          "base_uri": "https://localhost:8080/"
        },
        "outputId": "3060ade7-6689-46ad-df03-e624e686d3e9"
      },
      "outputs": [
        {
          "output_type": "execute_result",
          "data": {
            "text/plain": [
              "284"
            ]
          },
          "metadata": {},
          "execution_count": 48
        }
      ],
      "source": [
        "result.end(2)"
      ]
    },
    {
      "cell_type": "markdown",
      "source": [
        "Lets use these values to slice the target string"
      ],
      "metadata": {
        "id": "LT89oWjdCmPp"
      }
    },
    {
      "cell_type": "code",
      "execution_count": null,
      "metadata": {
        "id": "jbViLKbQCmPq",
        "colab": {
          "base_uri": "https://localhost:8080/",
          "height": 35
        },
        "outputId": "a22417f2-9b44-4bda-bb89-700655bf317b"
      },
      "outputs": [
        {
          "output_type": "execute_result",
          "data": {
            "text/plain": [
              "'index'"
            ],
            "application/vnd.google.colaboratory.intrinsic+json": {
              "type": "string"
            }
          },
          "metadata": {},
          "execution_count": 49
        }
      ],
      "source": [
        "string[19:24]"
      ]
    },
    {
      "cell_type": "markdown",
      "source": [
        "other"
      ],
      "metadata": {
        "id": "bb4At1ViCmUK"
      }
    },
    {
      "cell_type": "code",
      "execution_count": null,
      "metadata": {
        "id": "KY2rYnaBCmUK",
        "colab": {
          "base_uri": "https://localhost:8080/",
          "height": 35
        },
        "outputId": "0adada49-2d8b-4bd6-cdb3-b082f1ee0e01"
      },
      "outputs": [
        {
          "output_type": "execute_result",
          "data": {
            "text/plain": [
              "'19 February'"
            ],
            "application/vnd.google.colaboratory.intrinsic+json": {
              "type": "string"
            }
          },
          "metadata": {},
          "execution_count": 50
        }
      ],
      "source": [
        "string[273:284]"
      ]
    },
    {
      "cell_type": "markdown",
      "source": [
        "The last method I want to share with you is the **span** method\n",
        "\n",
        "This method returns both the start and end index of each group in the target string."
      ],
      "metadata": {
        "id": "I4ABxY2yCmYA"
      }
    },
    {
      "cell_type": "code",
      "execution_count": null,
      "metadata": {
        "id": "wLjfOFmrCmYB",
        "colab": {
          "base_uri": "https://localhost:8080/"
        },
        "outputId": "e8883847-4c49-4cf8-ef15-3535d234b942"
      },
      "outputs": [
        {
          "output_type": "execute_result",
          "data": {
            "text/plain": [
              "(19, 24)"
            ]
          },
          "metadata": {},
          "execution_count": 51
        }
      ],
      "source": [
        "result.span(1)"
      ]
    },
    {
      "cell_type": "markdown",
      "source": [
        "other"
      ],
      "metadata": {
        "id": "wNwOrBf6Cmhc"
      }
    },
    {
      "cell_type": "code",
      "execution_count": null,
      "metadata": {
        "id": "xDtcg4rdCmhc",
        "colab": {
          "base_uri": "https://localhost:8080/"
        },
        "outputId": "5cd0c13f-74fd-47e7-e890-0ef49e2249e3"
      },
      "outputs": [
        {
          "output_type": "execute_result",
          "data": {
            "text/plain": [
              "(273, 284)"
            ]
          },
          "metadata": {},
          "execution_count": 52
        }
      ],
      "source": [
        "result.span(2)"
      ]
    },
    {
      "cell_type": "markdown",
      "source": [
        "Python allows several **optional flags** that you can specify when using regual expressions, such as match, search, findall, split among others.\n",
        "\n",
        "With each of these mehthods, you may or may not specify one of these flags to enable additional functionality and flexibility when performing pattern matching.\n",
        "\n",
        "We are not going to discuss all of the optional flags in this lesson, however, you can find them in documents.\n",
        "\n",
        "We take top three flags.\n",
        "\n",
        "Lets make use of i flag, which means ignore case, it enables case insensitive matching.\n",
        "\n",
        "In string, The is used both as lower and upper string"
      ],
      "metadata": {
        "id": "242CnK1qe9we"
      }
    },
    {
      "cell_type": "code",
      "source": [
        "result = re.findall(r'the',string)\n",
        "result"
      ],
      "metadata": {
        "colab": {
          "base_uri": "https://localhost:8080/"
        },
        "id": "9wNcIHpPdDVg",
        "outputId": "9236279b-e095-494a-c66e-cf6e0018ca20"
      },
      "execution_count": null,
      "outputs": [
        {
          "output_type": "execute_result",
          "data": {
            "text/plain": [
              "['the', 'the', 'the', 'the']"
            ]
          },
          "metadata": {},
          "execution_count": 53
        }
      ]
    },
    {
      "cell_type": "markdown",
      "source": [
        "Out of 6 we can only got 4, to get all , we can ignore case"
      ],
      "metadata": {
        "id": "DM4rvGvye_WF"
      }
    },
    {
      "cell_type": "code",
      "source": [
        "result = re.findall(r'the',string,re.I)\n",
        "result"
      ],
      "metadata": {
        "colab": {
          "base_uri": "https://localhost:8080/"
        },
        "id": "Lb6559dne_WF",
        "outputId": "5c8971a7-90da-4bf3-8b7a-2d497d647d8b"
      },
      "execution_count": null,
      "outputs": [
        {
          "output_type": "execute_result",
          "data": {
            "text/plain": [
              "['The', 'the', 'the', 'The', 'the', 'the']"
            ]
          },
          "metadata": {},
          "execution_count": 54
        }
      ]
    },
    {
      "cell_type": "markdown",
      "source": [
        "re.S flag even includes the . used as stop marks or full stops or newline character"
      ],
      "metadata": {
        "id": "n0P6__v2e_cL"
      }
    },
    {
      "cell_type": "code",
      "source": [
        "string2 = \"Hello\\nPython\"\n",
        "result = re.search(r\".+\",string2)\n",
        "result"
      ],
      "metadata": {
        "colab": {
          "base_uri": "https://localhost:8080/"
        },
        "id": "BIY2__ZWe_cL",
        "outputId": "d7801364-9791-4510-c1fe-2730c01cbedd"
      },
      "execution_count": null,
      "outputs": [
        {
          "output_type": "execute_result",
          "data": {
            "text/plain": [
              "<re.Match object; span=(0, 5), match='Hello'>"
            ]
          },
          "metadata": {},
          "execution_count": 55
        }
      ]
    },
    {
      "cell_type": "markdown",
      "source": [
        "Lets use re.S"
      ],
      "metadata": {
        "id": "ups7vrpxe_fe"
      }
    },
    {
      "cell_type": "code",
      "source": [
        "result = re.search(r\".+\",string2,re.S)\n",
        "result"
      ],
      "metadata": {
        "colab": {
          "base_uri": "https://localhost:8080/"
        },
        "id": "AZyQd4tSe_fe",
        "outputId": "b9f36a98-9c8a-4a72-81ea-2401a5e735b7"
      },
      "execution_count": null,
      "outputs": [
        {
          "output_type": "execute_result",
          "data": {
            "text/plain": [
              "<re.Match object; span=(0, 12), match='Hello\\nPython'>"
            ]
          },
          "metadata": {},
          "execution_count": 56
        }
      ]
    },
    {
      "cell_type": "markdown",
      "source": [
        "This is useful in some scenarios specially when the target string is a multiline string.\n",
        "\n",
        "re.x flag. Useful for better spacing and indentations\n",
        "\n",
        "We can add comments right inside the pattern for reference.\n",
        "eg. we can make this more readable:\n",
        "\n",
        "result = re.findall(r\".+\\s(.+ex).+(\\d\\d\\s.+).\",string)\n",
        "result"
      ],
      "metadata": {
        "id": "ddh7FCyQe_iO"
      }
    },
    {
      "cell_type": "code",
      "source": [
        "string = \"The Euro STOXX 600 index, which tracks all stock markets across Europe including the FTSE, fell by 11.48% – the worst day since it launched in 1998. The panic selling prompted by the coronavirus has wiped £2.7tn off the value of STOXX 600 shares since its all-time peak on 19 February.\"\n",
        "result = re.search(r\"\"\".+\\s # Beginning of string)\n",
        "                      (.+ex) # searching for index\n",
        "                      .+  # Middle of string\n",
        "                      (\\d\\d\\s.+). # Data at the end\"\"\",string,re.X)\n",
        "result.groups()"
      ],
      "metadata": {
        "colab": {
          "base_uri": "https://localhost:8080/"
        },
        "id": "86PAY6bYe_iO",
        "outputId": "57f3a363-ab0d-4eba-a6f1-26906419fe9e"
      },
      "execution_count": null,
      "outputs": [
        {
          "output_type": "execute_result",
          "data": {
            "text/plain": [
              "('index', '19 February')"
            ]
          },
          "metadata": {},
          "execution_count": 57
        }
      ]
    },
    {
      "cell_type": "markdown",
      "source": [
        "\"\"\" means multiline string, commented using # sign.\n",
        "\n",
        "https://docs.python.org/3/howto/regex.html#compilation-flags\n",
        "\n",
        "## Meta characters ( Very Important)\n",
        "\n",
        "**The Dot**\n",
        "\n",
        "The Dot represents any character except new line character \\n. ( Upper and lower case, digits, symbols etc.)\n",
        "\n",
        "\n"
      ],
      "metadata": {
        "id": "uXAZE2wCe_k6"
      }
    },
    {
      "cell_type": "code",
      "source": [
        "result = re.search(r\"(.+)\",string)"
      ],
      "metadata": {
        "id": "sp1eb8JBe_k6"
      },
      "execution_count": null,
      "outputs": []
    },
    {
      "cell_type": "markdown",
      "source": [
        "+ sign is a repetition operator and it means that the previous pattern should repeat one or more times.\n",
        "\n",
        "This means that we are looking to match the sequence of at least one character, any character except the new line, and our target string is indeed such a sequence."
      ],
      "metadata": {
        "id": "1nygLIzJe_nm"
      }
    },
    {
      "cell_type": "code",
      "source": [
        "result"
      ],
      "metadata": {
        "colab": {
          "base_uri": "https://localhost:8080/"
        },
        "id": "5zbqosiEe_nn",
        "outputId": "17640c44-5cf8-44e0-9ff2-b458c4c57d8f"
      },
      "execution_count": null,
      "outputs": [
        {
          "output_type": "execute_result",
          "data": {
            "text/plain": [
              "<re.Match object; span=(0, 285), match='The Euro STOXX 600 index, which tracks all stock >"
            ]
          },
          "metadata": {},
          "execution_count": 59
        }
      ]
    },
    {
      "cell_type": "markdown",
      "source": [
        "Using the group method to see the result"
      ],
      "metadata": {
        "id": "Q1Byzmsve_qR"
      }
    },
    {
      "cell_type": "code",
      "source": [
        "result.group(1)"
      ],
      "metadata": {
        "colab": {
          "base_uri": "https://localhost:8080/",
          "height": 53
        },
        "id": "TupA1ZWJe_qR",
        "outputId": "47cf5747-68e7-410e-f665-12b9663c124a"
      },
      "execution_count": null,
      "outputs": [
        {
          "output_type": "execute_result",
          "data": {
            "text/plain": [
              "'The Euro STOXX 600 index, which tracks all stock markets across Europe including the FTSE, fell by 11.48% – the worst day since it launched in 1998. The panic selling prompted by the coronavirus has wiped £2.7tn off the value of STOXX 600 shares since its all-time peak on 19 February.'"
            ],
            "application/vnd.google.colaboratory.intrinsic+json": {
              "type": "string"
            }
          },
          "metadata": {},
          "execution_count": 60
        }
      ]
    },
    {
      "cell_type": "markdown",
      "source": [
        "If we want the dot to match the new line chacter we can use .\\s\n",
        "\n",
        "Now we discuss the **caret meta character**.\n",
        "\n",
        "It is used to match the pattern only at the beginning of the line.\n",
        "\n",
        "Assume that we want to match any three letters at the beginning of the string we can use the caret character."
      ],
      "metadata": {
        "id": "JcL6nSTqe_s3"
      }
    },
    {
      "cell_type": "code",
      "source": [
        "string = \"The Euro STOXX 600 index, which tracks all stock markets across Europe including the FTSE, fell by 11.48% – the worst day since it launched in 1998. The panic selling prompted by the coronavirus has wiped £2.7tn off the value of STOXX 600 shares since its all-time peak on 19 February.\"\n",
        "result = re.search(r\"^\\w{3}\",string)\n",
        "result"
      ],
      "metadata": {
        "colab": {
          "base_uri": "https://localhost:8080/"
        },
        "id": "twfa5QY7e_s3",
        "outputId": "83b3118c-a4b0-4c2f-d6b4-e2f5ee0e1ad6"
      },
      "execution_count": null,
      "outputs": [
        {
          "output_type": "execute_result",
          "data": {
            "text/plain": [
              "<re.Match object; span=(0, 3), match='The'>"
            ]
          },
          "metadata": {},
          "execution_count": 61
        }
      ]
    },
    {
      "cell_type": "markdown",
      "source": [
        "Lets see in a multi line case, want to find all matches. M is for multiline"
      ],
      "metadata": {
        "id": "510TrKmke_vo"
      }
    },
    {
      "cell_type": "code",
      "source": [
        "string = \"The Euro STOXX 600 index, which tracks all stock markets across Europe including the FTSE, fell by 11.48% – the worst day since it launched in 1998.\\nThe panic selling prompted by the coronavirus has wiped £2.7tn off the value of STOXX 600 shares since its all-time peak on 19 February.\"\n",
        "result = re.findall(r\"^\\w{3}\",string,re.M)\n",
        "result"
      ],
      "metadata": {
        "colab": {
          "base_uri": "https://localhost:8080/"
        },
        "id": "s-xQRgeVe_vo",
        "outputId": "10882104-ed33-4600-ecd0-02a1d7060d17"
      },
      "execution_count": null,
      "outputs": [
        {
          "output_type": "execute_result",
          "data": {
            "text/plain": [
              "['The', 'The']"
            ]
          },
          "metadata": {},
          "execution_count": 62
        }
      ]
    },
    {
      "cell_type": "markdown",
      "source": [
        "**$ Sign**\n",
        "\n",
        "$ matches the regular expression pattern at the end of the line right before each new line characater.\n",
        "\n",
        "As there are two lines we need to use the multiline character."
      ],
      "metadata": {
        "id": "P7TzaZoZe_yO"
      }
    },
    {
      "cell_type": "code",
      "source": [
        "result = re.findall(r\"\\s(\\w{2,})\\W$\",string,re.M)\n",
        "result"
      ],
      "metadata": {
        "colab": {
          "base_uri": "https://localhost:8080/"
        },
        "id": "bLuHpa3ye_yO",
        "outputId": "729ee5c8-5024-4ec0-a742-5d1815c5336c"
      },
      "execution_count": null,
      "outputs": [
        {
          "output_type": "execute_result",
          "data": {
            "text/plain": [
              "['1998', 'February']"
            ]
          },
          "metadata": {},
          "execution_count": 63
        }
      ]
    },
    {
      "cell_type": "markdown",
      "source": [
        "As we know that the word should be preceded by white space so \\s. Following the word we should have some kind of punctuation mark. this is represented by special sequence \\W. This is exactly opposite of \\w, means it matches any non alphanumeric characters.\n",
        "\n",
        "Of course we need to put the regular $ sign at the end of this pattern, because we are looking to match this pattern at the end or at the end of each line of the string\n",
        "\n",
        "**The Asterisk Pattern**\n",
        "\n",
        "The aestisk pattern matches 0 or more repitition of the pattern in a greedy way."
      ],
      "metadata": {
        "id": "r4J6p07Ie_1J"
      }
    },
    {
      "cell_type": "code",
      "source": [
        "result = re.findall(r\"\\d\\d\\d*\",string)\n",
        "result"
      ],
      "metadata": {
        "colab": {
          "base_uri": "https://localhost:8080/"
        },
        "id": "LIYbcmYGe_1K",
        "outputId": "387ba912-7f5a-48c2-afff-9ef463a08371"
      },
      "execution_count": null,
      "outputs": [
        {
          "output_type": "execute_result",
          "data": {
            "text/plain": [
              "['600', '11', '48', '1998', '600', '19']"
            ]
          },
          "metadata": {},
          "execution_count": 64
        }
      ]
    },
    {
      "cell_type": "markdown",
      "source": [
        "As you can see the pattern is made of three consecutive \\d special sequences, each of them represents a digit followed by an asterisk. It means we are basically searching for a number of two digits possibly and a third digit or fourth or 10th...there is no upper limit"
      ],
      "metadata": {
        "id": "GF6fLRPoeK3b"
      }
    },
    {
      "cell_type": "markdown",
      "source": [
        "The next one, the regular expression consists of a E followed by .( means any character) follwed by an aestrisk and whitespace\n",
        "\n",
        "So the matches for this expression should start with E, then we have a dot aestrisk combination, which means that the characters represented by the dot, may repeat zero or more times, after E.\n",
        "\n",
        "The blank space defines the right border for the match.\n",
        "\n",
        "The aestrisk is greedy, it means it tries to match as many repetitions of the characters as possible."
      ],
      "metadata": {
        "id": "sUrMaP-Te_3p"
      }
    },
    {
      "cell_type": "code",
      "source": [
        "string = \"The Euro STOXX 600 index, which tracks all stock markets across Europe including the FTSE, fell by 11.48% – the worst day since it launched in 1998. The panic selling prompted by the coronavirus has wiped £2.7tn off the value of STOXX 600 shares since its all-time peak on 19 February.\"\n",
        "result = re.findall(r\"E.* \",string)\n",
        "result"
      ],
      "metadata": {
        "colab": {
          "base_uri": "https://localhost:8080/"
        },
        "id": "kfOtNNtAe_3p",
        "outputId": "8d02f33f-0dc6-434c-faff-10331e65649b"
      },
      "execution_count": null,
      "outputs": [
        {
          "output_type": "execute_result",
          "data": {
            "text/plain": [
              "['Euro STOXX 600 index, which tracks all stock markets across Europe including the FTSE, fell by 11.48% – the worst day since it launched in 1998. The panic selling prompted by the coronavirus has wiped £2.7tn off the value of STOXX 600 shares since its all-time peak on 19 ']"
            ]
          },
          "metadata": {},
          "execution_count": 65
        }
      ]
    },
    {
      "cell_type": "markdown",
      "source": [
        "it goes till it finds the last blank space: after 19\n",
        "\n",
        "Lets find all the words that start with E"
      ],
      "metadata": {
        "id": "6rqhhtA9e_6R"
      }
    },
    {
      "cell_type": "code",
      "source": [
        "result = re.findall(r\"E\\w*\",string)\n",
        "result"
      ],
      "metadata": {
        "colab": {
          "base_uri": "https://localhost:8080/"
        },
        "id": "H7kztE9Ae_6R",
        "outputId": "5d191b2a-3d07-45a2-b66d-77143f6cd67f"
      },
      "execution_count": null,
      "outputs": [
        {
          "output_type": "execute_result",
          "data": {
            "text/plain": [
              "['Euro', 'Europe', 'E']"
            ]
          },
          "metadata": {},
          "execution_count": 66
        }
      ]
    },
    {
      "cell_type": "markdown",
      "source": [
        "**The + Sign** matches 1 or more repetition ( in * it is zero or more) of the preceding pattern in a greedy way.\n",
        "\n",
        "We use the same expression as the earlier."
      ],
      "metadata": {
        "id": "Jn4FFyS4e_9P"
      }
    },
    {
      "cell_type": "code",
      "source": [
        "result = re.findall(r\"\\d\\d\\d+\",string)\n",
        "result"
      ],
      "metadata": {
        "colab": {
          "base_uri": "https://localhost:8080/"
        },
        "id": "_oyzcl07e_9P",
        "outputId": "501e39dc-4aba-483c-8758-76619819c092"
      },
      "execution_count": null,
      "outputs": [
        {
          "output_type": "execute_result",
          "data": {
            "text/plain": [
              "['600', '1998', '600']"
            ]
          },
          "metadata": {},
          "execution_count": 67
        }
      ]
    },
    {
      "cell_type": "markdown",
      "source": [
        "You see exactly 1 or more times the pattern is repeating,\n",
        "\n",
        "Now the other"
      ],
      "metadata": {
        "id": "cbSEV6bSfAAB"
      }
    },
    {
      "cell_type": "code",
      "source": [
        "result = re.findall(r\"E.+ \",string)\n",
        "result"
      ],
      "metadata": {
        "colab": {
          "base_uri": "https://localhost:8080/"
        },
        "id": "6C5gtrG9fAAB",
        "outputId": "e0d743a6-6e7a-4a6f-e081-e997f9fe7f0e"
      },
      "execution_count": null,
      "outputs": [
        {
          "output_type": "execute_result",
          "data": {
            "text/plain": [
              "['Euro STOXX 600 index, which tracks all stock markets across Europe including the FTSE, fell by 11.48% – the worst day since it launched in 1998. The panic selling prompted by the coronavirus has wiped £2.7tn off the value of STOXX 600 shares since its all-time peak on 19 ']"
            ]
          },
          "metadata": {},
          "execution_count": 68
        }
      ]
    },
    {
      "cell_type": "markdown",
      "source": [
        "Third example"
      ],
      "metadata": {
        "id": "TPIDxHuEfAC3"
      }
    },
    {
      "cell_type": "code",
      "source": [
        "result = re.findall(r\"E\\w+ \",string)\n",
        "result"
      ],
      "metadata": {
        "colab": {
          "base_uri": "https://localhost:8080/"
        },
        "id": "s5eHjmvBfAC4",
        "outputId": "d1df61f1-6dc7-4604-b3f6-23f3acea009b"
      },
      "execution_count": null,
      "outputs": [
        {
          "output_type": "execute_result",
          "data": {
            "text/plain": [
              "['Euro ', 'Europe ']"
            ]
          },
          "metadata": {},
          "execution_count": 69
        }
      ]
    },
    {
      "cell_type": "markdown",
      "source": [
        "**Question Mark**\n",
        "\n",
        "The question mark (?) matches 0 or 1 time (only) repetitions of the preceding expression.\n",
        "\n",
        "this means number of possible repetitions is limited on both ends.\n",
        "\n",
        "Lets see the previous three examples"
      ],
      "metadata": {
        "id": "hEGkwVAgfAF6"
      }
    },
    {
      "cell_type": "code",
      "source": [
        "result = re.findall(r\"\\d\\d\\d?\",string)\n",
        "result"
      ],
      "metadata": {
        "id": "zHfmabzZfAF7",
        "colab": {
          "base_uri": "https://localhost:8080/"
        },
        "outputId": "509af035-6e68-4d59-853f-6397e7ff2972"
      },
      "execution_count": null,
      "outputs": [
        {
          "output_type": "execute_result",
          "data": {
            "text/plain": [
              "['600', '11', '48', '199', '600', '19']"
            ]
          },
          "metadata": {},
          "execution_count": 70
        }
      ]
    },
    {
      "cell_type": "markdown",
      "source": [],
      "metadata": {
        "id": "Pj8xjQ8WfAI5"
      }
    },
    {
      "cell_type": "code",
      "source": [
        "result = re.findall(r\"E.? \",string)\n",
        "result"
      ],
      "metadata": {
        "id": "2Lof7hqNfAI5",
        "colab": {
          "base_uri": "https://localhost:8080/"
        },
        "outputId": "a91dc885-04f7-4184-fdad-2451b2d8dcbe"
      },
      "execution_count": null,
      "outputs": [
        {
          "output_type": "execute_result",
          "data": {
            "text/plain": [
              "['E, ']"
            ]
          },
          "metadata": {},
          "execution_count": 71
        }
      ]
    },
    {
      "cell_type": "markdown",
      "source": [],
      "metadata": {
        "id": "pmR_Q5sUfALt"
      }
    },
    {
      "cell_type": "code",
      "source": [
        "result = re.findall(r\"E\\w?\",string)\n",
        "result"
      ],
      "metadata": {
        "id": "Tvlj7uDIfALt",
        "colab": {
          "base_uri": "https://localhost:8080/"
        },
        "outputId": "e75a14ae-66e0-4c6f-a608-d8ea241241b3"
      },
      "execution_count": null,
      "outputs": [
        {
          "output_type": "execute_result",
          "data": {
            "text/plain": [
              "['Eu', 'Eu', 'E']"
            ]
          },
          "metadata": {},
          "execution_count": 72
        }
      ]
    },
    {
      "cell_type": "markdown",
      "source": [
        "How to Cancel the Greedy Behaviour\n",
        "\n",
        "The question mark (?) after the aestrisk, plus sign or question mark turns off the greedy behaviour completely.\n",
        "\n",
        "Turning off greedy behaviour means that the pattern will match with as few charcters as possible or in a minimal fashion.\n",
        "\n",
        "Lets see the peformance of the asterisk"
      ],
      "metadata": {
        "id": "jLkDrectfAOv"
      }
    },
    {
      "cell_type": "code",
      "source": [
        "result = re.findall(r\"\\d\\d\\d*\",string)\n",
        "result"
      ],
      "metadata": {
        "id": "xR-9AygefAOw",
        "colab": {
          "base_uri": "https://localhost:8080/"
        },
        "outputId": "fed693e1-746b-402f-9e24-31a8ce61243a"
      },
      "execution_count": null,
      "outputs": [
        {
          "output_type": "execute_result",
          "data": {
            "text/plain": [
              "['600', '11', '48', '1998', '600', '19']"
            ]
          },
          "metadata": {},
          "execution_count": 73
        }
      ]
    },
    {
      "cell_type": "markdown",
      "source": [
        "So in greedy mode, it matched all the numbers with at least two digits upto the number with the largest number of digits which is 1998\n",
        "\n",
        "Now lets add the ? and limit this behaviour"
      ],
      "metadata": {
        "id": "tk46q-9KfARt"
      }
    },
    {
      "cell_type": "code",
      "source": [
        "result = re.findall(r\"\\d\\d\\d*?\",string)\n",
        "result"
      ],
      "metadata": {
        "id": "a2Zhxw6PfARu",
        "colab": {
          "base_uri": "https://localhost:8080/"
        },
        "outputId": "422c1095-951f-46cb-e5a5-a01f77e83a47"
      },
      "execution_count": null,
      "outputs": [
        {
          "output_type": "execute_result",
          "data": {
            "text/plain": [
              "['60', '11', '48', '19', '98', '60', '19']"
            ]
          },
          "metadata": {},
          "execution_count": 74
        }
      ]
    },
    {
      "cell_type": "markdown",
      "source": [
        "Here the asterisk matched at least two digits, however it was not greedy enough to match as many as possible.\n",
        "\n",
        "Which means that even it was 0 or 1 time, it limited itself to 0 times\n",
        "\n",
        "Now lets see how + sign behaves with or without the limitations imposed by the question mark"
      ],
      "metadata": {
        "id": "45eMvRmzfAU1"
      }
    },
    {
      "cell_type": "code",
      "source": [
        "result = re.findall(r\"\\d\\d\\d+\",string)\n",
        "result"
      ],
      "metadata": {
        "id": "T15TCRNrfAU2",
        "colab": {
          "base_uri": "https://localhost:8080/"
        },
        "outputId": "fd3af521-f0a8-4160-80bc-427c7616e2b8"
      },
      "execution_count": null,
      "outputs": [
        {
          "output_type": "execute_result",
          "data": {
            "text/plain": [
              "['600', '1998', '600']"
            ]
          },
          "metadata": {},
          "execution_count": 75
        }
      ]
    },
    {
      "cell_type": "markdown",
      "source": [
        "Here 3 digits can repeat one or more times\n",
        "\n",
        "Lets add ? to this pattern"
      ],
      "metadata": {
        "id": "-LApYH7YfAXw"
      }
    },
    {
      "cell_type": "code",
      "source": [
        "result = re.findall(r\"\\d\\d\\d+?\",string)\n",
        "result"
      ],
      "metadata": {
        "id": "OE361YdQfAXw",
        "colab": {
          "base_uri": "https://localhost:8080/"
        },
        "outputId": "c43381a2-5d09-49ad-ec93-0cafa45132ff"
      },
      "execution_count": null,
      "outputs": [
        {
          "output_type": "execute_result",
          "data": {
            "text/plain": [
              "['600', '199', '600']"
            ]
          },
          "metadata": {},
          "execution_count": 76
        }
      ]
    },
    {
      "cell_type": "markdown",
      "source": [
        "Here the matching is limited to 1 repitition of the sequence, max 3 digits\n",
        "\n",
        "Lets add ? on the ? to limit it even more"
      ],
      "metadata": {
        "id": "pg_hRT5DfAa0"
      }
    },
    {
      "cell_type": "code",
      "source": [
        "result = re.findall(r\"\\d\\d\\d?\",string)\n",
        "result"
      ],
      "metadata": {
        "id": "ZvRjRoAXfAa0",
        "colab": {
          "base_uri": "https://localhost:8080/"
        },
        "outputId": "b972c8b2-7f1e-4a86-f4c4-32715faa3485"
      },
      "execution_count": null,
      "outputs": [
        {
          "output_type": "execute_result",
          "data": {
            "text/plain": [
              "['600', '11', '48', '199', '600', '19']"
            ]
          },
          "metadata": {},
          "execution_count": 77
        }
      ]
    },
    {
      "cell_type": "markdown",
      "source": [
        "Lets limit this behaviour"
      ],
      "metadata": {
        "id": "S9lg2FCsfAdj"
      }
    },
    {
      "cell_type": "code",
      "source": [
        "result = re.findall(r\"\\d\\d\\d??\",string)\n",
        "result"
      ],
      "metadata": {
        "id": "vMjjoxXAfAdk",
        "colab": {
          "base_uri": "https://localhost:8080/"
        },
        "outputId": "3440b6b7-459b-4591-9a80-b904b75a65d7"
      },
      "execution_count": null,
      "outputs": [
        {
          "output_type": "execute_result",
          "data": {
            "text/plain": [
              "['60', '11', '48', '19', '98', '60', '19']"
            ]
          },
          "metadata": {},
          "execution_count": 78
        }
      ]
    },
    {
      "cell_type": "markdown",
      "source": [
        "Here the matchings are restricted to zero digits only.\n",
        "\n",
        "**The Backslash**\n",
        "\n",
        "The backslash can have any of these two main roles:\n",
        "- signals a special sequence \\d, \\w etc.\n",
        "- escaping and matching a symbol with special meaning in regex syntax (\\. or \\?)\n",
        "\n",
        "First Special sequence"
      ],
      "metadata": {
        "id": "E8Oo3P8sfAgg"
      }
    },
    {
      "cell_type": "code",
      "source": [
        "result = re.findall(r\"\\d\",string)\n",
        "result"
      ],
      "metadata": {
        "id": "HlAlryW4fAgg",
        "colab": {
          "base_uri": "https://localhost:8080/"
        },
        "outputId": "1ff0c7d8-a43f-41f8-c035-59cb89511e2a"
      },
      "execution_count": null,
      "outputs": [
        {
          "output_type": "execute_result",
          "data": {
            "text/plain": [
              "['6',\n",
              " '0',\n",
              " '0',\n",
              " '1',\n",
              " '1',\n",
              " '4',\n",
              " '8',\n",
              " '1',\n",
              " '9',\n",
              " '9',\n",
              " '8',\n",
              " '2',\n",
              " '7',\n",
              " '6',\n",
              " '0',\n",
              " '0',\n",
              " '1',\n",
              " '9']"
            ]
          },
          "metadata": {},
          "execution_count": 79
        }
      ]
    },
    {
      "cell_type": "markdown",
      "source": [
        "2nd Role: eg. lets take **the dot .**\n",
        "\n",
        "\"\\\\\". will match the actual puctuation mark. this is called escaping.\n",
        "\n",
        "For example, we want to search and match all the actual dots."
      ],
      "metadata": {
        "id": "RB_qG1v-fAjk"
      }
    },
    {
      "cell_type": "code",
      "source": [
        "result = re.findall(r\"\\.\",string)\n",
        "result"
      ],
      "metadata": {
        "id": "ynEXm-eYfAjk",
        "colab": {
          "base_uri": "https://localhost:8080/"
        },
        "outputId": "2dcf4e3b-7697-4a06-ec10-9f5f3921bc73"
      },
      "execution_count": null,
      "outputs": [
        {
          "output_type": "execute_result",
          "data": {
            "text/plain": [
              "['.', '.', '.', '.']"
            ]
          },
          "metadata": {},
          "execution_count": 80
        }
      ]
    },
    {
      "cell_type": "markdown",
      "source": [
        "**The Square Bracket []**\n",
        "\n",
        "Square brackets represent sets of characters and character classes\n",
        "\n",
        "Example. We want to look for occurrance of letters w,x, k or q and have them returned to us.\n",
        "\n"
      ],
      "metadata": {
        "id": "SKtN4uv6fAmk"
      }
    },
    {
      "cell_type": "code",
      "source": [
        "result = re.findall(r\"[wxkq]\",string)\n",
        "result"
      ],
      "metadata": {
        "id": "owSW6iXsfAml",
        "colab": {
          "base_uri": "https://localhost:8080/"
        },
        "outputId": "51e4fcc3-9779-4680-d322-7235ed310aa3"
      },
      "execution_count": null,
      "outputs": [
        {
          "output_type": "execute_result",
          "data": {
            "text/plain": [
              "['x', 'w', 'k', 'k', 'k', 'w', 'w', 'k']"
            ]
          },
          "metadata": {},
          "execution_count": 81
        }
      ]
    },
    {
      "cell_type": "markdown",
      "source": [
        "The operation here is OR.\n",
        "Notice there is no q since the q is missing in the string.\n",
        "\n",
        "We want to match any letter from a to d meaning a b c or d\n",
        "\n",
        "example"
      ],
      "metadata": {
        "id": "Qw01tDMnfApc"
      }
    },
    {
      "cell_type": "code",
      "source": [
        "result =re.findall(r\"[a-d]\",string)\n",
        "result"
      ],
      "metadata": {
        "id": "XPO4BEcgfApc",
        "colab": {
          "base_uri": "https://localhost:8080/"
        },
        "outputId": "94d89263-8d4c-45fe-fce3-cd2995f2e64f"
      },
      "execution_count": null,
      "outputs": [
        {
          "output_type": "execute_result",
          "data": {
            "text/plain": [
              "['d',\n",
              " 'c',\n",
              " 'a',\n",
              " 'c',\n",
              " 'a',\n",
              " 'c',\n",
              " 'a',\n",
              " 'a',\n",
              " 'c',\n",
              " 'c',\n",
              " 'd',\n",
              " 'b',\n",
              " 'd',\n",
              " 'a',\n",
              " 'c',\n",
              " 'a',\n",
              " 'c',\n",
              " 'd',\n",
              " 'a',\n",
              " 'c',\n",
              " 'd',\n",
              " 'b',\n",
              " 'c',\n",
              " 'a',\n",
              " 'a',\n",
              " 'd',\n",
              " 'a',\n",
              " 'a',\n",
              " 'c',\n",
              " 'a',\n",
              " 'a',\n",
              " 'b',\n",
              " 'a']"
            ]
          },
          "metadata": {},
          "execution_count": 82
        }
      ]
    },
    {
      "cell_type": "markdown",
      "source": [
        "I want to check from S-W"
      ],
      "metadata": {
        "id": "-ZfdaPbBfAsj"
      }
    },
    {
      "cell_type": "code",
      "source": [
        "result =re.findall(r\"[S-W]\",string)\n",
        "result"
      ],
      "metadata": {
        "id": "nU_4xMi4fAsj",
        "colab": {
          "base_uri": "https://localhost:8080/"
        },
        "outputId": "d01c88f8-b3de-425d-a156-a67cc475edec"
      },
      "execution_count": null,
      "outputs": [
        {
          "output_type": "execute_result",
          "data": {
            "text/plain": [
              "['T', 'S', 'T', 'T', 'S', 'T', 'S', 'T']"
            ]
          },
          "metadata": {},
          "execution_count": 83
        }
      ]
    },
    {
      "cell_type": "markdown",
      "source": [
        "Check occurrence of all the digits from 1 to 5"
      ],
      "metadata": {
        "id": "s9XEr-5bfAvc"
      }
    },
    {
      "cell_type": "code",
      "source": [
        "result =re.findall(r\"[1-5]\",string)\n",
        "result"
      ],
      "metadata": {
        "id": "qEFSaMSQfAvd",
        "colab": {
          "base_uri": "https://localhost:8080/"
        },
        "outputId": "fec7e4a8-408c-4325-cbf2-02fa069075ff"
      },
      "execution_count": null,
      "outputs": [
        {
          "output_type": "execute_result",
          "data": {
            "text/plain": [
              "['1', '1', '4', '1', '2', '1']"
            ]
          },
          "metadata": {},
          "execution_count": 84
        }
      ]
    },
    {
      "cell_type": "markdown",
      "source": [
        "Match any two consecutive letters, the first letter from a to f, the second letter from c to w"
      ],
      "metadata": {
        "id": "MzM0dHLmfAyl"
      }
    },
    {
      "cell_type": "code",
      "source": [
        "result =re.findall(r\"[a-f][c-w]\",string)\n",
        "result"
      ],
      "metadata": {
        "id": "s30q3ZSNfAym",
        "colab": {
          "base_uri": "https://localhost:8080/"
        },
        "outputId": "57c0f6e7-4fe4-4823-9eb9-eb52e466b65c"
      },
      "execution_count": null,
      "outputs": [
        {
          "output_type": "execute_result",
          "data": {
            "text/plain": [
              "['de',\n",
              " 'ch',\n",
              " 'ac',\n",
              " 'al',\n",
              " 'ck',\n",
              " 'ar',\n",
              " 'et',\n",
              " 'ac',\n",
              " 'cl',\n",
              " 'di',\n",
              " 'fe',\n",
              " 'ce',\n",
              " 'au',\n",
              " 'ch',\n",
              " 'ed',\n",
              " 'an',\n",
              " 'el',\n",
              " 'ed',\n",
              " 'co',\n",
              " 'av',\n",
              " 'as',\n",
              " 'ed',\n",
              " 'ff',\n",
              " 'al',\n",
              " 'ar',\n",
              " 'es',\n",
              " 'ce',\n",
              " 'al',\n",
              " 'ak',\n",
              " 'br',\n",
              " 'ar']"
            ]
          },
          "metadata": {},
          "execution_count": 85
        }
      ]
    },
    {
      "cell_type": "markdown",
      "source": [
        "to look for any two consecutive digits from 0 to 5, the second from 7 to 9"
      ],
      "metadata": {
        "id": "pWR-2jhGfA1o"
      }
    },
    {
      "cell_type": "code",
      "source": [
        "result =re.findall(r\"[0-5][7-9]\",string)\n",
        "result"
      ],
      "metadata": {
        "id": "nQQ6_cKDfA1p",
        "colab": {
          "base_uri": "https://localhost:8080/"
        },
        "outputId": "40bfc356-88a2-4202-a0b5-15e3d60c786c"
      },
      "execution_count": null,
      "outputs": [
        {
          "output_type": "execute_result",
          "data": {
            "text/plain": [
              "['48', '19', '19']"
            ]
          },
          "metadata": {},
          "execution_count": 86
        }
      ]
    },
    {
      "cell_type": "markdown",
      "source": [
        "Look for all the digits followed by the letters"
      ],
      "metadata": {
        "id": "Nup8tcbxfA4r"
      }
    },
    {
      "cell_type": "code",
      "source": [
        "result =re.findall(r\"[0-9][a-z]\",string)\n",
        "result"
      ],
      "metadata": {
        "id": "ND902AjOfA4r",
        "colab": {
          "base_uri": "https://localhost:8080/"
        },
        "outputId": "20854425-a437-4c24-f3bb-d4e73886cf51"
      },
      "execution_count": null,
      "outputs": [
        {
          "output_type": "execute_result",
          "data": {
            "text/plain": [
              "['7t']"
            ]
          },
          "metadata": {},
          "execution_count": 87
        }
      ]
    },
    {
      "cell_type": "markdown",
      "source": [
        "Match any target string except X. We use negation character ^"
      ],
      "metadata": {
        "id": "-74ZKk5kfA7y"
      }
    },
    {
      "cell_type": "code",
      "source": [
        "result =re.findall(r\"[^X]\",string)\n",
        "result"
      ],
      "metadata": {
        "id": "lnS10sObfA7y",
        "colab": {
          "base_uri": "https://localhost:8080/"
        },
        "outputId": "e5ed9272-778a-43cf-ebe3-d06475f111cd"
      },
      "execution_count": null,
      "outputs": [
        {
          "output_type": "execute_result",
          "data": {
            "text/plain": [
              "['T',\n",
              " 'h',\n",
              " 'e',\n",
              " ' ',\n",
              " 'E',\n",
              " 'u',\n",
              " 'r',\n",
              " 'o',\n",
              " ' ',\n",
              " 'S',\n",
              " 'T',\n",
              " 'O',\n",
              " ' ',\n",
              " '6',\n",
              " '0',\n",
              " '0',\n",
              " ' ',\n",
              " 'i',\n",
              " 'n',\n",
              " 'd',\n",
              " 'e',\n",
              " 'x',\n",
              " ',',\n",
              " ' ',\n",
              " 'w',\n",
              " 'h',\n",
              " 'i',\n",
              " 'c',\n",
              " 'h',\n",
              " ' ',\n",
              " 't',\n",
              " 'r',\n",
              " 'a',\n",
              " 'c',\n",
              " 'k',\n",
              " 's',\n",
              " ' ',\n",
              " 'a',\n",
              " 'l',\n",
              " 'l',\n",
              " ' ',\n",
              " 's',\n",
              " 't',\n",
              " 'o',\n",
              " 'c',\n",
              " 'k',\n",
              " ' ',\n",
              " 'm',\n",
              " 'a',\n",
              " 'r',\n",
              " 'k',\n",
              " 'e',\n",
              " 't',\n",
              " 's',\n",
              " ' ',\n",
              " 'a',\n",
              " 'c',\n",
              " 'r',\n",
              " 'o',\n",
              " 's',\n",
              " 's',\n",
              " ' ',\n",
              " 'E',\n",
              " 'u',\n",
              " 'r',\n",
              " 'o',\n",
              " 'p',\n",
              " 'e',\n",
              " ' ',\n",
              " 'i',\n",
              " 'n',\n",
              " 'c',\n",
              " 'l',\n",
              " 'u',\n",
              " 'd',\n",
              " 'i',\n",
              " 'n',\n",
              " 'g',\n",
              " ' ',\n",
              " 't',\n",
              " 'h',\n",
              " 'e',\n",
              " ' ',\n",
              " 'F',\n",
              " 'T',\n",
              " 'S',\n",
              " 'E',\n",
              " ',',\n",
              " ' ',\n",
              " 'f',\n",
              " 'e',\n",
              " 'l',\n",
              " 'l',\n",
              " ' ',\n",
              " 'b',\n",
              " 'y',\n",
              " ' ',\n",
              " '1',\n",
              " '1',\n",
              " '.',\n",
              " '4',\n",
              " '8',\n",
              " '%',\n",
              " ' ',\n",
              " '–',\n",
              " ' ',\n",
              " 't',\n",
              " 'h',\n",
              " 'e',\n",
              " ' ',\n",
              " 'w',\n",
              " 'o',\n",
              " 'r',\n",
              " 's',\n",
              " 't',\n",
              " ' ',\n",
              " 'd',\n",
              " 'a',\n",
              " 'y',\n",
              " ' ',\n",
              " 's',\n",
              " 'i',\n",
              " 'n',\n",
              " 'c',\n",
              " 'e',\n",
              " ' ',\n",
              " 'i',\n",
              " 't',\n",
              " ' ',\n",
              " 'l',\n",
              " 'a',\n",
              " 'u',\n",
              " 'n',\n",
              " 'c',\n",
              " 'h',\n",
              " 'e',\n",
              " 'd',\n",
              " ' ',\n",
              " 'i',\n",
              " 'n',\n",
              " ' ',\n",
              " '1',\n",
              " '9',\n",
              " '9',\n",
              " '8',\n",
              " '.',\n",
              " ' ',\n",
              " 'T',\n",
              " 'h',\n",
              " 'e',\n",
              " ' ',\n",
              " 'p',\n",
              " 'a',\n",
              " 'n',\n",
              " 'i',\n",
              " 'c',\n",
              " ' ',\n",
              " 's',\n",
              " 'e',\n",
              " 'l',\n",
              " 'l',\n",
              " 'i',\n",
              " 'n',\n",
              " 'g',\n",
              " ' ',\n",
              " 'p',\n",
              " 'r',\n",
              " 'o',\n",
              " 'm',\n",
              " 'p',\n",
              " 't',\n",
              " 'e',\n",
              " 'd',\n",
              " ' ',\n",
              " 'b',\n",
              " 'y',\n",
              " ' ',\n",
              " 't',\n",
              " 'h',\n",
              " 'e',\n",
              " ' ',\n",
              " 'c',\n",
              " 'o',\n",
              " 'r',\n",
              " 'o',\n",
              " 'n',\n",
              " 'a',\n",
              " 'v',\n",
              " 'i',\n",
              " 'r',\n",
              " 'u',\n",
              " 's',\n",
              " ' ',\n",
              " 'h',\n",
              " 'a',\n",
              " 's',\n",
              " ' ',\n",
              " 'w',\n",
              " 'i',\n",
              " 'p',\n",
              " 'e',\n",
              " 'd',\n",
              " ' ',\n",
              " '£',\n",
              " '2',\n",
              " '.',\n",
              " '7',\n",
              " 't',\n",
              " 'n',\n",
              " ' ',\n",
              " 'o',\n",
              " 'f',\n",
              " 'f',\n",
              " ' ',\n",
              " 't',\n",
              " 'h',\n",
              " 'e',\n",
              " ' ',\n",
              " 'v',\n",
              " 'a',\n",
              " 'l',\n",
              " 'u',\n",
              " 'e',\n",
              " ' ',\n",
              " 'o',\n",
              " 'f',\n",
              " ' ',\n",
              " 'S',\n",
              " 'T',\n",
              " 'O',\n",
              " ' ',\n",
              " '6',\n",
              " '0',\n",
              " '0',\n",
              " ' ',\n",
              " 's',\n",
              " 'h',\n",
              " 'a',\n",
              " 'r',\n",
              " 'e',\n",
              " 's',\n",
              " ' ',\n",
              " 's',\n",
              " 'i',\n",
              " 'n',\n",
              " 'c',\n",
              " 'e',\n",
              " ' ',\n",
              " 'i',\n",
              " 't',\n",
              " 's',\n",
              " ' ',\n",
              " 'a',\n",
              " 'l',\n",
              " 'l',\n",
              " '-',\n",
              " 't',\n",
              " 'i',\n",
              " 'm',\n",
              " 'e',\n",
              " ' ',\n",
              " 'p',\n",
              " 'e',\n",
              " 'a',\n",
              " 'k',\n",
              " ' ',\n",
              " 'o',\n",
              " 'n',\n",
              " ' ',\n",
              " '1',\n",
              " '9',\n",
              " ' ',\n",
              " 'F',\n",
              " 'e',\n",
              " 'b',\n",
              " 'r',\n",
              " 'u',\n",
              " 'a',\n",
              " 'r',\n",
              " 'y',\n",
              " '.']"
            ]
          },
          "metadata": {},
          "execution_count": 88
        }
      ]
    },
    {
      "cell_type": "markdown",
      "source": [
        "We can double check if the X was actually matched using the in operator"
      ],
      "metadata": {
        "id": "TbIOvmoQfA-z"
      }
    },
    {
      "cell_type": "code",
      "source": [
        "\"X\" in result"
      ],
      "metadata": {
        "id": "siFCWAtcfA-z",
        "colab": {
          "base_uri": "https://localhost:8080/"
        },
        "outputId": "bf7eee32-a6ef-42be-db55-aece179a06cd"
      },
      "execution_count": null,
      "outputs": [
        {
          "output_type": "execute_result",
          "data": {
            "text/plain": [
              "False"
            ]
          },
          "metadata": {},
          "execution_count": 89
        }
      ]
    },
    {
      "cell_type": "markdown",
      "source": [
        "The . * and ? lose their power when inside the square bracket."
      ],
      "metadata": {
        "id": "Q-uv7ty-fBCD"
      }
    },
    {
      "cell_type": "code",
      "source": [
        "result =re.findall(r\"[.+?]\",string)\n",
        "result"
      ],
      "metadata": {
        "id": "36iC7OeffBCE",
        "colab": {
          "base_uri": "https://localhost:8080/"
        },
        "outputId": "a0a8fd87-72be-4a2d-e3b5-e68780e37ba2"
      },
      "execution_count": null,
      "outputs": [
        {
          "output_type": "execute_result",
          "data": {
            "text/plain": [
              "['.', '.', '.', '.']"
            ]
          },
          "metadata": {},
          "execution_count": 90
        }
      ]
    },
    {
      "cell_type": "markdown",
      "source": [
        "Character Classes\n",
        "\n",
        "These are range of characters enclosed by square brackets.\n",
        "\n",
        "Match all the digits"
      ],
      "metadata": {
        "id": "RlG4WSIRfBE-"
      }
    },
    {
      "cell_type": "code",
      "source": [
        "result = re.findall(r\"[0-9]\",string)\n",
        "result"
      ],
      "metadata": {
        "id": "mpbf2NEufBE_",
        "colab": {
          "base_uri": "https://localhost:8080/"
        },
        "outputId": "c0b3b8c0-8f77-42a0-90e8-a65db224733f"
      },
      "execution_count": null,
      "outputs": [
        {
          "output_type": "execute_result",
          "data": {
            "text/plain": [
              "['6',\n",
              " '0',\n",
              " '0',\n",
              " '1',\n",
              " '1',\n",
              " '4',\n",
              " '8',\n",
              " '1',\n",
              " '9',\n",
              " '9',\n",
              " '8',\n",
              " '2',\n",
              " '7',\n",
              " '6',\n",
              " '0',\n",
              " '0',\n",
              " '1',\n",
              " '9']"
            ]
          },
          "metadata": {},
          "execution_count": 91
        }
      ]
    },
    {
      "cell_type": "markdown",
      "source": [
        "Match all the letters, no matter if they are upper case or lower case"
      ],
      "metadata": {
        "id": "1B2nTbBBfBHq"
      }
    },
    {
      "cell_type": "code",
      "source": [
        "result = re.findall(r\"[a-zA-Z]\",string)\n",
        "result"
      ],
      "metadata": {
        "id": "wqfwNQLNfBHq",
        "colab": {
          "base_uri": "https://localhost:8080/"
        },
        "outputId": "ee661237-e070-499e-ff5a-6bf1d86dc501"
      },
      "execution_count": null,
      "outputs": [
        {
          "output_type": "execute_result",
          "data": {
            "text/plain": [
              "['T',\n",
              " 'h',\n",
              " 'e',\n",
              " 'E',\n",
              " 'u',\n",
              " 'r',\n",
              " 'o',\n",
              " 'S',\n",
              " 'T',\n",
              " 'O',\n",
              " 'X',\n",
              " 'X',\n",
              " 'i',\n",
              " 'n',\n",
              " 'd',\n",
              " 'e',\n",
              " 'x',\n",
              " 'w',\n",
              " 'h',\n",
              " 'i',\n",
              " 'c',\n",
              " 'h',\n",
              " 't',\n",
              " 'r',\n",
              " 'a',\n",
              " 'c',\n",
              " 'k',\n",
              " 's',\n",
              " 'a',\n",
              " 'l',\n",
              " 'l',\n",
              " 's',\n",
              " 't',\n",
              " 'o',\n",
              " 'c',\n",
              " 'k',\n",
              " 'm',\n",
              " 'a',\n",
              " 'r',\n",
              " 'k',\n",
              " 'e',\n",
              " 't',\n",
              " 's',\n",
              " 'a',\n",
              " 'c',\n",
              " 'r',\n",
              " 'o',\n",
              " 's',\n",
              " 's',\n",
              " 'E',\n",
              " 'u',\n",
              " 'r',\n",
              " 'o',\n",
              " 'p',\n",
              " 'e',\n",
              " 'i',\n",
              " 'n',\n",
              " 'c',\n",
              " 'l',\n",
              " 'u',\n",
              " 'd',\n",
              " 'i',\n",
              " 'n',\n",
              " 'g',\n",
              " 't',\n",
              " 'h',\n",
              " 'e',\n",
              " 'F',\n",
              " 'T',\n",
              " 'S',\n",
              " 'E',\n",
              " 'f',\n",
              " 'e',\n",
              " 'l',\n",
              " 'l',\n",
              " 'b',\n",
              " 'y',\n",
              " 't',\n",
              " 'h',\n",
              " 'e',\n",
              " 'w',\n",
              " 'o',\n",
              " 'r',\n",
              " 's',\n",
              " 't',\n",
              " 'd',\n",
              " 'a',\n",
              " 'y',\n",
              " 's',\n",
              " 'i',\n",
              " 'n',\n",
              " 'c',\n",
              " 'e',\n",
              " 'i',\n",
              " 't',\n",
              " 'l',\n",
              " 'a',\n",
              " 'u',\n",
              " 'n',\n",
              " 'c',\n",
              " 'h',\n",
              " 'e',\n",
              " 'd',\n",
              " 'i',\n",
              " 'n',\n",
              " 'T',\n",
              " 'h',\n",
              " 'e',\n",
              " 'p',\n",
              " 'a',\n",
              " 'n',\n",
              " 'i',\n",
              " 'c',\n",
              " 's',\n",
              " 'e',\n",
              " 'l',\n",
              " 'l',\n",
              " 'i',\n",
              " 'n',\n",
              " 'g',\n",
              " 'p',\n",
              " 'r',\n",
              " 'o',\n",
              " 'm',\n",
              " 'p',\n",
              " 't',\n",
              " 'e',\n",
              " 'd',\n",
              " 'b',\n",
              " 'y',\n",
              " 't',\n",
              " 'h',\n",
              " 'e',\n",
              " 'c',\n",
              " 'o',\n",
              " 'r',\n",
              " 'o',\n",
              " 'n',\n",
              " 'a',\n",
              " 'v',\n",
              " 'i',\n",
              " 'r',\n",
              " 'u',\n",
              " 's',\n",
              " 'h',\n",
              " 'a',\n",
              " 's',\n",
              " 'w',\n",
              " 'i',\n",
              " 'p',\n",
              " 'e',\n",
              " 'd',\n",
              " 't',\n",
              " 'n',\n",
              " 'o',\n",
              " 'f',\n",
              " 'f',\n",
              " 't',\n",
              " 'h',\n",
              " 'e',\n",
              " 'v',\n",
              " 'a',\n",
              " 'l',\n",
              " 'u',\n",
              " 'e',\n",
              " 'o',\n",
              " 'f',\n",
              " 'S',\n",
              " 'T',\n",
              " 'O',\n",
              " 'X',\n",
              " 'X',\n",
              " 's',\n",
              " 'h',\n",
              " 'a',\n",
              " 'r',\n",
              " 'e',\n",
              " 's',\n",
              " 's',\n",
              " 'i',\n",
              " 'n',\n",
              " 'c',\n",
              " 'e',\n",
              " 'i',\n",
              " 't',\n",
              " 's',\n",
              " 'a',\n",
              " 'l',\n",
              " 'l',\n",
              " 't',\n",
              " 'i',\n",
              " 'm',\n",
              " 'e',\n",
              " 'p',\n",
              " 'e',\n",
              " 'a',\n",
              " 'k',\n",
              " 'o',\n",
              " 'n',\n",
              " 'F',\n",
              " 'e',\n",
              " 'b',\n",
              " 'r',\n",
              " 'u',\n",
              " 'a',\n",
              " 'r',\n",
              " 'y']"
            ]
          },
          "metadata": {},
          "execution_count": 92
        }
      ]
    },
    {
      "cell_type": "markdown",
      "source": [
        "Match Any non digit character in the string\n",
        "\n"
      ],
      "metadata": {
        "id": "Ng_nzKEofBKg"
      }
    },
    {
      "cell_type": "code",
      "source": [
        "result = re.findall(r\"[^0-9]\",string)\n",
        "result"
      ],
      "metadata": {
        "id": "ZKViITTofBKg",
        "colab": {
          "base_uri": "https://localhost:8080/"
        },
        "outputId": "cfc44372-7819-4105-b69f-54809ebcbc19"
      },
      "execution_count": null,
      "outputs": [
        {
          "output_type": "execute_result",
          "data": {
            "text/plain": [
              "['T',\n",
              " 'h',\n",
              " 'e',\n",
              " ' ',\n",
              " 'E',\n",
              " 'u',\n",
              " 'r',\n",
              " 'o',\n",
              " ' ',\n",
              " 'S',\n",
              " 'T',\n",
              " 'O',\n",
              " 'X',\n",
              " 'X',\n",
              " ' ',\n",
              " ' ',\n",
              " 'i',\n",
              " 'n',\n",
              " 'd',\n",
              " 'e',\n",
              " 'x',\n",
              " ',',\n",
              " ' ',\n",
              " 'w',\n",
              " 'h',\n",
              " 'i',\n",
              " 'c',\n",
              " 'h',\n",
              " ' ',\n",
              " 't',\n",
              " 'r',\n",
              " 'a',\n",
              " 'c',\n",
              " 'k',\n",
              " 's',\n",
              " ' ',\n",
              " 'a',\n",
              " 'l',\n",
              " 'l',\n",
              " ' ',\n",
              " 's',\n",
              " 't',\n",
              " 'o',\n",
              " 'c',\n",
              " 'k',\n",
              " ' ',\n",
              " 'm',\n",
              " 'a',\n",
              " 'r',\n",
              " 'k',\n",
              " 'e',\n",
              " 't',\n",
              " 's',\n",
              " ' ',\n",
              " 'a',\n",
              " 'c',\n",
              " 'r',\n",
              " 'o',\n",
              " 's',\n",
              " 's',\n",
              " ' ',\n",
              " 'E',\n",
              " 'u',\n",
              " 'r',\n",
              " 'o',\n",
              " 'p',\n",
              " 'e',\n",
              " ' ',\n",
              " 'i',\n",
              " 'n',\n",
              " 'c',\n",
              " 'l',\n",
              " 'u',\n",
              " 'd',\n",
              " 'i',\n",
              " 'n',\n",
              " 'g',\n",
              " ' ',\n",
              " 't',\n",
              " 'h',\n",
              " 'e',\n",
              " ' ',\n",
              " 'F',\n",
              " 'T',\n",
              " 'S',\n",
              " 'E',\n",
              " ',',\n",
              " ' ',\n",
              " 'f',\n",
              " 'e',\n",
              " 'l',\n",
              " 'l',\n",
              " ' ',\n",
              " 'b',\n",
              " 'y',\n",
              " ' ',\n",
              " '.',\n",
              " '%',\n",
              " ' ',\n",
              " '–',\n",
              " ' ',\n",
              " 't',\n",
              " 'h',\n",
              " 'e',\n",
              " ' ',\n",
              " 'w',\n",
              " 'o',\n",
              " 'r',\n",
              " 's',\n",
              " 't',\n",
              " ' ',\n",
              " 'd',\n",
              " 'a',\n",
              " 'y',\n",
              " ' ',\n",
              " 's',\n",
              " 'i',\n",
              " 'n',\n",
              " 'c',\n",
              " 'e',\n",
              " ' ',\n",
              " 'i',\n",
              " 't',\n",
              " ' ',\n",
              " 'l',\n",
              " 'a',\n",
              " 'u',\n",
              " 'n',\n",
              " 'c',\n",
              " 'h',\n",
              " 'e',\n",
              " 'd',\n",
              " ' ',\n",
              " 'i',\n",
              " 'n',\n",
              " ' ',\n",
              " '.',\n",
              " ' ',\n",
              " 'T',\n",
              " 'h',\n",
              " 'e',\n",
              " ' ',\n",
              " 'p',\n",
              " 'a',\n",
              " 'n',\n",
              " 'i',\n",
              " 'c',\n",
              " ' ',\n",
              " 's',\n",
              " 'e',\n",
              " 'l',\n",
              " 'l',\n",
              " 'i',\n",
              " 'n',\n",
              " 'g',\n",
              " ' ',\n",
              " 'p',\n",
              " 'r',\n",
              " 'o',\n",
              " 'm',\n",
              " 'p',\n",
              " 't',\n",
              " 'e',\n",
              " 'd',\n",
              " ' ',\n",
              " 'b',\n",
              " 'y',\n",
              " ' ',\n",
              " 't',\n",
              " 'h',\n",
              " 'e',\n",
              " ' ',\n",
              " 'c',\n",
              " 'o',\n",
              " 'r',\n",
              " 'o',\n",
              " 'n',\n",
              " 'a',\n",
              " 'v',\n",
              " 'i',\n",
              " 'r',\n",
              " 'u',\n",
              " 's',\n",
              " ' ',\n",
              " 'h',\n",
              " 'a',\n",
              " 's',\n",
              " ' ',\n",
              " 'w',\n",
              " 'i',\n",
              " 'p',\n",
              " 'e',\n",
              " 'd',\n",
              " ' ',\n",
              " '£',\n",
              " '.',\n",
              " 't',\n",
              " 'n',\n",
              " ' ',\n",
              " 'o',\n",
              " 'f',\n",
              " 'f',\n",
              " ' ',\n",
              " 't',\n",
              " 'h',\n",
              " 'e',\n",
              " ' ',\n",
              " 'v',\n",
              " 'a',\n",
              " 'l',\n",
              " 'u',\n",
              " 'e',\n",
              " ' ',\n",
              " 'o',\n",
              " 'f',\n",
              " ' ',\n",
              " 'S',\n",
              " 'T',\n",
              " 'O',\n",
              " 'X',\n",
              " 'X',\n",
              " ' ',\n",
              " ' ',\n",
              " 's',\n",
              " 'h',\n",
              " 'a',\n",
              " 'r',\n",
              " 'e',\n",
              " 's',\n",
              " ' ',\n",
              " 's',\n",
              " 'i',\n",
              " 'n',\n",
              " 'c',\n",
              " 'e',\n",
              " ' ',\n",
              " 'i',\n",
              " 't',\n",
              " 's',\n",
              " ' ',\n",
              " 'a',\n",
              " 'l',\n",
              " 'l',\n",
              " '-',\n",
              " 't',\n",
              " 'i',\n",
              " 'm',\n",
              " 'e',\n",
              " ' ',\n",
              " 'p',\n",
              " 'e',\n",
              " 'a',\n",
              " 'k',\n",
              " ' ',\n",
              " 'o',\n",
              " 'n',\n",
              " ' ',\n",
              " ' ',\n",
              " 'F',\n",
              " 'e',\n",
              " 'b',\n",
              " 'r',\n",
              " 'u',\n",
              " 'a',\n",
              " 'r',\n",
              " 'y',\n",
              " '.']"
            ]
          },
          "metadata": {},
          "execution_count": 93
        }
      ]
    },
    {
      "cell_type": "markdown",
      "source": [
        "Fetch whitespace characters. The whitespace characters are\n",
        "\n",
        "-Space (from the keyboard)\n",
        "\n",
        "-new line character (\\n)\n",
        "\n",
        "-Tab character (\\t)\n",
        "\n",
        "-carriage return(\\r)\n",
        "\n",
        "-form feed (\\f)\n",
        "\n",
        "-vertical tab (\\v)"
      ],
      "metadata": {
        "id": "W4I3Lckn5BGQ"
      }
    },
    {
      "cell_type": "code",
      "source": [
        "result = re.findall(r\"[ \\n\\t\\r\\f\\v]\",string)\n",
        "result"
      ],
      "metadata": {
        "colab": {
          "base_uri": "https://localhost:8080/"
        },
        "id": "nadknHNQ45oe",
        "outputId": "c4c289a9-acef-4730-db6d-5f2d8d486611"
      },
      "execution_count": null,
      "outputs": [
        {
          "output_type": "execute_result",
          "data": {
            "text/plain": [
              "[' ',\n",
              " ' ',\n",
              " ' ',\n",
              " ' ',\n",
              " ' ',\n",
              " ' ',\n",
              " ' ',\n",
              " ' ',\n",
              " ' ',\n",
              " ' ',\n",
              " ' ',\n",
              " ' ',\n",
              " ' ',\n",
              " ' ',\n",
              " ' ',\n",
              " ' ',\n",
              " ' ',\n",
              " ' ',\n",
              " ' ',\n",
              " ' ',\n",
              " ' ',\n",
              " ' ',\n",
              " ' ',\n",
              " ' ',\n",
              " ' ',\n",
              " ' ',\n",
              " ' ',\n",
              " ' ',\n",
              " ' ',\n",
              " ' ',\n",
              " ' ',\n",
              " ' ',\n",
              " ' ',\n",
              " ' ',\n",
              " ' ',\n",
              " ' ',\n",
              " ' ',\n",
              " ' ',\n",
              " ' ',\n",
              " ' ',\n",
              " ' ',\n",
              " ' ',\n",
              " ' ',\n",
              " ' ',\n",
              " ' ',\n",
              " ' ',\n",
              " ' ',\n",
              " ' ',\n",
              " ' ',\n",
              " ' ']"
            ]
          },
          "metadata": {},
          "execution_count": 94
        }
      ]
    },
    {
      "cell_type": "markdown",
      "source": [
        "To check if all spaces have been matched, lets check the length of result"
      ],
      "metadata": {
        "id": "hna2mPE35D6g"
      }
    },
    {
      "cell_type": "code",
      "source": [
        "len(result)"
      ],
      "metadata": {
        "colab": {
          "base_uri": "https://localhost:8080/"
        },
        "id": "AY5IAkAD5D6h",
        "outputId": "8a2ac91a-4582-4dc7-96a8-90596c3740ee"
      },
      "execution_count": null,
      "outputs": [
        {
          "output_type": "execute_result",
          "data": {
            "text/plain": [
              "50"
            ]
          },
          "metadata": {},
          "execution_count": 95
        }
      ]
    },
    {
      "cell_type": "markdown",
      "source": [
        "Lets now count the spaces in the string"
      ],
      "metadata": {
        "id": "8-2QnsNI5EEi"
      }
    },
    {
      "cell_type": "code",
      "source": [
        "string.count(\" \")"
      ],
      "metadata": {
        "colab": {
          "base_uri": "https://localhost:8080/"
        },
        "id": "kluyUu165EEi",
        "outputId": "e4fefdf3-8f55-495a-a034-15bf7c08c3ee"
      },
      "execution_count": null,
      "outputs": [
        {
          "output_type": "execute_result",
          "data": {
            "text/plain": [
              "50"
            ]
          },
          "metadata": {},
          "execution_count": 96
        }
      ]
    },
    {
      "cell_type": "markdown",
      "source": [
        "The two numbers match, means the result of our regular expression is the correct one.\n",
        "\n",
        "To exclude whitespaces, use the caret for negation"
      ],
      "metadata": {
        "id": "vxK_P1rT5EH8"
      }
    },
    {
      "cell_type": "code",
      "source": [
        "result = re.findall(r\"[^ \\n\\t\\r\\f\\v]\",string)\n",
        "result"
      ],
      "metadata": {
        "colab": {
          "base_uri": "https://localhost:8080/"
        },
        "id": "XtNDhIpD5EH8",
        "outputId": "4e579ce0-10ab-4917-dcbc-347e61ea181a"
      },
      "execution_count": null,
      "outputs": [
        {
          "output_type": "execute_result",
          "data": {
            "text/plain": [
              "['T',\n",
              " 'h',\n",
              " 'e',\n",
              " 'E',\n",
              " 'u',\n",
              " 'r',\n",
              " 'o',\n",
              " 'S',\n",
              " 'T',\n",
              " 'O',\n",
              " 'X',\n",
              " 'X',\n",
              " '6',\n",
              " '0',\n",
              " '0',\n",
              " 'i',\n",
              " 'n',\n",
              " 'd',\n",
              " 'e',\n",
              " 'x',\n",
              " ',',\n",
              " 'w',\n",
              " 'h',\n",
              " 'i',\n",
              " 'c',\n",
              " 'h',\n",
              " 't',\n",
              " 'r',\n",
              " 'a',\n",
              " 'c',\n",
              " 'k',\n",
              " 's',\n",
              " 'a',\n",
              " 'l',\n",
              " 'l',\n",
              " 's',\n",
              " 't',\n",
              " 'o',\n",
              " 'c',\n",
              " 'k',\n",
              " 'm',\n",
              " 'a',\n",
              " 'r',\n",
              " 'k',\n",
              " 'e',\n",
              " 't',\n",
              " 's',\n",
              " 'a',\n",
              " 'c',\n",
              " 'r',\n",
              " 'o',\n",
              " 's',\n",
              " 's',\n",
              " 'E',\n",
              " 'u',\n",
              " 'r',\n",
              " 'o',\n",
              " 'p',\n",
              " 'e',\n",
              " 'i',\n",
              " 'n',\n",
              " 'c',\n",
              " 'l',\n",
              " 'u',\n",
              " 'd',\n",
              " 'i',\n",
              " 'n',\n",
              " 'g',\n",
              " 't',\n",
              " 'h',\n",
              " 'e',\n",
              " 'F',\n",
              " 'T',\n",
              " 'S',\n",
              " 'E',\n",
              " ',',\n",
              " 'f',\n",
              " 'e',\n",
              " 'l',\n",
              " 'l',\n",
              " 'b',\n",
              " 'y',\n",
              " '1',\n",
              " '1',\n",
              " '.',\n",
              " '4',\n",
              " '8',\n",
              " '%',\n",
              " '–',\n",
              " 't',\n",
              " 'h',\n",
              " 'e',\n",
              " 'w',\n",
              " 'o',\n",
              " 'r',\n",
              " 's',\n",
              " 't',\n",
              " 'd',\n",
              " 'a',\n",
              " 'y',\n",
              " 's',\n",
              " 'i',\n",
              " 'n',\n",
              " 'c',\n",
              " 'e',\n",
              " 'i',\n",
              " 't',\n",
              " 'l',\n",
              " 'a',\n",
              " 'u',\n",
              " 'n',\n",
              " 'c',\n",
              " 'h',\n",
              " 'e',\n",
              " 'd',\n",
              " 'i',\n",
              " 'n',\n",
              " '1',\n",
              " '9',\n",
              " '9',\n",
              " '8',\n",
              " '.',\n",
              " 'T',\n",
              " 'h',\n",
              " 'e',\n",
              " 'p',\n",
              " 'a',\n",
              " 'n',\n",
              " 'i',\n",
              " 'c',\n",
              " 's',\n",
              " 'e',\n",
              " 'l',\n",
              " 'l',\n",
              " 'i',\n",
              " 'n',\n",
              " 'g',\n",
              " 'p',\n",
              " 'r',\n",
              " 'o',\n",
              " 'm',\n",
              " 'p',\n",
              " 't',\n",
              " 'e',\n",
              " 'd',\n",
              " 'b',\n",
              " 'y',\n",
              " 't',\n",
              " 'h',\n",
              " 'e',\n",
              " 'c',\n",
              " 'o',\n",
              " 'r',\n",
              " 'o',\n",
              " 'n',\n",
              " 'a',\n",
              " 'v',\n",
              " 'i',\n",
              " 'r',\n",
              " 'u',\n",
              " 's',\n",
              " 'h',\n",
              " 'a',\n",
              " 's',\n",
              " 'w',\n",
              " 'i',\n",
              " 'p',\n",
              " 'e',\n",
              " 'd',\n",
              " '£',\n",
              " '2',\n",
              " '.',\n",
              " '7',\n",
              " 't',\n",
              " 'n',\n",
              " 'o',\n",
              " 'f',\n",
              " 'f',\n",
              " 't',\n",
              " 'h',\n",
              " 'e',\n",
              " 'v',\n",
              " 'a',\n",
              " 'l',\n",
              " 'u',\n",
              " 'e',\n",
              " 'o',\n",
              " 'f',\n",
              " 'S',\n",
              " 'T',\n",
              " 'O',\n",
              " 'X',\n",
              " 'X',\n",
              " '6',\n",
              " '0',\n",
              " '0',\n",
              " 's',\n",
              " 'h',\n",
              " 'a',\n",
              " 'r',\n",
              " 'e',\n",
              " 's',\n",
              " 's',\n",
              " 'i',\n",
              " 'n',\n",
              " 'c',\n",
              " 'e',\n",
              " 'i',\n",
              " 't',\n",
              " 's',\n",
              " 'a',\n",
              " 'l',\n",
              " 'l',\n",
              " '-',\n",
              " 't',\n",
              " 'i',\n",
              " 'm',\n",
              " 'e',\n",
              " 'p',\n",
              " 'e',\n",
              " 'a',\n",
              " 'k',\n",
              " 'o',\n",
              " 'n',\n",
              " '1',\n",
              " '9',\n",
              " 'F',\n",
              " 'e',\n",
              " 'b',\n",
              " 'r',\n",
              " 'u',\n",
              " 'a',\n",
              " 'r',\n",
              " 'y',\n",
              " '.']"
            ]
          },
          "metadata": {},
          "execution_count": 97
        }
      ]
    },
    {
      "cell_type": "markdown",
      "source": [
        "Be careful of leaving a space between the care t and the backslash\n",
        "\n",
        "How to match any alphanumeric character using the character class?"
      ],
      "metadata": {
        "id": "wh0_eRiq5EK7"
      }
    },
    {
      "cell_type": "code",
      "source": [
        "result = re.findall(r\"[a-zA-Z0-9_]\",string)\n",
        "result"
      ],
      "metadata": {
        "colab": {
          "base_uri": "https://localhost:8080/"
        },
        "id": "-9j2N_Eu5EK7",
        "outputId": "4cbe7861-8901-469f-f9c7-6edc34a84e1e"
      },
      "execution_count": null,
      "outputs": [
        {
          "output_type": "execute_result",
          "data": {
            "text/plain": [
              "['T',\n",
              " 'h',\n",
              " 'e',\n",
              " 'E',\n",
              " 'u',\n",
              " 'r',\n",
              " 'o',\n",
              " 'S',\n",
              " 'T',\n",
              " 'O',\n",
              " 'X',\n",
              " 'X',\n",
              " '6',\n",
              " '0',\n",
              " '0',\n",
              " 'i',\n",
              " 'n',\n",
              " 'd',\n",
              " 'e',\n",
              " 'x',\n",
              " 'w',\n",
              " 'h',\n",
              " 'i',\n",
              " 'c',\n",
              " 'h',\n",
              " 't',\n",
              " 'r',\n",
              " 'a',\n",
              " 'c',\n",
              " 'k',\n",
              " 's',\n",
              " 'a',\n",
              " 'l',\n",
              " 'l',\n",
              " 's',\n",
              " 't',\n",
              " 'o',\n",
              " 'c',\n",
              " 'k',\n",
              " 'm',\n",
              " 'a',\n",
              " 'r',\n",
              " 'k',\n",
              " 'e',\n",
              " 't',\n",
              " 's',\n",
              " 'a',\n",
              " 'c',\n",
              " 'r',\n",
              " 'o',\n",
              " 's',\n",
              " 's',\n",
              " 'E',\n",
              " 'u',\n",
              " 'r',\n",
              " 'o',\n",
              " 'p',\n",
              " 'e',\n",
              " 'i',\n",
              " 'n',\n",
              " 'c',\n",
              " 'l',\n",
              " 'u',\n",
              " 'd',\n",
              " 'i',\n",
              " 'n',\n",
              " 'g',\n",
              " 't',\n",
              " 'h',\n",
              " 'e',\n",
              " 'F',\n",
              " 'T',\n",
              " 'S',\n",
              " 'E',\n",
              " 'f',\n",
              " 'e',\n",
              " 'l',\n",
              " 'l',\n",
              " 'b',\n",
              " 'y',\n",
              " '1',\n",
              " '1',\n",
              " '4',\n",
              " '8',\n",
              " 't',\n",
              " 'h',\n",
              " 'e',\n",
              " 'w',\n",
              " 'o',\n",
              " 'r',\n",
              " 's',\n",
              " 't',\n",
              " 'd',\n",
              " 'a',\n",
              " 'y',\n",
              " 's',\n",
              " 'i',\n",
              " 'n',\n",
              " 'c',\n",
              " 'e',\n",
              " 'i',\n",
              " 't',\n",
              " 'l',\n",
              " 'a',\n",
              " 'u',\n",
              " 'n',\n",
              " 'c',\n",
              " 'h',\n",
              " 'e',\n",
              " 'd',\n",
              " 'i',\n",
              " 'n',\n",
              " '1',\n",
              " '9',\n",
              " '9',\n",
              " '8',\n",
              " 'T',\n",
              " 'h',\n",
              " 'e',\n",
              " 'p',\n",
              " 'a',\n",
              " 'n',\n",
              " 'i',\n",
              " 'c',\n",
              " 's',\n",
              " 'e',\n",
              " 'l',\n",
              " 'l',\n",
              " 'i',\n",
              " 'n',\n",
              " 'g',\n",
              " 'p',\n",
              " 'r',\n",
              " 'o',\n",
              " 'm',\n",
              " 'p',\n",
              " 't',\n",
              " 'e',\n",
              " 'd',\n",
              " 'b',\n",
              " 'y',\n",
              " 't',\n",
              " 'h',\n",
              " 'e',\n",
              " 'c',\n",
              " 'o',\n",
              " 'r',\n",
              " 'o',\n",
              " 'n',\n",
              " 'a',\n",
              " 'v',\n",
              " 'i',\n",
              " 'r',\n",
              " 'u',\n",
              " 's',\n",
              " 'h',\n",
              " 'a',\n",
              " 's',\n",
              " 'w',\n",
              " 'i',\n",
              " 'p',\n",
              " 'e',\n",
              " 'd',\n",
              " '2',\n",
              " '7',\n",
              " 't',\n",
              " 'n',\n",
              " 'o',\n",
              " 'f',\n",
              " 'f',\n",
              " 't',\n",
              " 'h',\n",
              " 'e',\n",
              " 'v',\n",
              " 'a',\n",
              " 'l',\n",
              " 'u',\n",
              " 'e',\n",
              " 'o',\n",
              " 'f',\n",
              " 'S',\n",
              " 'T',\n",
              " 'O',\n",
              " 'X',\n",
              " 'X',\n",
              " '6',\n",
              " '0',\n",
              " '0',\n",
              " 's',\n",
              " 'h',\n",
              " 'a',\n",
              " 'r',\n",
              " 'e',\n",
              " 's',\n",
              " 's',\n",
              " 'i',\n",
              " 'n',\n",
              " 'c',\n",
              " 'e',\n",
              " 'i',\n",
              " 't',\n",
              " 's',\n",
              " 'a',\n",
              " 'l',\n",
              " 'l',\n",
              " 't',\n",
              " 'i',\n",
              " 'm',\n",
              " 'e',\n",
              " 'p',\n",
              " 'e',\n",
              " 'a',\n",
              " 'k',\n",
              " 'o',\n",
              " 'n',\n",
              " '1',\n",
              " '9',\n",
              " 'F',\n",
              " 'e',\n",
              " 'b',\n",
              " 'r',\n",
              " 'u',\n",
              " 'a',\n",
              " 'r',\n",
              " 'y']"
            ]
          },
          "metadata": {},
          "execution_count": 98
        }
      ]
    },
    {
      "cell_type": "markdown",
      "source": [
        "Whitespaces, symbols and punctuation marks are excluded from the list.\n",
        "\n",
        "Lets check the all non-alphanumeric characters in the class"
      ],
      "metadata": {
        "id": "jIkJI8-N5EN-"
      }
    },
    {
      "cell_type": "code",
      "source": [
        "result = re.findall(r\"[^a-zA-Z0-9_]\",string)\n",
        "result"
      ],
      "metadata": {
        "colab": {
          "base_uri": "https://localhost:8080/"
        },
        "id": "VYfhxt0z5EN-",
        "outputId": "74ba98d8-3be0-4727-f1c0-fa8597a4604c"
      },
      "execution_count": null,
      "outputs": [
        {
          "output_type": "execute_result",
          "data": {
            "text/plain": [
              "[' ',\n",
              " ' ',\n",
              " ' ',\n",
              " ' ',\n",
              " ',',\n",
              " ' ',\n",
              " ' ',\n",
              " ' ',\n",
              " ' ',\n",
              " ' ',\n",
              " ' ',\n",
              " ' ',\n",
              " ' ',\n",
              " ' ',\n",
              " ' ',\n",
              " ',',\n",
              " ' ',\n",
              " ' ',\n",
              " ' ',\n",
              " '.',\n",
              " '%',\n",
              " ' ',\n",
              " '–',\n",
              " ' ',\n",
              " ' ',\n",
              " ' ',\n",
              " ' ',\n",
              " ' ',\n",
              " ' ',\n",
              " ' ',\n",
              " ' ',\n",
              " '.',\n",
              " ' ',\n",
              " ' ',\n",
              " ' ',\n",
              " ' ',\n",
              " ' ',\n",
              " ' ',\n",
              " ' ',\n",
              " ' ',\n",
              " ' ',\n",
              " ' ',\n",
              " '£',\n",
              " '.',\n",
              " ' ',\n",
              " ' ',\n",
              " ' ',\n",
              " ' ',\n",
              " ' ',\n",
              " ' ',\n",
              " ' ',\n",
              " ' ',\n",
              " ' ',\n",
              " ' ',\n",
              " '-',\n",
              " ' ',\n",
              " ' ',\n",
              " ' ',\n",
              " ' ',\n",
              " '.']"
            ]
          },
          "metadata": {},
          "execution_count": 99
        }
      ]
    },
    {
      "cell_type": "markdown",
      "source": [
        "**Meta characters: The Curly Braces {}**\n",
        "\n",
        "It tells precisely how many times the preceding character will occur in the target string\n",
        "\n",
        "To get all the four letters in the target string"
      ],
      "metadata": {
        "id": "OoI1h0CI5ERH"
      }
    },
    {
      "cell_type": "code",
      "source": [
        "result = re.findall(r\"\\b\\w{4}\\b\",string)\n",
        "result"
      ],
      "metadata": {
        "id": "XAc_TtFk5ERH",
        "colab": {
          "base_uri": "https://localhost:8080/"
        },
        "outputId": "3dfe21cb-c454-4d90-be8d-0e2e46d211fa"
      },
      "execution_count": null,
      "outputs": [
        {
          "output_type": "execute_result",
          "data": {
            "text/plain": [
              "['Euro', 'FTSE', 'fell', '1998', 'time', 'peak']"
            ]
          },
          "metadata": {},
          "execution_count": 100
        }
      ]
    },
    {
      "cell_type": "markdown",
      "source": [
        "\\b sequence is to represent the boundary of the word.\n",
        "\n",
        "\\w includes digits also\n",
        "\n",
        "We want to match all the words that are at least 3 characters long but not more than 5 characters"
      ],
      "metadata": {
        "id": "t-bhoX9h5ET9"
      }
    },
    {
      "cell_type": "code",
      "source": [
        "result = re.findall(r\"\\b\\w{3,5}\\b\",string)\n",
        "result"
      ],
      "metadata": {
        "id": "NWt2uKSu5ET9",
        "colab": {
          "base_uri": "https://localhost:8080/"
        },
        "outputId": "65d9b29b-5854-40ac-b6cc-f90010bfbbdc"
      },
      "execution_count": null,
      "outputs": [
        {
          "output_type": "execute_result",
          "data": {
            "text/plain": [
              "['The',\n",
              " 'Euro',\n",
              " 'STOXX',\n",
              " '600',\n",
              " 'index',\n",
              " 'which',\n",
              " 'all',\n",
              " 'stock',\n",
              " 'the',\n",
              " 'FTSE',\n",
              " 'fell',\n",
              " 'the',\n",
              " 'worst',\n",
              " 'day',\n",
              " 'since',\n",
              " '1998',\n",
              " 'The',\n",
              " 'panic',\n",
              " 'the',\n",
              " 'has',\n",
              " 'wiped',\n",
              " '7tn',\n",
              " 'off',\n",
              " 'the',\n",
              " 'value',\n",
              " 'STOXX',\n",
              " '600',\n",
              " 'since',\n",
              " 'its',\n",
              " 'all',\n",
              " 'time',\n",
              " 'peak']"
            ]
          },
          "metadata": {},
          "execution_count": 101
        }
      ]
    },
    {
      "cell_type": "markdown",
      "source": [
        "find words that have at least 3 characters"
      ],
      "metadata": {
        "id": "cy0BpFyI5EWc"
      }
    },
    {
      "cell_type": "code",
      "source": [
        "result = re.findall(r\"\\b\\w{3,}\\b\",string)\n",
        "result"
      ],
      "metadata": {
        "id": "K3w6Kdlq5EWc",
        "colab": {
          "base_uri": "https://localhost:8080/"
        },
        "outputId": "6566cc24-b62e-4d61-e705-7ad82695b509"
      },
      "execution_count": null,
      "outputs": [
        {
          "output_type": "execute_result",
          "data": {
            "text/plain": [
              "['The',\n",
              " 'Euro',\n",
              " 'STOXX',\n",
              " '600',\n",
              " 'index',\n",
              " 'which',\n",
              " 'tracks',\n",
              " 'all',\n",
              " 'stock',\n",
              " 'markets',\n",
              " 'across',\n",
              " 'Europe',\n",
              " 'including',\n",
              " 'the',\n",
              " 'FTSE',\n",
              " 'fell',\n",
              " 'the',\n",
              " 'worst',\n",
              " 'day',\n",
              " 'since',\n",
              " 'launched',\n",
              " '1998',\n",
              " 'The',\n",
              " 'panic',\n",
              " 'selling',\n",
              " 'prompted',\n",
              " 'the',\n",
              " 'coronavirus',\n",
              " 'has',\n",
              " 'wiped',\n",
              " '7tn',\n",
              " 'off',\n",
              " 'the',\n",
              " 'value',\n",
              " 'STOXX',\n",
              " '600',\n",
              " 'shares',\n",
              " 'since',\n",
              " 'its',\n",
              " 'all',\n",
              " 'time',\n",
              " 'peak',\n",
              " 'February']"
            ]
          },
          "metadata": {},
          "execution_count": 102
        }
      ]
    },
    {
      "cell_type": "markdown",
      "source": [
        "Let us say we have this number"
      ],
      "metadata": {
        "id": "PMjgsN_P5EZW"
      }
    },
    {
      "cell_type": "code",
      "source": [
        "number = '12391827172820919011001911'\n",
        "result  = re.search(r\"\\d{3,6}\",number)\n",
        "result"
      ],
      "metadata": {
        "id": "CuCqie1i5EZX",
        "colab": {
          "base_uri": "https://localhost:8080/"
        },
        "outputId": "54943d01-680b-4ea4-ca47-7c0233b15fa1"
      },
      "execution_count": null,
      "outputs": [
        {
          "output_type": "execute_result",
          "data": {
            "text/plain": [
              "<re.Match object; span=(0, 6), match='123918'>"
            ]
          },
          "metadata": {},
          "execution_count": 103
        }
      ]
    },
    {
      "cell_type": "markdown",
      "source": [
        "Here the greedy behaviour, it matched upto 6 digits. Suppose we want to match upto three digits then"
      ],
      "metadata": {
        "id": "enEbZazw5Eb_"
      }
    },
    {
      "cell_type": "code",
      "source": [
        "result  = re.search(r\"\\d{3,6}?\",number)\n",
        "result"
      ],
      "metadata": {
        "id": "xzZCY9Rk5Eb_",
        "colab": {
          "base_uri": "https://localhost:8080/"
        },
        "outputId": "87c2ae32-da96-417a-9f4d-d8092635140a"
      },
      "execution_count": null,
      "outputs": [
        {
          "output_type": "execute_result",
          "data": {
            "text/plain": [
              "<re.Match object; span=(0, 3), match='123'>"
            ]
          },
          "metadata": {},
          "execution_count": 104
        }
      ]
    },
    {
      "cell_type": "markdown",
      "source": [
        "**The Pipe | operator**\n",
        "\n",
        "The gereral format for this is A|B|C\n",
        "\n",
        "where A, B and C are the distinct regular expression. Only one of the patterns is matched. The patterns are tried from left to right.As soon as the pattern is matched, the rest of the patterns after it will be ignored.\n",
        "\n",
        "This means this metacharacter is not greedy."
      ],
      "metadata": {
        "id": "qWm7pzBV5Eet"
      }
    },
    {
      "cell_type": "code",
      "source": [
        "result = re.search(r\"\\d{3}|d{4}|\\b[A-Z]{4}\\b\",string)\n",
        "result"
      ],
      "metadata": {
        "id": "WzxRvdgv5Eet",
        "colab": {
          "base_uri": "https://localhost:8080/"
        },
        "outputId": "64fc59ef-d20d-48ca-ffc2-65955441fc37"
      },
      "execution_count": null,
      "outputs": [
        {
          "output_type": "execute_result",
          "data": {
            "text/plain": [
              "<re.Match object; span=(15, 18), match='600'>"
            ]
          },
          "metadata": {},
          "execution_count": 105
        }
      ]
    },
    {
      "cell_type": "markdown",
      "source": [
        "So in the target string, I want to find exactly 3 digits, or if this pattern has no match, to search for a set of exactly 4 consecutive digits, or if this pattern has no match, then find me any 4 letter words, where each letter of the word is upper case.\n",
        "\n",
        "Lets modify the first pattern, replace 3 with 8"
      ],
      "metadata": {
        "id": "mhJ6wUfd5EhY"
      }
    },
    {
      "cell_type": "code",
      "source": [
        "result = re.search(r\"\\d{8}|d{4}|\\b[A-Z]{4}\\b\",string)\n",
        "result"
      ],
      "metadata": {
        "id": "79omY5F45EhY",
        "colab": {
          "base_uri": "https://localhost:8080/"
        },
        "outputId": "cd347d91-a540-4a40-ddf8-4f253e9f6aaa"
      },
      "execution_count": null,
      "outputs": [
        {
          "output_type": "execute_result",
          "data": {
            "text/plain": [
              "<re.Match object; span=(85, 89), match='FTSE'>"
            ]
          },
          "metadata": {},
          "execution_count": 106
        }
      ]
    },
    {
      "cell_type": "markdown",
      "source": [
        "The result produces a set of 4 consective upper case letter\n",
        "\n",
        "**Special Sequences \\A and \\Z**\n",
        "\n",
        "\\A matches only at the beginning of the string. When the target string is not a multiline string, meaning it doesn't contain any newline character, then it works exactly as the ^ metacharacter does, means matching only at the very beginning of the string.\n",
        "\n",
        "On the other hand, if we do have a multiline string, then \\A will still match only at the beginning of the string, while the ^ will match at the beginning of each line of the string, so after each newline character.\n",
        "\n",
        "Lets add a \\n between two sentences of our string\n",
        "\n",
        "\n"
      ],
      "metadata": {
        "id": "nH9cQlWF5EkW"
      }
    },
    {
      "cell_type": "code",
      "source": [
        "string = \"The Euro STOXX 600 index, which tracks all stock markets across Europe including the FTSE, fell by 11.48% – the worst day since it launched in 1998. The panic selling prompted by the coronavirus has wiped £2.7tn off the value of STOXX 600 shares since its all-time peak on 19 February.\"\n",
        "result = re.findall(r\"^([A-Z].*?)\\s\",string,re.M)\n",
        "result"
      ],
      "metadata": {
        "id": "WMKg7XUN5EkW",
        "colab": {
          "base_uri": "https://localhost:8080/"
        },
        "outputId": "691a3d0b-a60c-4ee0-b215-b0354a0e5d65"
      },
      "execution_count": null,
      "outputs": [
        {
          "output_type": "execute_result",
          "data": {
            "text/plain": [
              "['The']"
            ]
          },
          "metadata": {},
          "execution_count": 107
        }
      ]
    },
    {
      "cell_type": "markdown",
      "source": [
        "Lets use \\A"
      ],
      "metadata": {
        "id": "yoAXkJRT5Emk"
      }
    },
    {
      "cell_type": "code",
      "source": [
        "result = re.findall(r\"\\A([A-Z].*?)\\s\",string,re.M)\n",
        "result"
      ],
      "metadata": {
        "id": "O6Ap6dii5Emk",
        "colab": {
          "base_uri": "https://localhost:8080/"
        },
        "outputId": "cc3315a5-87f5-48b0-c219-0845b006e61c"
      },
      "execution_count": null,
      "outputs": [
        {
          "output_type": "execute_result",
          "data": {
            "text/plain": [
              "['The']"
            ]
          },
          "metadata": {},
          "execution_count": 108
        }
      ]
    },
    {
      "cell_type": "markdown",
      "source": [
        "\\Z"
      ],
      "metadata": {
        "id": "uNxOeE1q5EqQ"
      }
    },
    {
      "cell_type": "code",
      "source": [
        "result = re.findall(r\"\\W\\Z\",string,re.M)\n",
        "result"
      ],
      "metadata": {
        "id": "kAUCivNP5EqQ",
        "colab": {
          "base_uri": "https://localhost:8080/"
        },
        "outputId": "1cc83d5d-efcf-42a1-857d-bd67094516e0"
      },
      "execution_count": null,
      "outputs": [
        {
          "output_type": "execute_result",
          "data": {
            "text/plain": [
              "['.']"
            ]
          },
          "metadata": {},
          "execution_count": 109
        }
      ]
    },
    {
      "cell_type": "markdown",
      "source": [
        "$ sign in contrast will each of the end in the multiline string"
      ],
      "metadata": {
        "id": "XGHxjQHU5Es-"
      }
    },
    {
      "cell_type": "code",
      "source": [
        "result = re.findall(r\"\\W$\",string,re.M)\n",
        "result"
      ],
      "metadata": {
        "id": "dT7L-9Ps5Es-",
        "colab": {
          "base_uri": "https://localhost:8080/"
        },
        "outputId": "b5baaf04-b960-494f-c3f9-70b66a6a7810"
      },
      "execution_count": null,
      "outputs": [
        {
          "output_type": "execute_result",
          "data": {
            "text/plain": [
              "['.']"
            ]
          },
          "metadata": {},
          "execution_count": 110
        }
      ]
    },
    {
      "cell_type": "markdown",
      "source": [
        "\\b  : To signal word boundaries\n",
        "\n",
        "Match all the words at least carrying 10 characters\n"
      ],
      "metadata": {
        "id": "aVe-LWHq5Evv"
      }
    },
    {
      "cell_type": "code",
      "source": [
        "string =\"The Euro STOXX 600 index, which tracks all stock markets across Europe including the FTSE, fell by 11.48% – the worst day since it launched in 1998. The panic selling prompted by the coronavirus has wiped £2.7tn off the value of STOXX 600 shares since its all-time peak on 19 February.\"\n",
        "result= re.findall(r\"\\b\\w{10,}\\b\",string)\n",
        "result"
      ],
      "metadata": {
        "id": "lVjirSwm5Evw",
        "colab": {
          "base_uri": "https://localhost:8080/"
        },
        "outputId": "d9aa2e52-9493-4cf5-8b19-00dbf5b3c273"
      },
      "execution_count": null,
      "outputs": [
        {
          "output_type": "execute_result",
          "data": {
            "text/plain": [
              "['coronavirus']"
            ]
          },
          "metadata": {},
          "execution_count": 111
        }
      ]
    },
    {
      "cell_type": "markdown",
      "source": [
        "Check for word Euro ( Will only return the separate word, will not return if it is contained in another word)"
      ],
      "metadata": {
        "id": "XJAAGsqx5EyZ"
      }
    },
    {
      "cell_type": "code",
      "source": [
        "result= re.findall(r\"\\bEuro\\b\",string)\n",
        "result"
      ],
      "metadata": {
        "id": "Dd5edssz5Eya",
        "colab": {
          "base_uri": "https://localhost:8080/"
        },
        "outputId": "7c60f299-41d3-4751-cfc0-167b05db672f"
      },
      "execution_count": null,
      "outputs": [
        {
          "output_type": "execute_result",
          "data": {
            "text/plain": [
              "['Euro']"
            ]
          },
          "metadata": {},
          "execution_count": 112
        }
      ]
    },
    {
      "cell_type": "markdown",
      "source": [
        "Will not match Europe\n",
        "\n",
        "\\B matches empty string but this time not at the beginning or end of the word.\n",
        "\n",
        "So part of the word not at the beginning"
      ],
      "metadata": {
        "id": "CrMWlGCI5E1J"
      }
    },
    {
      "cell_type": "code",
      "source": [
        "result= re.findall(r\"\\Bcross\",string)\n",
        "result"
      ],
      "metadata": {
        "id": "8YYnr5AM5E1J",
        "colab": {
          "base_uri": "https://localhost:8080/"
        },
        "outputId": "f3ee7ae6-64e3-4032-d4f8-13ff7c61a041"
      },
      "execution_count": null,
      "outputs": [
        {
          "output_type": "execute_result",
          "data": {
            "text/plain": [
              "['cross']"
            ]
          },
          "metadata": {},
          "execution_count": 113
        }
      ]
    },
    {
      "cell_type": "markdown",
      "source": [
        "so part of the word not at the end"
      ],
      "metadata": {
        "id": "rqMe33j95E21"
      }
    },
    {
      "cell_type": "code",
      "source": [
        "result= re.findall(r\"cross\\B\",string)\n",
        "result"
      ],
      "metadata": {
        "id": "4Z21pHqq5E22",
        "colab": {
          "base_uri": "https://localhost:8080/"
        },
        "outputId": "59097637-6069-4cf8-9141-81cd85d09c8a"
      },
      "execution_count": null,
      "outputs": [
        {
          "output_type": "execute_result",
          "data": {
            "text/plain": [
              "[]"
            ]
          },
          "metadata": {},
          "execution_count": 114
        }
      ]
    },
    {
      "cell_type": "markdown",
      "source": [
        "To find something in the middle\n",
        "\n",
        "Use \\B twice in the pattren"
      ],
      "metadata": {
        "id": "WL3A23A55E5Y"
      }
    },
    {
      "cell_type": "code",
      "source": [
        "result= re.findall(r\"\\Bcross\\B\",string)\n",
        "result"
      ],
      "metadata": {
        "id": "ZOF1O_3N5E5Y",
        "colab": {
          "base_uri": "https://localhost:8080/"
        },
        "outputId": "0e869862-299e-4fcf-ee0b-bcdc0a640ae9"
      },
      "execution_count": null,
      "outputs": [
        {
          "output_type": "execute_result",
          "data": {
            "text/plain": [
              "[]"
            ]
          },
          "metadata": {},
          "execution_count": 115
        }
      ]
    },
    {
      "cell_type": "markdown",
      "source": [
        "Empty list, since no matches are found\n",
        "\n",
        "**\\d and \\D**\n",
        "\n",
        "\\d matches any digit between 0 to 9 =[0-9]\n",
        "\n",
        "To find all the characters in the target string followed by the lowercase letters\n"
      ],
      "metadata": {
        "id": "W072aSUr5E8Z"
      }
    },
    {
      "cell_type": "code",
      "source": [
        "result= re.findall(r\"(\\d)[a-z]\\B\",string)\n",
        "result"
      ],
      "metadata": {
        "id": "p7rdvvy95E8Z",
        "colab": {
          "base_uri": "https://localhost:8080/"
        },
        "outputId": "4deb90e3-1e9e-4a5f-8763-43db6a6c7662"
      },
      "execution_count": null,
      "outputs": [
        {
          "output_type": "execute_result",
          "data": {
            "text/plain": [
              "['7']"
            ]
          },
          "metadata": {},
          "execution_count": 116
        }
      ]
    },
    {
      "cell_type": "markdown",
      "source": [
        "\\D = [^0-9]\n",
        "\n",
        "To find non digit characters that are borderd by non-alphanumeric characters"
      ],
      "metadata": {
        "id": "N-v3nNko5E_Q"
      }
    },
    {
      "cell_type": "code",
      "source": [
        "result= re.findall(r\"\\W\\D\\W\",string)\n",
        "result"
      ],
      "metadata": {
        "id": "JAV2BRbZ5E_Q",
        "colab": {
          "base_uri": "https://localhost:8080/"
        },
        "outputId": "1e6fbb21-03fc-4650-a8ca-f03628c58c4a"
      },
      "execution_count": null,
      "outputs": [
        {
          "output_type": "execute_result",
          "data": {
            "text/plain": [
              "['% –']"
            ]
          },
          "metadata": {},
          "execution_count": 117
        }
      ]
    },
    {
      "cell_type": "markdown",
      "source": [
        "If you want character you use \\D using paranthesis in the middle"
      ],
      "metadata": {
        "id": "_CoLJziE5FB_"
      }
    },
    {
      "cell_type": "code",
      "source": [
        "result= re.findall(r\"\\W(\\D)\\W\",string)\n",
        "result"
      ],
      "metadata": {
        "id": "qJLKZLzk5FB_",
        "colab": {
          "base_uri": "https://localhost:8080/"
        },
        "outputId": "ad078783-23b1-4382-829b-33c2d84f1583"
      },
      "execution_count": null,
      "outputs": [
        {
          "output_type": "execute_result",
          "data": {
            "text/plain": [
              "[' ']"
            ]
          },
          "metadata": {},
          "execution_count": 118
        }
      ]
    },
    {
      "cell_type": "markdown",
      "source": [
        "Thats the only match in the target string\n",
        "\n",
        "**\\s and \\S**\n",
        "\n",
        "\\s matches any white space character inside the target string, whitespace includes \\t, \\n, \\r, \\f, \\v\n",
        "\n",
        "\\s = [ \\n\\t\\f\\r\\v]"
      ],
      "metadata": {
        "id": "HPoJ-ycN5FE2"
      }
    },
    {
      "cell_type": "code",
      "source": [
        "string =\"The Euro STOXX 600 index, which tracks all stock markets across Europe including the FTSE, fell by 11.48% – the worst day since it launched in 1998.\\n The panic selling prompted by the coronavirus has wiped £2.7tn off the value of STOXX 600 shares since its all-time peak on 19 February.\"\n",
        "result = re.findall(r\"\\s\",string)\n",
        "result"
      ],
      "metadata": {
        "id": "G2lMgov05FE2",
        "colab": {
          "base_uri": "https://localhost:8080/"
        },
        "outputId": "80e3b533-fca0-4652-aa91-38f0710673d1"
      },
      "execution_count": null,
      "outputs": [
        {
          "output_type": "execute_result",
          "data": {
            "text/plain": [
              "[' ',\n",
              " ' ',\n",
              " ' ',\n",
              " ' ',\n",
              " ' ',\n",
              " ' ',\n",
              " ' ',\n",
              " ' ',\n",
              " ' ',\n",
              " ' ',\n",
              " ' ',\n",
              " ' ',\n",
              " ' ',\n",
              " ' ',\n",
              " ' ',\n",
              " ' ',\n",
              " ' ',\n",
              " ' ',\n",
              " ' ',\n",
              " ' ',\n",
              " ' ',\n",
              " ' ',\n",
              " ' ',\n",
              " ' ',\n",
              " ' ',\n",
              " ' ',\n",
              " '\\n',\n",
              " ' ',\n",
              " ' ',\n",
              " ' ',\n",
              " ' ',\n",
              " ' ',\n",
              " ' ',\n",
              " ' ',\n",
              " ' ',\n",
              " ' ',\n",
              " ' ',\n",
              " ' ',\n",
              " ' ',\n",
              " ' ',\n",
              " ' ',\n",
              " ' ',\n",
              " ' ',\n",
              " ' ',\n",
              " ' ',\n",
              " ' ',\n",
              " ' ',\n",
              " ' ',\n",
              " ' ',\n",
              " ' ',\n",
              " ' ']"
            ]
          },
          "metadata": {},
          "execution_count": 119
        }
      ]
    },
    {
      "cell_type": "markdown",
      "source": [
        "notice the new line character \\n\n",
        "\n",
        "\\S: Matches all the characters except whitespace chacaters\n",
        "\n",
        "Match all occurrences of at least 8 non white space characters"
      ],
      "metadata": {
        "id": "5Gjq4uhV5FHs"
      }
    },
    {
      "cell_type": "code",
      "source": [
        "result = re.findall(r\"\\S{8,}\",string)\n",
        "result"
      ],
      "metadata": {
        "id": "FSjsSTfY5FHt",
        "colab": {
          "base_uri": "https://localhost:8080/"
        },
        "outputId": "e342594e-303f-420c-904e-787207b38be6"
      },
      "execution_count": null,
      "outputs": [
        {
          "output_type": "execute_result",
          "data": {
            "text/plain": [
              "['including', 'launched', 'prompted', 'coronavirus', 'all-time', 'February.']"
            ]
          },
          "metadata": {},
          "execution_count": 120
        }
      ]
    },
    {
      "cell_type": "markdown",
      "source": [
        "\\w matches any alphanumeric character also known as a word character.\n",
        "\n",
        "This includes the lowercase and uppercase letters, the digits 0 to 9 and the underscore character."
      ],
      "metadata": {
        "id": "VXrXsahe5FKh"
      }
    },
    {
      "cell_type": "code",
      "source": [
        "string =\"The Euro STOXX 600 index, which tracks all stock markets across Europe including the FTSE, fell by 11.48% – the worst day since it launched in 1998. The panic selling prompted by the coronavirus has wiped £2.7tn off the value of STOXX 600 shares since its all-time peak on 19 February.\"\n",
        "result = re.findall(r\"\\s(\\w{3,5})\\s\",string)\n",
        "result"
      ],
      "metadata": {
        "id": "kwDTYnHA5FKh",
        "colab": {
          "base_uri": "https://localhost:8080/"
        },
        "outputId": "af4e350c-4a80-41c1-a515-ce4d0e637a49"
      },
      "execution_count": null,
      "outputs": [
        {
          "output_type": "execute_result",
          "data": {
            "text/plain": [
              "['Euro',\n",
              " '600',\n",
              " 'which',\n",
              " 'all',\n",
              " 'the',\n",
              " 'fell',\n",
              " 'the',\n",
              " 'day',\n",
              " 'The',\n",
              " 'the',\n",
              " 'has',\n",
              " 'off',\n",
              " 'value',\n",
              " 'STOXX',\n",
              " 'since',\n",
              " 'peak']"
            ]
          },
          "metadata": {},
          "execution_count": 121
        }
      ]
    },
    {
      "cell_type": "markdown",
      "source": [
        "\\W matches any non alphanumeric character"
      ],
      "metadata": {
        "id": "ERIbbPMa5FNU"
      }
    },
    {
      "cell_type": "code",
      "source": [
        "result = re.findall(r\"\\W\",string)\n",
        "result"
      ],
      "metadata": {
        "id": "43BTqGtX5FNU",
        "colab": {
          "base_uri": "https://localhost:8080/"
        },
        "outputId": "7bf04818-365e-4931-ff10-6dddfd388e7d"
      },
      "execution_count": null,
      "outputs": [
        {
          "output_type": "execute_result",
          "data": {
            "text/plain": [
              "[' ',\n",
              " ' ',\n",
              " ' ',\n",
              " ' ',\n",
              " ',',\n",
              " ' ',\n",
              " ' ',\n",
              " ' ',\n",
              " ' ',\n",
              " ' ',\n",
              " ' ',\n",
              " ' ',\n",
              " ' ',\n",
              " ' ',\n",
              " ' ',\n",
              " ',',\n",
              " ' ',\n",
              " ' ',\n",
              " ' ',\n",
              " '.',\n",
              " '%',\n",
              " ' ',\n",
              " '–',\n",
              " ' ',\n",
              " ' ',\n",
              " ' ',\n",
              " ' ',\n",
              " ' ',\n",
              " ' ',\n",
              " ' ',\n",
              " ' ',\n",
              " '.',\n",
              " ' ',\n",
              " ' ',\n",
              " ' ',\n",
              " ' ',\n",
              " ' ',\n",
              " ' ',\n",
              " ' ',\n",
              " ' ',\n",
              " ' ',\n",
              " ' ',\n",
              " '£',\n",
              " '.',\n",
              " ' ',\n",
              " ' ',\n",
              " ' ',\n",
              " ' ',\n",
              " ' ',\n",
              " ' ',\n",
              " ' ',\n",
              " ' ',\n",
              " ' ',\n",
              " ' ',\n",
              " '-',\n",
              " ' ',\n",
              " ' ',\n",
              " ' ',\n",
              " ' ',\n",
              " '.']"
            ]
          },
          "metadata": {},
          "execution_count": 122
        }
      ]
    }
  ]
}