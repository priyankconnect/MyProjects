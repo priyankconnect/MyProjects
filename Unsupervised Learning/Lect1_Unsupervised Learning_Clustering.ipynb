{
 "cells": [
  {
   "cell_type": "code",
   "execution_count": 1,
   "id": "debbfdc7",
   "metadata": {},
   "outputs": [],
   "source": [
    "# Import libraries\n",
    "import numpy as np\n",
    "import pandas as pd\n",
    "import os,time\n",
    "import pickle,gzip"
   ]
  },
  {
   "cell_type": "code",
   "execution_count": 2,
   "id": "f22dcc9f",
   "metadata": {},
   "outputs": [],
   "source": [
    "import matplotlib.pyplot as plt\n",
    "import matplotlib as mpl\n",
    "import seaborn as sns\n",
    "color=sns.color_palette()\n",
    "%matplotlib inline"
   ]
  },
  {
   "cell_type": "code",
   "execution_count": 3,
   "id": "c5a3df6d",
   "metadata": {},
   "outputs": [],
   "source": [
    "from sklearn import preprocessing as pp\n",
    "from  sklearn.model_selection import train_test_split\n",
    "from sklearn.metrics import precision_recall_curve,average_precision_score\n",
    "from sklearn.metrics import roc_curve,auc,roc_auc_score"
   ]
  },
  {
   "cell_type": "code",
   "execution_count": 7,
   "id": "9ba98ea5",
   "metadata": {},
   "outputs": [],
   "source": [
    "from sklearn.decomposition import PCA\n",
    "from sklearn.cluster import KMeans\n",
    "import fastcluster\n",
    "from scipy.cluster.hierarchy import dendrogram, cophenet,fcluster\n",
    "from scipy.spatial.distance import pdist"
   ]
  },
  {
   "cell_type": "code",
   "execution_count": 9,
   "id": "8eb13a19",
   "metadata": {},
   "outputs": [],
   "source": [
    "current_path=os.getcwd()\n",
    "file='\\mnist.pkl.gz'\n",
    "\n",
    "f=gzip.open(current_path+file,'rb')\n",
    "train_set,validation_set,test_set=pickle.load(f,encoding='latin1')\n",
    "f.close()\n",
    "\n",
    "X_train,y_train=train_set[0],train_set[1]\n",
    "X_validation,y_validation=validation_set[0],validation_set[1]\n",
    "X_test,y_test=test_set[0],test_set[1]"
   ]
  },
  {
   "cell_type": "code",
   "execution_count": 10,
   "id": "ad87bf56",
   "metadata": {},
   "outputs": [],
   "source": [
    "train_index=range(0,len(X_train))\n",
    "validation_index=range(len(X_train),len(X_train)+len(X_validation))\n",
    "test_index=range(len(X_train)+len(X_validation),len(X_train)+len(X_validation)+len(X_test))\n",
    "\n",
    "X_train=pd.DataFrame(data=X_train,index=train_index)\n",
    "y_train=pd.Series(data=y_train,index=train_index)\n",
    "\n",
    "X_validation=pd.DataFrame(data=X_validation,index=validation_index)\n",
    "y_validation=pd.Series(data=y_validation,index=validation_index)\n",
    "\n",
    "X_test=pd.DataFrame(data=X_test,index=test_index)\n",
    "y_test=pd.Series(data=y_test,index=test_index)"
   ]
  },
  {
   "cell_type": "code",
   "execution_count": 11,
   "id": "48ef5174",
   "metadata": {},
   "outputs": [],
   "source": [
    "# PCA\n",
    "from sklearn.decomposition import PCA\n",
    "\n",
    "n_components=784\n",
    "whiten=False\n",
    "random_state=2018\n",
    "\n",
    "pca=PCA(n_components=n_components,whiten=whiten,random_state=random_state)\n",
    "X_train_PCA=pca.fit_transform(X_train)\n",
    "X_train_PCA=pd.DataFrame(data=X_train_PCA, index=train_index)"
   ]
  },
  {
   "cell_type": "code",
   "execution_count": 13,
   "id": "896c56a0",
   "metadata": {},
   "outputs": [],
   "source": [
    "# Log Data\n",
    "cwd=os.getcwd()\n",
    "# Specify the directory\n",
    "log_dir = cwd + \"/logs/05_clustering/\"\n",
    "\n",
    "# Create the directory if it doesn't exist\n",
    "if not os.path.exists(log_dir):\n",
    "    os.makedirs(log_dir)\n",
    "\n",
    "# Save the file\n",
    "y_train[0:2000].to_csv(log_dir + 'labels.tsv', sep='\\t', index=False, header=False)"
   ]
  },
  {
   "cell_type": "code",
   "execution_count": 16,
   "id": "1e28d549",
   "metadata": {},
   "outputs": [],
   "source": [
    "# K-means - Inertia as the number of clusters varies\n",
    "from sklearn.cluster import KMeans\n",
    "\n",
    "n_clusters=10\n",
    "n_init=10 # max number of initializations we would like to perform\n",
    "max_iter=300\n",
    "tol=0.0001\n",
    "random_state=2010\n",
    "\n",
    "KMeans_inertia=pd.DataFrame(data=[],index=range(2,21),columns=['inertia']) # We will check cluster sizes from 2 to 20 and record the inertia for each\n",
    "\n",
    "for n_clusters in range(2,21):\n",
    "    kmeans =KMeans(n_clusters=n_clusters,n_init=n_init,max_iter=max_iter,tol=tol,random_state=random_state)\n",
    "    \n",
    "    cutoff=99\n",
    "    kmeans.fit(X_train_PCA.loc[:,0:cutoff])\n",
    "    KMeans_inertia.loc[n_clusters]=kmeans.inertia_"
   ]
  },
  {
   "cell_type": "code",
   "execution_count": 18,
   "id": "4efd4097",
   "metadata": {},
   "outputs": [
    {
     "data": {
      "text/plain": [
       "<Axes: >"
      ]
     },
     "execution_count": 18,
     "metadata": {},
     "output_type": "execute_result"
    },
    {
     "data": {
      "image/png": "[encoded data removed]",
      "text/plain": [
       "<Figure size 640x480 with 1 Axes>"
      ]
     },
     "metadata": {},
     "output_type": "display_data"
    }
   ],
   "source": [
    "# Plot inertia relative to k # of clusters\n",
    "KMeans_inertia.plot()"
   ]
  },
  {
   "cell_type": "code",
   "execution_count": 19,
   "id": "6751c990",
   "metadata": {},
   "outputs": [],
   "source": [
    "# Define analyze cluster function\n",
    "def analyzeCluster(clusterDF,labelsDF):\n",
    "    CountByCluster=pd.DataFrame(data=clusterDF['cluster'].value_counts())\n",
    "    countByCluster.reset_index(inplace=True,drop=False)\n",
    "    countByCluster.columns=['cluster','clusterCount']\n",
    "    \n",
    "    preds=pd.concat(['labelsDF','clsuterDF'],axis=1)\n",
    "    preds.columns=['trueLabel','cluster']\n",
    "    \n",
    "    countByLabel=pd.DataFrame(data=preds.groupby('trueLabel').count())\n",
    "    \n",
    "    countMostFreq=pd.DataFrame(data=preds.groupby('cluster').agg(lambda x:x.value_counts().iloc[0]))\n",
    "    countMostFreq.reset_index(inplace=True,drop=False)\n",
    "    countMostFreq.columns=['cluster','countMostFrequent']\n",
    "    \n",
    "    AccuracyDF=countMostFreq.merge(CountByCluster,left_on='cluster',right_on='cluster')\n",
    "    overallAccuracy=accuracyDF.countMostFrequent.sum()/accuracyDF.clusterCount.sum()\n",
    "    accuracyByLabel=accuracyDF.countMostFrequent/accuracyDf.clusterCount\n",
    "    \n",
    "    return countByCluster,countByLabel,countMostFreq, accuracyDF,overallAccuracy,accuracyByLabel"
   ]
  },
  {
   "cell_type": "code",
   "execution_count": null,
   "id": "591d271b",
   "metadata": {},
   "outputs": [],
   "source": [
    "# K-means - Accuracy as the number of clusters varies\n",
    "\n",
    "n_clusters=5\n",
    "n_init=10\n",
    "max_iter=300\n",
    "tol-0.0001\n",
    "random_state=2010\n",
    "\n",
    "KMeans_inertia=pd.DataFrame(data=[],index=range(2,21),columns=['inertia']) # We will check cluster sizes from 2 to 20 and record the inertia for each\n",
    "overallAccuracy_KMeansDF=pd.DataFrame(data=[],index=range(2,21),columns=['overallAccuracy'])\n",
    "\n",
    "for n_clusters in range(2,21):\n",
    "    kmeans =KMeans(n_clusters=n_clusters,n_init=n_init,max_iter=max_iter,tol=tol,random_state=random_state)\n",
    "    \n",
    "    cutoff=99\n",
    "    kmeans.fit(X_train_PCA.loc[:,0:cutoff])\n",
    "    KMeans_inertia.loc[n_clusters]=kmeans.inertia_\n",
    "    X_train_kmeansClustered=kmeans.predict(X_train_PCA.loc[:,0:cutoff])\n",
    "    X_train_kmeansClustered=pd.DataFrame(data=X_train_kmeansClustered,index=X_train.index,)"
   ]
  }
 ],
 "metadata": {
  "kernelspec": {
   "display_name": "Python 3 (ipykernel)",
   "language": "python",
   "name": "python3"
  },
  "language_info": {
   "codemirror_mode": {
    "name": "ipython",
    "version": 3
   },
   "file_extension": ".py",
   "mimetype": "text/x-python",
   "name": "python",
   "nbconvert_exporter": "python",
   "pygments_lexer": "ipython3",
   "version": "3.11.4"
  }
 },
 "nbformat": 4,
 "nbformat_minor": 5
}
