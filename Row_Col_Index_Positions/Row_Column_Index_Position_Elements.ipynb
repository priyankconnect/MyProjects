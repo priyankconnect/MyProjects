{
 "cells": [
  {
   "cell_type": "markdown",
   "id": "682b199a",
   "metadata": {},
   "source": [
    "Given the following terms:\n",
    "\n",
    "x: row position of the element.\n",
    "\n",
    "y: row name (index) of the element.\n",
    "\n",
    "z: actual element.\n",
    "\n",
    "a: column position of the element.\n",
    "\n",
    "b: name of the column.\n",
    "\n",
    "We'll determine how to find one aspect when the others are given. \n",
    "\n",
    "Let's start by creating a sample DataFrame to use for our examples. We'll then systematically go through the scenarios provided and test each one."
   ]
  },
  {
   "cell_type": "code",
   "execution_count": 2,
   "id": "bd35e4b5",
   "metadata": {},
   "outputs": [
    {
     "data": {
      "text/html": [
       "<div>\n",
       "<style scoped>\n",
       "    .dataframe tbody tr th:only-of-type {\n",
       "        vertical-align: middle;\n",
       "    }\n",
       "\n",
       "    .dataframe tbody tr th {\n",
       "        vertical-align: top;\n",
       "    }\n",
       "\n",
       "    .dataframe thead th {\n",
       "        text-align: right;\n",
       "    }\n",
       "</style>\n",
       "<table border=\"1\" class=\"dataframe\">\n",
       "  <thead>\n",
       "    <tr style=\"text-align: right;\">\n",
       "      <th></th>\n",
       "      <th>A</th>\n",
       "      <th>B</th>\n",
       "      <th>C</th>\n",
       "    </tr>\n",
       "  </thead>\n",
       "  <tbody>\n",
       "    <tr>\n",
       "      <th>row1</th>\n",
       "      <td>10</td>\n",
       "      <td>5</td>\n",
       "      <td>1</td>\n",
       "    </tr>\n",
       "    <tr>\n",
       "      <th>row2</th>\n",
       "      <td>20</td>\n",
       "      <td>15</td>\n",
       "      <td>2</td>\n",
       "    </tr>\n",
       "    <tr>\n",
       "      <th>row3</th>\n",
       "      <td>30</td>\n",
       "      <td>25</td>\n",
       "      <td>3</td>\n",
       "    </tr>\n",
       "    <tr>\n",
       "      <th>row4</th>\n",
       "      <td>40</td>\n",
       "      <td>35</td>\n",
       "      <td>4</td>\n",
       "    </tr>\n",
       "  </tbody>\n",
       "</table>\n",
       "</div>"
      ],
      "text/plain": [
       "       A   B  C\n",
       "row1  10   5  1\n",
       "row2  20  15  2\n",
       "row3  30  25  3\n",
       "row4  40  35  4"
      ]
     },
     "execution_count": 2,
     "metadata": {},
     "output_type": "execute_result"
    }
   ],
   "source": [
    "import pandas as pd\n",
    "\n",
    "# Sample DataFrame\n",
    "data = {\n",
    "    'A': [10, 20, 30, 40],\n",
    "    'B': [5, 15, 25, 35],\n",
    "    'C': [1, 2, 3, 4]\n",
    "}\n",
    "\n",
    "df = pd.DataFrame(data, index=['row1', 'row2', 'row3', 'row4'])\n",
    "df\n"
   ]
  },
  {
   "cell_type": "code",
   "execution_count": 3,
   "id": "ff75226f",
   "metadata": {},
   "outputs": [
    {
     "name": "stdout",
     "output_type": "stream",
     "text": [
      "x: Row Position, y:Row Index,z:Actual Element, a:Column Position, b: column Name\n"
     ]
    },
    {
     "data": {
      "text/plain": [
       "{'x from y': 1,\n",
       " 'x from z and b': 1,\n",
       " 'x from a and z': 1,\n",
       " 'y from x': 'row2',\n",
       " 'y from z and b': 'row2',\n",
       " 'y from a': 'row2',\n",
       " 'z from x and a': 15,\n",
       " 'z from x and b': 15,\n",
       " 'z from y and a': 15,\n",
       " 'z from y and b': 15,\n",
       " 'a from b': 1,\n",
       " 'a from x and z': 1,\n",
       " 'a from y and z': 1,\n",
       " 'b from a': 'B',\n",
       " 'b from x and z': 'B',\n",
       " 'b from y and z': 'B'}"
      ]
     },
     "execution_count": 3,
     "metadata": {},
     "output_type": "execute_result"
    }
   ],
   "source": [
    "# Given values for tests\n",
    "x= 1\n",
    "y = 'row2'\n",
    "z = 15\n",
    "a = 1\n",
    "b = 'B'\n",
    "\n",
    "# 1. Finding x (the row position):\n",
    "x_from_y = df.index.get_loc(y)\n",
    "x_from_z_b = df.index.get_loc(df[df[b] == z].index[0])\n",
    "x_from_a_z = df.index.get_loc(df[df.iloc[:, a] == z].index[0])\n",
    "\n",
    "\n",
    "# 2. Finding y (the row name/index):\n",
    "y_from_x =   df.index[x]\n",
    "y_from_z_b = df[df[b] == z].index.values[0]\n",
    "y_from_a_z = df[df.iloc[:, a] == z].index[0]\n",
    "\n",
    "\n",
    "# 3. Finding z (the actual element):\n",
    "z_from_x_a = df.iloc[x, a]\n",
    "z_from_x_b = df.at[df.index[x], b]\n",
    "z_from_y_a = df.iloc[df.index.get_loc(y), a]\n",
    "z_from_y_b = df.at[y, b]\n",
    "\n",
    "# 4. Finding a (the column position):\n",
    "a_from_b = df.columns.get_loc(b)\n",
    "a_from_x_z = df.columns.get_loc(df.iloc[x][df.iloc[x] == z].index[0])\n",
    "a_from_y_z = df.columns.get_loc(df.loc[y][df.loc[y] == z].index[0])\n",
    "\n",
    "# 5. Finding b (the column name):\n",
    "b_from_a = df.columns[a]\n",
    "b_from_x_z = df.iloc[x][df.iloc[x] == z].index[0]\n",
    "b_from_y_z = df.loc[y][df.loc[y] == z].index[0]\n",
    "\n",
    "# Organizing results with labels for clarity\n",
    "print( \"x: Row Position, y:Row Index,z:Actual Element, a:Column Position, b: column Name\")\n",
    "results_with_labels = {\n",
    "    \"x from y\": x_from_y,\n",
    "    \"x from z and b\": x_from_z_b,\n",
    "    \"x from a and z\": x_from_a_z,    \n",
    "    \"y from x\": y_from_x,\n",
    "    \"y from z and b\": y_from_z_b,\n",
    "    \"y from a\": y_from_a_z,\n",
    "    \n",
    "    \"z from x and a\": z_from_x_a,\n",
    "    \"z from x and b\": z_from_x_b,\n",
    "    \"z from y and a\": z_from_y_a,\n",
    "    \"z from y and b\": z_from_y_b,\n",
    "    \"a from b\": a_from_b,\n",
    "    \"a from x and z\": a_from_x_z,\n",
    "    \"a from y and z\": a_from_y_z,\n",
    "    \"b from a\": b_from_a,\n",
    "    \"b from x and z\": b_from_x_z,\n",
    "    \"b from y and z\": b_from_y_z\n",
    "}\n",
    "\n",
    "results_with_labels"
   ]
  }
 ],
 "metadata": {
  "kernelspec": {
   "display_name": "Python 3 (ipykernel)",
   "language": "python",
   "name": "python3"
  },
  "language_info": {
   "codemirror_mode": {
    "name": "ipython",
    "version": 3
   },
   "file_extension": ".py",
   "mimetype": "text/x-python",
   "name": "python",
   "nbconvert_exporter": "python",
   "pygments_lexer": "ipython3",
   "version": "3.11.4"
  }
 },
 "nbformat": 4,
 "nbformat_minor": 5
}
