{
  "nbformat": 4,
  "nbformat_minor": 0,
  "metadata": {
    "colab": {
      "provenance": [],
      "authorship_tag": "ABX9TyMHhCQyBR4ZlmKYLAG16vUv",
      "include_colab_link": true
    },
    "kernelspec": {
      "name": "python3",
      "display_name": "Python 3"
    },
    "language_info": {
      "name": "python"
    }
  },
  "cells": [
    {
      "cell_type": "markdown",
      "metadata": {
        "id": "view-in-github",
        "colab_type": "text"
      },
      "source": [
        "<a href=\"https://colab.research.google.com/github/priyankconnect/MyProjects/blob/main/Linear%20Algebra/Matrix_Multiplication.ipynb\" target=\"_parent\"><img src=\"https://colab.research.google.com/assets/colab-badge.svg\" alt=\"Open In Colab\"/></a>"
      ]
    },
    {
      "cell_type": "markdown",
      "source": [
        "# Matrix Multiplication"
      ],
      "metadata": {
        "id": "_sDssBn0bCOF"
      }
    },
    {
      "cell_type": "markdown",
      "source": [
        "In this lab you will use `NumPy` functions to perform matrix multiplication and see how it can be used in the Machine Learning applications."
      ],
      "metadata": {
        "id": "kQV3n3BbbLuN"
      }
    },
    {
      "cell_type": "markdown",
      "source": [
        "# Table of Contents\n",
        "\n",
        "- [ 1 - Definition of Matrix Multiplication](#1)\n",
        "- [ 2 - Matrix Multiplication using Python](#2)\n",
        "- [ 3 - Matrix Convention and Broadcasting](#3)"
      ],
      "metadata": {
        "id": "fvTX7_radC_5"
      }
    },
    {
      "cell_type": "markdown",
      "source": [
        "## Packages\n",
        "\n",
        "Load the `NumPy` package to access its functions."
      ],
      "metadata": {
        "id": "CVOboITbdbFr"
      }
    },
    {
      "cell_type": "code",
      "source": [
        "import numpy as np"
      ],
      "metadata": {
        "id": "3DJBKhTbdeuZ"
      },
      "execution_count": 2,
      "outputs": []
    },
    {
      "cell_type": "markdown",
      "source": [
        "<a name='1'></a>\n",
        "## 1 - Definition of Matrix Multiplication\n",
        "\n",
        "If $A$ is an $m \\times n$ matrix and $B$ is an $n \\times p$ matrix, the matrix product $C = AB$ (denoted without multiplication signs or dots) is defined to be the $m \\times p$ matrix such that\n",
        "$c_{ij}=a_{i1}b_{1j}+a_{i2}b_{2j}+\\ldots+a_{in}b_{nj}=\\sum_{k=1}^{n} a_{ik}b_{kj}, \\tag{4}$\n",
        "\n",
        "where $a_{ik}$ are the elements of matrix $A$, $b_{kj}$ are the elements of matrix $B$, and $i = 1, \\ldots, m$, $k=1, \\ldots, n$, $j = 1, \\ldots, p$. In other words, $c_{ij}$ is the dot product of the $i$-th row of $A$ and the $j$-th column of $B$."
      ],
      "metadata": {
        "id": "6Y3GH4oZdimU"
      }
    },
    {
      "cell_type": "markdown",
      "source": [
        "<a name='2'></a>\n",
        "## 2 - Matrix Multiplication using Python\n",
        "\n",
        "Like with the dot product, there are a few ways to perform matrix multiplication in Python. As discussed in the previous lab, the calculations are more efficient in the vectorized form. Let's discuss the most commonly used functions in the vectorized form. First, define two matrices:"
      ],
      "metadata": {
        "id": "pZkHkCv4dmbL"
      }
    },
    {
      "cell_type": "code",
      "source": [
        "A = np.array([[4, 9, 9], [9, 1, 6], [9, 2, 3]])\n",
        "print(\"Matrix A (3 by 3):\\n\", A)\n",
        "\n",
        "B = np.array([[2, 2], [5, 7], [4, 4]])\n",
        "print(\"Matrix B (3 by 2):\\n\", B)"
      ],
      "metadata": {
        "colab": {
          "base_uri": "https://localhost:8080/"
        },
        "id": "6cfqZZocdo5C",
        "outputId": "40696d18-8196-4fbf-c91e-f5f513671a03"
      },
      "execution_count": 3,
      "outputs": [
        {
          "output_type": "stream",
          "name": "stdout",
          "text": [
            "Matrix A (3 by 3):\n",
            " [[4 9 9]\n",
            " [9 1 6]\n",
            " [9 2 3]]\n",
            "Matrix B (3 by 2):\n",
            " [[2 2]\n",
            " [5 7]\n",
            " [4 4]]\n"
          ]
        }
      ]
    },
    {
      "cell_type": "markdown",
      "source": [
        "You can multiply matrices $A$ and $B$ using `NumPy` package function `np.matmul()`:"
      ],
      "metadata": {
        "id": "H0S5OYXYdrB5"
      }
    },
    {
      "cell_type": "code",
      "source": [
        "np.matmul(A, B)"
      ],
      "metadata": {
        "colab": {
          "base_uri": "https://localhost:8080/"
        },
        "id": "cHrHeWP4dvFr",
        "outputId": "557e8611-74a3-482b-8976-88788069f58c"
      },
      "execution_count": 4,
      "outputs": [
        {
          "output_type": "execute_result",
          "data": {
            "text/plain": [
              "array([[ 89, 107],\n",
              "       [ 47,  49],\n",
              "       [ 40,  44]])"
            ]
          },
          "metadata": {},
          "execution_count": 4
        }
      ]
    },
    {
      "cell_type": "markdown",
      "source": [
        "Which will output $3 \\times 2$ matrix as a `np.array`. Python operator `@` will also work here giving the same result:"
      ],
      "metadata": {
        "id": "4ZO1YrT4eD9a"
      }
    },
    {
      "cell_type": "code",
      "source": [
        "A @ B"
      ],
      "metadata": {
        "colab": {
          "base_uri": "https://localhost:8080/"
        },
        "id": "VloWX8eceHC6",
        "outputId": "fab1c26a-6d1c-450f-f25e-411f0f685260"
      },
      "execution_count": 5,
      "outputs": [
        {
          "output_type": "execute_result",
          "data": {
            "text/plain": [
              "array([[ 89, 107],\n",
              "       [ 47,  49],\n",
              "       [ 40,  44]])"
            ]
          },
          "metadata": {},
          "execution_count": 5
        }
      ]
    },
    {
      "cell_type": "markdown",
      "source": [
        "<a name='3'></a>\n",
        "## 3 - Matrix Convention and Broadcasting\n",
        "\n",
        "Mathematically, matrix multiplication is defined only if number of the columns of matrix $A$ is equal to the number of the rows of matrix $B$ (you can check again the definition in the secition [1](#1) and see that otherwise the dot products between rows and columns will not be defined).\n",
        "\n",
        "Thus, in the example above ([2](#2)), changing the order of matrices when performing the multiplication $BA$ will not work as the above rule does not hold anymore. You can check it by running the cells below - both of them will give errors."
      ],
      "metadata": {
        "id": "N3x0A-ATeIQF"
      }
    },
    {
      "cell_type": "code",
      "source": [
        "try:\n",
        "    np.matmul(B, A)\n",
        "except ValueError as err:\n",
        "    print(err)"
      ],
      "metadata": {
        "colab": {
          "base_uri": "https://localhost:8080/"
        },
        "id": "r6JpJ1pgeTBS",
        "outputId": "ca03698f-bd2c-412b-bb14-623c2a3393dd"
      },
      "execution_count": 6,
      "outputs": [
        {
          "output_type": "stream",
          "name": "stdout",
          "text": [
            "matmul: Input operand 1 has a mismatch in its core dimension 0, with gufunc signature (n?,k),(k,m?)->(n?,m?) (size 3 is different from 2)\n"
          ]
        }
      ]
    },
    {
      "cell_type": "code",
      "source": [
        "try:\n",
        "    B @ A\n",
        "except ValueError as err:\n",
        "    print(err)"
      ],
      "metadata": {
        "colab": {
          "base_uri": "https://localhost:8080/"
        },
        "id": "LJTpnlpnebOU",
        "outputId": "a6b4ca14-2c7f-4c28-e377-77fd509b4282"
      },
      "execution_count": 7,
      "outputs": [
        {
          "output_type": "stream",
          "name": "stdout",
          "text": [
            "matmul: Input operand 1 has a mismatch in its core dimension 0, with gufunc signature (n?,k),(k,m?)->(n?,m?) (size 3 is different from 2)\n"
          ]
        }
      ]
    },
    {
      "cell_type": "markdown",
      "source": [
        "So when using matrix multiplication you will need to be very careful about the dimensions - the number of the columns in the first matrix should match the number of the rows in the second matrix. This is very important for your future understanding of Neural Networks and how they work.\n",
        "\n",
        "However, for multiplying of the vectors, NumPy has a shortcut. You can define two vectors  𝑥\n",
        "  and  𝑦\n",
        "  of the same size (which one can understand as two  3×1\n",
        "  matrices). If you check the shape of the vector  𝑥\n",
        " , you can see that :"
      ],
      "metadata": {
        "id": "E69DV2L8eeWr"
      }
    },
    {
      "cell_type": "code",
      "source": [
        "x = np.array([1, -2, -5])\n",
        "y = np.array([4, 3, -1])\n",
        "\n",
        "print(\"Shape of vector x:\", x.shape)\n",
        "print(\"Number of dimensions of vector x:\", x.ndim)\n",
        "print(\"Shape of vector x, reshaped to a matrix:\", x.reshape((3, 1)).shape)\n",
        "print(\"Number of dimensions of vector x, reshaped to a matrix:\", x.reshape((3, 1)).ndim)"
      ],
      "metadata": {
        "colab": {
          "base_uri": "https://localhost:8080/"
        },
        "id": "ZVuZPus9egl8",
        "outputId": "e405a03a-f512-42f1-ef47-dde56af566e9"
      },
      "execution_count": 8,
      "outputs": [
        {
          "output_type": "stream",
          "name": "stdout",
          "text": [
            "Shape of vector x: (3,)\n",
            "Number of dimensions of vector x: 1\n",
            "Shape of vector x, reshaped to a matrix: (3, 1)\n",
            "Number of dimensions of vector x, reshaped to a matrix: 2\n"
          ]
        }
      ]
    },
    {
      "cell_type": "markdown",
      "source": [
        "Following the matrix convention, multiplication of matrices  3×1\n",
        "  and  3×1\n",
        "  is not defined. For matrix multiplication you would expect an error in the following cell, but let's check the output:"
      ],
      "metadata": {
        "id": "ouLEHk6eeiSy"
      }
    },
    {
      "cell_type": "code",
      "source": [
        "np.matmul(x,y)"
      ],
      "metadata": {
        "colab": {
          "base_uri": "https://localhost:8080/"
        },
        "id": "625jlDskep1F",
        "outputId": "600511de-ea82-4a3b-a82d-7870481ffa27"
      },
      "execution_count": 9,
      "outputs": [
        {
          "output_type": "execute_result",
          "data": {
            "text/plain": [
              "3"
            ]
          },
          "metadata": {},
          "execution_count": 9
        }
      ]
    },
    {
      "cell_type": "markdown",
      "source": [
        "You can see that there is no error and that the result is actually a dot product $x \\cdot y\\,$! So, vector $x$ was automatically transposed into the vector $1 \\times 3$ and matrix multiplication $x^Ty$ was calculated. While this is very convenient, you need to keep in mind such functionality in Python and pay attention to not use it in a wrong way. The following cell will return an error:"
      ],
      "metadata": {
        "id": "Uxb4V7VterOg"
      }
    },
    {
      "cell_type": "code",
      "source": [
        "try:\n",
        "    np.matmul(x.reshape((3, 1)), y.reshape((3, 1)))\n",
        "except ValueError as err:\n",
        "    print(err)"
      ],
      "metadata": {
        "colab": {
          "base_uri": "https://localhost:8080/"
        },
        "id": "ktuS84JfevMV",
        "outputId": "0fa81824-b243-4455-d240-4ba4f56ca196"
      },
      "execution_count": 10,
      "outputs": [
        {
          "output_type": "stream",
          "name": "stdout",
          "text": [
            "matmul: Input operand 1 has a mismatch in its core dimension 0, with gufunc signature (n?,k),(k,m?)->(n?,m?) (size 3 is different from 1)\n"
          ]
        }
      ]
    },
    {
      "cell_type": "markdown",
      "source": [
        "You might have a question in you mind: does np.dot() function also work for matrix multiplication? Let's try it:"
      ],
      "metadata": {
        "id": "S9q20CXfeye1"
      }
    },
    {
      "cell_type": "code",
      "source": [
        "np.dot(A, B)"
      ],
      "metadata": {
        "colab": {
          "base_uri": "https://localhost:8080/"
        },
        "id": "AQjSBbKOe6Fc",
        "outputId": "c9d665af-a661-4562-aaf2-3c40bab8a541"
      },
      "execution_count": 11,
      "outputs": [
        {
          "output_type": "execute_result",
          "data": {
            "text/plain": [
              "array([[ 89, 107],\n",
              "       [ 47,  49],\n",
              "       [ 40,  44]])"
            ]
          },
          "metadata": {},
          "execution_count": 11
        }
      ]
    },
    {
      "cell_type": "markdown",
      "source": [
        "Yes, it works! What actually happens is what is called **broadcasting** in Python: `NumPy` broadcasts this dot product operation to all rows and all columns, you get the resultant product matrix. Broadcasting also works in other cases, for example:"
      ],
      "metadata": {
        "id": "RqgXMRfRe8ZB"
      }
    },
    {
      "cell_type": "code",
      "source": [
        "A - 2"
      ],
      "metadata": {
        "colab": {
          "base_uri": "https://localhost:8080/"
        },
        "id": "soRa5HhEe-tw",
        "outputId": "8253e626-da81-4357-ca3d-76477e98f69b"
      },
      "execution_count": 12,
      "outputs": [
        {
          "output_type": "execute_result",
          "data": {
            "text/plain": [
              "array([[ 2,  7,  7],\n",
              "       [ 7, -1,  4],\n",
              "       [ 7,  0,  1]])"
            ]
          },
          "metadata": {},
          "execution_count": 12
        }
      ]
    },
    {
      "cell_type": "markdown",
      "source": [
        "Mathematically, subtraction of the $3 \\times 3$ matrix $A$ and a scalar is not defined, but Python broadcasts the scalar, creating a $3 \\times 3$ `np.array` and performing subtraction element by element. A practical example of matrix multiplication can be seen in a linear regression model. You will implement it in this week's assignment!"
      ],
      "metadata": {
        "id": "vX6e38K6fAQm"
      }
    },
    {
      "cell_type": "code",
      "source": [
        "Congratulations on finishing this lab!"
      ],
      "metadata": {
        "colab": {
          "base_uri": "https://localhost:8080/",
          "height": 106
        },
        "id": "AQkzeqr5fDnn",
        "outputId": "b97380e0-c1e9-4173-a93c-433656875f30"
      },
      "execution_count": 13,
      "outputs": [
        {
          "output_type": "error",
          "ename": "SyntaxError",
          "evalue": "invalid syntax (<ipython-input-13-c6ed1b90fccb>, line 1)",
          "traceback": [
            "\u001b[0;36m  File \u001b[0;32m\"<ipython-input-13-c6ed1b90fccb>\"\u001b[0;36m, line \u001b[0;32m1\u001b[0m\n\u001b[0;31m    Congratulations on finishing this lab!\u001b[0m\n\u001b[0m                    ^\u001b[0m\n\u001b[0;31mSyntaxError\u001b[0m\u001b[0;31m:\u001b[0m invalid syntax\n"
          ]
        }
      ]
    },
    {
      "cell_type": "code",
      "source": [],
      "metadata": {
        "id": "78EkvI2RfFR2"
      },
      "execution_count": null,
      "outputs": []
    }
  ]
}