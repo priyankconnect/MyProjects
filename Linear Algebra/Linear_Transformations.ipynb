{
  "nbformat": 4,
  "nbformat_minor": 0,
  "metadata": {
    "colab": {
      "provenance": [],
      "authorship_tag": "ABX9TyMwDCNHGDnZKg8lqk7sbeNH",
      "include_colab_link": true
    },
    "kernelspec": {
      "name": "python3",
      "display_name": "Python 3"
    },
    "language_info": {
      "name": "python"
    }
  },
  "cells": [
    {
      "cell_type": "markdown",
      "metadata": {
        "id": "view-in-github",
        "colab_type": "text"
      },
      "source": [
        "<a href=\"https://colab.research.google.com/github/priyankconnect/MyProjects/blob/main/Linear%20Algebra/Linear_Transformations.ipynb\" target=\"_parent\"><img src=\"https://colab.research.google.com/assets/colab-badge.svg\" alt=\"Open In Colab\"/></a>"
      ]
    },
    {
      "cell_type": "markdown",
      "source": [
        "# Linear Transformations"
      ],
      "metadata": {
        "id": "YGjVL4ZxoJTm"
      }
    },
    {
      "cell_type": "markdown",
      "source": [
        "In this lab you will explore linear transformations, visualize their results and master matrix multiplication to apply various linear transformations."
      ],
      "metadata": {
        "id": "0RE1RbhboX1u"
      }
    },
    {
      "cell_type": "markdown",
      "source": [
        "# Table of Contents\n",
        "- [ 1 - Transformations](#1)\n",
        "- [ 2 - Linear Transformations](#2)\n",
        "- [ 3 - Transformations Defined as a Matrix Multiplication](#3)\n",
        "- [ 4 - Standard Transformations in a Plane](#4)\n",
        "  - [ 4.1 - Example 1: Horizontal Scaling (Dilation)](#4.1)\n",
        "  - [ 4.2 - Example 2: Reflection about y-axis (the vertical axis)](#4.2)\n",
        "- [ 5 - Application of Linear Transformations: Computer Graphics](#5)"
      ],
      "metadata": {
        "id": "OJqbzWEIoanj"
      }
    },
    {
      "cell_type": "markdown",
      "source": [
        "## Packages\n",
        "\n",
        "Run the following cell to load the package you'll need."
      ],
      "metadata": {
        "id": "AHOwwR7Koc8I"
      }
    },
    {
      "cell_type": "code",
      "source": [
        "import numpy as np\n",
        "# OpenCV library for image transformations.\n",
        "import cv2"
      ],
      "metadata": {
        "id": "nH6QmfG0omym"
      },
      "execution_count": 1,
      "outputs": []
    },
    {
      "cell_type": "markdown",
      "source": [
        "<a name='1'></a>\n",
        "## 1 - Transformations\n",
        "\n",
        "A **transformation** is a function from one vector space to another that respects the underlying (linear) structure of each vector space. Referring to a specific transformation, you can use a symbol, such as $T$. Specifying the spaces containing the input and output vectors, e.g. $\\mathbb{R}^2$ and $\\mathbb{R}^3$, you can write $T: \\mathbb{R}^2 \\rightarrow \\mathbb{R}^3$. Transforming vector $v \\in \\mathbb{R}^2$ into the vector $w\\in\\mathbb{R}^3$ by the transformation $T$, you can use the notation $T(v)=w$ and read it as \"*T of v equals to w*\" or \"*vector w is an **image** of vector v with the transformation T*\".\n",
        "\n",
        "The following Python function corresponds to the transformation $T: \\mathbb{R}^2 \\rightarrow \\mathbb{R}^3$ with the following symbolic formula:\n",
        "\n",
        "$$T\\begin{pmatrix}\n",
        "          \\begin{bmatrix}\n",
        "           v_1 \\\\           \n",
        "           v_2\n",
        "          \\end{bmatrix}\\end{pmatrix}=\n",
        "          \\begin{bmatrix}\n",
        "           3v_1 \\\\\n",
        "           0 \\\\\n",
        "           -2v_2\n",
        "          \\end{bmatrix}\n",
        "          \\tag{1}\n",
        "          $$"
      ],
      "metadata": {
        "id": "JoqUqAfCo2ti"
      }
    },
    {
      "cell_type": "code",
      "source": [
        "def T(v):\n",
        "    w = np.zeros((3,1))\n",
        "    w[0,0] = 3*v[0,0]\n",
        "    w[2,0] = -2*v[1,0]\n",
        "\n",
        "    return w\n",
        "\n",
        "v = np.array([[3], [5]])\n",
        "w = T(v)\n",
        "\n",
        "print(\"Original vector:\\n\", v, \"\\n\\n Result of the transformation:\\n\", w)"
      ],
      "metadata": {
        "colab": {
          "base_uri": "https://localhost:8080/"
        },
        "id": "hC8ZF8z1pl4m",
        "outputId": "32ef68e4-bf07-451a-c46d-1d19861ac78c"
      },
      "execution_count": 2,
      "outputs": [
        {
          "output_type": "stream",
          "name": "stdout",
          "text": [
            "Original vector:\n",
            " [[3]\n",
            " [5]] \n",
            "\n",
            " Result of the transformation:\n",
            " [[  9.]\n",
            " [  0.]\n",
            " [-10.]]\n"
          ]
        }
      ]
    },
    {
      "cell_type": "markdown",
      "source": [
        "<a name='2'></a>\n",
        "## 2 - Linear Transformations\n",
        "\n",
        "A transformation $T$ is said to be **linear** if the following two properties are true for any scalar $k$, and any input vectors $u$ and $v$:\n",
        "\n",
        "1. $T(kv)=kT(v)$,\n",
        "2. $T(u+v)=T(u)+T(v)$.\n",
        "\n",
        "In the example above $T$ is a linear transformation:\n",
        "\n",
        "$$T (kv) =\n",
        "          T \\begin{pmatrix}\\begin{bmatrix}\n",
        "          kv_1 \\\\\n",
        "          kv_2\n",
        "          \\end{bmatrix}\\end{pmatrix} =\n",
        "          \\begin{bmatrix}\n",
        "           3kv_1 \\\\\n",
        "           0 \\\\\n",
        "           -2kv_2\n",
        "          \\end{bmatrix} =\n",
        "          k\\begin{bmatrix}\n",
        "           3v_1 \\\\\n",
        "           0 \\\\\n",
        "           -2v_2\n",
        "          \\end{bmatrix} =\n",
        "          kT(v),\\tag{2}$$\n",
        "          \n",
        "$$T (u+v) =\n",
        "          T \\begin{pmatrix}\\begin{bmatrix}\n",
        "          u_1 + v_1 \\\\\n",
        "          u_2 + v_2\n",
        "          \\end{bmatrix}\\end{pmatrix} =\n",
        "          \\begin{bmatrix}\n",
        "           3(u_1+v_1) \\\\\n",
        "           0 \\\\\n",
        "           -2(u_2+v_2)\n",
        "          \\end{bmatrix} =\n",
        "          \\begin{bmatrix}\n",
        "           3u_1 \\\\\n",
        "           0 \\\\\n",
        "           -2u_2\n",
        "          \\end{bmatrix} +\n",
        "          \\begin{bmatrix}\n",
        "           3v_1 \\\\\n",
        "           0 \\\\\n",
        "           -2v_2\n",
        "          \\end{bmatrix} =\n",
        "          T(u)+T(v).\\tag{3}$$"
      ],
      "metadata": {
        "id": "-6RsAQBEpwcv"
      }
    },
    {
      "cell_type": "markdown",
      "source": [
        "You can change the values of $k$ or vectors $u$ and $v$ in the cell below, to check that this is true for some specific values."
      ],
      "metadata": {
        "id": "gyrSIulhp2uh"
      }
    },
    {
      "cell_type": "code",
      "source": [
        "u = np.array([[1], [-2]])\n",
        "v = np.array([[2], [4]])\n",
        "\n",
        "k = 7\n",
        "\n",
        "print(\"T(k*v):\\n\", T(k*v), \"\\n k*T(v):\\n\", k*T(v), \"\\n\\n\")\n",
        "print(\"T(u+v):\\n\", T(u+v), \"\\n T(u)+T(v):\\n\", T(u)+T(v))"
      ],
      "metadata": {
        "colab": {
          "base_uri": "https://localhost:8080/"
        },
        "id": "QvvKuBB6p5PF",
        "outputId": "896acf71-9d18-4a6c-fbfe-b3ad33f86475"
      },
      "execution_count": 3,
      "outputs": [
        {
          "output_type": "stream",
          "name": "stdout",
          "text": [
            "T(k*v):\n",
            " [[ 42.]\n",
            " [  0.]\n",
            " [-56.]] \n",
            " k*T(v):\n",
            " [[ 42.]\n",
            " [  0.]\n",
            " [-56.]] \n",
            "\n",
            "\n",
            "T(u+v):\n",
            " [[ 9.]\n",
            " [ 0.]\n",
            " [-4.]] \n",
            " T(u)+T(v):\n",
            " [[ 9.]\n",
            " [ 0.]\n",
            " [-4.]]\n"
          ]
        }
      ]
    },
    {
      "cell_type": "markdown",
      "source": [
        "Some examples of linear transformations are rotations, reflections, scaling (dilations), etc. In this lab you will explore a few of them."
      ],
      "metadata": {
        "id": "Y1X5mXpnp6nr"
      }
    },
    {
      "cell_type": "markdown",
      "source": [
        "<a name='3'></a>\n",
        "## 3 - Transformations Defined as a Matrix Multiplication\n",
        "\n",
        "Let $L: \\mathbb{R}^m \\rightarrow \\mathbb{R}^n$ be defined by a matrix $A$, where $L(v)=Av$, multiplication of the matrix $A$ ($n\\times m$) and vector $v$ ($m\\times 1$) resulting in the vector $w$ ($n\\times 1$).\n",
        "\n",
        "Now try to guess, what should be the elements of matrix $A$, corresponding to the transformation $L: \\mathbb{R}^2 \\rightarrow \\mathbb{R}^3$:\n",
        "\n",
        "$$L\\begin{pmatrix}\n",
        "          \\begin{bmatrix}\n",
        "           v_1 \\\\           \n",
        "           v_2\n",
        "          \\end{bmatrix}\\end{pmatrix}=\n",
        "          \\begin{bmatrix}\n",
        "           3v_1 \\\\\n",
        "           0 \\\\\n",
        "           -2v_2\n",
        "          \\end{bmatrix}=\n",
        "          \\begin{bmatrix}\n",
        "           ? & ? \\\\\n",
        "           ? & ? \\\\\n",
        "           ? & ?\n",
        "          \\end{bmatrix}\n",
        "          \\begin{bmatrix}\n",
        "           v_1 \\\\\n",
        "           v_2\n",
        "          \\end{bmatrix}\n",
        "          \\tag{4}\n",
        "          $$\n",
        "\n",
        "To do that, write the transformation $L$ as $Av$ and then perform matrix multiplication:\n",
        "    $$L\\begin{pmatrix}\n",
        "          \\begin{bmatrix}\n",
        "           v_1 \\\\           \n",
        "           v_2\n",
        "          \\end{bmatrix}\\end{pmatrix}=\n",
        "          A\\begin{bmatrix}\n",
        "           v_1 \\\\           \n",
        "           v_2\n",
        "          \\end{bmatrix}=\n",
        "          \\begin{bmatrix}\n",
        "           a_{1,1} & a_{1,2} \\\\\n",
        "           a_{2,1} & a_{2,2} \\\\\n",
        "           a_{3,1} & a_{3,2}\n",
        "          \\end{bmatrix}\n",
        "          \\begin{bmatrix}\n",
        "           v_1 \\\\           \n",
        "           v_2\n",
        "          \\end{bmatrix}=\n",
        "          \\begin{bmatrix}\n",
        "           a_{1,1}v_1+a_{1,2}v_2 \\\\\n",
        "           a_{2,1}v_1+a_{2,2}v_2 \\\\\n",
        "           a_{3,1}v_1+a_{3,2}v_2 \\\\\n",
        "          \\end{bmatrix}=\n",
        "          \\begin{bmatrix}\n",
        "           3v_1 \\\\\n",
        "           0 \\\\\n",
        "           -2v_2\n",
        "          \\end{bmatrix}\\tag{5}\n",
        "          $$\n",
        "          \n",
        "Can you see now what should be the values of the elements $a_{i,j}$ of matrix $A$ to make the equalities $(5)$ correct? Find out the answer in the following code cell:"
      ],
      "metadata": {
        "id": "kExyiNSsqBm3"
      }
    },
    {
      "cell_type": "code",
      "source": [
        "def L(v):\n",
        "    A = np.array([[3,0], [0,0], [0,-2]])\n",
        "    print(\"Transformation matrix:\\n\", A, \"\\n\")\n",
        "    w = A @ v\n",
        "\n",
        "    return w\n",
        "\n",
        "v = np.array([[3], [5]])\n",
        "w = L(v)\n",
        "\n",
        "print(\"Original vector:\\n\", v, \"\\n\\n Result of the transformation:\\n\", w)"
      ],
      "metadata": {
        "colab": {
          "base_uri": "https://localhost:8080/"
        },
        "id": "xA-EBwVuqG_t",
        "outputId": "7fe4e58c-611b-4155-8238-d60f031052a5"
      },
      "execution_count": 4,
      "outputs": [
        {
          "output_type": "stream",
          "name": "stdout",
          "text": [
            "Transformation matrix:\n",
            " [[ 3  0]\n",
            " [ 0  0]\n",
            " [ 0 -2]] \n",
            "\n",
            "Original vector:\n",
            " [[3]\n",
            " [5]] \n",
            "\n",
            " Result of the transformation:\n",
            " [[  9]\n",
            " [  0]\n",
            " [-10]]\n"
          ]
        }
      ]
    },
    {
      "cell_type": "markdown",
      "source": [
        "Every linear transformation can be carried out by matrix multiplication. And vice versa, carrying out matrix multiplication, it is natural to consider the linear transformation that it represents. It means you can associate the matrix with the linear transformation in some way. This is a key connection between linear transformations and matrix algebra."
      ],
      "metadata": {
        "id": "Vkjr0PeGqJSw"
      }
    },
    {
      "cell_type": "markdown",
      "source": [
        "<a name='4'></a>\n",
        "## 4 - Standard Transformations in a Plane\n",
        "\n",
        "As discussed above in section [3](#3), a linear transformation $L: \\mathbb{R}^2 \\rightarrow \\mathbb{R}^2$ can be represented as a multiplication of a $2 \\times 2$ matrix and a coordinate vector $v\\in\\mathbb{R}^2.$ Note that so far you have been using some random vector $v\\in\\mathbb{R}^2.$ (e.g. $v=\\begin{bmatrix}3 \\\\ 5\\end{bmatrix}$). To have a better intuition of what the transformation is really doing in the $\\mathbb{R}^2$ space, it is wise to choose vector $v$ in a less random way.\n",
        "\n",
        "A good choice would be vectors of a standard basis $e_1=\\begin{bmatrix}1 \\\\ 0\\end{bmatrix}$ and $e_2=\\begin{bmatrix}0 \\\\ 1\\end{bmatrix}$. Let's apply linear transformation $L$ to each of the vectors $e_1$ and $e_2$: $L(e_1)=Ae_1$ and $L(e_2)=Ae_2$. If you put vectors $\\{e_1, e_2\\}$ into columns of a matrix and perform matrix multiplication\n",
        "\n",
        "$$A\\begin{bmatrix}e_1 & e_2\\end{bmatrix}=\\begin{bmatrix}Ae_1 & Ae_2\\end{bmatrix}=\\begin{bmatrix}L(e_1) & L(e_2)\\end{bmatrix},\\tag{3}$$\n",
        "\n",
        "you can note that $\\begin{bmatrix}e_1 & e_2\\end{bmatrix}=\\begin{bmatrix}1 & 0 \\\\ 0 & 1\\end{bmatrix}$ (identity matrix). Thus, $A\\begin{bmatrix}e_1 & e_2\\end{bmatrix} = AI=A$, and\n",
        "\n",
        "$$A=\\begin{bmatrix}L(e_1) & L(e_2)\\end{bmatrix}.\\tag{4}$$\n",
        "\n",
        "This is a matrix with the columns that are the images of the vectors of the standard basis.\n",
        "\n",
        "This choice of vectors \\{$e_1, e_2$\\} provides opportinuty for the visual representation of the linear transformation $L$ (you will see the examples below)."
      ],
      "metadata": {
        "id": "vj14-PBBqNI3"
      }
    },
    {
      "cell_type": "markdown",
      "source": [
        "<a name='4.1'></a>\n",
        "### 4.1 - Example 1: Horizontal Scaling (Dilation)"
      ],
      "metadata": {
        "id": "gqv4mI25qQws"
      }
    },
    {
      "cell_type": "markdown",
      "source": [
        "Horizontal scaling (factor $2$ in this example) can be defined considering transformation of a vector $e_1=\\begin{bmatrix}1 \\\\ 0\\end{bmatrix}$ into a vector $\\begin{bmatrix}2 \\\\ 0\\end{bmatrix}$ and leaving vector $e_2=\\begin{bmatrix}0 \\\\ 1\\end{bmatrix}$ without any changes. The following function `T_hscaling()` corresponds to the horizontal scaling (factor $2$) of a vector. The second function `transform_vectors()` applies defined transformation to a set of vectors (here two vectors)."
      ],
      "metadata": {
        "id": "arHlbM7IqTeu"
      }
    },
    {
      "cell_type": "code",
      "source": [
        "import numpy as np\n",
        "import matplotlib.pyplot as plt\n",
        "\n",
        "def T_hscaling(v):\n",
        "    A = np.array([[2, 0], [0, 1]])  # Scaling matrix (horizontal scaling)\n",
        "    w = A @ v\n",
        "    return w\n",
        "\n",
        "def transform_vectors(T, v1, v2):\n",
        "    # Transform each vector individually\n",
        "    w1 = T(v1)\n",
        "    w2 = T(v2)\n",
        "    return np.hstack((w1.reshape(-1, 1), w2.reshape(-1, 1)))\n",
        "\n",
        "e1 = np.array([1, 0])\n",
        "e2 = np.array([0, 1])\n",
        "\n",
        "transformation_result_hscaling = transform_vectors(T_hscaling, e1, e2)\n",
        "\n",
        "print(\"Original vectors:\\n e1= \\n\", e1, \"\\n e2=\\n\", e2,\n",
        "      \"\\n\\n Result of the transformation (matrix form):\\n\", transformation_result_hscaling)"
      ],
      "metadata": {
        "colab": {
          "base_uri": "https://localhost:8080/"
        },
        "id": "gyvq-LMSqWfu",
        "outputId": "42a387ca-7c28-4d0c-f6a2-d1d84f30cb58"
      },
      "execution_count": 8,
      "outputs": [
        {
          "output_type": "stream",
          "name": "stdout",
          "text": [
            "Original vectors:\n",
            " e1= \n",
            " [1 0] \n",
            " e2=\n",
            " [0 1] \n",
            "\n",
            " Result of the transformation (matrix form):\n",
            " [[2 0]\n",
            " [0 1]]\n"
          ]
        }
      ]
    },
    {
      "cell_type": "markdown",
      "source": [
        "You can get a visual understanding of the transformation, producing a plot which displays input vectors, and their transformations. Do not worry if the code in the following cell will not be clear - at this stage this is not important code to understand."
      ],
      "metadata": {
        "id": "k4V_kRAaqYsC"
      }
    },
    {
      "cell_type": "code",
      "source": [
        "def plot_transformation(T, e1, e2):\n",
        "    color_original = \"#129cab\"\n",
        "    color_transformed = \"#cc8933\"\n",
        "\n",
        "    _, ax = plt.subplots(figsize=(7, 7))\n",
        "    ax.tick_params(axis='x', labelsize=14)\n",
        "    ax.tick_params(axis='y', labelsize=14)\n",
        "    ax.set_xticks(np.arange(-5, 5))\n",
        "    ax.set_yticks(np.arange(-5, 5))\n",
        "\n",
        "    plt.axis([-5, 5, -5, 5])\n",
        "\n",
        "    # Original vectors\n",
        "    plt.quiver([0, 0],[0, 0], [e1[0], e2[0]], [e1[1], e2[1]], color=color_original, angles='xy', scale_units='xy', scale=1)\n",
        "    plt.plot([0, e2[0], e1[0], e1[0]], [0, e2[1], e2[1], e1[1]], color=color_original)\n",
        "\n",
        "    # Annotate original vectors\n",
        "    ax.text(e1[0]-0.2, e1[1], f'$e_1$', fontsize=14, color=color_original)\n",
        "    ax.text(e2[0]-0.2, e2[1], f'$e_2$', fontsize=14, color=color_original)\n",
        "\n",
        "    # Transformed vectors\n",
        "    e1_transformed = T(e1)\n",
        "    e2_transformed = T(e2)\n",
        "    plt.quiver([0, 0],[0, 0], [e1_transformed[0], e2_transformed[0]],\n",
        "               [e1_transformed[1], e2_transformed[1]],\n",
        "               color=color_transformed, angles='xy', scale_units='xy', scale=1)\n",
        "\n",
        "    plt.plot([0, e2_transformed[0], e1_transformed[0]+e2_transformed[0], e1_transformed[0]],\n",
        "             [0, e2_transformed[1], e1_transformed[1]+e2_transformed[1], e1_transformed[1]],\n",
        "             color=color_transformed)\n",
        "\n",
        "    # Annotate transformed vectors\n",
        "    ax.text(e1_transformed[0]-0.2, e1_transformed[1], f'$T(e_1)$', fontsize=14, color=color_transformed)\n",
        "    ax.text(e2_transformed[0]-0.2, e2_transformed[1], f'$T(e_2)$', fontsize=14, color=color_transformed)\n",
        "\n",
        "    plt.gca().set_aspect(\"equal\")\n",
        "    plt.show()\n",
        "\n",
        "plot_transformation(T_hscaling, e1, e2)"
      ],
      "metadata": {
        "colab": {
          "base_uri": "https://localhost:8080/",
          "height": 604
        },
        "id": "7FisPC4jqcm3",
        "outputId": "95dd5aad-95b6-4a71-fd73-7cfbde07a15d"
      },
      "execution_count": 9,
      "outputs": [
        {
          "output_type": "display_data",
          "data": {
            "text/plain": [
              "<Figure size 700x700 with 1 Axes>"
            ],
            "image/png": "[encoded data removed]"
          },
          "metadata": {}
        }
      ]
    },
    {
      "cell_type": "markdown",
      "source": [
        "<a name='4.2'></a>\n",
        "### 4.2 - Example 2: Reflection about y-axis (the vertical axis)"
      ],
      "metadata": {
        "id": "gqEvumDrqgby"
      }
    },
    {
      "cell_type": "markdown",
      "source": [
        "Function `T_reflection_yaxis()` defined below corresponds to the reflection about y-axis:"
      ],
      "metadata": {
        "id": "KReiANt1u8re"
      }
    },
    {
      "cell_type": "code",
      "source": [
        "import numpy as np\n",
        "\n",
        "def T_reflection_yaxis(v):\n",
        "    A = np.array([[-1, 0], [0, 1]])  # Reflection matrix about the y-axis\n",
        "    w = A @ v  # Perform matrix multiplication\n",
        "    return w\n",
        "\n",
        "e1 = np.array([1, 0])  # Define as 1D vector\n",
        "e2 = np.array([0, 1])  # Define as 1D vector\n",
        "\n",
        "# Assuming transform_vectors is a function that applies the transformation\n",
        "# to a list of vectors\n",
        "transformation_result_reflection_yaxis = transform_vectors(T_reflection_yaxis, e1, e2)\n",
        "print(\"Original vectors:\\n e1= \\n\", e1,\"\\n e2=\\n\", e2,\n",
        "      \"\\n\\n Result of the transformation (matrix form):\\n\", transformation_result_reflection_yaxis)"
      ],
      "metadata": {
        "colab": {
          "base_uri": "https://localhost:8080/"
        },
        "id": "4tp0cAyyu_Df",
        "outputId": "ef70380f-29ea-413b-e977-b19394fc9cfd"
      },
      "execution_count": 13,
      "outputs": [
        {
          "output_type": "stream",
          "name": "stdout",
          "text": [
            "Original vectors:\n",
            " e1= \n",
            " [1 0] \n",
            " e2=\n",
            " [0 1] \n",
            "\n",
            " Result of the transformation (matrix form):\n",
            " [[-1  0]\n",
            " [ 0  1]]\n"
          ]
        }
      ]
    },
    {
      "cell_type": "markdown",
      "source": [
        "You can visualize this transformation:"
      ],
      "metadata": {
        "id": "JPyhpKw3vAm7"
      }
    },
    {
      "cell_type": "code",
      "source": [
        "plot_transformation(T_reflection_yaxis, e1, e2)"
      ],
      "metadata": {
        "colab": {
          "base_uri": "https://localhost:8080/",
          "height": 604
        },
        "id": "fuLznkMivC9U",
        "outputId": "c6ad453b-855e-4a1f-880c-e8634a790258"
      },
      "execution_count": 14,
      "outputs": [
        {
          "output_type": "display_data",
          "data": {
            "text/plain": [
              "<Figure size 700x700 with 1 Axes>"
            ],
            "image/png": "[encoded data removed]"
          },
          "metadata": {}
        }
      ]
    },
    {
      "cell_type": "markdown",
      "source": [
        "There are many more standard linear transformations to explore. But now you have the required tools to apply them and visualize the results."
      ],
      "metadata": {
        "id": "CvjRT-8dvEN8"
      }
    }
  ]
}