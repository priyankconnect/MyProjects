{
 "cells": [
  {
   "cell_type": "code",
   "execution_count": 9,
   "id": "3075f2c8",
   "metadata": {},
   "outputs": [
    {
     "name": "stdout",
     "output_type": "stream",
     "text": [
      "\n",
      "---\n",
      "\n",
      "Question: A teacher should have __________ in every student that they can learn.\n",
      "a) Revelation\n",
      "b) Faith\n",
      "c) intuition\n",
      "d) Belief\n",
      "\n",
      "Please provide your answer (a, b, c, d) or write 'quit' to exit: quit\n",
      "You've chosen to exit the quiz.\n"
     ]
    }
   ],
   "source": [
    "import pandas as pd\n",
    "import time\n",
    "\n",
    "class Quiz:\n",
    "    def __init__(self, filepath):\n",
    "        self.df = pd.read_excel(filepath)\n",
    "        self.incorrect_questions = []\n",
    "        \n",
    "    def ask_question(self, index):\n",
    "        from IPython.display import display, clear_output\n",
    "        \n",
    "        clear_output(wait=True)\n",
    "        \n",
    "        row = self.df.iloc[index]\n",
    "        print(\"\\n---\\n\")\n",
    "        print(f\"Question: {row['Question']}\")\n",
    "        \n",
    "        choices = [row[f\"Choice {i}\"] for i in range(1, 5)]\n",
    "        for i, choice in enumerate(choices, 1):\n",
    "            print(f\"{chr(96 + i)}) {choice}\")\n",
    "        \n",
    "        answer = input(\"\\nPlease provide your answer (a, b, c, d) or write 'quit' to exit: \").lower()\n",
    "        \n",
    "        if answer == 'quit':\n",
    "            print(\"You've chosen to exit the quiz.\")\n",
    "            return False\n",
    "        \n",
    "        # Map the given answer to the correct index (1, 2, 3, 4)\n",
    "        answer_map = {\"a\": \"1\", \"b\": \"2\", \"c\": \"3\", \"d\": \"4\"}\n",
    "        correct_answer = row['Answer'].split()[-1]  # Extracting the numeric value from \"Choice X\"\n",
    "        \n",
    "        if answer_map[answer] == correct_answer:\n",
    "            print(\"Correct!\")\n",
    "        else:\n",
    "            print(f\"Incorrect! The correct answer is: {chr(96 + int(correct_answer))}\")\n",
    "            self.incorrect_questions.append(index)\n",
    "        \n",
    "        # Pause for 3 seconds to display feedback\n",
    "        time.sleep(3)\n",
    "        return True\n",
    "    \n",
    "    def start(self):\n",
    "        for i in range(len(self.df)):\n",
    "            if not self.ask_question(i):  # If user chooses to quit\n",
    "                return\n",
    "        \n",
    "        while self.incorrect_questions:\n",
    "            index = self.incorrect_questions.pop(0)\n",
    "            if not self.ask_question(index):  # If user chooses to quit\n",
    "                return\n",
    "        \n",
    "        print(\"\\nCongratulations! You've answered all the questions correctly.\")\n",
    "\n",
    "# Run the following lines to start the quiz\n",
    "filepath = \"Copy ofBed.xlsx\"  # Replace this with your file path\n",
    "quiz = Quiz(filepath)\n",
    "quiz.start()\n"
   ]
  },
  {
   "cell_type": "code",
   "execution_count": null,
   "id": "e23d6574",
   "metadata": {},
   "outputs": [],
   "source": []
  }
 ],
 "metadata": {
  "kernelspec": {
   "display_name": "Python 3 (ipykernel)",
   "language": "python",
   "name": "python3"
  },
  "language_info": {
   "codemirror_mode": {
    "name": "ipython",
    "version": 3
   },
   "file_extension": ".py",
   "mimetype": "text/x-python",
   "name": "python",
   "nbconvert_exporter": "python",
   "pygments_lexer": "ipython3",
   "version": "3.10.9"
  }
 },
 "nbformat": 4,
 "nbformat_minor": 5
}
