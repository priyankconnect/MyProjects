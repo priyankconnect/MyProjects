{
 "cells": [
  {
   "cell_type": "code",
   "execution_count": 7,
   "id": "2a19e89c",
   "metadata": {},
   "outputs": [],
   "source": [
    "# Importing Libraries\n",
    "from sklearn import linear_model\n",
    "from scipy import stats\n",
    "import pandas as pd\n",
    "import matplotlib.pyplot as plt"
   ]
  },
  {
   "cell_type": "code",
   "execution_count": 8,
   "id": "70842ed5",
   "metadata": {},
   "outputs": [],
   "source": [
    "# List of 30 elements depicting independent variable ( height)\n",
    "height=[145,163,152,137,175,131,164,148,186,178,156,179,163,152,131,138,166,189,133,178,\n",
    "       161,149,189,176,159,162,174,146,139,153]"
   ]
  },
  {
   "cell_type": "code",
   "execution_count": 9,
   "id": "61748966",
   "metadata": {},
   "outputs": [],
   "source": [
    "#List of 30 elements depicting dependent variable ( weight)\n",
    "weight = [51,56,53,48,60,53,71,56,79,68,55,67,62,51,48,53,68,83,54,74,58,52,78,\n",
    "         67,53,56,71,50,47,51]"
   ]
  },
  {
   "cell_type": "code",
   "execution_count": 10,
   "id": "e3389b24",
   "metadata": {},
   "outputs": [
    {
     "name": "stdout",
     "output_type": "stream",
     "text": [
      "Skewness of height: 0.05971615080592437\n",
      "Kurtosis of height: -1.023667931046893\n",
      "Skewness of weight: 0.741939392273259\n",
      "Kurtosis of weight: -0.6435799757709688\n"
     ]
    }
   ],
   "source": [
    "# Assumption 1: Determining normality of data\n",
    "print(\"Skewness of height:\",stats.skew(height))\n",
    "print(\"Kurtosis of height:\",stats.kurtosis(height))\n",
    "print(\"Skewness of weight:\",stats.skew(weight))\n",
    "print(\"Kurtosis of weight:\",stats.kurtosis(weight))"
   ]
  },
  {
   "cell_type": "code",
   "execution_count": 14,
   "id": "a05388de",
   "metadata": {},
   "outputs": [
    {
     "name": "stdout",
     "output_type": "stream",
     "text": [
      "Spearman correlation: SignificanceResult(statistic=0.8807334819872751, pvalue=1.3720954980234503e-10)\n",
      "Pearson correlation: PearsonRResult(statistic=0.8840621762113798, pvalue=9.43028053139073e-11)\n"
     ]
    }
   ],
   "source": [
    "# Assumption 2: Correlation between dependent,independent variables\n",
    "# Null Hypothesis: There is no sifnificant correlation between weight and height\n",
    "print(\"Spearman correlation:\",stats.spearmanr(height,weight))\n",
    "print(\"Pearson correlation:\",stats.pearsonr(height,weight))"
   ]
  },
  {
   "cell_type": "code",
   "execution_count": 15,
   "id": "8d4bf895",
   "metadata": {},
   "outputs": [
    {
     "data": {
      "image/png": "[encoded data removed]",
      "text/plain": [
       "<Figure size 640x480 with 1 Axes>"
      ]
     },
     "metadata": {},
     "output_type": "display_data"
    }
   ],
   "source": [
    "# Creating a scatterplot between weight and height\n",
    "plt.scatter(weight,height)\n",
    "plt.xlabel(\"Height\")\n",
    "plt.ylabel(\"Weight\")\n",
    "plt.title(\"Scatter Plot between weight and height\")\n",
    "plt.show()"
   ]
  },
  {
   "cell_type": "code",
   "execution_count": 17,
   "id": "2259b2a9",
   "metadata": {},
   "outputs": [],
   "source": [
    "#Converting list into data frame\n",
    "heightdf = pd.DataFrame(height)\n",
    "weightdf = pd.DataFrame(weight)"
   ]
  },
  {
   "cell_type": "code",
   "execution_count": 18,
   "id": "a2b57652",
   "metadata": {},
   "outputs": [],
   "source": [
    "# Creating a linear regression model\n",
    "model = linear_model.LinearRegression()"
   ]
  },
  {
   "cell_type": "code",
   "execution_count": 19,
   "id": "79fa020a",
   "metadata": {},
   "outputs": [
    {
     "name": "stdout",
     "output_type": "stream",
     "text": [
      "Adjusted R squared for linear regression model: 0.7815659314076009\n"
     ]
    }
   ],
   "source": [
    "#Fitting the model using fit() function\n",
    "model.fit(heightdf,weightdf)\n",
    "print(\"Adjusted R squared for linear regression model:\",model.score(heightdf,weightdf))"
   ]
  },
  {
   "cell_type": "code",
   "execution_count": 21,
   "id": "1368d82f",
   "metadata": {},
   "outputs": [
    {
     "name": "stdout",
     "output_type": "stream",
     "text": [
      "Coefficient of independent variables: [[0.51963521]]\n",
      "Intercept in model: [-22.88997345]\n"
     ]
    }
   ],
   "source": [
    "#Equation Coefficient and intercept\n",
    "print(\"Coefficient of independent variables:\",model.coef_)\n",
    "print(\"Intercept in model:\",model.intercept_)"
   ]
  },
  {
   "cell_type": "code",
   "execution_count": 22,
   "id": "750ac2b7",
   "metadata": {},
   "outputs": [],
   "source": [
    "# Creating a new data frame of independent variable (height)\n",
    "testheight=pd.DataFrame([172,180,176])"
   ]
  },
  {
   "cell_type": "code",
   "execution_count": 23,
   "id": "ec572b35",
   "metadata": {},
   "outputs": [
    {
     "name": "stdout",
     "output_type": "stream",
     "text": [
      "Predicted weight for 172 cm: [66.487282]\n",
      "Predicted weight for 180 cm: [70.64436365]\n",
      "Predicted weight for 176 cm: [68.56582282]\n"
     ]
    }
   ],
   "source": [
    "#Predicting the values of weight depending on height.\n",
    "print(\"Predicted weight for 172 cm:\",model.predict(testheight)[0])\n",
    "print(\"Predicted weight for 180 cm:\",model.predict(testheight)[1])\n",
    "print(\"Predicted weight for 176 cm:\",model.predict(testheight)[2])"
   ]
  }
 ],
 "metadata": {
  "kernelspec": {
   "display_name": "Python 3 (ipykernel)",
   "language": "python",
   "name": "python3"
  },
  "language_info": {
   "codemirror_mode": {
    "name": "ipython",
    "version": 3
   },
   "file_extension": ".py",
   "mimetype": "text/x-python",
   "name": "python",
   "nbconvert_exporter": "python",
   "pygments_lexer": "ipython3",
   "version": "3.10.9"
  }
 },
 "nbformat": 4,
 "nbformat_minor": 5
}
