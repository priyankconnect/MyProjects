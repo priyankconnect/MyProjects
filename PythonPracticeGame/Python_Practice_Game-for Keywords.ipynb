{
 "cells": [
  {
   "cell_type": "markdown",
   "id": "0a8cef15",
   "metadata": {},
   "source": [
    "You can select 'random' or 'select'. iF you select random, it will ask questions from all categories. If you select 'select' then you can select a keyword eg. 'crosstab', then it will ask questions only wrt the crosstab"
   ]
  },
  {
   "cell_type": "code",
   "execution_count": 4,
   "id": "b0e6703a",
   "metadata": {
    "scrolled": true
   },
   "outputs": [
    {
     "name": "stdout",
     "output_type": "stream",
     "text": [
      "Do you want to play a random game or a select game? (Enter 'random' or 'select'): select\n",
      "Please enter a keyword for the questions (e.g. 'crosstab'): loc\n",
      "\n",
      "Question 1: How to get the last row\n",
      "Your answer: df.loc[-1]\n",
      "\n",
      "Sorry, the correct answer is: df.iloc[-1] (from DataFrame Creation and Inspection category)\n",
      "\n",
      "Question 2: Get all the rows of 3rd, 5th and Last column use iloc\n",
      "Your answer: quit\n",
      "\n",
      "You chose to quit! Your current score is: 0 out of 2 questions asked.\n",
      "\n",
      "Game Over! Your final score is: 0 out of 10.\n"
     ]
    },
    {
     "data": {
      "text/plain": [
       "0"
      ]
     },
     "execution_count": 4,
     "metadata": {},
     "output_type": "execute_result"
    }
   ],
   "source": [
    "import pandas as pd\n",
    "import time  # For timing purposes\n",
    "import numpy as np\n",
    "\n",
    "# Load the Excel file\n",
    "file_path = \"data.xlsx\"  # Change this to the path of your Excel file\n",
    "questions_df = pd.read_excel(file_path)\n",
    "questions_df.sample(frac=1)\n",
    "\n",
    "def play_game(game_type=\"random\"):\n",
    "    keyword = None\n",
    "    if game_type == \"select\":\n",
    "        keyword = input(\"Please enter a keyword for the questions (e.g. 'crosstab'): \")\n",
    "\n",
    "    # Rest of the code remains the same as in the simulation\n",
    "\n",
    "    # List to keep track of asked questions and asked clusters\n",
    "    asked_questions = []\n",
    "    asked_clusters = []\n",
    "\n",
    "    # Initialize the score\n",
    "    score = 0\n",
    "\n",
    "    def get_random_question():\n",
    "        if game_type == \"select\" and keyword:\n",
    "            # Filter based on keyword in the \"Answer\" column, ignoring NaN values\n",
    "            available_questions = questions_df[\n",
    "                (questions_df[\"Answer\"].astype(str).str.contains(keyword, case=False, na=False)) & \n",
    "                (~questions_df[\"Questions\"].isin(asked_questions))\n",
    "            ]\n",
    "            if available_questions.empty:\n",
    "                return None\n",
    "            # Randomly select a question from the filtered set\n",
    "            question = available_questions.sample().iloc[0]\n",
    "            asked_questions.append(question[\"Questions\"])\n",
    "            return question\n",
    "\n",
    "        # For random game\n",
    "        # Try to get a question from a cluster that hasn't been asked in the current rotation\n",
    "        available_clusters = set(questions_df[\"Cluster\"]) - set(asked_clusters)\n",
    "        if not available_clusters:\n",
    "            # Reset the clusters if all have been asked\n",
    "            asked_clusters.clear()\n",
    "            available_clusters = set(questions_df[\"Cluster\"])\n",
    "\n",
    "        chosen_cluster = np.random.choice(list(available_clusters))\n",
    "        available_questions = questions_df[\n",
    "            (~questions_df[\"Questions\"].isin(asked_questions)) & \n",
    "            (questions_df[\"Cluster\"] == chosen_cluster)\n",
    "        ]\n",
    "\n",
    "        if available_questions.empty:\n",
    "            return None\n",
    "        question = available_questions.sample().iloc[0]\n",
    "        asked_questions.append(question[\"Questions\"])\n",
    "        return question\n",
    "\n",
    "    # Ask 10 questions\n",
    "    quit_flag = False  # Add this flag\n",
    "\n",
    "    for i in range(10):\n",
    "        if quit_flag:  # Check the flag at the start of each iteration\n",
    "            break\n",
    "\n",
    "        question = get_random_question()\n",
    "\n",
    "        if question is None:\n",
    "            print(\"No more available questions:\")\n",
    "            break\n",
    "\n",
    "        asked_clusters.append(question[\"Cluster\"])  # Keep track of asked clusters\n",
    "\n",
    "        a = 0\n",
    "        while True:\n",
    "            print(f\"\\nQuestion {i + 1}: {question['Questions']}\")\n",
    "\n",
    "            user_answer = input(\"Your answer: \")\n",
    "\n",
    "            correct_answer = question[\"Answer\"]\n",
    "\n",
    "            # Check if user wants to quit\n",
    "            if user_answer.strip().lower() == \"quit\":\n",
    "                print(f\"\\nYou chose to quit! Your current score is: {score} out of {i+1} questions asked.\")\n",
    "                quit_flag = True  # Set the flag to True\n",
    "                break  # This will break out of the inner while loop\n",
    "\n",
    "            if user_answer.strip() == correct_answer.strip():\n",
    "                print(f\"\\nCorrect! (from {question['Cluster']} category)\")\n",
    "                print(\"==================================================\")\n",
    "                if a == 0:\n",
    "                    score += 1\n",
    "                    a = 0\n",
    "                break\n",
    "            else:\n",
    "                print(f\"\\nSorry, the correct answer is: {correct_answer} (from {question['Cluster']} category)\")\n",
    "                a = 1\n",
    "                break  # Exit the inner loop after providing the correct answer\n",
    "\n",
    "    print(f\"\\nGame Over! Your final score is: {score} out of 10.\")\n",
    "    \n",
    "    return score\n",
    "\n",
    "# Initial prompt for game type\n",
    "game_type = input(\"Do you want to play a random game or a select game? (Enter 'random' or 'select'): \").strip().lower()\n",
    "\n",
    "play_game(game_type)\n"
   ]
  },
  {
   "cell_type": "code",
   "execution_count": null,
   "id": "0788d95c",
   "metadata": {},
   "outputs": [],
   "source": []
  }
 ],
 "metadata": {
  "kernelspec": {
   "display_name": "Python 3 (ipykernel)",
   "language": "python",
   "name": "python3"
  },
  "language_info": {
   "codemirror_mode": {
    "name": "ipython",
    "version": 3
   },
   "file_extension": ".py",
   "mimetype": "text/x-python",
   "name": "python",
   "nbconvert_exporter": "python",
   "pygments_lexer": "ipython3",
   "version": "3.10.9"
  }
 },
 "nbformat": 4,
 "nbformat_minor": 5
}
