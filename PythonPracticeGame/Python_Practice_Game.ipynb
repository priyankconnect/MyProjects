{
 "cells": [
  {
   "cell_type": "code",
   "execution_count": 2,
   "id": "247c5343",
   "metadata": {},
   "outputs": [
    {
     "name": "stdout",
     "output_type": "stream",
     "text": [
      "Question 1: Apply a function f to Rows A & Create a column Af\n",
      "Your answer: df['Af']=df['A'].apply(f,axis=1)\n",
      "Correct!\n",
      "Question 2: Counts the number of Unique Values\n",
      "Your answer: df.count_values()\n",
      "Sorry, the correct answer is: df.value_counts()\n",
      "Question 3: Drops the rows which contain null values\n",
      "Your answer: df.dropna()\n",
      "Correct!\n",
      "Question 4: Fills the NA values with 0\n",
      "Your answer: df.fillna(0)\n",
      "Correct!\n",
      "Question 5: Sorts values in a dataframe by a column A\n",
      "Your answer: df.sort_values('A',ascending='False)\n",
      "Sorry, the correct answer is: df.sort_values('A')\n",
      "Question 6: Load a dataframe from csv File\n",
      "Your answer: pd.read_csv(file='value')\n",
      "Sorry, the correct answer is: df=pd.read_csv('file.csv')\n",
      "Question 7: Concates Vertically two dataframes df1, df2\n",
      "Your answer: pd.concat([df1,df2])\n",
      "Correct!\n",
      "Question 8: Apply a function f(x,a) to Rows A & Create a column Af\n",
      "Your answer: df['Af']=df['A'].apply(f,a='value',axis=1)\n",
      "Sorry, the correct answer is: df['Af']=df['A'].apply(f,a='value')\n",
      "Question 9: Create an empty Dataframe\n",
      "Your answer: df=pd.DataFrame()\n",
      "Correct!\n",
      "Question 10: Drops the columns which contain null values\n",
      "Your answer: df.dropna(axis=1)\n",
      "Correct!\n",
      "\n",
      "Game Over! Your final score is: 6 out of 10.\n"
     ]
    }
   ],
   "source": [
    "import pandas as pd\n",
    "\n",
    "# Load the Excel file\n",
    "file_path = \"data.xlsx\" # Change this to the path of your Excel file\n",
    "questions_df = pd.read_excel(file_path)\n",
    "\n",
    "# Initialize the score\n",
    "score = 0\n",
    "\n",
    "# List to keep track of asked questions\n",
    "asked_questions = []\n",
    "\n",
    "# Function to get a random question\n",
    "def get_random_question():\n",
    "    question = questions_df.sample().iloc[0]\n",
    "    while question[\"Questions\"] in asked_questions:\n",
    "        question = questions_df.sample().iloc[0]\n",
    "    asked_questions.append(question[\"Questions\"])\n",
    "    return question\n",
    "\n",
    "# Ask 10 questions\n",
    "for i in range(10):\n",
    "    question = get_random_question()\n",
    "    print(f\"Question {i + 1}: {question['Questions']}\")\n",
    "    user_answer = input(\"Your answer: \")\n",
    "    correct_answer = questions_df[questions_df[\"Questions\"] == question[\"Questions\"]][\"Answer\"].iloc[0]\n",
    "\n",
    "    if user_answer.strip() == correct_answer.strip():\n",
    "        print(\"Correct!\")\n",
    "        score += 1\n",
    "    else:\n",
    "        print(f\"Sorry, the correct answer is: {correct_answer}\")\n",
    "\n",
    "print(f\"\\nGame Over! Your final score is: {score} out of 10.\")\n"
   ]
  },
  {
   "cell_type": "code",
   "execution_count": null,
   "id": "48188ddf",
   "metadata": {},
   "outputs": [],
   "source": []
  }
 ],
 "metadata": {
  "kernelspec": {
   "display_name": "Python 3 (ipykernel)",
   "language": "python",
   "name": "python3"
  },
  "language_info": {
   "codemirror_mode": {
    "name": "ipython",
    "version": 3
   },
   "file_extension": ".py",
   "mimetype": "text/x-python",
   "name": "python",
   "nbconvert_exporter": "python",
   "pygments_lexer": "ipython3",
   "version": "3.10.9"
  }
 },
 "nbformat": 4,
 "nbformat_minor": 5
}
