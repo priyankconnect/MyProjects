{
 "cells": [
  {
   "cell_type": "code",
   "execution_count": 1,
   "id": "98e05f15",
   "metadata": {},
   "outputs": [
    {
     "name": "stdout",
     "output_type": "stream",
     "text": [
      "Question: Convert a string column to numeric if it contains any invalid input say a - or blank\n",
      "Press enter for the answer...pd.to_numeric(df['A'],errors='coerce')\n",
      "Answer: df.to_numeric('A',errors='coerce')\n",
      "\n",
      "Do you want to continue? (Type 'quit' to exit): df.to_numeric('A',errors='coerce'\n",
      "Question: How to get the number of rows\n",
      "Press enter for the answer...df.shape[0]\n",
      "Answer: df.shape[0]\n",
      "\n",
      "Do you want to continue? (Type 'quit' to exit): \n",
      "Question: Draw a scatter plot and linear regression line for a df with numeric columns A and B, Split the lines on the basis of column C, further split the graphs on the basis of Column D. Add rows on the basis of column E\n",
      "Press enter for the answer...sns.lmplot(data=df,x=df['A'],y=df['B'],hue=df['C'],col=df['D'],row=df['E'])\n",
      "Answer: sns.lmplot(data=df,x='A',y='B',hue='C',col='D',row='E')\n",
      "\n",
      "Do you want to continue? (Type 'quit' to exit): \n",
      "Question: Generate a 2 dimensional array with 3 rows, each row containing 5 random integers from 0 to 100\n",
      "Press enter for the answer...np.random.randint(size=(3,5),100)\n",
      "Answer: random.randint(100,size=(3,5))\n",
      "\n",
      "Do you want to continue? (Type 'quit' to exit): random.randint(100,size=(3,5))\n",
      "Question: Filter a df by multiple categories a, b, c not present in a particular column A\n",
      "Press enter for the answer...df[~df['A'].isin([)\n",
      "Answer: df[~df['A'].isin(['a','b','c'])]\n",
      "\n",
      "Do you want to continue? (Type 'quit' to exit): \n",
      "Question: how to get the first row using iloc\n",
      "Press enter for the answer...df.iloc[0]\n",
      "Answer: df.iloc[1]\n",
      "\n",
      "Do you want to continue? (Type 'quit' to exit): quit\n",
      "Thank you for participating!\n"
     ]
    }
   ],
   "source": [
    "import pandas as pd\n",
    "import random\n",
    "\n",
    "# Load the data from the file\n",
    "data = pd.read_excel(\"data.xlsx\")\n",
    "\n",
    "def ask_question(remaining_indices):\n",
    "    # Randomly select a question from the remaining questions\n",
    "    current_question_index = random.choice(remaining_indices)\n",
    "    current_question = data.loc[current_question_index, \"Questions\"]\n",
    "    print(f\"Question: {current_question}\")\n",
    "    input(\"Press enter for the answer...\")\n",
    "    print(f\"Answer: {data.loc[current_question_index, 'Answer']}\\n\")\n",
    "    remaining_indices.remove(current_question_index)\n",
    "    return remaining_indices\n",
    "\n",
    "# Start the question loop with all the indices available\n",
    "remaining_question_indices = list(data.index)\n",
    "while remaining_question_indices:\n",
    "    remaining_question_indices = ask_question(remaining_question_indices)\n",
    "    continue_or_not = input(\"Do you want to continue? (Type 'quit' to exit): \").lower()\n",
    "    if continue_or_not == \"quit\":\n",
    "        break\n",
    "\n",
    "print(\"Thank you for participating!\")\n"
   ]
  },
  {
   "cell_type": "code",
   "execution_count": null,
   "id": "3778d94c",
   "metadata": {},
   "outputs": [],
   "source": []
  }
 ],
 "metadata": {
  "kernelspec": {
   "display_name": "Python 3 (ipykernel)",
   "language": "python",
   "name": "python3"
  },
  "language_info": {
   "codemirror_mode": {
    "name": "ipython",
    "version": 3
   },
   "file_extension": ".py",
   "mimetype": "text/x-python",
   "name": "python",
   "nbconvert_exporter": "python",
   "pygments_lexer": "ipython3",
   "version": "3.10.9"
  }
 },
 "nbformat": 4,
 "nbformat_minor": 5
}
