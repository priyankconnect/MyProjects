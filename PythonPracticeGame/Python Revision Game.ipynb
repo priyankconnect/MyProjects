{
 "cells": [
  {
   "cell_type": "code",
   "execution_count": 1,
   "id": "98e05f15",
   "metadata": {},
   "outputs": [
    {
     "name": "stdout",
     "output_type": "stream",
     "text": [
      "Question: Convert a df to a different datatype dtype\n",
      "Press enter for the answer...\n",
      "Answer: df.astype(dtype)\n",
      "\n",
      "Do you want to continue? (Type 'quit' to exit): \n",
      "Question: get all the columns from 3 to 10, skip 1\n",
      "Press enter for the answer...\n",
      "Answer: df.iloc[:,3:10:2]\n",
      "\n",
      "Do you want to continue? (Type 'quit' to exit): \n",
      "Question: Create a cross tabulation of the count of values of two columns A and B, add totals as well\n",
      "Press enter for the answer...pd.crosstab(df['A'],df['B'],margins=True)\n",
      "Answer: pd.crosstab(df['A'],df['B'],margins=True)\n",
      "\n",
      "Do you want to continue? (Type 'quit' to exit): quit\n",
      "Thank you for participating!\n"
     ]
    }
   ],
   "source": [
    "import pandas as pd\n",
    "import random\n",
    "\n",
    "# Load the data from the file\n",
    "data = pd.read_excel(\"data.xlsx\")\n",
    "\n",
    "def ask_question(remaining_indices):\n",
    "    # Randomly select a question from the remaining questions\n",
    "    current_question_index = random.choice(remaining_indices)\n",
    "    current_question = data.loc[current_question_index, \"Questions\"]\n",
    "    print(f\"Question: {current_question}\")\n",
    "    input(\"Press enter for the answer...\")\n",
    "    print(f\"Answer: {data.loc[current_question_index, 'Answer']}\\n\")\n",
    "    remaining_indices.remove(current_question_index)\n",
    "    return remaining_indices\n",
    "\n",
    "# Start the question loop with all the indices available\n",
    "remaining_question_indices = list(data.index)\n",
    "while remaining_question_indices:\n",
    "    remaining_question_indices = ask_question(remaining_question_indices)\n",
    "    continue_or_not = input(\"Do you want to continue? (Type 'quit' to exit): \").lower()\n",
    "    if continue_or_not == \"quit\":\n",
    "        break\n",
    "\n",
    "print(\"Thank you for participating!\")\n"
   ]
  },
  {
   "cell_type": "code",
   "execution_count": null,
   "id": "3778d94c",
   "metadata": {},
   "outputs": [],
   "source": []
  }
 ],
 "metadata": {
  "kernelspec": {
   "display_name": "Python 3 (ipykernel)",
   "language": "python",
   "name": "python3"
  },
  "language_info": {
   "codemirror_mode": {
    "name": "ipython",
    "version": 3
   },
   "file_extension": ".py",
   "mimetype": "text/x-python",
   "name": "python",
   "nbconvert_exporter": "python",
   "pygments_lexer": "ipython3",
   "version": "3.10.9"
  }
 },
 "nbformat": 4,
 "nbformat_minor": 5
}
