{
 "cells": [
  {
   "cell_type": "code",
   "execution_count": 22,
   "id": "306d4f6f",
   "metadata": {},
   "outputs": [],
   "source": [
    "import pandas as pd\n",
    "\n",
    "def compare_excel_sheets(file1, file2, sheet_name1='Sheet1', sheet_name2='Sheet1', key=None):\n",
    "    # Load the sheets into DataFrames\n",
    "    df1 = pd.read_excel(file1, sheet_name=sheet_name1)\n",
    "    df2 = pd.read_excel(file2, sheet_name=sheet_name2)\n",
    "\n",
    "    # Merge the DataFrames using an outer join\n",
    "    if key:\n",
    "        merged = df1.merge(df2, on=key, how='outer', indicator=True)\n",
    "        uncommon = merged[merged['_merge'] != 'both']\n",
    "    else:\n",
    "        merged = df1.merge(df2, how='outer', indicator=True)\n",
    "        uncommon = merged[merged['_merge'] != 'both']\n",
    "\n",
    "    return uncommon\n"
   ]
  },
  {
   "cell_type": "code",
   "execution_count": 23,
   "id": "dfee7f6f",
   "metadata": {},
   "outputs": [
    {
     "name": "stdout",
     "output_type": "stream",
     "text": [
      "   A  B  C    D      _merge\n",
      "1  2  2  2  2.0   left_only\n",
      "3  4  4  4  NaN  right_only\n"
     ]
    }
   ],
   "source": [
    "uncommon_df = compare_excel_sheets('df1.xlsx', 'df2.xlsx',key= None)\n",
    "print(uncommon_df)"
   ]
  },
  {
   "cell_type": "code",
   "execution_count": null,
   "id": "d1277dfa",
   "metadata": {},
   "outputs": [],
   "source": []
  }
 ],
 "metadata": {
  "kernelspec": {
   "display_name": "Python 3 (ipykernel)",
   "language": "python",
   "name": "python3"
  },
  "language_info": {
   "codemirror_mode": {
    "name": "ipython",
    "version": 3
   },
   "file_extension": ".py",
   "mimetype": "text/x-python",
   "name": "python",
   "nbconvert_exporter": "python",
   "pygments_lexer": "ipython3",
   "version": "3.10.9"
  }
 },
 "nbformat": 4,
 "nbformat_minor": 5
}
