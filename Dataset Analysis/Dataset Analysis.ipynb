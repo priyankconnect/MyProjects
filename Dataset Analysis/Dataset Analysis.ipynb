{
 "cells": [
  {
   "cell_type": "markdown",
   "id": "76601b6e",
   "metadata": {},
   "source": [
    "# Dataset Analysis"
   ]
  },
  {
   "cell_type": "markdown",
   "id": "45646278",
   "metadata": {},
   "source": [
    "## Generation of Dataset"
   ]
  },
  {
   "cell_type": "code",
   "execution_count": 1,
   "id": "a5f83014",
   "metadata": {},
   "outputs": [
    {
     "data": {
      "text/html": [
       "<div>\n",
       "<style scoped>\n",
       "    .dataframe tbody tr th:only-of-type {\n",
       "        vertical-align: middle;\n",
       "    }\n",
       "\n",
       "    .dataframe tbody tr th {\n",
       "        vertical-align: top;\n",
       "    }\n",
       "\n",
       "    .dataframe thead th {\n",
       "        text-align: right;\n",
       "    }\n",
       "</style>\n",
       "<table border=\"1\" class=\"dataframe\">\n",
       "  <thead>\n",
       "    <tr style=\"text-align: right;\">\n",
       "      <th></th>\n",
       "      <th>Age</th>\n",
       "      <th>Weight</th>\n",
       "      <th>Salary</th>\n",
       "      <th>Birthdate</th>\n",
       "      <th>Hire date</th>\n",
       "      <th>Gender</th>\n",
       "      <th>Marital Status</th>\n",
       "      <th>Occupation</th>\n",
       "      <th>Favorite Color</th>\n",
       "      <th>Rating</th>\n",
       "    </tr>\n",
       "  </thead>\n",
       "  <tbody>\n",
       "    <tr>\n",
       "      <th>0</th>\n",
       "      <td>21</td>\n",
       "      <td>207</td>\n",
       "      <td>148566</td>\n",
       "      <td>2005-08-27</td>\n",
       "      <td>2006-01-15</td>\n",
       "      <td>Female</td>\n",
       "      <td>Single</td>\n",
       "      <td>Engineer</td>\n",
       "      <td>Red</td>\n",
       "      <td>high</td>\n",
       "    </tr>\n",
       "    <tr>\n",
       "      <th>1</th>\n",
       "      <td>26</td>\n",
       "      <td>101</td>\n",
       "      <td>87545</td>\n",
       "      <td>1997-02-13</td>\n",
       "      <td>2005-07-30</td>\n",
       "      <td>Female</td>\n",
       "      <td>Married</td>\n",
       "      <td>Teacher</td>\n",
       "      <td>Red</td>\n",
       "      <td>high</td>\n",
       "    </tr>\n",
       "    <tr>\n",
       "      <th>2</th>\n",
       "      <td>47</td>\n",
       "      <td>200</td>\n",
       "      <td>111266</td>\n",
       "      <td>2011-07-28</td>\n",
       "      <td>2012-08-10</td>\n",
       "      <td>Female</td>\n",
       "      <td>Married</td>\n",
       "      <td>Lawyer</td>\n",
       "      <td>Blue</td>\n",
       "      <td>low</td>\n",
       "    </tr>\n",
       "    <tr>\n",
       "      <th>3</th>\n",
       "      <td>56</td>\n",
       "      <td>210</td>\n",
       "      <td>49928</td>\n",
       "      <td>2004-04-22</td>\n",
       "      <td>2020-08-05</td>\n",
       "      <td>Male</td>\n",
       "      <td>Married</td>\n",
       "      <td>Lawyer</td>\n",
       "      <td>Red</td>\n",
       "      <td>medium</td>\n",
       "    </tr>\n",
       "    <tr>\n",
       "      <th>4</th>\n",
       "      <td>33</td>\n",
       "      <td>178</td>\n",
       "      <td>79509</td>\n",
       "      <td>2006-10-11</td>\n",
       "      <td>2006-09-30</td>\n",
       "      <td>Female</td>\n",
       "      <td>Married</td>\n",
       "      <td>Engineer</td>\n",
       "      <td>Blue</td>\n",
       "      <td>medium</td>\n",
       "    </tr>\n",
       "    <tr>\n",
       "      <th>...</th>\n",
       "      <td>...</td>\n",
       "      <td>...</td>\n",
       "      <td>...</td>\n",
       "      <td>...</td>\n",
       "      <td>...</td>\n",
       "      <td>...</td>\n",
       "      <td>...</td>\n",
       "      <td>...</td>\n",
       "      <td>...</td>\n",
       "      <td>...</td>\n",
       "    </tr>\n",
       "    <tr>\n",
       "      <th>95</th>\n",
       "      <td>40</td>\n",
       "      <td>100</td>\n",
       "      <td>103372</td>\n",
       "      <td>1997-09-10</td>\n",
       "      <td>2007-11-22</td>\n",
       "      <td>Male</td>\n",
       "      <td>Married</td>\n",
       "      <td>Teacher</td>\n",
       "      <td>Blue</td>\n",
       "      <td>low</td>\n",
       "    </tr>\n",
       "    <tr>\n",
       "      <th>96</th>\n",
       "      <td>33</td>\n",
       "      <td>249</td>\n",
       "      <td>43986</td>\n",
       "      <td>2008-01-02</td>\n",
       "      <td>2017-07-28</td>\n",
       "      <td>Male</td>\n",
       "      <td>Married</td>\n",
       "      <td>Doctor</td>\n",
       "      <td>Red</td>\n",
       "      <td>medium</td>\n",
       "    </tr>\n",
       "    <tr>\n",
       "      <th>97</th>\n",
       "      <td>48</td>\n",
       "      <td>228</td>\n",
       "      <td>125857</td>\n",
       "      <td>2018-11-27</td>\n",
       "      <td>1996-04-08</td>\n",
       "      <td>Male</td>\n",
       "      <td>Married</td>\n",
       "      <td>Doctor</td>\n",
       "      <td>Yellow</td>\n",
       "      <td>high</td>\n",
       "    </tr>\n",
       "    <tr>\n",
       "      <th>98</th>\n",
       "      <td>19</td>\n",
       "      <td>191</td>\n",
       "      <td>48215</td>\n",
       "      <td>2008-02-11</td>\n",
       "      <td>2014-05-20</td>\n",
       "      <td>Female</td>\n",
       "      <td>Single</td>\n",
       "      <td>Lawyer</td>\n",
       "      <td>Red</td>\n",
       "      <td>high</td>\n",
       "    </tr>\n",
       "    <tr>\n",
       "      <th>99</th>\n",
       "      <td>28</td>\n",
       "      <td>145</td>\n",
       "      <td>113656</td>\n",
       "      <td>2019-05-10</td>\n",
       "      <td>1996-06-01</td>\n",
       "      <td>Female</td>\n",
       "      <td>Married</td>\n",
       "      <td>Engineer</td>\n",
       "      <td>Yellow</td>\n",
       "      <td>low</td>\n",
       "    </tr>\n",
       "  </tbody>\n",
       "</table>\n",
       "<p>100 rows × 10 columns</p>\n",
       "</div>"
      ],
      "text/plain": [
       "    Age  Weight  Salary  Birthdate  Hire date  Gender Marital Status  \\\n",
       "0    21     207  148566 2005-08-27 2006-01-15  Female         Single   \n",
       "1    26     101   87545 1997-02-13 2005-07-30  Female        Married   \n",
       "2    47     200  111266 2011-07-28 2012-08-10  Female        Married   \n",
       "3    56     210   49928 2004-04-22 2020-08-05    Male        Married   \n",
       "4    33     178   79509 2006-10-11 2006-09-30  Female        Married   \n",
       "..  ...     ...     ...        ...        ...     ...            ...   \n",
       "95   40     100  103372 1997-09-10 2007-11-22    Male        Married   \n",
       "96   33     249   43986 2008-01-02 2017-07-28    Male        Married   \n",
       "97   48     228  125857 2018-11-27 1996-04-08    Male        Married   \n",
       "98   19     191   48215 2008-02-11 2014-05-20  Female         Single   \n",
       "99   28     145  113656 2019-05-10 1996-06-01  Female        Married   \n",
       "\n",
       "   Occupation Favorite Color  Rating  \n",
       "0    Engineer            Red    high  \n",
       "1     Teacher            Red    high  \n",
       "2      Lawyer           Blue     low  \n",
       "3      Lawyer            Red  medium  \n",
       "4    Engineer           Blue  medium  \n",
       "..        ...            ...     ...  \n",
       "95    Teacher           Blue     low  \n",
       "96     Doctor            Red  medium  \n",
       "97     Doctor         Yellow    high  \n",
       "98     Lawyer            Red    high  \n",
       "99   Engineer         Yellow     low  \n",
       "\n",
       "[100 rows x 10 columns]"
      ]
     },
     "execution_count": 1,
     "metadata": {},
     "output_type": "execute_result"
    }
   ],
   "source": [
    "import random\n",
    "import pandas as pd\n",
    "import numpy as np\n",
    "from datetime import datetime, timedelta\n",
    "\n",
    "\n",
    "\n",
    "# Numeric variables\n",
    "\n",
    "ages = [random.randint(18, 65) for i in range(100)]\n",
    "\n",
    "weights = [random.randint(100, 250) for i in range(100)]\n",
    "\n",
    "salaries = [random.randint(35000, 150000) for i in range(100)]\n",
    "\n",
    "\n",
    "\n",
    "# Date variables\n",
    "\n",
    "start_date = datetime.strptime(\"01/01/1995\", \"%m/%d/%Y\")\n",
    "\n",
    "end_date = datetime.strptime(\"01/01/2022\", \"%m/%d/%Y\")\n",
    "\n",
    "birthdates = [start_date + timedelta(days=random.randint(0, (end_date - start_date).days)) for i in range(100)]\n",
    "\n",
    "hire_dates = [start_date + timedelta(days=random.randint(0, (end_date - start_date).days)) for i in range(100)]\n",
    "\n",
    "\n",
    "\n",
    "# Binary variables\n",
    "\n",
    "genders = [\"Male\" if random.randint(0, 1) == 0 else \"Female\" for i in range(100)]\n",
    "\n",
    "marital_status = [\"Married\" if random.randint(0, 1) == 0 else \"Single\" for i in range(100)]\n",
    "\n",
    "\n",
    "\n",
    "# Categorical variables- Nominal\n",
    "\n",
    "occupations = [\"Engineer\", \"Teacher\", \"Doctor\", \"Lawyer\"]\n",
    "\n",
    "fav_colors = [\"Red\", \"Green\", \"Blue\", \"Yellow\"]\n",
    "\n",
    "occupation = [random.choice(occupations) for i in range(100)]\n",
    "\n",
    "fav_color = [random.choice(fav_colors) for i in range(100)]\n",
    "\n",
    "\n",
    "\n",
    "# Categorical Variable- ordinal- Ordered\n",
    "\n",
    "\n",
    "\n",
    "ratings = [\"Low\",\"Medium\",\"High\"]\n",
    "\n",
    "ordering = ['low', 'medium', 'high']\n",
    "\n",
    "# Generate 100 random values from the categories\n",
    "\n",
    "data = list(np.random.choice(ordering, size=100))\n",
    "\n",
    "# Convert the data to a list with the specified ordering\n",
    "\n",
    "col = pd.Categorical(data, categories=ordering, ordered=True)\n",
    "\n",
    "# Create dataframe\n",
    "\n",
    "df = pd.DataFrame({\n",
    "\n",
    "    \"Age\": ages,\n",
    "\n",
    "    \"Weight\": weights,\n",
    "\n",
    "    \"Salary\": salaries,\n",
    "\n",
    "    \"Birthdate\": birthdates,\n",
    "\n",
    "    \"Hire date\": hire_dates,\n",
    "\n",
    "    \"Gender\": genders,\n",
    "\n",
    "    \"Marital Status\": marital_status,\n",
    "\n",
    "    \"Occupation\": occupation,\n",
    "\n",
    "    \"Favorite Color\": fav_color,\n",
    "\n",
    "    \"Rating\":col\n",
    "\n",
    "})\n",
    "df"
   ]
  },
  {
   "cell_type": "markdown",
   "id": "4985d868",
   "metadata": {},
   "source": [
    "## Inserting a Different Case ( Lower or Upper) in a dataframe column"
   ]
  },
  {
   "cell_type": "code",
   "execution_count": 2,
   "id": "dc38d171",
   "metadata": {},
   "outputs": [
    {
     "data": {
      "text/html": [
       "<div>\n",
       "<style scoped>\n",
       "    .dataframe tbody tr th:only-of-type {\n",
       "        vertical-align: middle;\n",
       "    }\n",
       "\n",
       "    .dataframe tbody tr th {\n",
       "        vertical-align: top;\n",
       "    }\n",
       "\n",
       "    .dataframe thead th {\n",
       "        text-align: right;\n",
       "    }\n",
       "</style>\n",
       "<table border=\"1\" class=\"dataframe\">\n",
       "  <thead>\n",
       "    <tr style=\"text-align: right;\">\n",
       "      <th></th>\n",
       "      <th>Age</th>\n",
       "      <th>Weight</th>\n",
       "      <th>Salary</th>\n",
       "      <th>Birthdate</th>\n",
       "      <th>Hire date</th>\n",
       "      <th>Gender</th>\n",
       "      <th>Marital Status</th>\n",
       "      <th>Occupation</th>\n",
       "      <th>Favorite Color</th>\n",
       "      <th>Rating</th>\n",
       "    </tr>\n",
       "  </thead>\n",
       "  <tbody>\n",
       "    <tr>\n",
       "      <th>0</th>\n",
       "      <td>21</td>\n",
       "      <td>207</td>\n",
       "      <td>148566</td>\n",
       "      <td>2005-08-27</td>\n",
       "      <td>2006-01-15</td>\n",
       "      <td>Female</td>\n",
       "      <td>Single</td>\n",
       "      <td>Engineer</td>\n",
       "      <td>GREEN</td>\n",
       "      <td>high</td>\n",
       "    </tr>\n",
       "    <tr>\n",
       "      <th>1</th>\n",
       "      <td>26</td>\n",
       "      <td>101</td>\n",
       "      <td>87545</td>\n",
       "      <td>1997-02-13</td>\n",
       "      <td>2005-07-30</td>\n",
       "      <td>Female</td>\n",
       "      <td>Married</td>\n",
       "      <td>Teacher</td>\n",
       "      <td>BLUE</td>\n",
       "      <td>high</td>\n",
       "    </tr>\n",
       "    <tr>\n",
       "      <th>2</th>\n",
       "      <td>47</td>\n",
       "      <td>200</td>\n",
       "      <td>111266</td>\n",
       "      <td>2011-07-28</td>\n",
       "      <td>2012-08-10</td>\n",
       "      <td>Female</td>\n",
       "      <td>Married</td>\n",
       "      <td>Lawyer</td>\n",
       "      <td>Blue</td>\n",
       "      <td>low</td>\n",
       "    </tr>\n",
       "    <tr>\n",
       "      <th>3</th>\n",
       "      <td>56</td>\n",
       "      <td>210</td>\n",
       "      <td>49928</td>\n",
       "      <td>2004-04-22</td>\n",
       "      <td>2020-08-05</td>\n",
       "      <td>Male</td>\n",
       "      <td>Married</td>\n",
       "      <td>Lawyer</td>\n",
       "      <td>Red</td>\n",
       "      <td>medium</td>\n",
       "    </tr>\n",
       "    <tr>\n",
       "      <th>4</th>\n",
       "      <td>33</td>\n",
       "      <td>178</td>\n",
       "      <td>79509</td>\n",
       "      <td>2006-10-11</td>\n",
       "      <td>2006-09-30</td>\n",
       "      <td>Female</td>\n",
       "      <td>Married</td>\n",
       "      <td>Engineer</td>\n",
       "      <td>Blue</td>\n",
       "      <td>medium</td>\n",
       "    </tr>\n",
       "    <tr>\n",
       "      <th>...</th>\n",
       "      <td>...</td>\n",
       "      <td>...</td>\n",
       "      <td>...</td>\n",
       "      <td>...</td>\n",
       "      <td>...</td>\n",
       "      <td>...</td>\n",
       "      <td>...</td>\n",
       "      <td>...</td>\n",
       "      <td>...</td>\n",
       "      <td>...</td>\n",
       "    </tr>\n",
       "    <tr>\n",
       "      <th>95</th>\n",
       "      <td>40</td>\n",
       "      <td>100</td>\n",
       "      <td>103372</td>\n",
       "      <td>1997-09-10</td>\n",
       "      <td>2007-11-22</td>\n",
       "      <td>Male</td>\n",
       "      <td>Married</td>\n",
       "      <td>Teacher</td>\n",
       "      <td>Blue</td>\n",
       "      <td>low</td>\n",
       "    </tr>\n",
       "    <tr>\n",
       "      <th>96</th>\n",
       "      <td>33</td>\n",
       "      <td>249</td>\n",
       "      <td>43986</td>\n",
       "      <td>2008-01-02</td>\n",
       "      <td>2017-07-28</td>\n",
       "      <td>Male</td>\n",
       "      <td>Married</td>\n",
       "      <td>Doctor</td>\n",
       "      <td>Red</td>\n",
       "      <td>medium</td>\n",
       "    </tr>\n",
       "    <tr>\n",
       "      <th>97</th>\n",
       "      <td>48</td>\n",
       "      <td>228</td>\n",
       "      <td>125857</td>\n",
       "      <td>2018-11-27</td>\n",
       "      <td>1996-04-08</td>\n",
       "      <td>Male</td>\n",
       "      <td>Married</td>\n",
       "      <td>Doctor</td>\n",
       "      <td>Yellow</td>\n",
       "      <td>high</td>\n",
       "    </tr>\n",
       "    <tr>\n",
       "      <th>98</th>\n",
       "      <td>19</td>\n",
       "      <td>191</td>\n",
       "      <td>48215</td>\n",
       "      <td>2008-02-11</td>\n",
       "      <td>2014-05-20</td>\n",
       "      <td>Female</td>\n",
       "      <td>Single</td>\n",
       "      <td>Lawyer</td>\n",
       "      <td>Red</td>\n",
       "      <td>high</td>\n",
       "    </tr>\n",
       "    <tr>\n",
       "      <th>99</th>\n",
       "      <td>28</td>\n",
       "      <td>145</td>\n",
       "      <td>113656</td>\n",
       "      <td>2019-05-10</td>\n",
       "      <td>1996-06-01</td>\n",
       "      <td>Female</td>\n",
       "      <td>Married</td>\n",
       "      <td>Engineer</td>\n",
       "      <td>Yellow</td>\n",
       "      <td>low</td>\n",
       "    </tr>\n",
       "  </tbody>\n",
       "</table>\n",
       "<p>100 rows × 10 columns</p>\n",
       "</div>"
      ],
      "text/plain": [
       "    Age  Weight  Salary  Birthdate  Hire date  Gender Marital Status  \\\n",
       "0    21     207  148566 2005-08-27 2006-01-15  Female         Single   \n",
       "1    26     101   87545 1997-02-13 2005-07-30  Female        Married   \n",
       "2    47     200  111266 2011-07-28 2012-08-10  Female        Married   \n",
       "3    56     210   49928 2004-04-22 2020-08-05    Male        Married   \n",
       "4    33     178   79509 2006-10-11 2006-09-30  Female        Married   \n",
       "..  ...     ...     ...        ...        ...     ...            ...   \n",
       "95   40     100  103372 1997-09-10 2007-11-22    Male        Married   \n",
       "96   33     249   43986 2008-01-02 2017-07-28    Male        Married   \n",
       "97   48     228  125857 2018-11-27 1996-04-08    Male        Married   \n",
       "98   19     191   48215 2008-02-11 2014-05-20  Female         Single   \n",
       "99   28     145  113656 2019-05-10 1996-06-01  Female        Married   \n",
       "\n",
       "   Occupation Favorite Color  Rating  \n",
       "0    Engineer          GREEN    high  \n",
       "1     Teacher           BLUE    high  \n",
       "2      Lawyer           Blue     low  \n",
       "3      Lawyer            Red  medium  \n",
       "4    Engineer           Blue  medium  \n",
       "..        ...            ...     ...  \n",
       "95    Teacher           Blue     low  \n",
       "96     Doctor            Red  medium  \n",
       "97     Doctor         Yellow    high  \n",
       "98     Lawyer            Red    high  \n",
       "99   Engineer         Yellow     low  \n",
       "\n",
       "[100 rows x 10 columns]"
      ]
     },
     "execution_count": 2,
     "metadata": {},
     "output_type": "execute_result"
    }
   ],
   "source": [
    "df1 = df.copy()\n",
    "\n",
    "# adding upper case of fav_color\n",
    "df1.loc[0,'Favorite Color'] = 'GREEN'\n",
    "df1.loc[1,'Favorite Color'] = 'BLUE'\n",
    "df1"
   ]
  },
  {
   "cell_type": "code",
   "execution_count": 3,
   "id": "bc31a09b",
   "metadata": {},
   "outputs": [
    {
     "data": {
      "text/plain": [
       "array(['GREEN', 'BLUE', 'Blue', 'Red', 'Yellow', 'Green'], dtype=object)"
      ]
     },
     "execution_count": 3,
     "metadata": {},
     "output_type": "execute_result"
    }
   ],
   "source": [
    "df1['Favorite Color'].unique()"
   ]
  },
  {
   "cell_type": "markdown",
   "id": "86703bbf",
   "metadata": {},
   "source": [
    "We can see the green and blue are showing twice, because they are of different cases. This is an issue.\n",
    "\n",
    "# Task 1: Check through all the text columns of the Dataframe and see if same word is written  in  Different Cases\n",
    "\n",
    "## 1.1 Select only the column that contain text"
   ]
  },
  {
   "cell_type": "code",
   "execution_count": 4,
   "id": "9a94f136",
   "metadata": {},
   "outputs": [
    {
     "data": {
      "text/plain": [
       "Index(['Gender', 'Marital Status', 'Occupation', 'Favorite Color'], dtype='object')"
      ]
     },
     "execution_count": 4,
     "metadata": {},
     "output_type": "execute_result"
    }
   ],
   "source": [
    "text_cols=df1.select_dtypes(include='object').columns\n",
    "text_cols"
   ]
  },
  {
   "cell_type": "markdown",
   "id": "ebd0a187",
   "metadata": {},
   "source": [
    "### 1.2. We define a dictionary that will capture the duplicate values"
   ]
  },
  {
   "cell_type": "code",
   "execution_count": 5,
   "id": "70171fa9",
   "metadata": {},
   "outputs": [],
   "source": [
    "dup_dict={}"
   ]
  },
  {
   "cell_type": "markdown",
   "id": "bd4aa41c",
   "metadata": {},
   "source": [
    "### 1.3 Loop through each text column in the dataframe and check for same values written in different cases"
   ]
  },
  {
   "cell_type": "code",
   "execution_count": 6,
   "id": "870422ee",
   "metadata": {},
   "outputs": [
    {
     "name": "stdout",
     "output_type": "stream",
     "text": [
      "The following columns contain the same text written in different cases.\n",
      "Favorite Color:['green' 'blue']\n"
     ]
    }
   ],
   "source": [
    "for col in text_cols:\n",
    "    # drop the duplicate values in the columns, if there are any NAs, that too needs to be removed, for the task \n",
    "    df1[col]=df1[col].drop_duplicates().dropna()\n",
    "    # Convert the text in the column to lowercase\n",
    "    df1[col]=df1[col].str.lower()\n",
    "    # Get the duplicate values now for that column\n",
    "    dup_vals = df1[df1.duplicated(subset=[col],keep=False)][col].dropna().unique()\n",
    "    # store the duplicate values in the dictionary\n",
    "    if len(dup_vals)>0:\n",
    "        dup_dict[col] =dup_vals\n",
    "        \n",
    "#print the dictionary of duplicated values for each text columns\n",
    "if len(dup_dict)>0:\n",
    "    print(\"The following columns contain the same text written in different cases.\")\n",
    "    for col,vals in dup_dict.items():\n",
    "        print(f\"{col}:{vals}\")\n",
    "else:\n",
    "    print(\"No columns contain the same text written in differnt cases.\")   \n",
    "    "
   ]
  },
  {
   "cell_type": "markdown",
   "id": "8bf39fd9",
   "metadata": {},
   "source": [
    "## Experiments with Boolean Masks. \n",
    "\n",
    "### First let's convert dictionary values of Favourite Color to Lists"
   ]
  },
  {
   "cell_type": "code",
   "execution_count": 7,
   "id": "22a5a5b7",
   "metadata": {},
   "outputs": [
    {
     "data": {
      "text/plain": [
       "['green', 'blue']"
      ]
     },
     "execution_count": 7,
     "metadata": {},
     "output_type": "execute_result"
    }
   ],
   "source": [
    "mylist=list(dup_dict['Favorite Color'])\n",
    "mylist"
   ]
  },
  {
   "cell_type": "markdown",
   "id": "2376b46e",
   "metadata": {},
   "source": [
    "### To check which column contain these values, first we create a boolean mask for the whole dataframe"
   ]
  },
  {
   "cell_type": "code",
   "execution_count": 8,
   "id": "0b3352b5",
   "metadata": {},
   "outputs": [
    {
     "data": {
      "text/html": [
       "<div>\n",
       "<style scoped>\n",
       "    .dataframe tbody tr th:only-of-type {\n",
       "        vertical-align: middle;\n",
       "    }\n",
       "\n",
       "    .dataframe tbody tr th {\n",
       "        vertical-align: top;\n",
       "    }\n",
       "\n",
       "    .dataframe thead th {\n",
       "        text-align: right;\n",
       "    }\n",
       "</style>\n",
       "<table border=\"1\" class=\"dataframe\">\n",
       "  <thead>\n",
       "    <tr style=\"text-align: right;\">\n",
       "      <th></th>\n",
       "      <th>Age</th>\n",
       "      <th>Weight</th>\n",
       "      <th>Salary</th>\n",
       "      <th>Birthdate</th>\n",
       "      <th>Hire date</th>\n",
       "      <th>Gender</th>\n",
       "      <th>Marital Status</th>\n",
       "      <th>Occupation</th>\n",
       "      <th>Favorite Color</th>\n",
       "      <th>Rating</th>\n",
       "    </tr>\n",
       "  </thead>\n",
       "  <tbody>\n",
       "    <tr>\n",
       "      <th>0</th>\n",
       "      <td>False</td>\n",
       "      <td>False</td>\n",
       "      <td>False</td>\n",
       "      <td>False</td>\n",
       "      <td>False</td>\n",
       "      <td>False</td>\n",
       "      <td>False</td>\n",
       "      <td>False</td>\n",
       "      <td>True</td>\n",
       "      <td>False</td>\n",
       "    </tr>\n",
       "    <tr>\n",
       "      <th>1</th>\n",
       "      <td>False</td>\n",
       "      <td>False</td>\n",
       "      <td>False</td>\n",
       "      <td>False</td>\n",
       "      <td>False</td>\n",
       "      <td>False</td>\n",
       "      <td>False</td>\n",
       "      <td>False</td>\n",
       "      <td>True</td>\n",
       "      <td>False</td>\n",
       "    </tr>\n",
       "    <tr>\n",
       "      <th>2</th>\n",
       "      <td>False</td>\n",
       "      <td>False</td>\n",
       "      <td>False</td>\n",
       "      <td>False</td>\n",
       "      <td>False</td>\n",
       "      <td>False</td>\n",
       "      <td>False</td>\n",
       "      <td>False</td>\n",
       "      <td>True</td>\n",
       "      <td>False</td>\n",
       "    </tr>\n",
       "    <tr>\n",
       "      <th>3</th>\n",
       "      <td>False</td>\n",
       "      <td>False</td>\n",
       "      <td>False</td>\n",
       "      <td>False</td>\n",
       "      <td>False</td>\n",
       "      <td>False</td>\n",
       "      <td>False</td>\n",
       "      <td>False</td>\n",
       "      <td>False</td>\n",
       "      <td>False</td>\n",
       "    </tr>\n",
       "    <tr>\n",
       "      <th>4</th>\n",
       "      <td>False</td>\n",
       "      <td>False</td>\n",
       "      <td>False</td>\n",
       "      <td>False</td>\n",
       "      <td>False</td>\n",
       "      <td>False</td>\n",
       "      <td>False</td>\n",
       "      <td>False</td>\n",
       "      <td>False</td>\n",
       "      <td>False</td>\n",
       "    </tr>\n",
       "    <tr>\n",
       "      <th>...</th>\n",
       "      <td>...</td>\n",
       "      <td>...</td>\n",
       "      <td>...</td>\n",
       "      <td>...</td>\n",
       "      <td>...</td>\n",
       "      <td>...</td>\n",
       "      <td>...</td>\n",
       "      <td>...</td>\n",
       "      <td>...</td>\n",
       "      <td>...</td>\n",
       "    </tr>\n",
       "    <tr>\n",
       "      <th>95</th>\n",
       "      <td>False</td>\n",
       "      <td>False</td>\n",
       "      <td>False</td>\n",
       "      <td>False</td>\n",
       "      <td>False</td>\n",
       "      <td>False</td>\n",
       "      <td>False</td>\n",
       "      <td>False</td>\n",
       "      <td>False</td>\n",
       "      <td>False</td>\n",
       "    </tr>\n",
       "    <tr>\n",
       "      <th>96</th>\n",
       "      <td>False</td>\n",
       "      <td>False</td>\n",
       "      <td>False</td>\n",
       "      <td>False</td>\n",
       "      <td>False</td>\n",
       "      <td>False</td>\n",
       "      <td>False</td>\n",
       "      <td>False</td>\n",
       "      <td>False</td>\n",
       "      <td>False</td>\n",
       "    </tr>\n",
       "    <tr>\n",
       "      <th>97</th>\n",
       "      <td>False</td>\n",
       "      <td>False</td>\n",
       "      <td>False</td>\n",
       "      <td>False</td>\n",
       "      <td>False</td>\n",
       "      <td>False</td>\n",
       "      <td>False</td>\n",
       "      <td>False</td>\n",
       "      <td>False</td>\n",
       "      <td>False</td>\n",
       "    </tr>\n",
       "    <tr>\n",
       "      <th>98</th>\n",
       "      <td>False</td>\n",
       "      <td>False</td>\n",
       "      <td>False</td>\n",
       "      <td>False</td>\n",
       "      <td>False</td>\n",
       "      <td>False</td>\n",
       "      <td>False</td>\n",
       "      <td>False</td>\n",
       "      <td>False</td>\n",
       "      <td>False</td>\n",
       "    </tr>\n",
       "    <tr>\n",
       "      <th>99</th>\n",
       "      <td>False</td>\n",
       "      <td>False</td>\n",
       "      <td>False</td>\n",
       "      <td>False</td>\n",
       "      <td>False</td>\n",
       "      <td>False</td>\n",
       "      <td>False</td>\n",
       "      <td>False</td>\n",
       "      <td>False</td>\n",
       "      <td>False</td>\n",
       "    </tr>\n",
       "  </tbody>\n",
       "</table>\n",
       "<p>100 rows × 10 columns</p>\n",
       "</div>"
      ],
      "text/plain": [
       "      Age  Weight  Salary  Birthdate  Hire date  Gender  Marital Status  \\\n",
       "0   False   False   False      False      False   False           False   \n",
       "1   False   False   False      False      False   False           False   \n",
       "2   False   False   False      False      False   False           False   \n",
       "3   False   False   False      False      False   False           False   \n",
       "4   False   False   False      False      False   False           False   \n",
       "..    ...     ...     ...        ...        ...     ...             ...   \n",
       "95  False   False   False      False      False   False           False   \n",
       "96  False   False   False      False      False   False           False   \n",
       "97  False   False   False      False      False   False           False   \n",
       "98  False   False   False      False      False   False           False   \n",
       "99  False   False   False      False      False   False           False   \n",
       "\n",
       "    Occupation  Favorite Color  Rating  \n",
       "0        False            True   False  \n",
       "1        False            True   False  \n",
       "2        False            True   False  \n",
       "3        False           False   False  \n",
       "4        False           False   False  \n",
       "..         ...             ...     ...  \n",
       "95       False           False   False  \n",
       "96       False           False   False  \n",
       "97       False           False   False  \n",
       "98       False           False   False  \n",
       "99       False           False   False  \n",
       "\n",
       "[100 rows x 10 columns]"
      ]
     },
     "execution_count": 8,
     "metadata": {},
     "output_type": "execute_result"
    }
   ],
   "source": [
    "df1.isin(mylist)"
   ]
  },
  {
   "cell_type": "markdown",
   "id": "6eb840d3",
   "metadata": {},
   "source": [
    "### To check if any of the columns contain true, we use any().any() with boolean mask"
   ]
  },
  {
   "cell_type": "code",
   "execution_count": 9,
   "id": "b89f3818",
   "metadata": {},
   "outputs": [
    {
     "data": {
      "text/plain": [
       "True"
      ]
     },
     "execution_count": 9,
     "metadata": {},
     "output_type": "execute_result"
    }
   ],
   "source": [
    "df1.isin(mylist).any().any()"
   ]
  },
  {
   "cell_type": "markdown",
   "id": "e6c54799",
   "metadata": {},
   "source": [
    "### To check which column has these true values we use any() with boolean mask"
   ]
  },
  {
   "cell_type": "code",
   "execution_count": 10,
   "id": "7e421eab",
   "metadata": {},
   "outputs": [
    {
     "data": {
      "text/plain": [
       "Age               False\n",
       "Weight            False\n",
       "Salary            False\n",
       "Birthdate         False\n",
       "Hire date         False\n",
       "Gender            False\n",
       "Marital Status    False\n",
       "Occupation        False\n",
       "Favorite Color     True\n",
       "Rating            False\n",
       "dtype: bool"
      ]
     },
     "execution_count": 10,
     "metadata": {},
     "output_type": "execute_result"
    }
   ],
   "source": [
    "df1.isin(mylist).any()"
   ]
  },
  {
   "cell_type": "markdown",
   "id": "14f1cf25",
   "metadata": {},
   "source": [
    "### to check the Total Number of true values, we use sum().sum() with boolean mask"
   ]
  },
  {
   "cell_type": "code",
   "execution_count": 11,
   "id": "a136ceb2",
   "metadata": {},
   "outputs": [
    {
     "data": {
      "text/plain": [
       "4"
      ]
     },
     "execution_count": 11,
     "metadata": {},
     "output_type": "execute_result"
    }
   ],
   "source": [
    "df1.isin(mylist).sum().sum()"
   ]
  },
  {
   "cell_type": "markdown",
   "id": "288543cd",
   "metadata": {},
   "source": [
    "### To check how many of these true values each column contains, we use sum() with boolean mask"
   ]
  },
  {
   "cell_type": "code",
   "execution_count": 12,
   "id": "3c6692fb",
   "metadata": {},
   "outputs": [
    {
     "data": {
      "text/plain": [
       "Age               0\n",
       "Weight            0\n",
       "Salary            0\n",
       "Birthdate         0\n",
       "Hire date         0\n",
       "Gender            0\n",
       "Marital Status    0\n",
       "Occupation        0\n",
       "Favorite Color    4\n",
       "Rating            0\n",
       "dtype: int64"
      ]
     },
     "execution_count": 12,
     "metadata": {},
     "output_type": "execute_result"
    }
   ],
   "source": [
    "df1.isin(mylist).sum()"
   ]
  },
  {
   "cell_type": "markdown",
   "id": "7e285a9a",
   "metadata": {},
   "source": [
    "### To find the rows with these values, we  use .any(axis=1) with boolean mask"
   ]
  },
  {
   "cell_type": "code",
   "execution_count": 13,
   "id": "dc30badf",
   "metadata": {},
   "outputs": [
    {
     "data": {
      "text/html": [
       "<div>\n",
       "<style scoped>\n",
       "    .dataframe tbody tr th:only-of-type {\n",
       "        vertical-align: middle;\n",
       "    }\n",
       "\n",
       "    .dataframe tbody tr th {\n",
       "        vertical-align: top;\n",
       "    }\n",
       "\n",
       "    .dataframe thead th {\n",
       "        text-align: right;\n",
       "    }\n",
       "</style>\n",
       "<table border=\"1\" class=\"dataframe\">\n",
       "  <thead>\n",
       "    <tr style=\"text-align: right;\">\n",
       "      <th></th>\n",
       "      <th>Age</th>\n",
       "      <th>Weight</th>\n",
       "      <th>Salary</th>\n",
       "      <th>Birthdate</th>\n",
       "      <th>Hire date</th>\n",
       "      <th>Gender</th>\n",
       "      <th>Marital Status</th>\n",
       "      <th>Occupation</th>\n",
       "      <th>Favorite Color</th>\n",
       "      <th>Rating</th>\n",
       "    </tr>\n",
       "  </thead>\n",
       "  <tbody>\n",
       "    <tr>\n",
       "      <th>0</th>\n",
       "      <td>21</td>\n",
       "      <td>207</td>\n",
       "      <td>148566</td>\n",
       "      <td>2005-08-27</td>\n",
       "      <td>2006-01-15</td>\n",
       "      <td>female</td>\n",
       "      <td>single</td>\n",
       "      <td>engineer</td>\n",
       "      <td>green</td>\n",
       "      <td>high</td>\n",
       "    </tr>\n",
       "    <tr>\n",
       "      <th>1</th>\n",
       "      <td>26</td>\n",
       "      <td>101</td>\n",
       "      <td>87545</td>\n",
       "      <td>1997-02-13</td>\n",
       "      <td>2005-07-30</td>\n",
       "      <td>NaN</td>\n",
       "      <td>married</td>\n",
       "      <td>teacher</td>\n",
       "      <td>blue</td>\n",
       "      <td>high</td>\n",
       "    </tr>\n",
       "    <tr>\n",
       "      <th>2</th>\n",
       "      <td>47</td>\n",
       "      <td>200</td>\n",
       "      <td>111266</td>\n",
       "      <td>2011-07-28</td>\n",
       "      <td>2012-08-10</td>\n",
       "      <td>NaN</td>\n",
       "      <td>NaN</td>\n",
       "      <td>lawyer</td>\n",
       "      <td>blue</td>\n",
       "      <td>low</td>\n",
       "    </tr>\n",
       "    <tr>\n",
       "      <th>9</th>\n",
       "      <td>64</td>\n",
       "      <td>154</td>\n",
       "      <td>83255</td>\n",
       "      <td>2002-05-05</td>\n",
       "      <td>2011-08-08</td>\n",
       "      <td>NaN</td>\n",
       "      <td>NaN</td>\n",
       "      <td>NaN</td>\n",
       "      <td>green</td>\n",
       "      <td>high</td>\n",
       "    </tr>\n",
       "  </tbody>\n",
       "</table>\n",
       "</div>"
      ],
      "text/plain": [
       "   Age  Weight  Salary  Birthdate  Hire date  Gender Marital Status  \\\n",
       "0   21     207  148566 2005-08-27 2006-01-15  female         single   \n",
       "1   26     101   87545 1997-02-13 2005-07-30     NaN        married   \n",
       "2   47     200  111266 2011-07-28 2012-08-10     NaN            NaN   \n",
       "9   64     154   83255 2002-05-05 2011-08-08     NaN            NaN   \n",
       "\n",
       "  Occupation Favorite Color Rating  \n",
       "0   engineer          green   high  \n",
       "1    teacher           blue   high  \n",
       "2     lawyer           blue    low  \n",
       "9        NaN          green   high  "
      ]
     },
     "execution_count": 13,
     "metadata": {},
     "output_type": "execute_result"
    }
   ],
   "source": [
    "df1[df1.isin(mylist).any(axis=1)]"
   ]
  },
  {
   "cell_type": "markdown",
   "id": "c141a044",
   "metadata": {},
   "source": [
    "# Task 2: Find the Duplicate Rows in a Dataframe\n",
    "\n",
    "## Subtask 1.: Create and insert a duplicate row"
   ]
  },
  {
   "cell_type": "code",
   "execution_count": 14,
   "id": "a8fb71e1",
   "metadata": {},
   "outputs": [
    {
     "data": {
      "text/html": [
       "<div>\n",
       "<style scoped>\n",
       "    .dataframe tbody tr th:only-of-type {\n",
       "        vertical-align: middle;\n",
       "    }\n",
       "\n",
       "    .dataframe tbody tr th {\n",
       "        vertical-align: top;\n",
       "    }\n",
       "\n",
       "    .dataframe thead th {\n",
       "        text-align: right;\n",
       "    }\n",
       "</style>\n",
       "<table border=\"1\" class=\"dataframe\">\n",
       "  <thead>\n",
       "    <tr style=\"text-align: right;\">\n",
       "      <th></th>\n",
       "      <th>Age</th>\n",
       "      <th>Weight</th>\n",
       "      <th>Salary</th>\n",
       "      <th>Birthdate</th>\n",
       "      <th>Hire date</th>\n",
       "      <th>Gender</th>\n",
       "      <th>Marital Status</th>\n",
       "      <th>Occupation</th>\n",
       "      <th>Favorite Color</th>\n",
       "      <th>Rating</th>\n",
       "    </tr>\n",
       "  </thead>\n",
       "  <tbody>\n",
       "    <tr>\n",
       "      <th>0</th>\n",
       "      <td>21</td>\n",
       "      <td>207</td>\n",
       "      <td>148566</td>\n",
       "      <td>2005-08-27</td>\n",
       "      <td>2006-01-15</td>\n",
       "      <td>Female</td>\n",
       "      <td>Single</td>\n",
       "      <td>Engineer</td>\n",
       "      <td>Red</td>\n",
       "      <td>high</td>\n",
       "    </tr>\n",
       "    <tr>\n",
       "      <th>1</th>\n",
       "      <td>26</td>\n",
       "      <td>101</td>\n",
       "      <td>87545</td>\n",
       "      <td>1997-02-13</td>\n",
       "      <td>2005-07-30</td>\n",
       "      <td>Female</td>\n",
       "      <td>Married</td>\n",
       "      <td>Teacher</td>\n",
       "      <td>Red</td>\n",
       "      <td>high</td>\n",
       "    </tr>\n",
       "    <tr>\n",
       "      <th>2</th>\n",
       "      <td>47</td>\n",
       "      <td>200</td>\n",
       "      <td>111266</td>\n",
       "      <td>2011-07-28</td>\n",
       "      <td>2012-08-10</td>\n",
       "      <td>Female</td>\n",
       "      <td>Married</td>\n",
       "      <td>Lawyer</td>\n",
       "      <td>Blue</td>\n",
       "      <td>low</td>\n",
       "    </tr>\n",
       "    <tr>\n",
       "      <th>3</th>\n",
       "      <td>56</td>\n",
       "      <td>210</td>\n",
       "      <td>49928</td>\n",
       "      <td>2004-04-22</td>\n",
       "      <td>2020-08-05</td>\n",
       "      <td>Male</td>\n",
       "      <td>Married</td>\n",
       "      <td>Lawyer</td>\n",
       "      <td>Red</td>\n",
       "      <td>medium</td>\n",
       "    </tr>\n",
       "    <tr>\n",
       "      <th>4</th>\n",
       "      <td>33</td>\n",
       "      <td>178</td>\n",
       "      <td>79509</td>\n",
       "      <td>2006-10-11</td>\n",
       "      <td>2006-09-30</td>\n",
       "      <td>Female</td>\n",
       "      <td>Married</td>\n",
       "      <td>Engineer</td>\n",
       "      <td>Blue</td>\n",
       "      <td>medium</td>\n",
       "    </tr>\n",
       "    <tr>\n",
       "      <th>...</th>\n",
       "      <td>...</td>\n",
       "      <td>...</td>\n",
       "      <td>...</td>\n",
       "      <td>...</td>\n",
       "      <td>...</td>\n",
       "      <td>...</td>\n",
       "      <td>...</td>\n",
       "      <td>...</td>\n",
       "      <td>...</td>\n",
       "      <td>...</td>\n",
       "    </tr>\n",
       "    <tr>\n",
       "      <th>96</th>\n",
       "      <td>33</td>\n",
       "      <td>249</td>\n",
       "      <td>43986</td>\n",
       "      <td>2008-01-02</td>\n",
       "      <td>2017-07-28</td>\n",
       "      <td>Male</td>\n",
       "      <td>Married</td>\n",
       "      <td>Doctor</td>\n",
       "      <td>Red</td>\n",
       "      <td>medium</td>\n",
       "    </tr>\n",
       "    <tr>\n",
       "      <th>97</th>\n",
       "      <td>48</td>\n",
       "      <td>228</td>\n",
       "      <td>125857</td>\n",
       "      <td>2018-11-27</td>\n",
       "      <td>1996-04-08</td>\n",
       "      <td>Male</td>\n",
       "      <td>Married</td>\n",
       "      <td>Doctor</td>\n",
       "      <td>Yellow</td>\n",
       "      <td>high</td>\n",
       "    </tr>\n",
       "    <tr>\n",
       "      <th>98</th>\n",
       "      <td>19</td>\n",
       "      <td>191</td>\n",
       "      <td>48215</td>\n",
       "      <td>2008-02-11</td>\n",
       "      <td>2014-05-20</td>\n",
       "      <td>Female</td>\n",
       "      <td>Single</td>\n",
       "      <td>Lawyer</td>\n",
       "      <td>Red</td>\n",
       "      <td>high</td>\n",
       "    </tr>\n",
       "    <tr>\n",
       "      <th>99</th>\n",
       "      <td>28</td>\n",
       "      <td>145</td>\n",
       "      <td>113656</td>\n",
       "      <td>2019-05-10</td>\n",
       "      <td>1996-06-01</td>\n",
       "      <td>Female</td>\n",
       "      <td>Married</td>\n",
       "      <td>Engineer</td>\n",
       "      <td>Yellow</td>\n",
       "      <td>low</td>\n",
       "    </tr>\n",
       "    <tr>\n",
       "      <th>100</th>\n",
       "      <td>26</td>\n",
       "      <td>101</td>\n",
       "      <td>87545</td>\n",
       "      <td>1997-02-13</td>\n",
       "      <td>2005-07-30</td>\n",
       "      <td>Female</td>\n",
       "      <td>Married</td>\n",
       "      <td>Teacher</td>\n",
       "      <td>Red</td>\n",
       "      <td>high</td>\n",
       "    </tr>\n",
       "  </tbody>\n",
       "</table>\n",
       "<p>101 rows × 10 columns</p>\n",
       "</div>"
      ],
      "text/plain": [
       "     Age  Weight  Salary  Birthdate  Hire date  Gender Marital Status  \\\n",
       "0     21     207  148566 2005-08-27 2006-01-15  Female         Single   \n",
       "1     26     101   87545 1997-02-13 2005-07-30  Female        Married   \n",
       "2     47     200  111266 2011-07-28 2012-08-10  Female        Married   \n",
       "3     56     210   49928 2004-04-22 2020-08-05    Male        Married   \n",
       "4     33     178   79509 2006-10-11 2006-09-30  Female        Married   \n",
       "..   ...     ...     ...        ...        ...     ...            ...   \n",
       "96    33     249   43986 2008-01-02 2017-07-28    Male        Married   \n",
       "97    48     228  125857 2018-11-27 1996-04-08    Male        Married   \n",
       "98    19     191   48215 2008-02-11 2014-05-20  Female         Single   \n",
       "99    28     145  113656 2019-05-10 1996-06-01  Female        Married   \n",
       "100   26     101   87545 1997-02-13 2005-07-30  Female        Married   \n",
       "\n",
       "    Occupation Favorite Color  Rating  \n",
       "0     Engineer            Red    high  \n",
       "1      Teacher            Red    high  \n",
       "2       Lawyer           Blue     low  \n",
       "3       Lawyer            Red  medium  \n",
       "4     Engineer           Blue  medium  \n",
       "..         ...            ...     ...  \n",
       "96      Doctor            Red  medium  \n",
       "97      Doctor         Yellow    high  \n",
       "98      Lawyer            Red    high  \n",
       "99    Engineer         Yellow     low  \n",
       "100    Teacher            Red    high  \n",
       "\n",
       "[101 rows x 10 columns]"
      ]
     },
     "execution_count": 14,
     "metadata": {},
     "output_type": "execute_result"
    }
   ],
   "source": [
    "# How to copy the second row and append it at the end\n",
    "df2=df.copy()\n",
    "df2.loc[df2.shape[0]]=df2.loc[1]\n",
    "df2"
   ]
  },
  {
   "cell_type": "markdown",
   "id": "a4c4d41b",
   "metadata": {},
   "source": [
    "## Subtask 2: Discovering Duplicate Rows"
   ]
  },
  {
   "cell_type": "code",
   "execution_count": 15,
   "id": "fff880e3",
   "metadata": {
    "scrolled": true
   },
   "outputs": [
    {
     "data": {
      "text/plain": [
       "0      False\n",
       "1       True\n",
       "2      False\n",
       "3      False\n",
       "4      False\n",
       "       ...  \n",
       "96     False\n",
       "97     False\n",
       "98     False\n",
       "99     False\n",
       "100     True\n",
       "Length: 101, dtype: bool"
      ]
     },
     "execution_count": 15,
     "metadata": {},
     "output_type": "execute_result"
    }
   ],
   "source": [
    "duplicated_rows = df2.duplicated(keep=False)\n",
    "duplicated_rows"
   ]
  },
  {
   "cell_type": "code",
   "execution_count": 16,
   "id": "20c243fc",
   "metadata": {},
   "outputs": [
    {
     "data": {
      "text/plain": [
       "True"
      ]
     },
     "execution_count": 16,
     "metadata": {},
     "output_type": "execute_result"
    }
   ],
   "source": [
    "duplicated_rows.any().any()"
   ]
  },
  {
   "cell_type": "code",
   "execution_count": 17,
   "id": "333119f2",
   "metadata": {},
   "outputs": [
    {
     "data": {
      "text/plain": [
       "True"
      ]
     },
     "execution_count": 17,
     "metadata": {},
     "output_type": "execute_result"
    }
   ],
   "source": [
    "duplicated_rows.any()"
   ]
  },
  {
   "cell_type": "code",
   "execution_count": 18,
   "id": "8e77ef90",
   "metadata": {},
   "outputs": [
    {
     "data": {
      "text/plain": [
       "2"
      ]
     },
     "execution_count": 18,
     "metadata": {},
     "output_type": "execute_result"
    }
   ],
   "source": [
    "duplicated_rows.sum().sum()"
   ]
  },
  {
   "cell_type": "code",
   "execution_count": 19,
   "id": "9c9f1b21",
   "metadata": {},
   "outputs": [
    {
     "data": {
      "text/plain": [
       "2"
      ]
     },
     "execution_count": 19,
     "metadata": {},
     "output_type": "execute_result"
    }
   ],
   "source": [
    "duplicated_rows.sum()"
   ]
  },
  {
   "cell_type": "code",
   "execution_count": 20,
   "id": "de2dd41a",
   "metadata": {},
   "outputs": [
    {
     "data": {
      "text/html": [
       "<div>\n",
       "<style scoped>\n",
       "    .dataframe tbody tr th:only-of-type {\n",
       "        vertical-align: middle;\n",
       "    }\n",
       "\n",
       "    .dataframe tbody tr th {\n",
       "        vertical-align: top;\n",
       "    }\n",
       "\n",
       "    .dataframe thead th {\n",
       "        text-align: right;\n",
       "    }\n",
       "</style>\n",
       "<table border=\"1\" class=\"dataframe\">\n",
       "  <thead>\n",
       "    <tr style=\"text-align: right;\">\n",
       "      <th></th>\n",
       "      <th>Age</th>\n",
       "      <th>Weight</th>\n",
       "      <th>Salary</th>\n",
       "      <th>Birthdate</th>\n",
       "      <th>Hire date</th>\n",
       "      <th>Gender</th>\n",
       "      <th>Marital Status</th>\n",
       "      <th>Occupation</th>\n",
       "      <th>Favorite Color</th>\n",
       "      <th>Rating</th>\n",
       "    </tr>\n",
       "  </thead>\n",
       "  <tbody>\n",
       "    <tr>\n",
       "      <th>1</th>\n",
       "      <td>26</td>\n",
       "      <td>101</td>\n",
       "      <td>87545</td>\n",
       "      <td>1997-02-13</td>\n",
       "      <td>2005-07-30</td>\n",
       "      <td>Female</td>\n",
       "      <td>Married</td>\n",
       "      <td>Teacher</td>\n",
       "      <td>Red</td>\n",
       "      <td>high</td>\n",
       "    </tr>\n",
       "    <tr>\n",
       "      <th>100</th>\n",
       "      <td>26</td>\n",
       "      <td>101</td>\n",
       "      <td>87545</td>\n",
       "      <td>1997-02-13</td>\n",
       "      <td>2005-07-30</td>\n",
       "      <td>Female</td>\n",
       "      <td>Married</td>\n",
       "      <td>Teacher</td>\n",
       "      <td>Red</td>\n",
       "      <td>high</td>\n",
       "    </tr>\n",
       "  </tbody>\n",
       "</table>\n",
       "</div>"
      ],
      "text/plain": [
       "     Age  Weight  Salary  Birthdate  Hire date  Gender Marital Status  \\\n",
       "1     26     101   87545 1997-02-13 2005-07-30  Female        Married   \n",
       "100   26     101   87545 1997-02-13 2005-07-30  Female        Married   \n",
       "\n",
       "    Occupation Favorite Color Rating  \n",
       "1      Teacher            Red   high  \n",
       "100    Teacher            Red   high  "
      ]
     },
     "execution_count": 20,
     "metadata": {},
     "output_type": "execute_result"
    }
   ],
   "source": [
    "df2[duplicated_rows]"
   ]
  },
  {
   "cell_type": "markdown",
   "id": "b888f42a",
   "metadata": {},
   "source": [
    "# Task 3: Find the Outliers in a Dataframe\n",
    "\n",
    "## Subtask 1.: Create and insert outliers\n",
    "\n",
    "To create an outlier, we first convert the 100th row into a dictionary and then change the values in the numeric keys of the dictionary"
   ]
  },
  {
   "cell_type": "code",
   "execution_count": 21,
   "id": "8f7e98da",
   "metadata": {},
   "outputs": [
    {
     "data": {
      "text/plain": [
       "{'Age': 28,\n",
       " 'Weight': 145,\n",
       " 'Salary': 113656,\n",
       " 'Birthdate': Timestamp('2019-05-10 00:00:00'),\n",
       " 'Hire date': Timestamp('1996-06-01 00:00:00'),\n",
       " 'Gender': 'Female',\n",
       " 'Marital Status': 'Married',\n",
       " 'Occupation': 'Engineer',\n",
       " 'Favorite Color': 'Yellow',\n",
       " 'Rating': 'low'}"
      ]
     },
     "execution_count": 21,
     "metadata": {},
     "output_type": "execute_result"
    }
   ],
   "source": [
    "df3=df.copy()\n",
    "a = df3.loc[99].to_dict()\n",
    "a"
   ]
  },
  {
   "cell_type": "markdown",
   "id": "0c6c2d61",
   "metadata": {},
   "source": [
    "Now we change the numeric values to the outliers"
   ]
  },
  {
   "cell_type": "code",
   "execution_count": 22,
   "id": "d3406f76",
   "metadata": {},
   "outputs": [],
   "source": [
    "from pandas import Timestamp\n",
    "b={'Age': 128,\n",
    " 'Weight': 1199,\n",
    " 'Salary': 134609,\n",
    " 'Birthdate': Timestamp('2012-02-11 00:00:00'),\n",
    " 'Hire date': Timestamp('2006-11-10 00:00:00'),\n",
    " 'Gender': 'Female',\n",
    " 'Marital Status': 'Single',\n",
    " 'Occupation': 'Doctor',\n",
    " 'Favorite Color': 'Red',\n",
    " 'Rating': 'medium'}"
   ]
  },
  {
   "cell_type": "markdown",
   "id": "4bcf6ac7",
   "metadata": {},
   "source": [
    "Appending Back to the dataframe"
   ]
  },
  {
   "cell_type": "code",
   "execution_count": 23,
   "id": "2ff59f7a",
   "metadata": {},
   "outputs": [
    {
     "data": {
      "text/html": [
       "<div>\n",
       "<style scoped>\n",
       "    .dataframe tbody tr th:only-of-type {\n",
       "        vertical-align: middle;\n",
       "    }\n",
       "\n",
       "    .dataframe tbody tr th {\n",
       "        vertical-align: top;\n",
       "    }\n",
       "\n",
       "    .dataframe thead th {\n",
       "        text-align: right;\n",
       "    }\n",
       "</style>\n",
       "<table border=\"1\" class=\"dataframe\">\n",
       "  <thead>\n",
       "    <tr style=\"text-align: right;\">\n",
       "      <th></th>\n",
       "      <th>Age</th>\n",
       "      <th>Weight</th>\n",
       "      <th>Salary</th>\n",
       "      <th>Birthdate</th>\n",
       "      <th>Hire date</th>\n",
       "      <th>Gender</th>\n",
       "      <th>Marital Status</th>\n",
       "      <th>Occupation</th>\n",
       "      <th>Favorite Color</th>\n",
       "      <th>Rating</th>\n",
       "    </tr>\n",
       "  </thead>\n",
       "  <tbody>\n",
       "    <tr>\n",
       "      <th>0</th>\n",
       "      <td>21</td>\n",
       "      <td>207</td>\n",
       "      <td>148566</td>\n",
       "      <td>2005-08-27</td>\n",
       "      <td>2006-01-15</td>\n",
       "      <td>Female</td>\n",
       "      <td>Single</td>\n",
       "      <td>Engineer</td>\n",
       "      <td>Red</td>\n",
       "      <td>high</td>\n",
       "    </tr>\n",
       "    <tr>\n",
       "      <th>1</th>\n",
       "      <td>26</td>\n",
       "      <td>101</td>\n",
       "      <td>87545</td>\n",
       "      <td>1997-02-13</td>\n",
       "      <td>2005-07-30</td>\n",
       "      <td>Female</td>\n",
       "      <td>Married</td>\n",
       "      <td>Teacher</td>\n",
       "      <td>Red</td>\n",
       "      <td>high</td>\n",
       "    </tr>\n",
       "    <tr>\n",
       "      <th>2</th>\n",
       "      <td>47</td>\n",
       "      <td>200</td>\n",
       "      <td>111266</td>\n",
       "      <td>2011-07-28</td>\n",
       "      <td>2012-08-10</td>\n",
       "      <td>Female</td>\n",
       "      <td>Married</td>\n",
       "      <td>Lawyer</td>\n",
       "      <td>Blue</td>\n",
       "      <td>low</td>\n",
       "    </tr>\n",
       "    <tr>\n",
       "      <th>3</th>\n",
       "      <td>56</td>\n",
       "      <td>210</td>\n",
       "      <td>49928</td>\n",
       "      <td>2004-04-22</td>\n",
       "      <td>2020-08-05</td>\n",
       "      <td>Male</td>\n",
       "      <td>Married</td>\n",
       "      <td>Lawyer</td>\n",
       "      <td>Red</td>\n",
       "      <td>medium</td>\n",
       "    </tr>\n",
       "    <tr>\n",
       "      <th>4</th>\n",
       "      <td>33</td>\n",
       "      <td>178</td>\n",
       "      <td>79509</td>\n",
       "      <td>2006-10-11</td>\n",
       "      <td>2006-09-30</td>\n",
       "      <td>Female</td>\n",
       "      <td>Married</td>\n",
       "      <td>Engineer</td>\n",
       "      <td>Blue</td>\n",
       "      <td>medium</td>\n",
       "    </tr>\n",
       "    <tr>\n",
       "      <th>...</th>\n",
       "      <td>...</td>\n",
       "      <td>...</td>\n",
       "      <td>...</td>\n",
       "      <td>...</td>\n",
       "      <td>...</td>\n",
       "      <td>...</td>\n",
       "      <td>...</td>\n",
       "      <td>...</td>\n",
       "      <td>...</td>\n",
       "      <td>...</td>\n",
       "    </tr>\n",
       "    <tr>\n",
       "      <th>96</th>\n",
       "      <td>33</td>\n",
       "      <td>249</td>\n",
       "      <td>43986</td>\n",
       "      <td>2008-01-02</td>\n",
       "      <td>2017-07-28</td>\n",
       "      <td>Male</td>\n",
       "      <td>Married</td>\n",
       "      <td>Doctor</td>\n",
       "      <td>Red</td>\n",
       "      <td>medium</td>\n",
       "    </tr>\n",
       "    <tr>\n",
       "      <th>97</th>\n",
       "      <td>48</td>\n",
       "      <td>228</td>\n",
       "      <td>125857</td>\n",
       "      <td>2018-11-27</td>\n",
       "      <td>1996-04-08</td>\n",
       "      <td>Male</td>\n",
       "      <td>Married</td>\n",
       "      <td>Doctor</td>\n",
       "      <td>Yellow</td>\n",
       "      <td>high</td>\n",
       "    </tr>\n",
       "    <tr>\n",
       "      <th>98</th>\n",
       "      <td>19</td>\n",
       "      <td>191</td>\n",
       "      <td>48215</td>\n",
       "      <td>2008-02-11</td>\n",
       "      <td>2014-05-20</td>\n",
       "      <td>Female</td>\n",
       "      <td>Single</td>\n",
       "      <td>Lawyer</td>\n",
       "      <td>Red</td>\n",
       "      <td>high</td>\n",
       "    </tr>\n",
       "    <tr>\n",
       "      <th>99</th>\n",
       "      <td>28</td>\n",
       "      <td>145</td>\n",
       "      <td>113656</td>\n",
       "      <td>2019-05-10</td>\n",
       "      <td>1996-06-01</td>\n",
       "      <td>Female</td>\n",
       "      <td>Married</td>\n",
       "      <td>Engineer</td>\n",
       "      <td>Yellow</td>\n",
       "      <td>low</td>\n",
       "    </tr>\n",
       "    <tr>\n",
       "      <th>100</th>\n",
       "      <td>128</td>\n",
       "      <td>1199</td>\n",
       "      <td>134609</td>\n",
       "      <td>2012-02-11</td>\n",
       "      <td>2006-11-10</td>\n",
       "      <td>Female</td>\n",
       "      <td>Single</td>\n",
       "      <td>Doctor</td>\n",
       "      <td>Red</td>\n",
       "      <td>medium</td>\n",
       "    </tr>\n",
       "  </tbody>\n",
       "</table>\n",
       "<p>101 rows × 10 columns</p>\n",
       "</div>"
      ],
      "text/plain": [
       "     Age  Weight  Salary  Birthdate  Hire date  Gender Marital Status  \\\n",
       "0     21     207  148566 2005-08-27 2006-01-15  Female         Single   \n",
       "1     26     101   87545 1997-02-13 2005-07-30  Female        Married   \n",
       "2     47     200  111266 2011-07-28 2012-08-10  Female        Married   \n",
       "3     56     210   49928 2004-04-22 2020-08-05    Male        Married   \n",
       "4     33     178   79509 2006-10-11 2006-09-30  Female        Married   \n",
       "..   ...     ...     ...        ...        ...     ...            ...   \n",
       "96    33     249   43986 2008-01-02 2017-07-28    Male        Married   \n",
       "97    48     228  125857 2018-11-27 1996-04-08    Male        Married   \n",
       "98    19     191   48215 2008-02-11 2014-05-20  Female         Single   \n",
       "99    28     145  113656 2019-05-10 1996-06-01  Female        Married   \n",
       "100  128    1199  134609 2012-02-11 2006-11-10  Female         Single   \n",
       "\n",
       "    Occupation Favorite Color  Rating  \n",
       "0     Engineer            Red    high  \n",
       "1      Teacher            Red    high  \n",
       "2       Lawyer           Blue     low  \n",
       "3       Lawyer            Red  medium  \n",
       "4     Engineer           Blue  medium  \n",
       "..         ...            ...     ...  \n",
       "96      Doctor            Red  medium  \n",
       "97      Doctor         Yellow    high  \n",
       "98      Lawyer            Red    high  \n",
       "99    Engineer         Yellow     low  \n",
       "100     Doctor            Red  medium  \n",
       "\n",
       "[101 rows x 10 columns]"
      ]
     },
     "execution_count": 23,
     "metadata": {},
     "output_type": "execute_result"
    }
   ],
   "source": [
    "df3.loc[len(df3)]=b\n",
    "df3"
   ]
  },
  {
   "cell_type": "markdown",
   "id": "7ea39292",
   "metadata": {},
   "source": [
    "Now we shuffle the dataframe except the first row"
   ]
  },
  {
   "cell_type": "code",
   "execution_count": 24,
   "id": "28b2b1cd",
   "metadata": {},
   "outputs": [
    {
     "data": {
      "text/html": [
       "<div>\n",
       "<style scoped>\n",
       "    .dataframe tbody tr th:only-of-type {\n",
       "        vertical-align: middle;\n",
       "    }\n",
       "\n",
       "    .dataframe tbody tr th {\n",
       "        vertical-align: top;\n",
       "    }\n",
       "\n",
       "    .dataframe thead th {\n",
       "        text-align: right;\n",
       "    }\n",
       "</style>\n",
       "<table border=\"1\" class=\"dataframe\">\n",
       "  <thead>\n",
       "    <tr style=\"text-align: right;\">\n",
       "      <th></th>\n",
       "      <th>Age</th>\n",
       "      <th>Weight</th>\n",
       "      <th>Salary</th>\n",
       "      <th>Birthdate</th>\n",
       "      <th>Hire date</th>\n",
       "      <th>Gender</th>\n",
       "      <th>Marital Status</th>\n",
       "      <th>Occupation</th>\n",
       "      <th>Favorite Color</th>\n",
       "      <th>Rating</th>\n",
       "    </tr>\n",
       "  </thead>\n",
       "  <tbody>\n",
       "    <tr>\n",
       "      <th>0</th>\n",
       "      <td>21</td>\n",
       "      <td>207</td>\n",
       "      <td>148566</td>\n",
       "      <td>2005-08-27</td>\n",
       "      <td>2006-01-15</td>\n",
       "      <td>Female</td>\n",
       "      <td>Single</td>\n",
       "      <td>Engineer</td>\n",
       "      <td>Red</td>\n",
       "      <td>high</td>\n",
       "    </tr>\n",
       "    <tr>\n",
       "      <th>1</th>\n",
       "      <td>61</td>\n",
       "      <td>201</td>\n",
       "      <td>144915</td>\n",
       "      <td>2015-03-30</td>\n",
       "      <td>2010-02-08</td>\n",
       "      <td>Female</td>\n",
       "      <td>Married</td>\n",
       "      <td>Teacher</td>\n",
       "      <td>Red</td>\n",
       "      <td>low</td>\n",
       "    </tr>\n",
       "    <tr>\n",
       "      <th>2</th>\n",
       "      <td>37</td>\n",
       "      <td>212</td>\n",
       "      <td>62734</td>\n",
       "      <td>2001-06-14</td>\n",
       "      <td>2004-09-20</td>\n",
       "      <td>Female</td>\n",
       "      <td>Married</td>\n",
       "      <td>Teacher</td>\n",
       "      <td>Yellow</td>\n",
       "      <td>low</td>\n",
       "    </tr>\n",
       "    <tr>\n",
       "      <th>3</th>\n",
       "      <td>32</td>\n",
       "      <td>165</td>\n",
       "      <td>127221</td>\n",
       "      <td>2004-12-07</td>\n",
       "      <td>2018-01-20</td>\n",
       "      <td>Female</td>\n",
       "      <td>Single</td>\n",
       "      <td>Doctor</td>\n",
       "      <td>Yellow</td>\n",
       "      <td>low</td>\n",
       "    </tr>\n",
       "    <tr>\n",
       "      <th>4</th>\n",
       "      <td>64</td>\n",
       "      <td>155</td>\n",
       "      <td>119954</td>\n",
       "      <td>2012-06-02</td>\n",
       "      <td>2014-05-04</td>\n",
       "      <td>Female</td>\n",
       "      <td>Single</td>\n",
       "      <td>Teacher</td>\n",
       "      <td>Green</td>\n",
       "      <td>high</td>\n",
       "    </tr>\n",
       "    <tr>\n",
       "      <th>...</th>\n",
       "      <td>...</td>\n",
       "      <td>...</td>\n",
       "      <td>...</td>\n",
       "      <td>...</td>\n",
       "      <td>...</td>\n",
       "      <td>...</td>\n",
       "      <td>...</td>\n",
       "      <td>...</td>\n",
       "      <td>...</td>\n",
       "      <td>...</td>\n",
       "    </tr>\n",
       "    <tr>\n",
       "      <th>96</th>\n",
       "      <td>40</td>\n",
       "      <td>100</td>\n",
       "      <td>103372</td>\n",
       "      <td>1997-09-10</td>\n",
       "      <td>2007-11-22</td>\n",
       "      <td>Male</td>\n",
       "      <td>Married</td>\n",
       "      <td>Teacher</td>\n",
       "      <td>Blue</td>\n",
       "      <td>low</td>\n",
       "    </tr>\n",
       "    <tr>\n",
       "      <th>97</th>\n",
       "      <td>65</td>\n",
       "      <td>158</td>\n",
       "      <td>91360</td>\n",
       "      <td>2019-10-27</td>\n",
       "      <td>2007-10-16</td>\n",
       "      <td>Female</td>\n",
       "      <td>Married</td>\n",
       "      <td>Teacher</td>\n",
       "      <td>Blue</td>\n",
       "      <td>medium</td>\n",
       "    </tr>\n",
       "    <tr>\n",
       "      <th>98</th>\n",
       "      <td>56</td>\n",
       "      <td>113</td>\n",
       "      <td>73729</td>\n",
       "      <td>2010-05-05</td>\n",
       "      <td>1997-08-16</td>\n",
       "      <td>Female</td>\n",
       "      <td>Single</td>\n",
       "      <td>Engineer</td>\n",
       "      <td>Yellow</td>\n",
       "      <td>low</td>\n",
       "    </tr>\n",
       "    <tr>\n",
       "      <th>99</th>\n",
       "      <td>26</td>\n",
       "      <td>181</td>\n",
       "      <td>75170</td>\n",
       "      <td>2007-07-27</td>\n",
       "      <td>2005-05-13</td>\n",
       "      <td>Female</td>\n",
       "      <td>Single</td>\n",
       "      <td>Lawyer</td>\n",
       "      <td>Red</td>\n",
       "      <td>high</td>\n",
       "    </tr>\n",
       "    <tr>\n",
       "      <th>100</th>\n",
       "      <td>48</td>\n",
       "      <td>237</td>\n",
       "      <td>107323</td>\n",
       "      <td>1997-10-31</td>\n",
       "      <td>1997-03-10</td>\n",
       "      <td>Male</td>\n",
       "      <td>Married</td>\n",
       "      <td>Lawyer</td>\n",
       "      <td>Blue</td>\n",
       "      <td>high</td>\n",
       "    </tr>\n",
       "  </tbody>\n",
       "</table>\n",
       "<p>101 rows × 10 columns</p>\n",
       "</div>"
      ],
      "text/plain": [
       "     Age  Weight  Salary  Birthdate  Hire date  Gender Marital Status  \\\n",
       "0     21     207  148566 2005-08-27 2006-01-15  Female         Single   \n",
       "1     61     201  144915 2015-03-30 2010-02-08  Female        Married   \n",
       "2     37     212   62734 2001-06-14 2004-09-20  Female        Married   \n",
       "3     32     165  127221 2004-12-07 2018-01-20  Female         Single   \n",
       "4     64     155  119954 2012-06-02 2014-05-04  Female         Single   \n",
       "..   ...     ...     ...        ...        ...     ...            ...   \n",
       "96    40     100  103372 1997-09-10 2007-11-22    Male        Married   \n",
       "97    65     158   91360 2019-10-27 2007-10-16  Female        Married   \n",
       "98    56     113   73729 2010-05-05 1997-08-16  Female         Single   \n",
       "99    26     181   75170 2007-07-27 2005-05-13  Female         Single   \n",
       "100   48     237  107323 1997-10-31 1997-03-10    Male        Married   \n",
       "\n",
       "    Occupation Favorite Color  Rating  \n",
       "0     Engineer            Red    high  \n",
       "1      Teacher            Red     low  \n",
       "2      Teacher         Yellow     low  \n",
       "3       Doctor         Yellow     low  \n",
       "4      Teacher          Green    high  \n",
       "..         ...            ...     ...  \n",
       "96     Teacher           Blue     low  \n",
       "97     Teacher           Blue  medium  \n",
       "98    Engineer         Yellow     low  \n",
       "99      Lawyer            Red    high  \n",
       "100     Lawyer           Blue    high  \n",
       "\n",
       "[101 rows x 10 columns]"
      ]
     },
     "execution_count": 24,
     "metadata": {},
     "output_type": "execute_result"
    }
   ],
   "source": [
    "# save the first row\n",
    "row_not_to_shuffle = df3.loc[0]\n",
    "\n",
    "# drop first row, shuffle and reset index\n",
    "df3 = df3.drop(0).sample(frac=1).reset_index(drop=True)\n",
    "\n",
    "# Add saved row back to the dataframe\n",
    "df3 = pd.concat([pd.DataFrame([row_not_to_shuffle]),df3],ignore_index=True)\n",
    "df3"
   ]
  },
  {
   "cell_type": "markdown",
   "id": "e4468ea3",
   "metadata": {},
   "source": [
    "## Subtask2: Discover Outliers"
   ]
  },
  {
   "cell_type": "code",
   "execution_count": 30,
   "id": "df717971",
   "metadata": {},
   "outputs": [
    {
     "data": {
      "text/html": [
       "<div>\n",
       "<style scoped>\n",
       "    .dataframe tbody tr th:only-of-type {\n",
       "        vertical-align: middle;\n",
       "    }\n",
       "\n",
       "    .dataframe tbody tr th {\n",
       "        vertical-align: top;\n",
       "    }\n",
       "\n",
       "    .dataframe thead th {\n",
       "        text-align: right;\n",
       "    }\n",
       "</style>\n",
       "<table border=\"1\" class=\"dataframe\">\n",
       "  <thead>\n",
       "    <tr style=\"text-align: right;\">\n",
       "      <th></th>\n",
       "      <th>Age</th>\n",
       "      <th>Weight</th>\n",
       "      <th>Salary</th>\n",
       "      <th>Birthdate</th>\n",
       "      <th>Hire date</th>\n",
       "      <th>Gender</th>\n",
       "      <th>Marital Status</th>\n",
       "      <th>Occupation</th>\n",
       "      <th>Favorite Color</th>\n",
       "      <th>Rating</th>\n",
       "    </tr>\n",
       "  </thead>\n",
       "  <tbody>\n",
       "    <tr>\n",
       "      <th>0</th>\n",
       "      <td>False</td>\n",
       "      <td>False</td>\n",
       "      <td>False</td>\n",
       "      <td>False</td>\n",
       "      <td>False</td>\n",
       "      <td>False</td>\n",
       "      <td>False</td>\n",
       "      <td>False</td>\n",
       "      <td>False</td>\n",
       "      <td>False</td>\n",
       "    </tr>\n",
       "    <tr>\n",
       "      <th>1</th>\n",
       "      <td>False</td>\n",
       "      <td>False</td>\n",
       "      <td>False</td>\n",
       "      <td>False</td>\n",
       "      <td>False</td>\n",
       "      <td>False</td>\n",
       "      <td>False</td>\n",
       "      <td>False</td>\n",
       "      <td>False</td>\n",
       "      <td>False</td>\n",
       "    </tr>\n",
       "    <tr>\n",
       "      <th>2</th>\n",
       "      <td>False</td>\n",
       "      <td>False</td>\n",
       "      <td>False</td>\n",
       "      <td>False</td>\n",
       "      <td>False</td>\n",
       "      <td>False</td>\n",
       "      <td>False</td>\n",
       "      <td>False</td>\n",
       "      <td>False</td>\n",
       "      <td>False</td>\n",
       "    </tr>\n",
       "    <tr>\n",
       "      <th>3</th>\n",
       "      <td>False</td>\n",
       "      <td>False</td>\n",
       "      <td>False</td>\n",
       "      <td>False</td>\n",
       "      <td>False</td>\n",
       "      <td>False</td>\n",
       "      <td>False</td>\n",
       "      <td>False</td>\n",
       "      <td>False</td>\n",
       "      <td>False</td>\n",
       "    </tr>\n",
       "    <tr>\n",
       "      <th>4</th>\n",
       "      <td>False</td>\n",
       "      <td>False</td>\n",
       "      <td>False</td>\n",
       "      <td>False</td>\n",
       "      <td>False</td>\n",
       "      <td>False</td>\n",
       "      <td>False</td>\n",
       "      <td>False</td>\n",
       "      <td>False</td>\n",
       "      <td>False</td>\n",
       "    </tr>\n",
       "    <tr>\n",
       "      <th>...</th>\n",
       "      <td>...</td>\n",
       "      <td>...</td>\n",
       "      <td>...</td>\n",
       "      <td>...</td>\n",
       "      <td>...</td>\n",
       "      <td>...</td>\n",
       "      <td>...</td>\n",
       "      <td>...</td>\n",
       "      <td>...</td>\n",
       "      <td>...</td>\n",
       "    </tr>\n",
       "    <tr>\n",
       "      <th>96</th>\n",
       "      <td>False</td>\n",
       "      <td>False</td>\n",
       "      <td>False</td>\n",
       "      <td>False</td>\n",
       "      <td>False</td>\n",
       "      <td>False</td>\n",
       "      <td>False</td>\n",
       "      <td>False</td>\n",
       "      <td>False</td>\n",
       "      <td>False</td>\n",
       "    </tr>\n",
       "    <tr>\n",
       "      <th>97</th>\n",
       "      <td>False</td>\n",
       "      <td>False</td>\n",
       "      <td>False</td>\n",
       "      <td>False</td>\n",
       "      <td>False</td>\n",
       "      <td>False</td>\n",
       "      <td>False</td>\n",
       "      <td>False</td>\n",
       "      <td>False</td>\n",
       "      <td>False</td>\n",
       "    </tr>\n",
       "    <tr>\n",
       "      <th>98</th>\n",
       "      <td>False</td>\n",
       "      <td>False</td>\n",
       "      <td>False</td>\n",
       "      <td>False</td>\n",
       "      <td>False</td>\n",
       "      <td>False</td>\n",
       "      <td>False</td>\n",
       "      <td>False</td>\n",
       "      <td>False</td>\n",
       "      <td>False</td>\n",
       "    </tr>\n",
       "    <tr>\n",
       "      <th>99</th>\n",
       "      <td>False</td>\n",
       "      <td>False</td>\n",
       "      <td>False</td>\n",
       "      <td>False</td>\n",
       "      <td>False</td>\n",
       "      <td>False</td>\n",
       "      <td>False</td>\n",
       "      <td>False</td>\n",
       "      <td>False</td>\n",
       "      <td>False</td>\n",
       "    </tr>\n",
       "    <tr>\n",
       "      <th>100</th>\n",
       "      <td>False</td>\n",
       "      <td>False</td>\n",
       "      <td>False</td>\n",
       "      <td>False</td>\n",
       "      <td>False</td>\n",
       "      <td>False</td>\n",
       "      <td>False</td>\n",
       "      <td>False</td>\n",
       "      <td>False</td>\n",
       "      <td>False</td>\n",
       "    </tr>\n",
       "  </tbody>\n",
       "</table>\n",
       "<p>101 rows × 10 columns</p>\n",
       "</div>"
      ],
      "text/plain": [
       "       Age  Weight  Salary  Birthdate  Hire date  Gender  Marital Status  \\\n",
       "0    False   False   False      False      False   False           False   \n",
       "1    False   False   False      False      False   False           False   \n",
       "2    False   False   False      False      False   False           False   \n",
       "3    False   False   False      False      False   False           False   \n",
       "4    False   False   False      False      False   False           False   \n",
       "..     ...     ...     ...        ...        ...     ...             ...   \n",
       "96   False   False   False      False      False   False           False   \n",
       "97   False   False   False      False      False   False           False   \n",
       "98   False   False   False      False      False   False           False   \n",
       "99   False   False   False      False      False   False           False   \n",
       "100  False   False   False      False      False   False           False   \n",
       "\n",
       "     Occupation  Favorite Color  Rating  \n",
       "0         False           False   False  \n",
       "1         False           False   False  \n",
       "2         False           False   False  \n",
       "3         False           False   False  \n",
       "4         False           False   False  \n",
       "..          ...             ...     ...  \n",
       "96        False           False   False  \n",
       "97        False           False   False  \n",
       "98        False           False   False  \n",
       "99        False           False   False  \n",
       "100       False           False   False  \n",
       "\n",
       "[101 rows x 10 columns]"
      ]
     },
     "execution_count": 30,
     "metadata": {},
     "output_type": "execute_result"
    }
   ],
   "source": [
    "from scipy.stats import zscore\n",
    "numeric_cols = df3.select_dtypes(include='number').columns.tolist()\n",
    "\n",
    "# Calculate the z-scores for each value in the numeric columns:\n",
    "z_scores=np.abs(zscore(df3[numeric_cols]))\n",
    "\n",
    "# Create a Boolean mask for the outliers (absolute z score >2)\n",
    "outliers_mask=(abs(z_scores)>3)\n",
    "\n",
    "# Convert the mask to a dataframe with the same column names\n",
    "outliers_df = pd.DataFrame(outliers_mask,columns=numeric_cols)\n",
    "\n",
    "# If you add the mask to the original dataframe for non numeric columns\n",
    "for col in df3.columns:\n",
    "    if col not in numeric_cols:\n",
    "        outliers_df[col]=False\n",
    "outliers_df"
   ]
  },
  {
   "cell_type": "markdown",
   "id": "281cdd33",
   "metadata": {},
   "source": [
    "### To check if any of the columns contain outliers, we use any().any() with boolean mask"
   ]
  },
  {
   "cell_type": "code",
   "execution_count": 31,
   "id": "0b677fd0",
   "metadata": {},
   "outputs": [
    {
     "data": {
      "text/plain": [
       "True"
      ]
     },
     "execution_count": 31,
     "metadata": {},
     "output_type": "execute_result"
    }
   ],
   "source": [
    "outliers_df.any().any()"
   ]
  },
  {
   "cell_type": "markdown",
   "id": "5ce39e09",
   "metadata": {},
   "source": [
    "### To check which column Contain outliers we use any() with boolean mask"
   ]
  },
  {
   "cell_type": "code",
   "execution_count": 32,
   "id": "d418a5a8",
   "metadata": {},
   "outputs": [
    {
     "data": {
      "text/plain": [
       "Age                True\n",
       "Weight             True\n",
       "Salary            False\n",
       "Birthdate         False\n",
       "Hire date         False\n",
       "Gender            False\n",
       "Marital Status    False\n",
       "Occupation        False\n",
       "Favorite Color    False\n",
       "Rating            False\n",
       "dtype: bool"
      ]
     },
     "execution_count": 32,
     "metadata": {},
     "output_type": "execute_result"
    }
   ],
   "source": [
    "outliers_df.any()"
   ]
  },
  {
   "cell_type": "markdown",
   "id": "edb8b796",
   "metadata": {},
   "source": [
    "### to check the Total Number of outliers, we use sum().sum() with boolean mask"
   ]
  },
  {
   "cell_type": "code",
   "execution_count": 33,
   "id": "8bd6fb6e",
   "metadata": {},
   "outputs": [
    {
     "data": {
      "text/plain": [
       "2"
      ]
     },
     "execution_count": 33,
     "metadata": {},
     "output_type": "execute_result"
    }
   ],
   "source": [
    "outliers_df.sum().sum()"
   ]
  },
  {
   "cell_type": "markdown",
   "id": "f5251f47",
   "metadata": {},
   "source": [
    "### To check how many of outliers each column contains, we use sum() with boolean mask"
   ]
  },
  {
   "cell_type": "code",
   "execution_count": 34,
   "id": "8383de89",
   "metadata": {},
   "outputs": [
    {
     "data": {
      "text/plain": [
       "Age               1\n",
       "Weight            1\n",
       "Salary            0\n",
       "Birthdate         0\n",
       "Hire date         0\n",
       "Gender            0\n",
       "Marital Status    0\n",
       "Occupation        0\n",
       "Favorite Color    0\n",
       "Rating            0\n",
       "dtype: int64"
      ]
     },
     "execution_count": 34,
     "metadata": {},
     "output_type": "execute_result"
    }
   ],
   "source": [
    "outliers_df.sum()"
   ]
  },
  {
   "cell_type": "markdown",
   "id": "66cc0e0e",
   "metadata": {},
   "source": [
    "### To find the rows with these outliers, we  use .any(axis=1) with boolean mask"
   ]
  },
  {
   "cell_type": "code",
   "execution_count": 35,
   "id": "c5c2f367",
   "metadata": {
    "scrolled": true
   },
   "outputs": [
    {
     "data": {
      "text/html": [
       "<div>\n",
       "<style scoped>\n",
       "    .dataframe tbody tr th:only-of-type {\n",
       "        vertical-align: middle;\n",
       "    }\n",
       "\n",
       "    .dataframe tbody tr th {\n",
       "        vertical-align: top;\n",
       "    }\n",
       "\n",
       "    .dataframe thead th {\n",
       "        text-align: right;\n",
       "    }\n",
       "</style>\n",
       "<table border=\"1\" class=\"dataframe\">\n",
       "  <thead>\n",
       "    <tr style=\"text-align: right;\">\n",
       "      <th></th>\n",
       "      <th>Age</th>\n",
       "      <th>Weight</th>\n",
       "      <th>Salary</th>\n",
       "      <th>Birthdate</th>\n",
       "      <th>Hire date</th>\n",
       "      <th>Gender</th>\n",
       "      <th>Marital Status</th>\n",
       "      <th>Occupation</th>\n",
       "      <th>Favorite Color</th>\n",
       "      <th>Rating</th>\n",
       "    </tr>\n",
       "  </thead>\n",
       "  <tbody>\n",
       "    <tr>\n",
       "      <th>63</th>\n",
       "      <td>128</td>\n",
       "      <td>1199</td>\n",
       "      <td>134609</td>\n",
       "      <td>2012-02-11</td>\n",
       "      <td>2006-11-10</td>\n",
       "      <td>Female</td>\n",
       "      <td>Single</td>\n",
       "      <td>Doctor</td>\n",
       "      <td>Red</td>\n",
       "      <td>medium</td>\n",
       "    </tr>\n",
       "  </tbody>\n",
       "</table>\n",
       "</div>"
      ],
      "text/plain": [
       "    Age  Weight  Salary  Birthdate  Hire date  Gender Marital Status  \\\n",
       "63  128    1199  134609 2012-02-11 2006-11-10  Female         Single   \n",
       "\n",
       "   Occupation Favorite Color  Rating  \n",
       "63     Doctor            Red  medium  "
      ]
     },
     "execution_count": 35,
     "metadata": {},
     "output_type": "execute_result"
    }
   ],
   "source": [
    "df3[outliers_df.any(axis=1)]"
   ]
  },
  {
   "cell_type": "markdown",
   "id": "2ef92185",
   "metadata": {},
   "source": [
    "# Task 4: Find the Rows with Same Values\n",
    "\n",
    "## Subtask 1.: Create and Such Rows\n",
    "\n",
    "### Subsubtask1: Adding a Row of Zeros and ones randomly in a df"
   ]
  },
  {
   "cell_type": "code",
   "execution_count": 36,
   "id": "1d6756f0",
   "metadata": {},
   "outputs": [
    {
     "data": {
      "text/html": [
       "<div>\n",
       "<style scoped>\n",
       "    .dataframe tbody tr th:only-of-type {\n",
       "        vertical-align: middle;\n",
       "    }\n",
       "\n",
       "    .dataframe tbody tr th {\n",
       "        vertical-align: top;\n",
       "    }\n",
       "\n",
       "    .dataframe thead th {\n",
       "        text-align: right;\n",
       "    }\n",
       "</style>\n",
       "<table border=\"1\" class=\"dataframe\">\n",
       "  <thead>\n",
       "    <tr style=\"text-align: right;\">\n",
       "      <th></th>\n",
       "      <th>Age</th>\n",
       "      <th>Weight</th>\n",
       "      <th>Salary</th>\n",
       "      <th>Birthdate</th>\n",
       "      <th>Hire date</th>\n",
       "      <th>Gender</th>\n",
       "      <th>Marital Status</th>\n",
       "      <th>Occupation</th>\n",
       "      <th>Favorite Color</th>\n",
       "      <th>Rating</th>\n",
       "    </tr>\n",
       "  </thead>\n",
       "  <tbody>\n",
       "    <tr>\n",
       "      <th>0</th>\n",
       "      <td>21.0</td>\n",
       "      <td>207.0</td>\n",
       "      <td>148566.0</td>\n",
       "      <td>2005-08-27 00:00:00</td>\n",
       "      <td>2006-01-15 00:00:00</td>\n",
       "      <td>Female</td>\n",
       "      <td>Single</td>\n",
       "      <td>Engineer</td>\n",
       "      <td>Red</td>\n",
       "      <td>high</td>\n",
       "    </tr>\n",
       "    <tr>\n",
       "      <th>1</th>\n",
       "      <td>26.0</td>\n",
       "      <td>101.0</td>\n",
       "      <td>87545.0</td>\n",
       "      <td>1997-02-13 00:00:00</td>\n",
       "      <td>2005-07-30 00:00:00</td>\n",
       "      <td>Female</td>\n",
       "      <td>Married</td>\n",
       "      <td>Teacher</td>\n",
       "      <td>Red</td>\n",
       "      <td>high</td>\n",
       "    </tr>\n",
       "    <tr>\n",
       "      <th>2</th>\n",
       "      <td>47.0</td>\n",
       "      <td>200.0</td>\n",
       "      <td>111266.0</td>\n",
       "      <td>2011-07-28 00:00:00</td>\n",
       "      <td>2012-08-10 00:00:00</td>\n",
       "      <td>Female</td>\n",
       "      <td>Married</td>\n",
       "      <td>Lawyer</td>\n",
       "      <td>Blue</td>\n",
       "      <td>low</td>\n",
       "    </tr>\n",
       "    <tr>\n",
       "      <th>3</th>\n",
       "      <td>56.0</td>\n",
       "      <td>210.0</td>\n",
       "      <td>49928.0</td>\n",
       "      <td>2004-04-22 00:00:00</td>\n",
       "      <td>2020-08-05 00:00:00</td>\n",
       "      <td>Male</td>\n",
       "      <td>Married</td>\n",
       "      <td>Lawyer</td>\n",
       "      <td>Red</td>\n",
       "      <td>medium</td>\n",
       "    </tr>\n",
       "    <tr>\n",
       "      <th>4</th>\n",
       "      <td>33.0</td>\n",
       "      <td>178.0</td>\n",
       "      <td>79509.0</td>\n",
       "      <td>2006-10-11 00:00:00</td>\n",
       "      <td>2006-09-30 00:00:00</td>\n",
       "      <td>Female</td>\n",
       "      <td>Married</td>\n",
       "      <td>Engineer</td>\n",
       "      <td>Blue</td>\n",
       "      <td>medium</td>\n",
       "    </tr>\n",
       "    <tr>\n",
       "      <th>...</th>\n",
       "      <td>...</td>\n",
       "      <td>...</td>\n",
       "      <td>...</td>\n",
       "      <td>...</td>\n",
       "      <td>...</td>\n",
       "      <td>...</td>\n",
       "      <td>...</td>\n",
       "      <td>...</td>\n",
       "      <td>...</td>\n",
       "      <td>...</td>\n",
       "    </tr>\n",
       "    <tr>\n",
       "      <th>97</th>\n",
       "      <td>33.0</td>\n",
       "      <td>249.0</td>\n",
       "      <td>43986.0</td>\n",
       "      <td>2008-01-02 00:00:00</td>\n",
       "      <td>2017-07-28 00:00:00</td>\n",
       "      <td>Male</td>\n",
       "      <td>Married</td>\n",
       "      <td>Doctor</td>\n",
       "      <td>Red</td>\n",
       "      <td>medium</td>\n",
       "    </tr>\n",
       "    <tr>\n",
       "      <th>98</th>\n",
       "      <td>48.0</td>\n",
       "      <td>228.0</td>\n",
       "      <td>125857.0</td>\n",
       "      <td>2018-11-27 00:00:00</td>\n",
       "      <td>1996-04-08 00:00:00</td>\n",
       "      <td>Male</td>\n",
       "      <td>Married</td>\n",
       "      <td>Doctor</td>\n",
       "      <td>Yellow</td>\n",
       "      <td>high</td>\n",
       "    </tr>\n",
       "    <tr>\n",
       "      <th>99</th>\n",
       "      <td>19.0</td>\n",
       "      <td>191.0</td>\n",
       "      <td>48215.0</td>\n",
       "      <td>2008-02-11 00:00:00</td>\n",
       "      <td>2014-05-20 00:00:00</td>\n",
       "      <td>Female</td>\n",
       "      <td>Single</td>\n",
       "      <td>Lawyer</td>\n",
       "      <td>Red</td>\n",
       "      <td>high</td>\n",
       "    </tr>\n",
       "    <tr>\n",
       "      <th>100</th>\n",
       "      <td>28.0</td>\n",
       "      <td>145.0</td>\n",
       "      <td>113656.0</td>\n",
       "      <td>2019-05-10 00:00:00</td>\n",
       "      <td>1996-06-01 00:00:00</td>\n",
       "      <td>Female</td>\n",
       "      <td>Married</td>\n",
       "      <td>Engineer</td>\n",
       "      <td>Yellow</td>\n",
       "      <td>low</td>\n",
       "    </tr>\n",
       "    <tr>\n",
       "      <th>101</th>\n",
       "      <td>0.0</td>\n",
       "      <td>0.0</td>\n",
       "      <td>0.0</td>\n",
       "      <td>0.0</td>\n",
       "      <td>0.0</td>\n",
       "      <td>0.0</td>\n",
       "      <td>0.0</td>\n",
       "      <td>0.0</td>\n",
       "      <td>0.0</td>\n",
       "      <td>0.0</td>\n",
       "    </tr>\n",
       "  </tbody>\n",
       "</table>\n",
       "<p>102 rows × 10 columns</p>\n",
       "</div>"
      ],
      "text/plain": [
       "      Age  Weight    Salary            Birthdate            Hire date  Gender  \\\n",
       "0    21.0   207.0  148566.0  2005-08-27 00:00:00  2006-01-15 00:00:00  Female   \n",
       "1    26.0   101.0   87545.0  1997-02-13 00:00:00  2005-07-30 00:00:00  Female   \n",
       "2    47.0   200.0  111266.0  2011-07-28 00:00:00  2012-08-10 00:00:00  Female   \n",
       "3    56.0   210.0   49928.0  2004-04-22 00:00:00  2020-08-05 00:00:00    Male   \n",
       "4    33.0   178.0   79509.0  2006-10-11 00:00:00  2006-09-30 00:00:00  Female   \n",
       "..    ...     ...       ...                  ...                  ...     ...   \n",
       "97   33.0   249.0   43986.0  2008-01-02 00:00:00  2017-07-28 00:00:00    Male   \n",
       "98   48.0   228.0  125857.0  2018-11-27 00:00:00  1996-04-08 00:00:00    Male   \n",
       "99   19.0   191.0   48215.0  2008-02-11 00:00:00  2014-05-20 00:00:00  Female   \n",
       "100  28.0   145.0  113656.0  2019-05-10 00:00:00  1996-06-01 00:00:00  Female   \n",
       "101   0.0     0.0       0.0                  0.0                  0.0     0.0   \n",
       "\n",
       "    Marital Status Occupation Favorite Color  Rating  \n",
       "0           Single   Engineer            Red    high  \n",
       "1          Married    Teacher            Red    high  \n",
       "2          Married     Lawyer           Blue     low  \n",
       "3          Married     Lawyer            Red  medium  \n",
       "4          Married   Engineer           Blue  medium  \n",
       "..             ...        ...            ...     ...  \n",
       "97         Married     Doctor            Red  medium  \n",
       "98         Married     Doctor         Yellow    high  \n",
       "99          Single     Lawyer            Red    high  \n",
       "100        Married   Engineer         Yellow     low  \n",
       "101            0.0        0.0            0.0     0.0  \n",
       "\n",
       "[102 rows x 10 columns]"
      ]
     },
     "execution_count": 36,
     "metadata": {},
     "output_type": "execute_result"
    }
   ],
   "source": [
    "df4=df.copy()\n",
    "# First we create a random position\n",
    "random_pos = random.randint(0,len(df4))\n",
    "\n",
    "# Adding a row of zeros\n",
    "\n",
    "#we create a row series of all zeros\n",
    "new_row = pd.Series(np.zeros(len(df4.columns)),index=df4.columns)\n",
    "# Then we insert the row\n",
    "df4=pd.concat([df4.iloc[:random_pos],pd.DataFrame([new_row]),df4.iloc[random_pos:]]).reset_index(drop=True)\n",
    "\n",
    "# Adding a row of Ones\n",
    "\n",
    "random_pos1 = random.randint(0,len(df4))\n",
    "#we create a row series of all ones\n",
    "new_row = pd.Series(np.ones(len(df4.columns)),index=df4.columns)\n",
    "# Then we insert the row\n",
    "df4=pd.concat([df4.iloc[:random_pos1],pd.DataFrame([new_row]),df4.iloc[random_pos1:]]).reset_index(drop=True)\n",
    "df4"
   ]
  },
  {
   "cell_type": "markdown",
   "id": "4eac9966",
   "metadata": {},
   "source": [
    "## Subtask 1.: Discover Rows with Same values"
   ]
  },
  {
   "cell_type": "code",
   "execution_count": 37,
   "id": "7f8ff6aa",
   "metadata": {},
   "outputs": [
    {
     "data": {
      "text/plain": [
       "0      False\n",
       "1      False\n",
       "2      False\n",
       "3      False\n",
       "4      False\n",
       "       ...  \n",
       "97     False\n",
       "98     False\n",
       "99     False\n",
       "100    False\n",
       "101     True\n",
       "Length: 102, dtype: bool"
      ]
     },
     "execution_count": 37,
     "metadata": {},
     "output_type": "execute_result"
    }
   ],
   "source": [
    "rows_with_equal_values = df4.apply(lambda x: x.nunique()==1,axis=1)\n",
    "rows_with_equal_values"
   ]
  },
  {
   "cell_type": "code",
   "execution_count": 38,
   "id": "dc631c49",
   "metadata": {},
   "outputs": [
    {
     "data": {
      "text/plain": [
       "True"
      ]
     },
     "execution_count": 38,
     "metadata": {},
     "output_type": "execute_result"
    }
   ],
   "source": [
    "rows_with_equal_values.any().any()"
   ]
  },
  {
   "cell_type": "code",
   "execution_count": 39,
   "id": "a8299182",
   "metadata": {},
   "outputs": [
    {
     "data": {
      "text/plain": [
       "True"
      ]
     },
     "execution_count": 39,
     "metadata": {},
     "output_type": "execute_result"
    }
   ],
   "source": [
    "rows_with_equal_values.any()"
   ]
  },
  {
   "cell_type": "code",
   "execution_count": 40,
   "id": "211e926c",
   "metadata": {},
   "outputs": [
    {
     "data": {
      "text/plain": [
       "2"
      ]
     },
     "execution_count": 40,
     "metadata": {},
     "output_type": "execute_result"
    }
   ],
   "source": [
    "rows_with_equal_values.sum().sum()"
   ]
  },
  {
   "cell_type": "code",
   "execution_count": 41,
   "id": "c6e53b48",
   "metadata": {},
   "outputs": [
    {
     "data": {
      "text/plain": [
       "2"
      ]
     },
     "execution_count": 41,
     "metadata": {},
     "output_type": "execute_result"
    }
   ],
   "source": [
    "rows_with_equal_values.sum()"
   ]
  },
  {
   "cell_type": "code",
   "execution_count": 42,
   "id": "d85416c9",
   "metadata": {},
   "outputs": [
    {
     "data": {
      "text/html": [
       "<div>\n",
       "<style scoped>\n",
       "    .dataframe tbody tr th:only-of-type {\n",
       "        vertical-align: middle;\n",
       "    }\n",
       "\n",
       "    .dataframe tbody tr th {\n",
       "        vertical-align: top;\n",
       "    }\n",
       "\n",
       "    .dataframe thead th {\n",
       "        text-align: right;\n",
       "    }\n",
       "</style>\n",
       "<table border=\"1\" class=\"dataframe\">\n",
       "  <thead>\n",
       "    <tr style=\"text-align: right;\">\n",
       "      <th></th>\n",
       "      <th>Age</th>\n",
       "      <th>Weight</th>\n",
       "      <th>Salary</th>\n",
       "      <th>Birthdate</th>\n",
       "      <th>Hire date</th>\n",
       "      <th>Gender</th>\n",
       "      <th>Marital Status</th>\n",
       "      <th>Occupation</th>\n",
       "      <th>Favorite Color</th>\n",
       "      <th>Rating</th>\n",
       "    </tr>\n",
       "  </thead>\n",
       "  <tbody>\n",
       "    <tr>\n",
       "      <th>64</th>\n",
       "      <td>1.0</td>\n",
       "      <td>1.0</td>\n",
       "      <td>1.0</td>\n",
       "      <td>1.0</td>\n",
       "      <td>1.0</td>\n",
       "      <td>1.0</td>\n",
       "      <td>1.0</td>\n",
       "      <td>1.0</td>\n",
       "      <td>1.0</td>\n",
       "      <td>1.0</td>\n",
       "    </tr>\n",
       "    <tr>\n",
       "      <th>101</th>\n",
       "      <td>0.0</td>\n",
       "      <td>0.0</td>\n",
       "      <td>0.0</td>\n",
       "      <td>0.0</td>\n",
       "      <td>0.0</td>\n",
       "      <td>0.0</td>\n",
       "      <td>0.0</td>\n",
       "      <td>0.0</td>\n",
       "      <td>0.0</td>\n",
       "      <td>0.0</td>\n",
       "    </tr>\n",
       "  </tbody>\n",
       "</table>\n",
       "</div>"
      ],
      "text/plain": [
       "     Age  Weight  Salary Birthdate Hire date Gender Marital Status Occupation  \\\n",
       "64   1.0     1.0     1.0       1.0       1.0    1.0            1.0        1.0   \n",
       "101  0.0     0.0     0.0       0.0       0.0    0.0            0.0        0.0   \n",
       "\n",
       "    Favorite Color Rating  \n",
       "64             1.0    1.0  \n",
       "101            0.0    0.0  "
      ]
     },
     "execution_count": 42,
     "metadata": {},
     "output_type": "execute_result"
    }
   ],
   "source": [
    "df4[rows_with_equal_values]"
   ]
  },
  {
   "cell_type": "markdown",
   "id": "cc679613",
   "metadata": {},
   "source": [
    "# Task 5: Find the Rows with All Blank Values\n",
    "\n",
    "## Subtask 1.: Create and Such Rows\n",
    "\n",
    "### Subsubtask1: Adding a Row of nan randomly in a df"
   ]
  },
  {
   "cell_type": "code",
   "execution_count": 43,
   "id": "baf4651b",
   "metadata": {},
   "outputs": [],
   "source": [
    "df5=df.copy()\n",
    "# First we create a random position\n",
    "random_pos = random.randint(0,len(df5))\n",
    "\n",
    "#we create a row series of all zeros\n",
    "new_row = pd.Series(np.nan*(len(df5.columns)),index=df5.columns)\n",
    "# Then we insert the row\n",
    "df5=pd.concat([df5.iloc[:random_pos],pd.DataFrame([new_row]),df5.iloc[random_pos:]]).reset_index(drop=True)"
   ]
  },
  {
   "cell_type": "markdown",
   "id": "8d92a372",
   "metadata": {},
   "source": [
    "### Subtask 2: Discover rows with Blank or missing Values"
   ]
  },
  {
   "cell_type": "code",
   "execution_count": 44,
   "id": "6d99f22c",
   "metadata": {},
   "outputs": [
    {
     "data": {
      "text/plain": [
       "0      False\n",
       "1      False\n",
       "2      False\n",
       "3      False\n",
       "4      False\n",
       "       ...  \n",
       "96     False\n",
       "97     False\n",
       "98     False\n",
       "99     False\n",
       "100    False\n",
       "Length: 101, dtype: bool"
      ]
     },
     "execution_count": 44,
     "metadata": {},
     "output_type": "execute_result"
    }
   ],
   "source": [
    "all_nan_rows = df5.isna().all(axis=1)\n",
    "all_nan_rows"
   ]
  },
  {
   "cell_type": "code",
   "execution_count": 45,
   "id": "a9edcf78",
   "metadata": {},
   "outputs": [
    {
     "data": {
      "text/plain": [
       "True"
      ]
     },
     "execution_count": 45,
     "metadata": {},
     "output_type": "execute_result"
    }
   ],
   "source": [
    "all_nan_rows.any().any()"
   ]
  },
  {
   "cell_type": "code",
   "execution_count": 46,
   "id": "c21ebec1",
   "metadata": {},
   "outputs": [
    {
     "data": {
      "text/plain": [
       "True"
      ]
     },
     "execution_count": 46,
     "metadata": {},
     "output_type": "execute_result"
    }
   ],
   "source": [
    "all_nan_rows.any()"
   ]
  },
  {
   "cell_type": "code",
   "execution_count": 47,
   "id": "4421ed53",
   "metadata": {},
   "outputs": [
    {
     "data": {
      "text/plain": [
       "1"
      ]
     },
     "execution_count": 47,
     "metadata": {},
     "output_type": "execute_result"
    }
   ],
   "source": [
    "all_nan_rows.sum().sum()"
   ]
  },
  {
   "cell_type": "code",
   "execution_count": 48,
   "id": "5449f8f3",
   "metadata": {},
   "outputs": [
    {
     "data": {
      "text/plain": [
       "1"
      ]
     },
     "execution_count": 48,
     "metadata": {},
     "output_type": "execute_result"
    }
   ],
   "source": [
    "all_nan_rows.sum()"
   ]
  },
  {
   "cell_type": "code",
   "execution_count": 49,
   "id": "375f67d6",
   "metadata": {},
   "outputs": [
    {
     "data": {
      "text/html": [
       "<div>\n",
       "<style scoped>\n",
       "    .dataframe tbody tr th:only-of-type {\n",
       "        vertical-align: middle;\n",
       "    }\n",
       "\n",
       "    .dataframe tbody tr th {\n",
       "        vertical-align: top;\n",
       "    }\n",
       "\n",
       "    .dataframe thead th {\n",
       "        text-align: right;\n",
       "    }\n",
       "</style>\n",
       "<table border=\"1\" class=\"dataframe\">\n",
       "  <thead>\n",
       "    <tr style=\"text-align: right;\">\n",
       "      <th></th>\n",
       "      <th>Age</th>\n",
       "      <th>Weight</th>\n",
       "      <th>Salary</th>\n",
       "      <th>Birthdate</th>\n",
       "      <th>Hire date</th>\n",
       "      <th>Gender</th>\n",
       "      <th>Marital Status</th>\n",
       "      <th>Occupation</th>\n",
       "      <th>Favorite Color</th>\n",
       "      <th>Rating</th>\n",
       "    </tr>\n",
       "  </thead>\n",
       "  <tbody>\n",
       "    <tr>\n",
       "      <th>16</th>\n",
       "      <td>NaN</td>\n",
       "      <td>NaN</td>\n",
       "      <td>NaN</td>\n",
       "      <td>NaT</td>\n",
       "      <td>NaT</td>\n",
       "      <td>NaN</td>\n",
       "      <td>NaN</td>\n",
       "      <td>NaN</td>\n",
       "      <td>NaN</td>\n",
       "      <td>NaN</td>\n",
       "    </tr>\n",
       "  </tbody>\n",
       "</table>\n",
       "</div>"
      ],
      "text/plain": [
       "    Age  Weight  Salary Birthdate Hire date Gender Marital Status Occupation  \\\n",
       "16  NaN     NaN     NaN       NaT       NaT    NaN            NaN        NaN   \n",
       "\n",
       "   Favorite Color Rating  \n",
       "16            NaN    NaN  "
      ]
     },
     "execution_count": 49,
     "metadata": {},
     "output_type": "execute_result"
    }
   ],
   "source": [
    "df5[all_nan_rows]"
   ]
  },
  {
   "cell_type": "markdown",
   "id": "be5ef05b",
   "metadata": {},
   "source": [
    "# Task 6: Find the Rows with a special character, space or an NA randomly at any place\n",
    "\n",
    "## Subtask 1.: Create Such Rows\n",
    "\n",
    "### Subsubtask1: Adding a special character, Nan and a blank space"
   ]
  },
  {
   "cell_type": "code",
   "execution_count": 50,
   "id": "4c4d9a2c",
   "metadata": {},
   "outputs": [
    {
     "data": {
      "text/html": [
       "<div>\n",
       "<style scoped>\n",
       "    .dataframe tbody tr th:only-of-type {\n",
       "        vertical-align: middle;\n",
       "    }\n",
       "\n",
       "    .dataframe tbody tr th {\n",
       "        vertical-align: top;\n",
       "    }\n",
       "\n",
       "    .dataframe thead th {\n",
       "        text-align: right;\n",
       "    }\n",
       "</style>\n",
       "<table border=\"1\" class=\"dataframe\">\n",
       "  <thead>\n",
       "    <tr style=\"text-align: right;\">\n",
       "      <th></th>\n",
       "      <th>Age</th>\n",
       "      <th>Weight</th>\n",
       "      <th>Salary</th>\n",
       "      <th>Birthdate</th>\n",
       "      <th>Hire date</th>\n",
       "      <th>Gender</th>\n",
       "      <th>Marital Status</th>\n",
       "      <th>Occupation</th>\n",
       "      <th>Favorite Color</th>\n",
       "      <th>Rating</th>\n",
       "    </tr>\n",
       "  </thead>\n",
       "  <tbody>\n",
       "    <tr>\n",
       "      <th>0</th>\n",
       "      <td>21.0</td>\n",
       "      <td>207</td>\n",
       "      <td>148566</td>\n",
       "      <td>2005-08-27</td>\n",
       "      <td>2006-01-15</td>\n",
       "      <td>Female</td>\n",
       "      <td>Single</td>\n",
       "      <td>Engineer</td>\n",
       "      <td>Red</td>\n",
       "      <td>high</td>\n",
       "    </tr>\n",
       "    <tr>\n",
       "      <th>1</th>\n",
       "      <td>26.0</td>\n",
       "      <td>101</td>\n",
       "      <td>87545</td>\n",
       "      <td>1997-02-13</td>\n",
       "      <td>2005-07-30</td>\n",
       "      <td>Female</td>\n",
       "      <td>Married</td>\n",
       "      <td>Teacher</td>\n",
       "      <td>Red</td>\n",
       "      <td>high</td>\n",
       "    </tr>\n",
       "    <tr>\n",
       "      <th>2</th>\n",
       "      <td>47.0</td>\n",
       "      <td>200</td>\n",
       "      <td>111266</td>\n",
       "      <td>2011-07-28</td>\n",
       "      <td>2012-08-10</td>\n",
       "      <td>Female</td>\n",
       "      <td>Married</td>\n",
       "      <td>Lawyer</td>\n",
       "      <td>Blue</td>\n",
       "      <td>low</td>\n",
       "    </tr>\n",
       "    <tr>\n",
       "      <th>3</th>\n",
       "      <td>56.0</td>\n",
       "      <td>210</td>\n",
       "      <td>49928</td>\n",
       "      <td>2004-04-22</td>\n",
       "      <td>2020-08-05</td>\n",
       "      <td>Male</td>\n",
       "      <td>Married</td>\n",
       "      <td>Lawyer</td>\n",
       "      <td>Red</td>\n",
       "      <td>medium</td>\n",
       "    </tr>\n",
       "    <tr>\n",
       "      <th>4</th>\n",
       "      <td>33.0</td>\n",
       "      <td>178</td>\n",
       "      <td>79509</td>\n",
       "      <td>2006-10-11</td>\n",
       "      <td>2006-09-30</td>\n",
       "      <td>Female</td>\n",
       "      <td>Married</td>\n",
       "      <td>Engineer</td>\n",
       "      <td>Blue</td>\n",
       "      <td>medium</td>\n",
       "    </tr>\n",
       "    <tr>\n",
       "      <th>...</th>\n",
       "      <td>...</td>\n",
       "      <td>...</td>\n",
       "      <td>...</td>\n",
       "      <td>...</td>\n",
       "      <td>...</td>\n",
       "      <td>...</td>\n",
       "      <td>...</td>\n",
       "      <td>...</td>\n",
       "      <td>...</td>\n",
       "      <td>...</td>\n",
       "    </tr>\n",
       "    <tr>\n",
       "      <th>95</th>\n",
       "      <td>40.0</td>\n",
       "      <td>100</td>\n",
       "      <td>103372</td>\n",
       "      <td>1997-09-10</td>\n",
       "      <td>2007-11-22</td>\n",
       "      <td>Male</td>\n",
       "      <td>Married</td>\n",
       "      <td>Teacher</td>\n",
       "      <td>Blue</td>\n",
       "      <td>low</td>\n",
       "    </tr>\n",
       "    <tr>\n",
       "      <th>96</th>\n",
       "      <td>33.0</td>\n",
       "      <td>249</td>\n",
       "      <td>43986</td>\n",
       "      <td>2008-01-02</td>\n",
       "      <td>2017-07-28</td>\n",
       "      <td>Male</td>\n",
       "      <td>Married</td>\n",
       "      <td>Doctor</td>\n",
       "      <td>Red</td>\n",
       "      <td>medium</td>\n",
       "    </tr>\n",
       "    <tr>\n",
       "      <th>97</th>\n",
       "      <td>48.0</td>\n",
       "      <td>228</td>\n",
       "      <td>125857</td>\n",
       "      <td>2018-11-27</td>\n",
       "      <td>1996-04-08</td>\n",
       "      <td>Male</td>\n",
       "      <td>Married</td>\n",
       "      <td>Doctor</td>\n",
       "      <td>Yellow</td>\n",
       "      <td>high</td>\n",
       "    </tr>\n",
       "    <tr>\n",
       "      <th>98</th>\n",
       "      <td>19.0</td>\n",
       "      <td>191</td>\n",
       "      <td>48215</td>\n",
       "      <td>2008-02-11</td>\n",
       "      <td>2014-05-20</td>\n",
       "      <td>Female</td>\n",
       "      <td>Single</td>\n",
       "      <td>Lawyer</td>\n",
       "      <td>Red</td>\n",
       "      <td>high</td>\n",
       "    </tr>\n",
       "    <tr>\n",
       "      <th>99</th>\n",
       "      <td>28.0</td>\n",
       "      <td>145</td>\n",
       "      <td>113656</td>\n",
       "      <td>2019-05-10</td>\n",
       "      <td>1996-06-01</td>\n",
       "      <td>Female</td>\n",
       "      <td>Married</td>\n",
       "      <td>Engineer</td>\n",
       "      <td>Yellow</td>\n",
       "      <td>low</td>\n",
       "    </tr>\n",
       "  </tbody>\n",
       "</table>\n",
       "<p>100 rows × 10 columns</p>\n",
       "</div>"
      ],
      "text/plain": [
       "     Age  Weight  Salary  Birthdate  Hire date  Gender Marital Status  \\\n",
       "0   21.0     207  148566 2005-08-27 2006-01-15  Female         Single   \n",
       "1   26.0     101   87545 1997-02-13 2005-07-30  Female        Married   \n",
       "2   47.0     200  111266 2011-07-28 2012-08-10  Female        Married   \n",
       "3   56.0     210   49928 2004-04-22 2020-08-05    Male        Married   \n",
       "4   33.0     178   79509 2006-10-11 2006-09-30  Female        Married   \n",
       "..   ...     ...     ...        ...        ...     ...            ...   \n",
       "95  40.0     100  103372 1997-09-10 2007-11-22    Male        Married   \n",
       "96  33.0     249   43986 2008-01-02 2017-07-28    Male        Married   \n",
       "97  48.0     228  125857 2018-11-27 1996-04-08    Male        Married   \n",
       "98  19.0     191   48215 2008-02-11 2014-05-20  Female         Single   \n",
       "99  28.0     145  113656 2019-05-10 1996-06-01  Female        Married   \n",
       "\n",
       "   Occupation Favorite Color  Rating  \n",
       "0    Engineer            Red    high  \n",
       "1     Teacher            Red    high  \n",
       "2      Lawyer           Blue     low  \n",
       "3      Lawyer            Red  medium  \n",
       "4    Engineer           Blue  medium  \n",
       "..        ...            ...     ...  \n",
       "95    Teacher           Blue     low  \n",
       "96     Doctor            Red  medium  \n",
       "97     Doctor         Yellow    high  \n",
       "98     Lawyer            Red    high  \n",
       "99   Engineer         Yellow     low  \n",
       "\n",
       "[100 rows x 10 columns]"
      ]
     },
     "execution_count": 50,
     "metadata": {},
     "output_type": "execute_result"
    }
   ],
   "source": [
    "df6=df.copy()\n",
    "# randomly insert a special character\n",
    "row,col=random.randint(0,df6.shape[0]-1),random.randint(0,df6.shape[1]-1)\n",
    "df6.iat[row,col]=str(df6.iat[row,col])+'*'\n",
    "\n",
    "# randomly insert Nan\n",
    "row,col=random.randint(0,df6.shape[0]-1),random.randint(0,df6.shape[1]-1)\n",
    "df6.iat[row,col]=np.nan\n",
    "\n",
    "# randomly insert Nan\n",
    "row,col=random.randint(0,df6.shape[0]-1),random.randint(0,df6.shape[1]-1)\n",
    "df6.iat[row,col]='  '\n",
    "\n",
    "df6\n"
   ]
  },
  {
   "cell_type": "markdown",
   "id": "64bfa5e4",
   "metadata": {},
   "source": [
    "### Subtask: Discovering special characters"
   ]
  },
  {
   "cell_type": "code",
   "execution_count": 52,
   "id": "1067d0b9",
   "metadata": {},
   "outputs": [
    {
     "data": {
      "text/plain": [
       "0    False\n",
       "1    False\n",
       "2    False\n",
       "3    False\n",
       "4    False\n",
       "dtype: bool"
      ]
     },
     "execution_count": 52,
     "metadata": {},
     "output_type": "execute_result"
    }
   ],
   "source": [
    "import re\n",
    "# Check for special characters\n",
    "is_specialcharacter=df6.applymap(lambda x: isinstance(x, str) and bool(re.search('[^A-Za-z0-9]', x))).any(axis=1)\n",
    "is_specialcharacter.head()"
   ]
  },
  {
   "cell_type": "code",
   "execution_count": 53,
   "id": "cfc6ee83",
   "metadata": {},
   "outputs": [
    {
     "data": {
      "text/plain": [
       "True"
      ]
     },
     "execution_count": 53,
     "metadata": {},
     "output_type": "execute_result"
    }
   ],
   "source": [
    "is_specialcharacter.any()"
   ]
  },
  {
   "cell_type": "code",
   "execution_count": 54,
   "id": "8f9eca0e",
   "metadata": {},
   "outputs": [
    {
     "data": {
      "text/plain": [
       "True"
      ]
     },
     "execution_count": 54,
     "metadata": {},
     "output_type": "execute_result"
    }
   ],
   "source": [
    "is_specialcharacter.any().any()"
   ]
  },
  {
   "cell_type": "code",
   "execution_count": 55,
   "id": "161c754e",
   "metadata": {},
   "outputs": [
    {
     "data": {
      "text/plain": [
       "2"
      ]
     },
     "execution_count": 55,
     "metadata": {},
     "output_type": "execute_result"
    }
   ],
   "source": [
    "is_specialcharacter.sum()"
   ]
  },
  {
   "cell_type": "code",
   "execution_count": 56,
   "id": "a84dd2a8",
   "metadata": {},
   "outputs": [
    {
     "data": {
      "text/plain": [
       "2"
      ]
     },
     "execution_count": 56,
     "metadata": {},
     "output_type": "execute_result"
    }
   ],
   "source": [
    "is_specialcharacter.sum().sum()"
   ]
  },
  {
   "cell_type": "code",
   "execution_count": 57,
   "id": "1f811a2a",
   "metadata": {},
   "outputs": [
    {
     "data": {
      "text/html": [
       "<div>\n",
       "<style scoped>\n",
       "    .dataframe tbody tr th:only-of-type {\n",
       "        vertical-align: middle;\n",
       "    }\n",
       "\n",
       "    .dataframe tbody tr th {\n",
       "        vertical-align: top;\n",
       "    }\n",
       "\n",
       "    .dataframe thead th {\n",
       "        text-align: right;\n",
       "    }\n",
       "</style>\n",
       "<table border=\"1\" class=\"dataframe\">\n",
       "  <thead>\n",
       "    <tr style=\"text-align: right;\">\n",
       "      <th></th>\n",
       "      <th>Age</th>\n",
       "      <th>Weight</th>\n",
       "      <th>Salary</th>\n",
       "      <th>Birthdate</th>\n",
       "      <th>Hire date</th>\n",
       "      <th>Gender</th>\n",
       "      <th>Marital Status</th>\n",
       "      <th>Occupation</th>\n",
       "      <th>Favorite Color</th>\n",
       "      <th>Rating</th>\n",
       "    </tr>\n",
       "  </thead>\n",
       "  <tbody>\n",
       "    <tr>\n",
       "      <th>24</th>\n",
       "      <td>39.0</td>\n",
       "      <td>249</td>\n",
       "      <td></td>\n",
       "      <td>2014-12-15</td>\n",
       "      <td>1999-12-06</td>\n",
       "      <td>Female</td>\n",
       "      <td>Married</td>\n",
       "      <td>Doctor</td>\n",
       "      <td>Yellow</td>\n",
       "      <td>medium</td>\n",
       "    </tr>\n",
       "    <tr>\n",
       "      <th>77</th>\n",
       "      <td>26.0</td>\n",
       "      <td>243</td>\n",
       "      <td>79876</td>\n",
       "      <td>2012-04-24</td>\n",
       "      <td>1998-07-13</td>\n",
       "      <td>Female</td>\n",
       "      <td>Single</td>\n",
       "      <td>Teacher</td>\n",
       "      <td>Red*</td>\n",
       "      <td>high</td>\n",
       "    </tr>\n",
       "  </tbody>\n",
       "</table>\n",
       "</div>"
      ],
      "text/plain": [
       "     Age  Weight Salary  Birthdate  Hire date  Gender Marital Status  \\\n",
       "24  39.0     249        2014-12-15 1999-12-06  Female        Married   \n",
       "77  26.0     243  79876 2012-04-24 1998-07-13  Female         Single   \n",
       "\n",
       "   Occupation Favorite Color  Rating  \n",
       "24     Doctor         Yellow  medium  \n",
       "77    Teacher           Red*    high  "
      ]
     },
     "execution_count": 57,
     "metadata": {},
     "output_type": "execute_result"
    }
   ],
   "source": [
    "df6[is_specialcharacter]"
   ]
  },
  {
   "cell_type": "markdown",
   "id": "0873e701",
   "metadata": {},
   "source": [
    "### Subtask: Discovering Blank spaces and Nans"
   ]
  },
  {
   "cell_type": "code",
   "execution_count": 58,
   "id": "a60a0e1c",
   "metadata": {},
   "outputs": [
    {
     "data": {
      "text/plain": [
       "0    False\n",
       "1    False\n",
       "2    False\n",
       "3    False\n",
       "4    False\n",
       "dtype: bool"
      ]
     },
     "execution_count": 58,
     "metadata": {},
     "output_type": "execute_result"
    }
   ],
   "source": [
    "import re\n",
    "# Replace strings that are entirely blank spaces with None\n",
    "df6.replace(r'^\\s+$', None, regex=True, inplace=True)\n",
    "\n",
    "# Check for rows with NaN values\n",
    "is_blankrow = df6.isna().any(axis=1)\n",
    "is_blankrow.head()\n"
   ]
  },
  {
   "cell_type": "code",
   "execution_count": 59,
   "id": "6905cf26",
   "metadata": {},
   "outputs": [
    {
     "data": {
      "text/plain": [
       "True"
      ]
     },
     "execution_count": 59,
     "metadata": {},
     "output_type": "execute_result"
    }
   ],
   "source": [
    "is_blankrow.any()"
   ]
  },
  {
   "cell_type": "code",
   "execution_count": 60,
   "id": "4c200e95",
   "metadata": {},
   "outputs": [
    {
     "data": {
      "text/plain": [
       "True"
      ]
     },
     "execution_count": 60,
     "metadata": {},
     "output_type": "execute_result"
    }
   ],
   "source": [
    "is_blankrow.any().any()"
   ]
  },
  {
   "cell_type": "code",
   "execution_count": 61,
   "id": "6c2d14b7",
   "metadata": {},
   "outputs": [
    {
     "data": {
      "text/plain": [
       "2"
      ]
     },
     "execution_count": 61,
     "metadata": {},
     "output_type": "execute_result"
    }
   ],
   "source": [
    "is_blankrow.sum()"
   ]
  },
  {
   "cell_type": "code",
   "execution_count": 62,
   "id": "75d1912f",
   "metadata": {},
   "outputs": [
    {
     "data": {
      "text/plain": [
       "2"
      ]
     },
     "execution_count": 62,
     "metadata": {},
     "output_type": "execute_result"
    }
   ],
   "source": [
    "is_blankrow.sum().sum()"
   ]
  },
  {
   "cell_type": "code",
   "execution_count": 63,
   "id": "af137683",
   "metadata": {},
   "outputs": [
    {
     "ename": "SyntaxError",
     "evalue": "invalid syntax (1945262582.py, line 1)",
     "output_type": "error",
     "traceback": [
      "\u001b[1;36m  Cell \u001b[1;32mIn[63], line 1\u001b[1;36m\u001b[0m\n\u001b[1;33m    df6[is_blankrow]   h=pd.concat([h,sample_value])\u001b[0m\n\u001b[1;37m                       ^\u001b[0m\n\u001b[1;31mSyntaxError\u001b[0m\u001b[1;31m:\u001b[0m invalid syntax\n"
     ]
    }
   ],
   "source": [
    "df6[is_blankrow]   h=pd.concat([h,sample_value])"
   ]
  },
  {
   "cell_type": "markdown",
   "id": "e9abaf66",
   "metadata": {},
   "source": [
    "# 7 Checking if the df columns have different Datatypes\n",
    "ideally there should be 1 or 2 datatypes,one is index datatype and the other is that of column"
   ]
  },
  {
   "cell_type": "code",
   "execution_count": 65,
   "id": "019bfd34",
   "metadata": {},
   "outputs": [
    {
     "name": "stdout",
     "output_type": "stream",
     "text": [
      "There is no column with a different datatype, good to go\n"
     ]
    }
   ],
   "source": [
    "df7 = df.copy()\n",
    "\n",
    "# List to store columns with mixed datatypes\n",
    "mixed_dtype_cols = []\n",
    "\n",
    "for col in df7:\n",
    "    unique_types = df7[col].map(type).unique()\n",
    "    if len(unique_types) > 1:\n",
    "        mixed_dtype_cols.append(col)\n",
    "        print(col, 'Data Types:', unique_types)\n",
    "\n",
    "if not mixed_dtype_cols:\n",
    "    print(\"There is no column with a different datatype, good to go\")\n",
    "else:\n",
    "    print(\"There are columns with different datatypes, please check\")\n",
    "    for col in mixed_dtype_cols:\n",
    "        unique_types = df7[col].map(type).unique()\n",
    "        print(\"===================\")\n",
    "        print(col, \"Data Types Value Counts:\")\n",
    "        \n",
    "        for dtype in unique_types:\n",
    "            count = df7[df7[col].apply(lambda x: isinstance(x, dtype))][col].count()\n",
    "            print(f\"{dtype}: {count}\")\n",
    "            \n",
    "            # Display the first 2 rows of this data type\n",
    "            sample_rows = df7[df7[col].apply(lambda x: isinstance(x, dtype))].head(2)\n",
    "            print(\"Sample Rows:\")\n",
    "            print(sample_rows)\n",
    "        \n",
    "        print(\"===================\")\n"
   ]
  },
  {
   "cell_type": "markdown",
   "id": "57ef5757",
   "metadata": {},
   "source": [
    "# Task 8: Find the gap in the Date Column\n",
    "If the Value counts of date difference is unequal then there is a gap"
   ]
  },
  {
   "cell_type": "code",
   "execution_count": 68,
   "id": "edaf670c",
   "metadata": {},
   "outputs": [
    {
     "data": {
      "text/plain": [
       "39 days     3\n",
       "3 days      3\n",
       "86 days     2\n",
       "40 days     2\n",
       "159 days    2\n",
       "           ..\n",
       "109 days    1\n",
       "121 days    1\n",
       "62 days     1\n",
       "362 days    1\n",
       "7 days      1\n",
       "Name: date_diff, Length: 81, dtype: int64"
      ]
     },
     "execution_count": 68,
     "metadata": {},
     "output_type": "execute_result"
    }
   ],
   "source": [
    "df8=df.copy()\n",
    "# Convert the date column to a datetime format if it isn't already\n",
    "df8['Birthdate'] = pd.to_datetime(df['Birthdate'])\n",
    "\n",
    "# Sort the dataframe by date\n",
    "df8 = df8.sort_values(by='Birthdate')\n",
    "\n",
    "# Calculate the difference between consecutive dates\n",
    "df8['date_diff'] = df8['Birthdate'].diff()\n",
    "df8['date_diff'].value_counts()"
   ]
  },
  {
   "cell_type": "markdown",
   "id": "2da4ce31",
   "metadata": {},
   "source": [
    "# Task 9: To find if there is a correlation between the Numeric Columns\n",
    "\n",
    "We can also find from straight lines if some columns are formulated. We create a column Age2 from Age and see."
   ]
  },
  {
   "cell_type": "code",
   "execution_count": 75,
   "id": "1a166503",
   "metadata": {},
   "outputs": [],
   "source": [
    "df9=df.copy()"
   ]
  },
  {
   "cell_type": "code",
   "execution_count": 76,
   "id": "084b0924",
   "metadata": {},
   "outputs": [],
   "source": [
    "df9['Age2']=df9['Age']*2"
   ]
  },
  {
   "cell_type": "code",
   "execution_count": 77,
   "id": "7263f229",
   "metadata": {},
   "outputs": [
    {
     "data": {
      "text/plain": [
       "<seaborn.axisgrid.PairGrid at 0x1b2e69545e0>"
      ]
     },
     "execution_count": 77,
     "metadata": {},
     "output_type": "execute_result"
    },
    {
     "data": {
      "image/png": "[encoded data removed]",
      "text/plain": [
       "<Figure size 1000x1000 with 20 Axes>"
      ]
     },
     "metadata": {},
     "output_type": "display_data"
    }
   ],
   "source": [
    "import matplotlib.pyplot as plt\n",
    "import seaborn as sns\n",
    "sns.pairplot(df9)"
   ]
  },
  {
   "cell_type": "code",
   "execution_count": null,
   "id": "e276198e",
   "metadata": {},
   "outputs": [],
   "source": []
  }
 ],
 "metadata": {
  "kernelspec": {
   "display_name": "Python 3 (ipykernel)",
   "language": "python",
   "name": "python3"
  },
  "language_info": {
   "codemirror_mode": {
    "name": "ipython",
    "version": 3
   },
   "file_extension": ".py",
   "mimetype": "text/x-python",
   "name": "python",
   "nbconvert_exporter": "python",
   "pygments_lexer": "ipython3",
   "version": "3.10.9"
  }
 },
 "nbformat": 4,
 "nbformat_minor": 5
}
