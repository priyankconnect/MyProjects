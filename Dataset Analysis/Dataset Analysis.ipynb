{
 "cells": [
  {
   "cell_type": "markdown",
   "id": "335fbc80",
   "metadata": {},
   "source": [
    "# Dataset Analysis"
   ]
  },
  {
   "cell_type": "markdown",
   "id": "45646278",
   "metadata": {},
   "source": [
    "## Generation of Dataset"
   ]
  },
  {
   "cell_type": "code",
   "execution_count": 1,
   "id": "a5f83014",
   "metadata": {},
   "outputs": [
    {
     "data": {
      "text/html": [
       "<div>\n",
       "<style scoped>\n",
       "    .dataframe tbody tr th:only-of-type {\n",
       "        vertical-align: middle;\n",
       "    }\n",
       "\n",
       "    .dataframe tbody tr th {\n",
       "        vertical-align: top;\n",
       "    }\n",
       "\n",
       "    .dataframe thead th {\n",
       "        text-align: right;\n",
       "    }\n",
       "</style>\n",
       "<table border=\"1\" class=\"dataframe\">\n",
       "  <thead>\n",
       "    <tr style=\"text-align: right;\">\n",
       "      <th></th>\n",
       "      <th>Age</th>\n",
       "      <th>Weight</th>\n",
       "      <th>Salary</th>\n",
       "      <th>Birthdate</th>\n",
       "      <th>Hire date</th>\n",
       "      <th>Gender</th>\n",
       "      <th>Marital Status</th>\n",
       "      <th>Occupation</th>\n",
       "      <th>Favorite Color</th>\n",
       "      <th>Rating</th>\n",
       "    </tr>\n",
       "  </thead>\n",
       "  <tbody>\n",
       "    <tr>\n",
       "      <th>0</th>\n",
       "      <td>54</td>\n",
       "      <td>109</td>\n",
       "      <td>148961</td>\n",
       "      <td>2008-06-16</td>\n",
       "      <td>2017-12-30</td>\n",
       "      <td>Female</td>\n",
       "      <td>Married</td>\n",
       "      <td>Lawyer</td>\n",
       "      <td>Green</td>\n",
       "      <td>medium</td>\n",
       "    </tr>\n",
       "    <tr>\n",
       "      <th>1</th>\n",
       "      <td>40</td>\n",
       "      <td>149</td>\n",
       "      <td>58164</td>\n",
       "      <td>2005-10-08</td>\n",
       "      <td>2008-03-16</td>\n",
       "      <td>Female</td>\n",
       "      <td>Married</td>\n",
       "      <td>Doctor</td>\n",
       "      <td>Red</td>\n",
       "      <td>low</td>\n",
       "    </tr>\n",
       "    <tr>\n",
       "      <th>2</th>\n",
       "      <td>40</td>\n",
       "      <td>214</td>\n",
       "      <td>139417</td>\n",
       "      <td>2010-05-20</td>\n",
       "      <td>2000-05-26</td>\n",
       "      <td>Male</td>\n",
       "      <td>Married</td>\n",
       "      <td>Engineer</td>\n",
       "      <td>Green</td>\n",
       "      <td>high</td>\n",
       "    </tr>\n",
       "    <tr>\n",
       "      <th>3</th>\n",
       "      <td>57</td>\n",
       "      <td>156</td>\n",
       "      <td>109396</td>\n",
       "      <td>2021-02-15</td>\n",
       "      <td>1998-03-28</td>\n",
       "      <td>Male</td>\n",
       "      <td>Married</td>\n",
       "      <td>Lawyer</td>\n",
       "      <td>Red</td>\n",
       "      <td>medium</td>\n",
       "    </tr>\n",
       "    <tr>\n",
       "      <th>4</th>\n",
       "      <td>64</td>\n",
       "      <td>238</td>\n",
       "      <td>131711</td>\n",
       "      <td>2011-05-05</td>\n",
       "      <td>1996-11-16</td>\n",
       "      <td>Female</td>\n",
       "      <td>Single</td>\n",
       "      <td>Doctor</td>\n",
       "      <td>Green</td>\n",
       "      <td>low</td>\n",
       "    </tr>\n",
       "    <tr>\n",
       "      <th>...</th>\n",
       "      <td>...</td>\n",
       "      <td>...</td>\n",
       "      <td>...</td>\n",
       "      <td>...</td>\n",
       "      <td>...</td>\n",
       "      <td>...</td>\n",
       "      <td>...</td>\n",
       "      <td>...</td>\n",
       "      <td>...</td>\n",
       "      <td>...</td>\n",
       "    </tr>\n",
       "    <tr>\n",
       "      <th>95</th>\n",
       "      <td>22</td>\n",
       "      <td>156</td>\n",
       "      <td>39314</td>\n",
       "      <td>2000-04-22</td>\n",
       "      <td>1997-12-12</td>\n",
       "      <td>Female</td>\n",
       "      <td>Married</td>\n",
       "      <td>Teacher</td>\n",
       "      <td>Green</td>\n",
       "      <td>medium</td>\n",
       "    </tr>\n",
       "    <tr>\n",
       "      <th>96</th>\n",
       "      <td>24</td>\n",
       "      <td>248</td>\n",
       "      <td>100133</td>\n",
       "      <td>1997-10-06</td>\n",
       "      <td>2016-05-21</td>\n",
       "      <td>Male</td>\n",
       "      <td>Married</td>\n",
       "      <td>Doctor</td>\n",
       "      <td>Blue</td>\n",
       "      <td>high</td>\n",
       "    </tr>\n",
       "    <tr>\n",
       "      <th>97</th>\n",
       "      <td>25</td>\n",
       "      <td>227</td>\n",
       "      <td>98982</td>\n",
       "      <td>2009-09-23</td>\n",
       "      <td>2008-12-05</td>\n",
       "      <td>Male</td>\n",
       "      <td>Married</td>\n",
       "      <td>Engineer</td>\n",
       "      <td>Yellow</td>\n",
       "      <td>medium</td>\n",
       "    </tr>\n",
       "    <tr>\n",
       "      <th>98</th>\n",
       "      <td>59</td>\n",
       "      <td>173</td>\n",
       "      <td>97144</td>\n",
       "      <td>2017-01-30</td>\n",
       "      <td>2016-09-12</td>\n",
       "      <td>Female</td>\n",
       "      <td>Married</td>\n",
       "      <td>Lawyer</td>\n",
       "      <td>Blue</td>\n",
       "      <td>medium</td>\n",
       "    </tr>\n",
       "    <tr>\n",
       "      <th>99</th>\n",
       "      <td>57</td>\n",
       "      <td>166</td>\n",
       "      <td>118994</td>\n",
       "      <td>2014-06-30</td>\n",
       "      <td>2020-07-08</td>\n",
       "      <td>Female</td>\n",
       "      <td>Single</td>\n",
       "      <td>Doctor</td>\n",
       "      <td>Red</td>\n",
       "      <td>low</td>\n",
       "    </tr>\n",
       "  </tbody>\n",
       "</table>\n",
       "<p>100 rows × 10 columns</p>\n",
       "</div>"
      ],
      "text/plain": [
       "    Age  Weight  Salary  Birthdate  Hire date  Gender Marital Status  \\\n",
       "0    54     109  148961 2008-06-16 2017-12-30  Female        Married   \n",
       "1    40     149   58164 2005-10-08 2008-03-16  Female        Married   \n",
       "2    40     214  139417 2010-05-20 2000-05-26    Male        Married   \n",
       "3    57     156  109396 2021-02-15 1998-03-28    Male        Married   \n",
       "4    64     238  131711 2011-05-05 1996-11-16  Female         Single   \n",
       "..  ...     ...     ...        ...        ...     ...            ...   \n",
       "95   22     156   39314 2000-04-22 1997-12-12  Female        Married   \n",
       "96   24     248  100133 1997-10-06 2016-05-21    Male        Married   \n",
       "97   25     227   98982 2009-09-23 2008-12-05    Male        Married   \n",
       "98   59     173   97144 2017-01-30 2016-09-12  Female        Married   \n",
       "99   57     166  118994 2014-06-30 2020-07-08  Female         Single   \n",
       "\n",
       "   Occupation Favorite Color  Rating  \n",
       "0      Lawyer          Green  medium  \n",
       "1      Doctor            Red     low  \n",
       "2    Engineer          Green    high  \n",
       "3      Lawyer            Red  medium  \n",
       "4      Doctor          Green     low  \n",
       "..        ...            ...     ...  \n",
       "95    Teacher          Green  medium  \n",
       "96     Doctor           Blue    high  \n",
       "97   Engineer         Yellow  medium  \n",
       "98     Lawyer           Blue  medium  \n",
       "99     Doctor            Red     low  \n",
       "\n",
       "[100 rows x 10 columns]"
      ]
     },
     "execution_count": 1,
     "metadata": {},
     "output_type": "execute_result"
    }
   ],
   "source": [
    "import random\n",
    "import pandas as pd\n",
    "import numpy as np\n",
    "from datetime import datetime, timedelta\n",
    "\n",
    "\n",
    "\n",
    "# Numeric variables\n",
    "\n",
    "ages = [random.randint(18, 65) for i in range(100)]\n",
    "\n",
    "weights = [random.randint(100, 250) for i in range(100)]\n",
    "\n",
    "salaries = [random.randint(35000, 150000) for i in range(100)]\n",
    "\n",
    "\n",
    "\n",
    "# Date variables\n",
    "\n",
    "start_date = datetime.strptime(\"01/01/1995\", \"%m/%d/%Y\")\n",
    "\n",
    "end_date = datetime.strptime(\"01/01/2022\", \"%m/%d/%Y\")\n",
    "\n",
    "birthdates = [start_date + timedelta(days=random.randint(0, (end_date - start_date).days)) for i in range(100)]\n",
    "\n",
    "hire_dates = [start_date + timedelta(days=random.randint(0, (end_date - start_date).days)) for i in range(100)]\n",
    "\n",
    "\n",
    "\n",
    "# Binary variables\n",
    "\n",
    "genders = [\"Male\" if random.randint(0, 1) == 0 else \"Female\" for i in range(100)]\n",
    "\n",
    "marital_status = [\"Married\" if random.randint(0, 1) == 0 else \"Single\" for i in range(100)]\n",
    "\n",
    "\n",
    "\n",
    "# Categorical variables- Nominal\n",
    "\n",
    "occupations = [\"Engineer\", \"Teacher\", \"Doctor\", \"Lawyer\"]\n",
    "\n",
    "fav_colors = [\"Red\", \"Green\", \"Blue\", \"Yellow\"]\n",
    "\n",
    "occupation = [random.choice(occupations) for i in range(100)]\n",
    "\n",
    "fav_color = [random.choice(fav_colors) for i in range(100)]\n",
    "\n",
    "\n",
    "\n",
    "# Categorical Variable- ordinal- Ordered\n",
    "\n",
    "\n",
    "\n",
    "ratings = [\"Low\",\"Medium\",\"High\"]\n",
    "\n",
    "ordering = ['low', 'medium', 'high']\n",
    "\n",
    "# Generate 100 random values from the categories\n",
    "\n",
    "data = list(np.random.choice(ordering, size=100))\n",
    "\n",
    "# Convert the data to a list with the specified ordering\n",
    "\n",
    "col = pd.Categorical(data, categories=ordering, ordered=True)\n",
    "\n",
    "# Create dataframe\n",
    "\n",
    "df = pd.DataFrame({\n",
    "\n",
    "    \"Age\": ages,\n",
    "\n",
    "    \"Weight\": weights,\n",
    "\n",
    "    \"Salary\": salaries,\n",
    "\n",
    "    \"Birthdate\": birthdates,\n",
    "\n",
    "    \"Hire date\": hire_dates,\n",
    "\n",
    "    \"Gender\": genders,\n",
    "\n",
    "    \"Marital Status\": marital_status,\n",
    "\n",
    "    \"Occupation\": occupation,\n",
    "\n",
    "    \"Favorite Color\": fav_color,\n",
    "\n",
    "    \"Rating\":col\n",
    "\n",
    "})\n",
    "df"
   ]
  },
  {
   "cell_type": "markdown",
   "id": "4985d868",
   "metadata": {},
   "source": [
    "## Inserting a Different Case ( Lower or Upper) in a dataframe column"
   ]
  },
  {
   "cell_type": "code",
   "execution_count": 2,
   "id": "dc38d171",
   "metadata": {},
   "outputs": [
    {
     "data": {
      "text/html": [
       "<div>\n",
       "<style scoped>\n",
       "    .dataframe tbody tr th:only-of-type {\n",
       "        vertical-align: middle;\n",
       "    }\n",
       "\n",
       "    .dataframe tbody tr th {\n",
       "        vertical-align: top;\n",
       "    }\n",
       "\n",
       "    .dataframe thead th {\n",
       "        text-align: right;\n",
       "    }\n",
       "</style>\n",
       "<table border=\"1\" class=\"dataframe\">\n",
       "  <thead>\n",
       "    <tr style=\"text-align: right;\">\n",
       "      <th></th>\n",
       "      <th>Age</th>\n",
       "      <th>Weight</th>\n",
       "      <th>Salary</th>\n",
       "      <th>Birthdate</th>\n",
       "      <th>Hire date</th>\n",
       "      <th>Gender</th>\n",
       "      <th>Marital Status</th>\n",
       "      <th>Occupation</th>\n",
       "      <th>Favorite Color</th>\n",
       "      <th>Rating</th>\n",
       "    </tr>\n",
       "  </thead>\n",
       "  <tbody>\n",
       "    <tr>\n",
       "      <th>0</th>\n",
       "      <td>54</td>\n",
       "      <td>109</td>\n",
       "      <td>148961</td>\n",
       "      <td>2008-06-16</td>\n",
       "      <td>2017-12-30</td>\n",
       "      <td>Female</td>\n",
       "      <td>Married</td>\n",
       "      <td>Lawyer</td>\n",
       "      <td>GREEN</td>\n",
       "      <td>medium</td>\n",
       "    </tr>\n",
       "    <tr>\n",
       "      <th>1</th>\n",
       "      <td>40</td>\n",
       "      <td>149</td>\n",
       "      <td>58164</td>\n",
       "      <td>2005-10-08</td>\n",
       "      <td>2008-03-16</td>\n",
       "      <td>Female</td>\n",
       "      <td>Married</td>\n",
       "      <td>Doctor</td>\n",
       "      <td>BLUE</td>\n",
       "      <td>low</td>\n",
       "    </tr>\n",
       "    <tr>\n",
       "      <th>2</th>\n",
       "      <td>40</td>\n",
       "      <td>214</td>\n",
       "      <td>139417</td>\n",
       "      <td>2010-05-20</td>\n",
       "      <td>2000-05-26</td>\n",
       "      <td>Male</td>\n",
       "      <td>Married</td>\n",
       "      <td>Engineer</td>\n",
       "      <td>Green</td>\n",
       "      <td>high</td>\n",
       "    </tr>\n",
       "    <tr>\n",
       "      <th>3</th>\n",
       "      <td>57</td>\n",
       "      <td>156</td>\n",
       "      <td>109396</td>\n",
       "      <td>2021-02-15</td>\n",
       "      <td>1998-03-28</td>\n",
       "      <td>Male</td>\n",
       "      <td>Married</td>\n",
       "      <td>Lawyer</td>\n",
       "      <td>Red</td>\n",
       "      <td>medium</td>\n",
       "    </tr>\n",
       "    <tr>\n",
       "      <th>4</th>\n",
       "      <td>64</td>\n",
       "      <td>238</td>\n",
       "      <td>131711</td>\n",
       "      <td>2011-05-05</td>\n",
       "      <td>1996-11-16</td>\n",
       "      <td>Female</td>\n",
       "      <td>Single</td>\n",
       "      <td>Doctor</td>\n",
       "      <td>Green</td>\n",
       "      <td>low</td>\n",
       "    </tr>\n",
       "    <tr>\n",
       "      <th>...</th>\n",
       "      <td>...</td>\n",
       "      <td>...</td>\n",
       "      <td>...</td>\n",
       "      <td>...</td>\n",
       "      <td>...</td>\n",
       "      <td>...</td>\n",
       "      <td>...</td>\n",
       "      <td>...</td>\n",
       "      <td>...</td>\n",
       "      <td>...</td>\n",
       "    </tr>\n",
       "    <tr>\n",
       "      <th>95</th>\n",
       "      <td>22</td>\n",
       "      <td>156</td>\n",
       "      <td>39314</td>\n",
       "      <td>2000-04-22</td>\n",
       "      <td>1997-12-12</td>\n",
       "      <td>Female</td>\n",
       "      <td>Married</td>\n",
       "      <td>Teacher</td>\n",
       "      <td>Green</td>\n",
       "      <td>medium</td>\n",
       "    </tr>\n",
       "    <tr>\n",
       "      <th>96</th>\n",
       "      <td>24</td>\n",
       "      <td>248</td>\n",
       "      <td>100133</td>\n",
       "      <td>1997-10-06</td>\n",
       "      <td>2016-05-21</td>\n",
       "      <td>Male</td>\n",
       "      <td>Married</td>\n",
       "      <td>Doctor</td>\n",
       "      <td>Blue</td>\n",
       "      <td>high</td>\n",
       "    </tr>\n",
       "    <tr>\n",
       "      <th>97</th>\n",
       "      <td>25</td>\n",
       "      <td>227</td>\n",
       "      <td>98982</td>\n",
       "      <td>2009-09-23</td>\n",
       "      <td>2008-12-05</td>\n",
       "      <td>Male</td>\n",
       "      <td>Married</td>\n",
       "      <td>Engineer</td>\n",
       "      <td>Yellow</td>\n",
       "      <td>medium</td>\n",
       "    </tr>\n",
       "    <tr>\n",
       "      <th>98</th>\n",
       "      <td>59</td>\n",
       "      <td>173</td>\n",
       "      <td>97144</td>\n",
       "      <td>2017-01-30</td>\n",
       "      <td>2016-09-12</td>\n",
       "      <td>Female</td>\n",
       "      <td>Married</td>\n",
       "      <td>Lawyer</td>\n",
       "      <td>Blue</td>\n",
       "      <td>medium</td>\n",
       "    </tr>\n",
       "    <tr>\n",
       "      <th>99</th>\n",
       "      <td>57</td>\n",
       "      <td>166</td>\n",
       "      <td>118994</td>\n",
       "      <td>2014-06-30</td>\n",
       "      <td>2020-07-08</td>\n",
       "      <td>Female</td>\n",
       "      <td>Single</td>\n",
       "      <td>Doctor</td>\n",
       "      <td>Red</td>\n",
       "      <td>low</td>\n",
       "    </tr>\n",
       "  </tbody>\n",
       "</table>\n",
       "<p>100 rows × 10 columns</p>\n",
       "</div>"
      ],
      "text/plain": [
       "    Age  Weight  Salary  Birthdate  Hire date  Gender Marital Status  \\\n",
       "0    54     109  148961 2008-06-16 2017-12-30  Female        Married   \n",
       "1    40     149   58164 2005-10-08 2008-03-16  Female        Married   \n",
       "2    40     214  139417 2010-05-20 2000-05-26    Male        Married   \n",
       "3    57     156  109396 2021-02-15 1998-03-28    Male        Married   \n",
       "4    64     238  131711 2011-05-05 1996-11-16  Female         Single   \n",
       "..  ...     ...     ...        ...        ...     ...            ...   \n",
       "95   22     156   39314 2000-04-22 1997-12-12  Female        Married   \n",
       "96   24     248  100133 1997-10-06 2016-05-21    Male        Married   \n",
       "97   25     227   98982 2009-09-23 2008-12-05    Male        Married   \n",
       "98   59     173   97144 2017-01-30 2016-09-12  Female        Married   \n",
       "99   57     166  118994 2014-06-30 2020-07-08  Female         Single   \n",
       "\n",
       "   Occupation Favorite Color  Rating  \n",
       "0      Lawyer          GREEN  medium  \n",
       "1      Doctor           BLUE     low  \n",
       "2    Engineer          Green    high  \n",
       "3      Lawyer            Red  medium  \n",
       "4      Doctor          Green     low  \n",
       "..        ...            ...     ...  \n",
       "95    Teacher          Green  medium  \n",
       "96     Doctor           Blue    high  \n",
       "97   Engineer         Yellow  medium  \n",
       "98     Lawyer           Blue  medium  \n",
       "99     Doctor            Red     low  \n",
       "\n",
       "[100 rows x 10 columns]"
      ]
     },
     "execution_count": 2,
     "metadata": {},
     "output_type": "execute_result"
    }
   ],
   "source": [
    "df1 = df.copy()\n",
    "\n",
    "# adding upper case of fav_color\n",
    "df1.loc[0,'Favorite Color'] = 'GREEN'\n",
    "df1.loc[1,'Favorite Color'] = 'BLUE'\n",
    "df1"
   ]
  },
  {
   "cell_type": "code",
   "execution_count": 3,
   "id": "bc31a09b",
   "metadata": {},
   "outputs": [
    {
     "data": {
      "text/plain": [
       "array(['GREEN', 'BLUE', 'Green', 'Red', 'Yellow', 'Blue'], dtype=object)"
      ]
     },
     "execution_count": 3,
     "metadata": {},
     "output_type": "execute_result"
    }
   ],
   "source": [
    "df1['Favorite Color'].unique()"
   ]
  },
  {
   "cell_type": "markdown",
   "id": "86703bbf",
   "metadata": {},
   "source": [
    "We can see the green and blue are showing twice, because they are of different cases. This is an issue.\n",
    "\n",
    "# Task 1: Check through all the text columns of the Dataframe and see if same word is written  in  Different Cases\n",
    "\n",
    "## 1.1 Select only the column that contain text"
   ]
  },
  {
   "cell_type": "code",
   "execution_count": 4,
   "id": "9a94f136",
   "metadata": {},
   "outputs": [
    {
     "data": {
      "text/plain": [
       "Index(['Gender', 'Marital Status', 'Occupation', 'Favorite Color'], dtype='object')"
      ]
     },
     "execution_count": 4,
     "metadata": {},
     "output_type": "execute_result"
    }
   ],
   "source": [
    "text_cols=df1.select_dtypes(include='object').columns\n",
    "text_cols"
   ]
  },
  {
   "cell_type": "markdown",
   "id": "ebd0a187",
   "metadata": {},
   "source": [
    "### 1.2. We define a dictionary that will capture the duplicate values"
   ]
  },
  {
   "cell_type": "code",
   "execution_count": 5,
   "id": "70171fa9",
   "metadata": {},
   "outputs": [],
   "source": [
    "dup_dict={}"
   ]
  },
  {
   "cell_type": "markdown",
   "id": "bd4aa41c",
   "metadata": {},
   "source": [
    "### 1.3 Loop through each text column in the dataframe and check for same values written in different cases"
   ]
  },
  {
   "cell_type": "code",
   "execution_count": 6,
   "id": "870422ee",
   "metadata": {},
   "outputs": [
    {
     "name": "stdout",
     "output_type": "stream",
     "text": [
      "The following columns contain the same text written in different cases.\n",
      "Favorite Color:['green' 'blue']\n"
     ]
    }
   ],
   "source": [
    "for col in text_cols:\n",
    "    # drop the duplicate values in the columns, if there are any NAs, that too needs to be removed, for the task \n",
    "    df1[col]=df1[col].drop_duplicates().dropna()\n",
    "    # Convert the text in the column to lowercase\n",
    "    df1[col]=df1[col].str.lower()\n",
    "    # Get the duplicate values now for that column\n",
    "    dup_vals = df1[df1.duplicated(subset=[col],keep=False)][col].dropna().unique()\n",
    "    # store the duplicate values in the dictionary\n",
    "    if len(dup_vals)>0:\n",
    "        dup_dict[col] =dup_vals\n",
    "        \n",
    "#print the dictionary of duplicated values for each text columns\n",
    "if len(dup_dict)>0:\n",
    "    print(\"The following columns contain the same text written in different cases.\")\n",
    "    for col,vals in dup_dict.items():\n",
    "        print(f\"{col}:{vals}\")\n",
    "else:\n",
    "    print(\"No columns contain the same text written in differnt cases.\")   \n",
    "    "
   ]
  },
  {
   "cell_type": "markdown",
   "id": "8bf39fd9",
   "metadata": {},
   "source": [
    "## Experiments with Boolean Masks. \n",
    "\n",
    "### First let's convert dictionary values of Favourite Color to Lists"
   ]
  },
  {
   "cell_type": "code",
   "execution_count": 7,
   "id": "22a5a5b7",
   "metadata": {},
   "outputs": [
    {
     "data": {
      "text/plain": [
       "['green', 'blue']"
      ]
     },
     "execution_count": 7,
     "metadata": {},
     "output_type": "execute_result"
    }
   ],
   "source": [
    "mylist=list(dup_dict['Favorite Color'])\n",
    "mylist"
   ]
  },
  {
   "cell_type": "markdown",
   "id": "985b5d98",
   "metadata": {},
   "source": [
    "### To check which column contain these values, first we create a boolean mask for the whole dataframe"
   ]
  },
  {
   "cell_type": "code",
   "execution_count": 8,
   "id": "0b235b39",
   "metadata": {},
   "outputs": [
    {
     "data": {
      "text/html": [
       "<div>\n",
       "<style scoped>\n",
       "    .dataframe tbody tr th:only-of-type {\n",
       "        vertical-align: middle;\n",
       "    }\n",
       "\n",
       "    .dataframe tbody tr th {\n",
       "        vertical-align: top;\n",
       "    }\n",
       "\n",
       "    .dataframe thead th {\n",
       "        text-align: right;\n",
       "    }\n",
       "</style>\n",
       "<table border=\"1\" class=\"dataframe\">\n",
       "  <thead>\n",
       "    <tr style=\"text-align: right;\">\n",
       "      <th></th>\n",
       "      <th>Age</th>\n",
       "      <th>Weight</th>\n",
       "      <th>Salary</th>\n",
       "      <th>Birthdate</th>\n",
       "      <th>Hire date</th>\n",
       "      <th>Gender</th>\n",
       "      <th>Marital Status</th>\n",
       "      <th>Occupation</th>\n",
       "      <th>Favorite Color</th>\n",
       "      <th>Rating</th>\n",
       "    </tr>\n",
       "  </thead>\n",
       "  <tbody>\n",
       "    <tr>\n",
       "      <th>0</th>\n",
       "      <td>False</td>\n",
       "      <td>False</td>\n",
       "      <td>False</td>\n",
       "      <td>False</td>\n",
       "      <td>False</td>\n",
       "      <td>False</td>\n",
       "      <td>False</td>\n",
       "      <td>False</td>\n",
       "      <td>True</td>\n",
       "      <td>False</td>\n",
       "    </tr>\n",
       "    <tr>\n",
       "      <th>1</th>\n",
       "      <td>False</td>\n",
       "      <td>False</td>\n",
       "      <td>False</td>\n",
       "      <td>False</td>\n",
       "      <td>False</td>\n",
       "      <td>False</td>\n",
       "      <td>False</td>\n",
       "      <td>False</td>\n",
       "      <td>True</td>\n",
       "      <td>False</td>\n",
       "    </tr>\n",
       "    <tr>\n",
       "      <th>2</th>\n",
       "      <td>False</td>\n",
       "      <td>False</td>\n",
       "      <td>False</td>\n",
       "      <td>False</td>\n",
       "      <td>False</td>\n",
       "      <td>False</td>\n",
       "      <td>False</td>\n",
       "      <td>False</td>\n",
       "      <td>True</td>\n",
       "      <td>False</td>\n",
       "    </tr>\n",
       "    <tr>\n",
       "      <th>3</th>\n",
       "      <td>False</td>\n",
       "      <td>False</td>\n",
       "      <td>False</td>\n",
       "      <td>False</td>\n",
       "      <td>False</td>\n",
       "      <td>False</td>\n",
       "      <td>False</td>\n",
       "      <td>False</td>\n",
       "      <td>False</td>\n",
       "      <td>False</td>\n",
       "    </tr>\n",
       "    <tr>\n",
       "      <th>4</th>\n",
       "      <td>False</td>\n",
       "      <td>False</td>\n",
       "      <td>False</td>\n",
       "      <td>False</td>\n",
       "      <td>False</td>\n",
       "      <td>False</td>\n",
       "      <td>False</td>\n",
       "      <td>False</td>\n",
       "      <td>False</td>\n",
       "      <td>False</td>\n",
       "    </tr>\n",
       "    <tr>\n",
       "      <th>...</th>\n",
       "      <td>...</td>\n",
       "      <td>...</td>\n",
       "      <td>...</td>\n",
       "      <td>...</td>\n",
       "      <td>...</td>\n",
       "      <td>...</td>\n",
       "      <td>...</td>\n",
       "      <td>...</td>\n",
       "      <td>...</td>\n",
       "      <td>...</td>\n",
       "    </tr>\n",
       "    <tr>\n",
       "      <th>95</th>\n",
       "      <td>False</td>\n",
       "      <td>False</td>\n",
       "      <td>False</td>\n",
       "      <td>False</td>\n",
       "      <td>False</td>\n",
       "      <td>False</td>\n",
       "      <td>False</td>\n",
       "      <td>False</td>\n",
       "      <td>False</td>\n",
       "      <td>False</td>\n",
       "    </tr>\n",
       "    <tr>\n",
       "      <th>96</th>\n",
       "      <td>False</td>\n",
       "      <td>False</td>\n",
       "      <td>False</td>\n",
       "      <td>False</td>\n",
       "      <td>False</td>\n",
       "      <td>False</td>\n",
       "      <td>False</td>\n",
       "      <td>False</td>\n",
       "      <td>False</td>\n",
       "      <td>False</td>\n",
       "    </tr>\n",
       "    <tr>\n",
       "      <th>97</th>\n",
       "      <td>False</td>\n",
       "      <td>False</td>\n",
       "      <td>False</td>\n",
       "      <td>False</td>\n",
       "      <td>False</td>\n",
       "      <td>False</td>\n",
       "      <td>False</td>\n",
       "      <td>False</td>\n",
       "      <td>False</td>\n",
       "      <td>False</td>\n",
       "    </tr>\n",
       "    <tr>\n",
       "      <th>98</th>\n",
       "      <td>False</td>\n",
       "      <td>False</td>\n",
       "      <td>False</td>\n",
       "      <td>False</td>\n",
       "      <td>False</td>\n",
       "      <td>False</td>\n",
       "      <td>False</td>\n",
       "      <td>False</td>\n",
       "      <td>False</td>\n",
       "      <td>False</td>\n",
       "    </tr>\n",
       "    <tr>\n",
       "      <th>99</th>\n",
       "      <td>False</td>\n",
       "      <td>False</td>\n",
       "      <td>False</td>\n",
       "      <td>False</td>\n",
       "      <td>False</td>\n",
       "      <td>False</td>\n",
       "      <td>False</td>\n",
       "      <td>False</td>\n",
       "      <td>False</td>\n",
       "      <td>False</td>\n",
       "    </tr>\n",
       "  </tbody>\n",
       "</table>\n",
       "<p>100 rows × 10 columns</p>\n",
       "</div>"
      ],
      "text/plain": [
       "      Age  Weight  Salary  Birthdate  Hire date  Gender  Marital Status  \\\n",
       "0   False   False   False      False      False   False           False   \n",
       "1   False   False   False      False      False   False           False   \n",
       "2   False   False   False      False      False   False           False   \n",
       "3   False   False   False      False      False   False           False   \n",
       "4   False   False   False      False      False   False           False   \n",
       "..    ...     ...     ...        ...        ...     ...             ...   \n",
       "95  False   False   False      False      False   False           False   \n",
       "96  False   False   False      False      False   False           False   \n",
       "97  False   False   False      False      False   False           False   \n",
       "98  False   False   False      False      False   False           False   \n",
       "99  False   False   False      False      False   False           False   \n",
       "\n",
       "    Occupation  Favorite Color  Rating  \n",
       "0        False            True   False  \n",
       "1        False            True   False  \n",
       "2        False            True   False  \n",
       "3        False           False   False  \n",
       "4        False           False   False  \n",
       "..         ...             ...     ...  \n",
       "95       False           False   False  \n",
       "96       False           False   False  \n",
       "97       False           False   False  \n",
       "98       False           False   False  \n",
       "99       False           False   False  \n",
       "\n",
       "[100 rows x 10 columns]"
      ]
     },
     "execution_count": 8,
     "metadata": {},
     "output_type": "execute_result"
    }
   ],
   "source": [
    "df1.isin(mylist)"
   ]
  },
  {
   "cell_type": "markdown",
   "id": "ed868a42",
   "metadata": {},
   "source": [
    "### To check if any of the columns contain true, we use any().any() with boolean mask"
   ]
  },
  {
   "cell_type": "code",
   "execution_count": 9,
   "id": "bec6bec6",
   "metadata": {},
   "outputs": [
    {
     "data": {
      "text/plain": [
       "True"
      ]
     },
     "execution_count": 9,
     "metadata": {},
     "output_type": "execute_result"
    }
   ],
   "source": [
    "df1.isin(mylist).any().any()"
   ]
  },
  {
   "cell_type": "markdown",
   "id": "f316d792",
   "metadata": {},
   "source": [
    "### To check which column has these true values we use any() with boolean mask"
   ]
  },
  {
   "cell_type": "code",
   "execution_count": 10,
   "id": "631af1fc",
   "metadata": {},
   "outputs": [
    {
     "data": {
      "text/plain": [
       "Age               False\n",
       "Weight            False\n",
       "Salary            False\n",
       "Birthdate         False\n",
       "Hire date         False\n",
       "Gender            False\n",
       "Marital Status    False\n",
       "Occupation        False\n",
       "Favorite Color     True\n",
       "Rating            False\n",
       "dtype: bool"
      ]
     },
     "execution_count": 10,
     "metadata": {},
     "output_type": "execute_result"
    }
   ],
   "source": [
    "df1.isin(mylist).any()"
   ]
  },
  {
   "cell_type": "markdown",
   "id": "c850faf6",
   "metadata": {},
   "source": [
    "### to check the Total Number of true values, we use sum().sum() with boolean mask"
   ]
  },
  {
   "cell_type": "code",
   "execution_count": 11,
   "id": "ce37311b",
   "metadata": {},
   "outputs": [
    {
     "data": {
      "text/plain": [
       "4"
      ]
     },
     "execution_count": 11,
     "metadata": {},
     "output_type": "execute_result"
    }
   ],
   "source": [
    "df1.isin(mylist).sum().sum()"
   ]
  },
  {
   "cell_type": "markdown",
   "id": "f65978a6",
   "metadata": {},
   "source": [
    "### To check how many of these true values each column contains, we use sum() with boolean mask"
   ]
  },
  {
   "cell_type": "code",
   "execution_count": 12,
   "id": "23c3c35a",
   "metadata": {},
   "outputs": [
    {
     "data": {
      "text/plain": [
       "Age               0\n",
       "Weight            0\n",
       "Salary            0\n",
       "Birthdate         0\n",
       "Hire date         0\n",
       "Gender            0\n",
       "Marital Status    0\n",
       "Occupation        0\n",
       "Favorite Color    4\n",
       "Rating            0\n",
       "dtype: int64"
      ]
     },
     "execution_count": 12,
     "metadata": {},
     "output_type": "execute_result"
    }
   ],
   "source": [
    "df1.isin(mylist).sum()"
   ]
  },
  {
   "cell_type": "markdown",
   "id": "8fc3cb3d",
   "metadata": {},
   "source": [
    "### To find the rows with these values, we  use .any(axis=1) with boolean mask"
   ]
  },
  {
   "cell_type": "code",
   "execution_count": 13,
   "id": "71e8fa10",
   "metadata": {},
   "outputs": [
    {
     "data": {
      "text/html": [
       "<div>\n",
       "<style scoped>\n",
       "    .dataframe tbody tr th:only-of-type {\n",
       "        vertical-align: middle;\n",
       "    }\n",
       "\n",
       "    .dataframe tbody tr th {\n",
       "        vertical-align: top;\n",
       "    }\n",
       "\n",
       "    .dataframe thead th {\n",
       "        text-align: right;\n",
       "    }\n",
       "</style>\n",
       "<table border=\"1\" class=\"dataframe\">\n",
       "  <thead>\n",
       "    <tr style=\"text-align: right;\">\n",
       "      <th></th>\n",
       "      <th>Age</th>\n",
       "      <th>Weight</th>\n",
       "      <th>Salary</th>\n",
       "      <th>Birthdate</th>\n",
       "      <th>Hire date</th>\n",
       "      <th>Gender</th>\n",
       "      <th>Marital Status</th>\n",
       "      <th>Occupation</th>\n",
       "      <th>Favorite Color</th>\n",
       "      <th>Rating</th>\n",
       "    </tr>\n",
       "  </thead>\n",
       "  <tbody>\n",
       "    <tr>\n",
       "      <th>0</th>\n",
       "      <td>54</td>\n",
       "      <td>109</td>\n",
       "      <td>148961</td>\n",
       "      <td>2008-06-16</td>\n",
       "      <td>2017-12-30</td>\n",
       "      <td>female</td>\n",
       "      <td>married</td>\n",
       "      <td>lawyer</td>\n",
       "      <td>green</td>\n",
       "      <td>medium</td>\n",
       "    </tr>\n",
       "    <tr>\n",
       "      <th>1</th>\n",
       "      <td>40</td>\n",
       "      <td>149</td>\n",
       "      <td>58164</td>\n",
       "      <td>2005-10-08</td>\n",
       "      <td>2008-03-16</td>\n",
       "      <td>NaN</td>\n",
       "      <td>NaN</td>\n",
       "      <td>doctor</td>\n",
       "      <td>blue</td>\n",
       "      <td>low</td>\n",
       "    </tr>\n",
       "    <tr>\n",
       "      <th>2</th>\n",
       "      <td>40</td>\n",
       "      <td>214</td>\n",
       "      <td>139417</td>\n",
       "      <td>2010-05-20</td>\n",
       "      <td>2000-05-26</td>\n",
       "      <td>male</td>\n",
       "      <td>NaN</td>\n",
       "      <td>engineer</td>\n",
       "      <td>green</td>\n",
       "      <td>high</td>\n",
       "    </tr>\n",
       "    <tr>\n",
       "      <th>15</th>\n",
       "      <td>46</td>\n",
       "      <td>107</td>\n",
       "      <td>52128</td>\n",
       "      <td>2000-02-21</td>\n",
       "      <td>2005-12-26</td>\n",
       "      <td>NaN</td>\n",
       "      <td>NaN</td>\n",
       "      <td>NaN</td>\n",
       "      <td>blue</td>\n",
       "      <td>medium</td>\n",
       "    </tr>\n",
       "  </tbody>\n",
       "</table>\n",
       "</div>"
      ],
      "text/plain": [
       "    Age  Weight  Salary  Birthdate  Hire date  Gender Marital Status  \\\n",
       "0    54     109  148961 2008-06-16 2017-12-30  female        married   \n",
       "1    40     149   58164 2005-10-08 2008-03-16     NaN            NaN   \n",
       "2    40     214  139417 2010-05-20 2000-05-26    male            NaN   \n",
       "15   46     107   52128 2000-02-21 2005-12-26     NaN            NaN   \n",
       "\n",
       "   Occupation Favorite Color  Rating  \n",
       "0      lawyer          green  medium  \n",
       "1      doctor           blue     low  \n",
       "2    engineer          green    high  \n",
       "15        NaN           blue  medium  "
      ]
     },
     "execution_count": 13,
     "metadata": {},
     "output_type": "execute_result"
    }
   ],
   "source": [
    "df1[df1.isin(mylist).any(axis=1)]"
   ]
  },
  {
   "cell_type": "markdown",
   "id": "c141a044",
   "metadata": {},
   "source": [
    "# Task 2: Find the Duplicate Rows in a Dataframe\n",
    "\n",
    "## Subtask 1.: Create and insert a duplicate row"
   ]
  },
  {
   "cell_type": "code",
   "execution_count": 14,
   "id": "a8fb71e1",
   "metadata": {},
   "outputs": [
    {
     "data": {
      "text/html": [
       "<div>\n",
       "<style scoped>\n",
       "    .dataframe tbody tr th:only-of-type {\n",
       "        vertical-align: middle;\n",
       "    }\n",
       "\n",
       "    .dataframe tbody tr th {\n",
       "        vertical-align: top;\n",
       "    }\n",
       "\n",
       "    .dataframe thead th {\n",
       "        text-align: right;\n",
       "    }\n",
       "</style>\n",
       "<table border=\"1\" class=\"dataframe\">\n",
       "  <thead>\n",
       "    <tr style=\"text-align: right;\">\n",
       "      <th></th>\n",
       "      <th>Age</th>\n",
       "      <th>Weight</th>\n",
       "      <th>Salary</th>\n",
       "      <th>Birthdate</th>\n",
       "      <th>Hire date</th>\n",
       "      <th>Gender</th>\n",
       "      <th>Marital Status</th>\n",
       "      <th>Occupation</th>\n",
       "      <th>Favorite Color</th>\n",
       "      <th>Rating</th>\n",
       "    </tr>\n",
       "  </thead>\n",
       "  <tbody>\n",
       "    <tr>\n",
       "      <th>0</th>\n",
       "      <td>54</td>\n",
       "      <td>109</td>\n",
       "      <td>148961</td>\n",
       "      <td>2008-06-16</td>\n",
       "      <td>2017-12-30</td>\n",
       "      <td>Female</td>\n",
       "      <td>Married</td>\n",
       "      <td>Lawyer</td>\n",
       "      <td>Green</td>\n",
       "      <td>medium</td>\n",
       "    </tr>\n",
       "    <tr>\n",
       "      <th>1</th>\n",
       "      <td>40</td>\n",
       "      <td>149</td>\n",
       "      <td>58164</td>\n",
       "      <td>2005-10-08</td>\n",
       "      <td>2008-03-16</td>\n",
       "      <td>Female</td>\n",
       "      <td>Married</td>\n",
       "      <td>Doctor</td>\n",
       "      <td>Red</td>\n",
       "      <td>low</td>\n",
       "    </tr>\n",
       "    <tr>\n",
       "      <th>2</th>\n",
       "      <td>40</td>\n",
       "      <td>214</td>\n",
       "      <td>139417</td>\n",
       "      <td>2010-05-20</td>\n",
       "      <td>2000-05-26</td>\n",
       "      <td>Male</td>\n",
       "      <td>Married</td>\n",
       "      <td>Engineer</td>\n",
       "      <td>Green</td>\n",
       "      <td>high</td>\n",
       "    </tr>\n",
       "    <tr>\n",
       "      <th>3</th>\n",
       "      <td>57</td>\n",
       "      <td>156</td>\n",
       "      <td>109396</td>\n",
       "      <td>2021-02-15</td>\n",
       "      <td>1998-03-28</td>\n",
       "      <td>Male</td>\n",
       "      <td>Married</td>\n",
       "      <td>Lawyer</td>\n",
       "      <td>Red</td>\n",
       "      <td>medium</td>\n",
       "    </tr>\n",
       "    <tr>\n",
       "      <th>4</th>\n",
       "      <td>64</td>\n",
       "      <td>238</td>\n",
       "      <td>131711</td>\n",
       "      <td>2011-05-05</td>\n",
       "      <td>1996-11-16</td>\n",
       "      <td>Female</td>\n",
       "      <td>Single</td>\n",
       "      <td>Doctor</td>\n",
       "      <td>Green</td>\n",
       "      <td>low</td>\n",
       "    </tr>\n",
       "    <tr>\n",
       "      <th>...</th>\n",
       "      <td>...</td>\n",
       "      <td>...</td>\n",
       "      <td>...</td>\n",
       "      <td>...</td>\n",
       "      <td>...</td>\n",
       "      <td>...</td>\n",
       "      <td>...</td>\n",
       "      <td>...</td>\n",
       "      <td>...</td>\n",
       "      <td>...</td>\n",
       "    </tr>\n",
       "    <tr>\n",
       "      <th>96</th>\n",
       "      <td>24</td>\n",
       "      <td>248</td>\n",
       "      <td>100133</td>\n",
       "      <td>1997-10-06</td>\n",
       "      <td>2016-05-21</td>\n",
       "      <td>Male</td>\n",
       "      <td>Married</td>\n",
       "      <td>Doctor</td>\n",
       "      <td>Blue</td>\n",
       "      <td>high</td>\n",
       "    </tr>\n",
       "    <tr>\n",
       "      <th>97</th>\n",
       "      <td>25</td>\n",
       "      <td>227</td>\n",
       "      <td>98982</td>\n",
       "      <td>2009-09-23</td>\n",
       "      <td>2008-12-05</td>\n",
       "      <td>Male</td>\n",
       "      <td>Married</td>\n",
       "      <td>Engineer</td>\n",
       "      <td>Yellow</td>\n",
       "      <td>medium</td>\n",
       "    </tr>\n",
       "    <tr>\n",
       "      <th>98</th>\n",
       "      <td>59</td>\n",
       "      <td>173</td>\n",
       "      <td>97144</td>\n",
       "      <td>2017-01-30</td>\n",
       "      <td>2016-09-12</td>\n",
       "      <td>Female</td>\n",
       "      <td>Married</td>\n",
       "      <td>Lawyer</td>\n",
       "      <td>Blue</td>\n",
       "      <td>medium</td>\n",
       "    </tr>\n",
       "    <tr>\n",
       "      <th>99</th>\n",
       "      <td>57</td>\n",
       "      <td>166</td>\n",
       "      <td>118994</td>\n",
       "      <td>2014-06-30</td>\n",
       "      <td>2020-07-08</td>\n",
       "      <td>Female</td>\n",
       "      <td>Single</td>\n",
       "      <td>Doctor</td>\n",
       "      <td>Red</td>\n",
       "      <td>low</td>\n",
       "    </tr>\n",
       "    <tr>\n",
       "      <th>100</th>\n",
       "      <td>40</td>\n",
       "      <td>149</td>\n",
       "      <td>58164</td>\n",
       "      <td>2005-10-08</td>\n",
       "      <td>2008-03-16</td>\n",
       "      <td>Female</td>\n",
       "      <td>Married</td>\n",
       "      <td>Doctor</td>\n",
       "      <td>Red</td>\n",
       "      <td>low</td>\n",
       "    </tr>\n",
       "  </tbody>\n",
       "</table>\n",
       "<p>101 rows × 10 columns</p>\n",
       "</div>"
      ],
      "text/plain": [
       "     Age  Weight  Salary  Birthdate  Hire date  Gender Marital Status  \\\n",
       "0     54     109  148961 2008-06-16 2017-12-30  Female        Married   \n",
       "1     40     149   58164 2005-10-08 2008-03-16  Female        Married   \n",
       "2     40     214  139417 2010-05-20 2000-05-26    Male        Married   \n",
       "3     57     156  109396 2021-02-15 1998-03-28    Male        Married   \n",
       "4     64     238  131711 2011-05-05 1996-11-16  Female         Single   \n",
       "..   ...     ...     ...        ...        ...     ...            ...   \n",
       "96    24     248  100133 1997-10-06 2016-05-21    Male        Married   \n",
       "97    25     227   98982 2009-09-23 2008-12-05    Male        Married   \n",
       "98    59     173   97144 2017-01-30 2016-09-12  Female        Married   \n",
       "99    57     166  118994 2014-06-30 2020-07-08  Female         Single   \n",
       "100   40     149   58164 2005-10-08 2008-03-16  Female        Married   \n",
       "\n",
       "    Occupation Favorite Color  Rating  \n",
       "0       Lawyer          Green  medium  \n",
       "1       Doctor            Red     low  \n",
       "2     Engineer          Green    high  \n",
       "3       Lawyer            Red  medium  \n",
       "4       Doctor          Green     low  \n",
       "..         ...            ...     ...  \n",
       "96      Doctor           Blue    high  \n",
       "97    Engineer         Yellow  medium  \n",
       "98      Lawyer           Blue  medium  \n",
       "99      Doctor            Red     low  \n",
       "100     Doctor            Red     low  \n",
       "\n",
       "[101 rows x 10 columns]"
      ]
     },
     "execution_count": 14,
     "metadata": {},
     "output_type": "execute_result"
    }
   ],
   "source": [
    "# How to copy the second row and append it at the end\n",
    "df2=df.copy()\n",
    "df2.loc[df2.shape[0]]=df2.loc[1]\n",
    "df2"
   ]
  },
  {
   "cell_type": "markdown",
   "id": "a4c4d41b",
   "metadata": {},
   "source": [
    "## Subtask 2: Discovering Duplicate Rows"
   ]
  },
  {
   "cell_type": "code",
   "execution_count": 15,
   "id": "fff880e3",
   "metadata": {
    "scrolled": true
   },
   "outputs": [
    {
     "data": {
      "text/plain": [
       "0      False\n",
       "1       True\n",
       "2      False\n",
       "3      False\n",
       "4      False\n",
       "       ...  \n",
       "96     False\n",
       "97     False\n",
       "98     False\n",
       "99     False\n",
       "100     True\n",
       "Length: 101, dtype: bool"
      ]
     },
     "execution_count": 15,
     "metadata": {},
     "output_type": "execute_result"
    }
   ],
   "source": [
    "duplicated_rows = df2.duplicated(keep=False)\n",
    "duplicated_rows"
   ]
  },
  {
   "cell_type": "code",
   "execution_count": 16,
   "id": "14128848",
   "metadata": {},
   "outputs": [
    {
     "data": {
      "text/plain": [
       "True"
      ]
     },
     "execution_count": 16,
     "metadata": {},
     "output_type": "execute_result"
    }
   ],
   "source": [
    "duplicated_rows.any().any()"
   ]
  },
  {
   "cell_type": "code",
   "execution_count": 17,
   "id": "212311e8",
   "metadata": {},
   "outputs": [
    {
     "data": {
      "text/plain": [
       "True"
      ]
     },
     "execution_count": 17,
     "metadata": {},
     "output_type": "execute_result"
    }
   ],
   "source": [
    "duplicated_rows.any()"
   ]
  },
  {
   "cell_type": "code",
   "execution_count": 18,
   "id": "a596497b",
   "metadata": {},
   "outputs": [
    {
     "data": {
      "text/plain": [
       "2"
      ]
     },
     "execution_count": 18,
     "metadata": {},
     "output_type": "execute_result"
    }
   ],
   "source": [
    "duplicated_rows.sum().sum()"
   ]
  },
  {
   "cell_type": "code",
   "execution_count": 19,
   "id": "e660ef28",
   "metadata": {},
   "outputs": [
    {
     "data": {
      "text/plain": [
       "2"
      ]
     },
     "execution_count": 19,
     "metadata": {},
     "output_type": "execute_result"
    }
   ],
   "source": [
    "duplicated_rows.sum()"
   ]
  },
  {
   "cell_type": "code",
   "execution_count": 20,
   "id": "4200840e",
   "metadata": {},
   "outputs": [
    {
     "data": {
      "text/html": [
       "<div>\n",
       "<style scoped>\n",
       "    .dataframe tbody tr th:only-of-type {\n",
       "        vertical-align: middle;\n",
       "    }\n",
       "\n",
       "    .dataframe tbody tr th {\n",
       "        vertical-align: top;\n",
       "    }\n",
       "\n",
       "    .dataframe thead th {\n",
       "        text-align: right;\n",
       "    }\n",
       "</style>\n",
       "<table border=\"1\" class=\"dataframe\">\n",
       "  <thead>\n",
       "    <tr style=\"text-align: right;\">\n",
       "      <th></th>\n",
       "      <th>Age</th>\n",
       "      <th>Weight</th>\n",
       "      <th>Salary</th>\n",
       "      <th>Birthdate</th>\n",
       "      <th>Hire date</th>\n",
       "      <th>Gender</th>\n",
       "      <th>Marital Status</th>\n",
       "      <th>Occupation</th>\n",
       "      <th>Favorite Color</th>\n",
       "      <th>Rating</th>\n",
       "    </tr>\n",
       "  </thead>\n",
       "  <tbody>\n",
       "    <tr>\n",
       "      <th>1</th>\n",
       "      <td>40</td>\n",
       "      <td>149</td>\n",
       "      <td>58164</td>\n",
       "      <td>2005-10-08</td>\n",
       "      <td>2008-03-16</td>\n",
       "      <td>Female</td>\n",
       "      <td>Married</td>\n",
       "      <td>Doctor</td>\n",
       "      <td>Red</td>\n",
       "      <td>low</td>\n",
       "    </tr>\n",
       "    <tr>\n",
       "      <th>100</th>\n",
       "      <td>40</td>\n",
       "      <td>149</td>\n",
       "      <td>58164</td>\n",
       "      <td>2005-10-08</td>\n",
       "      <td>2008-03-16</td>\n",
       "      <td>Female</td>\n",
       "      <td>Married</td>\n",
       "      <td>Doctor</td>\n",
       "      <td>Red</td>\n",
       "      <td>low</td>\n",
       "    </tr>\n",
       "  </tbody>\n",
       "</table>\n",
       "</div>"
      ],
      "text/plain": [
       "     Age  Weight  Salary  Birthdate  Hire date  Gender Marital Status  \\\n",
       "1     40     149   58164 2005-10-08 2008-03-16  Female        Married   \n",
       "100   40     149   58164 2005-10-08 2008-03-16  Female        Married   \n",
       "\n",
       "    Occupation Favorite Color Rating  \n",
       "1       Doctor            Red    low  \n",
       "100     Doctor            Red    low  "
      ]
     },
     "execution_count": 20,
     "metadata": {},
     "output_type": "execute_result"
    }
   ],
   "source": [
    "df2[duplicated_rows]"
   ]
  },
  {
   "cell_type": "markdown",
   "id": "b888f42a",
   "metadata": {},
   "source": [
    "# Task 3: Find the Outliers in a Dataframe\n",
    "\n",
    "## Subtask 1.: Create and insert outliers\n",
    "\n",
    "To create an outlier, we first convert the 100th row into a dictionary and then change the values in the numeric keys of the dictionary"
   ]
  },
  {
   "cell_type": "code",
   "execution_count": 21,
   "id": "8f7e98da",
   "metadata": {},
   "outputs": [
    {
     "data": {
      "text/plain": [
       "{'Age': 57,\n",
       " 'Weight': 166,\n",
       " 'Salary': 118994,\n",
       " 'Birthdate': Timestamp('2014-06-30 00:00:00'),\n",
       " 'Hire date': Timestamp('2020-07-08 00:00:00'),\n",
       " 'Gender': 'Female',\n",
       " 'Marital Status': 'Single',\n",
       " 'Occupation': 'Doctor',\n",
       " 'Favorite Color': 'Red',\n",
       " 'Rating': 'low'}"
      ]
     },
     "execution_count": 21,
     "metadata": {},
     "output_type": "execute_result"
    }
   ],
   "source": [
    "df3=df.copy()\n",
    "a = df3.loc[99].to_dict()\n",
    "a"
   ]
  },
  {
   "cell_type": "markdown",
   "id": "b55f10a9",
   "metadata": {},
   "source": [
    "Now we change the numeric values to the outliers"
   ]
  },
  {
   "cell_type": "code",
   "execution_count": 22,
   "id": "01dda660",
   "metadata": {},
   "outputs": [],
   "source": [
    "from pandas import Timestamp\n",
    "b={'Age': 128,\n",
    " 'Weight': 1199,\n",
    " 'Salary': 134609,\n",
    " 'Birthdate': Timestamp('2012-02-11 00:00:00'),\n",
    " 'Hire date': Timestamp('2006-11-10 00:00:00'),\n",
    " 'Gender': 'Female',\n",
    " 'Marital Status': 'Single',\n",
    " 'Occupation': 'Doctor',\n",
    " 'Favorite Color': 'Red',\n",
    " 'Rating': 'medium'}"
   ]
  },
  {
   "cell_type": "markdown",
   "id": "91894a1a",
   "metadata": {},
   "source": [
    "Appending Back to the dataframe"
   ]
  },
  {
   "cell_type": "code",
   "execution_count": 23,
   "id": "c96f3863",
   "metadata": {},
   "outputs": [
    {
     "data": {
      "text/html": [
       "<div>\n",
       "<style scoped>\n",
       "    .dataframe tbody tr th:only-of-type {\n",
       "        vertical-align: middle;\n",
       "    }\n",
       "\n",
       "    .dataframe tbody tr th {\n",
       "        vertical-align: top;\n",
       "    }\n",
       "\n",
       "    .dataframe thead th {\n",
       "        text-align: right;\n",
       "    }\n",
       "</style>\n",
       "<table border=\"1\" class=\"dataframe\">\n",
       "  <thead>\n",
       "    <tr style=\"text-align: right;\">\n",
       "      <th></th>\n",
       "      <th>Age</th>\n",
       "      <th>Weight</th>\n",
       "      <th>Salary</th>\n",
       "      <th>Birthdate</th>\n",
       "      <th>Hire date</th>\n",
       "      <th>Gender</th>\n",
       "      <th>Marital Status</th>\n",
       "      <th>Occupation</th>\n",
       "      <th>Favorite Color</th>\n",
       "      <th>Rating</th>\n",
       "    </tr>\n",
       "  </thead>\n",
       "  <tbody>\n",
       "    <tr>\n",
       "      <th>0</th>\n",
       "      <td>54</td>\n",
       "      <td>109</td>\n",
       "      <td>148961</td>\n",
       "      <td>2008-06-16</td>\n",
       "      <td>2017-12-30</td>\n",
       "      <td>Female</td>\n",
       "      <td>Married</td>\n",
       "      <td>Lawyer</td>\n",
       "      <td>Green</td>\n",
       "      <td>medium</td>\n",
       "    </tr>\n",
       "    <tr>\n",
       "      <th>1</th>\n",
       "      <td>40</td>\n",
       "      <td>149</td>\n",
       "      <td>58164</td>\n",
       "      <td>2005-10-08</td>\n",
       "      <td>2008-03-16</td>\n",
       "      <td>Female</td>\n",
       "      <td>Married</td>\n",
       "      <td>Doctor</td>\n",
       "      <td>Red</td>\n",
       "      <td>low</td>\n",
       "    </tr>\n",
       "    <tr>\n",
       "      <th>2</th>\n",
       "      <td>40</td>\n",
       "      <td>214</td>\n",
       "      <td>139417</td>\n",
       "      <td>2010-05-20</td>\n",
       "      <td>2000-05-26</td>\n",
       "      <td>Male</td>\n",
       "      <td>Married</td>\n",
       "      <td>Engineer</td>\n",
       "      <td>Green</td>\n",
       "      <td>high</td>\n",
       "    </tr>\n",
       "    <tr>\n",
       "      <th>3</th>\n",
       "      <td>57</td>\n",
       "      <td>156</td>\n",
       "      <td>109396</td>\n",
       "      <td>2021-02-15</td>\n",
       "      <td>1998-03-28</td>\n",
       "      <td>Male</td>\n",
       "      <td>Married</td>\n",
       "      <td>Lawyer</td>\n",
       "      <td>Red</td>\n",
       "      <td>medium</td>\n",
       "    </tr>\n",
       "    <tr>\n",
       "      <th>4</th>\n",
       "      <td>64</td>\n",
       "      <td>238</td>\n",
       "      <td>131711</td>\n",
       "      <td>2011-05-05</td>\n",
       "      <td>1996-11-16</td>\n",
       "      <td>Female</td>\n",
       "      <td>Single</td>\n",
       "      <td>Doctor</td>\n",
       "      <td>Green</td>\n",
       "      <td>low</td>\n",
       "    </tr>\n",
       "    <tr>\n",
       "      <th>...</th>\n",
       "      <td>...</td>\n",
       "      <td>...</td>\n",
       "      <td>...</td>\n",
       "      <td>...</td>\n",
       "      <td>...</td>\n",
       "      <td>...</td>\n",
       "      <td>...</td>\n",
       "      <td>...</td>\n",
       "      <td>...</td>\n",
       "      <td>...</td>\n",
       "    </tr>\n",
       "    <tr>\n",
       "      <th>96</th>\n",
       "      <td>24</td>\n",
       "      <td>248</td>\n",
       "      <td>100133</td>\n",
       "      <td>1997-10-06</td>\n",
       "      <td>2016-05-21</td>\n",
       "      <td>Male</td>\n",
       "      <td>Married</td>\n",
       "      <td>Doctor</td>\n",
       "      <td>Blue</td>\n",
       "      <td>high</td>\n",
       "    </tr>\n",
       "    <tr>\n",
       "      <th>97</th>\n",
       "      <td>25</td>\n",
       "      <td>227</td>\n",
       "      <td>98982</td>\n",
       "      <td>2009-09-23</td>\n",
       "      <td>2008-12-05</td>\n",
       "      <td>Male</td>\n",
       "      <td>Married</td>\n",
       "      <td>Engineer</td>\n",
       "      <td>Yellow</td>\n",
       "      <td>medium</td>\n",
       "    </tr>\n",
       "    <tr>\n",
       "      <th>98</th>\n",
       "      <td>59</td>\n",
       "      <td>173</td>\n",
       "      <td>97144</td>\n",
       "      <td>2017-01-30</td>\n",
       "      <td>2016-09-12</td>\n",
       "      <td>Female</td>\n",
       "      <td>Married</td>\n",
       "      <td>Lawyer</td>\n",
       "      <td>Blue</td>\n",
       "      <td>medium</td>\n",
       "    </tr>\n",
       "    <tr>\n",
       "      <th>99</th>\n",
       "      <td>57</td>\n",
       "      <td>166</td>\n",
       "      <td>118994</td>\n",
       "      <td>2014-06-30</td>\n",
       "      <td>2020-07-08</td>\n",
       "      <td>Female</td>\n",
       "      <td>Single</td>\n",
       "      <td>Doctor</td>\n",
       "      <td>Red</td>\n",
       "      <td>low</td>\n",
       "    </tr>\n",
       "    <tr>\n",
       "      <th>100</th>\n",
       "      <td>128</td>\n",
       "      <td>1199</td>\n",
       "      <td>134609</td>\n",
       "      <td>2012-02-11</td>\n",
       "      <td>2006-11-10</td>\n",
       "      <td>Female</td>\n",
       "      <td>Single</td>\n",
       "      <td>Doctor</td>\n",
       "      <td>Red</td>\n",
       "      <td>medium</td>\n",
       "    </tr>\n",
       "  </tbody>\n",
       "</table>\n",
       "<p>101 rows × 10 columns</p>\n",
       "</div>"
      ],
      "text/plain": [
       "     Age  Weight  Salary  Birthdate  Hire date  Gender Marital Status  \\\n",
       "0     54     109  148961 2008-06-16 2017-12-30  Female        Married   \n",
       "1     40     149   58164 2005-10-08 2008-03-16  Female        Married   \n",
       "2     40     214  139417 2010-05-20 2000-05-26    Male        Married   \n",
       "3     57     156  109396 2021-02-15 1998-03-28    Male        Married   \n",
       "4     64     238  131711 2011-05-05 1996-11-16  Female         Single   \n",
       "..   ...     ...     ...        ...        ...     ...            ...   \n",
       "96    24     248  100133 1997-10-06 2016-05-21    Male        Married   \n",
       "97    25     227   98982 2009-09-23 2008-12-05    Male        Married   \n",
       "98    59     173   97144 2017-01-30 2016-09-12  Female        Married   \n",
       "99    57     166  118994 2014-06-30 2020-07-08  Female         Single   \n",
       "100  128    1199  134609 2012-02-11 2006-11-10  Female         Single   \n",
       "\n",
       "    Occupation Favorite Color  Rating  \n",
       "0       Lawyer          Green  medium  \n",
       "1       Doctor            Red     low  \n",
       "2     Engineer          Green    high  \n",
       "3       Lawyer            Red  medium  \n",
       "4       Doctor          Green     low  \n",
       "..         ...            ...     ...  \n",
       "96      Doctor           Blue    high  \n",
       "97    Engineer         Yellow  medium  \n",
       "98      Lawyer           Blue  medium  \n",
       "99      Doctor            Red     low  \n",
       "100     Doctor            Red  medium  \n",
       "\n",
       "[101 rows x 10 columns]"
      ]
     },
     "execution_count": 23,
     "metadata": {},
     "output_type": "execute_result"
    }
   ],
   "source": [
    "df3.loc[len(df3)]=b\n",
    "df3"
   ]
  },
  {
   "cell_type": "markdown",
   "id": "c019573d",
   "metadata": {},
   "source": [
    "Now we shuffle the dataframe except the first row"
   ]
  },
  {
   "cell_type": "code",
   "execution_count": 24,
   "id": "737edfec",
   "metadata": {},
   "outputs": [
    {
     "data": {
      "text/html": [
       "<div>\n",
       "<style scoped>\n",
       "    .dataframe tbody tr th:only-of-type {\n",
       "        vertical-align: middle;\n",
       "    }\n",
       "\n",
       "    .dataframe tbody tr th {\n",
       "        vertical-align: top;\n",
       "    }\n",
       "\n",
       "    .dataframe thead th {\n",
       "        text-align: right;\n",
       "    }\n",
       "</style>\n",
       "<table border=\"1\" class=\"dataframe\">\n",
       "  <thead>\n",
       "    <tr style=\"text-align: right;\">\n",
       "      <th></th>\n",
       "      <th>Age</th>\n",
       "      <th>Weight</th>\n",
       "      <th>Salary</th>\n",
       "      <th>Birthdate</th>\n",
       "      <th>Hire date</th>\n",
       "      <th>Gender</th>\n",
       "      <th>Marital Status</th>\n",
       "      <th>Occupation</th>\n",
       "      <th>Favorite Color</th>\n",
       "      <th>Rating</th>\n",
       "    </tr>\n",
       "  </thead>\n",
       "  <tbody>\n",
       "    <tr>\n",
       "      <th>0</th>\n",
       "      <td>54</td>\n",
       "      <td>109</td>\n",
       "      <td>148961</td>\n",
       "      <td>2008-06-16</td>\n",
       "      <td>2017-12-30</td>\n",
       "      <td>Female</td>\n",
       "      <td>Married</td>\n",
       "      <td>Lawyer</td>\n",
       "      <td>Green</td>\n",
       "      <td>medium</td>\n",
       "    </tr>\n",
       "    <tr>\n",
       "      <th>1</th>\n",
       "      <td>36</td>\n",
       "      <td>138</td>\n",
       "      <td>100283</td>\n",
       "      <td>2018-08-18</td>\n",
       "      <td>1997-10-19</td>\n",
       "      <td>Male</td>\n",
       "      <td>Married</td>\n",
       "      <td>Doctor</td>\n",
       "      <td>Yellow</td>\n",
       "      <td>medium</td>\n",
       "    </tr>\n",
       "    <tr>\n",
       "      <th>2</th>\n",
       "      <td>29</td>\n",
       "      <td>153</td>\n",
       "      <td>85677</td>\n",
       "      <td>2001-03-21</td>\n",
       "      <td>2010-10-25</td>\n",
       "      <td>Female</td>\n",
       "      <td>Single</td>\n",
       "      <td>Lawyer</td>\n",
       "      <td>Red</td>\n",
       "      <td>high</td>\n",
       "    </tr>\n",
       "    <tr>\n",
       "      <th>3</th>\n",
       "      <td>22</td>\n",
       "      <td>138</td>\n",
       "      <td>147392</td>\n",
       "      <td>1996-05-03</td>\n",
       "      <td>2021-07-02</td>\n",
       "      <td>Male</td>\n",
       "      <td>Single</td>\n",
       "      <td>Doctor</td>\n",
       "      <td>Green</td>\n",
       "      <td>low</td>\n",
       "    </tr>\n",
       "    <tr>\n",
       "      <th>4</th>\n",
       "      <td>50</td>\n",
       "      <td>232</td>\n",
       "      <td>55779</td>\n",
       "      <td>2012-12-09</td>\n",
       "      <td>2015-12-26</td>\n",
       "      <td>Male</td>\n",
       "      <td>Married</td>\n",
       "      <td>Teacher</td>\n",
       "      <td>Green</td>\n",
       "      <td>medium</td>\n",
       "    </tr>\n",
       "    <tr>\n",
       "      <th>...</th>\n",
       "      <td>...</td>\n",
       "      <td>...</td>\n",
       "      <td>...</td>\n",
       "      <td>...</td>\n",
       "      <td>...</td>\n",
       "      <td>...</td>\n",
       "      <td>...</td>\n",
       "      <td>...</td>\n",
       "      <td>...</td>\n",
       "      <td>...</td>\n",
       "    </tr>\n",
       "    <tr>\n",
       "      <th>96</th>\n",
       "      <td>58</td>\n",
       "      <td>199</td>\n",
       "      <td>79999</td>\n",
       "      <td>2008-01-24</td>\n",
       "      <td>2015-07-30</td>\n",
       "      <td>Male</td>\n",
       "      <td>Single</td>\n",
       "      <td>Engineer</td>\n",
       "      <td>Yellow</td>\n",
       "      <td>high</td>\n",
       "    </tr>\n",
       "    <tr>\n",
       "      <th>97</th>\n",
       "      <td>57</td>\n",
       "      <td>166</td>\n",
       "      <td>118994</td>\n",
       "      <td>2014-06-30</td>\n",
       "      <td>2020-07-08</td>\n",
       "      <td>Female</td>\n",
       "      <td>Single</td>\n",
       "      <td>Doctor</td>\n",
       "      <td>Red</td>\n",
       "      <td>low</td>\n",
       "    </tr>\n",
       "    <tr>\n",
       "      <th>98</th>\n",
       "      <td>48</td>\n",
       "      <td>171</td>\n",
       "      <td>53453</td>\n",
       "      <td>2021-01-24</td>\n",
       "      <td>2007-11-16</td>\n",
       "      <td>Male</td>\n",
       "      <td>Married</td>\n",
       "      <td>Engineer</td>\n",
       "      <td>Green</td>\n",
       "      <td>high</td>\n",
       "    </tr>\n",
       "    <tr>\n",
       "      <th>99</th>\n",
       "      <td>128</td>\n",
       "      <td>1199</td>\n",
       "      <td>134609</td>\n",
       "      <td>2012-02-11</td>\n",
       "      <td>2006-11-10</td>\n",
       "      <td>Female</td>\n",
       "      <td>Single</td>\n",
       "      <td>Doctor</td>\n",
       "      <td>Red</td>\n",
       "      <td>medium</td>\n",
       "    </tr>\n",
       "    <tr>\n",
       "      <th>100</th>\n",
       "      <td>63</td>\n",
       "      <td>201</td>\n",
       "      <td>125668</td>\n",
       "      <td>2014-06-13</td>\n",
       "      <td>2018-12-25</td>\n",
       "      <td>Male</td>\n",
       "      <td>Married</td>\n",
       "      <td>Engineer</td>\n",
       "      <td>Yellow</td>\n",
       "      <td>low</td>\n",
       "    </tr>\n",
       "  </tbody>\n",
       "</table>\n",
       "<p>101 rows × 10 columns</p>\n",
       "</div>"
      ],
      "text/plain": [
       "     Age  Weight  Salary  Birthdate  Hire date  Gender Marital Status  \\\n",
       "0     54     109  148961 2008-06-16 2017-12-30  Female        Married   \n",
       "1     36     138  100283 2018-08-18 1997-10-19    Male        Married   \n",
       "2     29     153   85677 2001-03-21 2010-10-25  Female         Single   \n",
       "3     22     138  147392 1996-05-03 2021-07-02    Male         Single   \n",
       "4     50     232   55779 2012-12-09 2015-12-26    Male        Married   \n",
       "..   ...     ...     ...        ...        ...     ...            ...   \n",
       "96    58     199   79999 2008-01-24 2015-07-30    Male         Single   \n",
       "97    57     166  118994 2014-06-30 2020-07-08  Female         Single   \n",
       "98    48     171   53453 2021-01-24 2007-11-16    Male        Married   \n",
       "99   128    1199  134609 2012-02-11 2006-11-10  Female         Single   \n",
       "100   63     201  125668 2014-06-13 2018-12-25    Male        Married   \n",
       "\n",
       "    Occupation Favorite Color  Rating  \n",
       "0       Lawyer          Green  medium  \n",
       "1       Doctor         Yellow  medium  \n",
       "2       Lawyer            Red    high  \n",
       "3       Doctor          Green     low  \n",
       "4      Teacher          Green  medium  \n",
       "..         ...            ...     ...  \n",
       "96    Engineer         Yellow    high  \n",
       "97      Doctor            Red     low  \n",
       "98    Engineer          Green    high  \n",
       "99      Doctor            Red  medium  \n",
       "100   Engineer         Yellow     low  \n",
       "\n",
       "[101 rows x 10 columns]"
      ]
     },
     "execution_count": 24,
     "metadata": {},
     "output_type": "execute_result"
    }
   ],
   "source": [
    "# save the first row\n",
    "row_not_to_shuffle = df3.loc[0]\n",
    "\n",
    "# drop first row, shuffle and reset index\n",
    "df3 = df3.drop(0).sample(frac=1).reset_index(drop=True)\n",
    "\n",
    "# Add saved row back to the dataframe\n",
    "df3 = pd.concat([pd.DataFrame([row_not_to_shuffle]),df3],ignore_index=True)\n",
    "df3"
   ]
  },
  {
   "cell_type": "markdown",
   "id": "e4468ea3",
   "metadata": {},
   "source": [
    "## Subtask2: Discover Outliers"
   ]
  },
  {
   "cell_type": "code",
   "execution_count": 25,
   "id": "df717971",
   "metadata": {},
   "outputs": [
    {
     "data": {
      "text/html": [
       "<div>\n",
       "<style scoped>\n",
       "    .dataframe tbody tr th:only-of-type {\n",
       "        vertical-align: middle;\n",
       "    }\n",
       "\n",
       "    .dataframe tbody tr th {\n",
       "        vertical-align: top;\n",
       "    }\n",
       "\n",
       "    .dataframe thead th {\n",
       "        text-align: right;\n",
       "    }\n",
       "</style>\n",
       "<table border=\"1\" class=\"dataframe\">\n",
       "  <thead>\n",
       "    <tr style=\"text-align: right;\">\n",
       "      <th></th>\n",
       "      <th>Age</th>\n",
       "      <th>Weight</th>\n",
       "      <th>Salary</th>\n",
       "      <th>Birthdate</th>\n",
       "      <th>Hire date</th>\n",
       "      <th>Gender</th>\n",
       "      <th>Marital Status</th>\n",
       "      <th>Occupation</th>\n",
       "      <th>Favorite Color</th>\n",
       "      <th>Rating</th>\n",
       "    </tr>\n",
       "  </thead>\n",
       "  <tbody>\n",
       "    <tr>\n",
       "      <th>0</th>\n",
       "      <td>False</td>\n",
       "      <td>False</td>\n",
       "      <td>False</td>\n",
       "      <td>False</td>\n",
       "      <td>False</td>\n",
       "      <td>False</td>\n",
       "      <td>False</td>\n",
       "      <td>False</td>\n",
       "      <td>False</td>\n",
       "      <td>False</td>\n",
       "    </tr>\n",
       "    <tr>\n",
       "      <th>1</th>\n",
       "      <td>False</td>\n",
       "      <td>False</td>\n",
       "      <td>False</td>\n",
       "      <td>False</td>\n",
       "      <td>False</td>\n",
       "      <td>False</td>\n",
       "      <td>False</td>\n",
       "      <td>False</td>\n",
       "      <td>False</td>\n",
       "      <td>False</td>\n",
       "    </tr>\n",
       "    <tr>\n",
       "      <th>2</th>\n",
       "      <td>False</td>\n",
       "      <td>False</td>\n",
       "      <td>False</td>\n",
       "      <td>False</td>\n",
       "      <td>False</td>\n",
       "      <td>False</td>\n",
       "      <td>False</td>\n",
       "      <td>False</td>\n",
       "      <td>False</td>\n",
       "      <td>False</td>\n",
       "    </tr>\n",
       "    <tr>\n",
       "      <th>3</th>\n",
       "      <td>False</td>\n",
       "      <td>False</td>\n",
       "      <td>False</td>\n",
       "      <td>False</td>\n",
       "      <td>False</td>\n",
       "      <td>False</td>\n",
       "      <td>False</td>\n",
       "      <td>False</td>\n",
       "      <td>False</td>\n",
       "      <td>False</td>\n",
       "    </tr>\n",
       "    <tr>\n",
       "      <th>4</th>\n",
       "      <td>False</td>\n",
       "      <td>False</td>\n",
       "      <td>False</td>\n",
       "      <td>False</td>\n",
       "      <td>False</td>\n",
       "      <td>False</td>\n",
       "      <td>False</td>\n",
       "      <td>False</td>\n",
       "      <td>False</td>\n",
       "      <td>False</td>\n",
       "    </tr>\n",
       "    <tr>\n",
       "      <th>...</th>\n",
       "      <td>...</td>\n",
       "      <td>...</td>\n",
       "      <td>...</td>\n",
       "      <td>...</td>\n",
       "      <td>...</td>\n",
       "      <td>...</td>\n",
       "      <td>...</td>\n",
       "      <td>...</td>\n",
       "      <td>...</td>\n",
       "      <td>...</td>\n",
       "    </tr>\n",
       "    <tr>\n",
       "      <th>96</th>\n",
       "      <td>False</td>\n",
       "      <td>False</td>\n",
       "      <td>False</td>\n",
       "      <td>False</td>\n",
       "      <td>False</td>\n",
       "      <td>False</td>\n",
       "      <td>False</td>\n",
       "      <td>False</td>\n",
       "      <td>False</td>\n",
       "      <td>False</td>\n",
       "    </tr>\n",
       "    <tr>\n",
       "      <th>97</th>\n",
       "      <td>False</td>\n",
       "      <td>False</td>\n",
       "      <td>False</td>\n",
       "      <td>False</td>\n",
       "      <td>False</td>\n",
       "      <td>False</td>\n",
       "      <td>False</td>\n",
       "      <td>False</td>\n",
       "      <td>False</td>\n",
       "      <td>False</td>\n",
       "    </tr>\n",
       "    <tr>\n",
       "      <th>98</th>\n",
       "      <td>False</td>\n",
       "      <td>False</td>\n",
       "      <td>False</td>\n",
       "      <td>False</td>\n",
       "      <td>False</td>\n",
       "      <td>False</td>\n",
       "      <td>False</td>\n",
       "      <td>False</td>\n",
       "      <td>False</td>\n",
       "      <td>False</td>\n",
       "    </tr>\n",
       "    <tr>\n",
       "      <th>99</th>\n",
       "      <td>True</td>\n",
       "      <td>True</td>\n",
       "      <td>False</td>\n",
       "      <td>False</td>\n",
       "      <td>False</td>\n",
       "      <td>False</td>\n",
       "      <td>False</td>\n",
       "      <td>False</td>\n",
       "      <td>False</td>\n",
       "      <td>False</td>\n",
       "    </tr>\n",
       "    <tr>\n",
       "      <th>100</th>\n",
       "      <td>False</td>\n",
       "      <td>False</td>\n",
       "      <td>False</td>\n",
       "      <td>False</td>\n",
       "      <td>False</td>\n",
       "      <td>False</td>\n",
       "      <td>False</td>\n",
       "      <td>False</td>\n",
       "      <td>False</td>\n",
       "      <td>False</td>\n",
       "    </tr>\n",
       "  </tbody>\n",
       "</table>\n",
       "<p>101 rows × 10 columns</p>\n",
       "</div>"
      ],
      "text/plain": [
       "       Age  Weight  Salary  Birthdate  Hire date  Gender  Marital Status  \\\n",
       "0    False   False   False      False      False   False           False   \n",
       "1    False   False   False      False      False   False           False   \n",
       "2    False   False   False      False      False   False           False   \n",
       "3    False   False   False      False      False   False           False   \n",
       "4    False   False   False      False      False   False           False   \n",
       "..     ...     ...     ...        ...        ...     ...             ...   \n",
       "96   False   False   False      False      False   False           False   \n",
       "97   False   False   False      False      False   False           False   \n",
       "98   False   False   False      False      False   False           False   \n",
       "99    True    True   False      False      False   False           False   \n",
       "100  False   False   False      False      False   False           False   \n",
       "\n",
       "     Occupation  Favorite Color  Rating  \n",
       "0         False           False   False  \n",
       "1         False           False   False  \n",
       "2         False           False   False  \n",
       "3         False           False   False  \n",
       "4         False           False   False  \n",
       "..          ...             ...     ...  \n",
       "96        False           False   False  \n",
       "97        False           False   False  \n",
       "98        False           False   False  \n",
       "99        False           False   False  \n",
       "100       False           False   False  \n",
       "\n",
       "[101 rows x 10 columns]"
      ]
     },
     "execution_count": 25,
     "metadata": {},
     "output_type": "execute_result"
    }
   ],
   "source": [
    "from scipy.stats import zscore\n",
    "numeric_cols = df3.select_dtypes(include='number').columns.tolist()\n",
    "\n",
    "# Calculate the z-scores for each value in the numeric columns:\n",
    "z_scores=np.abs(zscore(df3[numeric_cols]))\n",
    "\n",
    "# Create a Boolean mask for the outliers (absolute z score >2)\n",
    "outliers_mask=(abs(z_scores)>3)\n",
    "\n",
    "# Convert the mask to a dataframe with the same column names\n",
    "outliers_df = pd.DataFrame(outliers_mask,columns=numeric_cols)\n",
    "\n",
    "# If you add the mask to the original dataframe for non numeric columns\n",
    "for col in df3.columns:\n",
    "    if col not in numeric_cols:\n",
    "        outliers_df[col]=False\n",
    "outliers_df"
   ]
  },
  {
   "cell_type": "markdown",
   "id": "ff71961d",
   "metadata": {},
   "source": [
    "### To check if any of the columns contain outliers, we use any().any() with boolean mask"
   ]
  },
  {
   "cell_type": "code",
   "execution_count": 26,
   "id": "c0e8f7ea",
   "metadata": {},
   "outputs": [
    {
     "data": {
      "text/plain": [
       "True"
      ]
     },
     "execution_count": 26,
     "metadata": {},
     "output_type": "execute_result"
    }
   ],
   "source": [
    "outliers_df.any().any()"
   ]
  },
  {
   "cell_type": "markdown",
   "id": "169d1555",
   "metadata": {},
   "source": [
    "### To check which column Contain outliers we use any() with boolean mask"
   ]
  },
  {
   "cell_type": "code",
   "execution_count": 27,
   "id": "21ef13b5",
   "metadata": {},
   "outputs": [
    {
     "data": {
      "text/plain": [
       "Age                True\n",
       "Weight             True\n",
       "Salary            False\n",
       "Birthdate         False\n",
       "Hire date         False\n",
       "Gender            False\n",
       "Marital Status    False\n",
       "Occupation        False\n",
       "Favorite Color    False\n",
       "Rating            False\n",
       "dtype: bool"
      ]
     },
     "execution_count": 27,
     "metadata": {},
     "output_type": "execute_result"
    }
   ],
   "source": [
    "outliers_df.any()"
   ]
  },
  {
   "cell_type": "markdown",
   "id": "4d73e229",
   "metadata": {},
   "source": [
    "### to check the Total Number of outliers, we use sum().sum() with boolean mask"
   ]
  },
  {
   "cell_type": "code",
   "execution_count": 28,
   "id": "1f22873a",
   "metadata": {},
   "outputs": [
    {
     "data": {
      "text/plain": [
       "2"
      ]
     },
     "execution_count": 28,
     "metadata": {},
     "output_type": "execute_result"
    }
   ],
   "source": [
    "outliers_df.sum().sum()"
   ]
  },
  {
   "cell_type": "markdown",
   "id": "3f5191f7",
   "metadata": {},
   "source": [
    "### To check how many of outliers each column contains, we use sum() with boolean mask"
   ]
  },
  {
   "cell_type": "code",
   "execution_count": 29,
   "id": "3ba3fa95",
   "metadata": {},
   "outputs": [
    {
     "data": {
      "text/plain": [
       "Age               1\n",
       "Weight            1\n",
       "Salary            0\n",
       "Birthdate         0\n",
       "Hire date         0\n",
       "Gender            0\n",
       "Marital Status    0\n",
       "Occupation        0\n",
       "Favorite Color    0\n",
       "Rating            0\n",
       "dtype: int64"
      ]
     },
     "execution_count": 29,
     "metadata": {},
     "output_type": "execute_result"
    }
   ],
   "source": [
    "outliers_df.sum()"
   ]
  },
  {
   "cell_type": "markdown",
   "id": "87293ba7",
   "metadata": {},
   "source": [
    "### To find the rows with these outliers, we  use .any(axis=1) with boolean mask"
   ]
  },
  {
   "cell_type": "code",
   "execution_count": 30,
   "id": "3a4f312c",
   "metadata": {
    "scrolled": true
   },
   "outputs": [
    {
     "data": {
      "text/html": [
       "<div>\n",
       "<style scoped>\n",
       "    .dataframe tbody tr th:only-of-type {\n",
       "        vertical-align: middle;\n",
       "    }\n",
       "\n",
       "    .dataframe tbody tr th {\n",
       "        vertical-align: top;\n",
       "    }\n",
       "\n",
       "    .dataframe thead th {\n",
       "        text-align: right;\n",
       "    }\n",
       "</style>\n",
       "<table border=\"1\" class=\"dataframe\">\n",
       "  <thead>\n",
       "    <tr style=\"text-align: right;\">\n",
       "      <th></th>\n",
       "      <th>Age</th>\n",
       "      <th>Weight</th>\n",
       "      <th>Salary</th>\n",
       "      <th>Birthdate</th>\n",
       "      <th>Hire date</th>\n",
       "      <th>Gender</th>\n",
       "      <th>Marital Status</th>\n",
       "      <th>Occupation</th>\n",
       "      <th>Favorite Color</th>\n",
       "      <th>Rating</th>\n",
       "    </tr>\n",
       "  </thead>\n",
       "  <tbody>\n",
       "    <tr>\n",
       "      <th>99</th>\n",
       "      <td>128</td>\n",
       "      <td>1199</td>\n",
       "      <td>134609</td>\n",
       "      <td>2012-02-11</td>\n",
       "      <td>2006-11-10</td>\n",
       "      <td>Female</td>\n",
       "      <td>Single</td>\n",
       "      <td>Doctor</td>\n",
       "      <td>Red</td>\n",
       "      <td>medium</td>\n",
       "    </tr>\n",
       "  </tbody>\n",
       "</table>\n",
       "</div>"
      ],
      "text/plain": [
       "    Age  Weight  Salary  Birthdate  Hire date  Gender Marital Status  \\\n",
       "99  128    1199  134609 2012-02-11 2006-11-10  Female         Single   \n",
       "\n",
       "   Occupation Favorite Color  Rating  \n",
       "99     Doctor            Red  medium  "
      ]
     },
     "execution_count": 30,
     "metadata": {},
     "output_type": "execute_result"
    }
   ],
   "source": [
    "df3[outliers_df.any(axis=1)]"
   ]
  },
  {
   "cell_type": "markdown",
   "id": "c4ec3722",
   "metadata": {},
   "source": [
    "# Task 4: Find the Rows with Same Values\n",
    "\n",
    "## Subtask 1.: Create and Such Rows\n",
    "\n",
    "### Subsubtask1: Adding a Row of Zeros and ones randomly in a df"
   ]
  },
  {
   "cell_type": "code",
   "execution_count": 31,
   "id": "1d6756f0",
   "metadata": {},
   "outputs": [
    {
     "data": {
      "text/html": [
       "<div>\n",
       "<style scoped>\n",
       "    .dataframe tbody tr th:only-of-type {\n",
       "        vertical-align: middle;\n",
       "    }\n",
       "\n",
       "    .dataframe tbody tr th {\n",
       "        vertical-align: top;\n",
       "    }\n",
       "\n",
       "    .dataframe thead th {\n",
       "        text-align: right;\n",
       "    }\n",
       "</style>\n",
       "<table border=\"1\" class=\"dataframe\">\n",
       "  <thead>\n",
       "    <tr style=\"text-align: right;\">\n",
       "      <th></th>\n",
       "      <th>Age</th>\n",
       "      <th>Weight</th>\n",
       "      <th>Salary</th>\n",
       "      <th>Birthdate</th>\n",
       "      <th>Hire date</th>\n",
       "      <th>Gender</th>\n",
       "      <th>Marital Status</th>\n",
       "      <th>Occupation</th>\n",
       "      <th>Favorite Color</th>\n",
       "      <th>Rating</th>\n",
       "    </tr>\n",
       "  </thead>\n",
       "  <tbody>\n",
       "    <tr>\n",
       "      <th>0</th>\n",
       "      <td>54.0</td>\n",
       "      <td>109.0</td>\n",
       "      <td>148961.0</td>\n",
       "      <td>2008-06-16 00:00:00</td>\n",
       "      <td>2017-12-30 00:00:00</td>\n",
       "      <td>Female</td>\n",
       "      <td>Married</td>\n",
       "      <td>Lawyer</td>\n",
       "      <td>Green</td>\n",
       "      <td>medium</td>\n",
       "    </tr>\n",
       "    <tr>\n",
       "      <th>1</th>\n",
       "      <td>40.0</td>\n",
       "      <td>149.0</td>\n",
       "      <td>58164.0</td>\n",
       "      <td>2005-10-08 00:00:00</td>\n",
       "      <td>2008-03-16 00:00:00</td>\n",
       "      <td>Female</td>\n",
       "      <td>Married</td>\n",
       "      <td>Doctor</td>\n",
       "      <td>Red</td>\n",
       "      <td>low</td>\n",
       "    </tr>\n",
       "    <tr>\n",
       "      <th>2</th>\n",
       "      <td>40.0</td>\n",
       "      <td>214.0</td>\n",
       "      <td>139417.0</td>\n",
       "      <td>2010-05-20 00:00:00</td>\n",
       "      <td>2000-05-26 00:00:00</td>\n",
       "      <td>Male</td>\n",
       "      <td>Married</td>\n",
       "      <td>Engineer</td>\n",
       "      <td>Green</td>\n",
       "      <td>high</td>\n",
       "    </tr>\n",
       "    <tr>\n",
       "      <th>3</th>\n",
       "      <td>57.0</td>\n",
       "      <td>156.0</td>\n",
       "      <td>109396.0</td>\n",
       "      <td>2021-02-15 00:00:00</td>\n",
       "      <td>1998-03-28 00:00:00</td>\n",
       "      <td>Male</td>\n",
       "      <td>Married</td>\n",
       "      <td>Lawyer</td>\n",
       "      <td>Red</td>\n",
       "      <td>medium</td>\n",
       "    </tr>\n",
       "    <tr>\n",
       "      <th>4</th>\n",
       "      <td>64.0</td>\n",
       "      <td>238.0</td>\n",
       "      <td>131711.0</td>\n",
       "      <td>2011-05-05 00:00:00</td>\n",
       "      <td>1996-11-16 00:00:00</td>\n",
       "      <td>Female</td>\n",
       "      <td>Single</td>\n",
       "      <td>Doctor</td>\n",
       "      <td>Green</td>\n",
       "      <td>low</td>\n",
       "    </tr>\n",
       "    <tr>\n",
       "      <th>...</th>\n",
       "      <td>...</td>\n",
       "      <td>...</td>\n",
       "      <td>...</td>\n",
       "      <td>...</td>\n",
       "      <td>...</td>\n",
       "      <td>...</td>\n",
       "      <td>...</td>\n",
       "      <td>...</td>\n",
       "      <td>...</td>\n",
       "      <td>...</td>\n",
       "    </tr>\n",
       "    <tr>\n",
       "      <th>97</th>\n",
       "      <td>22.0</td>\n",
       "      <td>156.0</td>\n",
       "      <td>39314.0</td>\n",
       "      <td>2000-04-22 00:00:00</td>\n",
       "      <td>1997-12-12 00:00:00</td>\n",
       "      <td>Female</td>\n",
       "      <td>Married</td>\n",
       "      <td>Teacher</td>\n",
       "      <td>Green</td>\n",
       "      <td>medium</td>\n",
       "    </tr>\n",
       "    <tr>\n",
       "      <th>98</th>\n",
       "      <td>24.0</td>\n",
       "      <td>248.0</td>\n",
       "      <td>100133.0</td>\n",
       "      <td>1997-10-06 00:00:00</td>\n",
       "      <td>2016-05-21 00:00:00</td>\n",
       "      <td>Male</td>\n",
       "      <td>Married</td>\n",
       "      <td>Doctor</td>\n",
       "      <td>Blue</td>\n",
       "      <td>high</td>\n",
       "    </tr>\n",
       "    <tr>\n",
       "      <th>99</th>\n",
       "      <td>25.0</td>\n",
       "      <td>227.0</td>\n",
       "      <td>98982.0</td>\n",
       "      <td>2009-09-23 00:00:00</td>\n",
       "      <td>2008-12-05 00:00:00</td>\n",
       "      <td>Male</td>\n",
       "      <td>Married</td>\n",
       "      <td>Engineer</td>\n",
       "      <td>Yellow</td>\n",
       "      <td>medium</td>\n",
       "    </tr>\n",
       "    <tr>\n",
       "      <th>100</th>\n",
       "      <td>59.0</td>\n",
       "      <td>173.0</td>\n",
       "      <td>97144.0</td>\n",
       "      <td>2017-01-30 00:00:00</td>\n",
       "      <td>2016-09-12 00:00:00</td>\n",
       "      <td>Female</td>\n",
       "      <td>Married</td>\n",
       "      <td>Lawyer</td>\n",
       "      <td>Blue</td>\n",
       "      <td>medium</td>\n",
       "    </tr>\n",
       "    <tr>\n",
       "      <th>101</th>\n",
       "      <td>57.0</td>\n",
       "      <td>166.0</td>\n",
       "      <td>118994.0</td>\n",
       "      <td>2014-06-30 00:00:00</td>\n",
       "      <td>2020-07-08 00:00:00</td>\n",
       "      <td>Female</td>\n",
       "      <td>Single</td>\n",
       "      <td>Doctor</td>\n",
       "      <td>Red</td>\n",
       "      <td>low</td>\n",
       "    </tr>\n",
       "  </tbody>\n",
       "</table>\n",
       "<p>102 rows × 10 columns</p>\n",
       "</div>"
      ],
      "text/plain": [
       "      Age  Weight    Salary            Birthdate            Hire date  Gender  \\\n",
       "0    54.0   109.0  148961.0  2008-06-16 00:00:00  2017-12-30 00:00:00  Female   \n",
       "1    40.0   149.0   58164.0  2005-10-08 00:00:00  2008-03-16 00:00:00  Female   \n",
       "2    40.0   214.0  139417.0  2010-05-20 00:00:00  2000-05-26 00:00:00    Male   \n",
       "3    57.0   156.0  109396.0  2021-02-15 00:00:00  1998-03-28 00:00:00    Male   \n",
       "4    64.0   238.0  131711.0  2011-05-05 00:00:00  1996-11-16 00:00:00  Female   \n",
       "..    ...     ...       ...                  ...                  ...     ...   \n",
       "97   22.0   156.0   39314.0  2000-04-22 00:00:00  1997-12-12 00:00:00  Female   \n",
       "98   24.0   248.0  100133.0  1997-10-06 00:00:00  2016-05-21 00:00:00    Male   \n",
       "99   25.0   227.0   98982.0  2009-09-23 00:00:00  2008-12-05 00:00:00    Male   \n",
       "100  59.0   173.0   97144.0  2017-01-30 00:00:00  2016-09-12 00:00:00  Female   \n",
       "101  57.0   166.0  118994.0  2014-06-30 00:00:00  2020-07-08 00:00:00  Female   \n",
       "\n",
       "    Marital Status Occupation Favorite Color  Rating  \n",
       "0          Married     Lawyer          Green  medium  \n",
       "1          Married     Doctor            Red     low  \n",
       "2          Married   Engineer          Green    high  \n",
       "3          Married     Lawyer            Red  medium  \n",
       "4           Single     Doctor          Green     low  \n",
       "..             ...        ...            ...     ...  \n",
       "97         Married    Teacher          Green  medium  \n",
       "98         Married     Doctor           Blue    high  \n",
       "99         Married   Engineer         Yellow  medium  \n",
       "100        Married     Lawyer           Blue  medium  \n",
       "101         Single     Doctor            Red     low  \n",
       "\n",
       "[102 rows x 10 columns]"
      ]
     },
     "execution_count": 31,
     "metadata": {},
     "output_type": "execute_result"
    }
   ],
   "source": [
    "df4=df.copy()\n",
    "# First we create a random position\n",
    "random_pos = random.randint(0,len(df4))\n",
    "\n",
    "# Adding a row of zeros\n",
    "\n",
    "#we create a row series of all zeros\n",
    "new_row = pd.Series(np.zeros(len(df4.columns)),index=df4.columns)\n",
    "# Then we insert the row\n",
    "df4=pd.concat([df4.iloc[:random_pos],pd.DataFrame([new_row]),df4.iloc[random_pos:]]).reset_index(drop=True)\n",
    "\n",
    "# Adding a row of Ones\n",
    "\n",
    "random_pos1 = random.randint(0,len(df4))\n",
    "#we create a row series of all ones\n",
    "new_row = pd.Series(np.ones(len(df4.columns)),index=df4.columns)\n",
    "# Then we insert the row\n",
    "df4=pd.concat([df4.iloc[:random_pos1],pd.DataFrame([new_row]),df4.iloc[random_pos1:]]).reset_index(drop=True)\n",
    "df4"
   ]
  },
  {
   "cell_type": "markdown",
   "id": "04a09ff9",
   "metadata": {},
   "source": [
    "## Subtask 1.: Discover Rows with Same values"
   ]
  },
  {
   "cell_type": "code",
   "execution_count": 32,
   "id": "7f8ff6aa",
   "metadata": {},
   "outputs": [
    {
     "data": {
      "text/plain": [
       "0      False\n",
       "1      False\n",
       "2      False\n",
       "3      False\n",
       "4      False\n",
       "       ...  \n",
       "97     False\n",
       "98     False\n",
       "99     False\n",
       "100    False\n",
       "101    False\n",
       "Length: 102, dtype: bool"
      ]
     },
     "execution_count": 32,
     "metadata": {},
     "output_type": "execute_result"
    }
   ],
   "source": [
    "rows_with_equal_values = df4.apply(lambda x: x.nunique()==1,axis=1)\n",
    "rows_with_equal_values"
   ]
  },
  {
   "cell_type": "code",
   "execution_count": 33,
   "id": "f758cb2a",
   "metadata": {},
   "outputs": [
    {
     "data": {
      "text/plain": [
       "True"
      ]
     },
     "execution_count": 33,
     "metadata": {},
     "output_type": "execute_result"
    }
   ],
   "source": [
    "rows_with_equal_values.any().any()"
   ]
  },
  {
   "cell_type": "code",
   "execution_count": 34,
   "id": "391375d2",
   "metadata": {},
   "outputs": [
    {
     "data": {
      "text/plain": [
       "True"
      ]
     },
     "execution_count": 34,
     "metadata": {},
     "output_type": "execute_result"
    }
   ],
   "source": [
    "rows_with_equal_values.any()"
   ]
  },
  {
   "cell_type": "code",
   "execution_count": 35,
   "id": "35d21b76",
   "metadata": {},
   "outputs": [
    {
     "data": {
      "text/plain": [
       "2"
      ]
     },
     "execution_count": 35,
     "metadata": {},
     "output_type": "execute_result"
    }
   ],
   "source": [
    "rows_with_equal_values.sum().sum()"
   ]
  },
  {
   "cell_type": "code",
   "execution_count": 36,
   "id": "a7a46f01",
   "metadata": {},
   "outputs": [
    {
     "data": {
      "text/plain": [
       "2"
      ]
     },
     "execution_count": 36,
     "metadata": {},
     "output_type": "execute_result"
    }
   ],
   "source": [
    "rows_with_equal_values.sum()"
   ]
  },
  {
   "cell_type": "code",
   "execution_count": 37,
   "id": "fa664fa3",
   "metadata": {},
   "outputs": [
    {
     "data": {
      "text/html": [
       "<div>\n",
       "<style scoped>\n",
       "    .dataframe tbody tr th:only-of-type {\n",
       "        vertical-align: middle;\n",
       "    }\n",
       "\n",
       "    .dataframe tbody tr th {\n",
       "        vertical-align: top;\n",
       "    }\n",
       "\n",
       "    .dataframe thead th {\n",
       "        text-align: right;\n",
       "    }\n",
       "</style>\n",
       "<table border=\"1\" class=\"dataframe\">\n",
       "  <thead>\n",
       "    <tr style=\"text-align: right;\">\n",
       "      <th></th>\n",
       "      <th>Age</th>\n",
       "      <th>Weight</th>\n",
       "      <th>Salary</th>\n",
       "      <th>Birthdate</th>\n",
       "      <th>Hire date</th>\n",
       "      <th>Gender</th>\n",
       "      <th>Marital Status</th>\n",
       "      <th>Occupation</th>\n",
       "      <th>Favorite Color</th>\n",
       "      <th>Rating</th>\n",
       "    </tr>\n",
       "  </thead>\n",
       "  <tbody>\n",
       "    <tr>\n",
       "      <th>64</th>\n",
       "      <td>0.0</td>\n",
       "      <td>0.0</td>\n",
       "      <td>0.0</td>\n",
       "      <td>0.0</td>\n",
       "      <td>0.0</td>\n",
       "      <td>0.0</td>\n",
       "      <td>0.0</td>\n",
       "      <td>0.0</td>\n",
       "      <td>0.0</td>\n",
       "      <td>0.0</td>\n",
       "    </tr>\n",
       "    <tr>\n",
       "      <th>85</th>\n",
       "      <td>1.0</td>\n",
       "      <td>1.0</td>\n",
       "      <td>1.0</td>\n",
       "      <td>1.0</td>\n",
       "      <td>1.0</td>\n",
       "      <td>1.0</td>\n",
       "      <td>1.0</td>\n",
       "      <td>1.0</td>\n",
       "      <td>1.0</td>\n",
       "      <td>1.0</td>\n",
       "    </tr>\n",
       "  </tbody>\n",
       "</table>\n",
       "</div>"
      ],
      "text/plain": [
       "    Age  Weight  Salary Birthdate Hire date Gender Marital Status Occupation  \\\n",
       "64  0.0     0.0     0.0       0.0       0.0    0.0            0.0        0.0   \n",
       "85  1.0     1.0     1.0       1.0       1.0    1.0            1.0        1.0   \n",
       "\n",
       "   Favorite Color Rating  \n",
       "64            0.0    0.0  \n",
       "85            1.0    1.0  "
      ]
     },
     "execution_count": 37,
     "metadata": {},
     "output_type": "execute_result"
    }
   ],
   "source": [
    "df4[rows_with_equal_values]"
   ]
  },
  {
   "cell_type": "markdown",
   "id": "112415c5",
   "metadata": {},
   "source": [
    "# Task 5: Find the Rows with All Blank Values\n",
    "\n",
    "## Subtask 1.: Create and Such Rows\n",
    "\n",
    "### Subsubtask1: Adding a Row of nan randomly in a df"
   ]
  },
  {
   "cell_type": "code",
   "execution_count": 38,
   "id": "744e9c19",
   "metadata": {},
   "outputs": [],
   "source": [
    "df5=df.copy()\n",
    "# First we create a random position\n",
    "random_pos = random.randint(0,len(df5))\n",
    "\n",
    "#we create a row series of all zeros\n",
    "new_row = pd.Series(np.nan*(len(df5.columns)),index=df5.columns)\n",
    "# Then we insert the row\n",
    "df5=pd.concat([df5.iloc[:random_pos],pd.DataFrame([new_row]),df5.iloc[random_pos:]]).reset_index(drop=True)"
   ]
  },
  {
   "cell_type": "markdown",
   "id": "8d92a372",
   "metadata": {},
   "source": [
    "### Subtask 2: Discover rows with Blank or missing Values"
   ]
  },
  {
   "cell_type": "code",
   "execution_count": 39,
   "id": "6d99f22c",
   "metadata": {},
   "outputs": [
    {
     "data": {
      "text/plain": [
       "0      False\n",
       "1      False\n",
       "2      False\n",
       "3      False\n",
       "4      False\n",
       "       ...  \n",
       "96     False\n",
       "97     False\n",
       "98     False\n",
       "99     False\n",
       "100    False\n",
       "Length: 101, dtype: bool"
      ]
     },
     "execution_count": 39,
     "metadata": {},
     "output_type": "execute_result"
    }
   ],
   "source": [
    "all_nan_rows = df5.isna().all(axis=1)\n",
    "all_nan_rows"
   ]
  },
  {
   "cell_type": "code",
   "execution_count": 40,
   "id": "7c1b359c",
   "metadata": {},
   "outputs": [
    {
     "data": {
      "text/plain": [
       "True"
      ]
     },
     "execution_count": 40,
     "metadata": {},
     "output_type": "execute_result"
    }
   ],
   "source": [
    "all_nan_rows.any().any()"
   ]
  },
  {
   "cell_type": "code",
   "execution_count": 41,
   "id": "047d6175",
   "metadata": {},
   "outputs": [
    {
     "data": {
      "text/plain": [
       "True"
      ]
     },
     "execution_count": 41,
     "metadata": {},
     "output_type": "execute_result"
    }
   ],
   "source": [
    "all_nan_rows.any()"
   ]
  },
  {
   "cell_type": "code",
   "execution_count": 42,
   "id": "a58e606a",
   "metadata": {},
   "outputs": [
    {
     "data": {
      "text/plain": [
       "1"
      ]
     },
     "execution_count": 42,
     "metadata": {},
     "output_type": "execute_result"
    }
   ],
   "source": [
    "all_nan_rows.sum().sum()"
   ]
  },
  {
   "cell_type": "code",
   "execution_count": 43,
   "id": "1bad587a",
   "metadata": {},
   "outputs": [
    {
     "data": {
      "text/plain": [
       "1"
      ]
     },
     "execution_count": 43,
     "metadata": {},
     "output_type": "execute_result"
    }
   ],
   "source": [
    "all_nan_rows.sum()"
   ]
  },
  {
   "cell_type": "code",
   "execution_count": 44,
   "id": "7cb757ae",
   "metadata": {},
   "outputs": [
    {
     "data": {
      "text/html": [
       "<div>\n",
       "<style scoped>\n",
       "    .dataframe tbody tr th:only-of-type {\n",
       "        vertical-align: middle;\n",
       "    }\n",
       "\n",
       "    .dataframe tbody tr th {\n",
       "        vertical-align: top;\n",
       "    }\n",
       "\n",
       "    .dataframe thead th {\n",
       "        text-align: right;\n",
       "    }\n",
       "</style>\n",
       "<table border=\"1\" class=\"dataframe\">\n",
       "  <thead>\n",
       "    <tr style=\"text-align: right;\">\n",
       "      <th></th>\n",
       "      <th>Age</th>\n",
       "      <th>Weight</th>\n",
       "      <th>Salary</th>\n",
       "      <th>Birthdate</th>\n",
       "      <th>Hire date</th>\n",
       "      <th>Gender</th>\n",
       "      <th>Marital Status</th>\n",
       "      <th>Occupation</th>\n",
       "      <th>Favorite Color</th>\n",
       "      <th>Rating</th>\n",
       "    </tr>\n",
       "  </thead>\n",
       "  <tbody>\n",
       "    <tr>\n",
       "      <th>17</th>\n",
       "      <td>NaN</td>\n",
       "      <td>NaN</td>\n",
       "      <td>NaN</td>\n",
       "      <td>NaT</td>\n",
       "      <td>NaT</td>\n",
       "      <td>NaN</td>\n",
       "      <td>NaN</td>\n",
       "      <td>NaN</td>\n",
       "      <td>NaN</td>\n",
       "      <td>NaN</td>\n",
       "    </tr>\n",
       "  </tbody>\n",
       "</table>\n",
       "</div>"
      ],
      "text/plain": [
       "    Age  Weight  Salary Birthdate Hire date Gender Marital Status Occupation  \\\n",
       "17  NaN     NaN     NaN       NaT       NaT    NaN            NaN        NaN   \n",
       "\n",
       "   Favorite Color Rating  \n",
       "17            NaN    NaN  "
      ]
     },
     "execution_count": 44,
     "metadata": {},
     "output_type": "execute_result"
    }
   ],
   "source": [
    "df5[all_nan_rows]"
   ]
  },
  {
   "cell_type": "markdown",
   "id": "cef04e5c",
   "metadata": {},
   "source": [
    "# Task 6: Find the Rows with a special character, space or an NA randomly at any place\n",
    "\n",
    "## Subtask 1.: Create Such Rows\n",
    "\n",
    "### Subsubtask1: Adding a special character, Nan and a blank space"
   ]
  },
  {
   "cell_type": "code",
   "execution_count": 45,
   "id": "cc1547b1",
   "metadata": {},
   "outputs": [
    {
     "data": {
      "text/html": [
       "<div>\n",
       "<style scoped>\n",
       "    .dataframe tbody tr th:only-of-type {\n",
       "        vertical-align: middle;\n",
       "    }\n",
       "\n",
       "    .dataframe tbody tr th {\n",
       "        vertical-align: top;\n",
       "    }\n",
       "\n",
       "    .dataframe thead th {\n",
       "        text-align: right;\n",
       "    }\n",
       "</style>\n",
       "<table border=\"1\" class=\"dataframe\">\n",
       "  <thead>\n",
       "    <tr style=\"text-align: right;\">\n",
       "      <th></th>\n",
       "      <th>Age</th>\n",
       "      <th>Weight</th>\n",
       "      <th>Salary</th>\n",
       "      <th>Birthdate</th>\n",
       "      <th>Hire date</th>\n",
       "      <th>Gender</th>\n",
       "      <th>Marital Status</th>\n",
       "      <th>Occupation</th>\n",
       "      <th>Favorite Color</th>\n",
       "      <th>Rating</th>\n",
       "    </tr>\n",
       "  </thead>\n",
       "  <tbody>\n",
       "    <tr>\n",
       "      <th>0</th>\n",
       "      <td>54</td>\n",
       "      <td>109.0</td>\n",
       "      <td>148961</td>\n",
       "      <td>2008-06-16</td>\n",
       "      <td>2017-12-30</td>\n",
       "      <td>Female</td>\n",
       "      <td>Married</td>\n",
       "      <td>Lawyer</td>\n",
       "      <td>Green</td>\n",
       "      <td>medium</td>\n",
       "    </tr>\n",
       "    <tr>\n",
       "      <th>1</th>\n",
       "      <td>40</td>\n",
       "      <td>149.0</td>\n",
       "      <td>58164</td>\n",
       "      <td>2005-10-08</td>\n",
       "      <td>2008-03-16</td>\n",
       "      <td>Female</td>\n",
       "      <td>Married</td>\n",
       "      <td>Doctor</td>\n",
       "      <td>Red</td>\n",
       "      <td>low</td>\n",
       "    </tr>\n",
       "    <tr>\n",
       "      <th>2</th>\n",
       "      <td>40</td>\n",
       "      <td>214.0</td>\n",
       "      <td>139417</td>\n",
       "      <td>2010-05-20</td>\n",
       "      <td>2000-05-26</td>\n",
       "      <td>Male</td>\n",
       "      <td>Married</td>\n",
       "      <td>Engineer</td>\n",
       "      <td>Green</td>\n",
       "      <td>high</td>\n",
       "    </tr>\n",
       "    <tr>\n",
       "      <th>3</th>\n",
       "      <td>57</td>\n",
       "      <td>156.0</td>\n",
       "      <td>109396</td>\n",
       "      <td>2021-02-15</td>\n",
       "      <td>1998-03-28</td>\n",
       "      <td>Male</td>\n",
       "      <td>Married</td>\n",
       "      <td>Lawyer</td>\n",
       "      <td>Red</td>\n",
       "      <td>medium</td>\n",
       "    </tr>\n",
       "    <tr>\n",
       "      <th>4</th>\n",
       "      <td>64</td>\n",
       "      <td>238.0</td>\n",
       "      <td>131711</td>\n",
       "      <td>2011-05-05</td>\n",
       "      <td>1996-11-16</td>\n",
       "      <td>Female</td>\n",
       "      <td>Single</td>\n",
       "      <td>Doctor</td>\n",
       "      <td>Green</td>\n",
       "      <td>low</td>\n",
       "    </tr>\n",
       "    <tr>\n",
       "      <th>...</th>\n",
       "      <td>...</td>\n",
       "      <td>...</td>\n",
       "      <td>...</td>\n",
       "      <td>...</td>\n",
       "      <td>...</td>\n",
       "      <td>...</td>\n",
       "      <td>...</td>\n",
       "      <td>...</td>\n",
       "      <td>...</td>\n",
       "      <td>...</td>\n",
       "    </tr>\n",
       "    <tr>\n",
       "      <th>95</th>\n",
       "      <td>22</td>\n",
       "      <td>156.0</td>\n",
       "      <td>39314</td>\n",
       "      <td>2000-04-22</td>\n",
       "      <td>1997-12-12</td>\n",
       "      <td>Female</td>\n",
       "      <td>Married</td>\n",
       "      <td>Teacher</td>\n",
       "      <td>Green</td>\n",
       "      <td>medium</td>\n",
       "    </tr>\n",
       "    <tr>\n",
       "      <th>96</th>\n",
       "      <td>24</td>\n",
       "      <td>248.0</td>\n",
       "      <td>100133</td>\n",
       "      <td>1997-10-06</td>\n",
       "      <td>2016-05-21</td>\n",
       "      <td>Male</td>\n",
       "      <td>Married</td>\n",
       "      <td>Doctor</td>\n",
       "      <td>Blue</td>\n",
       "      <td>high</td>\n",
       "    </tr>\n",
       "    <tr>\n",
       "      <th>97</th>\n",
       "      <td>25</td>\n",
       "      <td>227.0</td>\n",
       "      <td>98982</td>\n",
       "      <td>2009-09-23</td>\n",
       "      <td>2008-12-05</td>\n",
       "      <td>Male</td>\n",
       "      <td>Married</td>\n",
       "      <td>Engineer</td>\n",
       "      <td>Yellow</td>\n",
       "      <td>medium</td>\n",
       "    </tr>\n",
       "    <tr>\n",
       "      <th>98</th>\n",
       "      <td>59</td>\n",
       "      <td>173.0</td>\n",
       "      <td>97144</td>\n",
       "      <td>2017-01-30</td>\n",
       "      <td>2016-09-12</td>\n",
       "      <td>Female</td>\n",
       "      <td>Married</td>\n",
       "      <td>Lawyer</td>\n",
       "      <td>Blue</td>\n",
       "      <td>medium</td>\n",
       "    </tr>\n",
       "    <tr>\n",
       "      <th>99</th>\n",
       "      <td>57</td>\n",
       "      <td>166.0</td>\n",
       "      <td>118994</td>\n",
       "      <td>2014-06-30</td>\n",
       "      <td>2020-07-08</td>\n",
       "      <td>Female</td>\n",
       "      <td>Single</td>\n",
       "      <td>Doctor</td>\n",
       "      <td>Red</td>\n",
       "      <td>low</td>\n",
       "    </tr>\n",
       "  </tbody>\n",
       "</table>\n",
       "<p>100 rows × 10 columns</p>\n",
       "</div>"
      ],
      "text/plain": [
       "    Age  Weight  Salary  Birthdate  Hire date  Gender Marital Status  \\\n",
       "0    54   109.0  148961 2008-06-16 2017-12-30  Female        Married   \n",
       "1    40   149.0   58164 2005-10-08 2008-03-16  Female        Married   \n",
       "2    40   214.0  139417 2010-05-20 2000-05-26    Male        Married   \n",
       "3    57   156.0  109396 2021-02-15 1998-03-28    Male        Married   \n",
       "4    64   238.0  131711 2011-05-05 1996-11-16  Female         Single   \n",
       "..  ...     ...     ...        ...        ...     ...            ...   \n",
       "95   22   156.0   39314 2000-04-22 1997-12-12  Female        Married   \n",
       "96   24   248.0  100133 1997-10-06 2016-05-21    Male        Married   \n",
       "97   25   227.0   98982 2009-09-23 2008-12-05    Male        Married   \n",
       "98   59   173.0   97144 2017-01-30 2016-09-12  Female        Married   \n",
       "99   57   166.0  118994 2014-06-30 2020-07-08  Female         Single   \n",
       "\n",
       "   Occupation Favorite Color  Rating  \n",
       "0      Lawyer          Green  medium  \n",
       "1      Doctor            Red     low  \n",
       "2    Engineer          Green    high  \n",
       "3      Lawyer            Red  medium  \n",
       "4      Doctor          Green     low  \n",
       "..        ...            ...     ...  \n",
       "95    Teacher          Green  medium  \n",
       "96     Doctor           Blue    high  \n",
       "97   Engineer         Yellow  medium  \n",
       "98     Lawyer           Blue  medium  \n",
       "99     Doctor            Red     low  \n",
       "\n",
       "[100 rows x 10 columns]"
      ]
     },
     "execution_count": 45,
     "metadata": {},
     "output_type": "execute_result"
    }
   ],
   "source": [
    "df6=df.copy()\n",
    "# randomly insert a special character\n",
    "row,col=random.randint(0,df6.shape[0]-1),random.randint(0,df6.shape[1]-1)\n",
    "df6.iat[row,col]=str(df6.iat[row,col])+'*'\n",
    "\n",
    "# randomly insert Nan\n",
    "row,col=random.randint(0,df6.shape[0]-1),random.randint(0,df6.shape[1]-1)\n",
    "df6.iat[row,col]=np.nan\n",
    "\n",
    "# randomly insert Nan\n",
    "row,col=random.randint(0,df6.shape[0]-1),random.randint(0,df6.shape[1]-1)\n",
    "df6.iat[row,col]='  '\n",
    "\n",
    "df6\n"
   ]
  },
  {
   "cell_type": "markdown",
   "id": "64bfa5e4",
   "metadata": {},
   "source": [
    "### Subtask: Discovering special characters"
   ]
  },
  {
   "cell_type": "code",
   "execution_count": 46,
   "id": "da465246",
   "metadata": {},
   "outputs": [
    {
     "data": {
      "text/plain": [
       "0    False\n",
       "1    False\n",
       "2    False\n",
       "3    False\n",
       "4    False\n",
       "dtype: bool"
      ]
     },
     "execution_count": 46,
     "metadata": {},
     "output_type": "execute_result"
    }
   ],
   "source": [
    "import re\n",
    "# Check for special characters\n",
    "is_specialcharacter=df6.applymap(lambda x: isinstance(x, str) and bool(re.search('[^A-Za-z0-9]', x))).any(axis=1)\n",
    "is_specialcharacter.head()"
   ]
  },
  {
   "cell_type": "code",
   "execution_count": 47,
   "id": "6ad1e15a",
   "metadata": {},
   "outputs": [
    {
     "data": {
      "text/plain": [
       "True"
      ]
     },
     "execution_count": 47,
     "metadata": {},
     "output_type": "execute_result"
    }
   ],
   "source": [
    "is_specialcharacter.any()"
   ]
  },
  {
   "cell_type": "code",
   "execution_count": 48,
   "id": "f3b9d56c",
   "metadata": {},
   "outputs": [
    {
     "data": {
      "text/plain": [
       "True"
      ]
     },
     "execution_count": 48,
     "metadata": {},
     "output_type": "execute_result"
    }
   ],
   "source": [
    "is_specialcharacter.any().any()"
   ]
  },
  {
   "cell_type": "code",
   "execution_count": 49,
   "id": "26720421",
   "metadata": {},
   "outputs": [
    {
     "data": {
      "text/plain": [
       "2"
      ]
     },
     "execution_count": 49,
     "metadata": {},
     "output_type": "execute_result"
    }
   ],
   "source": [
    "is_specialcharacter.sum()"
   ]
  },
  {
   "cell_type": "code",
   "execution_count": 50,
   "id": "a1817943",
   "metadata": {},
   "outputs": [
    {
     "data": {
      "text/plain": [
       "2"
      ]
     },
     "execution_count": 50,
     "metadata": {},
     "output_type": "execute_result"
    }
   ],
   "source": [
    "is_specialcharacter.sum().sum()"
   ]
  },
  {
   "cell_type": "code",
   "execution_count": 51,
   "id": "677e0c1c",
   "metadata": {},
   "outputs": [
    {
     "data": {
      "text/html": [
       "<div>\n",
       "<style scoped>\n",
       "    .dataframe tbody tr th:only-of-type {\n",
       "        vertical-align: middle;\n",
       "    }\n",
       "\n",
       "    .dataframe tbody tr th {\n",
       "        vertical-align: top;\n",
       "    }\n",
       "\n",
       "    .dataframe thead th {\n",
       "        text-align: right;\n",
       "    }\n",
       "</style>\n",
       "<table border=\"1\" class=\"dataframe\">\n",
       "  <thead>\n",
       "    <tr style=\"text-align: right;\">\n",
       "      <th></th>\n",
       "      <th>Age</th>\n",
       "      <th>Weight</th>\n",
       "      <th>Salary</th>\n",
       "      <th>Birthdate</th>\n",
       "      <th>Hire date</th>\n",
       "      <th>Gender</th>\n",
       "      <th>Marital Status</th>\n",
       "      <th>Occupation</th>\n",
       "      <th>Favorite Color</th>\n",
       "      <th>Rating</th>\n",
       "    </tr>\n",
       "  </thead>\n",
       "  <tbody>\n",
       "    <tr>\n",
       "      <th>76</th>\n",
       "      <td>40</td>\n",
       "      <td>180.0</td>\n",
       "      <td>146766</td>\n",
       "      <td>2019-02-14</td>\n",
       "      <td>2010-07-12</td>\n",
       "      <td>Female</td>\n",
       "      <td>Single</td>\n",
       "      <td>Doctor*</td>\n",
       "      <td>Red</td>\n",
       "      <td>high</td>\n",
       "    </tr>\n",
       "    <tr>\n",
       "      <th>78</th>\n",
       "      <td>49</td>\n",
       "      <td>155.0</td>\n",
       "      <td>141604</td>\n",
       "      <td>2021-10-06</td>\n",
       "      <td>2018-11-29</td>\n",
       "      <td>Male</td>\n",
       "      <td>Married</td>\n",
       "      <td></td>\n",
       "      <td>Green</td>\n",
       "      <td>low</td>\n",
       "    </tr>\n",
       "  </tbody>\n",
       "</table>\n",
       "</div>"
      ],
      "text/plain": [
       "    Age  Weight  Salary  Birthdate  Hire date  Gender Marital Status  \\\n",
       "76   40   180.0  146766 2019-02-14 2010-07-12  Female         Single   \n",
       "78   49   155.0  141604 2021-10-06 2018-11-29    Male        Married   \n",
       "\n",
       "   Occupation Favorite Color Rating  \n",
       "76    Doctor*            Red   high  \n",
       "78                     Green    low  "
      ]
     },
     "execution_count": 51,
     "metadata": {},
     "output_type": "execute_result"
    }
   ],
   "source": [
    "df6[is_specialcharacter]"
   ]
  },
  {
   "cell_type": "markdown",
   "id": "1bdd9dfb",
   "metadata": {},
   "source": [
    "### Subtask: Discovering Blank spaces and Nans"
   ]
  },
  {
   "cell_type": "code",
   "execution_count": 52,
   "id": "a60a0e1c",
   "metadata": {},
   "outputs": [
    {
     "data": {
      "text/plain": [
       "0    False\n",
       "1    False\n",
       "2    False\n",
       "3    False\n",
       "4    False\n",
       "dtype: bool"
      ]
     },
     "execution_count": 52,
     "metadata": {},
     "output_type": "execute_result"
    }
   ],
   "source": [
    "import re\n",
    "# Replace strings that are entirely blank spaces with None\n",
    "df6.replace(r'^\\s+$', None, regex=True, inplace=True)\n",
    "\n",
    "# Check for rows with NaN values\n",
    "is_blankrow = df6.isna().any(axis=1)\n",
    "is_blankrow.head()\n"
   ]
  },
  {
   "cell_type": "code",
   "execution_count": 53,
   "id": "9235bf31",
   "metadata": {},
   "outputs": [
    {
     "data": {
      "text/plain": [
       "True"
      ]
     },
     "execution_count": 53,
     "metadata": {},
     "output_type": "execute_result"
    }
   ],
   "source": [
    "is_blankrow.any()"
   ]
  },
  {
   "cell_type": "code",
   "execution_count": 54,
   "id": "dcf7397f",
   "metadata": {},
   "outputs": [
    {
     "data": {
      "text/plain": [
       "True"
      ]
     },
     "execution_count": 54,
     "metadata": {},
     "output_type": "execute_result"
    }
   ],
   "source": [
    "is_blankrow.any().any()"
   ]
  },
  {
   "cell_type": "code",
   "execution_count": 55,
   "id": "134686ca",
   "metadata": {},
   "outputs": [
    {
     "data": {
      "text/plain": [
       "2"
      ]
     },
     "execution_count": 55,
     "metadata": {},
     "output_type": "execute_result"
    }
   ],
   "source": [
    "is_blankrow.sum()"
   ]
  },
  {
   "cell_type": "code",
   "execution_count": 56,
   "id": "e46b020e",
   "metadata": {},
   "outputs": [
    {
     "data": {
      "text/plain": [
       "2"
      ]
     },
     "execution_count": 56,
     "metadata": {},
     "output_type": "execute_result"
    }
   ],
   "source": [
    "is_blankrow.sum().sum()"
   ]
  },
  {
   "cell_type": "code",
   "execution_count": 57,
   "id": "87446e7b",
   "metadata": {},
   "outputs": [
    {
     "data": {
      "text/html": [
       "<div>\n",
       "<style scoped>\n",
       "    .dataframe tbody tr th:only-of-type {\n",
       "        vertical-align: middle;\n",
       "    }\n",
       "\n",
       "    .dataframe tbody tr th {\n",
       "        vertical-align: top;\n",
       "    }\n",
       "\n",
       "    .dataframe thead th {\n",
       "        text-align: right;\n",
       "    }\n",
       "</style>\n",
       "<table border=\"1\" class=\"dataframe\">\n",
       "  <thead>\n",
       "    <tr style=\"text-align: right;\">\n",
       "      <th></th>\n",
       "      <th>Age</th>\n",
       "      <th>Weight</th>\n",
       "      <th>Salary</th>\n",
       "      <th>Birthdate</th>\n",
       "      <th>Hire date</th>\n",
       "      <th>Gender</th>\n",
       "      <th>Marital Status</th>\n",
       "      <th>Occupation</th>\n",
       "      <th>Favorite Color</th>\n",
       "      <th>Rating</th>\n",
       "    </tr>\n",
       "  </thead>\n",
       "  <tbody>\n",
       "    <tr>\n",
       "      <th>46</th>\n",
       "      <td>60</td>\n",
       "      <td>NaN</td>\n",
       "      <td>54759</td>\n",
       "      <td>1999-03-13</td>\n",
       "      <td>2003-10-23</td>\n",
       "      <td>Female</td>\n",
       "      <td>Married</td>\n",
       "      <td>Lawyer</td>\n",
       "      <td>Blue</td>\n",
       "      <td>medium</td>\n",
       "    </tr>\n",
       "    <tr>\n",
       "      <th>78</th>\n",
       "      <td>49</td>\n",
       "      <td>155.0</td>\n",
       "      <td>141604</td>\n",
       "      <td>2021-10-06</td>\n",
       "      <td>2018-11-29</td>\n",
       "      <td>Male</td>\n",
       "      <td>Married</td>\n",
       "      <td>None</td>\n",
       "      <td>Green</td>\n",
       "      <td>low</td>\n",
       "    </tr>\n",
       "  </tbody>\n",
       "</table>\n",
       "</div>"
      ],
      "text/plain": [
       "    Age  Weight  Salary  Birthdate  Hire date  Gender Marital Status  \\\n",
       "46   60     NaN   54759 1999-03-13 2003-10-23  Female        Married   \n",
       "78   49   155.0  141604 2021-10-06 2018-11-29    Male        Married   \n",
       "\n",
       "   Occupation Favorite Color  Rating  \n",
       "46     Lawyer           Blue  medium  \n",
       "78       None          Green     low  "
      ]
     },
     "execution_count": 57,
     "metadata": {},
     "output_type": "execute_result"
    }
   ],
   "source": [
    "df6[is_blankrow]"
   ]
  },
  {
   "cell_type": "markdown",
   "id": "e9abaf66",
   "metadata": {},
   "source": [
    "# 7 Checking if the df columns have different Datatypes\n",
    "ideally there should be 1 or 2 datatypes,one is index datatype and the other is that of column"
   ]
  },
  {
   "cell_type": "code",
   "execution_count": 58,
   "id": "a061d7b4",
   "metadata": {},
   "outputs": [
    {
     "name": "stdout",
     "output_type": "stream",
     "text": [
      "There is no column with a different datatype, good to go\n"
     ]
    }
   ],
   "source": [
    "df7 = df.copy()\n",
    "\n",
    "# List to store columns with mixed datatypes\n",
    "mixed_dtype_cols = []\n",
    "\n",
    "for col in df7:\n",
    "    unique_types = df7[col].map(type).unique()\n",
    "    if len(unique_types) > 1:\n",
    "        mixed_dtype_cols.append(col)\n",
    "        print(col, 'Data Types:', unique_types)\n",
    "\n",
    "if not mixed_dtype_cols:\n",
    "    print(\"There is no column with a different datatype, good to go\")\n",
    "else:\n",
    "    print(\"There are columns with different datatypes, please check\")\n",
    "    for col in mixed_dtype_cols:\n",
    "        unique_types = df7[col].map(type).unique()\n",
    "        print(\"===================\")\n",
    "        print(col, \"Data Types Value Counts:\")\n",
    "        \n",
    "        for dtype in unique_types:\n",
    "            count = df7[df7[col].apply(lambda x: isinstance(x, dtype))][col].count()\n",
    "            print(f\"{dtype}: {count}\")\n",
    "            \n",
    "            # Display the first 2 rows of this data type\n",
    "            sample_rows = df7[df7[col].apply(lambda x: isinstance(x, dtype))].head(2)\n",
    "            print(\"Sample Rows:\")\n",
    "            print(sample_rows)\n",
    "        \n",
    "        print(\"===================\")\n"
   ]
  },
  {
   "cell_type": "markdown",
   "id": "aba5a4e3",
   "metadata": {},
   "source": [
    "# Task 8: Find the gap in the Date Column\n",
    "If the Value counts of date difference is unequal then there is a gap"
   ]
  },
  {
   "cell_type": "code",
   "execution_count": 59,
   "id": "a7d16aae",
   "metadata": {},
   "outputs": [
    {
     "data": {
      "text/plain": [
       "3 days      5\n",
       "11 days     3\n",
       "29 days     3\n",
       "124 days    2\n",
       "182 days    2\n",
       "           ..\n",
       "188 days    1\n",
       "12 days     1\n",
       "25 days     1\n",
       "82 days     1\n",
       "104 days    1\n",
       "Name: date_diff, Length: 79, dtype: int64"
      ]
     },
     "execution_count": 59,
     "metadata": {},
     "output_type": "execute_result"
    }
   ],
   "source": [
    "df8=df.copy()\n",
    "# Convert the date column to a datetime format if it isn't already\n",
    "df8['Birthdate'] = pd.to_datetime(df['Birthdate'])\n",
    "\n",
    "# Sort the dataframe by date\n",
    "df8 = df8.sort_values(by='Birthdate')\n",
    "\n",
    "# Calculate the difference between consecutive dates\n",
    "df8['date_diff'] = df8['Birthdate'].diff()\n",
    "df8['date_diff'].value_counts()"
   ]
  },
  {
   "cell_type": "markdown",
   "id": "f26ec452",
   "metadata": {},
   "source": [
    "# Task 9: To find if there is a correlation between the Numeric Columns\n",
    "\n",
    "We can also find from straight lines if some columns are formulated. We create a column Age2 from Age and see."
   ]
  },
  {
   "cell_type": "code",
   "execution_count": 60,
   "id": "c1be90c4",
   "metadata": {},
   "outputs": [],
   "source": [
    "df9=df.copy()"
   ]
  },
  {
   "cell_type": "code",
   "execution_count": 61,
   "id": "5a5efc11",
   "metadata": {},
   "outputs": [],
   "source": [
    "df9['Age2']=df9['Age']*2"
   ]
  },
  {
   "cell_type": "code",
   "execution_count": 62,
   "id": "0407eb11",
   "metadata": {},
   "outputs": [
    {
     "data": {
      "text/plain": [
       "<seaborn.axisgrid.PairGrid at 0x2398e3560e0>"
      ]
     },
     "execution_count": 62,
     "metadata": {},
     "output_type": "execute_result"
    },
    {
     "data": {
      "image/png": "[encoded data removed]",
      "text/plain": [
       "<Figure size 1000x1000 with 20 Axes>"
      ]
     },
     "metadata": {},
     "output_type": "display_data"
    }
   ],
   "source": [
    "import matplotlib.pyplot as plt\n",
    "import seaborn as sns\n",
    "sns.pairplot(df9)"
   ]
  },
  {
   "cell_type": "code",
   "execution_count": null,
   "id": "5c72f54e",
   "metadata": {},
   "outputs": [],
   "source": []
  }
 ],
 "metadata": {
  "kernelspec": {
   "display_name": "Python 3 (ipykernel)",
   "language": "python",
   "name": "python3"
  },
  "language_info": {
   "codemirror_mode": {
    "name": "ipython",
    "version": 3
   },
   "file_extension": ".py",
   "mimetype": "text/x-python",
   "name": "python",
   "nbconvert_exporter": "python",
   "pygments_lexer": "ipython3",
   "version": "3.10.9"
  }
 },
 "nbformat": 4,
 "nbformat_minor": 5
}
