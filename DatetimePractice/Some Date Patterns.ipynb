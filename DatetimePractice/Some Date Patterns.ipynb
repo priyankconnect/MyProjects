{
 "cells": [
  {
   "cell_type": "markdown",
   "id": "e473fd89",
   "metadata": {},
   "source": [
    "## Generate Date Range for Last Week ( Starting from Monday to Sunday)"
   ]
  },
  {
   "cell_type": "code",
   "execution_count": 1,
   "id": "ff03da11",
   "metadata": {},
   "outputs": [
    {
     "name": "stdout",
     "output_type": "stream",
     "text": [
      "Last Monday: 2023-08-06\n",
      "Last Sunday: 2023-08-12\n",
      "Filtered DataFrame:\n",
      "Empty DataFrame\n",
      "Columns: [date_column]\n",
      "Index: []\n"
     ]
    }
   ],
   "source": [
    "import pandas as pd\n",
    "from datetime import timedelta, date\n",
    "\n",
    "# Sample data with a date column\n",
    "data = {'date_column': ['2023-08-15', '2023-08-16', '2023-08-17', '2023-08-18', '2023-08-19', '2023-08-20', '2023-08-21']}\n",
    "df = pd.DataFrame(data)\n",
    "df['date_column'] = pd.to_datetime(df['date_column'])\n",
    "\n",
    "# Get today's date\n",
    "today = date.today()\n",
    "\n",
    "# Check if today is in the current week or the next week\n",
    "if today.weekday() < 6:  # 0-5 corresponds to Monday to Saturday\n",
    "    days_since_last_monday = (today.weekday() + 1) % 7  # 1 corresponds to Tuesday (starting day of the week)\n",
    "    last_monday = today - timedelta(days=days_since_last_monday, weeks=1)\n",
    "    last_sunday = last_monday + timedelta(days=6)\n",
    "else:\n",
    "    # If today is Sunday, adjust to the previous week\n",
    "    last_monday = today - timedelta(days=6, weeks=1)\n",
    "    last_sunday = last_monday + timedelta(days=6)\n",
    "\n",
    "# Filter the DataFrame for the date range\n",
    "filtered_df = df[(df['date_column'].dt.date >= last_monday) & (df['date_column'].dt.date <= last_sunday)]\n",
    "\n",
    "print(\"Last Monday:\", last_monday)\n",
    "print(\"Last Sunday:\", last_sunday)\n",
    "print(\"Filtered DataFrame:\")\n",
    "print(filtered_df)\n"
   ]
  },
  {
   "cell_type": "markdown",
   "id": "c01b7d55",
   "metadata": {},
   "source": [
    "## Generate Date Range for Last Month"
   ]
  },
  {
   "cell_type": "code",
   "execution_count": 2,
   "id": "742828f0",
   "metadata": {},
   "outputs": [
    {
     "name": "stdout",
     "output_type": "stream",
     "text": [
      "First day of last month: 2023-07-01\n",
      "Last day of last month: 2023-07-31\n",
      "Filtered DataFrame:\n",
      "Empty DataFrame\n",
      "Columns: [date_column]\n",
      "Index: []\n"
     ]
    }
   ],
   "source": [
    "import pandas as pd\n",
    "from datetime import date, timedelta\n",
    "\n",
    "# Sample data with a date column\n",
    "data = {'date_column': ['2023-08-15', '2023-08-16', '2023-08-17', '2023-08-18', '2023-08-19', '2023-08-20', '2023-08-21']}\n",
    "df = pd.DataFrame(data)\n",
    "df['date_column'] = pd.to_datetime(df['date_column'])\n",
    "\n",
    "# Get today's date\n",
    "today = date.today()\n",
    "\n",
    "# Calculate the first day of the current month\n",
    "first_day_this_month = today.replace(day=1)\n",
    "\n",
    "# Calculate the last day of the previous month\n",
    "last_day_last_month = first_day_this_month - timedelta(days=1)\n",
    "\n",
    "# Calculate the first day of the previous month\n",
    "first_day_last_month = last_day_last_month.replace(day=1)\n",
    "\n",
    "# Filter the DataFrame for the date range\n",
    "filtered_df = df[(df['date_column'].dt.date >= first_day_last_month) & (df['date_column'].dt.date <= last_day_last_month)]\n",
    "\n",
    "print(\"First day of last month:\", first_day_last_month)\n",
    "print(\"Last day of last month:\", last_day_last_month)\n",
    "print(\"Filtered DataFrame:\")\n",
    "print(filtered_df)\n"
   ]
  },
  {
   "cell_type": "markdown",
   "id": "42d07101",
   "metadata": {},
   "source": [
    "## Generate Date Range for Last Quarter"
   ]
  },
  {
   "cell_type": "code",
   "execution_count": 3,
   "id": "eb139371",
   "metadata": {},
   "outputs": [
    {
     "name": "stdout",
     "output_type": "stream",
     "text": [
      "First day of last quarter: 2023-04-30 00:00:00\n",
      "Last day of last quarter: 2023-06-30 00:00:00\n",
      "Filtered DataFrame:\n",
      "Empty DataFrame\n",
      "Columns: [date_column]\n",
      "Index: []\n"
     ]
    }
   ],
   "source": [
    "import pandas as pd\n",
    "from datetime import date, timedelta\n",
    "\n",
    "# Sample data with a date column\n",
    "data = {'date_column': ['2023-08-15', '2023-08-16', '2023-08-17', '2023-08-18', '2023-08-19', '2023-08-20', '2023-08-21']}\n",
    "df = pd.DataFrame(data)\n",
    "df['date_column'] = pd.to_datetime(df['date_column'])\n",
    "\n",
    "# Get today's date\n",
    "today = date.today()\n",
    "\n",
    "# Calculate the last day of the previous quarter\n",
    "last_quarter_end = pd.Timestamp(today.year, ((today.month - 1) // 3) * 3 + 1, 1) - pd.DateOffset(days=1)\n",
    "\n",
    "# Calculate the first day of the previous quarter\n",
    "last_quarter_start = last_quarter_end - pd.DateOffset(months=2)\n",
    "\n",
    "# Filter the DataFrame for the date range\n",
    "filtered_df = df[(df['date_column'] >= last_quarter_start) & (df['date_column'] <= last_quarter_end)]\n",
    "\n",
    "print(\"First day of last quarter:\", last_quarter_start)\n",
    "print(\"Last day of last quarter:\", last_quarter_end)\n",
    "print(\"Filtered DataFrame:\")\n",
    "print(filtered_df)\n"
   ]
  },
  {
   "cell_type": "markdown",
   "id": "572cc59f",
   "metadata": {},
   "source": [
    "## Generate Date Range for Current Week Till today"
   ]
  },
  {
   "cell_type": "code",
   "execution_count": 4,
   "id": "0a494989",
   "metadata": {},
   "outputs": [
    {
     "name": "stdout",
     "output_type": "stream",
     "text": [
      "First day of current week: 2023-08-14 00:00:00\n",
      "Today: 2023-08-16 00:00:00\n",
      "Filtered DataFrame:\n",
      "  date_column\n",
      "0  2023-08-15\n",
      "1  2023-08-16\n"
     ]
    }
   ],
   "source": [
    "import pandas as pd\n",
    "from datetime import date, timedelta, datetime\n",
    "\n",
    "# Sample data with a date column\n",
    "data = {'date_column': ['2023-08-15', '2023-08-16', '2023-08-17', '2023-08-18', '2023-08-19', '2023-08-20', '2023-08-21']}\n",
    "df = pd.DataFrame(data)\n",
    "df['date_column'] = pd.to_datetime(df['date_column'])\n",
    "\n",
    "# Get today's date\n",
    "today = date.today()\n",
    "\n",
    "# Calculate the first day of the current week (Monday)\n",
    "first_day_of_week = today - timedelta(days=today.weekday())\n",
    "\n",
    "# Convert date objects to datetime objects for comparison\n",
    "first_day_of_week_dt = datetime.combine(first_day_of_week, datetime.min.time())\n",
    "today_dt = datetime.combine(today, datetime.min.time())\n",
    "\n",
    "# Filter the DataFrame for the date range\n",
    "filtered_df = df[(df['date_column'] >= first_day_of_week_dt) & (df['date_column'] <= today_dt)]\n",
    "\n",
    "print(\"First day of current week:\", first_day_of_week_dt)\n",
    "print(\"Today:\", today_dt)\n",
    "print(\"Filtered DataFrame:\")\n",
    "print(filtered_df)\n"
   ]
  },
  {
   "cell_type": "markdown",
   "id": "fad55ce8",
   "metadata": {},
   "source": [
    "## Generate Date Range for Current Month Till today"
   ]
  },
  {
   "cell_type": "code",
   "execution_count": 5,
   "id": "442792e4",
   "metadata": {},
   "outputs": [
    {
     "name": "stdout",
     "output_type": "stream",
     "text": [
      "First day of current month: 2023-08-01\n",
      "Today: 2023-08-16\n",
      "Filtered DataFrame:\n",
      "  date_column\n",
      "0  2023-08-15\n",
      "1  2023-08-16\n"
     ]
    }
   ],
   "source": [
    "import pandas as pd\n",
    "from datetime import date, timedelta\n",
    "\n",
    "# Sample data with a date column\n",
    "data = {'date_column': ['2023-08-15', '2023-08-16', '2023-08-17', '2023-08-18', '2023-08-19', '2023-08-20', '2023-08-21']}\n",
    "df = pd.DataFrame(data)\n",
    "df['date_column'] = pd.to_datetime(df['date_column'])\n",
    "\n",
    "# Get today's date\n",
    "today = date.today()\n",
    "\n",
    "# Calculate the first day of the current month\n",
    "first_day_of_month = today.replace(day=1)\n",
    "\n",
    "# Filter the DataFrame for the date range\n",
    "filtered_df = df[(df['date_column'].dt.date >= first_day_of_month) & (df['date_column'].dt.date <= today)]\n",
    "\n",
    "print(\"First day of current month:\", first_day_of_month)\n",
    "print(\"Today:\", today)\n",
    "print(\"Filtered DataFrame:\")\n",
    "print(filtered_df)\n"
   ]
  },
  {
   "cell_type": "markdown",
   "id": "d2f88694",
   "metadata": {},
   "source": [
    "## Generate Date Range for Current Quarter Till today"
   ]
  },
  {
   "cell_type": "code",
   "execution_count": 7,
   "id": "520877eb",
   "metadata": {},
   "outputs": [
    {
     "name": "stdout",
     "output_type": "stream",
     "text": [
      "First day of current quarter: 2023-07-01 00:00:00\n",
      "Today: 2023-08-16 00:00:00\n",
      "Filtered DataFrame:\n",
      "  date_column\n",
      "0  2023-08-15\n",
      "1  2023-08-16\n"
     ]
    }
   ],
   "source": [
    "import pandas as pd\n",
    "from datetime import date, timedelta, datetime\n",
    "\n",
    "# Sample data with a date column\n",
    "data = {'date_column': ['2023-08-15', '2023-08-16', '2023-08-17', '2023-08-18', '2023-08-19', '2023-08-20', '2023-08-21']}\n",
    "df = pd.DataFrame(data)\n",
    "df['date_column'] = pd.to_datetime(df['date_column'])\n",
    "\n",
    "# Get today's date\n",
    "today = date.today()\n",
    "\n",
    "# Calculate the first day of the current quarter\n",
    "first_day_of_quarter = pd.Timestamp(today.year, ((today.month - 1) // 3) * 3 + 1, 1)\n",
    "\n",
    "# Convert date objects to datetime objects for comparison\n",
    "first_day_of_quarter_dt = datetime.combine(first_day_of_quarter.date(), datetime.min.time())\n",
    "today_dt = datetime.combine(today, datetime.min.time())\n",
    "\n",
    "# Filter the DataFrame for the date range\n",
    "filtered_df = df[(df['date_column'] >= first_day_of_quarter_dt) & (df['date_column'] <= today_dt)]\n",
    "\n",
    "print(\"First day of current quarter:\", first_day_of_quarter_dt)\n",
    "print(\"Today:\", today_dt)\n",
    "print(\"Filtered DataFrame:\")\n",
    "print(filtered_df)\n"
   ]
  }
 ],
 "metadata": {
  "kernelspec": {
   "display_name": "Python 3 (ipykernel)",
   "language": "python",
   "name": "python3"
  },
  "language_info": {
   "codemirror_mode": {
    "name": "ipython",
    "version": 3
   },
   "file_extension": ".py",
   "mimetype": "text/x-python",
   "name": "python",
   "nbconvert_exporter": "python",
   "pygments_lexer": "ipython3",
   "version": "3.10.9"
  }
 },
 "nbformat": 4,
 "nbformat_minor": 5
}
