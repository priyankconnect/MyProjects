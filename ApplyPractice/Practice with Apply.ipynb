{
 "cells": [
  {
   "cell_type": "markdown",
   "id": "1e5a3ae0",
   "metadata": {},
   "source": [
    "### Practice with Apply\n",
    "\n",
    "apply takes a function and \"applies\"( i.e. runs it) across each row or column of the dataframe \"simultaneously\". It typically is much faster than writing a loop in python\n",
    "\n",
    "Let's create a dataframe"
   ]
  },
  {
   "cell_type": "code",
   "execution_count": 1,
   "id": "d5cb2663",
   "metadata": {},
   "outputs": [
    {
     "data": {
      "text/html": [
       "<div>\n",
       "<style scoped>\n",
       "    .dataframe tbody tr th:only-of-type {\n",
       "        vertical-align: middle;\n",
       "    }\n",
       "\n",
       "    .dataframe tbody tr th {\n",
       "        vertical-align: top;\n",
       "    }\n",
       "\n",
       "    .dataframe thead th {\n",
       "        text-align: right;\n",
       "    }\n",
       "</style>\n",
       "<table border=\"1\" class=\"dataframe\">\n",
       "  <thead>\n",
       "    <tr style=\"text-align: right;\">\n",
       "      <th></th>\n",
       "      <th>a</th>\n",
       "      <th>b</th>\n",
       "    </tr>\n",
       "  </thead>\n",
       "  <tbody>\n",
       "    <tr>\n",
       "      <th>0</th>\n",
       "      <td>10</td>\n",
       "      <td>20</td>\n",
       "    </tr>\n",
       "    <tr>\n",
       "      <th>1</th>\n",
       "      <td>20</td>\n",
       "      <td>30</td>\n",
       "    </tr>\n",
       "    <tr>\n",
       "      <th>2</th>\n",
       "      <td>30</td>\n",
       "      <td>40</td>\n",
       "    </tr>\n",
       "  </tbody>\n",
       "</table>\n",
       "</div>"
      ],
      "text/plain": [
       "    a   b\n",
       "0  10  20\n",
       "1  20  30\n",
       "2  30  40"
      ]
     },
     "execution_count": 1,
     "metadata": {},
     "output_type": "execute_result"
    }
   ],
   "source": [
    "import pandas as pd\n",
    "\n",
    "df = pd.DataFrame({'a':[10,20,30],\n",
    "                  'b':[20,30,40]})\n",
    "df"
   ]
  },
  {
   "cell_type": "code",
   "execution_count": 4,
   "id": "0896a462",
   "metadata": {},
   "outputs": [
    {
     "data": {
      "text/plain": [
       "0    100\n",
       "1    400\n",
       "2    900\n",
       "Name: a, dtype: int64"
      ]
     },
     "execution_count": 4,
     "metadata": {},
     "output_type": "execute_result"
    }
   ],
   "source": [
    "df['a']**2"
   ]
  },
  {
   "cell_type": "markdown",
   "id": "bdb958d5",
   "metadata": {},
   "source": [
    "We can apply our funcitons over a Series ( i.e. individual row or column)\n",
    "Let's first write a function"
   ]
  },
  {
   "cell_type": "code",
   "execution_count": 5,
   "id": "08d9c5a0",
   "metadata": {},
   "outputs": [],
   "source": [
    "def my_sq(x):\n",
    "    \"\"\"Squares a given value\n",
    "    \"\"\"\n",
    "    return x**2\n"
   ]
  },
  {
   "cell_type": "markdown",
   "id": "a3cdf12f",
   "metadata": {},
   "source": [
    "### Apply over a Series\n",
    "For example we can apply our square function on the 'a' column\n",
    "\n"
   ]
  },
  {
   "cell_type": "code",
   "execution_count": 6,
   "id": "d1ffbccb",
   "metadata": {},
   "outputs": [
    {
     "data": {
      "text/plain": [
       "0    100\n",
       "1    400\n",
       "2    900\n",
       "Name: a, dtype: int64"
      ]
     },
     "execution_count": 6,
     "metadata": {},
     "output_type": "execute_result"
    }
   ],
   "source": [
    "sq = df['a'].apply(my_sq)\n",
    "sq"
   ]
  },
  {
   "cell_type": "markdown",
   "id": "6535d2db",
   "metadata": {},
   "source": [
    "Suppose we create a function with two arguments\n",
    "To apply the function, **the first argument in the apply is the function**, and second argument is the keyword argument"
   ]
  },
  {
   "cell_type": "code",
   "execution_count": 7,
   "id": "aeeb4efb",
   "metadata": {},
   "outputs": [
    {
     "data": {
      "text/plain": [
       "0    100\n",
       "1    400\n",
       "2    900\n",
       "Name: a, dtype: int64"
      ]
     },
     "execution_count": 7,
     "metadata": {},
     "output_type": "execute_result"
    }
   ],
   "source": [
    "def my_exp(x,e):\n",
    "    \"\"\"Calculates the average of 2 number\n",
    "    \"\"\"\n",
    "    return x**e\n",
    "ex = df['a'].apply(my_exp,e=2)\n",
    "ex\n",
    "\n"
   ]
  },
  {
   "cell_type": "code",
   "execution_count": 8,
   "id": "2d632f80",
   "metadata": {},
   "outputs": [
    {
     "data": {
      "text/plain": [
       "0     1000\n",
       "1     8000\n",
       "2    27000\n",
       "Name: a, dtype: int64"
      ]
     },
     "execution_count": 8,
     "metadata": {},
     "output_type": "execute_result"
    }
   ],
   "source": [
    "ex = df['a'].apply(my_exp,e=3)\n",
    "ex"
   ]
  },
  {
   "cell_type": "markdown",
   "id": "2a0ba2de",
   "metadata": {},
   "source": [
    "### Apply over a Dataframe\n",
    "\n",
    "When we apply a function over a dataframe, we first need to specify which axis to apply the function over - eg. column by column or row by row.\n",
    "\n",
    "Lets write a function that takes a single value and prints out the given value"
   ]
  },
  {
   "cell_type": "code",
   "execution_count": 11,
   "id": "0fd77baf",
   "metadata": {},
   "outputs": [],
   "source": [
    "def print_me(x):\n",
    "    print(x**2)"
   ]
  },
  {
   "cell_type": "markdown",
   "id": "44974a38",
   "metadata": {},
   "source": [
    "We pass the axis=0 parameter into apply. If we want the function to work row-wise, we can pass the axis=1 parameter"
   ]
  },
  {
   "cell_type": "markdown",
   "id": "2e87677f",
   "metadata": {},
   "source": [
    "Column wise Operations"
   ]
  },
  {
   "cell_type": "code",
   "execution_count": 12,
   "id": "9db5c376",
   "metadata": {},
   "outputs": [
    {
     "name": "stdout",
     "output_type": "stream",
     "text": [
      "0    100\n",
      "1    400\n",
      "2    900\n",
      "Name: a, dtype: int64\n",
      "0     400\n",
      "1     900\n",
      "2    1600\n",
      "Name: b, dtype: int64\n"
     ]
    },
    {
     "data": {
      "text/plain": [
       "a    None\n",
       "b    None\n",
       "dtype: object"
      ]
     },
     "execution_count": 12,
     "metadata": {},
     "output_type": "execute_result"
    }
   ],
   "source": [
    "df.apply(print_me,axis=0)"
   ]
  },
  {
   "cell_type": "markdown",
   "id": "1ccfc804",
   "metadata": {},
   "source": [
    "If we want to take an average across the column, we can do as below"
   ]
  },
  {
   "cell_type": "code",
   "execution_count": 14,
   "id": "45252f5f",
   "metadata": {},
   "outputs": [
    {
     "name": "stdout",
     "output_type": "stream",
     "text": [
      "a    20.0\n",
      "b    30.0\n",
      "dtype: float64\n"
     ]
    }
   ],
   "source": [
    "def avg_3apply(col):\n",
    "    x = col[0]\n",
    "    y = col[1]\n",
    "    z = col[2]\n",
    "    return (x+y+z)/3\n",
    "\n",
    "print(df.apply(avg_3apply))"
   ]
  },
  {
   "cell_type": "markdown",
   "id": "3de3fd83",
   "metadata": {},
   "source": [
    "### Row-wise Operations\n",
    "They work like column-wise operations. The part that differs is the axis. We will now use axis=1 in the apply method. \n",
    "Thus instead of the entire column being passed into the first argument of the function, the entire row is used as the first argument."
   ]
  },
  {
   "cell_type": "code",
   "execution_count": 16,
   "id": "307f3ba5",
   "metadata": {},
   "outputs": [
    {
     "name": "stdout",
     "output_type": "stream",
     "text": [
      "a    15.0\n",
      "b    25.0\n",
      "dtype: float64\n"
     ]
    }
   ],
   "source": [
    "def avg_2apply(row):\n",
    "    x = row[0]\n",
    "    y = row[1]\n",
    "    return  (x+y)/2\n",
    "\n",
    "print(df.apply(avg_2apply,axis=0))"
   ]
  },
  {
   "cell_type": "markdown",
   "id": "bf1c9f78",
   "metadata": {},
   "source": [
    "### Apply - More advanced"
   ]
  },
  {
   "cell_type": "code",
   "execution_count": 17,
   "id": "ac860467",
   "metadata": {},
   "outputs": [
    {
     "name": "stdout",
     "output_type": "stream",
     "text": [
      "<class 'pandas.core.frame.DataFrame'>\n",
      "RangeIndex: 891 entries, 0 to 890\n",
      "Data columns (total 15 columns):\n",
      " #   Column       Non-Null Count  Dtype   \n",
      "---  ------       --------------  -----   \n",
      " 0   survived     891 non-null    int64   \n",
      " 1   pclass       891 non-null    int64   \n",
      " 2   sex          891 non-null    object  \n",
      " 3   age          714 non-null    float64 \n",
      " 4   sibsp        891 non-null    int64   \n",
      " 5   parch        891 non-null    int64   \n",
      " 6   fare         891 non-null    float64 \n",
      " 7   embarked     889 non-null    object  \n",
      " 8   class        891 non-null    category\n",
      " 9   who          891 non-null    object  \n",
      " 10  adult_male   891 non-null    bool    \n",
      " 11  deck         203 non-null    category\n",
      " 12  embark_town  889 non-null    object  \n",
      " 13  alive        891 non-null    object  \n",
      " 14  alone        891 non-null    bool    \n",
      "dtypes: bool(2), category(2), float64(2), int64(4), object(5)\n",
      "memory usage: 80.7+ KB\n"
     ]
    }
   ],
   "source": [
    "import seaborn as sns\n",
    "titanic = sns.load_dataset(\"titanic\")\n",
    "titanic.info()"
   ]
  },
  {
   "cell_type": "markdown",
   "id": "8a7f98d9",
   "metadata": {},
   "source": [
    "This data set has 891 rows and 15 columns. Almost all of the cells have a value in them. Of the 891 values, age has 714 complete cases and deck has 203 complete cases. One way we can use **apply** is to calculate how many null or NaN values there are in out data, as well as the % of complete cases across each column or across each row. Let's write a function:\n",
    "\n",
    "**1. Number of Missing Values, Proportion of Missing values and Proportion of complete values***"
   ]
  },
  {
   "cell_type": "code",
   "execution_count": 20,
   "id": "dbdc135a",
   "metadata": {},
   "outputs": [],
   "source": [
    "# we'll use the numpy sum function\n",
    "import numpy as np\n",
    "\n",
    "def count_missing(vec):\n",
    "    \"\"\"Counts the number of missing values in a vector\n",
    "    \"\"\"\n",
    "    # get a vector of True/False values\n",
    "    # depending whether the value is missing\n",
    "    null_vec = pd.isnull(vec)\n",
    "    \n",
    "    # take te sum of null_vec\n",
    "    # since null values do not contribute to the sum\n",
    "    null_count = np.sum(null_vec)\n",
    "    \n",
    "    # return the number of missing values in the vector\n",
    "    return null_count\n",
    "\n",
    "#1. Proportion of missing values\n",
    "def prop_missing(vec):\n",
    "    \"\"\"Pecentage of missing values in a vector\n",
    "    \"\"\"\n",
    "    # numerator: Number of missing values\n",
    "    # We can use the count_missing function we just wrote!\n",
    "    num = count_missing(vec)\n",
    "    \n",
    "    # denominator: total number of values in the vector\n",
    "    # We also need to count the missing values\n",
    "    dem = vec.size\n",
    "    \n",
    "    # return the proporiton/percentage of missing\n",
    "    return num/dem\n",
    "\n",
    "#2. Proportion of complete values\n",
    "def prop_complete(vec):\n",
    "    \"\"\"Percentage of nonmissing values in a vector\n",
    "    \"\"\"\n",
    "    \n",
    "    # we can utilize the percent_missing function we just wrote\n",
    "    # by subtracting its value from 1\n",
    "    return 1-prop_missing(vec)"
   ]
  },
  {
   "cell_type": "markdown",
   "id": "da79a63c",
   "metadata": {},
   "source": [
    "These vectorized functions work across a vector and can handle any arbitrary amount of information"
   ]
  },
  {
   "cell_type": "markdown",
   "id": "ec747dac",
   "metadata": {},
   "source": [
    "### Column-wise Operations"
   ]
  },
  {
   "cell_type": "code",
   "execution_count": 21,
   "id": "225c832e",
   "metadata": {},
   "outputs": [],
   "source": [
    "cmis_col = titanic.apply(count_missing)\n",
    "pmis_col = titanic.apply(prop_missing)\n",
    "pcom_col= titanic.apply(prop_complete)"
   ]
  },
  {
   "cell_type": "code",
   "execution_count": 22,
   "id": "df159789",
   "metadata": {},
   "outputs": [
    {
     "data": {
      "text/plain": [
       "survived         0\n",
       "pclass           0\n",
       "sex              0\n",
       "age            177\n",
       "sibsp            0\n",
       "parch            0\n",
       "fare             0\n",
       "embarked         2\n",
       "class            0\n",
       "who              0\n",
       "adult_male       0\n",
       "deck           688\n",
       "embark_town      2\n",
       "alive            0\n",
       "alone            0\n",
       "dtype: int64"
      ]
     },
     "execution_count": 22,
     "metadata": {},
     "output_type": "execute_result"
    }
   ],
   "source": [
    "cmis_col"
   ]
  },
  {
   "cell_type": "code",
   "execution_count": 23,
   "id": "5c1bd266",
   "metadata": {},
   "outputs": [
    {
     "data": {
      "text/plain": [
       "survived       0.000000\n",
       "pclass         0.000000\n",
       "sex            0.000000\n",
       "age            0.198653\n",
       "sibsp          0.000000\n",
       "parch          0.000000\n",
       "fare           0.000000\n",
       "embarked       0.002245\n",
       "class          0.000000\n",
       "who            0.000000\n",
       "adult_male     0.000000\n",
       "deck           0.772166\n",
       "embark_town    0.002245\n",
       "alive          0.000000\n",
       "alone          0.000000\n",
       "dtype: float64"
      ]
     },
     "execution_count": 23,
     "metadata": {},
     "output_type": "execute_result"
    }
   ],
   "source": [
    "pmis_col"
   ]
  },
  {
   "cell_type": "code",
   "execution_count": 24,
   "id": "1e871fb1",
   "metadata": {},
   "outputs": [
    {
     "name": "stdout",
     "output_type": "stream",
     "text": [
      "survived       1.000000\n",
      "pclass         1.000000\n",
      "sex            1.000000\n",
      "age            0.801347\n",
      "sibsp          1.000000\n",
      "parch          1.000000\n",
      "fare           1.000000\n",
      "embarked       0.997755\n",
      "class          1.000000\n",
      "who            1.000000\n",
      "adult_male     1.000000\n",
      "deck           0.227834\n",
      "embark_town    0.997755\n",
      "alive          1.000000\n",
      "alone          1.000000\n",
      "dtype: float64\n"
     ]
    }
   ],
   "source": [
    "print(pcom_col)"
   ]
  },
  {
   "cell_type": "markdown",
   "id": "eabee64e",
   "metadata": {},
   "source": [
    "We can check if the missing values are random or some other reason\n"
   ]
  },
  {
   "cell_type": "code",
   "execution_count": 26,
   "id": "8b28e2f1",
   "metadata": {},
   "outputs": [
    {
     "data": {
      "text/html": [
       "<div>\n",
       "<style scoped>\n",
       "    .dataframe tbody tr th:only-of-type {\n",
       "        vertical-align: middle;\n",
       "    }\n",
       "\n",
       "    .dataframe tbody tr th {\n",
       "        vertical-align: top;\n",
       "    }\n",
       "\n",
       "    .dataframe thead th {\n",
       "        text-align: right;\n",
       "    }\n",
       "</style>\n",
       "<table border=\"1\" class=\"dataframe\">\n",
       "  <thead>\n",
       "    <tr style=\"text-align: right;\">\n",
       "      <th></th>\n",
       "      <th>survived</th>\n",
       "      <th>pclass</th>\n",
       "      <th>sex</th>\n",
       "      <th>age</th>\n",
       "      <th>sibsp</th>\n",
       "      <th>parch</th>\n",
       "      <th>fare</th>\n",
       "      <th>embarked</th>\n",
       "      <th>class</th>\n",
       "      <th>who</th>\n",
       "      <th>adult_male</th>\n",
       "      <th>deck</th>\n",
       "      <th>embark_town</th>\n",
       "      <th>alive</th>\n",
       "      <th>alone</th>\n",
       "    </tr>\n",
       "  </thead>\n",
       "  <tbody>\n",
       "    <tr>\n",
       "      <th>61</th>\n",
       "      <td>1</td>\n",
       "      <td>1</td>\n",
       "      <td>female</td>\n",
       "      <td>38.0</td>\n",
       "      <td>0</td>\n",
       "      <td>0</td>\n",
       "      <td>80.0</td>\n",
       "      <td>NaN</td>\n",
       "      <td>First</td>\n",
       "      <td>woman</td>\n",
       "      <td>False</td>\n",
       "      <td>B</td>\n",
       "      <td>NaN</td>\n",
       "      <td>yes</td>\n",
       "      <td>True</td>\n",
       "    </tr>\n",
       "    <tr>\n",
       "      <th>829</th>\n",
       "      <td>1</td>\n",
       "      <td>1</td>\n",
       "      <td>female</td>\n",
       "      <td>62.0</td>\n",
       "      <td>0</td>\n",
       "      <td>0</td>\n",
       "      <td>80.0</td>\n",
       "      <td>NaN</td>\n",
       "      <td>First</td>\n",
       "      <td>woman</td>\n",
       "      <td>False</td>\n",
       "      <td>B</td>\n",
       "      <td>NaN</td>\n",
       "      <td>yes</td>\n",
       "      <td>True</td>\n",
       "    </tr>\n",
       "  </tbody>\n",
       "</table>\n",
       "</div>"
      ],
      "text/plain": [
       "     survived  pclass     sex   age  sibsp  parch  fare embarked  class  \\\n",
       "61          1       1  female  38.0      0      0  80.0      NaN  First   \n",
       "829         1       1  female  62.0      0      0  80.0      NaN  First   \n",
       "\n",
       "       who  adult_male deck embark_town alive  alone  \n",
       "61   woman       False    B         NaN   yes   True  \n",
       "829  woman       False    B         NaN   yes   True  "
      ]
     },
     "execution_count": 26,
     "metadata": {},
     "output_type": "execute_result"
    }
   ],
   "source": [
    "titanic.loc[pd.isnull(titanic.embark_town),:]"
   ]
  },
  {
   "cell_type": "markdown",
   "id": "1c727d07",
   "metadata": {},
   "source": [
    "### Row-wise Operations"
   ]
  },
  {
   "cell_type": "code",
   "execution_count": 28,
   "id": "d7c15ae0",
   "metadata": {},
   "outputs": [
    {
     "name": "stdout",
     "output_type": "stream",
     "text": [
      "0    1\n",
      "1    0\n",
      "2    1\n",
      "3    0\n",
      "4    1\n",
      "dtype: int64\n",
      "0    0.066667\n",
      "1    0.000000\n",
      "2    0.066667\n",
      "3    0.000000\n",
      "4    0.066667\n",
      "dtype: float64\n",
      "0    0.933333\n",
      "1    1.000000\n",
      "2    0.933333\n",
      "3    1.000000\n",
      "4    0.933333\n",
      "dtype: float64\n",
      "1    549\n",
      "0    182\n",
      "2    160\n",
      "dtype: int64\n"
     ]
    }
   ],
   "source": [
    "cmis_row = titanic.apply(count_missing,axis=1)\n",
    "pmis_row = titanic.apply(prop_missing,axis =1)\n",
    "pcom_row = titanic.apply(prop_complete,axis = 1)\n",
    "\n",
    "print(cmis_row.head())\n",
    "print(pmis_row.head())\n",
    "print(pcom_row.head())\n",
    "\n",
    "# One thing we can do with this analysis is to see if we have any rows in out data that have multiple missing values.  \n",
    "\n",
    "print(cmis_row.value_counts())"
   ]
  },
  {
   "cell_type": "markdown",
   "id": "9b9b325f",
   "metadata": {},
   "source": [
    "Since we are using apply in a row-wise mannaer, we can actually create a new column containing these values"
   ]
  },
  {
   "cell_type": "code",
   "execution_count": 29,
   "id": "cad41a00",
   "metadata": {},
   "outputs": [
    {
     "data": {
      "text/html": [
       "<div>\n",
       "<style scoped>\n",
       "    .dataframe tbody tr th:only-of-type {\n",
       "        vertical-align: middle;\n",
       "    }\n",
       "\n",
       "    .dataframe tbody tr th {\n",
       "        vertical-align: top;\n",
       "    }\n",
       "\n",
       "    .dataframe thead th {\n",
       "        text-align: right;\n",
       "    }\n",
       "</style>\n",
       "<table border=\"1\" class=\"dataframe\">\n",
       "  <thead>\n",
       "    <tr style=\"text-align: right;\">\n",
       "      <th></th>\n",
       "      <th>survived</th>\n",
       "      <th>pclass</th>\n",
       "      <th>sex</th>\n",
       "      <th>age</th>\n",
       "      <th>sibsp</th>\n",
       "      <th>parch</th>\n",
       "      <th>fare</th>\n",
       "      <th>embarked</th>\n",
       "      <th>class</th>\n",
       "      <th>who</th>\n",
       "      <th>adult_male</th>\n",
       "      <th>deck</th>\n",
       "      <th>embark_town</th>\n",
       "      <th>alive</th>\n",
       "      <th>alone</th>\n",
       "      <th>num_missing</th>\n",
       "    </tr>\n",
       "  </thead>\n",
       "  <tbody>\n",
       "    <tr>\n",
       "      <th>0</th>\n",
       "      <td>0</td>\n",
       "      <td>3</td>\n",
       "      <td>male</td>\n",
       "      <td>22.0</td>\n",
       "      <td>1</td>\n",
       "      <td>0</td>\n",
       "      <td>7.2500</td>\n",
       "      <td>S</td>\n",
       "      <td>Third</td>\n",
       "      <td>man</td>\n",
       "      <td>True</td>\n",
       "      <td>NaN</td>\n",
       "      <td>Southampton</td>\n",
       "      <td>no</td>\n",
       "      <td>False</td>\n",
       "      <td>1</td>\n",
       "    </tr>\n",
       "    <tr>\n",
       "      <th>1</th>\n",
       "      <td>1</td>\n",
       "      <td>1</td>\n",
       "      <td>female</td>\n",
       "      <td>38.0</td>\n",
       "      <td>1</td>\n",
       "      <td>0</td>\n",
       "      <td>71.2833</td>\n",
       "      <td>C</td>\n",
       "      <td>First</td>\n",
       "      <td>woman</td>\n",
       "      <td>False</td>\n",
       "      <td>C</td>\n",
       "      <td>Cherbourg</td>\n",
       "      <td>yes</td>\n",
       "      <td>False</td>\n",
       "      <td>0</td>\n",
       "    </tr>\n",
       "    <tr>\n",
       "      <th>2</th>\n",
       "      <td>1</td>\n",
       "      <td>3</td>\n",
       "      <td>female</td>\n",
       "      <td>26.0</td>\n",
       "      <td>0</td>\n",
       "      <td>0</td>\n",
       "      <td>7.9250</td>\n",
       "      <td>S</td>\n",
       "      <td>Third</td>\n",
       "      <td>woman</td>\n",
       "      <td>False</td>\n",
       "      <td>NaN</td>\n",
       "      <td>Southampton</td>\n",
       "      <td>yes</td>\n",
       "      <td>True</td>\n",
       "      <td>1</td>\n",
       "    </tr>\n",
       "    <tr>\n",
       "      <th>3</th>\n",
       "      <td>1</td>\n",
       "      <td>1</td>\n",
       "      <td>female</td>\n",
       "      <td>35.0</td>\n",
       "      <td>1</td>\n",
       "      <td>0</td>\n",
       "      <td>53.1000</td>\n",
       "      <td>S</td>\n",
       "      <td>First</td>\n",
       "      <td>woman</td>\n",
       "      <td>False</td>\n",
       "      <td>C</td>\n",
       "      <td>Southampton</td>\n",
       "      <td>yes</td>\n",
       "      <td>False</td>\n",
       "      <td>0</td>\n",
       "    </tr>\n",
       "    <tr>\n",
       "      <th>4</th>\n",
       "      <td>0</td>\n",
       "      <td>3</td>\n",
       "      <td>male</td>\n",
       "      <td>35.0</td>\n",
       "      <td>0</td>\n",
       "      <td>0</td>\n",
       "      <td>8.0500</td>\n",
       "      <td>S</td>\n",
       "      <td>Third</td>\n",
       "      <td>man</td>\n",
       "      <td>True</td>\n",
       "      <td>NaN</td>\n",
       "      <td>Southampton</td>\n",
       "      <td>no</td>\n",
       "      <td>True</td>\n",
       "      <td>1</td>\n",
       "    </tr>\n",
       "  </tbody>\n",
       "</table>\n",
       "</div>"
      ],
      "text/plain": [
       "   survived  pclass     sex   age  sibsp  parch     fare embarked  class  \\\n",
       "0         0       3    male  22.0      1      0   7.2500        S  Third   \n",
       "1         1       1  female  38.0      1      0  71.2833        C  First   \n",
       "2         1       3  female  26.0      0      0   7.9250        S  Third   \n",
       "3         1       1  female  35.0      1      0  53.1000        S  First   \n",
       "4         0       3    male  35.0      0      0   8.0500        S  Third   \n",
       "\n",
       "     who  adult_male deck  embark_town alive  alone  num_missing  \n",
       "0    man        True  NaN  Southampton    no  False            1  \n",
       "1  woman       False    C    Cherbourg   yes  False            0  \n",
       "2  woman       False  NaN  Southampton   yes   True            1  \n",
       "3  woman       False    C  Southampton   yes  False            0  \n",
       "4    man        True  NaN  Southampton    no   True            1  "
      ]
     },
     "execution_count": 29,
     "metadata": {},
     "output_type": "execute_result"
    }
   ],
   "source": [
    "titanic['num_missing'] = titanic.apply(count_missing,axis=1)\n",
    "titanic.head()"
   ]
  },
  {
   "cell_type": "markdown",
   "id": "66473672",
   "metadata": {},
   "source": [
    "We can then look at the rows with multiple missing values. Since there are too many rows with multiple values, lets randomize the results"
   ]
  },
  {
   "cell_type": "code",
   "execution_count": 30,
   "id": "5422139b",
   "metadata": {},
   "outputs": [
    {
     "data": {
      "text/html": [
       "<div>\n",
       "<style scoped>\n",
       "    .dataframe tbody tr th:only-of-type {\n",
       "        vertical-align: middle;\n",
       "    }\n",
       "\n",
       "    .dataframe tbody tr th {\n",
       "        vertical-align: top;\n",
       "    }\n",
       "\n",
       "    .dataframe thead th {\n",
       "        text-align: right;\n",
       "    }\n",
       "</style>\n",
       "<table border=\"1\" class=\"dataframe\">\n",
       "  <thead>\n",
       "    <tr style=\"text-align: right;\">\n",
       "      <th></th>\n",
       "      <th>survived</th>\n",
       "      <th>pclass</th>\n",
       "      <th>sex</th>\n",
       "      <th>age</th>\n",
       "      <th>sibsp</th>\n",
       "      <th>parch</th>\n",
       "      <th>fare</th>\n",
       "      <th>embarked</th>\n",
       "      <th>class</th>\n",
       "      <th>who</th>\n",
       "      <th>adult_male</th>\n",
       "      <th>deck</th>\n",
       "      <th>embark_town</th>\n",
       "      <th>alive</th>\n",
       "      <th>alone</th>\n",
       "      <th>num_missing</th>\n",
       "    </tr>\n",
       "  </thead>\n",
       "  <tbody>\n",
       "    <tr>\n",
       "      <th>613</th>\n",
       "      <td>0</td>\n",
       "      <td>3</td>\n",
       "      <td>male</td>\n",
       "      <td>NaN</td>\n",
       "      <td>0</td>\n",
       "      <td>0</td>\n",
       "      <td>7.7500</td>\n",
       "      <td>Q</td>\n",
       "      <td>Third</td>\n",
       "      <td>man</td>\n",
       "      <td>True</td>\n",
       "      <td>NaN</td>\n",
       "      <td>Queenstown</td>\n",
       "      <td>no</td>\n",
       "      <td>True</td>\n",
       "      <td>2</td>\n",
       "    </tr>\n",
       "    <tr>\n",
       "      <th>648</th>\n",
       "      <td>0</td>\n",
       "      <td>3</td>\n",
       "      <td>male</td>\n",
       "      <td>NaN</td>\n",
       "      <td>0</td>\n",
       "      <td>0</td>\n",
       "      <td>7.5500</td>\n",
       "      <td>S</td>\n",
       "      <td>Third</td>\n",
       "      <td>man</td>\n",
       "      <td>True</td>\n",
       "      <td>NaN</td>\n",
       "      <td>Southampton</td>\n",
       "      <td>no</td>\n",
       "      <td>True</td>\n",
       "      <td>2</td>\n",
       "    </tr>\n",
       "    <tr>\n",
       "      <th>241</th>\n",
       "      <td>1</td>\n",
       "      <td>3</td>\n",
       "      <td>female</td>\n",
       "      <td>NaN</td>\n",
       "      <td>1</td>\n",
       "      <td>0</td>\n",
       "      <td>15.5000</td>\n",
       "      <td>Q</td>\n",
       "      <td>Third</td>\n",
       "      <td>woman</td>\n",
       "      <td>False</td>\n",
       "      <td>NaN</td>\n",
       "      <td>Queenstown</td>\n",
       "      <td>yes</td>\n",
       "      <td>False</td>\n",
       "      <td>2</td>\n",
       "    </tr>\n",
       "    <tr>\n",
       "      <th>656</th>\n",
       "      <td>0</td>\n",
       "      <td>3</td>\n",
       "      <td>male</td>\n",
       "      <td>NaN</td>\n",
       "      <td>0</td>\n",
       "      <td>0</td>\n",
       "      <td>7.8958</td>\n",
       "      <td>S</td>\n",
       "      <td>Third</td>\n",
       "      <td>man</td>\n",
       "      <td>True</td>\n",
       "      <td>NaN</td>\n",
       "      <td>Southampton</td>\n",
       "      <td>no</td>\n",
       "      <td>True</td>\n",
       "      <td>2</td>\n",
       "    </tr>\n",
       "    <tr>\n",
       "      <th>181</th>\n",
       "      <td>0</td>\n",
       "      <td>2</td>\n",
       "      <td>male</td>\n",
       "      <td>NaN</td>\n",
       "      <td>0</td>\n",
       "      <td>0</td>\n",
       "      <td>15.0500</td>\n",
       "      <td>C</td>\n",
       "      <td>Second</td>\n",
       "      <td>man</td>\n",
       "      <td>True</td>\n",
       "      <td>NaN</td>\n",
       "      <td>Cherbourg</td>\n",
       "      <td>no</td>\n",
       "      <td>True</td>\n",
       "      <td>2</td>\n",
       "    </tr>\n",
       "    <tr>\n",
       "      <th>32</th>\n",
       "      <td>1</td>\n",
       "      <td>3</td>\n",
       "      <td>female</td>\n",
       "      <td>NaN</td>\n",
       "      <td>0</td>\n",
       "      <td>0</td>\n",
       "      <td>7.7500</td>\n",
       "      <td>Q</td>\n",
       "      <td>Third</td>\n",
       "      <td>woman</td>\n",
       "      <td>False</td>\n",
       "      <td>NaN</td>\n",
       "      <td>Queenstown</td>\n",
       "      <td>yes</td>\n",
       "      <td>True</td>\n",
       "      <td>2</td>\n",
       "    </tr>\n",
       "    <tr>\n",
       "      <th>490</th>\n",
       "      <td>0</td>\n",
       "      <td>3</td>\n",
       "      <td>male</td>\n",
       "      <td>NaN</td>\n",
       "      <td>1</td>\n",
       "      <td>0</td>\n",
       "      <td>19.9667</td>\n",
       "      <td>S</td>\n",
       "      <td>Third</td>\n",
       "      <td>man</td>\n",
       "      <td>True</td>\n",
       "      <td>NaN</td>\n",
       "      <td>Southampton</td>\n",
       "      <td>no</td>\n",
       "      <td>False</td>\n",
       "      <td>2</td>\n",
       "    </tr>\n",
       "    <tr>\n",
       "      <th>375</th>\n",
       "      <td>1</td>\n",
       "      <td>1</td>\n",
       "      <td>female</td>\n",
       "      <td>NaN</td>\n",
       "      <td>1</td>\n",
       "      <td>0</td>\n",
       "      <td>82.1708</td>\n",
       "      <td>C</td>\n",
       "      <td>First</td>\n",
       "      <td>woman</td>\n",
       "      <td>False</td>\n",
       "      <td>NaN</td>\n",
       "      <td>Cherbourg</td>\n",
       "      <td>yes</td>\n",
       "      <td>False</td>\n",
       "      <td>2</td>\n",
       "    </tr>\n",
       "    <tr>\n",
       "      <th>667</th>\n",
       "      <td>0</td>\n",
       "      <td>3</td>\n",
       "      <td>male</td>\n",
       "      <td>NaN</td>\n",
       "      <td>0</td>\n",
       "      <td>0</td>\n",
       "      <td>7.7750</td>\n",
       "      <td>S</td>\n",
       "      <td>Third</td>\n",
       "      <td>man</td>\n",
       "      <td>True</td>\n",
       "      <td>NaN</td>\n",
       "      <td>Southampton</td>\n",
       "      <td>no</td>\n",
       "      <td>True</td>\n",
       "      <td>2</td>\n",
       "    </tr>\n",
       "    <tr>\n",
       "      <th>601</th>\n",
       "      <td>0</td>\n",
       "      <td>3</td>\n",
       "      <td>male</td>\n",
       "      <td>NaN</td>\n",
       "      <td>0</td>\n",
       "      <td>0</td>\n",
       "      <td>7.8958</td>\n",
       "      <td>S</td>\n",
       "      <td>Third</td>\n",
       "      <td>man</td>\n",
       "      <td>True</td>\n",
       "      <td>NaN</td>\n",
       "      <td>Southampton</td>\n",
       "      <td>no</td>\n",
       "      <td>True</td>\n",
       "      <td>2</td>\n",
       "    </tr>\n",
       "  </tbody>\n",
       "</table>\n",
       "</div>"
      ],
      "text/plain": [
       "     survived  pclass     sex  age  sibsp  parch     fare embarked   class  \\\n",
       "613         0       3    male  NaN      0      0   7.7500        Q   Third   \n",
       "648         0       3    male  NaN      0      0   7.5500        S   Third   \n",
       "241         1       3  female  NaN      1      0  15.5000        Q   Third   \n",
       "656         0       3    male  NaN      0      0   7.8958        S   Third   \n",
       "181         0       2    male  NaN      0      0  15.0500        C  Second   \n",
       "32          1       3  female  NaN      0      0   7.7500        Q   Third   \n",
       "490         0       3    male  NaN      1      0  19.9667        S   Third   \n",
       "375         1       1  female  NaN      1      0  82.1708        C   First   \n",
       "667         0       3    male  NaN      0      0   7.7750        S   Third   \n",
       "601         0       3    male  NaN      0      0   7.8958        S   Third   \n",
       "\n",
       "       who  adult_male deck  embark_town alive  alone  num_missing  \n",
       "613    man        True  NaN   Queenstown    no   True            2  \n",
       "648    man        True  NaN  Southampton    no   True            2  \n",
       "241  woman       False  NaN   Queenstown   yes  False            2  \n",
       "656    man        True  NaN  Southampton    no   True            2  \n",
       "181    man        True  NaN    Cherbourg    no   True            2  \n",
       "32   woman       False  NaN   Queenstown   yes   True            2  \n",
       "490    man        True  NaN  Southampton    no  False            2  \n",
       "375  woman       False  NaN    Cherbourg   yes  False            2  \n",
       "667    man        True  NaN  Southampton    no   True            2  \n",
       "601    man        True  NaN  Southampton    no   True            2  "
      ]
     },
     "execution_count": 30,
     "metadata": {},
     "output_type": "execute_result"
    }
   ],
   "source": [
    "titanic.loc[titanic.num_missing >1 ,:].sample(10)"
   ]
  },
  {
   "cell_type": "markdown",
   "id": "46b7f238",
   "metadata": {},
   "source": [
    "### More Practice with Apply\n",
    "\n",
    "Using apply on rows:\n",
    "\n",
    "Let's say you have a DataFrame with columns \"A\" and \"B\", and you want to calculate the sum of values in each row:"
   ]
  },
  {
   "cell_type": "code",
   "execution_count": 31,
   "id": "72e276e9",
   "metadata": {},
   "outputs": [
    {
     "name": "stdout",
     "output_type": "stream",
     "text": [
      "   A  B  sum\n",
      "0  1  4    5\n",
      "1  2  5    7\n",
      "2  3  6    9\n"
     ]
    }
   ],
   "source": [
    "import pandas as pd\n",
    "\n",
    "data = {'A': [1, 2, 3],\n",
    "        'B': [4, 5, 6]}\n",
    "\n",
    "df = pd.DataFrame(data)\n",
    "\n",
    "def sum_row(row):\n",
    "    return row['A'] + row['B']\n",
    "\n",
    "df['sum'] = df.apply(sum_row, axis=1)\n",
    "print(df)\n"
   ]
  },
  {
   "cell_type": "markdown",
   "id": "256e534c",
   "metadata": {},
   "source": [
    "Using apply on columns:\n",
    "\n",
    "Suppose you want to calculate the square of each value in a DataFrame:"
   ]
  },
  {
   "cell_type": "code",
   "execution_count": 32,
   "id": "267c1796",
   "metadata": {},
   "outputs": [
    {
     "name": "stdout",
     "output_type": "stream",
     "text": [
      "   A   B\n",
      "0  1  16\n",
      "1  4  25\n",
      "2  9  36\n"
     ]
    }
   ],
   "source": [
    "import pandas as pd\n",
    "\n",
    "data = {'A': [1, 2, 3],\n",
    "        'B': [4, 5, 6]}\n",
    "\n",
    "df = pd.DataFrame(data)\n",
    "\n",
    "def square_column(column):\n",
    "    return column.apply(lambda x: x**2)\n",
    "\n",
    "df_square = df.apply(square_column)\n",
    "print(df_square)\n"
   ]
  },
  {
   "cell_type": "markdown",
   "id": "960beff4",
   "metadata": {},
   "source": [
    "1. Applying a Custom Function on Columns:\n",
    "\n",
    "Suppose you want to normalize the values in each column by subtracting the mean:"
   ]
  },
  {
   "cell_type": "code",
   "execution_count": 33,
   "id": "f2b4487a",
   "metadata": {},
   "outputs": [
    {
     "name": "stdout",
     "output_type": "stream",
     "text": [
      "     A    B\n",
      "0 -1.0 -1.0\n",
      "1  0.0  0.0\n",
      "2  1.0  1.0\n"
     ]
    }
   ],
   "source": [
    "import pandas as pd\n",
    "\n",
    "data = {'A': [1, 2, 3],\n",
    "        'B': [4, 5, 6]}\n",
    "\n",
    "df = pd.DataFrame(data)\n",
    "\n",
    "def normalize_column(column):\n",
    "    return column - column.mean()\n",
    "\n",
    "df_normalized = df.apply(normalize_column)\n",
    "print(df_normalized)\n"
   ]
  },
  {
   "cell_type": "markdown",
   "id": "6dd7811d",
   "metadata": {},
   "source": [
    "2. Applying a Function with Arguments:\n",
    "\n",
    "You can also use the apply function with a custom function that takes additional arguments:"
   ]
  },
  {
   "cell_type": "code",
   "execution_count": 34,
   "id": "a780f412",
   "metadata": {},
   "outputs": [
    {
     "name": "stdout",
     "output_type": "stream",
     "text": [
      "    A   B\n",
      "0  11  14\n",
      "1  12  15\n",
      "2  13  16\n"
     ]
    }
   ],
   "source": [
    "import pandas as pd\n",
    "\n",
    "data = {'A': [1, 2, 3],\n",
    "        'B': [4, 5, 6]}\n",
    "\n",
    "df = pd.DataFrame(data)\n",
    "\n",
    "def add_values(column, value):\n",
    "    return column + value\n",
    "\n",
    "df_added = df.apply(add_values, args=(10,))\n",
    "print(df_added)\n"
   ]
  },
  {
   "cell_type": "markdown",
   "id": "e7049b24",
   "metadata": {},
   "source": [
    "3. Applying a Function Element-Wise:\n",
    "\n",
    "You can use the applymap method to apply a function element-wise to each cell in the DataFrame:"
   ]
  },
  {
   "cell_type": "code",
   "execution_count": 35,
   "id": "786de643",
   "metadata": {},
   "outputs": [
    {
     "name": "stdout",
     "output_type": "stream",
     "text": [
      "   A   B\n",
      "0  1  16\n",
      "1  4  25\n",
      "2  9  36\n"
     ]
    }
   ],
   "source": [
    "import pandas as pd\n",
    "\n",
    "data = {'A': [1, 2, 3],\n",
    "        'B': [4, 5, 6]}\n",
    "\n",
    "df = pd.DataFrame(data)\n",
    "\n",
    "df_squared = df.applymap(lambda x: x**2)\n",
    "print(df_squared)\n"
   ]
  },
  {
   "cell_type": "markdown",
   "id": "d417bacb",
   "metadata": {},
   "source": [
    "5. Applying a Function on Selected Rows:\n",
    "\n",
    "You can apply a function on specific rows using the apply function with a conditional statement:"
   ]
  },
  {
   "cell_type": "code",
   "execution_count": 36,
   "id": "ef363112",
   "metadata": {},
   "outputs": [
    {
     "name": "stdout",
     "output_type": "stream",
     "text": [
      "   A  B  sum\n",
      "0  1  4  NaN\n",
      "1  2  5  7.0\n",
      "2  3  6  9.0\n"
     ]
    }
   ],
   "source": [
    "import pandas as pd\n",
    "\n",
    "data = {'A': [1, 2, 3],\n",
    "        'B': [4, 5, 6]}\n",
    "\n",
    "df = pd.DataFrame(data)\n",
    "\n",
    "def sum_row(row):\n",
    "    return row['A'] + row['B']\n",
    "\n",
    "df['sum'] = df[df['A'] > 1].apply(sum_row, axis=1)\n",
    "print(df)\n"
   ]
  }
 ],
 "metadata": {
  "kernelspec": {
   "display_name": "Python 3 (ipykernel)",
   "language": "python",
   "name": "python3"
  },
  "language_info": {
   "codemirror_mode": {
    "name": "ipython",
    "version": 3
   },
   "file_extension": ".py",
   "mimetype": "text/x-python",
   "name": "python",
   "nbconvert_exporter": "python",
   "pygments_lexer": "ipython3",
   "version": "3.10.9"
  }
 },
 "nbformat": 4,
 "nbformat_minor": 5
}
