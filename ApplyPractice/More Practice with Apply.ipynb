{
 "cells": [
  {
   "cell_type": "code",
   "execution_count": 2,
   "id": "d0916644",
   "metadata": {},
   "outputs": [
    {
     "name": "stdout",
     "output_type": "stream",
     "text": [
      "   A  B  A_squared\n",
      "0  1  4          1\n",
      "1  2  5          4\n",
      "2  3  6          9\n"
     ]
    }
   ],
   "source": [
    "#1.  Applying a function to a column of a DataFrame:\n",
    "\n",
    "import pandas as pd\n",
    "\n",
    "df = pd.DataFrame({'A': [1, 2, 3], 'B': [4, 5, 6]})\n",
    "\n",
    "# Define a function to apply\n",
    "def square(x):\n",
    "    return x**2\n",
    "\n",
    "# Apply the function to column 'A'\n",
    "df['A_squared'] = df['A'].apply(square)\n",
    "print(df)\n",
    "\n"
   ]
  },
  {
   "cell_type": "code",
   "execution_count": 3,
   "id": "bef84f28",
   "metadata": {},
   "outputs": [
    {
     "name": "stdout",
     "output_type": "stream",
     "text": [
      "   A  B  row_sum\n",
      "0  1  4        5\n",
      "1  2  5        7\n",
      "2  3  6        9\n"
     ]
    }
   ],
   "source": [
    "#Applying a function to each row of a DataFrame:\n",
    "import pandas as pd\n",
    "\n",
    "df = pd.DataFrame({'A': [1, 2, 3], 'B': [4, 5, 6]})\n",
    "\n",
    "# Define a function to apply\n",
    "def sum_row(row):\n",
    "    return row['A'] + row['B']\n",
    "\n",
    "# Apply the function to each row\n",
    "df['row_sum'] = df.apply(sum_row, axis=1)\n",
    "print(df)\n"
   ]
  },
  {
   "cell_type": "code",
   "execution_count": 4,
   "id": "6567e7bd",
   "metadata": {},
   "outputs": [
    {
     "name": "stdout",
     "output_type": "stream",
     "text": [
      "   A  B  A_squared\n",
      "0  1  4          1\n",
      "1  2  5          4\n",
      "2  3  6          9\n"
     ]
    }
   ],
   "source": [
    "#Applying a lambda function to a column of a DataFrame:\n",
    "import pandas as pd\n",
    "\n",
    "df = pd.DataFrame({'A': [1, 2, 3], 'B': [4, 5, 6]})\n",
    "\n",
    "# Apply a lambda function to column 'A'\n",
    "df['A_squared'] = df['A'].apply(lambda x: x**2)\n",
    "print(df)"
   ]
  },
  {
   "cell_type": "code",
   "execution_count": 5,
   "id": "5a0657cc",
   "metadata": {},
   "outputs": [
    {
     "name": "stdout",
     "output_type": "stream",
     "text": [
      "   A  B\n",
      "0  2  5\n",
      "1  3  6\n",
      "2  4  7\n"
     ]
    }
   ],
   "source": [
    "#Applying a function to a DataFrame and returning a new DataFrame:\n",
    "import pandas as pd\n",
    "\n",
    "df = pd.DataFrame({'A': [1, 2, 3], 'B': [4, 5, 6]})\n",
    "\n",
    "# Define a function to apply\n",
    "def add_one(df):\n",
    "    return df + 1\n",
    "\n",
    "# Apply the function to the whole DataFrame and return a new DataFrame\n",
    "new_df = df.apply(add_one)\n",
    "print(new_df)\n"
   ]
  },
  {
   "cell_type": "code",
   "execution_count": 7,
   "id": "cabc2e38",
   "metadata": {},
   "outputs": [
    {
     "name": "stdout",
     "output_type": "stream",
     "text": [
      "14\n"
     ]
    }
   ],
   "source": [
    "import pandas as pd\n",
    "\n",
    "df = pd.DataFrame({'A': [1, 2, 3], 'B': [4, 5, 6]})\n",
    "\n",
    "# Define a function to apply\n",
    "def sum_squared(series):\n",
    "    return (series**2).sum()\n",
    "\n",
    "# Apply the function to column 'A' and return a scalar value\n",
    "sum_of_squares = sum_squared(df['A'])\n",
    "print(sum_of_squares)\n"
   ]
  },
  {
   "cell_type": "code",
   "execution_count": 8,
   "id": "a00f4ddd",
   "metadata": {},
   "outputs": [
    {
     "name": "stdout",
     "output_type": "stream",
     "text": [
      "     A  B\n",
      "max  3  6\n",
      "min  1  4\n"
     ]
    }
   ],
   "source": [
    "#Applying a function to a DataFrame and returning a Series:\n",
    "import pandas as pd\n",
    "\n",
    "df = pd.DataFrame({'A': [1, 2, 3], 'B': [4, 5, 6]})\n",
    "\n",
    "# Define a function to apply\n",
    "def max_min(df):\n",
    "    max_value = df.max()\n",
    "    min_value = df.min()\n",
    "    return pd.Series([max_value, min_value], index=['max', 'min'])\n",
    "\n",
    "# Apply the function to the whole DataFrame and return a new DataFrame\n",
    "max_min_df = df.apply(max_min)\n",
    "print(max_min_df)"
   ]
  },
  {
   "cell_type": "code",
   "execution_count": 9,
   "id": "e066fbf0",
   "metadata": {},
   "outputs": [
    {
     "name": "stdout",
     "output_type": "stream",
     "text": [
      "   A  B  A_plus_2\n",
      "0  1  4         3\n",
      "1  2  5         4\n",
      "2  3  6         5\n"
     ]
    }
   ],
   "source": [
    "#Applying a function to a column of a DataFrame and passing additional arguments:\n",
    "import pandas as pd\n",
    "\n",
    "df = pd.DataFrame({'A': [1, 2, 3], 'B': [4, 5, 6]})\n",
    "\n",
    "# Define a function to apply\n",
    "def add_value(x, value):\n",
    "    return x + value\n",
    "\n",
    "# Apply the function to column 'A' and pass an additional argument\n",
    "df['A_plus_2'] = df['A'].apply(add_value, value=2)\n",
    "print(df)"
   ]
  },
  {
   "cell_type": "code",
   "execution_count": 10,
   "id": "c5e29be2",
   "metadata": {},
   "outputs": [
    {
     "name": "stdout",
     "output_type": "stream",
     "text": [
      "0    False\n",
      "1     True\n",
      "2    False\n",
      "Name: A, dtype: bool\n"
     ]
    }
   ],
   "source": [
    "#Applying a function to a column of a DataFrame and returning a boolean Series:\n",
    "import pandas as pd\n",
    "\n",
    "df = pd.DataFrame({'A': [1, 2, 3], 'B': [4, 5, 6]})\n",
    "\n",
    "# Define a function to apply\n",
    "def is_even(x):\n",
    "    return x % 2 == 0\n",
    "\n",
    "# Apply the function to column 'A' and return a boolean Series\n",
    "is_even_series = df['A'].apply(is_even)\n",
    "print(is_even_series)\n"
   ]
  },
  {
   "cell_type": "code",
   "execution_count": 12,
   "id": "fcc99641",
   "metadata": {},
   "outputs": [
    {
     "name": "stdout",
     "output_type": "stream",
     "text": [
      "32\n"
     ]
    }
   ],
   "source": [
    "#Applying a function to a DataFrame with multiple columns and returning a scalar value:\n",
    "import pandas as pd\n",
    "\n",
    "df = pd.DataFrame({'A': [1, 2, 3], 'B': [4, 5, 6]})\n",
    "\n",
    "# Define a function to apply\n",
    "def sum_of_products(df):\n",
    "    return (df['A'] * df['B']).sum()\n",
    "\n",
    "# Apply the function to the whole DataFrame and return a scalar value\n",
    "sum_of_products_value = sum_of_products(df)\n",
    "print(sum_of_products_value)\n"
   ]
  },
  {
   "cell_type": "code",
   "execution_count": 13,
   "id": "d7b68b5e",
   "metadata": {},
   "outputs": [
    {
     "name": "stdout",
     "output_type": "stream",
     "text": [
      "0    False\n",
      "1    False\n",
      "2     True\n",
      "Name: A, dtype: bool\n"
     ]
    }
   ],
   "source": [
    "#Applying a function to a column of a DataFrame with missing values:\n",
    "import pandas as pd\n",
    "import numpy as np\n",
    "\n",
    "df = pd.DataFrame({'A': [1, 2, np.nan], 'B': [4, 5, 6]})\n",
    "\n",
    "# Define a function to apply\n",
    "def is_null(x):\n",
    "    return pd.isnull(x)\n",
    "\n",
    "# Apply the function to column 'A' with missing values\n",
    "is_null_series = df['A'].apply(is_null)\n",
    "print(is_null_series)"
   ]
  },
  {
   "cell_type": "code",
   "execution_count": null,
   "id": "b7273166",
   "metadata": {},
   "outputs": [],
   "source": []
  }
 ],
 "metadata": {
  "kernelspec": {
   "display_name": "Python 3 (ipykernel)",
   "language": "python",
   "name": "python3"
  },
  "language_info": {
   "codemirror_mode": {
    "name": "ipython",
    "version": 3
   },
   "file_extension": ".py",
   "mimetype": "text/x-python",
   "name": "python",
   "nbconvert_exporter": "python",
   "pygments_lexer": "ipython3",
   "version": "3.10.9"
  }
 },
 "nbformat": 4,
 "nbformat_minor": 5
}
