{
 "cells": [
  {
   "cell_type": "code",
   "execution_count": 1,
   "id": "d0f4de23",
   "metadata": {},
   "outputs": [],
   "source": [
    "import networkx as nx\n",
    "import matplotlib.pyplot as plt\n",
    "import pandas as pd\n",
    "from itertools import combinations"
   ]
  },
  {
   "cell_type": "code",
   "execution_count": 2,
   "id": "267af689",
   "metadata": {},
   "outputs": [
    {
     "data": {
      "text/html": [
       "<div>\n",
       "<style scoped>\n",
       "    .dataframe tbody tr th:only-of-type {\n",
       "        vertical-align: middle;\n",
       "    }\n",
       "\n",
       "    .dataframe tbody tr th {\n",
       "        vertical-align: top;\n",
       "    }\n",
       "\n",
       "    .dataframe thead th {\n",
       "        text-align: right;\n",
       "    }\n",
       "</style>\n",
       "<table border=\"1\" class=\"dataframe\">\n",
       "  <thead>\n",
       "    <tr style=\"text-align: right;\">\n",
       "      <th></th>\n",
       "      <th>node</th>\n",
       "      <th>demand</th>\n",
       "    </tr>\n",
       "  </thead>\n",
       "  <tbody>\n",
       "    <tr>\n",
       "      <th>0</th>\n",
       "      <td>1</td>\n",
       "      <td>-1</td>\n",
       "    </tr>\n",
       "    <tr>\n",
       "      <th>1</th>\n",
       "      <td>2</td>\n",
       "      <td>0</td>\n",
       "    </tr>\n",
       "    <tr>\n",
       "      <th>2</th>\n",
       "      <td>3</td>\n",
       "      <td>0</td>\n",
       "    </tr>\n",
       "    <tr>\n",
       "      <th>3</th>\n",
       "      <td>4</td>\n",
       "      <td>0</td>\n",
       "    </tr>\n",
       "    <tr>\n",
       "      <th>4</th>\n",
       "      <td>5</td>\n",
       "      <td>0</td>\n",
       "    </tr>\n",
       "    <tr>\n",
       "      <th>5</th>\n",
       "      <td>6</td>\n",
       "      <td>1</td>\n",
       "    </tr>\n",
       "  </tbody>\n",
       "</table>\n",
       "</div>"
      ],
      "text/plain": [
       "  node  demand\n",
       "0    1      -1\n",
       "1    2       0\n",
       "2    3       0\n",
       "3    4       0\n",
       "4    5       0\n",
       "5    6       1"
      ]
     },
     "execution_count": 2,
     "metadata": {},
     "output_type": "execute_result"
    }
   ],
   "source": [
    "df1 = pd.DataFrame({'node':['1','2','3','4','5','6'],\n",
    "                                     'demand':[-1,0,0,0,0,1]})\n",
    "df1"
   ]
  },
  {
   "cell_type": "code",
   "execution_count": 8,
   "id": "25fd6f6a",
   "metadata": {},
   "outputs": [
    {
     "data": {
      "text/html": [
       "<div>\n",
       "<style scoped>\n",
       "    .dataframe tbody tr th:only-of-type {\n",
       "        vertical-align: middle;\n",
       "    }\n",
       "\n",
       "    .dataframe tbody tr th {\n",
       "        vertical-align: top;\n",
       "    }\n",
       "\n",
       "    .dataframe thead th {\n",
       "        text-align: right;\n",
       "    }\n",
       "</style>\n",
       "<table border=\"1\" class=\"dataframe\">\n",
       "  <thead>\n",
       "    <tr style=\"text-align: right;\">\n",
       "      <th></th>\n",
       "      <th>source</th>\n",
       "      <th>destination</th>\n",
       "      <th>cost</th>\n",
       "    </tr>\n",
       "  </thead>\n",
       "  <tbody>\n",
       "    <tr>\n",
       "      <th>0</th>\n",
       "      <td>1</td>\n",
       "      <td>2</td>\n",
       "      <td>25</td>\n",
       "    </tr>\n",
       "    <tr>\n",
       "      <th>1</th>\n",
       "      <td>1</td>\n",
       "      <td>3</td>\n",
       "      <td>20</td>\n",
       "    </tr>\n",
       "    <tr>\n",
       "      <th>2</th>\n",
       "      <td>2</td>\n",
       "      <td>3</td>\n",
       "      <td>3</td>\n",
       "    </tr>\n",
       "    <tr>\n",
       "      <th>3</th>\n",
       "      <td>3</td>\n",
       "      <td>2</td>\n",
       "      <td>3</td>\n",
       "    </tr>\n",
       "    <tr>\n",
       "      <th>4</th>\n",
       "      <td>2</td>\n",
       "      <td>4</td>\n",
       "      <td>5</td>\n",
       "    </tr>\n",
       "    <tr>\n",
       "      <th>5</th>\n",
       "      <td>4</td>\n",
       "      <td>2</td>\n",
       "      <td>5</td>\n",
       "    </tr>\n",
       "    <tr>\n",
       "      <th>6</th>\n",
       "      <td>2</td>\n",
       "      <td>6</td>\n",
       "      <td>14</td>\n",
       "    </tr>\n",
       "    <tr>\n",
       "      <th>7</th>\n",
       "      <td>3</td>\n",
       "      <td>5</td>\n",
       "      <td>6</td>\n",
       "    </tr>\n",
       "    <tr>\n",
       "      <th>8</th>\n",
       "      <td>5</td>\n",
       "      <td>3</td>\n",
       "      <td>6</td>\n",
       "    </tr>\n",
       "    <tr>\n",
       "      <th>9</th>\n",
       "      <td>4</td>\n",
       "      <td>5</td>\n",
       "      <td>4</td>\n",
       "    </tr>\n",
       "    <tr>\n",
       "      <th>10</th>\n",
       "      <td>5</td>\n",
       "      <td>4</td>\n",
       "      <td>4</td>\n",
       "    </tr>\n",
       "    <tr>\n",
       "      <th>11</th>\n",
       "      <td>4</td>\n",
       "      <td>6</td>\n",
       "      <td>4</td>\n",
       "    </tr>\n",
       "    <tr>\n",
       "      <th>12</th>\n",
       "      <td>5</td>\n",
       "      <td>6</td>\n",
       "      <td>7</td>\n",
       "    </tr>\n",
       "  </tbody>\n",
       "</table>\n",
       "</div>"
      ],
      "text/plain": [
       "   source destination  cost\n",
       "0       1           2    25\n",
       "1       1           3    20\n",
       "2       2           3     3\n",
       "3       3           2     3\n",
       "4       2           4     5\n",
       "5       4           2     5\n",
       "6       2           6    14\n",
       "7       3           5     6\n",
       "8       5           3     6\n",
       "9       4           5     4\n",
       "10      5           4     4\n",
       "11      4           6     4\n",
       "12      5           6     7"
      ]
     },
     "execution_count": 8,
     "metadata": {},
     "output_type": "execute_result"
    }
   ],
   "source": [
    "df2 = pd.DataFrame({\n",
    "    'source':['1','1','2','3','2','4','2','3','5','4','5','4','5'],\n",
    "    'destination':['2','3','3','2','4','2','6','5','3','5','4','6','6'],\n",
    "    'cost':[25,20,3,3,5,5,14,6,6,4,4,4,7]})\n",
    "#pd.merge(left=df2,right=df1,how='left',left_on='source',right_on='source_node')\n",
    "df2"
   ]
  },
  {
   "cell_type": "code",
   "execution_count": 9,
   "id": "a764085d",
   "metadata": {},
   "outputs": [
    {
     "data": {
      "image/png": "[encoded data removed]",
      "text/plain": [
       "<Figure size 640x480 with 1 Axes>"
      ]
     },
     "metadata": {},
     "output_type": "display_data"
    }
   ],
   "source": [
    "import networkx as nx\n",
    "import matplotlib.pyplot as plt\n",
    "import pandas as pd\n",
    "\n",
    "\n",
    "# Create a directed graph (DiGraph)\n",
    "G = nx.DiGraph()\n",
    "\n",
    "# Add nodes with demand as node attribute\n",
    "for _, row in df1.iterrows():\n",
    "    G.add_node(row['node'], demand=row['demand'])\n",
    "\n",
    "# Add edges with weights (costs)\n",
    "for _, row in df2.iterrows():\n",
    "    G.add_edge(row['source'], row['destination'], weight=row['cost'])\n",
    "\n",
    "# Create a layout for the nodes\n",
    "pos = nx.circular_layout(G)\n",
    "\n",
    "# Draw the nodes with labels (including demand values)\n",
    "node_labels = {node: f\"{node}\\nDemand: {G.nodes[node]['demand']}\" for node in G.nodes()}\n",
    "nx.draw(G, pos, with_labels=True, labels=node_labels, node_size=500, node_color='lightblue',alpha=0.5)\n",
    "\n",
    "# Draw the edges with weights as labels\n",
    "edge_labels = {(edge[0], edge[1]): G[edge[0]][edge[1]]['weight'] for edge in G.edges()}\n",
    "nx.draw_networkx_edge_labels(G, pos, edge_labels=edge_labels, font_size=8)\n",
    "\n",
    "# Show the graph\n",
    "plt.show()"
   ]
  },
  {
   "cell_type": "code",
   "execution_count": 10,
   "id": "7377d5b3",
   "metadata": {},
   "outputs": [
    {
     "name": "stdout",
     "output_type": "stream",
     "text": [
      "{'1': {'2': 0, '3': 1}, '2': {'3': 0, '4': 1, '6': 0}, '3': {'2': 1, '5': 0}, '4': {'2': 0, '5': 0, '6': 1}, '5': {'3': 0, '4': 0, '6': 0}, '6': {}}\n",
      "32\n"
     ]
    }
   ],
   "source": [
    "G = nx.DiGraph()\n",
    "# Add nodes with demands\n",
    "for _, row in df1.iterrows():\n",
    "    \n",
    "    G.add_node(row['node'], demand=row['demand'])\n",
    "\n",
    "# Add edges with weights (costs)\n",
    "for _, row in df2.iterrows():\n",
    "    G.add_edge(row['source'], row['destination'], weight=row['cost'])\n",
    "flowCost,flowDict = nx.network_simplex(G)\n",
    "print(flowDict)\n",
    "print(flowCost)"
   ]
  },
  {
   "cell_type": "code",
   "execution_count": 11,
   "id": "ae271128",
   "metadata": {},
   "outputs": [
    {
     "data": {
      "text/html": [
       "<div>\n",
       "<style scoped>\n",
       "    .dataframe tbody tr th:only-of-type {\n",
       "        vertical-align: middle;\n",
       "    }\n",
       "\n",
       "    .dataframe tbody tr th {\n",
       "        vertical-align: top;\n",
       "    }\n",
       "\n",
       "    .dataframe thead th {\n",
       "        text-align: right;\n",
       "    }\n",
       "</style>\n",
       "<table border=\"1\" class=\"dataframe\">\n",
       "  <thead>\n",
       "    <tr style=\"text-align: right;\">\n",
       "      <th></th>\n",
       "      <th>source</th>\n",
       "      <th>destination</th>\n",
       "      <th>flow</th>\n",
       "      <th>cost</th>\n",
       "      <th>TotCost</th>\n",
       "    </tr>\n",
       "  </thead>\n",
       "  <tbody>\n",
       "    <tr>\n",
       "      <th>0</th>\n",
       "      <td>3</td>\n",
       "      <td>2</td>\n",
       "      <td>1.0</td>\n",
       "      <td>3</td>\n",
       "      <td>3.0</td>\n",
       "    </tr>\n",
       "    <tr>\n",
       "      <th>1</th>\n",
       "      <td>1</td>\n",
       "      <td>3</td>\n",
       "      <td>1.0</td>\n",
       "      <td>20</td>\n",
       "      <td>20.0</td>\n",
       "    </tr>\n",
       "    <tr>\n",
       "      <th>2</th>\n",
       "      <td>2</td>\n",
       "      <td>4</td>\n",
       "      <td>1.0</td>\n",
       "      <td>5</td>\n",
       "      <td>5.0</td>\n",
       "    </tr>\n",
       "    <tr>\n",
       "      <th>3</th>\n",
       "      <td>4</td>\n",
       "      <td>6</td>\n",
       "      <td>1.0</td>\n",
       "      <td>4</td>\n",
       "      <td>4.0</td>\n",
       "    </tr>\n",
       "  </tbody>\n",
       "</table>\n",
       "</div>"
      ],
      "text/plain": [
       "  source destination  flow  cost  TotCost\n",
       "0      3           2   1.0     3      3.0\n",
       "1      1           3   1.0    20     20.0\n",
       "2      2           4   1.0     5      5.0\n",
       "3      4           6   1.0     4      4.0"
      ]
     },
     "execution_count": 11,
     "metadata": {},
     "output_type": "execute_result"
    }
   ],
   "source": [
    "import pandas as pd\n",
    "\n",
    "# Convert the flowDict dictionary to a DataFrame\n",
    "df = pd.DataFrame.from_dict(flowDict, orient='index').fillna(0)\n",
    "\n",
    "# Reset the index to have 'source' as a column\n",
    "df.reset_index(inplace=True)\n",
    "df.rename(columns={'index': 'source'}, inplace=True)\n",
    "\n",
    "# Melt the DataFrame to have 'source', 'destination', and 'flow' columns\n",
    "df_melted = pd.melt(df, id_vars='source', var_name='destination', value_name='flow')\n",
    "df_melted=df_melted[df_melted['flow']!=0]\n",
    "df_melted=pd.merge(left=df_melted,right=df2,how='inner',on=['source','destination'])\n",
    "df_melted['TotCost']=df_melted['flow']*df_melted['cost']\n",
    "df_melted"
   ]
  },
  {
   "cell_type": "code",
   "execution_count": 12,
   "id": "7b7ad059",
   "metadata": {},
   "outputs": [
    {
     "data": {
      "text/plain": [
       "32.0"
      ]
     },
     "execution_count": 12,
     "metadata": {},
     "output_type": "execute_result"
    }
   ],
   "source": [
    "df_melted['TotCost'].sum()"
   ]
  },
  {
   "cell_type": "code",
   "execution_count": 13,
   "id": "ccb793d6",
   "metadata": {},
   "outputs": [
    {
     "data": {
      "image/png": "[encoded data removed]",
      "text/plain": [
       "<Figure size 640x480 with 1 Axes>"
      ]
     },
     "metadata": {},
     "output_type": "display_data"
    }
   ],
   "source": [
    "# Create an empty directed graph\n",
    "G = nx.DiGraph()\n",
    "\n",
    "# Add nodes to the graph\n",
    "nodes = flowDict.keys()\n",
    "G.add_nodes_from(nodes)\n",
    "\n",
    "# Add edges with non-zero values\n",
    "for source, destinations in flowDict.items():\n",
    "    for destination, value in destinations.items():\n",
    "        if value != 0:\n",
    "            G.add_edge(source, destination, weight=value)\n",
    "\n",
    "# Draw the graph\n",
    "pos = nx.circular_layout(G)  # You can choose a different layout if you prefer\n",
    "edge_labels = {(u, v): G[u][v]['weight'] for u, v in G.edges()}\n",
    "\n",
    "nx.draw(G, pos, with_labels=True, node_size=800, node_color='skyblue', font_size=10, font_color='black')\n",
    "nx.draw_networkx_edge_labels(G, pos, edge_labels=edge_labels, font_size=10)\n",
    "\n",
    "plt.show()"
   ]
  },
  {
   "cell_type": "code",
   "execution_count": null,
   "id": "2a88c76c",
   "metadata": {},
   "outputs": [],
   "source": []
  }
 ],
 "metadata": {
  "kernelspec": {
   "display_name": "Python 3 (ipykernel)",
   "language": "python",
   "name": "python3"
  },
  "language_info": {
   "codemirror_mode": {
    "name": "ipython",
    "version": 3
   },
   "file_extension": ".py",
   "mimetype": "text/x-python",
   "name": "python",
   "nbconvert_exporter": "python",
   "pygments_lexer": "ipython3",
   "version": "3.11.4"
  }
 },
 "nbformat": 4,
 "nbformat_minor": 5
}
