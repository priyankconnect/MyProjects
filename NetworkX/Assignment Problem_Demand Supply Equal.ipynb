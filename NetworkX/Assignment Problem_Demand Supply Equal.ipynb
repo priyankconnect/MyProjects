{
 "cells": [
  {
   "cell_type": "code",
   "execution_count": 3,
   "id": "d0f4de23",
   "metadata": {},
   "outputs": [],
   "source": [
    "import networkx as nx\n",
    "import matplotlib.pyplot as plt\n",
    "import pandas as pd\n",
    "from itertools import combinations"
   ]
  },
  {
   "cell_type": "code",
   "execution_count": 4,
   "id": "267af689",
   "metadata": {},
   "outputs": [
    {
     "data": {
      "text/html": [
       "<div>\n",
       "<style scoped>\n",
       "    .dataframe tbody tr th:only-of-type {\n",
       "        vertical-align: middle;\n",
       "    }\n",
       "\n",
       "    .dataframe tbody tr th {\n",
       "        vertical-align: top;\n",
       "    }\n",
       "\n",
       "    .dataframe thead th {\n",
       "        text-align: right;\n",
       "    }\n",
       "</style>\n",
       "<table border=\"1\" class=\"dataframe\">\n",
       "  <thead>\n",
       "    <tr style=\"text-align: right;\">\n",
       "      <th></th>\n",
       "      <th>node</th>\n",
       "      <th>demand</th>\n",
       "    </tr>\n",
       "  </thead>\n",
       "  <tbody>\n",
       "    <tr>\n",
       "      <th>0</th>\n",
       "      <td>Terry</td>\n",
       "      <td>-1</td>\n",
       "    </tr>\n",
       "    <tr>\n",
       "      <th>1</th>\n",
       "      <td>Carle</td>\n",
       "      <td>-1</td>\n",
       "    </tr>\n",
       "    <tr>\n",
       "      <th>2</th>\n",
       "      <td>McClymonds</td>\n",
       "      <td>-1</td>\n",
       "    </tr>\n",
       "    <tr>\n",
       "      <th>3</th>\n",
       "      <td>1</td>\n",
       "      <td>1</td>\n",
       "    </tr>\n",
       "    <tr>\n",
       "      <th>4</th>\n",
       "      <td>2</td>\n",
       "      <td>1</td>\n",
       "    </tr>\n",
       "    <tr>\n",
       "      <th>5</th>\n",
       "      <td>3</td>\n",
       "      <td>1</td>\n",
       "    </tr>\n",
       "  </tbody>\n",
       "</table>\n",
       "</div>"
      ],
      "text/plain": [
       "         node  demand\n",
       "0       Terry      -1\n",
       "1       Carle      -1\n",
       "2  McClymonds      -1\n",
       "3           1       1\n",
       "4           2       1\n",
       "5           3       1"
      ]
     },
     "execution_count": 4,
     "metadata": {},
     "output_type": "execute_result"
    }
   ],
   "source": [
    "df1 = pd.DataFrame({'node':['Terry','Carle','McClymonds','1','2','3'],\n",
    "                                     'demand':[-1,-1,-1,1,1,1]})\n",
    "df1"
   ]
  },
  {
   "cell_type": "code",
   "execution_count": 5,
   "id": "25fd6f6a",
   "metadata": {},
   "outputs": [
    {
     "data": {
      "text/html": [
       "<div>\n",
       "<style scoped>\n",
       "    .dataframe tbody tr th:only-of-type {\n",
       "        vertical-align: middle;\n",
       "    }\n",
       "\n",
       "    .dataframe tbody tr th {\n",
       "        vertical-align: top;\n",
       "    }\n",
       "\n",
       "    .dataframe thead th {\n",
       "        text-align: right;\n",
       "    }\n",
       "</style>\n",
       "<table border=\"1\" class=\"dataframe\">\n",
       "  <thead>\n",
       "    <tr style=\"text-align: right;\">\n",
       "      <th></th>\n",
       "      <th>source</th>\n",
       "      <th>destination</th>\n",
       "      <th>cost</th>\n",
       "    </tr>\n",
       "  </thead>\n",
       "  <tbody>\n",
       "    <tr>\n",
       "      <th>0</th>\n",
       "      <td>Terry</td>\n",
       "      <td>1</td>\n",
       "      <td>10</td>\n",
       "    </tr>\n",
       "    <tr>\n",
       "      <th>1</th>\n",
       "      <td>Carle</td>\n",
       "      <td>1</td>\n",
       "      <td>9</td>\n",
       "    </tr>\n",
       "    <tr>\n",
       "      <th>2</th>\n",
       "      <td>McClymonds</td>\n",
       "      <td>1</td>\n",
       "      <td>6</td>\n",
       "    </tr>\n",
       "    <tr>\n",
       "      <th>3</th>\n",
       "      <td>Terry</td>\n",
       "      <td>2</td>\n",
       "      <td>15</td>\n",
       "    </tr>\n",
       "    <tr>\n",
       "      <th>4</th>\n",
       "      <td>Carle</td>\n",
       "      <td>2</td>\n",
       "      <td>18</td>\n",
       "    </tr>\n",
       "    <tr>\n",
       "      <th>5</th>\n",
       "      <td>McClymonds</td>\n",
       "      <td>2</td>\n",
       "      <td>14</td>\n",
       "    </tr>\n",
       "    <tr>\n",
       "      <th>6</th>\n",
       "      <td>Terry</td>\n",
       "      <td>3</td>\n",
       "      <td>9</td>\n",
       "    </tr>\n",
       "    <tr>\n",
       "      <th>7</th>\n",
       "      <td>Carle</td>\n",
       "      <td>3</td>\n",
       "      <td>5</td>\n",
       "    </tr>\n",
       "    <tr>\n",
       "      <th>8</th>\n",
       "      <td>McClymonds</td>\n",
       "      <td>3</td>\n",
       "      <td>3</td>\n",
       "    </tr>\n",
       "  </tbody>\n",
       "</table>\n",
       "</div>"
      ],
      "text/plain": [
       "       source destination  cost\n",
       "0       Terry           1    10\n",
       "1       Carle           1     9\n",
       "2  McClymonds           1     6\n",
       "3       Terry           2    15\n",
       "4       Carle           2    18\n",
       "5  McClymonds           2    14\n",
       "6       Terry           3     9\n",
       "7       Carle           3     5\n",
       "8  McClymonds           3     3"
      ]
     },
     "execution_count": 5,
     "metadata": {},
     "output_type": "execute_result"
    }
   ],
   "source": [
    "df2 = pd.DataFrame({\n",
    "    'source':['Terry','Carle','McClymonds','Terry','Carle','McClymonds','Terry','Carle','McClymonds'],\n",
    "    'destination':['1','1','1','2','2','2','3','3','3'],\n",
    "    'cost':[10,9,6,15,18,14,9,5,3]})\n",
    "#pd.merge(left=df2,right=df1,how='left',left_on='source',right_on='source_node')\n",
    "df2"
   ]
  },
  {
   "cell_type": "code",
   "execution_count": 6,
   "id": "a764085d",
   "metadata": {},
   "outputs": [
    {
     "data": {
      "image/png": "[encoded data removed]",
      "text/plain": [
       "<Figure size 640x480 with 1 Axes>"
      ]
     },
     "metadata": {},
     "output_type": "display_data"
    }
   ],
   "source": [
    "import networkx as nx\n",
    "import matplotlib.pyplot as plt\n",
    "import pandas as pd\n",
    "\n",
    "\n",
    "# Create a directed graph (DiGraph)\n",
    "G = nx.DiGraph()\n",
    "\n",
    "# Add nodes with demand as node attribute\n",
    "for _, row in df1.iterrows():\n",
    "    G.add_node(row['node'], demand=row['demand'])\n",
    "\n",
    "# Add edges with weights (costs)\n",
    "for _, row in df2.iterrows():\n",
    "    G.add_edge(row['source'], row['destination'], weight=row['cost'])\n",
    "\n",
    "# Create a layout for the nodes\n",
    "pos = nx.circular_layout(G)\n",
    "\n",
    "# Draw the nodes with labels (including demand values)\n",
    "node_labels = {node: f\"{node}\\nDemand: {G.nodes[node]['demand']}\" for node in G.nodes()}\n",
    "nx.draw(G, pos, with_labels=True, labels=node_labels, node_size=500, node_color='lightblue',alpha=0.5)\n",
    "\n",
    "# Draw the edges with weights as labels\n",
    "edge_labels = {(edge[0], edge[1]): G[edge[0]][edge[1]]['weight'] for edge in G.edges()}\n",
    "nx.draw_networkx_edge_labels(G, pos, edge_labels=edge_labels, font_size=8)\n",
    "\n",
    "# Show the graph\n",
    "plt.show()"
   ]
  },
  {
   "cell_type": "code",
   "execution_count": 7,
   "id": "7377d5b3",
   "metadata": {},
   "outputs": [
    {
     "name": "stdout",
     "output_type": "stream",
     "text": [
      "{'Terry': {'1': 0, '2': 1, '3': 0}, 'Carle': {'1': 0, '2': 0, '3': 1}, 'McClymonds': {'1': 1, '2': 0, '3': 0}, '1': {}, '2': {}, '3': {}}\n",
      "26\n"
     ]
    }
   ],
   "source": [
    "G = nx.DiGraph()\n",
    "# Add nodes with demands\n",
    "for _, row in df1.iterrows():\n",
    "    \n",
    "    G.add_node(row['node'], demand=row['demand'])\n",
    "\n",
    "# Add edges with weights (costs)\n",
    "for _, row in df2.iterrows():\n",
    "    G.add_edge(row['source'], row['destination'], weight=row['cost'])\n",
    "flowCost,flowDict = nx.network_simplex(G)\n",
    "print(flowDict)\n",
    "print(flowCost)"
   ]
  },
  {
   "cell_type": "code",
   "execution_count": 8,
   "id": "ae271128",
   "metadata": {},
   "outputs": [
    {
     "data": {
      "text/html": [
       "<div>\n",
       "<style scoped>\n",
       "    .dataframe tbody tr th:only-of-type {\n",
       "        vertical-align: middle;\n",
       "    }\n",
       "\n",
       "    .dataframe tbody tr th {\n",
       "        vertical-align: top;\n",
       "    }\n",
       "\n",
       "    .dataframe thead th {\n",
       "        text-align: right;\n",
       "    }\n",
       "</style>\n",
       "<table border=\"1\" class=\"dataframe\">\n",
       "  <thead>\n",
       "    <tr style=\"text-align: right;\">\n",
       "      <th></th>\n",
       "      <th>source</th>\n",
       "      <th>destination</th>\n",
       "      <th>flow</th>\n",
       "      <th>cost</th>\n",
       "      <th>TotCost</th>\n",
       "    </tr>\n",
       "  </thead>\n",
       "  <tbody>\n",
       "    <tr>\n",
       "      <th>0</th>\n",
       "      <td>McClymonds</td>\n",
       "      <td>1</td>\n",
       "      <td>1</td>\n",
       "      <td>6</td>\n",
       "      <td>6</td>\n",
       "    </tr>\n",
       "    <tr>\n",
       "      <th>1</th>\n",
       "      <td>Terry</td>\n",
       "      <td>2</td>\n",
       "      <td>1</td>\n",
       "      <td>15</td>\n",
       "      <td>15</td>\n",
       "    </tr>\n",
       "    <tr>\n",
       "      <th>2</th>\n",
       "      <td>Carle</td>\n",
       "      <td>3</td>\n",
       "      <td>1</td>\n",
       "      <td>5</td>\n",
       "      <td>5</td>\n",
       "    </tr>\n",
       "  </tbody>\n",
       "</table>\n",
       "</div>"
      ],
      "text/plain": [
       "       source destination  flow  cost  TotCost\n",
       "0  McClymonds           1     1     6        6\n",
       "1       Terry           2     1    15       15\n",
       "2       Carle           3     1     5        5"
      ]
     },
     "execution_count": 8,
     "metadata": {},
     "output_type": "execute_result"
    }
   ],
   "source": [
    "import pandas as pd\n",
    "\n",
    "# Convert the flowDict dictionary to a DataFrame\n",
    "df = pd.DataFrame.from_dict(flowDict, orient='index').fillna(0)\n",
    "\n",
    "# Reset the index to have 'source' as a column\n",
    "df.reset_index(inplace=True)\n",
    "df.rename(columns={'index': 'source'}, inplace=True)\n",
    "\n",
    "# Melt the DataFrame to have 'source', 'destination', and 'flow' columns\n",
    "df_melted = pd.melt(df, id_vars='source', var_name='destination', value_name='flow')\n",
    "df_melted=df_melted[df_melted['flow']!=0]\n",
    "df_melted=pd.merge(left=df_melted,right=df2,how='inner',on=['source','destination'])\n",
    "df_melted['TotCost']=df_melted['flow']*df_melted['cost']\n",
    "df_melted"
   ]
  },
  {
   "cell_type": "code",
   "execution_count": 9,
   "id": "7b7ad059",
   "metadata": {},
   "outputs": [
    {
     "data": {
      "text/plain": [
       "26"
      ]
     },
     "execution_count": 9,
     "metadata": {},
     "output_type": "execute_result"
    }
   ],
   "source": [
    "df_melted['TotCost'].sum()"
   ]
  },
  {
   "cell_type": "code",
   "execution_count": 10,
   "id": "ccb793d6",
   "metadata": {},
   "outputs": [
    {
     "data": {
      "image/png": "[encoded data removed]",
      "text/plain": [
       "<Figure size 640x480 with 1 Axes>"
      ]
     },
     "metadata": {},
     "output_type": "display_data"
    }
   ],
   "source": [
    "# Create an empty directed graph\n",
    "G = nx.DiGraph()\n",
    "\n",
    "# Add nodes to the graph\n",
    "nodes = flowDict.keys()\n",
    "G.add_nodes_from(nodes)\n",
    "\n",
    "# Add edges with non-zero values\n",
    "for source, destinations in flowDict.items():\n",
    "    for destination, value in destinations.items():\n",
    "        if value != 0:\n",
    "            G.add_edge(source, destination, weight=value)\n",
    "\n",
    "# Draw the graph\n",
    "pos = nx.circular_layout(G)  # You can choose a different layout if you prefer\n",
    "edge_labels = {(u, v): G[u][v]['weight'] for u, v in G.edges()}\n",
    "\n",
    "nx.draw(G, pos, with_labels=True, node_size=800, node_color='skyblue', font_size=10, font_color='black')\n",
    "nx.draw_networkx_edge_labels(G, pos, edge_labels=edge_labels, font_size=10)\n",
    "\n",
    "plt.show()"
   ]
  }
 ],
 "metadata": {
  "kernelspec": {
   "display_name": "Python 3 (ipykernel)",
   "language": "python",
   "name": "python3"
  },
  "language_info": {
   "codemirror_mode": {
    "name": "ipython",
    "version": 3
   },
   "file_extension": ".py",
   "mimetype": "text/x-python",
   "name": "python",
   "nbconvert_exporter": "python",
   "pygments_lexer": "ipython3",
   "version": "3.11.4"
  }
 },
 "nbformat": 4,
 "nbformat_minor": 5
}
