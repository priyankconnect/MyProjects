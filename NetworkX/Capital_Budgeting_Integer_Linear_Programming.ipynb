{
 "cells": [
  {
   "cell_type": "code",
   "execution_count": 1,
   "id": "7b7ca7b3",
   "metadata": {},
   "outputs": [],
   "source": [
    "from pulp import *"
   ]
  },
  {
   "cell_type": "code",
   "execution_count": 3,
   "id": "d489ac76",
   "metadata": {},
   "outputs": [],
   "source": [
    "# Create a problem variable:\n",
    "prob = LpProblem(\"Maximize_NPV\", LpMaximize)"
   ]
  },
  {
   "cell_type": "code",
   "execution_count": 4,
   "id": "9e603c15",
   "metadata": {},
   "outputs": [],
   "source": [
    "# Create decision variables:\n",
    "P = LpVariable(\"Plant Expansion Project Accepted\", 0, 1, LpInteger)\n",
    "W = LpVariable(\"Warehouse Expansion Project Accepted\", 0, 1, LpInteger)\n",
    "M = LpVariable(\"New Machinery Project Accepted\", 0, 1, LpInteger)\n",
    "R = LpVariable(\"New Research Project Accepted\", 0, 1, LpInteger)"
   ]
  },
  {
   "cell_type": "code",
   "execution_count": 5,
   "id": "ffd91662",
   "metadata": {},
   "outputs": [],
   "source": [
    "# Objective function:\n",
    "prob += 90*P+40*W+10*M+37*R, \"Total Profit\""
   ]
  },
  {
   "cell_type": "code",
   "execution_count": 7,
   "id": "fc3eef87",
   "metadata": {},
   "outputs": [],
   "source": [
    "# Constraints:\n",
    "prob += 15*P+10*W+10*M+15*R <=40 #( Year 1 Capital available)\n",
    "prob += 20*P+15*W+10*R<=50 #( Year 2 Capital available)\n",
    "prob += 20*P+20*W+10*R<=40 #( Year 3 Capital available)\n",
    "prob += 15*P+5*W+4*M+10*R<=35 #( Year 4 Capital available)"
   ]
  },
  {
   "cell_type": "code",
   "execution_count": 8,
   "id": "57c51b37",
   "metadata": {},
   "outputs": [
    {
     "data": {
      "text/plain": [
       "1"
      ]
     },
     "execution_count": 8,
     "metadata": {},
     "output_type": "execute_result"
    }
   ],
   "source": [
    "# Solve the problem:\n",
    "prob.solve()"
   ]
  },
  {
   "cell_type": "code",
   "execution_count": 9,
   "id": "14ec829a",
   "metadata": {},
   "outputs": [
    {
     "name": "stdout",
     "output_type": "stream",
     "text": [
      "Status: Optimal\n"
     ]
    }
   ],
   "source": [
    "# Print the results:\n",
    "print(\"Status:\", LpStatus[prob.status])"
   ]
  },
  {
   "cell_type": "code",
   "execution_count": 10,
   "id": "a3683710",
   "metadata": {},
   "outputs": [
    {
     "name": "stdout",
     "output_type": "stream",
     "text": [
      "New_Machinery_Project_Accepted = 1.0\n",
      "New_Research_Project_Accepted = 0.0\n",
      "Plant_Expansion_Project_Accepted = 1.0\n",
      "Warehouse_Expansion_Project_Accepted = 1.0\n"
     ]
    }
   ],
   "source": [
    "# Each of the variables is printed with it's resolved optimum value\n",
    "for v in prob.variables():\n",
    "    print(v.name, \"=\", v.varValue) "
   ]
  },
  {
   "cell_type": "code",
   "execution_count": 11,
   "id": "a531a9c3",
   "metadata": {},
   "outputs": [
    {
     "name": "stdout",
     "output_type": "stream",
     "text": [
      "Value of Objective Function: 140.0\n"
     ]
    }
   ],
   "source": [
    "print(\"Value of Objective Function:\", value(prob.objective))"
   ]
  }
 ],
 "metadata": {
  "kernelspec": {
   "display_name": "Python 3 (ipykernel)",
   "language": "python",
   "name": "python3"
  },
  "language_info": {
   "codemirror_mode": {
    "name": "ipython",
    "version": 3
   },
   "file_extension": ".py",
   "mimetype": "text/x-python",
   "name": "python",
   "nbconvert_exporter": "python",
   "pygments_lexer": "ipython3",
   "version": "3.11.4"
  }
 },
 "nbformat": 4,
 "nbformat_minor": 5
}
