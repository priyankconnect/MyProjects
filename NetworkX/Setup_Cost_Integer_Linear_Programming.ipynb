{
 "cells": [
  {
   "cell_type": "code",
   "execution_count": 17,
   "id": "7b7ca7b3",
   "metadata": {},
   "outputs": [],
   "source": [
    "from pulp import *"
   ]
  },
  {
   "cell_type": "code",
   "execution_count": 18,
   "id": "d489ac76",
   "metadata": {},
   "outputs": [],
   "source": [
    "# Create a problem variable:\n",
    "prob = LpProblem(\"Maximize_Profit\", LpMaximize)"
   ]
  },
  {
   "cell_type": "code",
   "execution_count": 19,
   "id": "9e603c15",
   "metadata": {},
   "outputs": [],
   "source": [
    "# Create decision variables:\n",
    "F = LpVariable(\"tons of fuel additive produced\", 0, cat='Continuous')\n",
    "S = LpVariable(\"tons of solvent base produced\", 0, cat='Continuous')\n",
    "C = LpVariable(\"tons of carpet cleaning fluid produced\", 0, cat='Continuous')\n",
    "SF = LpVariable(\"1 if the fuel additive is produced\", 0, 1, LpInteger)\n",
    "SS = LpVariable(\"1 if the solvent base is produced\", 0, 1, LpInteger)\n",
    "SC = LpVariable(\"1 if the carpet cleaning fluid is produced \", 0, 1, LpInteger)"
   ]
  },
  {
   "cell_type": "code",
   "execution_count": 20,
   "id": "ffd91662",
   "metadata": {},
   "outputs": [],
   "source": [
    "# Objective function:\n",
    "prob += 40*F+30*S+50*C-200*SF-50*SS-400*SC, \"Total Profit\""
   ]
  },
  {
   "cell_type": "code",
   "execution_count": 21,
   "id": "fc3eef87",
   "metadata": {},
   "outputs": [],
   "source": [
    "# Constraints:\n",
    "prob +=0.4*F+0.5*S+0.6*C-20<=0 #material 1\n",
    "prob +=0.2*S+0.1*C-5 <=0 # material 2\n",
    "prob +=0.6*F+0.3*S+0.3*C-21 <=0 # material 3\n",
    "prob +=F-50*SF <=0 # maximum F\n",
    "prob +=S-25*SS<=0 # maximum S\n",
    "prob +=C-40*SC<=0 # maximum C\n"
   ]
  },
  {
   "cell_type": "code",
   "execution_count": 22,
   "id": "57c51b37",
   "metadata": {},
   "outputs": [
    {
     "data": {
      "text/plain": [
       "1"
      ]
     },
     "execution_count": 22,
     "metadata": {},
     "output_type": "execute_result"
    }
   ],
   "source": [
    "# Solve the problem:\n",
    "prob.solve()"
   ]
  },
  {
   "cell_type": "code",
   "execution_count": 23,
   "id": "14ec829a",
   "metadata": {},
   "outputs": [
    {
     "name": "stdout",
     "output_type": "stream",
     "text": [
      "Status: Optimal\n"
     ]
    }
   ],
   "source": [
    "# Print the results:\n",
    "print(\"Status:\", LpStatus[prob.status])"
   ]
  },
  {
   "cell_type": "code",
   "execution_count": 24,
   "id": "a3683710",
   "metadata": {},
   "outputs": [
    {
     "name": "stdout",
     "output_type": "stream",
     "text": [
      "1_if_the_carpet_cleaning_fluid_is_produced_ = 0.0\n",
      "1_if_the_fuel_additive_is_produced = 1.0\n",
      "1_if_the_solvent_base_is_produced = 1.0\n",
      "tons_of_carpet_cleaning_fluid_produced = 0.0\n",
      "tons_of_fuel_additive_produced = 25.0\n",
      "tons_of_solvent_base_produced = 20.0\n"
     ]
    }
   ],
   "source": [
    "# Each of the variables is printed with it's resolved optimum value\n",
    "for v in prob.variables():\n",
    "    print(v.name, \"=\", v.varValue) "
   ]
  },
  {
   "cell_type": "code",
   "execution_count": 25,
   "id": "a531a9c3",
   "metadata": {},
   "outputs": [
    {
     "name": "stdout",
     "output_type": "stream",
     "text": [
      "Value of Objective Function: 1350.0\n"
     ]
    }
   ],
   "source": [
    "print(\"Value of Objective Function:\", value(prob.objective))"
   ]
  }
 ],
 "metadata": {
  "kernelspec": {
   "display_name": "Python 3 (ipykernel)",
   "language": "python",
   "name": "python3"
  },
  "language_info": {
   "codemirror_mode": {
    "name": "ipython",
    "version": 3
   },
   "file_extension": ".py",
   "mimetype": "text/x-python",
   "name": "python",
   "nbconvert_exporter": "python",
   "pygments_lexer": "ipython3",
   "version": "3.11.4"
  }
 },
 "nbformat": 4,
 "nbformat_minor": 5
}
