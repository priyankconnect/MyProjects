{
 "cells": [
  {
   "cell_type": "markdown",
   "id": "cba7d686",
   "metadata": {},
   "source": [
    "# Types of Graphs"
   ]
  },
  {
   "cell_type": "code",
   "execution_count": 4,
   "id": "cd2232b2",
   "metadata": {},
   "outputs": [],
   "source": [
    "# How to create a network in networkx\n",
    "# Undirectional Network\n",
    "import networkx as nx\n",
    "G=nx.Graph()\n",
    "G.add_edge('A','B')\n",
    "G.add_edge('B','C')\n",
    "G.add_edge('C','D')\n",
    "G.add_edge('D','E')\n",
    "G.add_edge('E','F')\n",
    "G.add_edge('F','G')"
   ]
  },
  {
   "cell_type": "code",
   "execution_count": 5,
   "id": "34ac58cd",
   "metadata": {},
   "outputs": [],
   "source": [
    "# Directed Graph\n",
    "G=nx.DiGraph()\n",
    "G.add_edge('B','A')\n",
    "G.add_edge('B','C')\n"
   ]
  },
  {
   "cell_type": "code",
   "execution_count": 7,
   "id": "b99874c0",
   "metadata": {},
   "outputs": [],
   "source": [
    "# Weighted Graphs\n",
    "# Some edges carry weight higher than the other\n",
    "G = nx.Graph()\n",
    "G.add_edge('A','B',weight=6)\n",
    "G.add_edge('B','C',weight=13)"
   ]
  },
  {
   "cell_type": "code",
   "execution_count": 8,
   "id": "26c40885",
   "metadata": {},
   "outputs": [],
   "source": [
    "# Signed Networks\n",
    "# Some edges are assigned + or - sign basis friendship or antagonism\n",
    "G = nx.Graph()\n",
    "G.add_edge('A','B',sign='+')\n",
    "G.add_edge('B','C',sign='-')"
   ]
  },
  {
   "cell_type": "code",
   "execution_count": 10,
   "id": "3d132c5a",
   "metadata": {},
   "outputs": [],
   "source": [
    "# other edge Attributes\n",
    "G = nx.Graph()\n",
    "G.add_edge('A','B',relation='friend')\n",
    "G.add_edge('B','C',relation='family')"
   ]
  },
  {
   "cell_type": "code",
   "execution_count": 11,
   "id": "c402cf11",
   "metadata": {},
   "outputs": [
    {
     "data": {
      "text/plain": [
       "0"
      ]
     },
     "execution_count": 11,
     "metadata": {},
     "output_type": "execute_result"
    }
   ],
   "source": [
    "# Multigraph\n",
    "# Can have the same edge but different relationship\n",
    "# other edge Attributes\n",
    "G = nx.MultiGraph()\n",
    "G.add_edge('A','B',relation='friend')\n",
    "G.add_edge('B','C',relation='family')"
   ]
  },
  {
   "cell_type": "code",
   "execution_count": 26,
   "id": "508e2166",
   "metadata": {},
   "outputs": [
    {
     "data": {
      "text/plain": [
       "0"
      ]
     },
     "execution_count": 26,
     "metadata": {},
     "output_type": "execute_result"
    }
   ],
   "source": [
    "# Directed Weighted Multigraph\n",
    "# Can have the same edge but different relationship\n",
    "# other edge Attributes\n",
    "G = nx.MultiDiGraph()\n",
    "G.add_edge('A','B',weight=6,relation='family')\n",
    "G.add_edge('A','B',weight=18,relation='friend')\n",
    "G.add_edge('C','B',weight=13,relation='friend')"
   ]
  },
  {
   "cell_type": "markdown",
   "id": "168f68b1",
   "metadata": {},
   "source": [
    "# How to Access Attributes"
   ]
  },
  {
   "cell_type": "markdown",
   "id": "5b38c6d0",
   "metadata": {},
   "source": [
    "## Edge Attributes"
   ]
  },
  {
   "cell_type": "markdown",
   "id": "712899f6",
   "metadata": {},
   "source": [
    "### For an undirected Weighted Network"
   ]
  },
  {
   "cell_type": "code",
   "execution_count": 13,
   "id": "e6d03137",
   "metadata": {},
   "outputs": [
    {
     "data": {
      "text/plain": [
       "[('A', 'B'), ('B', 'C')]"
      ]
     },
     "execution_count": 13,
     "metadata": {},
     "output_type": "execute_result"
    }
   ],
   "source": [
    "# Get the list of all edges\n",
    "G = nx.Graph()\n",
    "G.add_edge('A','B',weight=6,relation='family')\n",
    "G.add_edge('B','C',weight=13,relation='friend')\n",
    "list(G.edges())"
   ]
  },
  {
   "cell_type": "code",
   "execution_count": 14,
   "id": "8f819233",
   "metadata": {},
   "outputs": [
    {
     "data": {
      "text/plain": [
       "[('A', 'B', {'weight': 6, 'relation': 'family'}),\n",
       " ('B', 'C', {'weight': 13, 'relation': 'friend'})]"
      ]
     },
     "execution_count": 14,
     "metadata": {},
     "output_type": "execute_result"
    }
   ],
   "source": [
    "list(G.edges(data=True))"
   ]
  },
  {
   "cell_type": "code",
   "execution_count": 15,
   "id": "95263f86",
   "metadata": {},
   "outputs": [
    {
     "data": {
      "text/plain": [
       "[('A', 'B', 'family'), ('B', 'C', 'friend')]"
      ]
     },
     "execution_count": 15,
     "metadata": {},
     "output_type": "execute_result"
    }
   ],
   "source": [
    "# To access a particular attribute\n",
    "list(G.edges(data='relation'))"
   ]
  },
  {
   "cell_type": "code",
   "execution_count": 16,
   "id": "d242c957",
   "metadata": {},
   "outputs": [
    {
     "data": {
      "text/plain": [
       "{'weight': 6, 'relation': 'family'}"
      ]
     },
     "execution_count": 16,
     "metadata": {},
     "output_type": "execute_result"
    }
   ],
   "source": [
    "# To access all the attributes of a specific edge\n",
    "G.edges['A','B']"
   ]
  },
  {
   "cell_type": "code",
   "execution_count": 17,
   "id": "197213dc",
   "metadata": {},
   "outputs": [
    {
     "data": {
      "text/plain": [
       "13"
      ]
     },
     "execution_count": 17,
     "metadata": {},
     "output_type": "execute_result"
    }
   ],
   "source": [
    "# To access a specific attribute of a specific edge\n",
    "G.edges['B','C']['weight']"
   ]
  },
  {
   "cell_type": "code",
   "execution_count": 18,
   "id": "f1e084f4",
   "metadata": {},
   "outputs": [
    {
     "data": {
      "text/plain": [
       "13"
      ]
     },
     "execution_count": 18,
     "metadata": {},
     "output_type": "execute_result"
    }
   ],
   "source": [
    "# as the earlier one is undirected, the weight doesn't matter\n",
    "G.edges['C','B']['weight']"
   ]
  },
  {
   "cell_type": "markdown",
   "id": "78887a67",
   "metadata": {},
   "source": [
    "### For a directed Weighted Network"
   ]
  },
  {
   "cell_type": "code",
   "execution_count": 19,
   "id": "159dcd5e",
   "metadata": {},
   "outputs": [
    {
     "data": {
      "text/plain": [
       "[('A', 'B'), ('B', 'C')]"
      ]
     },
     "execution_count": 19,
     "metadata": {},
     "output_type": "execute_result"
    }
   ],
   "source": [
    "# Get the list of all edges\n",
    "G = nx.DiGraph()\n",
    "G.add_edge('A','B',weight=6,relation='family')\n",
    "G.add_edge('B','C',weight=13,relation='friend')\n",
    "list(G.edges())"
   ]
  },
  {
   "cell_type": "code",
   "execution_count": 20,
   "id": "758d497a",
   "metadata": {},
   "outputs": [
    {
     "data": {
      "text/plain": [
       "13"
      ]
     },
     "execution_count": 20,
     "metadata": {},
     "output_type": "execute_result"
    }
   ],
   "source": [
    "# To access a specific attribute of a specific edge\n",
    "G.edges['B','C']['weight'] "
   ]
  },
  {
   "cell_type": "code",
   "execution_count": 21,
   "id": "c872b03c",
   "metadata": {},
   "outputs": [
    {
     "ename": "KeyError",
     "evalue": "'B'",
     "output_type": "error",
     "traceback": [
      "\u001b[1;31m---------------------------------------------------------------------------\u001b[0m",
      "\u001b[1;31mKeyError\u001b[0m                                  Traceback (most recent call last)",
      "Cell \u001b[1;32mIn[21], line 2\u001b[0m\n\u001b[0;32m      1\u001b[0m \u001b[38;5;66;03m# Will get an error\u001b[39;00m\n\u001b[1;32m----> 2\u001b[0m G\u001b[38;5;241m.\u001b[39medges[\u001b[38;5;124m'\u001b[39m\u001b[38;5;124mC\u001b[39m\u001b[38;5;124m'\u001b[39m,\u001b[38;5;124m'\u001b[39m\u001b[38;5;124mB\u001b[39m\u001b[38;5;124m'\u001b[39m][\u001b[38;5;124m'\u001b[39m\u001b[38;5;124mweight\u001b[39m\u001b[38;5;124m'\u001b[39m]\n",
      "File \u001b[1;32m~\\anaconda31\\Lib\\site-packages\\networkx\\classes\\reportviews.py:1085\u001b[0m, in \u001b[0;36mOutEdgeView.__getitem__\u001b[1;34m(self, e)\u001b[0m\n\u001b[0;32m   1080\u001b[0m     \u001b[38;5;28;01mraise\u001b[39;00m nx\u001b[38;5;241m.\u001b[39mNetworkXError(\n\u001b[0;32m   1081\u001b[0m         \u001b[38;5;124mf\u001b[39m\u001b[38;5;124m\"\u001b[39m\u001b[38;5;132;01m{\u001b[39;00m\u001b[38;5;28mtype\u001b[39m(\u001b[38;5;28mself\u001b[39m)\u001b[38;5;241m.\u001b[39m\u001b[38;5;18m__name__\u001b[39m\u001b[38;5;132;01m}\u001b[39;00m\u001b[38;5;124m does not support slicing, \u001b[39m\u001b[38;5;124m\"\u001b[39m\n\u001b[0;32m   1082\u001b[0m         \u001b[38;5;124mf\u001b[39m\u001b[38;5;124m\"\u001b[39m\u001b[38;5;124mtry list(G.edges)[\u001b[39m\u001b[38;5;132;01m{\u001b[39;00me\u001b[38;5;241m.\u001b[39mstart\u001b[38;5;132;01m}\u001b[39;00m\u001b[38;5;124m:\u001b[39m\u001b[38;5;132;01m{\u001b[39;00me\u001b[38;5;241m.\u001b[39mstop\u001b[38;5;132;01m}\u001b[39;00m\u001b[38;5;124m:\u001b[39m\u001b[38;5;132;01m{\u001b[39;00me\u001b[38;5;241m.\u001b[39mstep\u001b[38;5;132;01m}\u001b[39;00m\u001b[38;5;124m]\u001b[39m\u001b[38;5;124m\"\u001b[39m\n\u001b[0;32m   1083\u001b[0m     )\n\u001b[0;32m   1084\u001b[0m u, v \u001b[38;5;241m=\u001b[39m e\n\u001b[1;32m-> 1085\u001b[0m \u001b[38;5;28;01mreturn\u001b[39;00m \u001b[38;5;28mself\u001b[39m\u001b[38;5;241m.\u001b[39m_adjdict[u][v]\n",
      "\u001b[1;31mKeyError\u001b[0m: 'B'"
     ]
    }
   ],
   "source": [
    "# Will get an error\n",
    "G.edges['C','B']['weight'] "
   ]
  },
  {
   "cell_type": "markdown",
   "id": "20dd0383",
   "metadata": {},
   "source": [
    "### For a Multigraph"
   ]
  },
  {
   "cell_type": "code",
   "execution_count": 23,
   "id": "f28db9c1",
   "metadata": {},
   "outputs": [
    {
     "data": {
      "text/plain": [
       "{0: {'weight': 6, 'relation': 'family'},\n",
       " 1: {'weight': 18, 'relation': 'friend'}}"
      ]
     },
     "execution_count": 23,
     "metadata": {},
     "output_type": "execute_result"
    }
   ],
   "source": [
    "G = nx.MultiGraph()\n",
    "G.add_edge('A','B',weight=6,relation='family')\n",
    "G.add_edge('A','B',weight=18,relation='friend')\n",
    "G.add_edge('C','B',weight=13,relation='friend')\n",
    "dict(G['A']['B'])  # Not list as was done in the earlier graphs"
   ]
  },
  {
   "cell_type": "code",
   "execution_count": 24,
   "id": "36da95c0",
   "metadata": {},
   "outputs": [
    {
     "data": {
      "text/plain": [
       "6"
      ]
     },
     "execution_count": 24,
     "metadata": {},
     "output_type": "execute_result"
    }
   ],
   "source": [
    "# Accessing Specific attribute of a specific edge\n",
    "G['A']['B'][0]['weight']"
   ]
  },
  {
   "cell_type": "code",
   "execution_count": 25,
   "id": "0e12220e",
   "metadata": {},
   "outputs": [
    {
     "data": {
      "text/plain": [
       "18"
      ]
     },
     "execution_count": 25,
     "metadata": {},
     "output_type": "execute_result"
    }
   ],
   "source": [
    "G['A']['B'][1]['weight']"
   ]
  },
  {
   "cell_type": "markdown",
   "id": "fa048559",
   "metadata": {},
   "source": [
    "### For a directed weighted multigraph"
   ]
  },
  {
   "cell_type": "code",
   "execution_count": 29,
   "id": "aa6aebd4",
   "metadata": {},
   "outputs": [
    {
     "data": {
      "text/plain": [
       "6"
      ]
     },
     "execution_count": 29,
     "metadata": {},
     "output_type": "execute_result"
    }
   ],
   "source": [
    "# Directed Weighted Multigraph\n",
    "# Can have the same edge but different relationship\n",
    "# other edge Attributes\n",
    "G = nx.MultiDiGraph()\n",
    "G.add_edge('A','B',weight=6,relation='family')\n",
    "G.add_edge('A','B',weight=18,relation='friend')\n",
    "G.add_edge('C','B',weight=13,relation='friend')\n",
    "G['A']['B'][0]['weight']"
   ]
  },
  {
   "cell_type": "markdown",
   "id": "3c75b109",
   "metadata": {},
   "source": [
    "## Node Attributes"
   ]
  },
  {
   "cell_type": "code",
   "execution_count": 34,
   "id": "e8fdaf3e",
   "metadata": {},
   "outputs": [],
   "source": [
    "# How to add node attributes\n",
    "# First we add edge attribtes\n",
    "G=nx.Graph()\n",
    "G.add_edge('A','B',weight=6,relation='family')\n",
    "G.add_edge('B','C',weight=13,relation='friend')\n",
    "# Now we add node attribute\n",
    "G.add_node('A',role='trader')\n",
    "# even though A is already in the graph, we can...\n",
    "#...add it again to set the attribute of the node without interfering with the edge. \n",
    "G.add_node('B',role='trader')\n",
    "G.add_node('C',role='manager')"
   ]
  },
  {
   "cell_type": "code",
   "execution_count": 35,
   "id": "2010aec8",
   "metadata": {},
   "outputs": [
    {
     "data": {
      "text/plain": [
       "['A', 'B', 'C']"
      ]
     },
     "execution_count": 35,
     "metadata": {},
     "output_type": "execute_result"
    }
   ],
   "source": [
    "# get a list of all the nodes\n",
    "list(G.nodes())"
   ]
  },
  {
   "cell_type": "code",
   "execution_count": 36,
   "id": "2ad81ace",
   "metadata": {},
   "outputs": [
    {
     "data": {
      "text/plain": [
       "[('A', {'role': 'trader'}),\n",
       " ('B', {'role': 'trader'}),\n",
       " ('C', {'role': 'manager'})]"
      ]
     },
     "execution_count": 36,
     "metadata": {},
     "output_type": "execute_result"
    }
   ],
   "source": [
    "# to get a list with all the attributes\n",
    "list(G.nodes(data=True))"
   ]
  },
  {
   "cell_type": "code",
   "execution_count": 37,
   "id": "f45c875d",
   "metadata": {},
   "outputs": [
    {
     "data": {
      "text/plain": [
       "'manager'"
      ]
     },
     "execution_count": 37,
     "metadata": {},
     "output_type": "execute_result"
    }
   ],
   "source": [
    "# to get the attributes of a specific node\n",
    "G.nodes['C']['role']"
   ]
  },
  {
   "cell_type": "markdown",
   "id": "f770c123",
   "metadata": {},
   "source": [
    "## Bipartite Graph\n",
    "A graph is a bipartite graph, if it has two sets of nodes, L & R and every single node connects an L to R. But there are no connections within L or within R"
   ]
  },
  {
   "cell_type": "code",
   "execution_count": 40,
   "id": "bf0e46a2",
   "metadata": {},
   "outputs": [],
   "source": [
    "# How to construct Bipartite Graphs\n",
    "from networkx.algorithms import bipartite\n",
    "B = nx.Graph()\n",
    "# Below enables you to add nodes from a list\n",
    "# to add L\n",
    "B.add_nodes_from(['A','B','C','D','E'],bipartite=0)\n",
    "# to add R\n",
    "B.add_nodes_from([1,2,3,4],bipartite=1)\n",
    "# Now you can add edges\n",
    "B.add_edges_from([('A',1),('B',1),('C',1),('C',3),('D',2),('E',3),('E',4)])"
   ]
  },
  {
   "cell_type": "markdown",
   "id": "b61a6fad",
   "metadata": {},
   "source": [
    "### Checking if the graph is Bipartite"
   ]
  },
  {
   "cell_type": "code",
   "execution_count": 43,
   "id": "cee1615c",
   "metadata": {},
   "outputs": [
    {
     "data": {
      "text/plain": [
       "True"
      ]
     },
     "execution_count": 43,
     "metadata": {},
     "output_type": "execute_result"
    }
   ],
   "source": [
    "bipartite.is_bipartite(B)"
   ]
  },
  {
   "cell_type": "code",
   "execution_count": 44,
   "id": "4990a803",
   "metadata": {},
   "outputs": [],
   "source": [
    "# Let us check after we add an edge within A and B\n",
    "B.add_edge('A','B')"
   ]
  },
  {
   "cell_type": "code",
   "execution_count": 45,
   "id": "39a5a728",
   "metadata": {},
   "outputs": [
    {
     "data": {
      "text/plain": [
       "False"
      ]
     },
     "execution_count": 45,
     "metadata": {},
     "output_type": "execute_result"
    }
   ],
   "source": [
    "bipartite.is_bipartite(B)"
   ]
  },
  {
   "cell_type": "code",
   "execution_count": 46,
   "id": "4f4da504",
   "metadata": {},
   "outputs": [],
   "source": [
    "B.remove_edge('A','B')"
   ]
  },
  {
   "cell_type": "code",
   "execution_count": 47,
   "id": "7fa40aec",
   "metadata": {},
   "outputs": [
    {
     "data": {
      "text/plain": [
       "True"
      ]
     },
     "execution_count": 47,
     "metadata": {},
     "output_type": "execute_result"
    }
   ],
   "source": [
    "bipartite.is_bipartite(B)"
   ]
  },
  {
   "cell_type": "code",
   "execution_count": 49,
   "id": "23bd4bc5",
   "metadata": {},
   "outputs": [
    {
     "data": {
      "text/plain": [
       "True"
      ]
     },
     "execution_count": 49,
     "metadata": {},
     "output_type": "execute_result"
    }
   ],
   "source": [
    "# check if a set of nodes is a a bipartition of a graph\n",
    "X=set([1,2,3,4])\n",
    "bipartite.is_bipartite_node_set(B,X)"
   ]
  },
  {
   "cell_type": "code",
   "execution_count": 50,
   "id": "7e37fb19",
   "metadata": {},
   "outputs": [
    {
     "data": {
      "text/plain": [
       "True"
      ]
     },
     "execution_count": 50,
     "metadata": {},
     "output_type": "execute_result"
    }
   ],
   "source": [
    "# similarly\n",
    "X=set(['A','B','C','D','E'])\n",
    "bipartite.is_bipartite_node_set(B,X)"
   ]
  },
  {
   "cell_type": "code",
   "execution_count": 51,
   "id": "fc8a9bc0",
   "metadata": {},
   "outputs": [
    {
     "data": {
      "text/plain": [
       "False"
      ]
     },
     "execution_count": 51,
     "metadata": {},
     "output_type": "execute_result"
    }
   ],
   "source": [
    "# check if a set of nodes is a a bipartition of a graph\n",
    "X=set([1,2,3,4,'A'])\n",
    "bipartite.is_bipartite_node_set(B,X)"
   ]
  },
  {
   "cell_type": "code",
   "execution_count": 62,
   "id": "719cc43e",
   "metadata": {},
   "outputs": [],
   "source": [
    "B = nx.Graph()\n",
    "# Add nodes with the node attribute \"bipartite\"\n",
    "B.add_nodes_from([1, 2, 3, 4], bipartite=0)\n",
    "B.add_nodes_from([\"a\", \"b\", \"c\"], bipartite=1)\n",
    "# Add edges only between nodes of opposite node sets\n",
    "B.add_edges_from([(1, \"a\"), (1, \"b\"), (2, \"b\"), (2, \"c\"), (3, \"c\"), (4, \"a\")])"
   ]
  },
  {
   "cell_type": "code",
   "execution_count": 63,
   "id": "681f03fa",
   "metadata": {},
   "outputs": [
    {
     "data": {
      "text/plain": [
       "True"
      ]
     },
     "execution_count": 63,
     "metadata": {},
     "output_type": "execute_result"
    }
   ],
   "source": [
    "bipartite.is_bipartite(B)"
   ]
  },
  {
   "cell_type": "code",
   "execution_count": 64,
   "id": "288ea966",
   "metadata": {},
   "outputs": [
    {
     "data": {
      "text/plain": [
       "({1, 2, 3, 4}, {'a', 'b', 'c'})"
      ]
     },
     "execution_count": 64,
     "metadata": {},
     "output_type": "execute_result"
    }
   ],
   "source": [
    "# We can get the two sets of a graph\n",
    "bipartite.sets(B)"
   ]
  },
  {
   "cell_type": "markdown",
   "id": "5e981bf5",
   "metadata": {},
   "source": [
    "### L-Bipartite Graph projection"
   ]
  },
  {
   "cell_type": "markdown",
   "id": "a32b0cfc",
   "metadata": {},
   "source": [
    "Network of nodes in L, where a pair of nodes is connected if they have a common neighbour in R\n",
    "eg. if L is Fans and R is basketball team. then L-Bipartite graph projection is all those Fans who follow the same team"
   ]
  },
  {
   "cell_type": "markdown",
   "id": "60c63e2c",
   "metadata": {},
   "source": [
    "### R-Bipartite Graph projection"
   ]
  },
  {
   "cell_type": "markdown",
   "id": "7ade9a52",
   "metadata": {},
   "source": [
    "Network of nodes in R, where a pair of nodes is connected if they have a common neighbour in L\n",
    "eg. if L is Fans and R is basketball team. then R-Bipartite graph projection is all those teams who have the same fans"
   ]
  },
  {
   "cell_type": "code",
   "execution_count": 71,
   "id": "ff42df5e",
   "metadata": {},
   "outputs": [],
   "source": [
    "# How to do it. First you define the graph\n",
    "B=nx.Graph()\n",
    "# Add all the edges\n",
    "B.add_edges_from([('A',1),('B',1),('C',1),('D',1),('H',1),('B',2),('C',2),('D',2),('E',2),('G',2),('E',3),('F',3),('H',3),('J',3),('E',4),('I',4),('j',4)])"
   ]
  },
  {
   "cell_type": "code",
   "execution_count": 72,
   "id": "0140bfb4",
   "metadata": {},
   "outputs": [],
   "source": [
    "# Now we define a set X to be set of fans\n",
    "X=set(['A','B','C','D','E','F','G','H','I','J'])\n",
    "\n",
    "# Now we use the function projected graph. Takes input B and X\n",
    "P=bipartite.projected_graph(B,X)"
   ]
  },
  {
   "cell_type": "code",
   "execution_count": 74,
   "id": "217dfbc7",
   "metadata": {},
   "outputs": [],
   "source": [
    "# You can also get the projected graph for the teams \n",
    "X=set([1,2,3,4])\n",
    "P=bipartite.projected_graph(B,X)"
   ]
  },
  {
   "cell_type": "markdown",
   "id": "fa5e1a2a",
   "metadata": {},
   "source": [
    "### L-bipartite Weighted Graph  projection\n",
    "To find how many nodes of other sets are common between them"
   ]
  },
  {
   "cell_type": "code",
   "execution_count": 75,
   "id": "fab87bcb",
   "metadata": {},
   "outputs": [],
   "source": [
    "X = set([1,2,3,4])\n",
    "P=bipartite.weighted_projected_graph(B,X)"
   ]
  }
 ],
 "metadata": {
  "kernelspec": {
   "display_name": "Python 3 (ipykernel)",
   "language": "python",
   "name": "python3"
  },
  "language_info": {
   "codemirror_mode": {
    "name": "ipython",
    "version": 3
   },
   "file_extension": ".py",
   "mimetype": "text/x-python",
   "name": "python",
   "nbconvert_exporter": "python",
   "pygments_lexer": "ipython3",
   "version": "3.11.4"
  }
 },
 "nbformat": 4,
 "nbformat_minor": 5
}
