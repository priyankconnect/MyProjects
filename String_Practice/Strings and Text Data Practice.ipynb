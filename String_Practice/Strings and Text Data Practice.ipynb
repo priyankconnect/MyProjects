{
 "cells": [
  {
   "cell_type": "markdown",
   "id": "0cfcd08f",
   "metadata": {},
   "source": [
    "### Strings\n",
    "\n",
    "In python, a string is simply a series of characters. They are created by a set of opening and matching single or double quotes.eg.\n",
    "\n",
    "word = 'grail'\n",
    "\n",
    "sent = 'a scratch' "
   ]
  },
  {
   "cell_type": "markdown",
   "id": "b40c95a9",
   "metadata": {},
   "source": [
    "### Subsetting and Slicing Strings\n",
    "\n",
    "Strings can be thought of as a container of characters. You can subset a string like any other Python Container( eg. list or Series)\n",
    "\n",
    "### Single Letter"
   ]
  },
  {
   "cell_type": "code",
   "execution_count": 1,
   "id": "548460e5",
   "metadata": {},
   "outputs": [
    {
     "name": "stdout",
     "output_type": "stream",
     "text": [
      "g\n",
      "a\n"
     ]
    }
   ],
   "source": [
    "word = 'grail'\n",
    "sent = 'a scratch'\n",
    "print(word[0])\n",
    "print(sent[0])"
   ]
  },
  {
   "cell_type": "markdown",
   "id": "2daf46d6",
   "metadata": {},
   "source": [
    "### Slicing Multiple Letters"
   ]
  },
  {
   "cell_type": "code",
   "execution_count": 2,
   "id": "6b7fdcab",
   "metadata": {},
   "outputs": [
    {
     "name": "stdout",
     "output_type": "stream",
     "text": [
      "gra\n"
     ]
    }
   ],
   "source": [
    "# Get the first 3 characters\n",
    "# Note that index 3 is really the 4th character\n",
    "print(word[0:3])"
   ]
  },
  {
   "cell_type": "markdown",
   "id": "3346f808",
   "metadata": {},
   "source": [
    "### Negative Numbers"
   ]
  },
  {
   "cell_type": "code",
   "execution_count": 3,
   "id": "d8b82579",
   "metadata": {},
   "outputs": [
    {
     "name": "stdout",
     "output_type": "stream",
     "text": [
      "h\n"
     ]
    }
   ],
   "source": [
    "# Get the last letter\n",
    "print(sent[-1])"
   ]
  },
  {
   "cell_type": "code",
   "execution_count": 4,
   "id": "8e3387e1",
   "metadata": {},
   "outputs": [
    {
     "name": "stdout",
     "output_type": "stream",
     "text": [
      "a\n"
     ]
    }
   ],
   "source": [
    "# You can also use it to slice values\n",
    "#get 'a'\n",
    "print(sent[-9:-8])"
   ]
  },
  {
   "cell_type": "code",
   "execution_count": 5,
   "id": "47ccefce",
   "metadata": {
    "scrolled": true
   },
   "outputs": [
    {
     "name": "stdout",
     "output_type": "stream",
     "text": [
      "a\n"
     ]
    }
   ],
   "source": [
    "# You can combine non-negative numbers with negative number\n",
    "print(sent[0:-8])"
   ]
  },
  {
   "cell_type": "code",
   "execution_count": 6,
   "id": "6e5912a4",
   "metadata": {},
   "outputs": [
    {
     "name": "stdout",
     "output_type": "stream",
     "text": [
      "scratc\n"
     ]
    }
   ],
   "source": [
    "# Note that you can't actuallly get the last letter when using negative index slicing. \n",
    "# scratch\n",
    "print(sent[2:-1])"
   ]
  },
  {
   "cell_type": "code",
   "execution_count": 7,
   "id": "6d7e732a",
   "metadata": {},
   "outputs": [
    {
     "name": "stdout",
     "output_type": "stream",
     "text": [
      "scratc\n"
     ]
    }
   ],
   "source": [
    "#scratch\n",
    "print(sent[-7:-1])"
   ]
  },
  {
   "cell_type": "markdown",
   "id": "45e4c006",
   "metadata": {},
   "source": [
    "### Getting the length of a string"
   ]
  },
  {
   "cell_type": "code",
   "execution_count": 9,
   "id": "cd9533d6",
   "metadata": {},
   "outputs": [
    {
     "data": {
      "text/plain": [
       "9"
      ]
     },
     "execution_count": 9,
     "metadata": {},
     "output_type": "execute_result"
    }
   ],
   "source": [
    "s_len = len(sent)\n",
    "s_len"
   ]
  },
  {
   "cell_type": "markdown",
   "id": "6eca63c9",
   "metadata": {},
   "source": [
    "### Getting the last character"
   ]
  },
  {
   "cell_type": "code",
   "execution_count": 10,
   "id": "a6967241",
   "metadata": {},
   "outputs": [
    {
     "data": {
      "text/plain": [
       "'h'"
      ]
     },
     "execution_count": 10,
     "metadata": {},
     "output_type": "execute_result"
    }
   ],
   "source": [
    "sent[s_len-1]"
   ]
  },
  {
   "cell_type": "markdown",
   "id": "c7150b42",
   "metadata": {},
   "source": [
    "### To Get the first three elements"
   ]
  },
  {
   "cell_type": "code",
   "execution_count": 11,
   "id": "6d717f83",
   "metadata": {},
   "outputs": [
    {
     "data": {
      "text/plain": [
       "'gra'"
      ]
     },
     "execution_count": 11,
     "metadata": {},
     "output_type": "execute_result"
    }
   ],
   "source": [
    "word[0:3]"
   ]
  },
  {
   "cell_type": "markdown",
   "id": "11732ea5",
   "metadata": {},
   "source": [
    "### To get the last three elements"
   ]
  },
  {
   "cell_type": "code",
   "execution_count": 12,
   "id": "2334cbaf",
   "metadata": {},
   "outputs": [
    {
     "data": {
      "text/plain": [
       "'ail'"
      ]
     },
     "execution_count": 12,
     "metadata": {},
     "output_type": "execute_result"
    }
   ],
   "source": [
    "word[-3:len(word)]"
   ]
  },
  {
   "cell_type": "markdown",
   "id": "29fc4f47",
   "metadata": {},
   "source": [
    "### To get every second String"
   ]
  },
  {
   "cell_type": "code",
   "execution_count": 13,
   "id": "fbfe326e",
   "metadata": {},
   "outputs": [
    {
     "data": {
      "text/plain": [
       "'asrth'"
      ]
     },
     "execution_count": 13,
     "metadata": {},
     "output_type": "execute_result"
    }
   ],
   "source": [
    "sent[::2]"
   ]
  },
  {
   "cell_type": "markdown",
   "id": "8213fcd9",
   "metadata": {},
   "source": [
    "### Capitalize First word of the string"
   ]
  },
  {
   "cell_type": "code",
   "execution_count": 15,
   "id": "73e80b47",
   "metadata": {},
   "outputs": [
    {
     "data": {
      "text/plain": [
       "'Grail'"
      ]
     },
     "execution_count": 15,
     "metadata": {},
     "output_type": "execute_result"
    }
   ],
   "source": [
    "word.capitalize()"
   ]
  },
  {
   "cell_type": "markdown",
   "id": "d3a38eb4",
   "metadata": {},
   "source": [
    "### Count the occurrence of a particular character"
   ]
  },
  {
   "cell_type": "code",
   "execution_count": 17,
   "id": "b6b6a36e",
   "metadata": {},
   "outputs": [
    {
     "data": {
      "text/plain": [
       "2"
      ]
     },
     "execution_count": 17,
     "metadata": {},
     "output_type": "execute_result"
    }
   ],
   "source": [
    "word1 = \"It's just a flesh wound!\"\n",
    "word1.count('u')"
   ]
  },
  {
   "cell_type": "markdown",
   "id": "fdd77fee",
   "metadata": {},
   "source": [
    "### Check if a string starts with a particular word"
   ]
  },
  {
   "cell_type": "code",
   "execution_count": 18,
   "id": "6b2eceb2",
   "metadata": {},
   "outputs": [
    {
     "data": {
      "text/plain": [
       "True"
      ]
     },
     "execution_count": 18,
     "metadata": {},
     "output_type": "execute_result"
    }
   ],
   "source": [
    "word1 = \"Halt! Who goes there?\"\n",
    "word1.startswith('Halt')"
   ]
  },
  {
   "cell_type": "markdown",
   "id": "aecc2285",
   "metadata": {},
   "source": [
    "### Check the position of first occurrence of a character"
   ]
  },
  {
   "cell_type": "code",
   "execution_count": 19,
   "id": "8b94421f",
   "metadata": {},
   "outputs": [
    {
     "data": {
      "text/plain": [
       "6"
      ]
     },
     "execution_count": 19,
     "metadata": {},
     "output_type": "execute_result"
    }
   ],
   "source": [
    "word1 = \"It's just a flesh wound!\"\n",
    "word1.find('u')"
   ]
  },
  {
   "cell_type": "markdown",
   "id": "b78789a3",
   "metadata": {},
   "source": [
    "   ### Check if a word ends with a particular string sequence"
   ]
  },
  {
   "cell_type": "code",
   "execution_count": 20,
   "id": "05acf8ee",
   "metadata": {},
   "outputs": [
    {
     "data": {
      "text/plain": [
       "True"
      ]
     },
     "execution_count": 20,
     "metadata": {},
     "output_type": "execute_result"
    }
   ],
   "source": [
    "word1 = \"coconut\"\n",
    "word1.endswith('nut')"
   ]
  },
  {
   "cell_type": "markdown",
   "id": "a7777084",
   "metadata": {},
   "source": [
    "### To find the position of a word in a string"
   ]
  },
  {
   "cell_type": "code",
   "execution_count": 21,
   "id": "21f5b54e",
   "metadata": {},
   "outputs": [
    {
     "data": {
      "text/plain": [
       "12"
      ]
     },
     "execution_count": 21,
     "metadata": {},
     "output_type": "execute_result"
    }
   ],
   "source": [
    "word1 = \"It's just a flesh wound!\"\n",
    "word1.index('flesh')"
   ]
  },
  {
   "cell_type": "markdown",
   "id": "c62f077e",
   "metadata": {},
   "source": [
    "### To check if there is a whitespace in a string"
   ]
  },
  {
   "cell_type": "code",
   "execution_count": 24,
   "id": "57df7836",
   "metadata": {},
   "outputs": [
    {
     "data": {
      "text/plain": [
       "True"
      ]
     },
     "execution_count": 24,
     "metadata": {},
     "output_type": "execute_result"
    }
   ],
   "source": [
    "word1 = \"flesh\"\n",
    "#word1 = \"It's just a flesh wound!\"\n",
    "word1.isalpha()"
   ]
  },
  {
   "cell_type": "markdown",
   "id": "657f34b6",
   "metadata": {},
   "source": [
    "### To check if a string is numerical"
   ]
  },
  {
   "cell_type": "code",
   "execution_count": 27,
   "id": "4134a41e",
   "metadata": {},
   "outputs": [
    {
     "data": {
      "text/plain": [
       "True"
      ]
     },
     "execution_count": 27,
     "metadata": {},
     "output_type": "execute_result"
    }
   ],
   "source": [
    "word1 = \"37\"\n",
    "word1.isdecimal()"
   ]
  },
  {
   "cell_type": "markdown",
   "id": "9ced6867",
   "metadata": {},
   "source": [
    "### To check if a string has special characters whitespaces and others"
   ]
  },
  {
   "cell_type": "code",
   "execution_count": 28,
   "id": "a206bd05",
   "metadata": {},
   "outputs": [
    {
     "data": {
      "text/plain": [
       "False"
      ]
     },
     "execution_count": 28,
     "metadata": {},
     "output_type": "execute_result"
    }
   ],
   "source": [
    "    word1 = \"Hello 123\"\n",
    "word1.isalnum()"
   ]
  },
  {
   "cell_type": "markdown",
   "id": "8055d792",
   "metadata": {},
   "source": [
    "### To convert to lower case"
   ]
  },
  {
   "cell_type": "code",
   "execution_count": 29,
   "id": "44b9bedc",
   "metadata": {},
   "outputs": [
    {
     "data": {
      "text/plain": [
       "'black knight'"
      ]
     },
     "execution_count": 29,
     "metadata": {},
     "output_type": "execute_result"
    }
   ],
   "source": [
    "word1='Black Knight'\n",
    "word1.lower()"
   ]
  },
  {
   "cell_type": "markdown",
   "id": "89970f5b",
   "metadata": {},
   "source": [
    "### To convert to upper case"
   ]
  },
  {
   "cell_type": "code",
   "execution_count": 30,
   "id": "f8a7aaef",
   "metadata": {},
   "outputs": [
    {
     "data": {
      "text/plain": [
       "'BLACK KNIGHT'"
      ]
     },
     "execution_count": 30,
     "metadata": {},
     "output_type": "execute_result"
    }
   ],
   "source": [
    "word1='Black Knight'\n",
    "word1.upper()"
   ]
  },
  {
   "cell_type": "markdown",
   "id": "a10bb5d5",
   "metadata": {},
   "source": [
    "### to replace a string with another string"
   ]
  },
  {
   "cell_type": "code",
   "execution_count": 31,
   "id": "7d5f60a3",
   "metadata": {},
   "outputs": [
    {
     "data": {
      "text/plain": [
       "'scratch!'"
      ]
     },
     "execution_count": 31,
     "metadata": {},
     "output_type": "execute_result"
    }
   ],
   "source": [
    "word1 = \"flesh wound!\"\n",
    "word2 = \"scratch\"\n",
    "word1.replace(\"flesh wound\",word2)"
   ]
  },
  {
   "cell_type": "markdown",
   "id": "6cd6439a",
   "metadata": {},
   "source": [
    "### To remove any leading or trailing whitespace"
   ]
  },
  {
   "cell_type": "code",
   "execution_count": 32,
   "id": "21b4b666",
   "metadata": {},
   "outputs": [
    {
     "data": {
      "text/plain": [
       "'flesh wound!'"
      ]
     },
     "execution_count": 32,
     "metadata": {},
     "output_type": "execute_result"
    }
   ],
   "source": [
    "word1 = \" flesh wound! \"\n",
    "word1.strip()"
   ]
  },
  {
   "cell_type": "markdown",
   "id": "114cfcdc",
   "metadata": {},
   "source": [
    "### To split the words in a sentence by a comma"
   ]
  },
  {
   "cell_type": "code",
   "execution_count": 33,
   "id": "ca8aae9d",
   "metadata": {},
   "outputs": [
    {
     "data": {
      "text/plain": [
       "['flesh', 'wound!']"
      ]
     },
     "execution_count": 33,
     "metadata": {},
     "output_type": "execute_result"
    }
   ],
   "source": [
    "word1 = \"flesh wound!\"\n",
    "word1.split(sep=\" \")"
   ]
  },
  {
   "cell_type": "markdown",
   "id": "281fd037",
   "metadata": {},
   "source": [
    "### Join\n",
    "The join method takes a container ( eg. a list) and returns a new string containing each elemetn in the list with a separator"
   ]
  },
  {
   "cell_type": "code",
   "execution_count": 35,
   "id": "922026ee",
   "metadata": {},
   "outputs": [
    {
     "data": {
      "text/plain": [
       "'a b c d e'"
      ]
     },
     "execution_count": 35,
     "metadata": {},
     "output_type": "execute_result"
    }
   ],
   "source": [
    "my_list = ['a','b','c','d','e']\n",
    "cord = \" \".join(my_list)\n",
    "cord"
   ]
  },
  {
   "cell_type": "markdown",
   "id": "3bc521ee",
   "metadata": {},
   "source": [
    "### Splitlines\n",
    "In Python, the splitlines() method is a string method that splits a string into a list of lines, preserving the line breaks. It's particularly useful when you're working with multiline strings or text files and want to break the content into individual lines.\n",
    "\n",
    "The splitlines() method doesn't require any arguments, and it splits the string based on different types of line terminators, such as newline (\\n), carriage return (\\r), or a combination of both (\\r\\n).\n",
    "\n",
    "Here's the syntax of the splitlines() method:\n",
    "string.splitlines()"
   ]
  },
  {
   "cell_type": "code",
   "execution_count": 36,
   "id": "fcc5268a",
   "metadata": {},
   "outputs": [
    {
     "name": "stdout",
     "output_type": "stream",
     "text": [
      "Hello\n",
      "World\n",
      "How\n",
      "are\n",
      "you?\n"
     ]
    }
   ],
   "source": [
    "text = \"Hello\\nWorld\\nHow\\rare\\r\\nyou?\"\n",
    "\n",
    "lines = text.splitlines()\n",
    "\n",
    "for line in lines:\n",
    "    print(line)\n"
   ]
  },
  {
   "cell_type": "markdown",
   "id": "b707210d",
   "metadata": {},
   "source": [
    "### String Formatting using f strings"
   ]
  },
  {
   "cell_type": "code",
   "execution_count": 38,
   "id": "2825ac00",
   "metadata": {},
   "outputs": [
    {
     "name": "stdout",
     "output_type": "stream",
     "text": [
      "My name is Eve and my weight is 65.50 kg.\n"
     ]
    }
   ],
   "source": [
    "name = \"Eve\"\n",
    "weight = 65.5\n",
    "formatted_string = f\"My name is {name} and my weight is {weight:.2f} kg.\"\n",
    "print(formatted_string)"
   ]
  },
  {
   "cell_type": "markdown",
   "id": "1c657134",
   "metadata": {},
   "source": [
    "### Formatting Numbers using f string"
   ]
  },
  {
   "cell_type": "code",
   "execution_count": 43,
   "id": "12b46266",
   "metadata": {},
   "outputs": [
    {
     "data": {
      "text/plain": [
       "'3.14'"
      ]
     },
     "execution_count": 43,
     "metadata": {},
     "output_type": "execute_result"
    }
   ],
   "source": [
    "pi = 3.14159265\n",
    "# Using f-string\n",
    "formatted_pi_fstring = f\"{pi:.2f}\"\n",
    "formatted_pi_fstring"
   ]
  },
  {
   "cell_type": "markdown",
   "id": "1c4652fa",
   "metadata": {},
   "source": [
    "### Formatting Large Numbers using thousands separators"
   ]
  },
  {
   "cell_type": "code",
   "execution_count": 44,
   "id": "fea40ab6",
   "metadata": {},
   "outputs": [
    {
     "data": {
      "text/plain": [
       "'1,234,567'"
      ]
     },
     "execution_count": 44,
     "metadata": {},
     "output_type": "execute_result"
    }
   ],
   "source": [
    "large_number = 1234567\n",
    "# Using f-string\n",
    "thousand_separator = f\"{large_number:,}\"\n",
    "thousand_separator"
   ]
  },
  {
   "cell_type": "markdown",
   "id": "cc629536",
   "metadata": {},
   "source": [
    "### Formatting with Padding"
   ]
  },
  {
   "cell_type": "code",
   "execution_count": 56,
   "id": "13d73967",
   "metadata": {},
   "outputs": [
    {
     "data": {
      "text/plain": [
       "'   42'"
      ]
     },
     "execution_count": 56,
     "metadata": {},
     "output_type": "execute_result"
    }
   ],
   "source": [
    "# Padding and Aignment\n",
    "number = 42\n",
    "formatted_number = f\"{number:5}\"  # Padded to width \n",
    "formatted_number"
   ]
  },
  {
   "cell_type": "markdown",
   "id": "42f931e2",
   "metadata": {},
   "source": [
    "### Formatting with Aignment"
   ]
  },
  {
   "cell_type": "code",
   "execution_count": 47,
   "id": "8319ec1c",
   "metadata": {},
   "outputs": [
    {
     "data": {
      "text/plain": [
       "'42   '"
      ]
     },
     "execution_count": 47,
     "metadata": {},
     "output_type": "execute_result"
    }
   ],
   "source": [
    "#Alignment\n",
    "formatted_number_left_aligned = f\"{number:<5}\"  # Left aligned within width 5\n",
    "formatted_number_left_aligned"
   ]
  },
  {
   "cell_type": "markdown",
   "id": "6d76dd9c",
   "metadata": {},
   "source": [
    "### Formatting including +ve of -ve sign"
   ]
  },
  {
   "cell_type": "code",
   "execution_count": 49,
   "id": "1bc4055d",
   "metadata": {},
   "outputs": [
    {
     "name": "stdout",
     "output_type": "stream",
     "text": [
      "+42\n",
      "-42\n"
     ]
    }
   ],
   "source": [
    "# You can include the +ve or -ve sign\n",
    "positive_number = 42\n",
    "negative_number = -42\n",
    "\n",
    "formatted_positive = f\"{positive_number:+}\"\n",
    "formatted_negative = f\"{negative_number:+}\"\n",
    "\n",
    "print(formatted_positive)\n",
    "print(formatted_negative)"
   ]
  },
  {
   "cell_type": "markdown",
   "id": "06633c42",
   "metadata": {},
   "source": [
    "### Formatting with Exponential Notation"
   ]
  },
  {
   "cell_type": "code",
   "execution_count": 52,
   "id": "1f7c5512",
   "metadata": {},
   "outputs": [
    {
     "name": "stdout",
     "output_type": "stream",
     "text": [
      "1.23e+04\n"
     ]
    }
   ],
   "source": [
    "large_value = 12345.6789\n",
    "formatted_sci = f\"{large_value:.2e}\"\n",
    "print(formatted_sci)"
   ]
  },
  {
   "cell_type": "markdown",
   "id": "b94903a8",
   "metadata": {},
   "source": [
    "### Percentage Formatting"
   ]
  },
  {
   "cell_type": "code",
   "execution_count": 55,
   "id": "cc27c886",
   "metadata": {},
   "outputs": [
    {
     "name": "stdout",
     "output_type": "stream",
     "text": [
      "75.00%\n"
     ]
    }
   ],
   "source": [
    "decimal = 0.75\n",
    "formatted_percentage = f\"{decimal:.2%}\"\n",
    "print(formatted_percentage)  "
   ]
  },
  {
   "cell_type": "markdown",
   "id": "8ed0c497",
   "metadata": {},
   "source": [
    "### Formatting with Exponential Notation"
   ]
  },
  {
   "cell_type": "code",
   "execution_count": 52,
   "id": "3fd377fd",
   "metadata": {},
   "outputs": [
    {
     "name": "stdout",
     "output_type": "stream",
     "text": [
      "1.23e+04\n"
     ]
    }
   ],
   "source": [
    "large_value = 12345.6789\n",
    "formatted_sci = f\"{large_value:.2e}\"\n",
    "print(formatted_sci)"
   ]
  },
  {
   "cell_type": "markdown",
   "id": "02ca48df",
   "metadata": {},
   "source": [
    "## Regular Patterns\n",
    "To find and match patterns in strings"
   ]
  },
  {
   "cell_type": "markdown",
   "id": "f8ca676c",
   "metadata": {},
   "source": [
    "### search\n",
    "Find the first occurrence of a string"
   ]
  },
  {
   "cell_type": "code",
   "execution_count": 57,
   "id": "35531b89",
   "metadata": {},
   "outputs": [
    {
     "name": "stdout",
     "output_type": "stream",
     "text": [
      "brown\n"
     ]
    }
   ],
   "source": [
    "import re\n",
    "\n",
    "# Search\n",
    "text_search = \"The quick brown fox jumps over the lazy dog.\"\n",
    "pattern_search = \"brown\"\n",
    "result_search = re.search(pattern_search, text_search)\n",
    "print(result_search.group())"
   ]
  },
  {
   "cell_type": "markdown",
   "id": "e6971d5c",
   "metadata": {},
   "source": [
    "### match\n",
    "Match from the beginning of the group"
   ]
  },
  {
   "cell_type": "code",
   "execution_count": 65,
   "id": "95409a78",
   "metadata": {},
   "outputs": [
    {
     "name": "stdout",
     "output_type": "stream",
     "text": [
      "Hello\n"
     ]
    }
   ],
   "source": [
    "# Match\n",
    "text_match = \"Hello, world!\"\n",
    "pattern_match = \"Hello\"\n",
    "result_match = re.match(pattern_match, text_match)\n",
    "print(result_match.group())"
   ]
  },
  {
   "cell_type": "markdown",
   "id": "bd04e52d",
   "metadata": {},
   "source": [
    "### fullmatch\n",
    "Match the entire string"
   ]
  },
  {
   "cell_type": "code",
   "execution_count": 59,
   "id": "332934b8",
   "metadata": {},
   "outputs": [
    {
     "name": "stdout",
     "output_type": "stream",
     "text": [
      "12345\n"
     ]
    }
   ],
   "source": [
    "# Fullmatch\n",
    "text_fullmatch = \"12345\"\n",
    "pattern_fullmatch = \"12345\"\n",
    "result_fullmatch = re.fullmatch(pattern_fullmatch, text_fullmatch)\n",
    "print(result_fullmatch.group())"
   ]
  },
  {
   "cell_type": "markdown",
   "id": "ef67f264",
   "metadata": {},
   "source": [
    "### split\n",
    "Split string by the pattern"
   ]
  },
  {
   "cell_type": "code",
   "execution_count": 66,
   "id": "7d2e0c5d",
   "metadata": {},
   "outputs": [
    {
     "name": "stdout",
     "output_type": "stream",
     "text": [
      "['apple', 'banana', 'grape', 'orange']\n"
     ]
    }
   ],
   "source": [
    "# Split\n",
    "text_split = \"apple,banana,grape,orange\"\n",
    "pattern_split = \",\"\n",
    "result_split = re.split(pattern_split, text_split)\n",
    "print(result_split)"
   ]
  },
  {
   "cell_type": "markdown",
   "id": "4697e46b",
   "metadata": {},
   "source": [
    "### findall\n",
    "Find all non overlapping matches of a string"
   ]
  },
  {
   "cell_type": "code",
   "execution_count": 68,
   "id": "878e525d",
   "metadata": {},
   "outputs": [
    {
     "name": "stdout",
     "output_type": "stream",
     "text": [
      "['at', 'at', 'at', 'at']\n"
     ]
    }
   ],
   "source": [
    "# Findall\n",
    "text_findall = \"The cat and the hat sat on the mat.\"\n",
    "pattern_findall = \"at\"\n",
    "result_findall = re.findall(pattern_findall, text_findall)\n",
    "print(result_findall)"
   ]
  },
  {
   "cell_type": "markdown",
   "id": "40ced8ea",
   "metadata": {},
   "source": [
    "### finditer\n",
    "Similar to findall but returns a python iterator"
   ]
  },
  {
   "cell_type": "code",
   "execution_count": 70,
   "id": "9d2718d8",
   "metadata": {},
   "outputs": [
    {
     "name": "stdout",
     "output_type": "stream",
     "text": [
      "she\n"
     ]
    }
   ],
   "source": [
    "# Finditer\n",
    "text_finditer = \"She sells seashells by the seashore.\"\n",
    "pattern_finditer = \"she\"\n",
    "result_finditer = re.finditer(pattern_finditer, text_finditer)\n",
    "for match in result_finditer:\n",
    "    print(match.group())"
   ]
  },
  {
   "cell_type": "markdown",
   "id": "df6daf57",
   "metadata": {},
   "source": [
    "### sub\n",
    "Substitute the matched pattern with the provided string"
   ]
  },
  {
   "cell_type": "code",
   "execution_count": 71,
   "id": "c368c3f3",
   "metadata": {},
   "outputs": [
    {
     "name": "stdout",
     "output_type": "stream",
     "text": [
      "I have a blue car and a blue house.\n"
     ]
    }
   ],
   "source": [
    "# Sub\n",
    "text_sub = \"I have a red car and a red house.\"\n",
    "pattern_sub = \"red\"\n",
    "replacement_sub = \"blue\"\n",
    "result_sub = re.sub(pattern_sub, replacement_sub, text_sub)\n",
    "print(result_sub)"
   ]
  },
  {
   "cell_type": "markdown",
   "id": "a8f6a5d5",
   "metadata": {},
   "source": [
    "## Regular Patterns\n",
    "To find and match patterns in strings"
   ]
  },
  {
   "cell_type": "markdown",
   "id": "fb601c20",
   "metadata": {},
   "source": [
    "### . (Dot) - Match any character except a newline"
   ]
  },
  {
   "cell_type": "code",
   "execution_count": 72,
   "id": "91bd286c",
   "metadata": {},
   "outputs": [
    {
     "name": "stdout",
     "output_type": "stream",
     "text": [
      "ap\n"
     ]
    }
   ],
   "source": [
    "import re\n",
    "\n",
    "# . (Dot) - Match any character except a newline\n",
    "pattern_dot = \"a.\"\n",
    "text_dot = \"apple\"\n",
    "result_dot = re.match(pattern_dot, text_dot)\n",
    "print(result_dot.group())  # Output: \"ap\""
   ]
  },
  {
   "cell_type": "markdown",
   "id": "d2eba7b6",
   "metadata": {},
   "source": [
    "### ^ (Caret) - Match the start of the string"
   ]
  },
  {
   "cell_type": "code",
   "execution_count": 86,
   "id": "e2dc46a8",
   "metadata": {},
   "outputs": [
    {
     "name": "stdout",
     "output_type": "stream",
     "text": [
      "Hello\n"
     ]
    }
   ],
   "source": [
    "pattern_start = \"^Hello\"\n",
    "text_start = \"Hello, world!\"\n",
    "result_start = re.match(pattern_start, text_start)\n",
    "print(result_start.group())  # Output: \"Hello\""
   ]
  },
  {
   "cell_type": "markdown",
   "id": "f80cf5af",
   "metadata": {},
   "source": [
    "### $ (Dollar) - Match the end of the string"
   ]
  },
  {
   "cell_type": "code",
   "execution_count": 82,
   "id": "bc17380a",
   "metadata": {},
   "outputs": [
    {
     "name": "stdout",
     "output_type": "stream",
     "text": [
      "world!\n"
     ]
    }
   ],
   "source": [
    "pattern_end = \"world!$\"\n",
    "text_end = \"Hello, world!\"\n",
    "result_end = re.search### . (Dot) - Match any character except a newline(pattern_end, text_end)\n",
    "print(result_end.group())  # Output: \"world!\""
   ]
  },
  {
   "cell_type": "markdown",
   "id": "632a9988",
   "metadata": {},
   "source": [
    "### * (Asterisk) - Match zero or more occurrences"
   ]
  },
  {
   "cell_type": "code",
   "execution_count": 87,
   "id": "cb19917a",
   "metadata": {},
   "outputs": [
    {
     "name": "stdout",
     "output_type": "stream",
     "text": [
      "a\n"
     ]
    }
   ],
   "source": [
    "\n",
    "pattern_asterisk = \"ab*\"\n",
    "text_asterisk = \"a\"\n",
    "result_asterisk = re.match(pattern_asterisk, text_asterisk)\n",
    "print(result_asterisk.group())  # Output: \"a\""
   ]
  },
  {
   "cell_type": "markdown",
   "id": "6d3a13f5",
   "metadata": {},
   "source": [
    "### ? (Question Mark) - Match zero or one occurrence"
   ]
  },
  {
   "cell_type": "code",
   "execution_count": 88,
   "id": "48b15e57",
   "metadata": {},
   "outputs": [
    {
     "name": "stdout",
     "output_type": "stream",
     "text": [
      "color\n"
     ]
    }
   ],
   "source": [
    "pattern_question = \"colou?r\"\n",
    "text_question = \"color\"\n",
    "result_question = re.match(pattern_question, text_question)\n",
    "print(result_question.group())  # Output: \"color\""
   ]
  },
  {
   "cell_type": "markdown",
   "id": "51c6e85a",
   "metadata": {},
   "source": [
    "### {m} (Exact Repetition) - Match exactly 'm' occurrences"
   ]
  },
  {
   "cell_type": "code",
   "execution_count": 83,
   "id": "e6eae391",
   "metadata": {},
   "outputs": [
    {
     "name": "stdout",
     "output_type": "stream",
     "text": [
      "oo\n"
     ]
    }
   ],
   "source": [
    "pattern_exact = \"o{2}\"\n",
    "text_exact = \"wool\"\n",
    "result_exact = re.search(pattern_exact, text_exact)\n",
    "print(result_exact.group())  # Output: \"oo\""
   ]
  },
  {
   "cell_type": "markdown",
   "id": "61fcbe01",
   "metadata": {},
   "source": [
    "### [] (Character Class) - Match any character within the brackets"
   ]
  },
  {
   "cell_type": "code",
   "execution_count": 79,
   "id": "87228759",
   "metadata": {},
   "outputs": [
    {
     "name": "stdout",
     "output_type": "stream",
     "text": [
      "a\n"
     ]
    }
   ],
   "source": [
    "pattern_char_class = \"[aeiou]\"\n",
    "text_char_class = \"apple\"\n",
    "result_char_class = re.match(pattern_char_class, text_char_class)\n",
    "print(result_char_class.group())  # Output: \"a\""
   ]
  },
  {
   "cell_type": "markdown",
   "id": "ec0f445b",
   "metadata": {},
   "source": [
    "### | (Alternation) - Match either of the patterns"
   ]
  },
  {
   "cell_type": "code",
   "execution_count": 80,
   "id": "7e0dd275",
   "metadata": {},
   "outputs": [
    {
     "name": "stdout",
     "output_type": "stream",
     "text": [
      "banana\n"
     ]
    }
   ],
   "source": [
    "pattern_alternation = \"apple|banana\"\n",
    "text_alternation = \"banana\"\n",
    "result_alternation = re.match(pattern_alternation, text_alternation)\n",
    "print(result_alternation.group())  # Output: \"banana\""
   ]
  },
  {
   "cell_type": "markdown",
   "id": "1ea1251b",
   "metadata": {},
   "source": [
    "### () (Grouping) - Group expressions together"
   ]
  },
  {
   "cell_type": "code",
   "execution_count": 90,
   "id": "287e0eba",
   "metadata": {},
   "outputs": [
    {
     "name": "stdout",
     "output_type": "stream",
     "text": [
      "abcabc\n"
     ]
    }
   ],
   "source": [
    "pattern_group = \"(abc){2}\"\n",
    "text_group = \"abcabc\"\n",
    "result_group = re.match(pattern_group, text_group)\n",
    "print(result_group.group())  # Output: \"abcabc\""
   ]
  },
  {
   "cell_type": "markdown",
   "id": "e704e276",
   "metadata": {},
   "source": [
    "## Regular Patterns\n",
    "To find and match patterns in strings"
   ]
  },
  {
   "cell_type": "code",
   "execution_count": null,
   "id": "768a4a3c",
   "metadata": {},
   "outputs": [],
   "source": []
  },
  {
   "cell_type": "markdown",
   "id": "19f962f6",
   "metadata": {},
   "source": [
    "## Regular Patterns\n",
    "To find and match patterns in strings"
   ]
  },
  {
   "cell_type": "code",
   "execution_count": null,
   "id": "84058b01",
   "metadata": {},
   "outputs": [],
   "source": []
  },
  {
   "cell_type": "markdown",
   "id": "107f57d0",
   "metadata": {},
   "source": [
    "## Regular Patterns\n",
    "To find and match patterns in strings"
   ]
  },
  {
   "cell_type": "code",
   "execution_count": null,
   "id": "ed36c0da",
   "metadata": {},
   "outputs": [],
   "source": []
  },
  {
   "cell_type": "markdown",
   "id": "8a266325",
   "metadata": {},
   "source": [
    "## Regular Patterns\n",
    "To find and match patterns in strings"
   ]
  },
  {
   "cell_type": "code",
   "execution_count": null,
   "id": "4aaeba09",
   "metadata": {},
   "outputs": [],
   "source": []
  },
  {
   "cell_type": "markdown",
   "id": "09c1470e",
   "metadata": {},
   "source": [
    "## Regular Patterns\n",
    "To find and match patterns in strings"
   ]
  },
  {
   "cell_type": "code",
   "execution_count": null,
   "id": "6cb13f10",
   "metadata": {},
   "outputs": [],
   "source": []
  },
  {
   "cell_type": "markdown",
   "id": "4e5c8bd9",
   "metadata": {},
   "source": [
    "## Regular Patterns\n",
    "To find and match patterns in strings"
   ]
  },
  {
   "cell_type": "code",
   "execution_count": null,
   "id": "fa83c06e",
   "metadata": {},
   "outputs": [],
   "source": []
  },
  {
   "cell_type": "markdown",
   "id": "b80f066b",
   "metadata": {},
   "source": [
    "## Regular Patterns\n",
    "To find and match patterns in strings"
   ]
  },
  {
   "cell_type": "code",
   "execution_count": null,
   "id": "79f89f39",
   "metadata": {},
   "outputs": [],
   "source": []
  },
  {
   "cell_type": "markdown",
   "id": "af942a18",
   "metadata": {},
   "source": [
    "## Regular Patterns\n",
    "To find and match patterns in strings"
   ]
  },
  {
   "cell_type": "code",
   "execution_count": null,
   "id": "57523621",
   "metadata": {},
   "outputs": [],
   "source": []
  },
  {
   "cell_type": "markdown",
   "id": "23f34ab3",
   "metadata": {},
   "source": [
    "## Regular Patterns\n",
    "To find and match patterns in strings"
   ]
  },
  {
   "cell_type": "code",
   "execution_count": null,
   "id": "f78969d6",
   "metadata": {},
   "outputs": [],
   "source": []
  },
  {
   "cell_type": "markdown",
   "id": "13676126",
   "metadata": {},
   "source": [
    "## Regular Patterns\n",
    "To find and match patterns in strings"
   ]
  },
  {
   "cell_type": "code",
   "execution_count": null,
   "id": "ad873c90",
   "metadata": {},
   "outputs": [],
   "source": []
  },
  {
   "cell_type": "markdown",
   "id": "8a341fa9",
   "metadata": {},
   "source": [
    "## Regular Patterns\n",
    "To find and match patterns in strings"
   ]
  },
  {
   "cell_type": "code",
   "execution_count": null,
   "id": "249d2fda",
   "metadata": {},
   "outputs": [],
   "source": []
  },
  {
   "cell_type": "markdown",
   "id": "6698fe88",
   "metadata": {},
   "source": [
    "## Regular Patterns\n",
    "To find and match patterns in strings"
   ]
  },
  {
   "cell_type": "code",
   "execution_count": null,
   "id": "bf7f5831",
   "metadata": {},
   "outputs": [],
   "source": []
  },
  {
   "cell_type": "markdown",
   "id": "e7358805",
   "metadata": {},
   "source": [
    "## Regular Patterns\n",
    "To find and match patterns in strings"
   ]
  },
  {
   "cell_type": "code",
   "execution_count": null,
   "id": "f2ed3f8f",
   "metadata": {},
   "outputs": [],
   "source": []
  },
  {
   "cell_type": "markdown",
   "id": "d70f1e7d",
   "metadata": {},
   "source": [
    "## Regular Patterns\n",
    "To find and match patterns in strings"
   ]
  },
  {
   "cell_type": "code",
   "execution_count": null,
   "id": "851374d6",
   "metadata": {},
   "outputs": [],
   "source": []
  },
  {
   "cell_type": "markdown",
   "id": "77bfcb23",
   "metadata": {},
   "source": [
    "## Regular Patterns\n",
    "To find and match patterns in strings"
   ]
  },
  {
   "cell_type": "code",
   "execution_count": null,
   "id": "bcf68f21",
   "metadata": {},
   "outputs": [],
   "source": []
  },
  {
   "cell_type": "markdown",
   "id": "5d7ad3b7",
   "metadata": {},
   "source": [
    "## Regular Patterns\n",
    "To find and match patterns in strings"
   ]
  },
  {
   "cell_type": "code",
   "execution_count": null,
   "id": "c4f8d2c0",
   "metadata": {},
   "outputs": [],
   "source": []
  },
  {
   "cell_type": "markdown",
   "id": "6fc0a22a",
   "metadata": {},
   "source": [
    "## Regular Patterns\n",
    "To find and match patterns in strings"
   ]
  },
  {
   "cell_type": "code",
   "execution_count": null,
   "id": "6944748a",
   "metadata": {},
   "outputs": [],
   "source": []
  },
  {
   "cell_type": "markdown",
   "id": "04e00229",
   "metadata": {},
   "source": [
    "## Regular Patterns\n",
    "To find and match patterns in strings"
   ]
  },
  {
   "cell_type": "code",
   "execution_count": null,
   "id": "d7f6d744",
   "metadata": {},
   "outputs": [],
   "source": []
  }
 ],
 "metadata": {
  "kernelspec": {
   "display_name": "Python 3 (ipykernel)",
   "language": "python",
   "name": "python3"
  },
  "language_info": {
   "codemirror_mode": {
    "name": "ipython",
    "version": 3
   },
   "file_extension": ".py",
   "mimetype": "text/x-python",
   "name": "python",
   "nbconvert_exporter": "python",
   "pygments_lexer": "ipython3",
   "version": "3.10.9"
  }
 },
 "nbformat": 4,
 "nbformat_minor": 5
}
