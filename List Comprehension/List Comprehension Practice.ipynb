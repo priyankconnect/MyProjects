{
 "cells": [
  {
   "cell_type": "markdown",
   "id": "899de3f1",
   "metadata": {},
   "source": [
    "# Practice in List Comprehension\n",
    "**new_list = [expression for item in iterable if condition]**\n",
    "\n",
    "**expression:** This is the operation or computation you want to perform on each element of the iterable to generate the new list.\n",
    "eg. x, x**2, x+3 etc.\n",
    "\n",
    "**item:** This represents each element in the iterable. It's a variable that takes the value of each item during the iteration. eg. x\n",
    "\n",
    "**iterable:** This is the original collection of items over which the list comprehension will iterate.\n",
    "it can be list eg. [1,2,3] or expression like range(10) or a string eg. 'abcd'\n",
    "\n",
    "**if condition (optional):** This part is not mandatory but allows you to include a filtering condition. Only items that satisfy the condition will be included in the new list.\n",
    "eg. if x >0\n",
    "\n"
   ]
  },
  {
   "cell_type": "markdown",
   "id": "c1fb3f37",
   "metadata": {},
   "source": [
    "## Simple Examples\n",
    "\n",
    "**Exercise 1**\n",
    "\n",
    "Squares of even numbers from 0 to 9:\n",
    "\n",
    "The list should contain the squares of numbers from 0 to 9 (inclusive).call it 'squares'\n",
    "\n",
    "Print the resulting list.\n",
    "\n",
    "Hint: think of it as \"print square of x one by one and collect it as a list assuming x to be one in the  list [0,1,2,3] if the value of x divided by 2 is equal to 0\". Call it evens"
   ]
  },
  {
   "cell_type": "code",
   "execution_count": 8,
   "id": "4957d93a",
   "metadata": {},
   "outputs": [
    {
     "data": {
      "text/plain": [
       "[0, 4, 16, 36, 64]"
      ]
     },
     "execution_count": 8,
     "metadata": {},
     "output_type": "execute_result"
    }
   ],
   "source": [
    "squares = [x**2 for x in [0,1,2,3,4,5,6,7,8,9] if x%2==0]\n",
    "squares"
   ]
  },
  {
   "cell_type": "markdown",
   "id": "6c377986",
   "metadata": {},
   "source": [
    "**Exercise 2**\n",
    "\n",
    "Even numbers from 0 to 9:\n",
    "\n",
    "Create a Python program and use list comprehension to generate a list.\n",
    "\n",
    "The list should contain only the even numbers from 0 to 9 (inclusive).\n",
    "\n",
    "Display the list on the screen.\n",
    "\n",
    "Hint: Think of it as \"print x one by one and collect it as a list taking x one by one from the list [0,1..9] if the value of x divided by 2 is equal to 0 \""
   ]
  },
  {
   "cell_type": "code",
   "execution_count": 9,
   "id": "1edf96dc",
   "metadata": {},
   "outputs": [
    {
     "data": {
      "text/plain": [
       "[0, 2, 4, 6, 8]"
      ]
     },
     "execution_count": 9,
     "metadata": {},
     "output_type": "execute_result"
    }
   ],
   "source": [
    "liscreen = [x for x in [0,1,2,3,4,5,6,7,8,9] if x%2==0]\n",
    "liscreen"
   ]
  },
  {
   "cell_type": "markdown",
   "id": "98399951",
   "metadata": {},
   "source": [
    "**Exercise 3**\n",
    "\n",
    "Cube of odd numbers from 1 to 10:\n",
    "\n",
    "Implement a Python script with a list comprehension.\n",
    "\n",
    "Generate a list that contains the cubes of odd numbers from 1 to 10 (inclusive).\n",
    "\n",
    "Print the resulting list. Call it cubes\n",
    "\n",
    "Hint: \"print x**3 one by one and collect it as a list taking x one by one from the list [1,2,...10] such that x divided by 2 is not equal to 0\"."
   ]
  },
  {
   "cell_type": "code",
   "execution_count": 10,
   "id": "25386e85",
   "metadata": {},
   "outputs": [
    {
     "data": {
      "text/plain": [
       "[1, 27, 125, 343, 729]"
      ]
     },
     "execution_count": 10,
     "metadata": {},
     "output_type": "execute_result"
    }
   ],
   "source": [
    "cubes = [x**3 for x in [1,2,3,4,5,6,7,8,9,10] if x%2!=0]\n",
    "cubes"
   ]
  },
  {
   "cell_type": "markdown",
   "id": "dcb303ed",
   "metadata": {},
   "source": [
    "**Exercise  4**\n",
    "\n",
    "Convert a list of strings to uppercase:\n",
    "\n",
    "Write a Python program with a list comprehension.\n",
    "\n",
    "Create a list containing some words of your choice (at least 3 words). Take ['hello','world','python']. call the list words\n",
    "\n",
    "Use list comprehension to convert all the words to uppercase. call it upper_words.\n",
    "\n",
    "Display the modified list on the screen.\n",
    "\n",
    "Hint: 'print uppercase of x one by one and collect it as a list by taking x one by one from the list of words'\n",
    "\n",
    "Hint: to convert a word to upper use word.upper()"
   ]
  },
  {
   "cell_type": "code",
   "execution_count": 11,
   "id": "e855af14",
   "metadata": {},
   "outputs": [
    {
     "data": {
      "text/plain": [
       "['HELLO', 'WORLD', 'PYTHON']"
      ]
     },
     "execution_count": 11,
     "metadata": {},
     "output_type": "execute_result"
    }
   ],
   "source": [
    "words = ['hello','world','python']\n",
    "upper_words = [x.upper() for x in words]\n",
    "upper_words"
   ]
  },
  {
   "cell_type": "markdown",
   "id": "80bfaaad",
   "metadata": {},
   "source": [
    "**Exercise 5**\n",
    "\n",
    "List of tuples containing the number and its square from 1 to 5:\n",
    "\n",
    "Write a Python program with list comprehension.\n",
    "\n",
    "Generate a list of tuples, where each tuple contains a number and its square. Call it num_square_tuples\n",
    "\n",
    "Numbers should be from 1 to 5 (inclusive).\n",
    "\n",
    "Display the resulting list of tuples.\n",
    "\n",
    "Hint: \"print (x,x**2) one by one and collect it as a list by taking x one by one from the list [1,2,...5]\"\n",
    "\n",
    "Extension 1: if you can think of x you can think of a tuple of x (x, x**2) by extension can we generate a list of dictionaries. "
   ]
  },
  {
   "cell_type": "code",
   "execution_count": 12,
   "id": "676b7c77",
   "metadata": {},
   "outputs": [
    {
     "data": {
      "text/plain": [
       "[(1, 1), (2, 4), (3, 9), (4, 16), (5, 25)]"
      ]
     },
     "execution_count": 12,
     "metadata": {},
     "output_type": "execute_result"
    }
   ],
   "source": [
    "numbers = [1,2,3,4,5]\n",
    "num_square_tuples = [(x,x**2) for x in numbers]\n",
    "num_square_tuples"
   ]
  },
  {
   "cell_type": "markdown",
   "id": "6ea1755f",
   "metadata": {},
   "source": [
    "**Exercise 6**\n",
    "\n",
    "Flatten a 2D list into a 1D list:\n",
    "\n",
    "Create a Python program and define a 2D list (list of lists) with some numbers of your choice. Take the list \n",
    "\n",
    "matrix = [[1, 2, 3], [4, 5, 6], [7, 8, 9]]\n",
    "\n",
    "Use list comprehension to flatten the 2D list into a 1D list.\n",
    "\n",
    "Print the flattened list.\n",
    "\n",
    "Hint: 'first print row in the matrix, then print element in the row' which can be written as ' print element in the row after you have printed the row in the matrix' or better\n",
    "\n",
    "'take the first row from the list - matrix. After that consider each row as a list and print element one by one and collect it as a list by taking element one by one for each row. or better\n",
    "\n",
    "'print element one by one and collect it as a list by taking element one by one from the list [row] which itself is taken one ony one and collected as a list by taking row one by one from the list [matrix]\n",
    "\n",
    "flattened = [element for row in matrix for element in row]"
   ]
  },
  {
   "cell_type": "code",
   "execution_count": 13,
   "id": "874284d7",
   "metadata": {},
   "outputs": [
    {
     "data": {
      "text/plain": [
       "[1, 2, 3, 4, 5, 6, 7, 8, 9]"
      ]
     },
     "execution_count": 13,
     "metadata": {},
     "output_type": "execute_result"
    }
   ],
   "source": [
    "matrix = [[1, 2, 3], [4, 5, 6], [7, 8, 9]]\n",
    "flattened = [element for row in matrix for element in row]\n",
    "flattened"
   ]
  },
  {
   "cell_type": "markdown",
   "id": "d4509140",
   "metadata": {},
   "source": [
    "**Exercise 7**\n",
    "\n",
    "Filter a list of numbers, keeping only positive ones:\n",
    "\n",
    "\n",
    "\n",
    "Implement a Python script with a list comprehension.\n",
    "\n",
    "Define a list containing both positive and negative numbers (at least 5 numbers).\n",
    "\n",
    "Use list comprehension to filter and create a new list containing only positive numbers.\n",
    "\n",
    "Display the resulting list with positive numbers.\n",
    "\n",
    "Create a list of the lengths of strings in a list:\n",
    "\n"
   ]
  },
  {
   "cell_type": "code",
   "execution_count": 14,
   "id": "f40913ab",
   "metadata": {},
   "outputs": [
    {
     "data": {
      "text/plain": [
       "[0, 1, 2]"
      ]
     },
     "execution_count": 14,
     "metadata": {},
     "output_type": "execute_result"
    }
   ],
   "source": [
    "mylist = [-2,-3,0,1,2]\n",
    "filterlist = [x for x in mylist if x>=0]\n",
    "filterlist"
   ]
  },
  {
   "cell_type": "markdown",
   "id": "baf37bf3",
   "metadata": {},
   "source": [
    "**Exercise 8**\n",
    "\n",
    "Create a list of the lengths of strings in a list:\n",
    "\n",
    "Write a Python program and define a list with some words of your choice (at least 4 words).\n",
    "\n",
    "Use list comprehension to create a new list containing the lengths of each word in the original list.\n",
    "\n",
    "Print the list with word lengths."
   ]
  },
  {
   "cell_type": "code",
   "execution_count": 17,
   "id": "90f755f2",
   "metadata": {},
   "outputs": [
    {
     "data": {
      "text/plain": [
       "[5, 5, 6, 5]"
      ]
     },
     "execution_count": 17,
     "metadata": {},
     "output_type": "execute_result"
    }
   ],
   "source": [
    "mylist =['hello','world','python','james']\n",
    "lenlist = [len(x) for x in mylist]\n",
    "lenlist"
   ]
  },
  {
   "cell_type": "markdown",
   "id": "17616b1b",
   "metadata": {},
   "source": [
    "**Exercise 9**\n",
    "\n",
    "Nested list comprehension to generate a multiplication table:\n",
    "\n",
    "Implement a Python program with nested list comprehension.\n",
    "\n",
    "Generate a 5x5 multiplication table using list comprehension.\n",
    "\n",
    "Display the resulting 2D list as the multiplication table."
   ]
  },
  {
   "cell_type": "code",
   "execution_count": 18,
   "id": "866cf439",
   "metadata": {},
   "outputs": [
    {
     "data": {
      "text/plain": [
       "[[1, 2, 3, 4, 5],\n",
       " [2, 4, 6, 8, 10],\n",
       " [3, 6, 9, 12, 15],\n",
       " [4, 8, 12, 16, 20],\n",
       " [5, 10, 15, 20, 25]]"
      ]
     },
     "execution_count": 18,
     "metadata": {},
     "output_type": "execute_result"
    }
   ],
   "source": [
    "size = 5 \n",
    "multiplication_table = [[row * col for col in range(1, size + 1)] for row in range(1, size + 1)]\n",
    "multiplication_table"
   ]
  },
  {
   "cell_type": "markdown",
   "id": "61ab2424",
   "metadata": {},
   "source": [
    "## List Comprehension : Two Loop Structure\n",
    "\n",
    "The general format of a list comprehension with a two-loop structure (nested list comprehension) is as follows:\n",
    "\n",
    "**[expression for outer_loop_variable in outer_loop for inner_loop_variable in inner_loop]**\n",
    "\n",
    "\n",
    "Let's break down each part of the general format:\n",
    "\n",
    "**expression:** This represents the operation or transformation that is applied to each combination of elements from the inner and outer loops. The result of this expression will be included in the final list.\n",
    "\n",
    "***outer_loop_variable:** This is the variable used to iterate over the elements in the outer loop. It takes values from the outer iterable (e.g., list, range, etc.).\n",
    "\n",
    "**outer_loop:** This is the outer iterable that the outer_loop_variable will loop through.\n",
    "\n",
    "**inner_loop_variable:** This is the variable used to iterate over the elements in the inner loop. It takes values from the inner iterable (e.g., list, range, etc.).\n",
    "\n",
    "**inner_loop:** This is the inner iterable that the inner_loop_variable will loop through.\n",
    "\n",
    "The order of the loops in the list comprehension follows the same order as in traditional nested loops. The outer loop is specified first, and the inner loop is specified second.\n",
    "\n",
    "Here's a step-by-step example using the general format:\n",
    "\n",
    "Suppose we have two lists, list_a and list_b, and we want to create a new list that contains all possible pairs of elements from both lists, where the first element comes from list_a and the second element comes from list_b.\n",
    "\n",
    "list_a = [1, 2, 3]\n",
    "list_b = ['A', 'B']\n",
    "\n",
    "pairs = [(a, b) for a in list_a for b in list_b]\n",
    "\n",
    "In this example:\n",
    "\n",
    "expression is (a, b), which creates a tuple (a, b) for each combination of a and b.\n",
    "outer_loop_variable is a, used to iterate over elements in list_a.\n",
    "outer_loop is list_a.\n",
    "inner_loop_variable is b, used to iterate over elements in list_b.\n",
    "inner_loop is list_b.\n",
    "The result pairs will be:\n",
    "\n",
    "[(1, 'A'), (1, 'B'), (2, 'A'), (2, 'B'), (3, 'A'), (3, 'B')]\n",
    "\n",
    "Each tuple in the pairs list represents one pair of elements from list_a and list_b. The first element of the tuple comes from list_a, and the second element comes from list_b. This is the typical behavior of nested loops in list comprehensions.\n",
    "\n",
    "**Exercises**\n",
    "\n",
    "Cartesian product of two lists:\n",
    "\n",
    "Create two lists, list_a and list_b, containing any elements of your choice.\n",
    "Write a list comprehension that generates all possible pairs of elements from both lists (Cartesian product).\n",
    "Store the result in a variable called cartesian_product.\n",
    "Print cartesian_product to see the final pairs.\n"
   ]
  },
  {
   "cell_type": "code",
   "execution_count": 19,
   "id": "af7acd71",
   "metadata": {},
   "outputs": [
    {
     "data": {
      "text/plain": [
       "[(1, 'a'),\n",
       " (1, 'b'),\n",
       " (1, 'c'),\n",
       " (1, 'd'),\n",
       " (2, 'a'),\n",
       " (2, 'b'),\n",
       " (2, 'c'),\n",
       " (2, 'd'),\n",
       " (3, 'a'),\n",
       " (3, 'b'),\n",
       " (3, 'c'),\n",
       " (3, 'd'),\n",
       " (4, 'a'),\n",
       " (4, 'b'),\n",
       " (4, 'c'),\n",
       " (4, 'd')]"
      ]
     },
     "execution_count": 19,
     "metadata": {},
     "output_type": "execute_result"
    }
   ],
   "source": [
    "list_a = [1,2,3,4]\n",
    "list_b = ['a','b','c','d']\n",
    "cartesian_product = [(a,b)for a in list_a for b in list_b]\n",
    "cartesian_product"
   ]
  },
  {
   "cell_type": "markdown",
   "id": "ba8dc6ca",
   "metadata": {},
   "source": [
    "**Exercise 11**\n",
    "\n",
    "Sum of corresponding elements from two lists:\n",
    "\n",
    "Define two lists, list_a and list_b, each containing numerical elements.\n",
    "Write a list comprehension to calculate the sum of corresponding elements from both lists.\n",
    "Store the result in a variable called sum_list.\n",
    "Print sum_list to see the list containing the sums."
   ]
  },
  {
   "cell_type": "code",
   "execution_count": 20,
   "id": "4923902f",
   "metadata": {},
   "outputs": [
    {
     "data": {
      "text/plain": [
       "[12, 13, 14, 13, 14, 15, 14, 15, 16, 15, 16, 17, 16, 17, 18]"
      ]
     },
     "execution_count": 20,
     "metadata": {},
     "output_type": "execute_result"
    }
   ],
   "source": [
    "list_a = [1,2,3,4,5]\n",
    "list_b = [11,12,13]\n",
    "sum_list = [a+b for a in list_a for b in list_b]\n",
    "sum_list"
   ]
  },
  {
   "cell_type": "markdown",
   "id": "924ad45f",
   "metadata": {},
   "source": [
    "**Exercise 12**\n",
    "\n",
    "Generating all possible tuples of two letters:\n",
    "\n",
    "Create a string letters containing any two letters of your choice.\n",
    "Write a list comprehension to generate all possible pairs of letters (tuples) from the given letters.\n",
    "Store the result in a variable called tuples.\n",
    "Print tuples to see all the possible letter pairs."
   ]
  },
  {
   "cell_type": "code",
   "execution_count": 21,
   "id": "0e15dc52",
   "metadata": {},
   "outputs": [
    {
     "data": {
      "text/plain": [
       "[('j', 'm'),\n",
       " ('j', 'a'),\n",
       " ('j', 'r'),\n",
       " ('j', 'y'),\n",
       " ('a', 'm'),\n",
       " ('a', 'a'),\n",
       " ('a', 'r'),\n",
       " ('a', 'y'),\n",
       " ('m', 'm'),\n",
       " ('m', 'a'),\n",
       " ('m', 'r'),\n",
       " ('m', 'y'),\n",
       " ('e', 'm'),\n",
       " ('e', 'a'),\n",
       " ('e', 'r'),\n",
       " ('e', 'y'),\n",
       " ('s', 'm'),\n",
       " ('s', 'a'),\n",
       " ('s', 'r'),\n",
       " ('s', 'y')]"
      ]
     },
     "execution_count": 21,
     "metadata": {},
     "output_type": "execute_result"
    }
   ],
   "source": [
    "mylist = ['james','mary']\n",
    "mytuples = [(a,b) for a in mylist[0] for b in mylist[1]]\n",
    "mytuples"
   ]
  },
  {
   "cell_type": "markdown",
   "id": "a6537457",
   "metadata": {},
   "source": [
    "**Exercise 13**\n",
    "Find common elements between two lists:\n",
    "\n",
    "Define two lists, list_a and list_b, each containing elements of your choice, with some overlapping elements.\n",
    "Use a list comprehension with two loops and an if condition to find the common elements between the two lists.\n",
    "Store the result in a variable called common_elements.\n",
    "Print common_elements to see the common elements shared between the lists."
   ]
  },
  {
   "cell_type": "code",
   "execution_count": 22,
   "id": "ade86d9d",
   "metadata": {},
   "outputs": [
    {
     "data": {
      "text/plain": [
       "[2, 3, 4]"
      ]
     },
     "execution_count": 22,
     "metadata": {},
     "output_type": "execute_result"
    }
   ],
   "source": [
    "list_a= [1,2,3,4]\n",
    "list_b = [2,3,4,5]\n",
    "common_elements = [a for a in list_a for b in list_b if a == b]\n",
    "common_elements"
   ]
  },
  {
   "cell_type": "markdown",
   "id": "9119c122",
   "metadata": {},
   "source": [
    "**Exercise 14**\n",
    "Combine elements from two lists based on a condition:\n",
    "\n",
    "Define two lists, list_a and list_b, containing numerical elements of the same length.\n",
    "Write a list comprehension with two loops and a conditional expression to combine elements from both lists based on a condition (e.g., sum them if they meet a certain criterion).\n",
    "Store the result in a variable called combined.\n",
    "Print combined to see the combined list based on the condition.\n"
   ]
  },
  {
   "cell_type": "code",
   "execution_count": 24,
   "id": "02cd64ea",
   "metadata": {},
   "outputs": [
    {
     "data": {
      "text/plain": [
       "[6, 7, 8, 7, 8, 9]"
      ]
     },
     "execution_count": 24,
     "metadata": {},
     "output_type": "execute_result"
    }
   ],
   "source": [
    "list_a= [1,2,3,4]\n",
    "list_b = [2,3,4,5]\n",
    "sum_list = [a+b for a in list_a for b in list_b if a>2 and b>2]\n",
    "sum_list"
   ]
  }
 ],
 "metadata": {
  "kernelspec": {
   "display_name": "Python 3 (ipykernel)",
   "language": "python",
   "name": "python3"
  },
  "language_info": {
   "codemirror_mode": {
    "name": "ipython",
    "version": 3
   },
   "file_extension": ".py",
   "mimetype": "text/x-python",
   "name": "python",
   "nbconvert_exporter": "python",
   "pygments_lexer": "ipython3",
   "version": "3.10.9"
  }
 },
 "nbformat": 4,
 "nbformat_minor": 5
}
