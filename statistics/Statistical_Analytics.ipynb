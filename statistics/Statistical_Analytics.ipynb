{
  "nbformat": 4,
  "nbformat_minor": 0,
  "metadata": {
    "colab": {
      "provenance": [],
      "mount_file_id": "1AmL1ykI77d7YaTWa9p3DGEIpOiJALXjW",
      "authorship_tag": "ABX9TyO3kNgh3CdhTWvmOLFaT0Y7",
      "include_colab_link": true
    },
    "kernelspec": {
      "name": "python3",
      "display_name": "Python 3"
    },
    "language_info": {
      "name": "python"
    }
  },
  "cells": [
    {
      "cell_type": "markdown",
      "metadata": {
        "id": "view-in-github",
        "colab_type": "text"
      },
      "source": [
        "<a href=\"https://colab.research.google.com/github/priyankconnect/MyProjects/blob/main/statistics/Statistical_Analytics.ipynb\" target=\"_parent\"><img src=\"https://colab.research.google.com/assets/colab-badge.svg\" alt=\"Open In Colab\"/></a>"
      ]
    },
    {
      "cell_type": "code",
      "source": [
        "from scipy import stats\n",
        "import pandas as pd\n",
        "import matplotlib.pyplot as plt\n",
        "import seaborn as sn\n",
        "import numpy as np"
      ],
      "metadata": {
        "id": "reto9Xg-x67v"
      },
      "execution_count": null,
      "outputs": []
    },
    {
      "cell_type": "markdown",
      "source": [
        "Meta Information: For every probability distribution find how the pmf (pdf) and cdf are defined.\n",
        "\n",
        "Why this is needed ? Because we are given an average eg. 10% customers return so out of 20 customers what is the probability of 5 customers returning. Intuitively it is 0, as the value should be 2. But here is the catch, the distribution is not uniform it is like a bell curve, there will always be some probability, howsoever small it maybe."
      ],
      "metadata": {
        "id": "qOh4NtM32AXO"
      }
    },
    {
      "cell_type": "markdown",
      "source": [
        "# Binomial Distribution"
      ],
      "metadata": {
        "id": "h1WsHnrP2YZo"
      }
    },
    {
      "cell_type": "markdown",
      "source": [
        "## PMF: Find the Probability of getting exactly x successes from n number of trials.\n",
        "## CDF: What the probabiity of getting a max of x success from n number of trials\n",
        "## Given: Probability of Success & Number of Trials"
      ],
      "metadata": {
        "id": "hzFCWYgO2YZp"
      }
    },
    {
      "cell_type": "markdown",
      "source": [
        "Fashion Trends Online ( FTO) is an ecommerce company that sells women apparel. It is observed that 10% of their customers return the items purchased by them for many reasons ( such as size, color and material mismatch). On a specific day, 20 customers purchased items from FTO. Calculate\n",
        "1. Probability that exactly 5 customers will return the items\n",
        "2. Probability that a maximum of 5 customers will return the items\n",
        "3. Probability that more than 5 customers will return the items purchased by them\n",
        "4. Average number of customers who are likely to return the items and the variance and the standard deviation of the number of returns"
      ],
      "metadata": {
        "id": "Ath9C5w3w8I8"
      }
    },
    {
      "cell_type": "markdown",
      "source": [
        "** probability that exactly 5 customers will return the items **\n",
        "\n",
        "a. Expected number of successful trials ( 5)\n",
        "\n",
        "b. Total number of trials (20)\n",
        "\n",
        "c. The probability of success (0.1)"
      ],
      "metadata": {
        "id": "H_aoN8U1xtQG"
      }
    },
    {
      "cell_type": "code",
      "execution_count": null,
      "metadata": {
        "colab": {
          "base_uri": "https://localhost:8080/"
        },
        "id": "czZbQJmUw1Bu",
        "outputId": "2d96d9a2-a534-4c5a-823e-f49570e1e510"
      },
      "outputs": [
        {
          "output_type": "execute_result",
          "data": {
            "text/plain": [
              "0.031921361119954424"
            ]
          },
          "metadata": {},
          "execution_count": 127
        }
      ],
      "source": [
        "stats.binom.pmf(5,20,0.1)"
      ]
    },
    {
      "cell_type": "markdown",
      "source": [
        "To see how the pmf varies with the trials where customers have returned the items ( successful trials) we can plot a graph between number of successes and pmf. Lets take success between 0 to 20"
      ],
      "metadata": {
        "id": "j_pWSLuAw9fT"
      }
    },
    {
      "cell_type": "code",
      "execution_count": null,
      "metadata": {
        "colab": {
          "base_uri": "https://localhost:8080/",
          "height": 206
        },
        "id": "-ChRkyTOw9fU",
        "outputId": "7e47ab85-87a3-4141-914a-b28446891a80"
      },
      "outputs": [
        {
          "output_type": "execute_result",
          "data": {
            "text/plain": [
              "   success      pmf\n",
              "0        0  0.12158\n",
              "1        1  0.27017\n",
              "2        2  0.28518\n",
              "3        3  0.19012\n",
              "4        4  0.08978"
            ],
            "text/html": [
              "\n",
              "  <div id=\"df-c58b4bcc-a674-48f6-808e-de23e061b1e0\">\n",
              "    <div class=\"colab-df-container\">\n",
              "      <div>\n",
              "<style scoped>\n",
              "    .dataframe tbody tr th:only-of-type {\n",
              "        vertical-align: middle;\n",
              "    }\n",
              "\n",
              "    .dataframe tbody tr th {\n",
              "        vertical-align: top;\n",
              "    }\n",
              "\n",
              "    .dataframe thead th {\n",
              "        text-align: right;\n",
              "    }\n",
              "</style>\n",
              "<table border=\"1\" class=\"dataframe\">\n",
              "  <thead>\n",
              "    <tr style=\"text-align: right;\">\n",
              "      <th></th>\n",
              "      <th>success</th>\n",
              "      <th>pmf</th>\n",
              "    </tr>\n",
              "  </thead>\n",
              "  <tbody>\n",
              "    <tr>\n",
              "      <th>0</th>\n",
              "      <td>0</td>\n",
              "      <td>0.12158</td>\n",
              "    </tr>\n",
              "    <tr>\n",
              "      <th>1</th>\n",
              "      <td>1</td>\n",
              "      <td>0.27017</td>\n",
              "    </tr>\n",
              "    <tr>\n",
              "      <th>2</th>\n",
              "      <td>2</td>\n",
              "      <td>0.28518</td>\n",
              "    </tr>\n",
              "    <tr>\n",
              "      <th>3</th>\n",
              "      <td>3</td>\n",
              "      <td>0.19012</td>\n",
              "    </tr>\n",
              "    <tr>\n",
              "      <th>4</th>\n",
              "      <td>4</td>\n",
              "      <td>0.08978</td>\n",
              "    </tr>\n",
              "  </tbody>\n",
              "</table>\n",
              "</div>\n",
              "      <button class=\"colab-df-convert\" onclick=\"convertToInteractive('df-c58b4bcc-a674-48f6-808e-de23e061b1e0')\"\n",
              "              title=\"Convert this dataframe to an interactive table.\"\n",
              "              style=\"display:none;\">\n",
              "        \n",
              "  <svg xmlns=\"http://www.w3.org/2000/svg\" height=\"24px\"viewBox=\"0 0 24 24\"\n",
              "       width=\"24px\">\n",
              "    <path d=\"M0 0h24v24H0V0z\" fill=\"none\"/>\n",
              "    <path d=\"M18.56 5.44l.94 2.06.94-2.06 2.06-.94-2.06-.94-.94-2.06-.94 2.06-2.06.94zm-11 1L8.5 8.5l.94-2.06 2.06-.94-2.06-.94L8.5 2.5l-.94 2.06-2.06.94zm10 10l.94 2.06.94-2.06 2.06-.94-2.06-.94-.94-2.06-.94 2.06-2.06.94z\"/><path d=\"M17.41 7.96l-1.37-1.37c-.4-.4-.92-.59-1.43-.59-.52 0-1.04.2-1.43.59L10.3 9.45l-7.72 7.72c-.78.78-.78 2.05 0 2.83L4 21.41c.39.39.9.59 1.41.59.51 0 1.02-.2 1.41-.59l7.78-7.78 2.81-2.81c.8-.78.8-2.07 0-2.86zM5.41 20L4 18.59l7.72-7.72 1.47 1.35L5.41 20z\"/>\n",
              "  </svg>\n",
              "      </button>\n",
              "      \n",
              "  <style>\n",
              "    .colab-df-container {\n",
              "      display:flex;\n",
              "      flex-wrap:wrap;\n",
              "      gap: 12px;\n",
              "    }\n",
              "\n",
              "    .colab-df-convert {\n",
              "      background-color: #E8F0FE;\n",
              "      border: none;\n",
              "      border-radius: 50%;\n",
              "      cursor: pointer;\n",
              "      display: none;\n",
              "      fill: #1967D2;\n",
              "      height: 32px;\n",
              "      padding: 0 0 0 0;\n",
              "      width: 32px;\n",
              "    }\n",
              "\n",
              "    .colab-df-convert:hover {\n",
              "      background-color: #E2EBFA;\n",
              "      box-shadow: 0px 1px 2px rgba(60, 64, 67, 0.3), 0px 1px 3px 1px rgba(60, 64, 67, 0.15);\n",
              "      fill: #174EA6;\n",
              "    }\n",
              "\n",
              "    [theme=dark] .colab-df-convert {\n",
              "      background-color: #3B4455;\n",
              "      fill: #D2E3FC;\n",
              "    }\n",
              "\n",
              "    [theme=dark] .colab-df-convert:hover {\n",
              "      background-color: #434B5C;\n",
              "      box-shadow: 0px 1px 3px 1px rgba(0, 0, 0, 0.15);\n",
              "      filter: drop-shadow(0px 1px 2px rgba(0, 0, 0, 0.3));\n",
              "      fill: #FFFFFF;\n",
              "    }\n",
              "  </style>\n",
              "\n",
              "      <script>\n",
              "        const buttonEl =\n",
              "          document.querySelector('#df-c58b4bcc-a674-48f6-808e-de23e061b1e0 button.colab-df-convert');\n",
              "        buttonEl.style.display =\n",
              "          google.colab.kernel.accessAllowed ? 'block' : 'none';\n",
              "\n",
              "        async function convertToInteractive(key) {\n",
              "          const element = document.querySelector('#df-c58b4bcc-a674-48f6-808e-de23e061b1e0');\n",
              "          const dataTable =\n",
              "            await google.colab.kernel.invokeFunction('convertToInteractive',\n",
              "                                                     [key], {});\n",
              "          if (!dataTable) return;\n",
              "\n",
              "          const docLinkHtml = 'Like what you see? Visit the ' +\n",
              "            '<a target=\"_blank\" href=https://colab.research.google.com/notebooks/data_table.ipynb>data table notebook</a>'\n",
              "            + ' to learn more about interactive tables.';\n",
              "          element.innerHTML = '';\n",
              "          dataTable['output_type'] = 'display_data';\n",
              "          await google.colab.output.renderOutput(dataTable, element);\n",
              "          const docLink = document.createElement('div');\n",
              "          docLink.innerHTML = docLinkHtml;\n",
              "          element.appendChild(docLink);\n",
              "        }\n",
              "      </script>\n",
              "    </div>\n",
              "  </div>\n",
              "  "
            ]
          },
          "metadata": {},
          "execution_count": 128
        }
      ],
      "source": [
        "pmf_df = pd.DataFrame({'success':range(0,21),\n",
        "                       'pmf':list(stats.binom.pmf(range(0,21),\n",
        "                        20,0.1))}).round(5)\n",
        "pmf_df.head()"
      ]
    },
    {
      "cell_type": "markdown",
      "source": [
        "Lets create a barplot"
      ],
      "metadata": {
        "id": "PY9Iaxgcw9ix"
      }
    },
    {
      "cell_type": "code",
      "execution_count": null,
      "metadata": {
        "colab": {
          "base_uri": "https://localhost:8080/",
          "height": 297
        },
        "id": "NKt2NLcqw9iz",
        "outputId": "c7da3010-2ae3-4e8d-8c6b-3114a636341f"
      },
      "outputs": [
        {
          "output_type": "execute_result",
          "data": {
            "text/plain": [
              "Text(0.5, 0, 'Number of Items returned')"
            ]
          },
          "metadata": {},
          "execution_count": 129
        },
        {
          "output_type": "display_data",
          "data": {
            "text/plain": [
              "<Figure size 432x288 with 1 Axes>"
            ],
            "image/png": "[encoded data removed]"
          },
          "metadata": {
            "needs_background": "light"
          }
        }
      ],
      "source": [
        "sn.barplot(x=pmf_df.success,y=pmf_df.pmf)\n",
        "plt.ylabel('pmf')\n",
        "plt.xlabel('Number of Items returned')"
      ]
    },
    {
      "cell_type": "markdown",
      "source": [
        "** probability that max 5 customers will return the items **\n",
        "\n",
        "We use the binom.cdf() to compute the CDF for binomial distribution"
      ],
      "metadata": {
        "id": "JBCqKx8dw9mO"
      }
    },
    {
      "cell_type": "code",
      "execution_count": null,
      "metadata": {
        "colab": {
          "base_uri": "https://localhost:8080/"
        },
        "id": "Cm9YXlWSw9mP",
        "outputId": "033041df-d839-4b4a-8c99-09a00f11d81a"
      },
      "outputs": [
        {
          "output_type": "execute_result",
          "data": {
            "text/plain": [
              "0.988746865835491"
            ]
          },
          "metadata": {},
          "execution_count": 130
        }
      ],
      "source": [
        "stats.binom.cdf(5,20,0.1)"
      ]
    },
    {
      "cell_type": "markdown",
      "source": [
        "** Probability that more than 5 customers will return the items purchased by them **"
      ],
      "metadata": {
        "id": "CaCia8r3w9pZ"
      }
    },
    {
      "cell_type": "code",
      "execution_count": null,
      "metadata": {
        "colab": {
          "base_uri": "https://localhost:8080/"
        },
        "id": "AU6kowiJw9pb",
        "outputId": "2685338b-9760-4e18-8aac-0f70096de5fe"
      },
      "outputs": [
        {
          "output_type": "execute_result",
          "data": {
            "text/plain": [
              "0.011253134164509015"
            ]
          },
          "metadata": {},
          "execution_count": 131
        }
      ],
      "source": [
        "1- stats.binom.cdf(5,20,0.1)"
      ]
    },
    {
      "cell_type": "markdown",
      "source": [
        "** Average number of customers who are likely to return the items and the variance and standard deviation of the number of returns.\n",
        "average = np\n",
        "variance = npq"
      ],
      "metadata": {
        "id": "CLVBVaBTw9sM"
      }
    },
    {
      "cell_type": "code",
      "execution_count": null,
      "metadata": {
        "colab": {
          "base_uri": "https://localhost:8080/"
        },
        "id": "UDy2QSV3w9sN",
        "outputId": "2bfacd1f-963d-4f2d-cad8-b1fde6595d28"
      },
      "outputs": [
        {
          "output_type": "stream",
          "name": "stdout",
          "text": [
            "Average: 2.0 Variance: 1.8\n"
          ]
        }
      ],
      "source": [
        "mean,var = stats.binom.stats(20,0.1)\n",
        "print(\"Average:\",mean, \"Variance:\",var)"
      ]
    },
    {
      "cell_type": "markdown",
      "source": [
        "# Poisson Distribution\n",
        "\n",
        "### PMF: Number of Events that happen over a period of time\n",
        "### CDF: Max Number of Events that can happen over a period of time\n",
        "### Given: Average no of events happening over a period of time ( lambda)\n"
      ],
      "metadata": {
        "id": "v3G_do3mw9vE"
      }
    },
    {
      "cell_type": "markdown",
      "source": [
        "The number of calls arriving at a call center follows a Poisson Distribution at 10 calls per hour.\n",
        "\n",
        "1. Calculate the probability that the number of calls will be maximum 5.\n",
        "2. Calculate the probability that the numeber of calls over a 3-hour period will exceed 30.\n"
      ],
      "metadata": {
        "id": "d1bHHKPk5klj"
      }
    },
    {
      "cell_type": "markdown",
      "source": [
        "1. Calculate the probability that the number of calls will be maximum 5."
      ],
      "metadata": {
        "id": "3hEH5Xmf6LOO"
      }
    },
    {
      "cell_type": "code",
      "execution_count": null,
      "metadata": {
        "colab": {
          "base_uri": "https://localhost:8080/"
        },
        "id": "mlMNV6LRw9vF",
        "outputId": "166a224d-8cb3-458d-d916-f6f9ff2c5713"
      },
      "outputs": [
        {
          "output_type": "execute_result",
          "data": {
            "text/plain": [
              "0.06708596287903189"
            ]
          },
          "metadata": {},
          "execution_count": 133
        }
      ],
      "source": [
        "stats.poisson.cdf(5,10)"
      ]
    },
    {
      "cell_type": "markdown",
      "source": [
        "2. Calculate the probability that the numeber of calls over a 3-hour period will exceed 30."
      ],
      "metadata": {
        "id": "rxC7z7baw9xr"
      }
    },
    {
      "cell_type": "code",
      "execution_count": null,
      "metadata": {
        "colab": {
          "base_uri": "https://localhost:8080/"
        },
        "id": "O35QX7agw9xs",
        "outputId": "c12ff772-6ee4-4538-8250-e83195932505"
      },
      "outputs": [
        {
          "output_type": "execute_result",
          "data": {
            "text/plain": [
              "0.45164848742208863"
            ]
          },
          "metadata": {},
          "execution_count": 134
        }
      ],
      "source": [
        "1-stats.poisson.cdf(30,30)"
      ]
    },
    {
      "cell_type": "markdown",
      "source": [
        "We can plot pmf for all possible number of calls the call center can receive from 0 to 30."
      ],
      "metadata": {
        "id": "fO_8kk64w90h"
      }
    },
    {
      "cell_type": "code",
      "execution_count": null,
      "metadata": {
        "colab": {
          "base_uri": "https://localhost:8080/",
          "height": 206
        },
        "id": "kXQHx92pw90h",
        "outputId": "d7bc48cc-ecc2-49eb-c06c-b0833ca479a2"
      },
      "outputs": [
        {
          "output_type": "execute_result",
          "data": {
            "text/plain": [
              "   success       pmf\n",
              "0        0  0.000045\n",
              "1        1  0.000454\n",
              "2        2  0.002270\n",
              "3        3  0.007567\n",
              "4        4  0.018917"
            ],
            "text/html": [
              "\n",
              "  <div id=\"df-348d5877-9c93-431c-bd0a-1e7f643e4d3f\">\n",
              "    <div class=\"colab-df-container\">\n",
              "      <div>\n",
              "<style scoped>\n",
              "    .dataframe tbody tr th:only-of-type {\n",
              "        vertical-align: middle;\n",
              "    }\n",
              "\n",
              "    .dataframe tbody tr th {\n",
              "        vertical-align: top;\n",
              "    }\n",
              "\n",
              "    .dataframe thead th {\n",
              "        text-align: right;\n",
              "    }\n",
              "</style>\n",
              "<table border=\"1\" class=\"dataframe\">\n",
              "  <thead>\n",
              "    <tr style=\"text-align: right;\">\n",
              "      <th></th>\n",
              "      <th>success</th>\n",
              "      <th>pmf</th>\n",
              "    </tr>\n",
              "  </thead>\n",
              "  <tbody>\n",
              "    <tr>\n",
              "      <th>0</th>\n",
              "      <td>0</td>\n",
              "      <td>0.000045</td>\n",
              "    </tr>\n",
              "    <tr>\n",
              "      <th>1</th>\n",
              "      <td>1</td>\n",
              "      <td>0.000454</td>\n",
              "    </tr>\n",
              "    <tr>\n",
              "      <th>2</th>\n",
              "      <td>2</td>\n",
              "      <td>0.002270</td>\n",
              "    </tr>\n",
              "    <tr>\n",
              "      <th>3</th>\n",
              "      <td>3</td>\n",
              "      <td>0.007567</td>\n",
              "    </tr>\n",
              "    <tr>\n",
              "      <th>4</th>\n",
              "      <td>4</td>\n",
              "      <td>0.018917</td>\n",
              "    </tr>\n",
              "  </tbody>\n",
              "</table>\n",
              "</div>\n",
              "      <button class=\"colab-df-convert\" onclick=\"convertToInteractive('df-348d5877-9c93-431c-bd0a-1e7f643e4d3f')\"\n",
              "              title=\"Convert this dataframe to an interactive table.\"\n",
              "              style=\"display:none;\">\n",
              "        \n",
              "  <svg xmlns=\"http://www.w3.org/2000/svg\" height=\"24px\"viewBox=\"0 0 24 24\"\n",
              "       width=\"24px\">\n",
              "    <path d=\"M0 0h24v24H0V0z\" fill=\"none\"/>\n",
              "    <path d=\"M18.56 5.44l.94 2.06.94-2.06 2.06-.94-2.06-.94-.94-2.06-.94 2.06-2.06.94zm-11 1L8.5 8.5l.94-2.06 2.06-.94-2.06-.94L8.5 2.5l-.94 2.06-2.06.94zm10 10l.94 2.06.94-2.06 2.06-.94-2.06-.94-.94-2.06-.94 2.06-2.06.94z\"/><path d=\"M17.41 7.96l-1.37-1.37c-.4-.4-.92-.59-1.43-.59-.52 0-1.04.2-1.43.59L10.3 9.45l-7.72 7.72c-.78.78-.78 2.05 0 2.83L4 21.41c.39.39.9.59 1.41.59.51 0 1.02-.2 1.41-.59l7.78-7.78 2.81-2.81c.8-.78.8-2.07 0-2.86zM5.41 20L4 18.59l7.72-7.72 1.47 1.35L5.41 20z\"/>\n",
              "  </svg>\n",
              "      </button>\n",
              "      \n",
              "  <style>\n",
              "    .colab-df-container {\n",
              "      display:flex;\n",
              "      flex-wrap:wrap;\n",
              "      gap: 12px;\n",
              "    }\n",
              "\n",
              "    .colab-df-convert {\n",
              "      background-color: #E8F0FE;\n",
              "      border: none;\n",
              "      border-radius: 50%;\n",
              "      cursor: pointer;\n",
              "      display: none;\n",
              "      fill: #1967D2;\n",
              "      height: 32px;\n",
              "      padding: 0 0 0 0;\n",
              "      width: 32px;\n",
              "    }\n",
              "\n",
              "    .colab-df-convert:hover {\n",
              "      background-color: #E2EBFA;\n",
              "      box-shadow: 0px 1px 2px rgba(60, 64, 67, 0.3), 0px 1px 3px 1px rgba(60, 64, 67, 0.15);\n",
              "      fill: #174EA6;\n",
              "    }\n",
              "\n",
              "    [theme=dark] .colab-df-convert {\n",
              "      background-color: #3B4455;\n",
              "      fill: #D2E3FC;\n",
              "    }\n",
              "\n",
              "    [theme=dark] .colab-df-convert:hover {\n",
              "      background-color: #434B5C;\n",
              "      box-shadow: 0px 1px 3px 1px rgba(0, 0, 0, 0.15);\n",
              "      filter: drop-shadow(0px 1px 2px rgba(0, 0, 0, 0.3));\n",
              "      fill: #FFFFFF;\n",
              "    }\n",
              "  </style>\n",
              "\n",
              "      <script>\n",
              "        const buttonEl =\n",
              "          document.querySelector('#df-348d5877-9c93-431c-bd0a-1e7f643e4d3f button.colab-df-convert');\n",
              "        buttonEl.style.display =\n",
              "          google.colab.kernel.accessAllowed ? 'block' : 'none';\n",
              "\n",
              "        async function convertToInteractive(key) {\n",
              "          const element = document.querySelector('#df-348d5877-9c93-431c-bd0a-1e7f643e4d3f');\n",
              "          const dataTable =\n",
              "            await google.colab.kernel.invokeFunction('convertToInteractive',\n",
              "                                                     [key], {});\n",
              "          if (!dataTable) return;\n",
              "\n",
              "          const docLinkHtml = 'Like what you see? Visit the ' +\n",
              "            '<a target=\"_blank\" href=https://colab.research.google.com/notebooks/data_table.ipynb>data table notebook</a>'\n",
              "            + ' to learn more about interactive tables.';\n",
              "          element.innerHTML = '';\n",
              "          dataTable['output_type'] = 'display_data';\n",
              "          await google.colab.output.renderOutput(dataTable, element);\n",
              "          const docLink = document.createElement('div');\n",
              "          docLink.innerHTML = docLinkHtml;\n",
              "          element.appendChild(docLink);\n",
              "        }\n",
              "      </script>\n",
              "    </div>\n",
              "  </div>\n",
              "  "
            ]
          },
          "metadata": {},
          "execution_count": 135
        }
      ],
      "source": [
        "pmf_df = pd.DataFrame({'success':range(0,30),'pmf':list(stats.poisson.pmf(range(0,30),10))})\n",
        "pmf_df.head()"
      ]
    },
    {
      "cell_type": "code",
      "source": [
        "sn.barplot(x=pmf_df.success,y=pmf_df.pmf);\n",
        "plt.xlabel('Number of Calls Received');"
      ],
      "metadata": {
        "colab": {
          "base_uri": "https://localhost:8080/",
          "height": 279
        },
        "id": "9U634Y0X7E5S",
        "outputId": "9c528b39-3681-441f-c58a-d5e53a9cfa19"
      },
      "execution_count": null,
      "outputs": [
        {
          "output_type": "display_data",
          "data": {
            "text/plain": [
              "<Figure size 432x288 with 1 Axes>"
            ],
            "image/png": "[encoded data removed]"
          },
          "metadata": {
            "needs_background": "light"
          }
        }
      ]
    },
    {
      "cell_type": "markdown",
      "source": [
        "#Exponential Distribution\n",
        "###PMF: We define the inverse of this called PPF ( Percentage Point Function)\n",
        "###PPF: Time by which n% of the event will happen\n",
        "###CDF: Probability that an event will happen before n time.\n",
        "###Given: Time between two events"
      ],
      "metadata": {
        "id": "w0tfMcA2w92-"
      }
    },
    {
      "cell_type": "markdown",
      "source": [
        "The time to failure of an avionic system follows an exponential distribution with a amean time between failures ( MTBF) of 1000 hours. Calculate\n",
        "1. The probability that the system will fail before 1000 hours\n",
        "2. The proability that the it will not fail upto 2000 hours\n",
        "3. The time by which 10% of the system wil fail\n",
        "\n",
        "Here lambda = 1/1000"
      ],
      "metadata": {
        "id": "R5cOC2FC-WI_"
      }
    },
    {
      "cell_type": "markdown",
      "source": [
        "The probability that the system will fail before 1000 hours"
      ],
      "metadata": {
        "id": "sQ9S7hoP_Gvh"
      }
    },
    {
      "cell_type": "code",
      "execution_count": null,
      "metadata": {
        "colab": {
          "base_uri": "https://localhost:8080/"
        },
        "id": "4lKsGp3Mw92_",
        "outputId": "f3c542f0-6a8b-4bc2-eeb5-0ce47edf6886"
      },
      "outputs": [
        {
          "output_type": "execute_result",
          "data": {
            "text/plain": [
              "0.6321201909489326"
            ]
          },
          "metadata": {},
          "execution_count": 137
        }
      ],
      "source": [
        "stats.expon.cdf(1000,\n",
        "               loc = 1/1000,\n",
        "               scale=1000)"
      ]
    },
    {
      "cell_type": "markdown",
      "source": [
        "The proability that the it will not fail upto 2000 hours"
      ],
      "metadata": {
        "id": "_EziZM5Qw95w"
      }
    },
    {
      "cell_type": "code",
      "execution_count": null,
      "metadata": {
        "colab": {
          "base_uri": "https://localhost:8080/"
        },
        "id": "x7GmP4RRw95w",
        "outputId": "c261ccfb-ac01-4682-c42a-5440ee2ddd42"
      },
      "outputs": [
        {
          "output_type": "execute_result",
          "data": {
            "text/plain": [
              "0.13533541857196352"
            ]
          },
          "metadata": {},
          "execution_count": 138
        }
      ],
      "source": [
        "1-stats.expon.cdf(2000,\n",
        "               loc = 1/1000,\n",
        "               scale=1000)"
      ]
    },
    {
      "cell_type": "markdown",
      "source": [
        "The time by which 10% of the system wil fail"
      ],
      "metadata": {
        "id": "7oTOYv4Qw98n"
      }
    },
    {
      "cell_type": "code",
      "execution_count": null,
      "metadata": {
        "colab": {
          "base_uri": "https://localhost:8080/"
        },
        "id": "dHuNDaicw98o",
        "outputId": "e4bde749-01b7-4b0e-c9fd-9d1b37a083c7"
      },
      "outputs": [
        {
          "output_type": "execute_result",
          "data": {
            "text/plain": [
              "105.36151565782632"
            ]
          },
          "metadata": {},
          "execution_count": 139
        }
      ],
      "source": [
        "stats.expon.ppf(.1,\n",
        "                loc=1/1000,\n",
        "                scale=1000)"
      ]
    },
    {
      "cell_type": "markdown",
      "source": [
        "We can visualize it by creating a list of time to failure ranging from 100 to 5000 and then calculate the pdf against each"
      ],
      "metadata": {
        "id": "dz7f2iR-w9_W"
      }
    },
    {
      "cell_type": "code",
      "execution_count": null,
      "metadata": {
        "colab": {
          "base_uri": "https://localhost:8080/",
          "height": 206
        },
        "id": "CjW4U6nBw9_X",
        "outputId": "6d2d8f35-20b2-4367-ce16-96ac0be36fc3"
      },
      "outputs": [
        {
          "output_type": "execute_result",
          "data": {
            "text/plain": [
              "   success       pdf\n",
              "0        0  0.000000\n",
              "1      100  0.000905\n",
              "2      200  0.000819\n",
              "3      300  0.000741\n",
              "4      400  0.000670"
            ],
            "text/html": [
              "\n",
              "  <div id=\"df-bf66bfb3-ebbf-497a-84f0-9f52c9d18f05\">\n",
              "    <div class=\"colab-df-container\">\n",
              "      <div>\n",
              "<style scoped>\n",
              "    .dataframe tbody tr th:only-of-type {\n",
              "        vertical-align: middle;\n",
              "    }\n",
              "\n",
              "    .dataframe tbody tr th {\n",
              "        vertical-align: top;\n",
              "    }\n",
              "\n",
              "    .dataframe thead th {\n",
              "        text-align: right;\n",
              "    }\n",
              "</style>\n",
              "<table border=\"1\" class=\"dataframe\">\n",
              "  <thead>\n",
              "    <tr style=\"text-align: right;\">\n",
              "      <th></th>\n",
              "      <th>success</th>\n",
              "      <th>pdf</th>\n",
              "    </tr>\n",
              "  </thead>\n",
              "  <tbody>\n",
              "    <tr>\n",
              "      <th>0</th>\n",
              "      <td>0</td>\n",
              "      <td>0.000000</td>\n",
              "    </tr>\n",
              "    <tr>\n",
              "      <th>1</th>\n",
              "      <td>100</td>\n",
              "      <td>0.000905</td>\n",
              "    </tr>\n",
              "    <tr>\n",
              "      <th>2</th>\n",
              "      <td>200</td>\n",
              "      <td>0.000819</td>\n",
              "    </tr>\n",
              "    <tr>\n",
              "      <th>3</th>\n",
              "      <td>300</td>\n",
              "      <td>0.000741</td>\n",
              "    </tr>\n",
              "    <tr>\n",
              "      <th>4</th>\n",
              "      <td>400</td>\n",
              "      <td>0.000670</td>\n",
              "    </tr>\n",
              "  </tbody>\n",
              "</table>\n",
              "</div>\n",
              "      <button class=\"colab-df-convert\" onclick=\"convertToInteractive('df-bf66bfb3-ebbf-497a-84f0-9f52c9d18f05')\"\n",
              "              title=\"Convert this dataframe to an interactive table.\"\n",
              "              style=\"display:none;\">\n",
              "        \n",
              "  <svg xmlns=\"http://www.w3.org/2000/svg\" height=\"24px\"viewBox=\"0 0 24 24\"\n",
              "       width=\"24px\">\n",
              "    <path d=\"M0 0h24v24H0V0z\" fill=\"none\"/>\n",
              "    <path d=\"M18.56 5.44l.94 2.06.94-2.06 2.06-.94-2.06-.94-.94-2.06-.94 2.06-2.06.94zm-11 1L8.5 8.5l.94-2.06 2.06-.94-2.06-.94L8.5 2.5l-.94 2.06-2.06.94zm10 10l.94 2.06.94-2.06 2.06-.94-2.06-.94-.94-2.06-.94 2.06-2.06.94z\"/><path d=\"M17.41 7.96l-1.37-1.37c-.4-.4-.92-.59-1.43-.59-.52 0-1.04.2-1.43.59L10.3 9.45l-7.72 7.72c-.78.78-.78 2.05 0 2.83L4 21.41c.39.39.9.59 1.41.59.51 0 1.02-.2 1.41-.59l7.78-7.78 2.81-2.81c.8-.78.8-2.07 0-2.86zM5.41 20L4 18.59l7.72-7.72 1.47 1.35L5.41 20z\"/>\n",
              "  </svg>\n",
              "      </button>\n",
              "      \n",
              "  <style>\n",
              "    .colab-df-container {\n",
              "      display:flex;\n",
              "      flex-wrap:wrap;\n",
              "      gap: 12px;\n",
              "    }\n",
              "\n",
              "    .colab-df-convert {\n",
              "      background-color: #E8F0FE;\n",
              "      border: none;\n",
              "      border-radius: 50%;\n",
              "      cursor: pointer;\n",
              "      display: none;\n",
              "      fill: #1967D2;\n",
              "      height: 32px;\n",
              "      padding: 0 0 0 0;\n",
              "      width: 32px;\n",
              "    }\n",
              "\n",
              "    .colab-df-convert:hover {\n",
              "      background-color: #E2EBFA;\n",
              "      box-shadow: 0px 1px 2px rgba(60, 64, 67, 0.3), 0px 1px 3px 1px rgba(60, 64, 67, 0.15);\n",
              "      fill: #174EA6;\n",
              "    }\n",
              "\n",
              "    [theme=dark] .colab-df-convert {\n",
              "      background-color: #3B4455;\n",
              "      fill: #D2E3FC;\n",
              "    }\n",
              "\n",
              "    [theme=dark] .colab-df-convert:hover {\n",
              "      background-color: #434B5C;\n",
              "      box-shadow: 0px 1px 3px 1px rgba(0, 0, 0, 0.15);\n",
              "      filter: drop-shadow(0px 1px 2px rgba(0, 0, 0, 0.3));\n",
              "      fill: #FFFFFF;\n",
              "    }\n",
              "  </style>\n",
              "\n",
              "      <script>\n",
              "        const buttonEl =\n",
              "          document.querySelector('#df-bf66bfb3-ebbf-497a-84f0-9f52c9d18f05 button.colab-df-convert');\n",
              "        buttonEl.style.display =\n",
              "          google.colab.kernel.accessAllowed ? 'block' : 'none';\n",
              "\n",
              "        async function convertToInteractive(key) {\n",
              "          const element = document.querySelector('#df-bf66bfb3-ebbf-497a-84f0-9f52c9d18f05');\n",
              "          const dataTable =\n",
              "            await google.colab.kernel.invokeFunction('convertToInteractive',\n",
              "                                                     [key], {});\n",
              "          if (!dataTable) return;\n",
              "\n",
              "          const docLinkHtml = 'Like what you see? Visit the ' +\n",
              "            '<a target=\"_blank\" href=https://colab.research.google.com/notebooks/data_table.ipynb>data table notebook</a>'\n",
              "            + ' to learn more about interactive tables.';\n",
              "          element.innerHTML = '';\n",
              "          dataTable['output_type'] = 'display_data';\n",
              "          await google.colab.output.renderOutput(dataTable, element);\n",
              "          const docLink = document.createElement('div');\n",
              "          docLink.innerHTML = docLinkHtml;\n",
              "          element.appendChild(docLink);\n",
              "        }\n",
              "      </script>\n",
              "    </div>\n",
              "  </div>\n",
              "  "
            ]
          },
          "metadata": {},
          "execution_count": 140
        }
      ],
      "source": [
        "pdf_df = pd.DataFrame({'success':range(0,5000,100),\n",
        "                       'pdf':\n",
        "                       list(stats.expon.pdf(range(0,5000,100),\n",
        "                                            loc = 1/1000,\n",
        "                                            scale = 1000))})\n",
        "pdf_df.head()"
      ]
    },
    {
      "cell_type": "markdown",
      "source": [
        "Visualizing it"
      ],
      "metadata": {
        "id": "92cwIJA9w-CL"
      }
    },
    {
      "cell_type": "code",
      "execution_count": null,
      "metadata": {
        "colab": {
          "base_uri": "https://localhost:8080/",
          "height": 295
        },
        "id": "jmjfn51Yw-CL",
        "outputId": "3fe5e96c-843f-42a0-b1d7-c639fccffda7"
      },
      "outputs": [
        {
          "output_type": "display_data",
          "data": {
            "text/plain": [
              "<Figure size 720x288 with 1 Axes>"
            ],
            "image/png": "[encoded data removed]"
          },
          "metadata": {
            "needs_background": "light"
          }
        }
      ],
      "source": [
        "plt.figure(figsize = (10,4))\n",
        "sn.barplot(x=pdf_df.success,y=pdf_df.pdf)\n",
        "plt.xticks(rotation =90);\n",
        "plt.xlabel('Time to failure');"
      ]
    },
    {
      "cell_type": "markdown",
      "source": [
        "#Normal Distribution\n",
        "###PMF: What is the probability interval of x in between two values\n",
        "###CDF: Probability that x takes lower than a particular value\n",
        "###Given: Mean and Standard deviation of x"
      ],
      "metadata": {
        "id": "79-mqrZSw-FN"
      }
    },
    {
      "cell_type": "markdown",
      "source": [
        "https://github.com/manaranjanp/MLUsingPythonBook/tree/main/data"
      ],
      "metadata": {
        "id": "MlGYGmbtHMsO"
      }
    },
    {
      "cell_type": "code",
      "execution_count": null,
      "metadata": {
        "colab": {
          "base_uri": "https://localhost:8080/",
          "height": 206
        },
        "id": "iaKxlSHEw-FP",
        "outputId": "fa038fd7-50d3-4c91-e2f5-6984e7d4724f"
      },
      "outputs": [
        {
          "output_type": "execute_result",
          "data": {
            "text/plain": [
              "         Date    Open     High      Low    Last    Close  \\\n",
              "0  2010-01-04  1121.0  1151.00  1121.00  1134.0  1135.60   \n",
              "1  2010-01-05  1146.8  1149.00  1128.75  1135.0  1134.60   \n",
              "2  2010-01-06  1140.0  1164.25  1130.05  1137.0  1139.60   \n",
              "3  2010-01-07  1142.0  1159.40  1119.20  1141.0  1144.15   \n",
              "4  2010-01-08  1156.0  1172.00  1140.00  1141.2  1144.05   \n",
              "\n",
              "   Total Trade Quantity  Turnover (Lacs)  \n",
              "0              101651.0          1157.18  \n",
              "1               59504.0           676.47  \n",
              "2              128908.0          1482.84  \n",
              "3              117871.0          1352.98  \n",
              "4              170063.0          1971.42  "
            ],
            "text/html": [
              "\n",
              "  <div id=\"df-82626b6b-45df-47b1-99bb-31a9f746eb59\">\n",
              "    <div class=\"colab-df-container\">\n",
              "      <div>\n",
              "<style scoped>\n",
              "    .dataframe tbody tr th:only-of-type {\n",
              "        vertical-align: middle;\n",
              "    }\n",
              "\n",
              "    .dataframe tbody tr th {\n",
              "        vertical-align: top;\n",
              "    }\n",
              "\n",
              "    .dataframe thead th {\n",
              "        text-align: right;\n",
              "    }\n",
              "</style>\n",
              "<table border=\"1\" class=\"dataframe\">\n",
              "  <thead>\n",
              "    <tr style=\"text-align: right;\">\n",
              "      <th></th>\n",
              "      <th>Date</th>\n",
              "      <th>Open</th>\n",
              "      <th>High</th>\n",
              "      <th>Low</th>\n",
              "      <th>Last</th>\n",
              "      <th>Close</th>\n",
              "      <th>Total Trade Quantity</th>\n",
              "      <th>Turnover (Lacs)</th>\n",
              "    </tr>\n",
              "  </thead>\n",
              "  <tbody>\n",
              "    <tr>\n",
              "      <th>0</th>\n",
              "      <td>2010-01-04</td>\n",
              "      <td>1121.0</td>\n",
              "      <td>1151.00</td>\n",
              "      <td>1121.00</td>\n",
              "      <td>1134.0</td>\n",
              "      <td>1135.60</td>\n",
              "      <td>101651.0</td>\n",
              "      <td>1157.18</td>\n",
              "    </tr>\n",
              "    <tr>\n",
              "      <th>1</th>\n",
              "      <td>2010-01-05</td>\n",
              "      <td>1146.8</td>\n",
              "      <td>1149.00</td>\n",
              "      <td>1128.75</td>\n",
              "      <td>1135.0</td>\n",
              "      <td>1134.60</td>\n",
              "      <td>59504.0</td>\n",
              "      <td>676.47</td>\n",
              "    </tr>\n",
              "    <tr>\n",
              "      <th>2</th>\n",
              "      <td>2010-01-06</td>\n",
              "      <td>1140.0</td>\n",
              "      <td>1164.25</td>\n",
              "      <td>1130.05</td>\n",
              "      <td>1137.0</td>\n",
              "      <td>1139.60</td>\n",
              "      <td>128908.0</td>\n",
              "      <td>1482.84</td>\n",
              "    </tr>\n",
              "    <tr>\n",
              "      <th>3</th>\n",
              "      <td>2010-01-07</td>\n",
              "      <td>1142.0</td>\n",
              "      <td>1159.40</td>\n",
              "      <td>1119.20</td>\n",
              "      <td>1141.0</td>\n",
              "      <td>1144.15</td>\n",
              "      <td>117871.0</td>\n",
              "      <td>1352.98</td>\n",
              "    </tr>\n",
              "    <tr>\n",
              "      <th>4</th>\n",
              "      <td>2010-01-08</td>\n",
              "      <td>1156.0</td>\n",
              "      <td>1172.00</td>\n",
              "      <td>1140.00</td>\n",
              "      <td>1141.2</td>\n",
              "      <td>1144.05</td>\n",
              "      <td>170063.0</td>\n",
              "      <td>1971.42</td>\n",
              "    </tr>\n",
              "  </tbody>\n",
              "</table>\n",
              "</div>\n",
              "      <button class=\"colab-df-convert\" onclick=\"convertToInteractive('df-82626b6b-45df-47b1-99bb-31a9f746eb59')\"\n",
              "              title=\"Convert this dataframe to an interactive table.\"\n",
              "              style=\"display:none;\">\n",
              "        \n",
              "  <svg xmlns=\"http://www.w3.org/2000/svg\" height=\"24px\"viewBox=\"0 0 24 24\"\n",
              "       width=\"24px\">\n",
              "    <path d=\"M0 0h24v24H0V0z\" fill=\"none\"/>\n",
              "    <path d=\"M18.56 5.44l.94 2.06.94-2.06 2.06-.94-2.06-.94-.94-2.06-.94 2.06-2.06.94zm-11 1L8.5 8.5l.94-2.06 2.06-.94-2.06-.94L8.5 2.5l-.94 2.06-2.06.94zm10 10l.94 2.06.94-2.06 2.06-.94-2.06-.94-.94-2.06-.94 2.06-2.06.94z\"/><path d=\"M17.41 7.96l-1.37-1.37c-.4-.4-.92-.59-1.43-.59-.52 0-1.04.2-1.43.59L10.3 9.45l-7.72 7.72c-.78.78-.78 2.05 0 2.83L4 21.41c.39.39.9.59 1.41.59.51 0 1.02-.2 1.41-.59l7.78-7.78 2.81-2.81c.8-.78.8-2.07 0-2.86zM5.41 20L4 18.59l7.72-7.72 1.47 1.35L5.41 20z\"/>\n",
              "  </svg>\n",
              "      </button>\n",
              "      \n",
              "  <style>\n",
              "    .colab-df-container {\n",
              "      display:flex;\n",
              "      flex-wrap:wrap;\n",
              "      gap: 12px;\n",
              "    }\n",
              "\n",
              "    .colab-df-convert {\n",
              "      background-color: #E8F0FE;\n",
              "      border: none;\n",
              "      border-radius: 50%;\n",
              "      cursor: pointer;\n",
              "      display: none;\n",
              "      fill: #1967D2;\n",
              "      height: 32px;\n",
              "      padding: 0 0 0 0;\n",
              "      width: 32px;\n",
              "    }\n",
              "\n",
              "    .colab-df-convert:hover {\n",
              "      background-color: #E2EBFA;\n",
              "      box-shadow: 0px 1px 2px rgba(60, 64, 67, 0.3), 0px 1px 3px 1px rgba(60, 64, 67, 0.15);\n",
              "      fill: #174EA6;\n",
              "    }\n",
              "\n",
              "    [theme=dark] .colab-df-convert {\n",
              "      background-color: #3B4455;\n",
              "      fill: #D2E3FC;\n",
              "    }\n",
              "\n",
              "    [theme=dark] .colab-df-convert:hover {\n",
              "      background-color: #434B5C;\n",
              "      box-shadow: 0px 1px 3px 1px rgba(0, 0, 0, 0.15);\n",
              "      filter: drop-shadow(0px 1px 2px rgba(0, 0, 0, 0.3));\n",
              "      fill: #FFFFFF;\n",
              "    }\n",
              "  </style>\n",
              "\n",
              "      <script>\n",
              "        const buttonEl =\n",
              "          document.querySelector('#df-82626b6b-45df-47b1-99bb-31a9f746eb59 button.colab-df-convert');\n",
              "        buttonEl.style.display =\n",
              "          google.colab.kernel.accessAllowed ? 'block' : 'none';\n",
              "\n",
              "        async function convertToInteractive(key) {\n",
              "          const element = document.querySelector('#df-82626b6b-45df-47b1-99bb-31a9f746eb59');\n",
              "          const dataTable =\n",
              "            await google.colab.kernel.invokeFunction('convertToInteractive',\n",
              "                                                     [key], {});\n",
              "          if (!dataTable) return;\n",
              "\n",
              "          const docLinkHtml = 'Like what you see? Visit the ' +\n",
              "            '<a target=\"_blank\" href=https://colab.research.google.com/notebooks/data_table.ipynb>data table notebook</a>'\n",
              "            + ' to learn more about interactive tables.';\n",
              "          element.innerHTML = '';\n",
              "          dataTable['output_type'] = 'display_data';\n",
              "          await google.colab.output.renderOutput(dataTable, element);\n",
              "          const docLink = document.createElement('div');\n",
              "          docLink.innerHTML = docLinkHtml;\n",
              "          element.appendChild(docLink);\n",
              "        }\n",
              "      </script>\n",
              "    </div>\n",
              "  </div>\n",
              "  "
            ]
          },
          "metadata": {},
          "execution_count": 142
        }
      ],
      "source": [
        "beml_df= pd.read_csv('https://github.com/manaranjanp/MLUsingPythonBook/raw/main/data/BEML.csv')\n",
        "beml_df.head()"
      ]
    },
    {
      "cell_type": "code",
      "source": [
        "glaxo_df = pd.read_csv('https://raw.githubusercontent.com/manaranjanp/MLUsingPythonBook/main/data/GLAXO.csv')\n",
        "glaxo_df.head()"
      ],
      "metadata": {
        "colab": {
          "base_uri": "https://localhost:8080/",
          "height": 206
        },
        "id": "L3lh_eVRGmXV",
        "outputId": "64716cf6-3e8a-4af4-9ebc-ad3f062bb61b"
      },
      "execution_count": null,
      "outputs": [
        {
          "output_type": "execute_result",
          "data": {
            "text/plain": [
              "         Date     Open     High      Low    Last    Close  \\\n",
              "0  2010-01-04  1613.00  1629.10  1602.00  1629.0  1625.65   \n",
              "1  2010-01-05  1639.95  1639.95  1611.05  1620.0  1616.80   \n",
              "2  2010-01-06  1618.00  1644.00  1617.00  1639.0  1638.50   \n",
              "3  2010-01-07  1645.00  1654.00  1636.00  1648.0  1648.70   \n",
              "4  2010-01-08  1650.00  1650.00  1626.55  1640.0  1639.80   \n",
              "\n",
              "   Total Trade Quantity  Turnover (Lacs)  \n",
              "0                9365.0           151.74  \n",
              "1               38148.0           622.58  \n",
              "2               36519.0           595.09  \n",
              "3               12809.0           211.00  \n",
              "4               28035.0           459.11  "
            ],
            "text/html": [
              "\n",
              "  <div id=\"df-58369d47-f50d-4f41-b02a-4cdc6375254a\">\n",
              "    <div class=\"colab-df-container\">\n",
              "      <div>\n",
              "<style scoped>\n",
              "    .dataframe tbody tr th:only-of-type {\n",
              "        vertical-align: middle;\n",
              "    }\n",
              "\n",
              "    .dataframe tbody tr th {\n",
              "        vertical-align: top;\n",
              "    }\n",
              "\n",
              "    .dataframe thead th {\n",
              "        text-align: right;\n",
              "    }\n",
              "</style>\n",
              "<table border=\"1\" class=\"dataframe\">\n",
              "  <thead>\n",
              "    <tr style=\"text-align: right;\">\n",
              "      <th></th>\n",
              "      <th>Date</th>\n",
              "      <th>Open</th>\n",
              "      <th>High</th>\n",
              "      <th>Low</th>\n",
              "      <th>Last</th>\n",
              "      <th>Close</th>\n",
              "      <th>Total Trade Quantity</th>\n",
              "      <th>Turnover (Lacs)</th>\n",
              "    </tr>\n",
              "  </thead>\n",
              "  <tbody>\n",
              "    <tr>\n",
              "      <th>0</th>\n",
              "      <td>2010-01-04</td>\n",
              "      <td>1613.00</td>\n",
              "      <td>1629.10</td>\n",
              "      <td>1602.00</td>\n",
              "      <td>1629.0</td>\n",
              "      <td>1625.65</td>\n",
              "      <td>9365.0</td>\n",
              "      <td>151.74</td>\n",
              "    </tr>\n",
              "    <tr>\n",
              "      <th>1</th>\n",
              "      <td>2010-01-05</td>\n",
              "      <td>1639.95</td>\n",
              "      <td>1639.95</td>\n",
              "      <td>1611.05</td>\n",
              "      <td>1620.0</td>\n",
              "      <td>1616.80</td>\n",
              "      <td>38148.0</td>\n",
              "      <td>622.58</td>\n",
              "    </tr>\n",
              "    <tr>\n",
              "      <th>2</th>\n",
              "      <td>2010-01-06</td>\n",
              "      <td>1618.00</td>\n",
              "      <td>1644.00</td>\n",
              "      <td>1617.00</td>\n",
              "      <td>1639.0</td>\n",
              "      <td>1638.50</td>\n",
              "      <td>36519.0</td>\n",
              "      <td>595.09</td>\n",
              "    </tr>\n",
              "    <tr>\n",
              "      <th>3</th>\n",
              "      <td>2010-01-07</td>\n",
              "      <td>1645.00</td>\n",
              "      <td>1654.00</td>\n",
              "      <td>1636.00</td>\n",
              "      <td>1648.0</td>\n",
              "      <td>1648.70</td>\n",
              "      <td>12809.0</td>\n",
              "      <td>211.00</td>\n",
              "    </tr>\n",
              "    <tr>\n",
              "      <th>4</th>\n",
              "      <td>2010-01-08</td>\n",
              "      <td>1650.00</td>\n",
              "      <td>1650.00</td>\n",
              "      <td>1626.55</td>\n",
              "      <td>1640.0</td>\n",
              "      <td>1639.80</td>\n",
              "      <td>28035.0</td>\n",
              "      <td>459.11</td>\n",
              "    </tr>\n",
              "  </tbody>\n",
              "</table>\n",
              "</div>\n",
              "      <button class=\"colab-df-convert\" onclick=\"convertToInteractive('df-58369d47-f50d-4f41-b02a-4cdc6375254a')\"\n",
              "              title=\"Convert this dataframe to an interactive table.\"\n",
              "              style=\"display:none;\">\n",
              "        \n",
              "  <svg xmlns=\"http://www.w3.org/2000/svg\" height=\"24px\"viewBox=\"0 0 24 24\"\n",
              "       width=\"24px\">\n",
              "    <path d=\"M0 0h24v24H0V0z\" fill=\"none\"/>\n",
              "    <path d=\"M18.56 5.44l.94 2.06.94-2.06 2.06-.94-2.06-.94-.94-2.06-.94 2.06-2.06.94zm-11 1L8.5 8.5l.94-2.06 2.06-.94-2.06-.94L8.5 2.5l-.94 2.06-2.06.94zm10 10l.94 2.06.94-2.06 2.06-.94-2.06-.94-.94-2.06-.94 2.06-2.06.94z\"/><path d=\"M17.41 7.96l-1.37-1.37c-.4-.4-.92-.59-1.43-.59-.52 0-1.04.2-1.43.59L10.3 9.45l-7.72 7.72c-.78.78-.78 2.05 0 2.83L4 21.41c.39.39.9.59 1.41.59.51 0 1.02-.2 1.41-.59l7.78-7.78 2.81-2.81c.8-.78.8-2.07 0-2.86zM5.41 20L4 18.59l7.72-7.72 1.47 1.35L5.41 20z\"/>\n",
              "  </svg>\n",
              "      </button>\n",
              "      \n",
              "  <style>\n",
              "    .colab-df-container {\n",
              "      display:flex;\n",
              "      flex-wrap:wrap;\n",
              "      gap: 12px;\n",
              "    }\n",
              "\n",
              "    .colab-df-convert {\n",
              "      background-color: #E8F0FE;\n",
              "      border: none;\n",
              "      border-radius: 50%;\n",
              "      cursor: pointer;\n",
              "      display: none;\n",
              "      fill: #1967D2;\n",
              "      height: 32px;\n",
              "      padding: 0 0 0 0;\n",
              "      width: 32px;\n",
              "    }\n",
              "\n",
              "    .colab-df-convert:hover {\n",
              "      background-color: #E2EBFA;\n",
              "      box-shadow: 0px 1px 2px rgba(60, 64, 67, 0.3), 0px 1px 3px 1px rgba(60, 64, 67, 0.15);\n",
              "      fill: #174EA6;\n",
              "    }\n",
              "\n",
              "    [theme=dark] .colab-df-convert {\n",
              "      background-color: #3B4455;\n",
              "      fill: #D2E3FC;\n",
              "    }\n",
              "\n",
              "    [theme=dark] .colab-df-convert:hover {\n",
              "      background-color: #434B5C;\n",
              "      box-shadow: 0px 1px 3px 1px rgba(0, 0, 0, 0.15);\n",
              "      filter: drop-shadow(0px 1px 2px rgba(0, 0, 0, 0.3));\n",
              "      fill: #FFFFFF;\n",
              "    }\n",
              "  </style>\n",
              "\n",
              "      <script>\n",
              "        const buttonEl =\n",
              "          document.querySelector('#df-58369d47-f50d-4f41-b02a-4cdc6375254a button.colab-df-convert');\n",
              "        buttonEl.style.display =\n",
              "          google.colab.kernel.accessAllowed ? 'block' : 'none';\n",
              "\n",
              "        async function convertToInteractive(key) {\n",
              "          const element = document.querySelector('#df-58369d47-f50d-4f41-b02a-4cdc6375254a');\n",
              "          const dataTable =\n",
              "            await google.colab.kernel.invokeFunction('convertToInteractive',\n",
              "                                                     [key], {});\n",
              "          if (!dataTable) return;\n",
              "\n",
              "          const docLinkHtml = 'Like what you see? Visit the ' +\n",
              "            '<a target=\"_blank\" href=https://colab.research.google.com/notebooks/data_table.ipynb>data table notebook</a>'\n",
              "            + ' to learn more about interactive tables.';\n",
              "          element.innerHTML = '';\n",
              "          dataTable['output_type'] = 'display_data';\n",
              "          await google.colab.output.renderOutput(dataTable, element);\n",
              "          const docLink = document.createElement('div');\n",
              "          docLink.innerHTML = docLinkHtml;\n",
              "          element.appendChild(docLink);\n",
              "        }\n",
              "      </script>\n",
              "    </div>\n",
              "  </div>\n",
              "  "
            ]
          },
          "metadata": {},
          "execution_count": 143
        }
      ]
    },
    {
      "cell_type": "code",
      "source": [
        "beml_df = beml_df[['Date','Close']]\n",
        "glaxo_df = glaxo_df[['Date','Close']]"
      ],
      "metadata": {
        "id": "u5AqSMibIQ4Y"
      },
      "execution_count": null,
      "outputs": []
    },
    {
      "cell_type": "code",
      "source": [
        "glaxo_df = glaxo_df.set_index(pd.DatetimeIndex(glaxo_df['Date']))\n",
        "beml_df = beml_df.set_index(pd.DatetimeIndex(beml_df['Date']))\n",
        "glaxo_df.head()"
      ],
      "metadata": {
        "colab": {
          "base_uri": "https://localhost:8080/",
          "height": 237
        },
        "id": "A9LwdAAVIgIc",
        "outputId": "9a523c9d-fd9e-42ce-b7cc-0741b8266947"
      },
      "execution_count": null,
      "outputs": [
        {
          "output_type": "execute_result",
          "data": {
            "text/plain": [
              "                  Date    Close\n",
              "Date                           \n",
              "2010-01-04  2010-01-04  1625.65\n",
              "2010-01-05  2010-01-05  1616.80\n",
              "2010-01-06  2010-01-06  1638.50\n",
              "2010-01-07  2010-01-07  1648.70\n",
              "2010-01-08  2010-01-08  1639.80"
            ],
            "text/html": [
              "\n",
              "  <div id=\"df-5faf572f-4c7d-4fbc-9bd8-d29bace7c43d\">\n",
              "    <div class=\"colab-df-container\">\n",
              "      <div>\n",
              "<style scoped>\n",
              "    .dataframe tbody tr th:only-of-type {\n",
              "        vertical-align: middle;\n",
              "    }\n",
              "\n",
              "    .dataframe tbody tr th {\n",
              "        vertical-align: top;\n",
              "    }\n",
              "\n",
              "    .dataframe thead th {\n",
              "        text-align: right;\n",
              "    }\n",
              "</style>\n",
              "<table border=\"1\" class=\"dataframe\">\n",
              "  <thead>\n",
              "    <tr style=\"text-align: right;\">\n",
              "      <th></th>\n",
              "      <th>Date</th>\n",
              "      <th>Close</th>\n",
              "    </tr>\n",
              "    <tr>\n",
              "      <th>Date</th>\n",
              "      <th></th>\n",
              "      <th></th>\n",
              "    </tr>\n",
              "  </thead>\n",
              "  <tbody>\n",
              "    <tr>\n",
              "      <th>2010-01-04</th>\n",
              "      <td>2010-01-04</td>\n",
              "      <td>1625.65</td>\n",
              "    </tr>\n",
              "    <tr>\n",
              "      <th>2010-01-05</th>\n",
              "      <td>2010-01-05</td>\n",
              "      <td>1616.80</td>\n",
              "    </tr>\n",
              "    <tr>\n",
              "      <th>2010-01-06</th>\n",
              "      <td>2010-01-06</td>\n",
              "      <td>1638.50</td>\n",
              "    </tr>\n",
              "    <tr>\n",
              "      <th>2010-01-07</th>\n",
              "      <td>2010-01-07</td>\n",
              "      <td>1648.70</td>\n",
              "    </tr>\n",
              "    <tr>\n",
              "      <th>2010-01-08</th>\n",
              "      <td>2010-01-08</td>\n",
              "      <td>1639.80</td>\n",
              "    </tr>\n",
              "  </tbody>\n",
              "</table>\n",
              "</div>\n",
              "      <button class=\"colab-df-convert\" onclick=\"convertToInteractive('df-5faf572f-4c7d-4fbc-9bd8-d29bace7c43d')\"\n",
              "              title=\"Convert this dataframe to an interactive table.\"\n",
              "              style=\"display:none;\">\n",
              "        \n",
              "  <svg xmlns=\"http://www.w3.org/2000/svg\" height=\"24px\"viewBox=\"0 0 24 24\"\n",
              "       width=\"24px\">\n",
              "    <path d=\"M0 0h24v24H0V0z\" fill=\"none\"/>\n",
              "    <path d=\"M18.56 5.44l.94 2.06.94-2.06 2.06-.94-2.06-.94-.94-2.06-.94 2.06-2.06.94zm-11 1L8.5 8.5l.94-2.06 2.06-.94-2.06-.94L8.5 2.5l-.94 2.06-2.06.94zm10 10l.94 2.06.94-2.06 2.06-.94-2.06-.94-.94-2.06-.94 2.06-2.06.94z\"/><path d=\"M17.41 7.96l-1.37-1.37c-.4-.4-.92-.59-1.43-.59-.52 0-1.04.2-1.43.59L10.3 9.45l-7.72 7.72c-.78.78-.78 2.05 0 2.83L4 21.41c.39.39.9.59 1.41.59.51 0 1.02-.2 1.41-.59l7.78-7.78 2.81-2.81c.8-.78.8-2.07 0-2.86zM5.41 20L4 18.59l7.72-7.72 1.47 1.35L5.41 20z\"/>\n",
              "  </svg>\n",
              "      </button>\n",
              "      \n",
              "  <style>\n",
              "    .colab-df-container {\n",
              "      display:flex;\n",
              "      flex-wrap:wrap;\n",
              "      gap: 12px;\n",
              "    }\n",
              "\n",
              "    .colab-df-convert {\n",
              "      background-color: #E8F0FE;\n",
              "      border: none;\n",
              "      border-radius: 50%;\n",
              "      cursor: pointer;\n",
              "      display: none;\n",
              "      fill: #1967D2;\n",
              "      height: 32px;\n",
              "      padding: 0 0 0 0;\n",
              "      width: 32px;\n",
              "    }\n",
              "\n",
              "    .colab-df-convert:hover {\n",
              "      background-color: #E2EBFA;\n",
              "      box-shadow: 0px 1px 2px rgba(60, 64, 67, 0.3), 0px 1px 3px 1px rgba(60, 64, 67, 0.15);\n",
              "      fill: #174EA6;\n",
              "    }\n",
              "\n",
              "    [theme=dark] .colab-df-convert {\n",
              "      background-color: #3B4455;\n",
              "      fill: #D2E3FC;\n",
              "    }\n",
              "\n",
              "    [theme=dark] .colab-df-convert:hover {\n",
              "      background-color: #434B5C;\n",
              "      box-shadow: 0px 1px 3px 1px rgba(0, 0, 0, 0.15);\n",
              "      filter: drop-shadow(0px 1px 2px rgba(0, 0, 0, 0.3));\n",
              "      fill: #FFFFFF;\n",
              "    }\n",
              "  </style>\n",
              "\n",
              "      <script>\n",
              "        const buttonEl =\n",
              "          document.querySelector('#df-5faf572f-4c7d-4fbc-9bd8-d29bace7c43d button.colab-df-convert');\n",
              "        buttonEl.style.display =\n",
              "          google.colab.kernel.accessAllowed ? 'block' : 'none';\n",
              "\n",
              "        async function convertToInteractive(key) {\n",
              "          const element = document.querySelector('#df-5faf572f-4c7d-4fbc-9bd8-d29bace7c43d');\n",
              "          const dataTable =\n",
              "            await google.colab.kernel.invokeFunction('convertToInteractive',\n",
              "                                                     [key], {});\n",
              "          if (!dataTable) return;\n",
              "\n",
              "          const docLinkHtml = 'Like what you see? Visit the ' +\n",
              "            '<a target=\"_blank\" href=https://colab.research.google.com/notebooks/data_table.ipynb>data table notebook</a>'\n",
              "            + ' to learn more about interactive tables.';\n",
              "          element.innerHTML = '';\n",
              "          dataTable['output_type'] = 'display_data';\n",
              "          await google.colab.output.renderOutput(dataTable, element);\n",
              "          const docLink = document.createElement('div');\n",
              "          docLink.innerHTML = docLinkHtml;\n",
              "          element.appendChild(docLink);\n",
              "        }\n",
              "      </script>\n",
              "    </div>\n",
              "  </div>\n",
              "  "
            ]
          },
          "metadata": {},
          "execution_count": 145
        }
      ]
    },
    {
      "cell_type": "code",
      "source": [
        "plt.plot(glaxo_df.Close);\n",
        "plt.xlabel('Time');\n",
        "plt.ylabel('Close Price');"
      ],
      "metadata": {
        "colab": {
          "base_uri": "https://localhost:8080/",
          "height": 279
        },
        "id": "9RUo4avWJCEa",
        "outputId": "02acebe2-972a-4a56-e368-6df114aba19b"
      },
      "execution_count": null,
      "outputs": [
        {
          "output_type": "display_data",
          "data": {
            "text/plain": [
              "<Figure size 432x288 with 1 Axes>"
            ],
            "image/png": "[encoded data removed]"
          },
          "metadata": {
            "needs_background": "light"
          }
        }
      ]
    },
    {
      "cell_type": "code",
      "source": [
        "plt.plot(beml_df.Close);\n",
        "plt.xlabel('Time');\n",
        "plt.ylabel('Close');"
      ],
      "metadata": {
        "colab": {
          "base_uri": "https://localhost:8080/",
          "height": 279
        },
        "id": "gAtfunG8JR7d",
        "outputId": "e58fdec4-01f5-430f-a782-e4b1e0000b69"
      },
      "execution_count": null,
      "outputs": [
        {
          "output_type": "display_data",
          "data": {
            "text/plain": [
              "<Figure size 432x288 with 1 Axes>"
            ],
            "image/png": "[encoded data removed]"
          },
          "metadata": {
            "needs_background": "light"
          }
        }
      ]
    },
    {
      "cell_type": "markdown",
      "source": [
        "Questions to Answer:\n",
        "1. What is the expected Daily rate of return of these stocks\n",
        "2. Which stocks have higher risk or volatility as far as daily returns are concerned\n",
        "3. What is the expected range of return for 95% confidence interval\n",
        "4. which stock has a higher probability of making a daily return of 2% or more\n",
        "5. Which stock has higher probability of making a loss (risk) of 2% or more"
      ],
      "metadata": {
        "id": "dfF26qlDw-IH"
      }
    },
    {
      "cell_type": "markdown",
      "source": [
        "What is the expected Daily rate of return of these stocks"
      ],
      "metadata": {
        "id": "qtJdxuY2VtD4"
      }
    },
    {
      "cell_type": "code",
      "execution_count": null,
      "metadata": {
        "colab": {
          "base_uri": "https://localhost:8080/",
          "height": 237
        },
        "id": "Dflu_qElw-IH",
        "outputId": "f8c29444-21af-49f7-f757-6b93c240a4ea"
      },
      "outputs": [
        {
          "output_type": "execute_result",
          "data": {
            "text/plain": [
              "                  Date    Close      gain\n",
              "Date                                     \n",
              "2010-01-04  2010-01-04  1625.65       NaN\n",
              "2010-01-05  2010-01-05  1616.80 -0.005444\n",
              "2010-01-06  2010-01-06  1638.50  0.013422\n",
              "2010-01-07  2010-01-07  1648.70  0.006225\n",
              "2010-01-08  2010-01-08  1639.80 -0.005398"
            ],
            "text/html": [
              "\n",
              "  <div id=\"df-5b1f838a-60e2-4d58-91f1-e31cb0709703\">\n",
              "    <div class=\"colab-df-container\">\n",
              "      <div>\n",
              "<style scoped>\n",
              "    .dataframe tbody tr th:only-of-type {\n",
              "        vertical-align: middle;\n",
              "    }\n",
              "\n",
              "    .dataframe tbody tr th {\n",
              "        vertical-align: top;\n",
              "    }\n",
              "\n",
              "    .dataframe thead th {\n",
              "        text-align: right;\n",
              "    }\n",
              "</style>\n",
              "<table border=\"1\" class=\"dataframe\">\n",
              "  <thead>\n",
              "    <tr style=\"text-align: right;\">\n",
              "      <th></th>\n",
              "      <th>Date</th>\n",
              "      <th>Close</th>\n",
              "      <th>gain</th>\n",
              "    </tr>\n",
              "    <tr>\n",
              "      <th>Date</th>\n",
              "      <th></th>\n",
              "      <th></th>\n",
              "      <th></th>\n",
              "    </tr>\n",
              "  </thead>\n",
              "  <tbody>\n",
              "    <tr>\n",
              "      <th>2010-01-04</th>\n",
              "      <td>2010-01-04</td>\n",
              "      <td>1625.65</td>\n",
              "      <td>NaN</td>\n",
              "    </tr>\n",
              "    <tr>\n",
              "      <th>2010-01-05</th>\n",
              "      <td>2010-01-05</td>\n",
              "      <td>1616.80</td>\n",
              "      <td>-0.005444</td>\n",
              "    </tr>\n",
              "    <tr>\n",
              "      <th>2010-01-06</th>\n",
              "      <td>2010-01-06</td>\n",
              "      <td>1638.50</td>\n",
              "      <td>0.013422</td>\n",
              "    </tr>\n",
              "    <tr>\n",
              "      <th>2010-01-07</th>\n",
              "      <td>2010-01-07</td>\n",
              "      <td>1648.70</td>\n",
              "      <td>0.006225</td>\n",
              "    </tr>\n",
              "    <tr>\n",
              "      <th>2010-01-08</th>\n",
              "      <td>2010-01-08</td>\n",
              "      <td>1639.80</td>\n",
              "      <td>-0.005398</td>\n",
              "    </tr>\n",
              "  </tbody>\n",
              "</table>\n",
              "</div>\n",
              "      <button class=\"colab-df-convert\" onclick=\"convertToInteractive('df-5b1f838a-60e2-4d58-91f1-e31cb0709703')\"\n",
              "              title=\"Convert this dataframe to an interactive table.\"\n",
              "              style=\"display:none;\">\n",
              "        \n",
              "  <svg xmlns=\"http://www.w3.org/2000/svg\" height=\"24px\"viewBox=\"0 0 24 24\"\n",
              "       width=\"24px\">\n",
              "    <path d=\"M0 0h24v24H0V0z\" fill=\"none\"/>\n",
              "    <path d=\"M18.56 5.44l.94 2.06.94-2.06 2.06-.94-2.06-.94-.94-2.06-.94 2.06-2.06.94zm-11 1L8.5 8.5l.94-2.06 2.06-.94-2.06-.94L8.5 2.5l-.94 2.06-2.06.94zm10 10l.94 2.06.94-2.06 2.06-.94-2.06-.94-.94-2.06-.94 2.06-2.06.94z\"/><path d=\"M17.41 7.96l-1.37-1.37c-.4-.4-.92-.59-1.43-.59-.52 0-1.04.2-1.43.59L10.3 9.45l-7.72 7.72c-.78.78-.78 2.05 0 2.83L4 21.41c.39.39.9.59 1.41.59.51 0 1.02-.2 1.41-.59l7.78-7.78 2.81-2.81c.8-.78.8-2.07 0-2.86zM5.41 20L4 18.59l7.72-7.72 1.47 1.35L5.41 20z\"/>\n",
              "  </svg>\n",
              "      </button>\n",
              "      \n",
              "  <style>\n",
              "    .colab-df-container {\n",
              "      display:flex;\n",
              "      flex-wrap:wrap;\n",
              "      gap: 12px;\n",
              "    }\n",
              "\n",
              "    .colab-df-convert {\n",
              "      background-color: #E8F0FE;\n",
              "      border: none;\n",
              "      border-radius: 50%;\n",
              "      cursor: pointer;\n",
              "      display: none;\n",
              "      fill: #1967D2;\n",
              "      height: 32px;\n",
              "      padding: 0 0 0 0;\n",
              "      width: 32px;\n",
              "    }\n",
              "\n",
              "    .colab-df-convert:hover {\n",
              "      background-color: #E2EBFA;\n",
              "      box-shadow: 0px 1px 2px rgba(60, 64, 67, 0.3), 0px 1px 3px 1px rgba(60, 64, 67, 0.15);\n",
              "      fill: #174EA6;\n",
              "    }\n",
              "\n",
              "    [theme=dark] .colab-df-convert {\n",
              "      background-color: #3B4455;\n",
              "      fill: #D2E3FC;\n",
              "    }\n",
              "\n",
              "    [theme=dark] .colab-df-convert:hover {\n",
              "      background-color: #434B5C;\n",
              "      box-shadow: 0px 1px 3px 1px rgba(0, 0, 0, 0.15);\n",
              "      filter: drop-shadow(0px 1px 2px rgba(0, 0, 0, 0.3));\n",
              "      fill: #FFFFFF;\n",
              "    }\n",
              "  </style>\n",
              "\n",
              "      <script>\n",
              "        const buttonEl =\n",
              "          document.querySelector('#df-5b1f838a-60e2-4d58-91f1-e31cb0709703 button.colab-df-convert');\n",
              "        buttonEl.style.display =\n",
              "          google.colab.kernel.accessAllowed ? 'block' : 'none';\n",
              "\n",
              "        async function convertToInteractive(key) {\n",
              "          const element = document.querySelector('#df-5b1f838a-60e2-4d58-91f1-e31cb0709703');\n",
              "          const dataTable =\n",
              "            await google.colab.kernel.invokeFunction('convertToInteractive',\n",
              "                                                     [key], {});\n",
              "          if (!dataTable) return;\n",
              "\n",
              "          const docLinkHtml = 'Like what you see? Visit the ' +\n",
              "            '<a target=\"_blank\" href=https://colab.research.google.com/notebooks/data_table.ipynb>data table notebook</a>'\n",
              "            + ' to learn more about interactive tables.';\n",
              "          element.innerHTML = '';\n",
              "          dataTable['output_type'] = 'display_data';\n",
              "          await google.colab.output.renderOutput(dataTable, element);\n",
              "          const docLink = document.createElement('div');\n",
              "          docLink.innerHTML = docLinkHtml;\n",
              "          element.appendChild(docLink);\n",
              "        }\n",
              "      </script>\n",
              "    </div>\n",
              "  </div>\n",
              "  "
            ]
          },
          "metadata": {},
          "execution_count": 148
        }
      ],
      "source": [
        "glaxo_df['gain'] = glaxo_df.Close.pct_change(periods=1)\n",
        "beml_df['gain'] = beml_df.Close.pct_change(periods=1)\n",
        "glaxo_df.head()"
      ]
    },
    {
      "cell_type": "markdown",
      "source": [
        "We can drop this NA record"
      ],
      "metadata": {
        "id": "fwroAs8tWGt1"
      }
    },
    {
      "cell_type": "code",
      "source": [
        "glaxo_df = glaxo_df.dropna()\n",
        "beml_df = beml_df.dropna()"
      ],
      "metadata": {
        "id": "WPtY1s-QWI0B"
      },
      "execution_count": null,
      "outputs": []
    },
    {
      "cell_type": "markdown",
      "source": [
        "Now We can plot gain against Time\n"
      ],
      "metadata": {
        "id": "FNv3ZDPdw-K_"
      }
    },
    {
      "cell_type": "markdown",
      "source": [
        "##Which stocks have higher risk or volatility as far as daily returns are concerned"
      ],
      "metadata": {
        "id": "K6hyFlN_ZnSb"
      }
    },
    {
      "cell_type": "code",
      "execution_count": null,
      "metadata": {
        "colab": {
          "base_uri": "https://localhost:8080/",
          "height": 389
        },
        "id": "34N29Dsbw-LA",
        "outputId": "e1ac3693-7eef-460a-c02b-43ba448c67a1"
      },
      "outputs": [
        {
          "output_type": "display_data",
          "data": {
            "text/plain": [
              "<Figure size 576x432 with 1 Axes>"
            ],
            "image/png": "[encoded data removed]"
          },
          "metadata": {
            "needs_background": "light"
          }
        }
      ],
      "source": [
        "plt.figure(figsize=(8,6));\n",
        "plt.plot(glaxo_df.index,glaxo_df.gain);\n",
        "plt.xlabel('Time');\n",
        "plt.ylabel('gain');"
      ]
    },
    {
      "cell_type": "markdown",
      "source": [
        "We can draw the distribution of these plots"
      ],
      "metadata": {
        "id": "qXN8xs__WqTJ"
      }
    },
    {
      "cell_type": "code",
      "execution_count": null,
      "metadata": {
        "colab": {
          "base_uri": "https://localhost:8080/",
          "height": 279
        },
        "id": "vCY758y_w-OF",
        "outputId": "d1c0ea9b-7518-420d-96f3-2ced194bfc0a"
      },
      "outputs": [
        {
          "output_type": "display_data",
          "data": {
            "text/plain": [
              "<Figure size 432x288 with 1 Axes>"
            ],
            "image/png": "[encoded data removed]"
          },
          "metadata": {
            "needs_background": "light"
          }
        }
      ],
      "source": [
        "sn.histplot(glaxo_df.gain,label='Glaxo',color='red');\n",
        "sn.histplot(beml_df.gain,label='BEML',alpha=0.2);\n",
        "plt.xlabel('gain');\n",
        "plt.ylabel('Density');\n",
        "plt.legend();"
      ]
    },
    {
      "cell_type": "markdown",
      "source": [
        "Calculating mean and variance"
      ],
      "metadata": {
        "id": "La7QXIdEw-Q3"
      }
    },
    {
      "cell_type": "code",
      "execution_count": null,
      "metadata": {
        "colab": {
          "base_uri": "https://localhost:8080/"
        },
        "id": "zG9-3_wfw-Q3",
        "outputId": "add8cd8b-4c0b-432e-8b4f-b99a6e014ff9"
      },
      "outputs": [
        {
          "output_type": "stream",
          "name": "stdout",
          "text": [
            "Daily gain of Glaxo\n",
            "-------------------\n",
            "Mean: 0.0004\n",
            "Standard Deviation: 0.0134\n"
          ]
        }
      ],
      "source": [
        "print(\"Daily gain of Glaxo\")\n",
        "print(\"-------------------\")\n",
        "print(\"Mean:\", round(glaxo_df.gain.mean(),4))\n",
        "print('Standard Deviation:',round(glaxo_df.gain.std(),4))"
      ]
    },
    {
      "cell_type": "code",
      "source": [
        "print(\"Daily gain of BEML\")\n",
        "print(\"-------------------\")\n",
        "print(\"Mean:\", round(beml_df.gain.mean(),4))\n",
        "print('Standard Deviation:',round(beml_df.gain.std(),4))"
      ],
      "metadata": {
        "colab": {
          "base_uri": "https://localhost:8080/"
        },
        "id": "nGcD7Lc9ZKcu",
        "outputId": "0e507ecf-485c-4b27-dd5c-ae71ea26546e"
      },
      "execution_count": null,
      "outputs": [
        {
          "output_type": "stream",
          "name": "stdout",
          "text": [
            "Daily gain of BEML\n",
            "-------------------\n",
            "Mean: 0.0003\n",
            "Standard Deviation: 0.0264\n"
          ]
        }
      ]
    },
    {
      "cell_type": "code",
      "source": [
        "beml_df.gain.describe()"
      ],
      "metadata": {
        "colab": {
          "base_uri": "https://localhost:8080/"
        },
        "id": "pVBobAxJZTr_",
        "outputId": "1ccc9937-92a8-4090-a2fd-0183c7acc4b6"
      },
      "execution_count": null,
      "outputs": [
        {
          "output_type": "execute_result",
          "data": {
            "text/plain": [
              "count    1738.000000\n",
              "mean        0.000271\n",
              "std         0.026431\n",
              "min        -0.133940\n",
              "25%        -0.013736\n",
              "50%        -0.001541\n",
              "75%         0.011985\n",
              "max         0.198329\n",
              "Name: gain, dtype: float64"
            ]
          },
          "metadata": {},
          "execution_count": 154
        }
      ]
    },
    {
      "cell_type": "markdown",
      "source": [
        "## What is the expected range of return for 95% confidence interval\n",
        "\n",
        "The interval() method of stats.norm gives the confidence interval for a normal distribution. It takes three parameters\n",
        "\n",
        "a. alpha: It is the interval eg. 0.9 for 90% confidence interval\n",
        "b. loc: It is the location parameter of the distribution, for normal distribution, it is mean\n",
        "c. scale: it is the scale parameter of the distribution. It is sd for normal distribution"
      ],
      "metadata": {
        "id": "f_SATFoBw-Tr"
      }
    },
    {
      "cell_type": "code",
      "execution_count": null,
      "metadata": {
        "colab": {
          "base_uri": "https://localhost:8080/"
        },
        "id": "lGf-3yZMw-Ts",
        "outputId": "7fbcd458-64b9-4b31-8e68-19bcd6e00a1e"
      },
      "outputs": [
        {
          "output_type": "stream",
          "name": "stdout",
          "text": [
            "Gain at 95% confidence interval is:  [-0.0258  0.0266]\n"
          ]
        }
      ],
      "source": [
        "from scipy import stats\n",
        "glaxo_df_ci = stats.norm.interval(0.95,\n",
        "                                  loc=glaxo_df.gain.mean(),\n",
        "                                  scale = glaxo_df.gain.std())\n",
        "print(\"Gain at 95% confidence interval is: \", np.round(glaxo_df_ci,4))"
      ]
    },
    {
      "cell_type": "code",
      "source": [
        "beml_df_ci = stats.norm.interval(0.95,\n",
        "                                  loc=beml_df.gain.mean(),\n",
        "                                  scale = beml_df.gain.std())\n",
        "print(\"Gain at 95% confidence interval is: \", np.round(beml_df_ci,4))"
      ],
      "metadata": {
        "colab": {
          "base_uri": "https://localhost:8080/"
        },
        "id": "uhDdn9Aui_2B",
        "outputId": "998b1512-7797-4676-f558-c046e79b58a6"
      },
      "execution_count": null,
      "outputs": [
        {
          "output_type": "stream",
          "name": "stdout",
          "text": [
            "Gain at 95% confidence interval is:  [-0.0515  0.0521]\n"
          ]
        }
      ]
    },
    {
      "cell_type": "markdown",
      "source": [
        "##  which stock has a higher probability of making a daily return of 2% or more\n",
        "\n",
        "For this we need to have cdf\n",
        "\n",
        "Which stock has higher probability of making a loss (risk) of 2% or more"
      ],
      "metadata": {
        "id": "KxZUIqbaw-Wq"
      }
    },
    {
      "cell_type": "code",
      "execution_count": null,
      "metadata": {
        "colab": {
          "base_uri": "https://localhost:8080/"
        },
        "id": "9ToX1rT0w-Wr",
        "outputId": "9f32c980-1bb6-4bda-ec97-361e9ce4c090"
      },
      "outputs": [
        {
          "output_type": "stream",
          "name": "stdout",
          "text": [
            "Probability of making 2% loss or higher in Glaxo:\n"
          ]
        },
        {
          "output_type": "execute_result",
          "data": {
            "text/plain": [
              "0.06352488667177401"
            ]
          },
          "metadata": {},
          "execution_count": 157
        }
      ],
      "source": [
        "print(\"Probability of making 2% loss or higher in Glaxo:\")\n",
        "stats.norm.cdf(-0.02,\n",
        "               loc=glaxo_df.gain.mean(),\n",
        "               scale=glaxo_df.gain.std())"
      ]
    },
    {
      "cell_type": "code",
      "source": [
        "print(\"Probability of making 2% loss or higher in BEML:\")\n",
        "stats.norm.cdf(-0.02,\n",
        "               loc=beml_df.gain.mean(),\n",
        "               scale=beml_df.gain.std())"
      ],
      "metadata": {
        "colab": {
          "base_uri": "https://localhost:8080/"
        },
        "id": "guwO3frIj6EI",
        "outputId": "404a20ac-1f39-4ba3-94e5-e8e46729127f"
      },
      "execution_count": null,
      "outputs": [
        {
          "output_type": "stream",
          "name": "stdout",
          "text": [
            "Probability of making 2% loss or higher in BEML:\n"
          ]
        },
        {
          "output_type": "execute_result",
          "data": {
            "text/plain": [
              "0.22155987503755292"
            ]
          },
          "metadata": {},
          "execution_count": 158
        }
      ]
    },
    {
      "cell_type": "code",
      "source": [
        "print(\"Probability of making 2% gain or higher in Glaxo:\")\n",
        "1-stats.norm.cdf(0.02,\n",
        "               loc=glaxo_df.gain.mean(),\n",
        "               scale=glaxo_df.gain.std())"
      ],
      "metadata": {
        "colab": {
          "base_uri": "https://localhost:8080/"
        },
        "id": "wOVMLwogkGUW",
        "outputId": "20284582-5a8c-4e8b-d39b-825a0be5716d"
      },
      "execution_count": null,
      "outputs": [
        {
          "output_type": "stream",
          "name": "stdout",
          "text": [
            "Probability of making 2% gain or higher in Glaxo:\n"
          ]
        },
        {
          "output_type": "execute_result",
          "data": {
            "text/plain": [
              "0.07104511457618568"
            ]
          },
          "metadata": {},
          "execution_count": 159
        }
      ]
    },
    {
      "cell_type": "code",
      "source": [
        "print(\"Probability of making 2% gain or higher in BEML:\")\n",
        "1-stats.norm.cdf(0.02,\n",
        "               loc=beml_df.gain.mean(),\n",
        "               scale=beml_df.gain.std())"
      ],
      "metadata": {
        "colab": {
          "base_uri": "https://localhost:8080/"
        },
        "id": "pFDNrw9PkOzk",
        "outputId": "03459acd-18e7-4b11-8fc5-60812c6c215b"
      },
      "execution_count": null,
      "outputs": [
        {
          "output_type": "stream",
          "name": "stdout",
          "text": [
            "Probability of making 2% gain or higher in BEML:\n"
          ]
        },
        {
          "output_type": "execute_result",
          "data": {
            "text/plain": [
              "0.22769829484075355"
            ]
          },
          "metadata": {},
          "execution_count": 160
        }
      ]
    },
    {
      "cell_type": "markdown",
      "source": [
        "# Hypothesis Testing\n",
        "\n",
        "## Z test\n",
        "\n",
        "Z-test is used when\n",
        "1. When we need to test the value of population mean, given that population variance is known.\n",
        "2. The population is normal distribution and the population variance is known\n",
        "3. The sample size is large and the population variance is known. That is, the assumption of normal distribution can be relaxed for large samples (n >30)\n",
        "\n",
        "Example: A passport office claims that the passport applications are processed within 30 days of submitting the application form and all necessary documents. The file passport.csv contains the processing time of 40 passport applicants. The population standard deviation of the processing time is 12.5 days. Conduct a hypothesis test at significant level alpha=0.05 to verify the claim made by the passport officer"
      ],
      "metadata": {
        "id": "oIv0wFCfw-ZU"
      }
    },
    {
      "cell_type": "code",
      "execution_count": null,
      "metadata": {
        "colab": {
          "base_uri": "https://localhost:8080/",
          "height": 206
        },
        "id": "9O61t3P-w-ZU",
        "outputId": "46a98fc9-09ec-4703-cd04-60d39b6d753b"
      },
      "outputs": [
        {
          "output_type": "execute_result",
          "data": {
            "text/plain": [
              "   processing_time\n",
              "0             16.0\n",
              "1             16.0\n",
              "2             30.0\n",
              "3             37.0\n",
              "4             25.0"
            ],
            "text/html": [
              "\n",
              "  <div id=\"df-4a02753e-e674-46be-80b9-1e5eadbd329e\">\n",
              "    <div class=\"colab-df-container\">\n",
              "      <div>\n",
              "<style scoped>\n",
              "    .dataframe tbody tr th:only-of-type {\n",
              "        vertical-align: middle;\n",
              "    }\n",
              "\n",
              "    .dataframe tbody tr th {\n",
              "        vertical-align: top;\n",
              "    }\n",
              "\n",
              "    .dataframe thead th {\n",
              "        text-align: right;\n",
              "    }\n",
              "</style>\n",
              "<table border=\"1\" class=\"dataframe\">\n",
              "  <thead>\n",
              "    <tr style=\"text-align: right;\">\n",
              "      <th></th>\n",
              "      <th>processing_time</th>\n",
              "    </tr>\n",
              "  </thead>\n",
              "  <tbody>\n",
              "    <tr>\n",
              "      <th>0</th>\n",
              "      <td>16.0</td>\n",
              "    </tr>\n",
              "    <tr>\n",
              "      <th>1</th>\n",
              "      <td>16.0</td>\n",
              "    </tr>\n",
              "    <tr>\n",
              "      <th>2</th>\n",
              "      <td>30.0</td>\n",
              "    </tr>\n",
              "    <tr>\n",
              "      <th>3</th>\n",
              "      <td>37.0</td>\n",
              "    </tr>\n",
              "    <tr>\n",
              "      <th>4</th>\n",
              "      <td>25.0</td>\n",
              "    </tr>\n",
              "  </tbody>\n",
              "</table>\n",
              "</div>\n",
              "      <button class=\"colab-df-convert\" onclick=\"convertToInteractive('df-4a02753e-e674-46be-80b9-1e5eadbd329e')\"\n",
              "              title=\"Convert this dataframe to an interactive table.\"\n",
              "              style=\"display:none;\">\n",
              "        \n",
              "  <svg xmlns=\"http://www.w3.org/2000/svg\" height=\"24px\"viewBox=\"0 0 24 24\"\n",
              "       width=\"24px\">\n",
              "    <path d=\"M0 0h24v24H0V0z\" fill=\"none\"/>\n",
              "    <path d=\"M18.56 5.44l.94 2.06.94-2.06 2.06-.94-2.06-.94-.94-2.06-.94 2.06-2.06.94zm-11 1L8.5 8.5l.94-2.06 2.06-.94-2.06-.94L8.5 2.5l-.94 2.06-2.06.94zm10 10l.94 2.06.94-2.06 2.06-.94-2.06-.94-.94-2.06-.94 2.06-2.06.94z\"/><path d=\"M17.41 7.96l-1.37-1.37c-.4-.4-.92-.59-1.43-.59-.52 0-1.04.2-1.43.59L10.3 9.45l-7.72 7.72c-.78.78-.78 2.05 0 2.83L4 21.41c.39.39.9.59 1.41.59.51 0 1.02-.2 1.41-.59l7.78-7.78 2.81-2.81c.8-.78.8-2.07 0-2.86zM5.41 20L4 18.59l7.72-7.72 1.47 1.35L5.41 20z\"/>\n",
              "  </svg>\n",
              "      </button>\n",
              "      \n",
              "  <style>\n",
              "    .colab-df-container {\n",
              "      display:flex;\n",
              "      flex-wrap:wrap;\n",
              "      gap: 12px;\n",
              "    }\n",
              "\n",
              "    .colab-df-convert {\n",
              "      background-color: #E8F0FE;\n",
              "      border: none;\n",
              "      border-radius: 50%;\n",
              "      cursor: pointer;\n",
              "      display: none;\n",
              "      fill: #1967D2;\n",
              "      height: 32px;\n",
              "      padding: 0 0 0 0;\n",
              "      width: 32px;\n",
              "    }\n",
              "\n",
              "    .colab-df-convert:hover {\n",
              "      background-color: #E2EBFA;\n",
              "      box-shadow: 0px 1px 2px rgba(60, 64, 67, 0.3), 0px 1px 3px 1px rgba(60, 64, 67, 0.15);\n",
              "      fill: #174EA6;\n",
              "    }\n",
              "\n",
              "    [theme=dark] .colab-df-convert {\n",
              "      background-color: #3B4455;\n",
              "      fill: #D2E3FC;\n",
              "    }\n",
              "\n",
              "    [theme=dark] .colab-df-convert:hover {\n",
              "      background-color: #434B5C;\n",
              "      box-shadow: 0px 1px 3px 1px rgba(0, 0, 0, 0.15);\n",
              "      filter: drop-shadow(0px 1px 2px rgba(0, 0, 0, 0.3));\n",
              "      fill: #FFFFFF;\n",
              "    }\n",
              "  </style>\n",
              "\n",
              "      <script>\n",
              "        const buttonEl =\n",
              "          document.querySelector('#df-4a02753e-e674-46be-80b9-1e5eadbd329e button.colab-df-convert');\n",
              "        buttonEl.style.display =\n",
              "          google.colab.kernel.accessAllowed ? 'block' : 'none';\n",
              "\n",
              "        async function convertToInteractive(key) {\n",
              "          const element = document.querySelector('#df-4a02753e-e674-46be-80b9-1e5eadbd329e');\n",
              "          const dataTable =\n",
              "            await google.colab.kernel.invokeFunction('convertToInteractive',\n",
              "                                                     [key], {});\n",
              "          if (!dataTable) return;\n",
              "\n",
              "          const docLinkHtml = 'Like what you see? Visit the ' +\n",
              "            '<a target=\"_blank\" href=https://colab.research.google.com/notebooks/data_table.ipynb>data table notebook</a>'\n",
              "            + ' to learn more about interactive tables.';\n",
              "          element.innerHTML = '';\n",
              "          dataTable['output_type'] = 'display_data';\n",
              "          await google.colab.output.renderOutput(dataTable, element);\n",
              "          const docLink = document.createElement('div');\n",
              "          docLink.innerHTML = docLinkHtml;\n",
              "          element.appendChild(docLink);\n",
              "        }\n",
              "      </script>\n",
              "    </div>\n",
              "  </div>\n",
              "  "
            ]
          },
          "metadata": {},
          "execution_count": 161
        }
      ],
      "source": [
        "passport_df = pd.read_csv('https://raw.githubusercontent.com/manaranjanp/MLUsingPythonBook/main/data/passport.csv')\n",
        "passport_df.head()"
      ]
    },
    {
      "cell_type": "code",
      "source": [
        "print(list(passport_df.processing_time))"
      ],
      "metadata": {
        "colab": {
          "base_uri": "https://localhost:8080/"
        },
        "id": "OCuQ48kBrdXg",
        "outputId": "3a1b9401-1059-47a0-8fe6-c6962198ca7a"
      },
      "execution_count": null,
      "outputs": [
        {
          "output_type": "stream",
          "name": "stdout",
          "text": [
            "[16.0, 16.0, 30.0, 37.0, 25.0, 22.0, 19.0, 35.0, 27.0, 32.0, 34.0, 28.0, 24.0, 35.0, 24.0, 21.0, 32.0, 29.0, 24.0, 35.0, 28.0, 29.0, 18.0, 31.0, 28.0, 33.0, 32.0, 24.0, 25.0, 22.0, 21.0, 27.0, 41.0, 23.0, 23.0, 16.0, 24.0, 38.0, 26.0, 28.0]\n"
          ]
        }
      ]
    },
    {
      "cell_type": "code",
      "source": [
        "import math\n",
        "def z_test(pop_mean,pop_std,sample):\n",
        "  z_score = ( sample.mean()-pop_mean)/(pop_std/math.sqrt(len(sample)))\n",
        "  return z_score,stats.norm.cdf(z_score)"
      ],
      "metadata": {
        "id": "JfHtn4V0rdVa"
      },
      "execution_count": null,
      "outputs": []
    },
    {
      "cell_type": "code",
      "source": [
        "z_test(30,12.5,passport_df.processing_time)"
      ],
      "metadata": {
        "colab": {
          "base_uri": "https://localhost:8080/"
        },
        "id": "4zrvcxEhrdRj",
        "outputId": "b1890a09-5a3d-41fd-d3ce-4e970104799a"
      },
      "execution_count": null,
      "outputs": [
        {
          "output_type": "execute_result",
          "data": {
            "text/plain": [
              "(-1.4925950555994747, 0.06777160919961511)"
            ]
          },
          "metadata": {},
          "execution_count": 164
        }
      ]
    },
    {
      "cell_type": "markdown",
      "source": [
        "As the p value is more than 5%, so null cannot be rejected, so can conclude theat the average processing time of passports is greater than or equal to 30"
      ],
      "metadata": {
        "id": "iI27Ih6l779J"
      }
    },
    {
      "cell_type": "markdown",
      "source": [
        "## One Sample t-test\n",
        "t-test is used when the population sd is unknown and isestimated from the sample\n",
        "\n",
        "example\n",
        "Arvaind Productions (AP) is a newly formed movie production house based out of Mumbai India. AP was interested in understanding the production cost required for producing a Bollywood movie. The industry believes that the production house will require INR 500 million ( 50 crore) on an average. It is assumed that the Bollywood movie production cost follws a normal distribution. The production cost of 40 Bollywood movies in millions of Ruppes are given in the bollywoodmovies.csv. The population sd is also not known. Please test this hypothesis at 95% confidence."
      ],
      "metadata": {
        "id": "PIg8Luc_8S7c"
      }
    },
    {
      "cell_type": "code",
      "source": [
        "bollywood_movies_df = pd.read_csv('https://raw.githubusercontent.com/manaranjanp/MLUsingPythonBook/main/data/bollywoodmovies.csv')\n",
        "bollywood_movies_df.head()"
      ],
      "metadata": {
        "colab": {
          "base_uri": "https://localhost:8080/",
          "height": 206
        },
        "id": "MyFRY-hR8SLI",
        "outputId": "2377f626-ce51-456d-b39e-052072275fad"
      },
      "execution_count": null,
      "outputs": [
        {
          "output_type": "execute_result",
          "data": {
            "text/plain": [
              "   production_cost\n",
              "0              601\n",
              "1              627\n",
              "2              330\n",
              "3              364\n",
              "4              562"
            ],
            "text/html": [
              "\n",
              "  <div id=\"df-d63f9591-2944-46d3-a229-df4ae44dab94\">\n",
              "    <div class=\"colab-df-container\">\n",
              "      <div>\n",
              "<style scoped>\n",
              "    .dataframe tbody tr th:only-of-type {\n",
              "        vertical-align: middle;\n",
              "    }\n",
              "\n",
              "    .dataframe tbody tr th {\n",
              "        vertical-align: top;\n",
              "    }\n",
              "\n",
              "    .dataframe thead th {\n",
              "        text-align: right;\n",
              "    }\n",
              "</style>\n",
              "<table border=\"1\" class=\"dataframe\">\n",
              "  <thead>\n",
              "    <tr style=\"text-align: right;\">\n",
              "      <th></th>\n",
              "      <th>production_cost</th>\n",
              "    </tr>\n",
              "  </thead>\n",
              "  <tbody>\n",
              "    <tr>\n",
              "      <th>0</th>\n",
              "      <td>601</td>\n",
              "    </tr>\n",
              "    <tr>\n",
              "      <th>1</th>\n",
              "      <td>627</td>\n",
              "    </tr>\n",
              "    <tr>\n",
              "      <th>2</th>\n",
              "      <td>330</td>\n",
              "    </tr>\n",
              "    <tr>\n",
              "      <th>3</th>\n",
              "      <td>364</td>\n",
              "    </tr>\n",
              "    <tr>\n",
              "      <th>4</th>\n",
              "      <td>562</td>\n",
              "    </tr>\n",
              "  </tbody>\n",
              "</table>\n",
              "</div>\n",
              "      <button class=\"colab-df-convert\" onclick=\"convertToInteractive('df-d63f9591-2944-46d3-a229-df4ae44dab94')\"\n",
              "              title=\"Convert this dataframe to an interactive table.\"\n",
              "              style=\"display:none;\">\n",
              "        \n",
              "  <svg xmlns=\"http://www.w3.org/2000/svg\" height=\"24px\"viewBox=\"0 0 24 24\"\n",
              "       width=\"24px\">\n",
              "    <path d=\"M0 0h24v24H0V0z\" fill=\"none\"/>\n",
              "    <path d=\"M18.56 5.44l.94 2.06.94-2.06 2.06-.94-2.06-.94-.94-2.06-.94 2.06-2.06.94zm-11 1L8.5 8.5l.94-2.06 2.06-.94-2.06-.94L8.5 2.5l-.94 2.06-2.06.94zm10 10l.94 2.06.94-2.06 2.06-.94-2.06-.94-.94-2.06-.94 2.06-2.06.94z\"/><path d=\"M17.41 7.96l-1.37-1.37c-.4-.4-.92-.59-1.43-.59-.52 0-1.04.2-1.43.59L10.3 9.45l-7.72 7.72c-.78.78-.78 2.05 0 2.83L4 21.41c.39.39.9.59 1.41.59.51 0 1.02-.2 1.41-.59l7.78-7.78 2.81-2.81c.8-.78.8-2.07 0-2.86zM5.41 20L4 18.59l7.72-7.72 1.47 1.35L5.41 20z\"/>\n",
              "  </svg>\n",
              "      </button>\n",
              "      \n",
              "  <style>\n",
              "    .colab-df-container {\n",
              "      display:flex;\n",
              "      flex-wrap:wrap;\n",
              "      gap: 12px;\n",
              "    }\n",
              "\n",
              "    .colab-df-convert {\n",
              "      background-color: #E8F0FE;\n",
              "      border: none;\n",
              "      border-radius: 50%;\n",
              "      cursor: pointer;\n",
              "      display: none;\n",
              "      fill: #1967D2;\n",
              "      height: 32px;\n",
              "      padding: 0 0 0 0;\n",
              "      width: 32px;\n",
              "    }\n",
              "\n",
              "    .colab-df-convert:hover {\n",
              "      background-color: #E2EBFA;\n",
              "      box-shadow: 0px 1px 2px rgba(60, 64, 67, 0.3), 0px 1px 3px 1px rgba(60, 64, 67, 0.15);\n",
              "      fill: #174EA6;\n",
              "    }\n",
              "\n",
              "    [theme=dark] .colab-df-convert {\n",
              "      background-color: #3B4455;\n",
              "      fill: #D2E3FC;\n",
              "    }\n",
              "\n",
              "    [theme=dark] .colab-df-convert:hover {\n",
              "      background-color: #434B5C;\n",
              "      box-shadow: 0px 1px 3px 1px rgba(0, 0, 0, 0.15);\n",
              "      filter: drop-shadow(0px 1px 2px rgba(0, 0, 0, 0.3));\n",
              "      fill: #FFFFFF;\n",
              "    }\n",
              "  </style>\n",
              "\n",
              "      <script>\n",
              "        const buttonEl =\n",
              "          document.querySelector('#df-d63f9591-2944-46d3-a229-df4ae44dab94 button.colab-df-convert');\n",
              "        buttonEl.style.display =\n",
              "          google.colab.kernel.accessAllowed ? 'block' : 'none';\n",
              "\n",
              "        async function convertToInteractive(key) {\n",
              "          const element = document.querySelector('#df-d63f9591-2944-46d3-a229-df4ae44dab94');\n",
              "          const dataTable =\n",
              "            await google.colab.kernel.invokeFunction('convertToInteractive',\n",
              "                                                     [key], {});\n",
              "          if (!dataTable) return;\n",
              "\n",
              "          const docLinkHtml = 'Like what you see? Visit the ' +\n",
              "            '<a target=\"_blank\" href=https://colab.research.google.com/notebooks/data_table.ipynb>data table notebook</a>'\n",
              "            + ' to learn more about interactive tables.';\n",
              "          element.innerHTML = '';\n",
              "          dataTable['output_type'] = 'display_data';\n",
              "          await google.colab.output.renderOutput(dataTable, element);\n",
              "          const docLink = document.createElement('div');\n",
              "          docLink.innerHTML = docLinkHtml;\n",
              "          element.appendChild(docLink);\n",
              "        }\n",
              "      </script>\n",
              "    </div>\n",
              "  </div>\n",
              "  "
            ]
          },
          "metadata": {},
          "execution_count": 165
        }
      ]
    },
    {
      "cell_type": "code",
      "source": [
        "print(list(bollywood_movies_df.production_cost))"
      ],
      "metadata": {
        "colab": {
          "base_uri": "https://localhost:8080/"
        },
        "id": "08ijGbP-rdOw",
        "outputId": "ecdcadbe-e51d-4016-ff14-04a408de4c11"
      },
      "execution_count": null,
      "outputs": [
        {
          "output_type": "stream",
          "name": "stdout",
          "text": [
            "[601, 627, 330, 364, 562, 353, 583, 254, 528, 470, 125, 60, 101, 110, 60, 252, 281, 227, 484, 402, 408, 601, 593, 729, 402, 530, 708, 599, 439, 762, 292, 636, 444, 286, 636, 667, 252, 335, 457, 632]\n"
          ]
        }
      ]
    },
    {
      "cell_type": "markdown",
      "source": [
        "Hypothesis\n",
        "h0 : mu = 500\n",
        "h1 : mu =! 500\n",
        "we use scipy.stats.ttest.1samp() is used. it takes two parameters:\n",
        "1. a: array_like: sample observation\n",
        "2. popmean: float: expected value of the null hypothesis"
      ],
      "metadata": {
        "id": "UHVt4qzIw-cD"
      }
    },
    {
      "cell_type": "code",
      "execution_count": null,
      "metadata": {
        "colab": {
          "base_uri": "https://localhost:8080/"
        },
        "id": "U-mZZ-8xw-cE",
        "outputId": "fb34e743-b090-4bc3-9dcd-b659c2ede7ab"
      },
      "outputs": [
        {
          "output_type": "execute_result",
          "data": {
            "text/plain": [
              "Ttest_1sampResult(statistic=-2.284553287266754, pvalue=0.0278625564067618)"
            ]
          },
          "metadata": {},
          "execution_count": 167
        }
      ],
      "source": [
        "stats.ttest_1samp(bollywood_movies_df.production_cost,500)"
      ]
    },
    {
      "cell_type": "markdown",
      "source": [
        "As the value is less than 0.05 so we reject the null hypothesis that the production cost is equal to 500."
      ],
      "metadata": {
        "id": "gZ7Uk4GRw-ey"
      }
    },
    {
      "cell_type": "markdown",
      "source": [
        "## Two Sample t-test\n",
        "\n",
        "It is required to test the difference between two population means where standard deviations are unknown. The parameters are estimated from the samples\n",
        "\n",
        "A company claims that children ( in the age group between 7 and 12) who drink their ( the company's) health drink will grow taller than the children who do not drink that health drink. Data in the file healthdrink.xlsx shows the average increase in height over one year period of two groups: one drinking the health drink and the other not drinking the health drink. At alpha = 0.05 level, test whether the increase in height for the children who drink th ehealth drink is different than those who do not drink health drink.\n",
        "\n",
        "The file healthdrink.xlsx contains two tabls healthdrink_yes and healthdrink_no which incldue the respective sample.\n"
      ],
      "metadata": {
        "id": "ojOPxdq2-kB9"
      }
    },
    {
      "cell_type": "code",
      "execution_count": null,
      "metadata": {
        "id": "HyCAIo43w-ey"
      },
      "outputs": [],
      "source": [
        "healthdrink_yes_df = pd.read_excel('/content/drive/MyDrive/1. Documents_2018/healthdrink.xlsx','healthdrink_yes')"
      ]
    },
    {
      "cell_type": "code",
      "source": [
        "healthdrink_yes_df.head()"
      ],
      "metadata": {
        "colab": {
          "base_uri": "https://localhost:8080/",
          "height": 206
        },
        "id": "aPO6Q5-WBXef",
        "outputId": "087447f4-c8dd-47c6-f923-0998b07a5dbe"
      },
      "execution_count": null,
      "outputs": [
        {
          "output_type": "execute_result",
          "data": {
            "text/plain": [
              "   height_increase\n",
              "0              8.6\n",
              "1              5.8\n",
              "2             10.2\n",
              "3              8.5\n",
              "4              6.8"
            ],
            "text/html": [
              "\n",
              "  <div id=\"df-677987b6-73a8-455a-9660-cdf8d6b40661\">\n",
              "    <div class=\"colab-df-container\">\n",
              "      <div>\n",
              "<style scoped>\n",
              "    .dataframe tbody tr th:only-of-type {\n",
              "        vertical-align: middle;\n",
              "    }\n",
              "\n",
              "    .dataframe tbody tr th {\n",
              "        vertical-align: top;\n",
              "    }\n",
              "\n",
              "    .dataframe thead th {\n",
              "        text-align: right;\n",
              "    }\n",
              "</style>\n",
              "<table border=\"1\" class=\"dataframe\">\n",
              "  <thead>\n",
              "    <tr style=\"text-align: right;\">\n",
              "      <th></th>\n",
              "      <th>height_increase</th>\n",
              "    </tr>\n",
              "  </thead>\n",
              "  <tbody>\n",
              "    <tr>\n",
              "      <th>0</th>\n",
              "      <td>8.6</td>\n",
              "    </tr>\n",
              "    <tr>\n",
              "      <th>1</th>\n",
              "      <td>5.8</td>\n",
              "    </tr>\n",
              "    <tr>\n",
              "      <th>2</th>\n",
              "      <td>10.2</td>\n",
              "    </tr>\n",
              "    <tr>\n",
              "      <th>3</th>\n",
              "      <td>8.5</td>\n",
              "    </tr>\n",
              "    <tr>\n",
              "      <th>4</th>\n",
              "      <td>6.8</td>\n",
              "    </tr>\n",
              "  </tbody>\n",
              "</table>\n",
              "</div>\n",
              "      <button class=\"colab-df-convert\" onclick=\"convertToInteractive('df-677987b6-73a8-455a-9660-cdf8d6b40661')\"\n",
              "              title=\"Convert this dataframe to an interactive table.\"\n",
              "              style=\"display:none;\">\n",
              "        \n",
              "  <svg xmlns=\"http://www.w3.org/2000/svg\" height=\"24px\"viewBox=\"0 0 24 24\"\n",
              "       width=\"24px\">\n",
              "    <path d=\"M0 0h24v24H0V0z\" fill=\"none\"/>\n",
              "    <path d=\"M18.56 5.44l.94 2.06.94-2.06 2.06-.94-2.06-.94-.94-2.06-.94 2.06-2.06.94zm-11 1L8.5 8.5l.94-2.06 2.06-.94-2.06-.94L8.5 2.5l-.94 2.06-2.06.94zm10 10l.94 2.06.94-2.06 2.06-.94-2.06-.94-.94-2.06-.94 2.06-2.06.94z\"/><path d=\"M17.41 7.96l-1.37-1.37c-.4-.4-.92-.59-1.43-.59-.52 0-1.04.2-1.43.59L10.3 9.45l-7.72 7.72c-.78.78-.78 2.05 0 2.83L4 21.41c.39.39.9.59 1.41.59.51 0 1.02-.2 1.41-.59l7.78-7.78 2.81-2.81c.8-.78.8-2.07 0-2.86zM5.41 20L4 18.59l7.72-7.72 1.47 1.35L5.41 20z\"/>\n",
              "  </svg>\n",
              "      </button>\n",
              "      \n",
              "  <style>\n",
              "    .colab-df-container {\n",
              "      display:flex;\n",
              "      flex-wrap:wrap;\n",
              "      gap: 12px;\n",
              "    }\n",
              "\n",
              "    .colab-df-convert {\n",
              "      background-color: #E8F0FE;\n",
              "      border: none;\n",
              "      border-radius: 50%;\n",
              "      cursor: pointer;\n",
              "      display: none;\n",
              "      fill: #1967D2;\n",
              "      height: 32px;\n",
              "      padding: 0 0 0 0;\n",
              "      width: 32px;\n",
              "    }\n",
              "\n",
              "    .colab-df-convert:hover {\n",
              "      background-color: #E2EBFA;\n",
              "      box-shadow: 0px 1px 2px rgba(60, 64, 67, 0.3), 0px 1px 3px 1px rgba(60, 64, 67, 0.15);\n",
              "      fill: #174EA6;\n",
              "    }\n",
              "\n",
              "    [theme=dark] .colab-df-convert {\n",
              "      background-color: #3B4455;\n",
              "      fill: #D2E3FC;\n",
              "    }\n",
              "\n",
              "    [theme=dark] .colab-df-convert:hover {\n",
              "      background-color: #434B5C;\n",
              "      box-shadow: 0px 1px 3px 1px rgba(0, 0, 0, 0.15);\n",
              "      filter: drop-shadow(0px 1px 2px rgba(0, 0, 0, 0.3));\n",
              "      fill: #FFFFFF;\n",
              "    }\n",
              "  </style>\n",
              "\n",
              "      <script>\n",
              "        const buttonEl =\n",
              "          document.querySelector('#df-677987b6-73a8-455a-9660-cdf8d6b40661 button.colab-df-convert');\n",
              "        buttonEl.style.display =\n",
              "          google.colab.kernel.accessAllowed ? 'block' : 'none';\n",
              "\n",
              "        async function convertToInteractive(key) {\n",
              "          const element = document.querySelector('#df-677987b6-73a8-455a-9660-cdf8d6b40661');\n",
              "          const dataTable =\n",
              "            await google.colab.kernel.invokeFunction('convertToInteractive',\n",
              "                                                     [key], {});\n",
              "          if (!dataTable) return;\n",
              "\n",
              "          const docLinkHtml = 'Like what you see? Visit the ' +\n",
              "            '<a target=\"_blank\" href=https://colab.research.google.com/notebooks/data_table.ipynb>data table notebook</a>'\n",
              "            + ' to learn more about interactive tables.';\n",
              "          element.innerHTML = '';\n",
              "          dataTable['output_type'] = 'display_data';\n",
              "          await google.colab.output.renderOutput(dataTable, element);\n",
              "          const docLink = document.createElement('div');\n",
              "          docLink.innerHTML = docLinkHtml;\n",
              "          element.appendChild(docLink);\n",
              "        }\n",
              "      </script>\n",
              "    </div>\n",
              "  </div>\n",
              "  "
            ]
          },
          "metadata": {},
          "execution_count": 169
        }
      ]
    },
    {
      "cell_type": "code",
      "source": [
        "healthdrink_yes_df.columns"
      ],
      "metadata": {
        "colab": {
          "base_uri": "https://localhost:8080/"
        },
        "id": "HiRHAXExBAdu",
        "outputId": "442d5d16-a071-4ae9-bb88-be8367407fc0"
      },
      "execution_count": null,
      "outputs": [
        {
          "output_type": "execute_result",
          "data": {
            "text/plain": [
              "Index(['height_increase'], dtype='object')"
            ]
          },
          "metadata": {},
          "execution_count": 170
        }
      ]
    },
    {
      "cell_type": "code",
      "source": [
        "healthdrink_no_df = pd.read_excel('/content/drive/MyDrive/1. Documents_2018/healthdrink.xlsx','healthdrink_no')\n",
        "healthdrink_no_df.head()"
      ],
      "metadata": {
        "colab": {
          "base_uri": "https://localhost:8080/",
          "height": 206
        },
        "id": "fr1xryFSBFec",
        "outputId": "fbcb77ce-539c-47e7-bdaf-435cfc4d13b8"
      },
      "execution_count": null,
      "outputs": [
        {
          "output_type": "execute_result",
          "data": {
            "text/plain": [
              "   height_increase\n",
              "0              5.3\n",
              "1              9.0\n",
              "2              5.7\n",
              "3              5.5\n",
              "4              5.4"
            ],
            "text/html": [
              "\n",
              "  <div id=\"df-e4582141-39bd-46ad-9f42-38b8a5152254\">\n",
              "    <div class=\"colab-df-container\">\n",
              "      <div>\n",
              "<style scoped>\n",
              "    .dataframe tbody tr th:only-of-type {\n",
              "        vertical-align: middle;\n",
              "    }\n",
              "\n",
              "    .dataframe tbody tr th {\n",
              "        vertical-align: top;\n",
              "    }\n",
              "\n",
              "    .dataframe thead th {\n",
              "        text-align: right;\n",
              "    }\n",
              "</style>\n",
              "<table border=\"1\" class=\"dataframe\">\n",
              "  <thead>\n",
              "    <tr style=\"text-align: right;\">\n",
              "      <th></th>\n",
              "      <th>height_increase</th>\n",
              "    </tr>\n",
              "  </thead>\n",
              "  <tbody>\n",
              "    <tr>\n",
              "      <th>0</th>\n",
              "      <td>5.3</td>\n",
              "    </tr>\n",
              "    <tr>\n",
              "      <th>1</th>\n",
              "      <td>9.0</td>\n",
              "    </tr>\n",
              "    <tr>\n",
              "      <th>2</th>\n",
              "      <td>5.7</td>\n",
              "    </tr>\n",
              "    <tr>\n",
              "      <th>3</th>\n",
              "      <td>5.5</td>\n",
              "    </tr>\n",
              "    <tr>\n",
              "      <th>4</th>\n",
              "      <td>5.4</td>\n",
              "    </tr>\n",
              "  </tbody>\n",
              "</table>\n",
              "</div>\n",
              "      <button class=\"colab-df-convert\" onclick=\"convertToInteractive('df-e4582141-39bd-46ad-9f42-38b8a5152254')\"\n",
              "              title=\"Convert this dataframe to an interactive table.\"\n",
              "              style=\"display:none;\">\n",
              "        \n",
              "  <svg xmlns=\"http://www.w3.org/2000/svg\" height=\"24px\"viewBox=\"0 0 24 24\"\n",
              "       width=\"24px\">\n",
              "    <path d=\"M0 0h24v24H0V0z\" fill=\"none\"/>\n",
              "    <path d=\"M18.56 5.44l.94 2.06.94-2.06 2.06-.94-2.06-.94-.94-2.06-.94 2.06-2.06.94zm-11 1L8.5 8.5l.94-2.06 2.06-.94-2.06-.94L8.5 2.5l-.94 2.06-2.06.94zm10 10l.94 2.06.94-2.06 2.06-.94-2.06-.94-.94-2.06-.94 2.06-2.06.94z\"/><path d=\"M17.41 7.96l-1.37-1.37c-.4-.4-.92-.59-1.43-.59-.52 0-1.04.2-1.43.59L10.3 9.45l-7.72 7.72c-.78.78-.78 2.05 0 2.83L4 21.41c.39.39.9.59 1.41.59.51 0 1.02-.2 1.41-.59l7.78-7.78 2.81-2.81c.8-.78.8-2.07 0-2.86zM5.41 20L4 18.59l7.72-7.72 1.47 1.35L5.41 20z\"/>\n",
              "  </svg>\n",
              "      </button>\n",
              "      \n",
              "  <style>\n",
              "    .colab-df-container {\n",
              "      display:flex;\n",
              "      flex-wrap:wrap;\n",
              "      gap: 12px;\n",
              "    }\n",
              "\n",
              "    .colab-df-convert {\n",
              "      background-color: #E8F0FE;\n",
              "      border: none;\n",
              "      border-radius: 50%;\n",
              "      cursor: pointer;\n",
              "      display: none;\n",
              "      fill: #1967D2;\n",
              "      height: 32px;\n",
              "      padding: 0 0 0 0;\n",
              "      width: 32px;\n",
              "    }\n",
              "\n",
              "    .colab-df-convert:hover {\n",
              "      background-color: #E2EBFA;\n",
              "      box-shadow: 0px 1px 2px rgba(60, 64, 67, 0.3), 0px 1px 3px 1px rgba(60, 64, 67, 0.15);\n",
              "      fill: #174EA6;\n",
              "    }\n",
              "\n",
              "    [theme=dark] .colab-df-convert {\n",
              "      background-color: #3B4455;\n",
              "      fill: #D2E3FC;\n",
              "    }\n",
              "\n",
              "    [theme=dark] .colab-df-convert:hover {\n",
              "      background-color: #434B5C;\n",
              "      box-shadow: 0px 1px 3px 1px rgba(0, 0, 0, 0.15);\n",
              "      filter: drop-shadow(0px 1px 2px rgba(0, 0, 0, 0.3));\n",
              "      fill: #FFFFFF;\n",
              "    }\n",
              "  </style>\n",
              "\n",
              "      <script>\n",
              "        const buttonEl =\n",
              "          document.querySelector('#df-e4582141-39bd-46ad-9f42-38b8a5152254 button.colab-df-convert');\n",
              "        buttonEl.style.display =\n",
              "          google.colab.kernel.accessAllowed ? 'block' : 'none';\n",
              "\n",
              "        async function convertToInteractive(key) {\n",
              "          const element = document.querySelector('#df-e4582141-39bd-46ad-9f42-38b8a5152254');\n",
              "          const dataTable =\n",
              "            await google.colab.kernel.invokeFunction('convertToInteractive',\n",
              "                                                     [key], {});\n",
              "          if (!dataTable) return;\n",
              "\n",
              "          const docLinkHtml = 'Like what you see? Visit the ' +\n",
              "            '<a target=\"_blank\" href=https://colab.research.google.com/notebooks/data_table.ipynb>data table notebook</a>'\n",
              "            + ' to learn more about interactive tables.';\n",
              "          element.innerHTML = '';\n",
              "          dataTable['output_type'] = 'display_data';\n",
              "          await google.colab.output.renderOutput(dataTable, element);\n",
              "          const docLink = document.createElement('div');\n",
              "          docLink.innerHTML = docLinkHtml;\n",
              "          element.appendChild(docLink);\n",
              "        }\n",
              "      </script>\n",
              "    </div>\n",
              "  </div>\n",
              "  "
            ]
          },
          "metadata": {},
          "execution_count": 171
        }
      ]
    },
    {
      "cell_type": "code",
      "source": [
        "sn.histplot(healthdrink_yes_df['height_increase'],label='healthdrink_yes',color='yellow')\n",
        "sn.histplot(healthdrink_no_df['height_increase'],label='healthdrink_no',alpha=0.05)\n",
        "plt.legend();"
      ],
      "metadata": {
        "colab": {
          "base_uri": "https://localhost:8080/",
          "height": 280
        },
        "id": "9___LDlQBTzp",
        "outputId": "4ca862aa-c520-4c2d-d71e-98d46b6e13da"
      },
      "execution_count": null,
      "outputs": [
        {
          "output_type": "display_data",
          "data": {
            "text/plain": [
              "<Figure size 432x288 with 1 Axes>"
            ],
            "image/png": "[encoded data removed]"
          },
          "metadata": {
            "needs_background": "light"
          }
        }
      ]
    },
    {
      "cell_type": "markdown",
      "source": [
        "We can see that distribution is right for those who have taken health drink, lets calculate the t statistics. scipy.stats.ttest_ind() method takes two independient samples and returns the test statistics"
      ],
      "metadata": {
        "id": "ntpwbKv4EwY3"
      }
    },
    {
      "cell_type": "code",
      "source": [
        "stats.ttest_ind(healthdrink_yes_df['height_increase'],healthdrink_no_df['height_increase'])"
      ],
      "metadata": {
        "colab": {
          "base_uri": "https://localhost:8080/"
        },
        "id": "nArdssy3BuIS",
        "outputId": "2bdf66d6-baa5-4b7e-c84d-88046f8ea49c"
      },
      "execution_count": null,
      "outputs": [
        {
          "output_type": "execute_result",
          "data": {
            "text/plain": [
              "Ttest_indResult(statistic=8.131675069083359, pvalue=1.197698592263946e-13)"
            ]
          },
          "metadata": {},
          "execution_count": 173
        }
      ]
    },
    {
      "cell_type": "markdown",
      "source": [
        "P value is very small so the increase in height for those who had health drink is significantly different than those who did not"
      ],
      "metadata": {
        "id": "aLzdHGNYFdWF"
      }
    },
    {
      "cell_type": "markdown",
      "source": [
        "## Paired Sample t-test ( Before and After)"
      ],
      "metadata": {
        "id": "ypc-piygGMMQ"
      }
    },
    {
      "cell_type": "markdown",
      "source": [
        "The file breakups.csv contains alcohol consumpiton before and after breakup. consider a paired t-test to check whether the alcohol consumption is more afterh the breakup at 95% confidence ( alpha=0.05)"
      ],
      "metadata": {
        "id": "JwhV_J-HGUiQ"
      }
    },
    {
      "cell_type": "code",
      "source": [
        "breakups_df=pd.read_csv('https://raw.githubusercontent.com/manaranjanp/MLUsingPythonBook/main/data/breakups.csv')\n",
        "breakups_df.head()"
      ],
      "metadata": {
        "colab": {
          "base_uri": "https://localhost:8080/",
          "height": 206
        },
        "id": "Pu_1Iy-_GLZm",
        "outputId": "374a1c72-5d64-46d4-8bc9-6dcd36917089"
      },
      "execution_count": null,
      "outputs": [
        {
          "output_type": "execute_result",
          "data": {
            "text/plain": [
              "   Before_Breakup  After_Breakup\n",
              "0             470            408\n",
              "1             354            439\n",
              "2             496            321\n",
              "3             351            437\n",
              "4             349            335"
            ],
            "text/html": [
              "\n",
              "  <div id=\"df-53c6c19f-bd19-4b15-9e4c-62c7cc3041f7\">\n",
              "    <div class=\"colab-df-container\">\n",
              "      <div>\n",
              "<style scoped>\n",
              "    .dataframe tbody tr th:only-of-type {\n",
              "        vertical-align: middle;\n",
              "    }\n",
              "\n",
              "    .dataframe tbody tr th {\n",
              "        vertical-align: top;\n",
              "    }\n",
              "\n",
              "    .dataframe thead th {\n",
              "        text-align: right;\n",
              "    }\n",
              "</style>\n",
              "<table border=\"1\" class=\"dataframe\">\n",
              "  <thead>\n",
              "    <tr style=\"text-align: right;\">\n",
              "      <th></th>\n",
              "      <th>Before_Breakup</th>\n",
              "      <th>After_Breakup</th>\n",
              "    </tr>\n",
              "  </thead>\n",
              "  <tbody>\n",
              "    <tr>\n",
              "      <th>0</th>\n",
              "      <td>470</td>\n",
              "      <td>408</td>\n",
              "    </tr>\n",
              "    <tr>\n",
              "      <th>1</th>\n",
              "      <td>354</td>\n",
              "      <td>439</td>\n",
              "    </tr>\n",
              "    <tr>\n",
              "      <th>2</th>\n",
              "      <td>496</td>\n",
              "      <td>321</td>\n",
              "    </tr>\n",
              "    <tr>\n",
              "      <th>3</th>\n",
              "      <td>351</td>\n",
              "      <td>437</td>\n",
              "    </tr>\n",
              "    <tr>\n",
              "      <th>4</th>\n",
              "      <td>349</td>\n",
              "      <td>335</td>\n",
              "    </tr>\n",
              "  </tbody>\n",
              "</table>\n",
              "</div>\n",
              "      <button class=\"colab-df-convert\" onclick=\"convertToInteractive('df-53c6c19f-bd19-4b15-9e4c-62c7cc3041f7')\"\n",
              "              title=\"Convert this dataframe to an interactive table.\"\n",
              "              style=\"display:none;\">\n",
              "        \n",
              "  <svg xmlns=\"http://www.w3.org/2000/svg\" height=\"24px\"viewBox=\"0 0 24 24\"\n",
              "       width=\"24px\">\n",
              "    <path d=\"M0 0h24v24H0V0z\" fill=\"none\"/>\n",
              "    <path d=\"M18.56 5.44l.94 2.06.94-2.06 2.06-.94-2.06-.94-.94-2.06-.94 2.06-2.06.94zm-11 1L8.5 8.5l.94-2.06 2.06-.94-2.06-.94L8.5 2.5l-.94 2.06-2.06.94zm10 10l.94 2.06.94-2.06 2.06-.94-2.06-.94-.94-2.06-.94 2.06-2.06.94z\"/><path d=\"M17.41 7.96l-1.37-1.37c-.4-.4-.92-.59-1.43-.59-.52 0-1.04.2-1.43.59L10.3 9.45l-7.72 7.72c-.78.78-.78 2.05 0 2.83L4 21.41c.39.39.9.59 1.41.59.51 0 1.02-.2 1.41-.59l7.78-7.78 2.81-2.81c.8-.78.8-2.07 0-2.86zM5.41 20L4 18.59l7.72-7.72 1.47 1.35L5.41 20z\"/>\n",
              "  </svg>\n",
              "      </button>\n",
              "      \n",
              "  <style>\n",
              "    .colab-df-container {\n",
              "      display:flex;\n",
              "      flex-wrap:wrap;\n",
              "      gap: 12px;\n",
              "    }\n",
              "\n",
              "    .colab-df-convert {\n",
              "      background-color: #E8F0FE;\n",
              "      border: none;\n",
              "      border-radius: 50%;\n",
              "      cursor: pointer;\n",
              "      display: none;\n",
              "      fill: #1967D2;\n",
              "      height: 32px;\n",
              "      padding: 0 0 0 0;\n",
              "      width: 32px;\n",
              "    }\n",
              "\n",
              "    .colab-df-convert:hover {\n",
              "      background-color: #E2EBFA;\n",
              "      box-shadow: 0px 1px 2px rgba(60, 64, 67, 0.3), 0px 1px 3px 1px rgba(60, 64, 67, 0.15);\n",
              "      fill: #174EA6;\n",
              "    }\n",
              "\n",
              "    [theme=dark] .colab-df-convert {\n",
              "      background-color: #3B4455;\n",
              "      fill: #D2E3FC;\n",
              "    }\n",
              "\n",
              "    [theme=dark] .colab-df-convert:hover {\n",
              "      background-color: #434B5C;\n",
              "      box-shadow: 0px 1px 3px 1px rgba(0, 0, 0, 0.15);\n",
              "      filter: drop-shadow(0px 1px 2px rgba(0, 0, 0, 0.3));\n",
              "      fill: #FFFFFF;\n",
              "    }\n",
              "  </style>\n",
              "\n",
              "      <script>\n",
              "        const buttonEl =\n",
              "          document.querySelector('#df-53c6c19f-bd19-4b15-9e4c-62c7cc3041f7 button.colab-df-convert');\n",
              "        buttonEl.style.display =\n",
              "          google.colab.kernel.accessAllowed ? 'block' : 'none';\n",
              "\n",
              "        async function convertToInteractive(key) {\n",
              "          const element = document.querySelector('#df-53c6c19f-bd19-4b15-9e4c-62c7cc3041f7');\n",
              "          const dataTable =\n",
              "            await google.colab.kernel.invokeFunction('convertToInteractive',\n",
              "                                                     [key], {});\n",
              "          if (!dataTable) return;\n",
              "\n",
              "          const docLinkHtml = 'Like what you see? Visit the ' +\n",
              "            '<a target=\"_blank\" href=https://colab.research.google.com/notebooks/data_table.ipynb>data table notebook</a>'\n",
              "            + ' to learn more about interactive tables.';\n",
              "          element.innerHTML = '';\n",
              "          dataTable['output_type'] = 'display_data';\n",
              "          await google.colab.output.renderOutput(dataTable, element);\n",
              "          const docLink = document.createElement('div');\n",
              "          docLink.innerHTML = docLinkHtml;\n",
              "          element.appendChild(docLink);\n",
              "        }\n",
              "      </script>\n",
              "    </div>\n",
              "  </div>\n",
              "  "
            ]
          },
          "metadata": {},
          "execution_count": 174
        }
      ]
    },
    {
      "cell_type": "markdown",
      "source": [
        "Lets make the distribution plot"
      ],
      "metadata": {
        "id": "QPIhGtmDHgaS"
      }
    },
    {
      "cell_type": "code",
      "source": [
        "sn.histplot(breakups_df['Before_Breakup'],label = 'Before_Breakup',color=\"yellow\")\n",
        "sn.histplot(breakups_df['After_Breakup'],label = 'After_Breakup',alpha=0.05)\n",
        "plt.legend();"
      ],
      "metadata": {
        "colab": {
          "base_uri": "https://localhost:8080/",
          "height": 280
        },
        "id": "UwhumaLKFcrK",
        "outputId": "e924e0a5-a05e-4bef-ca74-ec3db3a6782b"
      },
      "execution_count": null,
      "outputs": [
        {
          "output_type": "display_data",
          "data": {
            "text/plain": [
              "<Figure size 432x288 with 1 Axes>"
            ],
            "image/png": "[encoded data removed]"
          },
          "metadata": {
            "needs_background": "light"
          }
        }
      ]
    },
    {
      "cell_type": "markdown",
      "source": [
        "Lets now use the paired t-test"
      ],
      "metadata": {
        "id": "or-eLnK7INJY"
      }
    },
    {
      "cell_type": "code",
      "source": [
        "stats.ttest_rel(breakups_df['Before_Breakup'],breakups_df['After_Breakup'])"
      ],
      "metadata": {
        "colab": {
          "base_uri": "https://localhost:8080/"
        },
        "id": "NMKSqh-JFRy8",
        "outputId": "83456adc-8a10-4c8f-c5a9-44f929fe9b3e"
      },
      "execution_count": null,
      "outputs": [
        {
          "output_type": "execute_result",
          "data": {
            "text/plain": [
              "Ttest_relResult(statistic=-0.5375404241815105, pvalue=0.5971346738292477)"
            ]
          },
          "metadata": {},
          "execution_count": 176
        }
      ]
    },
    {
      "cell_type": "markdown",
      "source": [
        "As the p value is more than 0.05 so null cannot be rejected that there is no difference in the consumption of alcohol before and after the breakup"
      ],
      "metadata": {
        "id": "e398oW0vIdSo"
      }
    },
    {
      "cell_type": "markdown",
      "source": [
        "# Chi Square Goodness of Fit Test\n",
        "It is a non parameteric test used for comparing the observed distribution of data with the expected distribution of the data to decide whether there is any statistically significant difference between the observed distribution and a theoretical distribution.\n",
        "\n",
        "Hanuman Airlines ( HA) operated daily flights to several Indian cities. One of the problems HA faces is the food preferences by the passengers. Captain Cook, the operatins manager of HA, believes that 35% of their passengers prefer vegetarian food, 40% prefer non vegetarian food, 20% low calorie food, and 5% request for diabetic food. A sample of 500 passengers was chosen to analyze the food preferences and their observed frequencies are as follows:\n",
        "\n",
        "1. Vegetarian : 190\n",
        "2. Non-vegetarian: 185\n",
        "3. Low Calorie: 90\n",
        "4. Diabetic: 35\n",
        "Conduct a chi-square test to check whether Captain Cook's belief is true at alpha = 0.05\n",
        "\n",
        "The scipy.stats.chisquare method is used for chi square test. It takes the following parmeters:\n",
        "1. f_obs: array_like: Observed frequency in each category\n",
        "2. f_exp: array_like: Expected frequencies in each category"
      ],
      "metadata": {
        "id": "4ktE7yhgI1wk"
      }
    },
    {
      "cell_type": "code",
      "source": [
        "## Observed frequencies\n",
        "f_obs = [190,185,90,35]\n",
        "## Expected frequencies from the percentages expected\n",
        "f_exp = [500*.35,500*0.4,500*.2,500*0.05]\n",
        "print(f_exp)"
      ],
      "metadata": {
        "colab": {
          "base_uri": "https://localhost:8080/"
        },
        "id": "NHcFG0t8Ibq_",
        "outputId": "91747130-86cf-4053-d809-71b042eefc77"
      },
      "execution_count": null,
      "outputs": [
        {
          "output_type": "stream",
          "name": "stdout",
          "text": [
            "[175.0, 200.0, 100.0, 25.0]\n"
          ]
        }
      ]
    },
    {
      "cell_type": "code",
      "source": [
        "stats.chisquare(f_obs,f_exp)"
      ],
      "metadata": {
        "colab": {
          "base_uri": "https://localhost:8080/"
        },
        "id": "V_qg4vEtTezp",
        "outputId": "12f4abbc-1886-40fc-af01-e19733520182"
      },
      "execution_count": null,
      "outputs": [
        {
          "output_type": "execute_result",
          "data": {
            "text/plain": [
              "Power_divergenceResult(statistic=7.410714285714286, pvalue=0.05989751420084909)"
            ]
          },
          "metadata": {},
          "execution_count": 178
        }
      ]
    },
    {
      "cell_type": "markdown",
      "source": [
        "As p value is more than 5% so we retain the original hypothesis that the Captain Cook's belief is true"
      ],
      "metadata": {
        "id": "0cflydepTs6q"
      }
    },
    {
      "cell_type": "markdown",
      "source": [
        "# ANOVA\n",
        "A marketer may wants to understand the impact of three different discount levels ( such as 0%, 10% and 20% disocunt) on the average sale.\n",
        "\n",
        "ONE WAY ANOVA is used to study the impact of a single treatment ( also known as factor) at different levels ( thus forming different groups) on a continuous response variable ( or outcome variable)\n",
        "thus the h0 is mu1=mu2=m3 and h1 is : Not all mu values are equal, note that some of groups could be equal\n",
        "\n",
        "Ms Rachael Khanna the brand manger of ENZO detergent poweder at the 'one-stop' retail was interested in understanding whether the price discounts have any impact on the sales quantity of ENZO. To test whether the price discounts had any impact, price discounts of 0%( no discount), 10% and 20% were given on randomly selected days. The quantity ( in kg) of ENZO sold in a day under different discount levels is shown in onestop.csv. Conduct a one way ANOVA to check whether discounts had any significant impact on the average sales quantity at alpha = 0.05"
      ],
      "metadata": {
        "id": "XF_akav1VPeZ"
      }
    },
    {
      "cell_type": "code",
      "source": [
        "onestop_df = pd.read_csv(\"https://raw.githubusercontent.com/manaranjanp/MLUsingPythonBook/main/data/onestop.csv\")\n",
        "onestop_df.head()"
      ],
      "metadata": {
        "id": "Ea4Bl55zTseZ",
        "colab": {
          "base_uri": "https://localhost:8080/",
          "height": 206
        },
        "outputId": "3173540d-4b62-4dc3-d6c9-07e1cee59fa1"
      },
      "execution_count": null,
      "outputs": [
        {
          "output_type": "execute_result",
          "data": {
            "text/plain": [
              "   discount_0  discount_10  discount_20\n",
              "0          39           34           42\n",
              "1          32           41           43\n",
              "2          25           45           44\n",
              "3          25           39           46\n",
              "4          37           38           41"
            ],
            "text/html": [
              "\n",
              "  <div id=\"df-dfc7fc3b-6e31-45f2-b02c-7f157f1586bb\">\n",
              "    <div class=\"colab-df-container\">\n",
              "      <div>\n",
              "<style scoped>\n",
              "    .dataframe tbody tr th:only-of-type {\n",
              "        vertical-align: middle;\n",
              "    }\n",
              "\n",
              "    .dataframe tbody tr th {\n",
              "        vertical-align: top;\n",
              "    }\n",
              "\n",
              "    .dataframe thead th {\n",
              "        text-align: right;\n",
              "    }\n",
              "</style>\n",
              "<table border=\"1\" class=\"dataframe\">\n",
              "  <thead>\n",
              "    <tr style=\"text-align: right;\">\n",
              "      <th></th>\n",
              "      <th>discount_0</th>\n",
              "      <th>discount_10</th>\n",
              "      <th>discount_20</th>\n",
              "    </tr>\n",
              "  </thead>\n",
              "  <tbody>\n",
              "    <tr>\n",
              "      <th>0</th>\n",
              "      <td>39</td>\n",
              "      <td>34</td>\n",
              "      <td>42</td>\n",
              "    </tr>\n",
              "    <tr>\n",
              "      <th>1</th>\n",
              "      <td>32</td>\n",
              "      <td>41</td>\n",
              "      <td>43</td>\n",
              "    </tr>\n",
              "    <tr>\n",
              "      <th>2</th>\n",
              "      <td>25</td>\n",
              "      <td>45</td>\n",
              "      <td>44</td>\n",
              "    </tr>\n",
              "    <tr>\n",
              "      <th>3</th>\n",
              "      <td>25</td>\n",
              "      <td>39</td>\n",
              "      <td>46</td>\n",
              "    </tr>\n",
              "    <tr>\n",
              "      <th>4</th>\n",
              "      <td>37</td>\n",
              "      <td>38</td>\n",
              "      <td>41</td>\n",
              "    </tr>\n",
              "  </tbody>\n",
              "</table>\n",
              "</div>\n",
              "      <button class=\"colab-df-convert\" onclick=\"convertToInteractive('df-dfc7fc3b-6e31-45f2-b02c-7f157f1586bb')\"\n",
              "              title=\"Convert this dataframe to an interactive table.\"\n",
              "              style=\"display:none;\">\n",
              "        \n",
              "  <svg xmlns=\"http://www.w3.org/2000/svg\" height=\"24px\"viewBox=\"0 0 24 24\"\n",
              "       width=\"24px\">\n",
              "    <path d=\"M0 0h24v24H0V0z\" fill=\"none\"/>\n",
              "    <path d=\"M18.56 5.44l.94 2.06.94-2.06 2.06-.94-2.06-.94-.94-2.06-.94 2.06-2.06.94zm-11 1L8.5 8.5l.94-2.06 2.06-.94-2.06-.94L8.5 2.5l-.94 2.06-2.06.94zm10 10l.94 2.06.94-2.06 2.06-.94-2.06-.94-.94-2.06-.94 2.06-2.06.94z\"/><path d=\"M17.41 7.96l-1.37-1.37c-.4-.4-.92-.59-1.43-.59-.52 0-1.04.2-1.43.59L10.3 9.45l-7.72 7.72c-.78.78-.78 2.05 0 2.83L4 21.41c.39.39.9.59 1.41.59.51 0 1.02-.2 1.41-.59l7.78-7.78 2.81-2.81c.8-.78.8-2.07 0-2.86zM5.41 20L4 18.59l7.72-7.72 1.47 1.35L5.41 20z\"/>\n",
              "  </svg>\n",
              "      </button>\n",
              "      \n",
              "  <style>\n",
              "    .colab-df-container {\n",
              "      display:flex;\n",
              "      flex-wrap:wrap;\n",
              "      gap: 12px;\n",
              "    }\n",
              "\n",
              "    .colab-df-convert {\n",
              "      background-color: #E8F0FE;\n",
              "      border: none;\n",
              "      border-radius: 50%;\n",
              "      cursor: pointer;\n",
              "      display: none;\n",
              "      fill: #1967D2;\n",
              "      height: 32px;\n",
              "      padding: 0 0 0 0;\n",
              "      width: 32px;\n",
              "    }\n",
              "\n",
              "    .colab-df-convert:hover {\n",
              "      background-color: #E2EBFA;\n",
              "      box-shadow: 0px 1px 2px rgba(60, 64, 67, 0.3), 0px 1px 3px 1px rgba(60, 64, 67, 0.15);\n",
              "      fill: #174EA6;\n",
              "    }\n",
              "\n",
              "    [theme=dark] .colab-df-convert {\n",
              "      background-color: #3B4455;\n",
              "      fill: #D2E3FC;\n",
              "    }\n",
              "\n",
              "    [theme=dark] .colab-df-convert:hover {\n",
              "      background-color: #434B5C;\n",
              "      box-shadow: 0px 1px 3px 1px rgba(0, 0, 0, 0.15);\n",
              "      filter: drop-shadow(0px 1px 2px rgba(0, 0, 0, 0.3));\n",
              "      fill: #FFFFFF;\n",
              "    }\n",
              "  </style>\n",
              "\n",
              "      <script>\n",
              "        const buttonEl =\n",
              "          document.querySelector('#df-dfc7fc3b-6e31-45f2-b02c-7f157f1586bb button.colab-df-convert');\n",
              "        buttonEl.style.display =\n",
              "          google.colab.kernel.accessAllowed ? 'block' : 'none';\n",
              "\n",
              "        async function convertToInteractive(key) {\n",
              "          const element = document.querySelector('#df-dfc7fc3b-6e31-45f2-b02c-7f157f1586bb');\n",
              "          const dataTable =\n",
              "            await google.colab.kernel.invokeFunction('convertToInteractive',\n",
              "                                                     [key], {});\n",
              "          if (!dataTable) return;\n",
              "\n",
              "          const docLinkHtml = 'Like what you see? Visit the ' +\n",
              "            '<a target=\"_blank\" href=https://colab.research.google.com/notebooks/data_table.ipynb>data table notebook</a>'\n",
              "            + ' to learn more about interactive tables.';\n",
              "          element.innerHTML = '';\n",
              "          dataTable['output_type'] = 'display_data';\n",
              "          await google.colab.output.renderOutput(dataTable, element);\n",
              "          const docLink = document.createElement('div');\n",
              "          docLink.innerHTML = docLinkHtml;\n",
              "          element.appendChild(docLink);\n",
              "        }\n",
              "      </script>\n",
              "    </div>\n",
              "  </div>\n",
              "  "
            ]
          },
          "metadata": {},
          "execution_count": 179
        }
      ]
    },
    {
      "cell_type": "code",
      "source": [
        "sn.histplot(onestop_df['discount_0'],label='No Discount',color='yellow')\n",
        "sn.histplot(onestop_df['discount_10'],label='10% Discount',color = 'green')\n",
        "sn.histplot(onestop_df['discount_20'],label='20% Discount')\n",
        "plt.legend();"
      ],
      "metadata": {
        "id": "PtXBfCLMTkyh",
        "colab": {
          "base_uri": "https://localhost:8080/",
          "height": 280
        },
        "outputId": "8c8ed408-2a29-44f3-ce9a-2225b2cc0a8c"
      },
      "execution_count": null,
      "outputs": [
        {
          "output_type": "display_data",
          "data": {
            "text/plain": [
              "<Figure size 432x288 with 1 Axes>"
            ],
            "image/png": "[encoded data removed]"
          },
          "metadata": {
            "needs_background": "light"
          }
        }
      ]
    },
    {
      "cell_type": "code",
      "source": [
        "from scipy.stats import f_oneway\n",
        "\n",
        "f_oneway(onestop_df['discount_0'],\n",
        "         onestop_df['discount_10'],\n",
        "         onestop_df['discount_20'])\n"
      ],
      "metadata": {
        "colab": {
          "base_uri": "https://localhost:8080/"
        },
        "id": "BNyorx_PbWPm",
        "outputId": "11ef3b6f-3ace-47c2-dde1-f66bc17c4293"
      },
      "execution_count": null,
      "outputs": [
        {
          "output_type": "execute_result",
          "data": {
            "text/plain": [
              "F_onewayResult(statistic=65.86986401283694, pvalue=3.821500669725641e-18)"
            ]
          },
          "metadata": {},
          "execution_count": 181
        }
      ]
    },
    {
      "cell_type": "markdown",
      "source": [
        "As p value is less than 0.05, we reject the null hypothesis, and conclude that all the discounts are not equal.\n",
        "\n",
        "# Simple Linear Regression"
      ],
      "metadata": {
        "id": "Ucgp1KR4b7x_"
      }
    },
    {
      "cell_type": "code",
      "source": [
        "np.set_printoptions(precision=4,linewidth=100)"
      ],
      "metadata": {
        "id": "tl9XptuwPVgL"
      },
      "execution_count": null,
      "outputs": []
    },
    {
      "cell_type": "code",
      "source": [
        "mba_salary_df = pd.read_csv(\"https://raw.githubusercontent.com/manaranjanp/MLUsingPythonBook/main/data/MBA%20Salary.csv\")\n",
        "mba_salary_df.head(10)"
      ],
      "metadata": {
        "id": "pPVNJV8nb5ng",
        "colab": {
          "base_uri": "https://localhost:8080/",
          "height": 363
        },
        "outputId": "d8a8ff5e-7481-4eae-a4ae-80fdd57d2108"
      },
      "execution_count": null,
      "outputs": [
        {
          "output_type": "execute_result",
          "data": {
            "text/plain": [
              "   S. No.  Percentage in Grade 10  Salary\n",
              "0       1                   62.00  270000\n",
              "1       2                   76.33  200000\n",
              "2       3                   72.00  240000\n",
              "3       4                   60.00  250000\n",
              "4       5                   61.00  180000\n",
              "5       6                   55.00  300000\n",
              "6       7                   70.00  260000\n",
              "7       8                   68.00  235000\n",
              "8       9                   82.80  425000\n",
              "9      10                   59.00  240000"
            ],
            "text/html": [
              "\n",
              "  <div id=\"df-d6e0456d-eb79-4506-a094-b20ccee87a8f\">\n",
              "    <div class=\"colab-df-container\">\n",
              "      <div>\n",
              "<style scoped>\n",
              "    .dataframe tbody tr th:only-of-type {\n",
              "        vertical-align: middle;\n",
              "    }\n",
              "\n",
              "    .dataframe tbody tr th {\n",
              "        vertical-align: top;\n",
              "    }\n",
              "\n",
              "    .dataframe thead th {\n",
              "        text-align: right;\n",
              "    }\n",
              "</style>\n",
              "<table border=\"1\" class=\"dataframe\">\n",
              "  <thead>\n",
              "    <tr style=\"text-align: right;\">\n",
              "      <th></th>\n",
              "      <th>S. No.</th>\n",
              "      <th>Percentage in Grade 10</th>\n",
              "      <th>Salary</th>\n",
              "    </tr>\n",
              "  </thead>\n",
              "  <tbody>\n",
              "    <tr>\n",
              "      <th>0</th>\n",
              "      <td>1</td>\n",
              "      <td>62.00</td>\n",
              "      <td>270000</td>\n",
              "    </tr>\n",
              "    <tr>\n",
              "      <th>1</th>\n",
              "      <td>2</td>\n",
              "      <td>76.33</td>\n",
              "      <td>200000</td>\n",
              "    </tr>\n",
              "    <tr>\n",
              "      <th>2</th>\n",
              "      <td>3</td>\n",
              "      <td>72.00</td>\n",
              "      <td>240000</td>\n",
              "    </tr>\n",
              "    <tr>\n",
              "      <th>3</th>\n",
              "      <td>4</td>\n",
              "      <td>60.00</td>\n",
              "      <td>250000</td>\n",
              "    </tr>\n",
              "    <tr>\n",
              "      <th>4</th>\n",
              "      <td>5</td>\n",
              "      <td>61.00</td>\n",
              "      <td>180000</td>\n",
              "    </tr>\n",
              "    <tr>\n",
              "      <th>5</th>\n",
              "      <td>6</td>\n",
              "      <td>55.00</td>\n",
              "      <td>300000</td>\n",
              "    </tr>\n",
              "    <tr>\n",
              "      <th>6</th>\n",
              "      <td>7</td>\n",
              "      <td>70.00</td>\n",
              "      <td>260000</td>\n",
              "    </tr>\n",
              "    <tr>\n",
              "      <th>7</th>\n",
              "      <td>8</td>\n",
              "      <td>68.00</td>\n",
              "      <td>235000</td>\n",
              "    </tr>\n",
              "    <tr>\n",
              "      <th>8</th>\n",
              "      <td>9</td>\n",
              "      <td>82.80</td>\n",
              "      <td>425000</td>\n",
              "    </tr>\n",
              "    <tr>\n",
              "      <th>9</th>\n",
              "      <td>10</td>\n",
              "      <td>59.00</td>\n",
              "      <td>240000</td>\n",
              "    </tr>\n",
              "  </tbody>\n",
              "</table>\n",
              "</div>\n",
              "      <button class=\"colab-df-convert\" onclick=\"convertToInteractive('df-d6e0456d-eb79-4506-a094-b20ccee87a8f')\"\n",
              "              title=\"Convert this dataframe to an interactive table.\"\n",
              "              style=\"display:none;\">\n",
              "        \n",
              "  <svg xmlns=\"http://www.w3.org/2000/svg\" height=\"24px\"viewBox=\"0 0 24 24\"\n",
              "       width=\"24px\">\n",
              "    <path d=\"M0 0h24v24H0V0z\" fill=\"none\"/>\n",
              "    <path d=\"M18.56 5.44l.94 2.06.94-2.06 2.06-.94-2.06-.94-.94-2.06-.94 2.06-2.06.94zm-11 1L8.5 8.5l.94-2.06 2.06-.94-2.06-.94L8.5 2.5l-.94 2.06-2.06.94zm10 10l.94 2.06.94-2.06 2.06-.94-2.06-.94-.94-2.06-.94 2.06-2.06.94z\"/><path d=\"M17.41 7.96l-1.37-1.37c-.4-.4-.92-.59-1.43-.59-.52 0-1.04.2-1.43.59L10.3 9.45l-7.72 7.72c-.78.78-.78 2.05 0 2.83L4 21.41c.39.39.9.59 1.41.59.51 0 1.02-.2 1.41-.59l7.78-7.78 2.81-2.81c.8-.78.8-2.07 0-2.86zM5.41 20L4 18.59l7.72-7.72 1.47 1.35L5.41 20z\"/>\n",
              "  </svg>\n",
              "      </button>\n",
              "      \n",
              "  <style>\n",
              "    .colab-df-container {\n",
              "      display:flex;\n",
              "      flex-wrap:wrap;\n",
              "      gap: 12px;\n",
              "    }\n",
              "\n",
              "    .colab-df-convert {\n",
              "      background-color: #E8F0FE;\n",
              "      border: none;\n",
              "      border-radius: 50%;\n",
              "      cursor: pointer;\n",
              "      display: none;\n",
              "      fill: #1967D2;\n",
              "      height: 32px;\n",
              "      padding: 0 0 0 0;\n",
              "      width: 32px;\n",
              "    }\n",
              "\n",
              "    .colab-df-convert:hover {\n",
              "      background-color: #E2EBFA;\n",
              "      box-shadow: 0px 1px 2px rgba(60, 64, 67, 0.3), 0px 1px 3px 1px rgba(60, 64, 67, 0.15);\n",
              "      fill: #174EA6;\n",
              "    }\n",
              "\n",
              "    [theme=dark] .colab-df-convert {\n",
              "      background-color: #3B4455;\n",
              "      fill: #D2E3FC;\n",
              "    }\n",
              "\n",
              "    [theme=dark] .colab-df-convert:hover {\n",
              "      background-color: #434B5C;\n",
              "      box-shadow: 0px 1px 3px 1px rgba(0, 0, 0, 0.15);\n",
              "      filter: drop-shadow(0px 1px 2px rgba(0, 0, 0, 0.3));\n",
              "      fill: #FFFFFF;\n",
              "    }\n",
              "  </style>\n",
              "\n",
              "      <script>\n",
              "        const buttonEl =\n",
              "          document.querySelector('#df-d6e0456d-eb79-4506-a094-b20ccee87a8f button.colab-df-convert');\n",
              "        buttonEl.style.display =\n",
              "          google.colab.kernel.accessAllowed ? 'block' : 'none';\n",
              "\n",
              "        async function convertToInteractive(key) {\n",
              "          const element = document.querySelector('#df-d6e0456d-eb79-4506-a094-b20ccee87a8f');\n",
              "          const dataTable =\n",
              "            await google.colab.kernel.invokeFunction('convertToInteractive',\n",
              "                                                     [key], {});\n",
              "          if (!dataTable) return;\n",
              "\n",
              "          const docLinkHtml = 'Like what you see? Visit the ' +\n",
              "            '<a target=\"_blank\" href=https://colab.research.google.com/notebooks/data_table.ipynb>data table notebook</a>'\n",
              "            + ' to learn more about interactive tables.';\n",
              "          element.innerHTML = '';\n",
              "          dataTable['output_type'] = 'display_data';\n",
              "          await google.colab.output.renderOutput(dataTable, element);\n",
              "          const docLink = document.createElement('div');\n",
              "          docLink.innerHTML = docLinkHtml;\n",
              "          element.appendChild(docLink);\n",
              "        }\n",
              "      </script>\n",
              "    </div>\n",
              "  </div>\n",
              "  "
            ]
          },
          "metadata": {},
          "execution_count": 183
        }
      ]
    },
    {
      "cell_type": "code",
      "source": [
        "mba_salary_df.info()"
      ],
      "metadata": {
        "colab": {
          "base_uri": "https://localhost:8080/"
        },
        "id": "s1sjH8ViOceq",
        "outputId": "87171cba-98cc-456b-81ea-bcc71a78e765"
      },
      "execution_count": null,
      "outputs": [
        {
          "output_type": "stream",
          "name": "stdout",
          "text": [
            "<class 'pandas.core.frame.DataFrame'>\n",
            "RangeIndex: 50 entries, 0 to 49\n",
            "Data columns (total 3 columns):\n",
            " #   Column                  Non-Null Count  Dtype  \n",
            "---  ------                  --------------  -----  \n",
            " 0   S. No.                  50 non-null     int64  \n",
            " 1   Percentage in Grade 10  50 non-null     float64\n",
            " 2   Salary                  50 non-null     int64  \n",
            "dtypes: float64(1), int64(2)\n",
            "memory usage: 1.3 KB\n"
          ]
        }
      ]
    },
    {
      "cell_type": "markdown",
      "source": [
        "### Creating Feature Set and Outcome Variable"
      ],
      "metadata": {
        "id": "v7nAoSiFP7Bm"
      }
    },
    {
      "cell_type": "markdown",
      "source": [
        "For calculating Beta0, we need to add a constant term 1, as the API otherwise calculates from Beta1"
      ],
      "metadata": {
        "id": "uoDYLXX5QhIk"
      }
    },
    {
      "cell_type": "code",
      "source": [
        "import statsmodels.api as sm"
      ],
      "metadata": {
        "id": "GiCZOnT2Qgm9"
      },
      "execution_count": null,
      "outputs": []
    },
    {
      "cell_type": "code",
      "source": [
        "X = sm.add_constant(mba_salary_df['Percentage in Grade 10'])\n",
        "X.head(5)"
      ],
      "metadata": {
        "colab": {
          "base_uri": "https://localhost:8080/",
          "height": 261
        },
        "id": "PPScDj7dPwIM",
        "outputId": "74a5acf0-8bd7-4617-897d-8b64be0ef362"
      },
      "execution_count": null,
      "outputs": [
        {
          "output_type": "stream",
          "name": "stderr",
          "text": [
            "/usr/local/lib/python3.7/dist-packages/statsmodels/tsa/tsatools.py:142: FutureWarning: In a future version of pandas all arguments of concat except for the argument 'objs' will be keyword-only\n",
            "  x = pd.concat(x[::order], 1)\n"
          ]
        },
        {
          "output_type": "execute_result",
          "data": {
            "text/plain": [
              "   const  Percentage in Grade 10\n",
              "0    1.0                   62.00\n",
              "1    1.0                   76.33\n",
              "2    1.0                   72.00\n",
              "3    1.0                   60.00\n",
              "4    1.0                   61.00"
            ],
            "text/html": [
              "\n",
              "  <div id=\"df-746bee6c-799f-461c-a09a-c3533e5b4fe3\">\n",
              "    <div class=\"colab-df-container\">\n",
              "      <div>\n",
              "<style scoped>\n",
              "    .dataframe tbody tr th:only-of-type {\n",
              "        vertical-align: middle;\n",
              "    }\n",
              "\n",
              "    .dataframe tbody tr th {\n",
              "        vertical-align: top;\n",
              "    }\n",
              "\n",
              "    .dataframe thead th {\n",
              "        text-align: right;\n",
              "    }\n",
              "</style>\n",
              "<table border=\"1\" class=\"dataframe\">\n",
              "  <thead>\n",
              "    <tr style=\"text-align: right;\">\n",
              "      <th></th>\n",
              "      <th>const</th>\n",
              "      <th>Percentage in Grade 10</th>\n",
              "    </tr>\n",
              "  </thead>\n",
              "  <tbody>\n",
              "    <tr>\n",
              "      <th>0</th>\n",
              "      <td>1.0</td>\n",
              "      <td>62.00</td>\n",
              "    </tr>\n",
              "    <tr>\n",
              "      <th>1</th>\n",
              "      <td>1.0</td>\n",
              "      <td>76.33</td>\n",
              "    </tr>\n",
              "    <tr>\n",
              "      <th>2</th>\n",
              "      <td>1.0</td>\n",
              "      <td>72.00</td>\n",
              "    </tr>\n",
              "    <tr>\n",
              "      <th>3</th>\n",
              "      <td>1.0</td>\n",
              "      <td>60.00</td>\n",
              "    </tr>\n",
              "    <tr>\n",
              "      <th>4</th>\n",
              "      <td>1.0</td>\n",
              "      <td>61.00</td>\n",
              "    </tr>\n",
              "  </tbody>\n",
              "</table>\n",
              "</div>\n",
              "      <button class=\"colab-df-convert\" onclick=\"convertToInteractive('df-746bee6c-799f-461c-a09a-c3533e5b4fe3')\"\n",
              "              title=\"Convert this dataframe to an interactive table.\"\n",
              "              style=\"display:none;\">\n",
              "        \n",
              "  <svg xmlns=\"http://www.w3.org/2000/svg\" height=\"24px\"viewBox=\"0 0 24 24\"\n",
              "       width=\"24px\">\n",
              "    <path d=\"M0 0h24v24H0V0z\" fill=\"none\"/>\n",
              "    <path d=\"M18.56 5.44l.94 2.06.94-2.06 2.06-.94-2.06-.94-.94-2.06-.94 2.06-2.06.94zm-11 1L8.5 8.5l.94-2.06 2.06-.94-2.06-.94L8.5 2.5l-.94 2.06-2.06.94zm10 10l.94 2.06.94-2.06 2.06-.94-2.06-.94-.94-2.06-.94 2.06-2.06.94z\"/><path d=\"M17.41 7.96l-1.37-1.37c-.4-.4-.92-.59-1.43-.59-.52 0-1.04.2-1.43.59L10.3 9.45l-7.72 7.72c-.78.78-.78 2.05 0 2.83L4 21.41c.39.39.9.59 1.41.59.51 0 1.02-.2 1.41-.59l7.78-7.78 2.81-2.81c.8-.78.8-2.07 0-2.86zM5.41 20L4 18.59l7.72-7.72 1.47 1.35L5.41 20z\"/>\n",
              "  </svg>\n",
              "      </button>\n",
              "      \n",
              "  <style>\n",
              "    .colab-df-container {\n",
              "      display:flex;\n",
              "      flex-wrap:wrap;\n",
              "      gap: 12px;\n",
              "    }\n",
              "\n",
              "    .colab-df-convert {\n",
              "      background-color: #E8F0FE;\n",
              "      border: none;\n",
              "      border-radius: 50%;\n",
              "      cursor: pointer;\n",
              "      display: none;\n",
              "      fill: #1967D2;\n",
              "      height: 32px;\n",
              "      padding: 0 0 0 0;\n",
              "      width: 32px;\n",
              "    }\n",
              "\n",
              "    .colab-df-convert:hover {\n",
              "      background-color: #E2EBFA;\n",
              "      box-shadow: 0px 1px 2px rgba(60, 64, 67, 0.3), 0px 1px 3px 1px rgba(60, 64, 67, 0.15);\n",
              "      fill: #174EA6;\n",
              "    }\n",
              "\n",
              "    [theme=dark] .colab-df-convert {\n",
              "      background-color: #3B4455;\n",
              "      fill: #D2E3FC;\n",
              "    }\n",
              "\n",
              "    [theme=dark] .colab-df-convert:hover {\n",
              "      background-color: #434B5C;\n",
              "      box-shadow: 0px 1px 3px 1px rgba(0, 0, 0, 0.15);\n",
              "      filter: drop-shadow(0px 1px 2px rgba(0, 0, 0, 0.3));\n",
              "      fill: #FFFFFF;\n",
              "    }\n",
              "  </style>\n",
              "\n",
              "      <script>\n",
              "        const buttonEl =\n",
              "          document.querySelector('#df-746bee6c-799f-461c-a09a-c3533e5b4fe3 button.colab-df-convert');\n",
              "        buttonEl.style.display =\n",
              "          google.colab.kernel.accessAllowed ? 'block' : 'none';\n",
              "\n",
              "        async function convertToInteractive(key) {\n",
              "          const element = document.querySelector('#df-746bee6c-799f-461c-a09a-c3533e5b4fe3');\n",
              "          const dataTable =\n",
              "            await google.colab.kernel.invokeFunction('convertToInteractive',\n",
              "                                                     [key], {});\n",
              "          if (!dataTable) return;\n",
              "\n",
              "          const docLinkHtml = 'Like what you see? Visit the ' +\n",
              "            '<a target=\"_blank\" href=https://colab.research.google.com/notebooks/data_table.ipynb>data table notebook</a>'\n",
              "            + ' to learn more about interactive tables.';\n",
              "          element.innerHTML = '';\n",
              "          dataTable['output_type'] = 'display_data';\n",
              "          await google.colab.output.renderOutput(dataTable, element);\n",
              "          const docLink = document.createElement('div');\n",
              "          docLink.innerHTML = docLinkHtml;\n",
              "          element.appendChild(docLink);\n",
              "        }\n",
              "      </script>\n",
              "    </div>\n",
              "  </div>\n",
              "  "
            ]
          },
          "metadata": {},
          "execution_count": 186
        }
      ]
    },
    {
      "cell_type": "code",
      "source": [
        "Y = mba_salary_df['Salary']"
      ],
      "metadata": {
        "id": "FuP_vk1qRIdO"
      },
      "execution_count": null,
      "outputs": []
    },
    {
      "cell_type": "markdown",
      "source": [
        "### Splitting the Dataset into Training and Validation Sets"
      ],
      "metadata": {
        "id": "sbZ06L2ARlJ0"
      }
    },
    {
      "cell_type": "code",
      "source": [
        "from sklearn.model_selection import train_test_split"
      ],
      "metadata": {
        "id": "FFlXVWFuRjL1"
      },
      "execution_count": null,
      "outputs": []
    },
    {
      "cell_type": "code",
      "source": [
        "train_X,test_X, train_y,test_y = train_test_split(X,\n",
        "                                                  Y,\n",
        "                                                  train_size =0.8,\n",
        "                                                  random_state = 100)"
      ],
      "metadata": {
        "id": "RpswvydnR2oO"
      },
      "execution_count": null,
      "outputs": []
    },
    {
      "cell_type": "markdown",
      "source": [
        "### Fitting the Model"
      ],
      "metadata": {
        "id": "z5VUXT88SR9A"
      }
    },
    {
      "cell_type": "code",
      "source": [
        "mba_salary_lm = sm.OLS(train_y,train_X).fit()"
      ],
      "metadata": {
        "id": "zMs-hMicSQ6F"
      },
      "execution_count": null,
      "outputs": []
    },
    {
      "cell_type": "markdown",
      "source": [
        "### Printing Estimated Parameters and Interpreting them"
      ],
      "metadata": {
        "id": "yPmdYVMgSe-e"
      }
    },
    {
      "cell_type": "code",
      "source": [
        "print(mba_salary_lm.params)"
      ],
      "metadata": {
        "colab": {
          "base_uri": "https://localhost:8080/"
        },
        "id": "X52trrOtScZN",
        "outputId": "b7da6b45-3191-4910-8d03-f80b979dec73"
      },
      "execution_count": null,
      "outputs": [
        {
          "output_type": "stream",
          "name": "stdout",
          "text": [
            "const                     30587.285652\n",
            "Percentage in Grade 10     3560.587383\n",
            "dtype: float64\n"
          ]
        }
      ]
    },
    {
      "cell_type": "markdown",
      "source": [
        "For Every 1% increase in Grade 10, the salary of the MBA student will increase by 3560.5873"
      ],
      "metadata": {
        "id": "R5IanPG3S0Ls"
      }
    },
    {
      "cell_type": "markdown",
      "source": [
        "# Model Diagnostics\n",
        "## Coefficient of Determination ( R-Square)\n"
      ],
      "metadata": {
        "id": "VM7_RygETGAq"
      }
    },
    {
      "cell_type": "code",
      "source": [
        "mba_salary_lm.summary2()"
      ],
      "metadata": {
        "colab": {
          "base_uri": "https://localhost:8080/",
          "height": 322
        },
        "id": "cL7yfSQgSsmg",
        "outputId": "880c41d7-e515-418f-96cf-84a08803eb4b"
      },
      "execution_count": null,
      "outputs": [
        {
          "output_type": "execute_result",
          "data": {
            "text/plain": [
              "<class 'statsmodels.iolib.summary2.Summary'>\n",
              "\"\"\"\n",
              "                          Results: Ordinary least squares\n",
              "===================================================================================\n",
              "Model:                    OLS                   Adj. R-squared:          0.190     \n",
              "Dependent Variable:       Salary                AIC:                     1008.8680 \n",
              "Date:                     2022-10-08 01:29      BIC:                     1012.2458 \n",
              "No. Observations:         40                    Log-Likelihood:          -502.43   \n",
              "Df Model:                 1                     F-statistic:             10.16     \n",
              "Df Residuals:             38                    Prob (F-statistic):      0.00287   \n",
              "R-squared:                0.211                 Scale:                   5.0121e+09\n",
              "-----------------------------------------------------------------------------------\n",
              "                         Coef.     Std.Err.    t    P>|t|     [0.025       0.975]  \n",
              "-----------------------------------------------------------------------------------\n",
              "const                  30587.2857 71869.4497 0.4256 0.6728 -114904.8089 176079.3802\n",
              "Percentage in Grade 10  3560.5874  1116.9258 3.1878 0.0029    1299.4892   5821.6855\n",
              "-----------------------------------------------------------------------------------\n",
              "Omnibus:                    2.048              Durbin-Watson:                 2.611\n",
              "Prob(Omnibus):              0.359              Jarque-Bera (JB):              1.724\n",
              "Skew:                       0.369              Prob(JB):                      0.422\n",
              "Kurtosis:                   2.300              Condition No.:                 413  \n",
              "===================================================================================\n",
              "\n",
              "\"\"\""
            ],
            "text/html": [
              "<table class=\"simpletable\">\n",
              "<tr>\n",
              "        <td>Model:</td>               <td>OLS</td>         <td>Adj. R-squared:</td>      <td>0.190</td>  \n",
              "</tr>\n",
              "<tr>\n",
              "  <td>Dependent Variable:</td>      <td>Salary</td>             <td>AIC:</td>          <td>1008.8680</td>\n",
              "</tr>\n",
              "<tr>\n",
              "         <td>Date:</td>        <td>2022-10-08 01:29</td>        <td>BIC:</td>          <td>1012.2458</td>\n",
              "</tr>\n",
              "<tr>\n",
              "   <td>No. Observations:</td>         <td>40</td>          <td>Log-Likelihood:</td>     <td>-502.43</td> \n",
              "</tr>\n",
              "<tr>\n",
              "       <td>Df Model:</td>              <td>1</td>           <td>F-statistic:</td>        <td>10.16</td>  \n",
              "</tr>\n",
              "<tr>\n",
              "     <td>Df Residuals:</td>           <td>38</td>        <td>Prob (F-statistic):</td>   <td>0.00287</td> \n",
              "</tr>\n",
              "<tr>\n",
              "      <td>R-squared:</td>            <td>0.211</td>            <td>Scale:</td>        <td>5.0121e+09</td>\n",
              "</tr>\n",
              "</table>\n",
              "<table class=\"simpletable\">\n",
              "<tr>\n",
              "             <td></td>               <th>Coef.</th>    <th>Std.Err.</th>     <th>t</th>    <th>P>|t|</th>    <th>[0.025</th>      <th>0.975]</th>   \n",
              "</tr>\n",
              "<tr>\n",
              "  <th>const</th>                  <td>30587.2857</td> <td>71869.4497</td> <td>0.4256</td> <td>0.6728</td> <td>-114904.8089</td> <td>176079.3802</td>\n",
              "</tr>\n",
              "<tr>\n",
              "  <th>Percentage in Grade 10</th>  <td>3560.5874</td>  <td>1116.9258</td> <td>3.1878</td> <td>0.0029</td>   <td>1299.4892</td>   <td>5821.6855</td> \n",
              "</tr>\n",
              "</table>\n",
              "<table class=\"simpletable\">\n",
              "<tr>\n",
              "     <td>Omnibus:</td>    <td>2.048</td>  <td>Durbin-Watson:</td>   <td>2.611</td>\n",
              "</tr>\n",
              "<tr>\n",
              "  <td>Prob(Omnibus):</td> <td>0.359</td> <td>Jarque-Bera (JB):</td> <td>1.724</td>\n",
              "</tr>\n",
              "<tr>\n",
              "       <td>Skew:</td>     <td>0.369</td>     <td>Prob(JB):</td>     <td>0.422</td>\n",
              "</tr>\n",
              "<tr>\n",
              "     <td>Kurtosis:</td>   <td>2.300</td>  <td>Condition No.:</td>    <td>413</td> \n",
              "</tr>\n",
              "</table>"
            ]
          },
          "metadata": {},
          "execution_count": 192
        }
      ]
    },
    {
      "cell_type": "markdown",
      "source": [
        "1. The model R-squared value is 0.211, that is the model explains 21.1% of the variations in salary\n",
        "2. the p=value for the ttest is 0.0029, which indicates that there is statistically significant relationship between the feature, percentage in grade 10, and salary.\n",
        "3. The probability of F-statistics of the model is 0.0029, whcih indicates that the overall model is statistically significant."
      ],
      "metadata": {
        "id": "dA7_81xQTm5k"
      }
    },
    {
      "cell_type": "markdown",
      "source": [
        "## Residual Analysis"
      ],
      "metadata": {
        "id": "wlkOo8aCUBuD"
      }
    },
    {
      "cell_type": "markdown",
      "source": [
        "## Check for Normal distribution of Resudual\n",
        "### Drawing of Probability plot"
      ],
      "metadata": {
        "id": "zug3bc7WUGPW"
      }
    },
    {
      "cell_type": "code",
      "source": [
        "import matplotlib.pyplot as plt\n",
        "import seaborn as sn\n",
        "%matplotlib inline"
      ],
      "metadata": {
        "id": "ujREJZNRU3pe"
      },
      "execution_count": null,
      "outputs": []
    },
    {
      "cell_type": "code",
      "source": [
        "mba_salary_resid = mba_salary_lm.resid\n",
        "probplot = sm.ProbPlot(mba_salary_resid);\n",
        "plt.figure(figsize = (8,6));\n",
        "probplot.qqplot(line='s');\n",
        "plt.title(\"Normal Q-Q plot of Regression Standardized Residuals\")\n",
        "plt.show();"
      ],
      "metadata": {
        "colab": {
          "base_uri": "https://localhost:8080/",
          "height": 313
        },
        "id": "nBMBmkmuTWpp",
        "outputId": "0103da09-877f-4c43-8cbb-4c9191ecad1b"
      },
      "execution_count": null,
      "outputs": [
        {
          "output_type": "display_data",
          "data": {
            "text/plain": [
              "<Figure size 576x432 with 0 Axes>"
            ]
          },
          "metadata": {}
        },
        {
          "output_type": "display_data",
          "data": {
            "text/plain": [
              "<Figure size 432x288 with 1 Axes>"
            ],
            "image/png": "[encoded data removed]"
          },
          "metadata": {
            "needs_background": "light"
          }
        }
      ]
    },
    {
      "cell_type": "markdown",
      "source": [
        "As the dots are closer to the diagonal line, we can conclude that the residuals follow an approximate normal distribution ( We need only an approximate normal distribution)\n",
        "\n",
        "## Homoscedasticity\n",
        "Residuals to have constant variance across different values of the predicted value (Y).\n",
        "\n",
        "It can be observed by the residual plot, which is plot between standardized residual values and standardized predicted values. If there is a heteroscedasticity, then a funnel type shape in the residual plot can be expected.\n",
        "\n",
        "First we need to create a standardized values of a series of values(variable)"
      ],
      "metadata": {
        "id": "V5TQ3DaRi0u-"
      }
    },
    {
      "cell_type": "code",
      "source": [
        "def get_standardized_values(vals):\n",
        "  return ( vals-vals.mean())/vals.std()"
      ],
      "metadata": {
        "id": "d3ExnU5HUm18"
      },
      "execution_count": null,
      "outputs": []
    },
    {
      "cell_type": "code",
      "source": [
        "plt.scatter(get_standardized_values(mba_salary_lm.fittedvalues),\n",
        "            get_standardized_values(mba_salary_resid))\n",
        "plt.title(\"Residual Plot: MBA Salary Prediction\");\n",
        "plt.xlabel(\"Standardized predicted values\")\n",
        "plt.ylabel(\"standardized Residuals\");"
      ],
      "metadata": {
        "colab": {
          "base_uri": "https://localhost:8080/",
          "height": 295
        },
        "id": "Dt0erNLWkIU1",
        "outputId": "dec99180-e978-475f-8234-c72352a5ba3f"
      },
      "execution_count": null,
      "outputs": [
        {
          "output_type": "display_data",
          "data": {
            "text/plain": [
              "<Figure size 432x288 with 1 Axes>"
            ],
            "image/png": "[encoded data removed]"
          },
          "metadata": {
            "needs_background": "light"
          }
        }
      ]
    },
    {
      "cell_type": "markdown",
      "source": [
        "# Outlier analysis\n",
        "## Z-Score\n",
        "Any Observation with z-score of more than 3 may be flagged as an outlier"
      ],
      "metadata": {
        "id": "bP23ZacWwRoz"
      }
    },
    {
      "cell_type": "code",
      "source": [
        "from scipy.stats import  zscore\n",
        "mba_salary_df['z_score_salary']= zscore(mba_salary_df.Salary)\n",
        "mba_salary_df[(mba_salary_df.z_score_salary > 3.0) | (mba_salary_df.z_score_salary < -3.0)]"
      ],
      "metadata": {
        "id": "e8Y034fXkk6J",
        "colab": {
          "base_uri": "https://localhost:8080/",
          "height": 49
        },
        "outputId": "21df2284-9c02-4b62-8a5d-e6bef0a5b696"
      },
      "execution_count": null,
      "outputs": [
        {
          "output_type": "execute_result",
          "data": {
            "text/plain": [
              "Empty DataFrame\n",
              "Columns: [S. No., Percentage in Grade 10, Salary, z_score_salary]\n",
              "Index: []"
            ],
            "text/html": [
              "\n",
              "  <div id=\"df-0b2f9c19-5c8b-4994-9b6a-8e9b96984c9a\">\n",
              "    <div class=\"colab-df-container\">\n",
              "      <div>\n",
              "<style scoped>\n",
              "    .dataframe tbody tr th:only-of-type {\n",
              "        vertical-align: middle;\n",
              "    }\n",
              "\n",
              "    .dataframe tbody tr th {\n",
              "        vertical-align: top;\n",
              "    }\n",
              "\n",
              "    .dataframe thead th {\n",
              "        text-align: right;\n",
              "    }\n",
              "</style>\n",
              "<table border=\"1\" class=\"dataframe\">\n",
              "  <thead>\n",
              "    <tr style=\"text-align: right;\">\n",
              "      <th></th>\n",
              "      <th>S. No.</th>\n",
              "      <th>Percentage in Grade 10</th>\n",
              "      <th>Salary</th>\n",
              "      <th>z_score_salary</th>\n",
              "    </tr>\n",
              "  </thead>\n",
              "  <tbody>\n",
              "  </tbody>\n",
              "</table>\n",
              "</div>\n",
              "      <button class=\"colab-df-convert\" onclick=\"convertToInteractive('df-0b2f9c19-5c8b-4994-9b6a-8e9b96984c9a')\"\n",
              "              title=\"Convert this dataframe to an interactive table.\"\n",
              "              style=\"display:none;\">\n",
              "        \n",
              "  <svg xmlns=\"http://www.w3.org/2000/svg\" height=\"24px\"viewBox=\"0 0 24 24\"\n",
              "       width=\"24px\">\n",
              "    <path d=\"M0 0h24v24H0V0z\" fill=\"none\"/>\n",
              "    <path d=\"M18.56 5.44l.94 2.06.94-2.06 2.06-.94-2.06-.94-.94-2.06-.94 2.06-2.06.94zm-11 1L8.5 8.5l.94-2.06 2.06-.94-2.06-.94L8.5 2.5l-.94 2.06-2.06.94zm10 10l.94 2.06.94-2.06 2.06-.94-2.06-.94-.94-2.06-.94 2.06-2.06.94z\"/><path d=\"M17.41 7.96l-1.37-1.37c-.4-.4-.92-.59-1.43-.59-.52 0-1.04.2-1.43.59L10.3 9.45l-7.72 7.72c-.78.78-.78 2.05 0 2.83L4 21.41c.39.39.9.59 1.41.59.51 0 1.02-.2 1.41-.59l7.78-7.78 2.81-2.81c.8-.78.8-2.07 0-2.86zM5.41 20L4 18.59l7.72-7.72 1.47 1.35L5.41 20z\"/>\n",
              "  </svg>\n",
              "      </button>\n",
              "      \n",
              "  <style>\n",
              "    .colab-df-container {\n",
              "      display:flex;\n",
              "      flex-wrap:wrap;\n",
              "      gap: 12px;\n",
              "    }\n",
              "\n",
              "    .colab-df-convert {\n",
              "      background-color: #E8F0FE;\n",
              "      border: none;\n",
              "      border-radius: 50%;\n",
              "      cursor: pointer;\n",
              "      display: none;\n",
              "      fill: #1967D2;\n",
              "      height: 32px;\n",
              "      padding: 0 0 0 0;\n",
              "      width: 32px;\n",
              "    }\n",
              "\n",
              "    .colab-df-convert:hover {\n",
              "      background-color: #E2EBFA;\n",
              "      box-shadow: 0px 1px 2px rgba(60, 64, 67, 0.3), 0px 1px 3px 1px rgba(60, 64, 67, 0.15);\n",
              "      fill: #174EA6;\n",
              "    }\n",
              "\n",
              "    [theme=dark] .colab-df-convert {\n",
              "      background-color: #3B4455;\n",
              "      fill: #D2E3FC;\n",
              "    }\n",
              "\n",
              "    [theme=dark] .colab-df-convert:hover {\n",
              "      background-color: #434B5C;\n",
              "      box-shadow: 0px 1px 3px 1px rgba(0, 0, 0, 0.15);\n",
              "      filter: drop-shadow(0px 1px 2px rgba(0, 0, 0, 0.3));\n",
              "      fill: #FFFFFF;\n",
              "    }\n",
              "  </style>\n",
              "\n",
              "      <script>\n",
              "        const buttonEl =\n",
              "          document.querySelector('#df-0b2f9c19-5c8b-4994-9b6a-8e9b96984c9a button.colab-df-convert');\n",
              "        buttonEl.style.display =\n",
              "          google.colab.kernel.accessAllowed ? 'block' : 'none';\n",
              "\n",
              "        async function convertToInteractive(key) {\n",
              "          const element = document.querySelector('#df-0b2f9c19-5c8b-4994-9b6a-8e9b96984c9a');\n",
              "          const dataTable =\n",
              "            await google.colab.kernel.invokeFunction('convertToInteractive',\n",
              "                                                     [key], {});\n",
              "          if (!dataTable) return;\n",
              "\n",
              "          const docLinkHtml = 'Like what you see? Visit the ' +\n",
              "            '<a target=\"_blank\" href=https://colab.research.google.com/notebooks/data_table.ipynb>data table notebook</a>'\n",
              "            + ' to learn more about interactive tables.';\n",
              "          element.innerHTML = '';\n",
              "          dataTable['output_type'] = 'display_data';\n",
              "          await google.colab.output.renderOutput(dataTable, element);\n",
              "          const docLink = document.createElement('div');\n",
              "          docLink.innerHTML = docLinkHtml;\n",
              "          element.appendChild(docLink);\n",
              "        }\n",
              "      </script>\n",
              "    </div>\n",
              "  </div>\n",
              "  "
            ]
          },
          "metadata": {},
          "execution_count": 197
        }
      ]
    },
    {
      "cell_type": "markdown",
      "source": [
        "So there are no observations which are outliers"
      ],
      "metadata": {
        "id": "DJRViT1JxOV1"
      }
    },
    {
      "cell_type": "markdown",
      "source": [
        "## Cook's Distance\n",
        "\n",
        "Cook's distance measures how much the predicted value of the dependent variable changes for al lthe observations in the sample when a particular observation is excluded from the sample for the estimation of regression parameters.\n",
        "\n",
        "A Cook's distance value of more than 1 indicates highly influential observation.\n",
        "\n",
        "Python code for calculating Cook's distance, get_influence() returns the influence of observations in the mode and cook_distance variable provides Cook's distance measures. Then the distances can be plotted against the observation index to find out which observations are influential"
      ],
      "metadata": {
        "id": "qYnKcoL8xR3F"
      }
    },
    {
      "cell_type": "code",
      "source": [
        "import numpy as np\n",
        "\n",
        "mba_influence = mba_salary_lm.get_influence()\n",
        "(c,p) = mba_influence.cooks_distance\n",
        "plt.stem(np.arange(len(train_X)),\n",
        "         np.round(c,3),\n",
        "         markerfmt=\",\",use_line_collection=True);\n",
        "plt.title('Cooks distance for all observations in MBA Salary data set');\n",
        "plt.xlabel('Row Index')\n",
        "plt.ylabel('Cooks Distance');"
      ],
      "metadata": {
        "id": "a_fpXLiKxRf8",
        "colab": {
          "base_uri": "https://localhost:8080/",
          "height": 295
        },
        "outputId": "d76d540b-d3ce-4535-93b6-a8e48c4e8fbe"
      },
      "execution_count": null,
      "outputs": [
        {
          "output_type": "display_data",
          "data": {
            "text/plain": [
              "<Figure size 432x288 with 1 Axes>"
            ],
            "image/png": "[encoded data removed]"
          },
          "metadata": {
            "needs_background": "light"
          }
        }
      ]
    },
    {
      "cell_type": "markdown",
      "source": [
        "We can see that none of the values exceed 1 and hence none of them are outliers\n",
        "\n",
        "## Leverage Value\n",
        "\n",
        "Leverage value of an observation measures the influence of that observation on the overall fit of that regression function and is related to the Mahalanobis distance. Leverage value of more than 3(k+1)/n is treated as higly influential obserations, where k is the number of features in the model and n is the sample size.\n",
        "\n",
        "statsmodels.graphics.regressionplots module provides influence_plot() which draws a plot between standardized residuals and leverage value. Mostly the observations with high leverage value ( as mentioned above) and high residuals ( more than value 3(k+1)/n, can be removed from the training dataset."
      ],
      "metadata": {
        "id": "YiLvccbGyygp"
      }
    },
    {
      "cell_type": "code",
      "source": [
        "from statsmodels.graphics.regressionplots import influence_plot\n",
        "\n",
        "fig,ax = plt.subplots(figsize= (8,6))\n",
        "influence_plot(mba_salary_lm,ax=ax)\n",
        "plt.title(\"Leverage Value vs Resiudals\")\n",
        "plt.show();"
      ],
      "metadata": {
        "id": "BAcjHyyixHOl",
        "colab": {
          "base_uri": "https://localhost:8080/",
          "height": 409
        },
        "outputId": "d304ca37-acf0-42f7-8299-52ca4e3f1faa"
      },
      "execution_count": null,
      "outputs": [
        {
          "output_type": "display_data",
          "data": {
            "text/plain": [
              "<Figure size 576x432 with 1 Axes>"
            ],
            "image/png": "[encoded data removed]"
          },
          "metadata": {
            "needs_background": "light"
          }
        }
      ]
    },
    {
      "cell_type": "markdown",
      "source": [
        "The larger the cirle, the larger the residual and hence influence of the observation.\n",
        "\n",
        "## Making Prediction and Measuring Accuracy\n",
        "\n",
        "Predicting using the validation set\n"
      ],
      "metadata": {
        "id": "LKH8YbLu28ZM"
      }
    },
    {
      "cell_type": "code",
      "source": [
        "pred_y = mba_salary_lm.predict(test_X)"
      ],
      "metadata": {
        "id": "YmZuC9js2ufB"
      },
      "execution_count": null,
      "outputs": []
    },
    {
      "cell_type": "markdown",
      "source": [
        "### Finding R-Squared and RMSE"
      ],
      "metadata": {
        "id": "u2UOStaJ6ZnA"
      }
    },
    {
      "cell_type": "code",
      "source": [
        "from sklearn.metrics import r2_score,mean_squared_error"
      ],
      "metadata": {
        "id": "dsibsd1e6T1j"
      },
      "execution_count": null,
      "outputs": []
    },
    {
      "cell_type": "code",
      "source": [
        "np.abs(r2_score(test_y,pred_y))"
      ],
      "metadata": {
        "id": "ygHxDq8e6wkz",
        "colab": {
          "base_uri": "https://localhost:8080/"
        },
        "outputId": "3a1ffd17-03f5-4136-9903-cce7e6567f74"
      },
      "execution_count": null,
      "outputs": [
        {
          "output_type": "execute_result",
          "data": {
            "text/plain": [
              "0.156645849742304"
            ]
          },
          "metadata": {},
          "execution_count": 202
        }
      ]
    },
    {
      "cell_type": "markdown",
      "source": [
        "So the model only explains 15.6% of the variance in the validation set"
      ],
      "metadata": {
        "id": "RI8V01mb7Jws"
      }
    },
    {
      "cell_type": "code",
      "source": [
        "import numpy\n",
        "np.sqrt(mean_squared_error(test_y,pred_y))"
      ],
      "metadata": {
        "id": "nxHC68lg66sO",
        "colab": {
          "base_uri": "https://localhost:8080/"
        },
        "outputId": "eddd0017-3a4a-4f9d-e62c-1160b50ec00d"
      },
      "execution_count": null,
      "outputs": [
        {
          "output_type": "execute_result",
          "data": {
            "text/plain": [
              "73458.04348346895"
            ]
          },
          "metadata": {},
          "execution_count": 203
        }
      ]
    },
    {
      "cell_type": "markdown",
      "source": [
        "The Smaller the value for RMSE, the better the model is"
      ],
      "metadata": {
        "id": "R8PribRT7ZCU"
      }
    },
    {
      "cell_type": "markdown",
      "source": [
        "## Calculating Prediction Intervals"
      ],
      "metadata": {
        "id": "SqB7t18J7faW"
      }
    },
    {
      "cell_type": "markdown",
      "source": [
        "In many applications, we would be interested in knowing the interval estimates of Yi for a given value of explanatory variable. Wls_prediction_std() returns the prediction interval while making a prediction, It takes significance value (alpha) to calculate the interval. An alpha-value of 0.1 returns the prediction at CI of 90%."
      ],
      "metadata": {
        "id": "lm88tXHB6G8O"
      }
    },
    {
      "cell_type": "code",
      "source": [
        "from statsmodels.sandbox.regression.predstd import wls_prediction_std"
      ],
      "metadata": {
        "id": "Q8YD0RDp7XYu"
      },
      "execution_count": null,
      "outputs": []
    },
    {
      "cell_type": "code",
      "source": [
        "# predict the y values\n",
        "pred_y = mba_salary_lm. predict(test_X)\n",
        "# predict the low and high interval values for y\n",
        "_,pred_y_low, pred_y_high = wls_prediction_std(mba_salary_lm,\n",
        "                                               test_X,\n",
        "                                               alpha=0.1)\n",
        "# Store all the values in a dataframe\n",
        "pred_y_df = pd.DataFrame( { 'grade_10_perce':test_X['Percentage in Grade 10'],\n",
        "                           'pred_y':pred_y,\n",
        "                           'pred_y_left': pred_y_low,\n",
        "                           'pred_y_right': pred_y_high})"
      ],
      "metadata": {
        "id": "CDAdgnXy6kL3"
      },
      "execution_count": null,
      "outputs": []
    },
    {
      "cell_type": "code",
      "source": [
        "pred_y_df[0:10]"
      ],
      "metadata": {
        "colab": {
          "base_uri": "https://localhost:8080/",
          "height": 363
        },
        "id": "C9K55qI67WDJ",
        "outputId": "8df15e19-af8b-4b5d-d6d3-2d3799bff8c3"
      },
      "execution_count": null,
      "outputs": [
        {
          "output_type": "execute_result",
          "data": {
            "text/plain": [
              "    grade_10_perce         pred_y    pred_y_left   pred_y_right\n",
              "6             70.0  279828.402452  158379.832044  401276.972860\n",
              "36            68.0  272707.227686  151576.715020  393837.740352\n",
              "37            52.0  215737.829560   92950.942395  338524.716726\n",
              "28            58.0  237101.353858  115806.869618  358395.838097\n",
              "43            74.5  295851.045675  173266.083342  418436.008008\n",
              "49            60.8  247070.998530  126117.560983  368024.436076\n",
              "5             55.0  226419.591709  104507.444388  348331.739030\n",
              "33            78.0  308313.101515  184450.060488  432176.142542\n",
              "20            63.0  254904.290772  134057.999258  375750.582286\n",
              "42            74.4  295494.986937  172941.528691  418048.445182"
            ],
            "text/html": [
              "\n",
              "  <div id=\"df-240d39b4-f59e-4050-8ac3-b4b805178024\">\n",
              "    <div class=\"colab-df-container\">\n",
              "      <div>\n",
              "<style scoped>\n",
              "    .dataframe tbody tr th:only-of-type {\n",
              "        vertical-align: middle;\n",
              "    }\n",
              "\n",
              "    .dataframe tbody tr th {\n",
              "        vertical-align: top;\n",
              "    }\n",
              "\n",
              "    .dataframe thead th {\n",
              "        text-align: right;\n",
              "    }\n",
              "</style>\n",
              "<table border=\"1\" class=\"dataframe\">\n",
              "  <thead>\n",
              "    <tr style=\"text-align: right;\">\n",
              "      <th></th>\n",
              "      <th>grade_10_perce</th>\n",
              "      <th>pred_y</th>\n",
              "      <th>pred_y_left</th>\n",
              "      <th>pred_y_right</th>\n",
              "    </tr>\n",
              "  </thead>\n",
              "  <tbody>\n",
              "    <tr>\n",
              "      <th>6</th>\n",
              "      <td>70.0</td>\n",
              "      <td>279828.402452</td>\n",
              "      <td>158379.832044</td>\n",
              "      <td>401276.972860</td>\n",
              "    </tr>\n",
              "    <tr>\n",
              "      <th>36</th>\n",
              "      <td>68.0</td>\n",
              "      <td>272707.227686</td>\n",
              "      <td>151576.715020</td>\n",
              "      <td>393837.740352</td>\n",
              "    </tr>\n",
              "    <tr>\n",
              "      <th>37</th>\n",
              "      <td>52.0</td>\n",
              "      <td>215737.829560</td>\n",
              "      <td>92950.942395</td>\n",
              "      <td>338524.716726</td>\n",
              "    </tr>\n",
              "    <tr>\n",
              "      <th>28</th>\n",
              "      <td>58.0</td>\n",
              "      <td>237101.353858</td>\n",
              "      <td>115806.869618</td>\n",
              "      <td>358395.838097</td>\n",
              "    </tr>\n",
              "    <tr>\n",
              "      <th>43</th>\n",
              "      <td>74.5</td>\n",
              "      <td>295851.045675</td>\n",
              "      <td>173266.083342</td>\n",
              "      <td>418436.008008</td>\n",
              "    </tr>\n",
              "    <tr>\n",
              "      <th>49</th>\n",
              "      <td>60.8</td>\n",
              "      <td>247070.998530</td>\n",
              "      <td>126117.560983</td>\n",
              "      <td>368024.436076</td>\n",
              "    </tr>\n",
              "    <tr>\n",
              "      <th>5</th>\n",
              "      <td>55.0</td>\n",
              "      <td>226419.591709</td>\n",
              "      <td>104507.444388</td>\n",
              "      <td>348331.739030</td>\n",
              "    </tr>\n",
              "    <tr>\n",
              "      <th>33</th>\n",
              "      <td>78.0</td>\n",
              "      <td>308313.101515</td>\n",
              "      <td>184450.060488</td>\n",
              "      <td>432176.142542</td>\n",
              "    </tr>\n",
              "    <tr>\n",
              "      <th>20</th>\n",
              "      <td>63.0</td>\n",
              "      <td>254904.290772</td>\n",
              "      <td>134057.999258</td>\n",
              "      <td>375750.582286</td>\n",
              "    </tr>\n",
              "    <tr>\n",
              "      <th>42</th>\n",
              "      <td>74.4</td>\n",
              "      <td>295494.986937</td>\n",
              "      <td>172941.528691</td>\n",
              "      <td>418048.445182</td>\n",
              "    </tr>\n",
              "  </tbody>\n",
              "</table>\n",
              "</div>\n",
              "      <button class=\"colab-df-convert\" onclick=\"convertToInteractive('df-240d39b4-f59e-4050-8ac3-b4b805178024')\"\n",
              "              title=\"Convert this dataframe to an interactive table.\"\n",
              "              style=\"display:none;\">\n",
              "        \n",
              "  <svg xmlns=\"http://www.w3.org/2000/svg\" height=\"24px\"viewBox=\"0 0 24 24\"\n",
              "       width=\"24px\">\n",
              "    <path d=\"M0 0h24v24H0V0z\" fill=\"none\"/>\n",
              "    <path d=\"M18.56 5.44l.94 2.06.94-2.06 2.06-.94-2.06-.94-.94-2.06-.94 2.06-2.06.94zm-11 1L8.5 8.5l.94-2.06 2.06-.94-2.06-.94L8.5 2.5l-.94 2.06-2.06.94zm10 10l.94 2.06.94-2.06 2.06-.94-2.06-.94-.94-2.06-.94 2.06-2.06.94z\"/><path d=\"M17.41 7.96l-1.37-1.37c-.4-.4-.92-.59-1.43-.59-.52 0-1.04.2-1.43.59L10.3 9.45l-7.72 7.72c-.78.78-.78 2.05 0 2.83L4 21.41c.39.39.9.59 1.41.59.51 0 1.02-.2 1.41-.59l7.78-7.78 2.81-2.81c.8-.78.8-2.07 0-2.86zM5.41 20L4 18.59l7.72-7.72 1.47 1.35L5.41 20z\"/>\n",
              "  </svg>\n",
              "      </button>\n",
              "      \n",
              "  <style>\n",
              "    .colab-df-container {\n",
              "      display:flex;\n",
              "      flex-wrap:wrap;\n",
              "      gap: 12px;\n",
              "    }\n",
              "\n",
              "    .colab-df-convert {\n",
              "      background-color: #E8F0FE;\n",
              "      border: none;\n",
              "      border-radius: 50%;\n",
              "      cursor: pointer;\n",
              "      display: none;\n",
              "      fill: #1967D2;\n",
              "      height: 32px;\n",
              "      padding: 0 0 0 0;\n",
              "      width: 32px;\n",
              "    }\n",
              "\n",
              "    .colab-df-convert:hover {\n",
              "      background-color: #E2EBFA;\n",
              "      box-shadow: 0px 1px 2px rgba(60, 64, 67, 0.3), 0px 1px 3px 1px rgba(60, 64, 67, 0.15);\n",
              "      fill: #174EA6;\n",
              "    }\n",
              "\n",
              "    [theme=dark] .colab-df-convert {\n",
              "      background-color: #3B4455;\n",
              "      fill: #D2E3FC;\n",
              "    }\n",
              "\n",
              "    [theme=dark] .colab-df-convert:hover {\n",
              "      background-color: #434B5C;\n",
              "      box-shadow: 0px 1px 3px 1px rgba(0, 0, 0, 0.15);\n",
              "      filter: drop-shadow(0px 1px 2px rgba(0, 0, 0, 0.3));\n",
              "      fill: #FFFFFF;\n",
              "    }\n",
              "  </style>\n",
              "\n",
              "      <script>\n",
              "        const buttonEl =\n",
              "          document.querySelector('#df-240d39b4-f59e-4050-8ac3-b4b805178024 button.colab-df-convert');\n",
              "        buttonEl.style.display =\n",
              "          google.colab.kernel.accessAllowed ? 'block' : 'none';\n",
              "\n",
              "        async function convertToInteractive(key) {\n",
              "          const element = document.querySelector('#df-240d39b4-f59e-4050-8ac3-b4b805178024');\n",
              "          const dataTable =\n",
              "            await google.colab.kernel.invokeFunction('convertToInteractive',\n",
              "                                                     [key], {});\n",
              "          if (!dataTable) return;\n",
              "\n",
              "          const docLinkHtml = 'Like what you see? Visit the ' +\n",
              "            '<a target=\"_blank\" href=https://colab.research.google.com/notebooks/data_table.ipynb>data table notebook</a>'\n",
              "            + ' to learn more about interactive tables.';\n",
              "          element.innerHTML = '';\n",
              "          dataTable['output_type'] = 'display_data';\n",
              "          await google.colab.output.renderOutput(dataTable, element);\n",
              "          const docLink = document.createElement('div');\n",
              "          docLink.innerHTML = docLinkHtml;\n",
              "          element.appendChild(docLink);\n",
              "        }\n",
              "      </script>\n",
              "    </div>\n",
              "  </div>\n",
              "  "
            ]
          },
          "metadata": {},
          "execution_count": 253
        }
      ]
    },
    {
      "cell_type": "markdown",
      "source": [
        "# Multiple Linear Regression\n",
        "\n",
        "## Predicting the SOLD PRICE ( Auction Price ) of Players"
      ],
      "metadata": {
        "id": "uA_hmRyzxsNQ"
      }
    },
    {
      "cell_type": "markdown",
      "source": [
        "Loading the Dataset"
      ],
      "metadata": {
        "id": "O62sG1b9yMKn"
      }
    },
    {
      "cell_type": "code",
      "source": [
        "ipl_auction_df = pd.read_csv(\"https://raw.githubusercontent.com/manaranjanp/MLUsingPythonBook/main/data/IPL%20IMB381IPL2013.csv\")\n",
        "ipl_auction_df.head()"
      ],
      "metadata": {
        "id": "OhqXVSr47YvR",
        "colab": {
          "base_uri": "https://localhost:8080/",
          "height": 403
        },
        "outputId": "f492faf7-9659-4c21-be1b-84255ec0928a"
      },
      "execution_count": null,
      "outputs": [
        {
          "output_type": "execute_result",
          "data": {
            "text/plain": [
              "   Sl.NO.   PLAYER NAME  AGE COUNTRY  TEAM PLAYING ROLE  T-RUNS  T-WKTS  \\\n",
              "0       1   Abdulla, YA    2      SA  KXIP   Allrounder       0       0   \n",
              "1       2  Abdur Razzak    2     BAN   RCB       Bowler     214      18   \n",
              "2       3   Agarkar, AB    2     IND   KKR       Bowler     571      58   \n",
              "3       4     Ashwin, R    1     IND   CSK       Bowler     284      31   \n",
              "4       5  Badrinath, S    2     IND   CSK      Batsman      63       0   \n",
              "\n",
              "   ODI-RUNS-S  ODI-SR-B  ...    SR-B  SIXERS  RUNS-C  WKTS  AVE-BL   ECON  \\\n",
              "0           0      0.00  ...    0.00       0     307    15   20.47   8.90   \n",
              "1         657     71.41  ...    0.00       0      29     0    0.00  14.50   \n",
              "2        1269     80.62  ...  121.01       5    1059    29   36.52   8.81   \n",
              "3         241     84.56  ...   76.32       0    1125    49   22.96   6.23   \n",
              "4          79     45.93  ...  120.71      28       0     0    0.00   0.00   \n",
              "\n",
              "   SR-BL  AUCTION YEAR  BASE PRICE  SOLD PRICE  \n",
              "0  13.93          2009       50000       50000  \n",
              "1   0.00          2008       50000       50000  \n",
              "2  24.90          2008      200000      350000  \n",
              "3  22.14          2011      100000      850000  \n",
              "4   0.00          2011      100000      800000  \n",
              "\n",
              "[5 rows x 26 columns]"
            ],
            "text/html": [
              "\n",
              "  <div id=\"df-9334c9d2-6154-4732-958d-40fd6ee1c20b\">\n",
              "    <div class=\"colab-df-container\">\n",
              "      <div>\n",
              "<style scoped>\n",
              "    .dataframe tbody tr th:only-of-type {\n",
              "        vertical-align: middle;\n",
              "    }\n",
              "\n",
              "    .dataframe tbody tr th {\n",
              "        vertical-align: top;\n",
              "    }\n",
              "\n",
              "    .dataframe thead th {\n",
              "        text-align: right;\n",
              "    }\n",
              "</style>\n",
              "<table border=\"1\" class=\"dataframe\">\n",
              "  <thead>\n",
              "    <tr style=\"text-align: right;\">\n",
              "      <th></th>\n",
              "      <th>Sl.NO.</th>\n",
              "      <th>PLAYER NAME</th>\n",
              "      <th>AGE</th>\n",
              "      <th>COUNTRY</th>\n",
              "      <th>TEAM</th>\n",
              "      <th>PLAYING ROLE</th>\n",
              "      <th>T-RUNS</th>\n",
              "      <th>T-WKTS</th>\n",
              "      <th>ODI-RUNS-S</th>\n",
              "      <th>ODI-SR-B</th>\n",
              "      <th>...</th>\n",
              "      <th>SR-B</th>\n",
              "      <th>SIXERS</th>\n",
              "      <th>RUNS-C</th>\n",
              "      <th>WKTS</th>\n",
              "      <th>AVE-BL</th>\n",
              "      <th>ECON</th>\n",
              "      <th>SR-BL</th>\n",
              "      <th>AUCTION YEAR</th>\n",
              "      <th>BASE PRICE</th>\n",
              "      <th>SOLD PRICE</th>\n",
              "    </tr>\n",
              "  </thead>\n",
              "  <tbody>\n",
              "    <tr>\n",
              "      <th>0</th>\n",
              "      <td>1</td>\n",
              "      <td>Abdulla, YA</td>\n",
              "      <td>2</td>\n",
              "      <td>SA</td>\n",
              "      <td>KXIP</td>\n",
              "      <td>Allrounder</td>\n",
              "      <td>0</td>\n",
              "      <td>0</td>\n",
              "      <td>0</td>\n",
              "      <td>0.00</td>\n",
              "      <td>...</td>\n",
              "      <td>0.00</td>\n",
              "      <td>0</td>\n",
              "      <td>307</td>\n",
              "      <td>15</td>\n",
              "      <td>20.47</td>\n",
              "      <td>8.90</td>\n",
              "      <td>13.93</td>\n",
              "      <td>2009</td>\n",
              "      <td>50000</td>\n",
              "      <td>50000</td>\n",
              "    </tr>\n",
              "    <tr>\n",
              "      <th>1</th>\n",
              "      <td>2</td>\n",
              "      <td>Abdur Razzak</td>\n",
              "      <td>2</td>\n",
              "      <td>BAN</td>\n",
              "      <td>RCB</td>\n",
              "      <td>Bowler</td>\n",
              "      <td>214</td>\n",
              "      <td>18</td>\n",
              "      <td>657</td>\n",
              "      <td>71.41</td>\n",
              "      <td>...</td>\n",
              "      <td>0.00</td>\n",
              "      <td>0</td>\n",
              "      <td>29</td>\n",
              "      <td>0</td>\n",
              "      <td>0.00</td>\n",
              "      <td>14.50</td>\n",
              "      <td>0.00</td>\n",
              "      <td>2008</td>\n",
              "      <td>50000</td>\n",
              "      <td>50000</td>\n",
              "    </tr>\n",
              "    <tr>\n",
              "      <th>2</th>\n",
              "      <td>3</td>\n",
              "      <td>Agarkar, AB</td>\n",
              "      <td>2</td>\n",
              "      <td>IND</td>\n",
              "      <td>KKR</td>\n",
              "      <td>Bowler</td>\n",
              "      <td>571</td>\n",
              "      <td>58</td>\n",
              "      <td>1269</td>\n",
              "      <td>80.62</td>\n",
              "      <td>...</td>\n",
              "      <td>121.01</td>\n",
              "      <td>5</td>\n",
              "      <td>1059</td>\n",
              "      <td>29</td>\n",
              "      <td>36.52</td>\n",
              "      <td>8.81</td>\n",
              "      <td>24.90</td>\n",
              "      <td>2008</td>\n",
              "      <td>200000</td>\n",
              "      <td>350000</td>\n",
              "    </tr>\n",
              "    <tr>\n",
              "      <th>3</th>\n",
              "      <td>4</td>\n",
              "      <td>Ashwin, R</td>\n",
              "      <td>1</td>\n",
              "      <td>IND</td>\n",
              "      <td>CSK</td>\n",
              "      <td>Bowler</td>\n",
              "      <td>284</td>\n",
              "      <td>31</td>\n",
              "      <td>241</td>\n",
              "      <td>84.56</td>\n",
              "      <td>...</td>\n",
              "      <td>76.32</td>\n",
              "      <td>0</td>\n",
              "      <td>1125</td>\n",
              "      <td>49</td>\n",
              "      <td>22.96</td>\n",
              "      <td>6.23</td>\n",
              "      <td>22.14</td>\n",
              "      <td>2011</td>\n",
              "      <td>100000</td>\n",
              "      <td>850000</td>\n",
              "    </tr>\n",
              "    <tr>\n",
              "      <th>4</th>\n",
              "      <td>5</td>\n",
              "      <td>Badrinath, S</td>\n",
              "      <td>2</td>\n",
              "      <td>IND</td>\n",
              "      <td>CSK</td>\n",
              "      <td>Batsman</td>\n",
              "      <td>63</td>\n",
              "      <td>0</td>\n",
              "      <td>79</td>\n",
              "      <td>45.93</td>\n",
              "      <td>...</td>\n",
              "      <td>120.71</td>\n",
              "      <td>28</td>\n",
              "      <td>0</td>\n",
              "      <td>0</td>\n",
              "      <td>0.00</td>\n",
              "      <td>0.00</td>\n",
              "      <td>0.00</td>\n",
              "      <td>2011</td>\n",
              "      <td>100000</td>\n",
              "      <td>800000</td>\n",
              "    </tr>\n",
              "  </tbody>\n",
              "</table>\n",
              "<p>5 rows × 26 columns</p>\n",
              "</div>\n",
              "      <button class=\"colab-df-convert\" onclick=\"convertToInteractive('df-9334c9d2-6154-4732-958d-40fd6ee1c20b')\"\n",
              "              title=\"Convert this dataframe to an interactive table.\"\n",
              "              style=\"display:none;\">\n",
              "        \n",
              "  <svg xmlns=\"http://www.w3.org/2000/svg\" height=\"24px\"viewBox=\"0 0 24 24\"\n",
              "       width=\"24px\">\n",
              "    <path d=\"M0 0h24v24H0V0z\" fill=\"none\"/>\n",
              "    <path d=\"M18.56 5.44l.94 2.06.94-2.06 2.06-.94-2.06-.94-.94-2.06-.94 2.06-2.06.94zm-11 1L8.5 8.5l.94-2.06 2.06-.94-2.06-.94L8.5 2.5l-.94 2.06-2.06.94zm10 10l.94 2.06.94-2.06 2.06-.94-2.06-.94-.94-2.06-.94 2.06-2.06.94z\"/><path d=\"M17.41 7.96l-1.37-1.37c-.4-.4-.92-.59-1.43-.59-.52 0-1.04.2-1.43.59L10.3 9.45l-7.72 7.72c-.78.78-.78 2.05 0 2.83L4 21.41c.39.39.9.59 1.41.59.51 0 1.02-.2 1.41-.59l7.78-7.78 2.81-2.81c.8-.78.8-2.07 0-2.86zM5.41 20L4 18.59l7.72-7.72 1.47 1.35L5.41 20z\"/>\n",
              "  </svg>\n",
              "      </button>\n",
              "      \n",
              "  <style>\n",
              "    .colab-df-container {\n",
              "      display:flex;\n",
              "      flex-wrap:wrap;\n",
              "      gap: 12px;\n",
              "    }\n",
              "\n",
              "    .colab-df-convert {\n",
              "      background-color: #E8F0FE;\n",
              "      border: none;\n",
              "      border-radius: 50%;\n",
              "      cursor: pointer;\n",
              "      display: none;\n",
              "      fill: #1967D2;\n",
              "      height: 32px;\n",
              "      padding: 0 0 0 0;\n",
              "      width: 32px;\n",
              "    }\n",
              "\n",
              "    .colab-df-convert:hover {\n",
              "      background-color: #E2EBFA;\n",
              "      box-shadow: 0px 1px 2px rgba(60, 64, 67, 0.3), 0px 1px 3px 1px rgba(60, 64, 67, 0.15);\n",
              "      fill: #174EA6;\n",
              "    }\n",
              "\n",
              "    [theme=dark] .colab-df-convert {\n",
              "      background-color: #3B4455;\n",
              "      fill: #D2E3FC;\n",
              "    }\n",
              "\n",
              "    [theme=dark] .colab-df-convert:hover {\n",
              "      background-color: #434B5C;\n",
              "      box-shadow: 0px 1px 3px 1px rgba(0, 0, 0, 0.15);\n",
              "      filter: drop-shadow(0px 1px 2px rgba(0, 0, 0, 0.3));\n",
              "      fill: #FFFFFF;\n",
              "    }\n",
              "  </style>\n",
              "\n",
              "      <script>\n",
              "        const buttonEl =\n",
              "          document.querySelector('#df-9334c9d2-6154-4732-958d-40fd6ee1c20b button.colab-df-convert');\n",
              "        buttonEl.style.display =\n",
              "          google.colab.kernel.accessAllowed ? 'block' : 'none';\n",
              "\n",
              "        async function convertToInteractive(key) {\n",
              "          const element = document.querySelector('#df-9334c9d2-6154-4732-958d-40fd6ee1c20b');\n",
              "          const dataTable =\n",
              "            await google.colab.kernel.invokeFunction('convertToInteractive',\n",
              "                                                     [key], {});\n",
              "          if (!dataTable) return;\n",
              "\n",
              "          const docLinkHtml = 'Like what you see? Visit the ' +\n",
              "            '<a target=\"_blank\" href=https://colab.research.google.com/notebooks/data_table.ipynb>data table notebook</a>'\n",
              "            + ' to learn more about interactive tables.';\n",
              "          element.innerHTML = '';\n",
              "          dataTable['output_type'] = 'display_data';\n",
              "          await google.colab.output.renderOutput(dataTable, element);\n",
              "          const docLink = document.createElement('div');\n",
              "          docLink.innerHTML = docLinkHtml;\n",
              "          element.appendChild(docLink);\n",
              "        }\n",
              "      </script>\n",
              "    </div>\n",
              "  </div>\n",
              "  "
            ]
          },
          "metadata": {},
          "execution_count": 254
        }
      ]
    },
    {
      "cell_type": "code",
      "source": [
        "ipl_auction_df.info()"
      ],
      "metadata": {
        "colab": {
          "base_uri": "https://localhost:8080/"
        },
        "id": "nsJhnR_RzKYh",
        "outputId": "6cbf57f5-b16e-4255-f38c-27526f0d0b67"
      },
      "execution_count": null,
      "outputs": [
        {
          "output_type": "stream",
          "name": "stdout",
          "text": [
            "<class 'pandas.core.frame.DataFrame'>\n",
            "RangeIndex: 130 entries, 0 to 129\n",
            "Data columns (total 26 columns):\n",
            " #   Column         Non-Null Count  Dtype  \n",
            "---  ------         --------------  -----  \n",
            " 0   Sl.NO.         130 non-null    int64  \n",
            " 1   PLAYER NAME    130 non-null    object \n",
            " 2   AGE            130 non-null    int64  \n",
            " 3   COUNTRY        130 non-null    object \n",
            " 4   TEAM           130 non-null    object \n",
            " 5   PLAYING ROLE   130 non-null    object \n",
            " 6   T-RUNS         130 non-null    int64  \n",
            " 7   T-WKTS         130 non-null    int64  \n",
            " 8   ODI-RUNS-S     130 non-null    int64  \n",
            " 9   ODI-SR-B       130 non-null    float64\n",
            " 10  ODI-WKTS       130 non-null    int64  \n",
            " 11  ODI-SR-BL      130 non-null    float64\n",
            " 12  CAPTAINCY EXP  130 non-null    int64  \n",
            " 13  RUNS-S         130 non-null    int64  \n",
            " 14  HS             130 non-null    int64  \n",
            " 15  AVE            130 non-null    float64\n",
            " 16  SR-B           130 non-null    float64\n",
            " 17  SIXERS         130 non-null    int64  \n",
            " 18  RUNS-C         130 non-null    int64  \n",
            " 19  WKTS           130 non-null    int64  \n",
            " 20  AVE-BL         130 non-null    float64\n",
            " 21  ECON           130 non-null    float64\n",
            " 22  SR-BL          130 non-null    float64\n",
            " 23  AUCTION YEAR   130 non-null    int64  \n",
            " 24  BASE PRICE     130 non-null    int64  \n",
            " 25  SOLD PRICE     130 non-null    int64  \n",
            "dtypes: float64(7), int64(15), object(4)\n",
            "memory usage: 26.5+ KB\n"
          ]
        }
      ]
    },
    {
      "cell_type": "markdown",
      "source": [
        "Displaying the initial 10 columns of five rows"
      ],
      "metadata": {
        "id": "xSZXIdcbzUEX"
      }
    },
    {
      "cell_type": "code",
      "source": [
        "ipl_auction_df.iloc[0:5,0:10]"
      ],
      "metadata": {
        "colab": {
          "base_uri": "https://localhost:8080/",
          "height": 206
        },
        "id": "yYAxC3iAzPyc",
        "outputId": "0417633f-32cf-45db-f38b-c0766e22556b"
      },
      "execution_count": null,
      "outputs": [
        {
          "output_type": "execute_result",
          "data": {
            "text/plain": [
              "   Sl.NO.   PLAYER NAME  AGE COUNTRY  TEAM PLAYING ROLE  T-RUNS  T-WKTS  \\\n",
              "0       1   Abdulla, YA    2      SA  KXIP   Allrounder       0       0   \n",
              "1       2  Abdur Razzak    2     BAN   RCB       Bowler     214      18   \n",
              "2       3   Agarkar, AB    2     IND   KKR       Bowler     571      58   \n",
              "3       4     Ashwin, R    1     IND   CSK       Bowler     284      31   \n",
              "4       5  Badrinath, S    2     IND   CSK      Batsman      63       0   \n",
              "\n",
              "   ODI-RUNS-S  ODI-SR-B  \n",
              "0           0      0.00  \n",
              "1         657     71.41  \n",
              "2        1269     80.62  \n",
              "3         241     84.56  \n",
              "4          79     45.93  "
            ],
            "text/html": [
              "\n",
              "  <div id=\"df-206a463d-a92e-4a16-bd2b-51848385e309\">\n",
              "    <div class=\"colab-df-container\">\n",
              "      <div>\n",
              "<style scoped>\n",
              "    .dataframe tbody tr th:only-of-type {\n",
              "        vertical-align: middle;\n",
              "    }\n",
              "\n",
              "    .dataframe tbody tr th {\n",
              "        vertical-align: top;\n",
              "    }\n",
              "\n",
              "    .dataframe thead th {\n",
              "        text-align: right;\n",
              "    }\n",
              "</style>\n",
              "<table border=\"1\" class=\"dataframe\">\n",
              "  <thead>\n",
              "    <tr style=\"text-align: right;\">\n",
              "      <th></th>\n",
              "      <th>Sl.NO.</th>\n",
              "      <th>PLAYER NAME</th>\n",
              "      <th>AGE</th>\n",
              "      <th>COUNTRY</th>\n",
              "      <th>TEAM</th>\n",
              "      <th>PLAYING ROLE</th>\n",
              "      <th>T-RUNS</th>\n",
              "      <th>T-WKTS</th>\n",
              "      <th>ODI-RUNS-S</th>\n",
              "      <th>ODI-SR-B</th>\n",
              "    </tr>\n",
              "  </thead>\n",
              "  <tbody>\n",
              "    <tr>\n",
              "      <th>0</th>\n",
              "      <td>1</td>\n",
              "      <td>Abdulla, YA</td>\n",
              "      <td>2</td>\n",
              "      <td>SA</td>\n",
              "      <td>KXIP</td>\n",
              "      <td>Allrounder</td>\n",
              "      <td>0</td>\n",
              "      <td>0</td>\n",
              "      <td>0</td>\n",
              "      <td>0.00</td>\n",
              "    </tr>\n",
              "    <tr>\n",
              "      <th>1</th>\n",
              "      <td>2</td>\n",
              "      <td>Abdur Razzak</td>\n",
              "      <td>2</td>\n",
              "      <td>BAN</td>\n",
              "      <td>RCB</td>\n",
              "      <td>Bowler</td>\n",
              "      <td>214</td>\n",
              "      <td>18</td>\n",
              "      <td>657</td>\n",
              "      <td>71.41</td>\n",
              "    </tr>\n",
              "    <tr>\n",
              "      <th>2</th>\n",
              "      <td>3</td>\n",
              "      <td>Agarkar, AB</td>\n",
              "      <td>2</td>\n",
              "      <td>IND</td>\n",
              "      <td>KKR</td>\n",
              "      <td>Bowler</td>\n",
              "      <td>571</td>\n",
              "      <td>58</td>\n",
              "      <td>1269</td>\n",
              "      <td>80.62</td>\n",
              "    </tr>\n",
              "    <tr>\n",
              "      <th>3</th>\n",
              "      <td>4</td>\n",
              "      <td>Ashwin, R</td>\n",
              "      <td>1</td>\n",
              "      <td>IND</td>\n",
              "      <td>CSK</td>\n",
              "      <td>Bowler</td>\n",
              "      <td>284</td>\n",
              "      <td>31</td>\n",
              "      <td>241</td>\n",
              "      <td>84.56</td>\n",
              "    </tr>\n",
              "    <tr>\n",
              "      <th>4</th>\n",
              "      <td>5</td>\n",
              "      <td>Badrinath, S</td>\n",
              "      <td>2</td>\n",
              "      <td>IND</td>\n",
              "      <td>CSK</td>\n",
              "      <td>Batsman</td>\n",
              "      <td>63</td>\n",
              "      <td>0</td>\n",
              "      <td>79</td>\n",
              "      <td>45.93</td>\n",
              "    </tr>\n",
              "  </tbody>\n",
              "</table>\n",
              "</div>\n",
              "      <button class=\"colab-df-convert\" onclick=\"convertToInteractive('df-206a463d-a92e-4a16-bd2b-51848385e309')\"\n",
              "              title=\"Convert this dataframe to an interactive table.\"\n",
              "              style=\"display:none;\">\n",
              "        \n",
              "  <svg xmlns=\"http://www.w3.org/2000/svg\" height=\"24px\"viewBox=\"0 0 24 24\"\n",
              "       width=\"24px\">\n",
              "    <path d=\"M0 0h24v24H0V0z\" fill=\"none\"/>\n",
              "    <path d=\"M18.56 5.44l.94 2.06.94-2.06 2.06-.94-2.06-.94-.94-2.06-.94 2.06-2.06.94zm-11 1L8.5 8.5l.94-2.06 2.06-.94-2.06-.94L8.5 2.5l-.94 2.06-2.06.94zm10 10l.94 2.06.94-2.06 2.06-.94-2.06-.94-.94-2.06-.94 2.06-2.06.94z\"/><path d=\"M17.41 7.96l-1.37-1.37c-.4-.4-.92-.59-1.43-.59-.52 0-1.04.2-1.43.59L10.3 9.45l-7.72 7.72c-.78.78-.78 2.05 0 2.83L4 21.41c.39.39.9.59 1.41.59.51 0 1.02-.2 1.41-.59l7.78-7.78 2.81-2.81c.8-.78.8-2.07 0-2.86zM5.41 20L4 18.59l7.72-7.72 1.47 1.35L5.41 20z\"/>\n",
              "  </svg>\n",
              "      </button>\n",
              "      \n",
              "  <style>\n",
              "    .colab-df-container {\n",
              "      display:flex;\n",
              "      flex-wrap:wrap;\n",
              "      gap: 12px;\n",
              "    }\n",
              "\n",
              "    .colab-df-convert {\n",
              "      background-color: #E8F0FE;\n",
              "      border: none;\n",
              "      border-radius: 50%;\n",
              "      cursor: pointer;\n",
              "      display: none;\n",
              "      fill: #1967D2;\n",
              "      height: 32px;\n",
              "      padding: 0 0 0 0;\n",
              "      width: 32px;\n",
              "    }\n",
              "\n",
              "    .colab-df-convert:hover {\n",
              "      background-color: #E2EBFA;\n",
              "      box-shadow: 0px 1px 2px rgba(60, 64, 67, 0.3), 0px 1px 3px 1px rgba(60, 64, 67, 0.15);\n",
              "      fill: #174EA6;\n",
              "    }\n",
              "\n",
              "    [theme=dark] .colab-df-convert {\n",
              "      background-color: #3B4455;\n",
              "      fill: #D2E3FC;\n",
              "    }\n",
              "\n",
              "    [theme=dark] .colab-df-convert:hover {\n",
              "      background-color: #434B5C;\n",
              "      box-shadow: 0px 1px 3px 1px rgba(0, 0, 0, 0.15);\n",
              "      filter: drop-shadow(0px 1px 2px rgba(0, 0, 0, 0.3));\n",
              "      fill: #FFFFFF;\n",
              "    }\n",
              "  </style>\n",
              "\n",
              "      <script>\n",
              "        const buttonEl =\n",
              "          document.querySelector('#df-206a463d-a92e-4a16-bd2b-51848385e309 button.colab-df-convert');\n",
              "        buttonEl.style.display =\n",
              "          google.colab.kernel.accessAllowed ? 'block' : 'none';\n",
              "\n",
              "        async function convertToInteractive(key) {\n",
              "          const element = document.querySelector('#df-206a463d-a92e-4a16-bd2b-51848385e309');\n",
              "          const dataTable =\n",
              "            await google.colab.kernel.invokeFunction('convertToInteractive',\n",
              "                                                     [key], {});\n",
              "          if (!dataTable) return;\n",
              "\n",
              "          const docLinkHtml = 'Like what you see? Visit the ' +\n",
              "            '<a target=\"_blank\" href=https://colab.research.google.com/notebooks/data_table.ipynb>data table notebook</a>'\n",
              "            + ' to learn more about interactive tables.';\n",
              "          element.innerHTML = '';\n",
              "          dataTable['output_type'] = 'display_data';\n",
              "          await google.colab.output.renderOutput(dataTable, element);\n",
              "          const docLink = document.createElement('div');\n",
              "          docLink.innerHTML = docLinkHtml;\n",
              "          element.appendChild(docLink);\n",
              "        }\n",
              "      </script>\n",
              "    </div>\n",
              "  </div>\n",
              "  "
            ]
          },
          "metadata": {},
          "execution_count": 256
        }
      ]
    },
    {
      "cell_type": "code",
      "source": [
        "ipl_auction_df.columns"
      ],
      "metadata": {
        "colab": {
          "base_uri": "https://localhost:8080/"
        },
        "id": "da9aA-8ZzcGi",
        "outputId": "0ccef72d-8423-4298-8198-53f0d6f83fef"
      },
      "execution_count": null,
      "outputs": [
        {
          "output_type": "execute_result",
          "data": {
            "text/plain": [
              "Index(['Sl.NO.', 'PLAYER NAME', 'AGE', 'COUNTRY', 'TEAM', 'PLAYING ROLE',\n",
              "       'T-RUNS', 'T-WKTS', 'ODI-RUNS-S', 'ODI-SR-B', 'ODI-WKTS', 'ODI-SR-BL',\n",
              "       'CAPTAINCY EXP', 'RUNS-S', 'HS', 'AVE', 'SR-B', 'SIXERS', 'RUNS-C',\n",
              "       'WKTS', 'AVE-BL', 'ECON', 'SR-BL', 'AUCTION YEAR', 'BASE PRICE',\n",
              "       'SOLD PRICE'],\n",
              "      dtype='object')"
            ]
          },
          "metadata": {},
          "execution_count": 257
        }
      ]
    },
    {
      "cell_type": "markdown",
      "source": [
        "Not all features can be used in building the model, we take out Sl.NO, PLAYER NAME, TEAM, AUCTION YEAR, BASE PRICE from the X features"
      ],
      "metadata": {
        "id": "8mJj5VMqz8vt"
      }
    },
    {
      "cell_type": "code",
      "source": [
        "X_features = [ 'AGE', 'COUNTRY', 'PLAYING ROLE',\n",
        "       'T-RUNS', 'T-WKTS', 'ODI-RUNS-S', 'ODI-SR-B', 'ODI-WKTS', 'ODI-SR-BL',\n",
        "       'CAPTAINCY EXP', 'RUNS-S', 'HS', 'AVE', 'SR-B', 'SIXERS', 'RUNS-C',\n",
        "       'WKTS', 'AVE-BL', 'ECON', 'SR-BL']"
      ],
      "metadata": {
        "id": "wVMRwGghz6fI"
      },
      "execution_count": null,
      "outputs": []
    },
    {
      "cell_type": "markdown",
      "source": [
        "Some features such as AGE, COUNTRY, PLAYING ROLE, CAPTAINCY EXP are categorical and hence need to be encoded before building the model"
      ],
      "metadata": {
        "id": "g-pLquDE4w-1"
      }
    },
    {
      "cell_type": "code",
      "source": [
        "ipl_auction_df['PLAYING ROLE'].unique()"
      ],
      "metadata": {
        "colab": {
          "base_uri": "https://localhost:8080/"
        },
        "id": "CoTQtJEl4_37",
        "outputId": "b1db5628-24f7-427f-b52b-684e338ecf00"
      },
      "execution_count": null,
      "outputs": [
        {
          "output_type": "execute_result",
          "data": {
            "text/plain": [
              "array(['Allrounder', 'Bowler', 'Batsman', 'W. Keeper'], dtype=object)"
            ]
          },
          "metadata": {},
          "execution_count": 259
        }
      ]
    },
    {
      "cell_type": "markdown",
      "source": [
        "Checking for first five players"
      ],
      "metadata": {
        "id": "H5hD7joL5a7E"
      }
    },
    {
      "cell_type": "code",
      "source": [
        "pd.get_dummies(ipl_auction_df['PLAYING ROLE'])[0:5]"
      ],
      "metadata": {
        "colab": {
          "base_uri": "https://localhost:8080/",
          "height": 206
        },
        "id": "n1RTqx_A5Hrt",
        "outputId": "6babd64d-9737-4341-fa62-f14fa4bcb123"
      },
      "execution_count": null,
      "outputs": [
        {
          "output_type": "execute_result",
          "data": {
            "text/plain": [
              "   Allrounder  Batsman  Bowler  W. Keeper\n",
              "0           1        0       0          0\n",
              "1           0        0       1          0\n",
              "2           0        0       1          0\n",
              "3           0        0       1          0\n",
              "4           0        1       0          0"
            ],
            "text/html": [
              "\n",
              "  <div id=\"df-14867e17-32f8-4e53-9ee0-1362a837ac6d\">\n",
              "    <div class=\"colab-df-container\">\n",
              "      <div>\n",
              "<style scoped>\n",
              "    .dataframe tbody tr th:only-of-type {\n",
              "        vertical-align: middle;\n",
              "    }\n",
              "\n",
              "    .dataframe tbody tr th {\n",
              "        vertical-align: top;\n",
              "    }\n",
              "\n",
              "    .dataframe thead th {\n",
              "        text-align: right;\n",
              "    }\n",
              "</style>\n",
              "<table border=\"1\" class=\"dataframe\">\n",
              "  <thead>\n",
              "    <tr style=\"text-align: right;\">\n",
              "      <th></th>\n",
              "      <th>Allrounder</th>\n",
              "      <th>Batsman</th>\n",
              "      <th>Bowler</th>\n",
              "      <th>W. Keeper</th>\n",
              "    </tr>\n",
              "  </thead>\n",
              "  <tbody>\n",
              "    <tr>\n",
              "      <th>0</th>\n",
              "      <td>1</td>\n",
              "      <td>0</td>\n",
              "      <td>0</td>\n",
              "      <td>0</td>\n",
              "    </tr>\n",
              "    <tr>\n",
              "      <th>1</th>\n",
              "      <td>0</td>\n",
              "      <td>0</td>\n",
              "      <td>1</td>\n",
              "      <td>0</td>\n",
              "    </tr>\n",
              "    <tr>\n",
              "      <th>2</th>\n",
              "      <td>0</td>\n",
              "      <td>0</td>\n",
              "      <td>1</td>\n",
              "      <td>0</td>\n",
              "    </tr>\n",
              "    <tr>\n",
              "      <th>3</th>\n",
              "      <td>0</td>\n",
              "      <td>0</td>\n",
              "      <td>1</td>\n",
              "      <td>0</td>\n",
              "    </tr>\n",
              "    <tr>\n",
              "      <th>4</th>\n",
              "      <td>0</td>\n",
              "      <td>1</td>\n",
              "      <td>0</td>\n",
              "      <td>0</td>\n",
              "    </tr>\n",
              "  </tbody>\n",
              "</table>\n",
              "</div>\n",
              "      <button class=\"colab-df-convert\" onclick=\"convertToInteractive('df-14867e17-32f8-4e53-9ee0-1362a837ac6d')\"\n",
              "              title=\"Convert this dataframe to an interactive table.\"\n",
              "              style=\"display:none;\">\n",
              "        \n",
              "  <svg xmlns=\"http://www.w3.org/2000/svg\" height=\"24px\"viewBox=\"0 0 24 24\"\n",
              "       width=\"24px\">\n",
              "    <path d=\"M0 0h24v24H0V0z\" fill=\"none\"/>\n",
              "    <path d=\"M18.56 5.44l.94 2.06.94-2.06 2.06-.94-2.06-.94-.94-2.06-.94 2.06-2.06.94zm-11 1L8.5 8.5l.94-2.06 2.06-.94-2.06-.94L8.5 2.5l-.94 2.06-2.06.94zm10 10l.94 2.06.94-2.06 2.06-.94-2.06-.94-.94-2.06-.94 2.06-2.06.94z\"/><path d=\"M17.41 7.96l-1.37-1.37c-.4-.4-.92-.59-1.43-.59-.52 0-1.04.2-1.43.59L10.3 9.45l-7.72 7.72c-.78.78-.78 2.05 0 2.83L4 21.41c.39.39.9.59 1.41.59.51 0 1.02-.2 1.41-.59l7.78-7.78 2.81-2.81c.8-.78.8-2.07 0-2.86zM5.41 20L4 18.59l7.72-7.72 1.47 1.35L5.41 20z\"/>\n",
              "  </svg>\n",
              "      </button>\n",
              "      \n",
              "  <style>\n",
              "    .colab-df-container {\n",
              "      display:flex;\n",
              "      flex-wrap:wrap;\n",
              "      gap: 12px;\n",
              "    }\n",
              "\n",
              "    .colab-df-convert {\n",
              "      background-color: #E8F0FE;\n",
              "      border: none;\n",
              "      border-radius: 50%;\n",
              "      cursor: pointer;\n",
              "      display: none;\n",
              "      fill: #1967D2;\n",
              "      height: 32px;\n",
              "      padding: 0 0 0 0;\n",
              "      width: 32px;\n",
              "    }\n",
              "\n",
              "    .colab-df-convert:hover {\n",
              "      background-color: #E2EBFA;\n",
              "      box-shadow: 0px 1px 2px rgba(60, 64, 67, 0.3), 0px 1px 3px 1px rgba(60, 64, 67, 0.15);\n",
              "      fill: #174EA6;\n",
              "    }\n",
              "\n",
              "    [theme=dark] .colab-df-convert {\n",
              "      background-color: #3B4455;\n",
              "      fill: #D2E3FC;\n",
              "    }\n",
              "\n",
              "    [theme=dark] .colab-df-convert:hover {\n",
              "      background-color: #434B5C;\n",
              "      box-shadow: 0px 1px 3px 1px rgba(0, 0, 0, 0.15);\n",
              "      filter: drop-shadow(0px 1px 2px rgba(0, 0, 0, 0.3));\n",
              "      fill: #FFFFFF;\n",
              "    }\n",
              "  </style>\n",
              "\n",
              "      <script>\n",
              "        const buttonEl =\n",
              "          document.querySelector('#df-14867e17-32f8-4e53-9ee0-1362a837ac6d button.colab-df-convert');\n",
              "        buttonEl.style.display =\n",
              "          google.colab.kernel.accessAllowed ? 'block' : 'none';\n",
              "\n",
              "        async function convertToInteractive(key) {\n",
              "          const element = document.querySelector('#df-14867e17-32f8-4e53-9ee0-1362a837ac6d');\n",
              "          const dataTable =\n",
              "            await google.colab.kernel.invokeFunction('convertToInteractive',\n",
              "                                                     [key], {});\n",
              "          if (!dataTable) return;\n",
              "\n",
              "          const docLinkHtml = 'Like what you see? Visit the ' +\n",
              "            '<a target=\"_blank\" href=https://colab.research.google.com/notebooks/data_table.ipynb>data table notebook</a>'\n",
              "            + ' to learn more about interactive tables.';\n",
              "          element.innerHTML = '';\n",
              "          dataTable['output_type'] = 'display_data';\n",
              "          await google.colab.output.renderOutput(dataTable, element);\n",
              "          const docLink = document.createElement('div');\n",
              "          docLink.innerHTML = docLinkHtml;\n",
              "          element.appendChild(docLink);\n",
              "        }\n",
              "      </script>\n",
              "    </div>\n",
              "  </div>\n",
              "  "
            ]
          },
          "metadata": {},
          "execution_count": 260
        }
      ]
    },
    {
      "cell_type": "markdown",
      "source": [
        "To drop one category, the parameter drop_first should be set to True"
      ],
      "metadata": {
        "id": "jJ6CnAhU5xZy"
      }
    },
    {
      "cell_type": "code",
      "source": [
        "categorical_features = ['AGE','COUNTRY','PLAYING ROLE','CAPTAINCY EXP']\n",
        "ipl_auction_encoded_df = pd.get_dummies(ipl_auction_df[X_features],\n",
        "                                        columns = categorical_features,\n",
        "                                        drop_first=True)\n",
        "ipl_auction_encoded_df.columns"
      ],
      "metadata": {
        "colab": {
          "base_uri": "https://localhost:8080/"
        },
        "id": "rut1fbob5fYy",
        "outputId": "cb3903f2-23b8-4ca0-ff0c-dd77081ff577"
      },
      "execution_count": null,
      "outputs": [
        {
          "output_type": "execute_result",
          "data": {
            "text/plain": [
              "Index(['T-RUNS', 'T-WKTS', 'ODI-RUNS-S', 'ODI-SR-B', 'ODI-WKTS', 'ODI-SR-BL',\n",
              "       'RUNS-S', 'HS', 'AVE', 'SR-B', 'SIXERS', 'RUNS-C', 'WKTS', 'AVE-BL',\n",
              "       'ECON', 'SR-BL', 'AGE_2', 'AGE_3', 'COUNTRY_BAN', 'COUNTRY_ENG',\n",
              "       'COUNTRY_IND', 'COUNTRY_NZ', 'COUNTRY_PAK', 'COUNTRY_SA', 'COUNTRY_SL',\n",
              "       'COUNTRY_WI', 'COUNTRY_ZIM', 'PLAYING ROLE_Batsman',\n",
              "       'PLAYING ROLE_Bowler', 'PLAYING ROLE_W. Keeper', 'CAPTAINCY EXP_1'],\n",
              "      dtype='object')"
            ]
          },
          "metadata": {},
          "execution_count": 261
        }
      ]
    },
    {
      "cell_type": "code",
      "source": [
        "X_features = ipl_auction_encoded_df.columns"
      ],
      "metadata": {
        "id": "qhMeCVaA6hLd"
      },
      "execution_count": null,
      "outputs": []
    },
    {
      "cell_type": "markdown",
      "source": [
        "Splittig the dataset into the Train and Validation Sets"
      ],
      "metadata": {
        "id": "khB1vewW65k7"
      }
    },
    {
      "cell_type": "code",
      "source": [
        "X = sm.add_constant(ipl_auction_encoded_df)\n",
        "Y = ipl_auction_df['SOLD PRICE']\n",
        "train_X, test_X, train_y, test_y = train_test_split(X,\n",
        "                                                    Y,\n",
        "                                                    train_size = 0.8,\n",
        "                                                    random_state =42)\n"
      ],
      "metadata": {
        "colab": {
          "base_uri": "https://localhost:8080/"
        },
        "id": "SadOYXKD61uP",
        "outputId": "79920cfb-ac5a-4afe-fe6b-d9c5c5d15f28"
      },
      "execution_count": null,
      "outputs": [
        {
          "output_type": "stream",
          "name": "stderr",
          "text": [
            "/usr/local/lib/python3.7/dist-packages/statsmodels/tsa/tsatools.py:142: FutureWarning: In a future version of pandas all arguments of concat except for the argument 'objs' will be keyword-only\n",
            "  x = pd.concat(x[::order], 1)\n"
          ]
        }
      ]
    },
    {
      "cell_type": "markdown",
      "source": [
        "Building the mode on the Training Dataset"
      ],
      "metadata": {
        "id": "oZ9tEXYZ7oou"
      }
    },
    {
      "cell_type": "code",
      "source": [
        "ipl_model_1 = sm.OLS(train_y,train_X).fit()\n",
        "ipl_model_1.summary2()"
      ],
      "metadata": {
        "colab": {
          "base_uri": "https://localhost:8080/",
          "height": 963
        },
        "id": "CiucYVi77iDH",
        "outputId": "8b80d588-73eb-45d8-f67a-eabb8ebbd59b"
      },
      "execution_count": null,
      "outputs": [
        {
          "output_type": "execute_result",
          "data": {
            "text/plain": [
              "<class 'statsmodels.iolib.summary2.Summary'>\n",
              "\"\"\"\n",
              "                            Results: Ordinary least squares\n",
              "========================================================================================\n",
              "Model:                     OLS                     Adj. R-squared:            0.362     \n",
              "Dependent Variable:        SOLD PRICE              AIC:                       2965.2841 \n",
              "Date:                      2022-10-08 07:31        BIC:                       3049.9046 \n",
              "No. Observations:          104                     Log-Likelihood:            -1450.6   \n",
              "Df Model:                  31                      F-statistic:               2.883     \n",
              "Df Residuals:              72                      Prob (F-statistic):        0.000114  \n",
              "R-squared:                 0.554                   Scale:                     1.1034e+11\n",
              "----------------------------------------------------------------------------------------\n",
              "                          Coef.       Std.Err.     t    P>|t|     [0.025       0.975]   \n",
              "----------------------------------------------------------------------------------------\n",
              "const                   375827.1991 228849.9306  1.6422 0.1049  -80376.7996  832031.1978\n",
              "T-RUNS                     -53.7890     32.7172 -1.6441 0.1045    -119.0096      11.4316\n",
              "T-WKTS                    -132.5967    609.7525 -0.2175 0.8285   -1348.1162    1082.9228\n",
              "ODI-RUNS-S                  57.9600     31.5071  1.8396 0.0700      -4.8482     120.7681\n",
              "ODI-SR-B                  -524.1450   1576.6368 -0.3324 0.7405   -3667.1130    2618.8231\n",
              "ODI-WKTS                   815.3944    832.3883  0.9796 0.3306    -843.9413    2474.7301\n",
              "ODI-SR-BL                 -773.3092   1536.3334 -0.5033 0.6163   -3835.9338    2289.3154\n",
              "RUNS-S                     114.7205    173.3088  0.6619 0.5101    -230.7643     460.2054\n",
              "HS                       -5516.3354   2586.3277 -2.1329 0.0363  -10672.0855    -360.5853\n",
              "AVE                      21560.2760   7774.2419  2.7733 0.0071    6062.6080   37057.9439\n",
              "SR-B                     -1324.7218   1373.1303 -0.9647 0.3379   -4062.0071    1412.5635\n",
              "SIXERS                    4264.1001   4089.6000  1.0427 0.3006   -3888.3685   12416.5687\n",
              "RUNS-C                      69.8250    297.6697  0.2346 0.8152    -523.5687     663.2187\n",
              "WKTS                      3075.2422   7262.4452  0.4234 0.6732  -11402.1778   17552.6622\n",
              "AVE-BL                    5182.9335  10230.1581  0.5066 0.6140  -15210.5140   25576.3810\n",
              "ECON                     -6820.7781  13109.3693 -0.5203 0.6045  -32953.8282   19312.2721\n",
              "SR-BL                    -7658.8094  14041.8735 -0.5454 0.5871  -35650.7726   20333.1539\n",
              "AGE_2                  -230767.6463 114117.2005 -2.0222 0.0469 -458256.1279   -3279.1648\n",
              "AGE_3                  -216827.0808 152246.6232 -1.4242 0.1587 -520325.1772   86671.0155\n",
              "COUNTRY_BAN            -122103.5196 438719.2796 -0.2783 0.7816 -996674.4194  752467.3801\n",
              "COUNTRY_ENG             672410.7654 238386.2220  2.8207 0.0062  197196.5172 1147625.0135\n",
              "COUNTRY_IND             155306.4011 126316.3449  1.2295 0.2229  -96500.6302  407113.4325\n",
              "COUNTRY_NZ              194218.9120 173491.9293  1.1195 0.2667 -151630.9280  540068.7521\n",
              "COUNTRY_PAK              75921.7670 193463.5545  0.3924 0.6959 -309740.7804  461584.3143\n",
              "COUNTRY_SA               64283.3894 144587.6773  0.4446 0.6579 -223946.8775  352513.6563\n",
              "COUNTRY_SL               17360.1530 176333.7497  0.0985 0.9218 -334154.7526  368875.0586\n",
              "COUNTRY_WI               10607.7792 230686.7892  0.0460 0.9635 -449257.9303  470473.4887\n",
              "COUNTRY_ZIM            -145494.4793 401505.2815 -0.3624 0.7181 -945880.6296  654891.6710\n",
              "PLAYING ROLE_Batsman     75724.7643 150250.0240  0.5040 0.6158 -223793.1844  375242.7130\n",
              "PLAYING ROLE_Bowler      15395.8752 126308.1272  0.1219 0.9033 -236394.7744  267186.5249\n",
              "PLAYING ROLE_W. Keeper  -71358.6280 213585.7444 -0.3341 0.7393 -497134.0278  354416.7718\n",
              "CAPTAINCY EXP_1         164113.3972 123430.6353  1.3296 0.1878  -81941.0772  410167.8716\n",
              "----------------------------------------------------------------------------------------\n",
              "Omnibus:                       0.891               Durbin-Watson:                  2.244\n",
              "Prob(Omnibus):                 0.640               Jarque-Bera (JB):               0.638\n",
              "Skew:                          0.190               Prob(JB):                       0.727\n",
              "Kurtosis:                      3.059               Condition No.:                  84116\n",
              "========================================================================================\n",
              "* The condition number is large (8e+04). This might indicate             strong\n",
              "multicollinearity or other numerical problems.\n",
              "\"\"\""
            ],
            "text/html": [
              "<table class=\"simpletable\">\n",
              "<tr>\n",
              "        <td>Model:</td>               <td>OLS</td>         <td>Adj. R-squared:</td>      <td>0.362</td>  \n",
              "</tr>\n",
              "<tr>\n",
              "  <td>Dependent Variable:</td>    <td>SOLD PRICE</td>           <td>AIC:</td>          <td>2965.2841</td>\n",
              "</tr>\n",
              "<tr>\n",
              "         <td>Date:</td>        <td>2022-10-08 07:31</td>        <td>BIC:</td>          <td>3049.9046</td>\n",
              "</tr>\n",
              "<tr>\n",
              "   <td>No. Observations:</td>         <td>104</td>         <td>Log-Likelihood:</td>     <td>-1450.6</td> \n",
              "</tr>\n",
              "<tr>\n",
              "       <td>Df Model:</td>             <td>31</td>           <td>F-statistic:</td>        <td>2.883</td>  \n",
              "</tr>\n",
              "<tr>\n",
              "     <td>Df Residuals:</td>           <td>72</td>        <td>Prob (F-statistic):</td>  <td>0.000114</td> \n",
              "</tr>\n",
              "<tr>\n",
              "      <td>R-squared:</td>            <td>0.554</td>            <td>Scale:</td>        <td>1.1034e+11</td>\n",
              "</tr>\n",
              "</table>\n",
              "<table class=\"simpletable\">\n",
              "<tr>\n",
              "             <td></td>                <th>Coef.</th>     <th>Std.Err.</th>      <th>t</th>     <th>P>|t|</th>    <th>[0.025</th>       <th>0.975]</th>   \n",
              "</tr>\n",
              "<tr>\n",
              "  <th>const</th>                   <td>375827.1991</td> <td>228849.9306</td> <td>1.6422</td>  <td>0.1049</td>  <td>-80376.7996</td>  <td>832031.1978</td>\n",
              "</tr>\n",
              "<tr>\n",
              "  <th>T-RUNS</th>                   <td>-53.7890</td>     <td>32.7172</td>   <td>-1.6441</td> <td>0.1045</td>   <td>-119.0096</td>     <td>11.4316</td>  \n",
              "</tr>\n",
              "<tr>\n",
              "  <th>T-WKTS</th>                   <td>-132.5967</td>   <td>609.7525</td>   <td>-0.2175</td> <td>0.8285</td>  <td>-1348.1162</td>    <td>1082.9228</td> \n",
              "</tr>\n",
              "<tr>\n",
              "  <th>ODI-RUNS-S</th>                <td>57.9600</td>     <td>31.5071</td>   <td>1.8396</td>  <td>0.0700</td>    <td>-4.8482</td>     <td>120.7681</td>  \n",
              "</tr>\n",
              "<tr>\n",
              "  <th>ODI-SR-B</th>                 <td>-524.1450</td>   <td>1576.6368</td>  <td>-0.3324</td> <td>0.7405</td>  <td>-3667.1130</td>    <td>2618.8231</td> \n",
              "</tr>\n",
              "<tr>\n",
              "  <th>ODI-WKTS</th>                 <td>815.3944</td>    <td>832.3883</td>   <td>0.9796</td>  <td>0.3306</td>   <td>-843.9413</td>    <td>2474.7301</td> \n",
              "</tr>\n",
              "<tr>\n",
              "  <th>ODI-SR-BL</th>                <td>-773.3092</td>   <td>1536.3334</td>  <td>-0.5033</td> <td>0.6163</td>  <td>-3835.9338</td>    <td>2289.3154</td> \n",
              "</tr>\n",
              "<tr>\n",
              "  <th>RUNS-S</th>                   <td>114.7205</td>    <td>173.3088</td>   <td>0.6619</td>  <td>0.5101</td>   <td>-230.7643</td>    <td>460.2054</td>  \n",
              "</tr>\n",
              "<tr>\n",
              "  <th>HS</th>                      <td>-5516.3354</td>   <td>2586.3277</td>  <td>-2.1329</td> <td>0.0363</td>  <td>-10672.0855</td>   <td>-360.5853</td> \n",
              "</tr>\n",
              "<tr>\n",
              "  <th>AVE</th>                     <td>21560.2760</td>   <td>7774.2419</td>  <td>2.7733</td>  <td>0.0071</td>   <td>6062.6080</td>   <td>37057.9439</td> \n",
              "</tr>\n",
              "<tr>\n",
              "  <th>SR-B</th>                    <td>-1324.7218</td>   <td>1373.1303</td>  <td>-0.9647</td> <td>0.3379</td>  <td>-4062.0071</td>    <td>1412.5635</td> \n",
              "</tr>\n",
              "<tr>\n",
              "  <th>SIXERS</th>                   <td>4264.1001</td>   <td>4089.6000</td>  <td>1.0427</td>  <td>0.3006</td>  <td>-3888.3685</td>   <td>12416.5687</td> \n",
              "</tr>\n",
              "<tr>\n",
              "  <th>RUNS-C</th>                    <td>69.8250</td>    <td>297.6697</td>   <td>0.2346</td>  <td>0.8152</td>   <td>-523.5687</td>    <td>663.2187</td>  \n",
              "</tr>\n",
              "<tr>\n",
              "  <th>WKTS</th>                     <td>3075.2422</td>   <td>7262.4452</td>  <td>0.4234</td>  <td>0.6732</td>  <td>-11402.1778</td>  <td>17552.6622</td> \n",
              "</tr>\n",
              "<tr>\n",
              "  <th>AVE-BL</th>                   <td>5182.9335</td>  <td>10230.1581</td>  <td>0.5066</td>  <td>0.6140</td>  <td>-15210.5140</td>  <td>25576.3810</td> \n",
              "</tr>\n",
              "<tr>\n",
              "  <th>ECON</th>                    <td>-6820.7781</td>  <td>13109.3693</td>  <td>-0.5203</td> <td>0.6045</td>  <td>-32953.8282</td>  <td>19312.2721</td> \n",
              "</tr>\n",
              "<tr>\n",
              "  <th>SR-BL</th>                   <td>-7658.8094</td>  <td>14041.8735</td>  <td>-0.5454</td> <td>0.5871</td>  <td>-35650.7726</td>  <td>20333.1539</td> \n",
              "</tr>\n",
              "<tr>\n",
              "  <th>AGE_2</th>                  <td>-230767.6463</td> <td>114117.2005</td> <td>-2.0222</td> <td>0.0469</td> <td>-458256.1279</td>  <td>-3279.1648</td> \n",
              "</tr>\n",
              "<tr>\n",
              "  <th>AGE_3</th>                  <td>-216827.0808</td> <td>152246.6232</td> <td>-1.4242</td> <td>0.1587</td> <td>-520325.1772</td>  <td>86671.0155</td> \n",
              "</tr>\n",
              "<tr>\n",
              "  <th>COUNTRY_BAN</th>            <td>-122103.5196</td> <td>438719.2796</td> <td>-0.2783</td> <td>0.7816</td> <td>-996674.4194</td>  <td>752467.3801</td>\n",
              "</tr>\n",
              "<tr>\n",
              "  <th>COUNTRY_ENG</th>             <td>672410.7654</td> <td>238386.2220</td> <td>2.8207</td>  <td>0.0062</td>  <td>197196.5172</td> <td>1147625.0135</td>\n",
              "</tr>\n",
              "<tr>\n",
              "  <th>COUNTRY_IND</th>             <td>155306.4011</td> <td>126316.3449</td> <td>1.2295</td>  <td>0.2229</td>  <td>-96500.6302</td>  <td>407113.4325</td>\n",
              "</tr>\n",
              "<tr>\n",
              "  <th>COUNTRY_NZ</th>              <td>194218.9120</td> <td>173491.9293</td> <td>1.1195</td>  <td>0.2667</td> <td>-151630.9280</td>  <td>540068.7521</td>\n",
              "</tr>\n",
              "<tr>\n",
              "  <th>COUNTRY_PAK</th>             <td>75921.7670</td>  <td>193463.5545</td> <td>0.3924</td>  <td>0.6959</td> <td>-309740.7804</td>  <td>461584.3143</td>\n",
              "</tr>\n",
              "<tr>\n",
              "  <th>COUNTRY_SA</th>              <td>64283.3894</td>  <td>144587.6773</td> <td>0.4446</td>  <td>0.6579</td> <td>-223946.8775</td>  <td>352513.6563</td>\n",
              "</tr>\n",
              "<tr>\n",
              "  <th>COUNTRY_SL</th>              <td>17360.1530</td>  <td>176333.7497</td> <td>0.0985</td>  <td>0.9218</td> <td>-334154.7526</td>  <td>368875.0586</td>\n",
              "</tr>\n",
              "<tr>\n",
              "  <th>COUNTRY_WI</th>              <td>10607.7792</td>  <td>230686.7892</td> <td>0.0460</td>  <td>0.9635</td> <td>-449257.9303</td>  <td>470473.4887</td>\n",
              "</tr>\n",
              "<tr>\n",
              "  <th>COUNTRY_ZIM</th>            <td>-145494.4793</td> <td>401505.2815</td> <td>-0.3624</td> <td>0.7181</td> <td>-945880.6296</td>  <td>654891.6710</td>\n",
              "</tr>\n",
              "<tr>\n",
              "  <th>PLAYING ROLE_Batsman</th>    <td>75724.7643</td>  <td>150250.0240</td> <td>0.5040</td>  <td>0.6158</td> <td>-223793.1844</td>  <td>375242.7130</td>\n",
              "</tr>\n",
              "<tr>\n",
              "  <th>PLAYING ROLE_Bowler</th>     <td>15395.8752</td>  <td>126308.1272</td> <td>0.1219</td>  <td>0.9033</td> <td>-236394.7744</td>  <td>267186.5249</td>\n",
              "</tr>\n",
              "<tr>\n",
              "  <th>PLAYING ROLE_W. Keeper</th>  <td>-71358.6280</td> <td>213585.7444</td> <td>-0.3341</td> <td>0.7393</td> <td>-497134.0278</td>  <td>354416.7718</td>\n",
              "</tr>\n",
              "<tr>\n",
              "  <th>CAPTAINCY EXP_1</th>         <td>164113.3972</td> <td>123430.6353</td> <td>1.3296</td>  <td>0.1878</td>  <td>-81941.0772</td>  <td>410167.8716</td>\n",
              "</tr>\n",
              "</table>\n",
              "<table class=\"simpletable\">\n",
              "<tr>\n",
              "     <td>Omnibus:</td>    <td>0.891</td>  <td>Durbin-Watson:</td>   <td>2.244</td>\n",
              "</tr>\n",
              "<tr>\n",
              "  <td>Prob(Omnibus):</td> <td>0.640</td> <td>Jarque-Bera (JB):</td> <td>0.638</td>\n",
              "</tr>\n",
              "<tr>\n",
              "       <td>Skew:</td>     <td>0.190</td>     <td>Prob(JB):</td>     <td>0.727</td>\n",
              "</tr>\n",
              "<tr>\n",
              "     <td>Kurtosis:</td>   <td>3.059</td>  <td>Condition No.:</td>   <td>84116</td>\n",
              "</tr>\n",
              "</table>"
            ]
          },
          "metadata": {},
          "execution_count": 264
        }
      ]
    },
    {
      "cell_type": "markdown",
      "source": [
        "only the features HS, AGE_2, AVE and COUNTRY_ENG have come out significant. The model says that none of the other features are influencing SOLD PRICE ( at a significance value of 0.05) This is not very intuitive and could be a result of multi collinearity effect of the variables.\n",
        "\n",
        "VIF is used for identifying the existence of multi-collinearity. Variance inflation factor. The following method is written to calculate the VIF. VIF value greater than 4 requires further investigation to assess the impact of multicollinearity."
      ],
      "metadata": {
        "id": "-obPF1KA8mbK"
      }
    },
    {
      "cell_type": "code",
      "source": [
        "from statsmodels.stats.outliers_influence import variance_inflation_factor\n",
        "\n",
        "def get_vif_factors(X):\n",
        "  X_matrix = X.values\n",
        "  vif = [variance_inflation_factor(X_matrix,i) for i in range(X_matrix.shape[1])]\n",
        "  vif_factors= pd.DataFrame()\n",
        "  vif_factors['column']= X.columns\n",
        "  vif_factors['VIF'] = vif\n",
        "\n",
        "  return vif_factors"
      ],
      "metadata": {
        "id": "2awTEU9W70U_"
      },
      "execution_count": null,
      "outputs": []
    },
    {
      "cell_type": "code",
      "source": [
        "vif_factors = get_vif_factors(X[X_features])\n",
        "vif_factors"
      ],
      "metadata": {
        "colab": {
          "base_uri": "https://localhost:8080/",
          "height": 1000
        },
        "id": "MDzmajWk_wAG",
        "outputId": "0effd8de-3055-478a-d7cb-c8eb8a17356a"
      },
      "execution_count": null,
      "outputs": [
        {
          "output_type": "execute_result",
          "data": {
            "text/plain": [
              "                    column         VIF\n",
              "0                   T-RUNS   12.612694\n",
              "1                   T-WKTS    7.679284\n",
              "2               ODI-RUNS-S   16.426209\n",
              "3                 ODI-SR-B   13.829376\n",
              "4                 ODI-WKTS    9.951800\n",
              "5                ODI-SR-BL    4.426818\n",
              "6                   RUNS-S   16.135407\n",
              "7                       HS   22.781017\n",
              "8                      AVE   25.226566\n",
              "9                     SR-B   21.576204\n",
              "10                  SIXERS    9.547268\n",
              "11                  RUNS-C   38.229691\n",
              "12                    WKTS   33.366067\n",
              "13                  AVE-BL  100.198105\n",
              "14                    ECON    7.650140\n",
              "15                   SR-BL  103.723846\n",
              "16                   AGE_2    6.996226\n",
              "17                   AGE_3    3.855003\n",
              "18             COUNTRY_BAN    1.469017\n",
              "19             COUNTRY_ENG    1.391524\n",
              "20             COUNTRY_IND    4.568898\n",
              "21              COUNTRY_NZ    1.497856\n",
              "22             COUNTRY_PAK    1.796355\n",
              "23              COUNTRY_SA    1.886555\n",
              "24              COUNTRY_SL    1.984902\n",
              "25              COUNTRY_WI    1.531847\n",
              "26             COUNTRY_ZIM    1.312168\n",
              "27    PLAYING ROLE_Batsman    4.843136\n",
              "28     PLAYING ROLE_Bowler    3.795864\n",
              "29  PLAYING ROLE_W. Keeper    3.132044\n",
              "30         CAPTAINCY EXP_1    4.245128"
            ],
            "text/html": [
              "\n",
              "  <div id=\"df-555c69b4-6be2-4b42-a62b-fb5f35dad7e7\">\n",
              "    <div class=\"colab-df-container\">\n",
              "      <div>\n",
              "<style scoped>\n",
              "    .dataframe tbody tr th:only-of-type {\n",
              "        vertical-align: middle;\n",
              "    }\n",
              "\n",
              "    .dataframe tbody tr th {\n",
              "        vertical-align: top;\n",
              "    }\n",
              "\n",
              "    .dataframe thead th {\n",
              "        text-align: right;\n",
              "    }\n",
              "</style>\n",
              "<table border=\"1\" class=\"dataframe\">\n",
              "  <thead>\n",
              "    <tr style=\"text-align: right;\">\n",
              "      <th></th>\n",
              "      <th>column</th>\n",
              "      <th>VIF</th>\n",
              "    </tr>\n",
              "  </thead>\n",
              "  <tbody>\n",
              "    <tr>\n",
              "      <th>0</th>\n",
              "      <td>T-RUNS</td>\n",
              "      <td>12.612694</td>\n",
              "    </tr>\n",
              "    <tr>\n",
              "      <th>1</th>\n",
              "      <td>T-WKTS</td>\n",
              "      <td>7.679284</td>\n",
              "    </tr>\n",
              "    <tr>\n",
              "      <th>2</th>\n",
              "      <td>ODI-RUNS-S</td>\n",
              "      <td>16.426209</td>\n",
              "    </tr>\n",
              "    <tr>\n",
              "      <th>3</th>\n",
              "      <td>ODI-SR-B</td>\n",
              "      <td>13.829376</td>\n",
              "    </tr>\n",
              "    <tr>\n",
              "      <th>4</th>\n",
              "      <td>ODI-WKTS</td>\n",
              "      <td>9.951800</td>\n",
              "    </tr>\n",
              "    <tr>\n",
              "      <th>5</th>\n",
              "      <td>ODI-SR-BL</td>\n",
              "      <td>4.426818</td>\n",
              "    </tr>\n",
              "    <tr>\n",
              "      <th>6</th>\n",
              "      <td>RUNS-S</td>\n",
              "      <td>16.135407</td>\n",
              "    </tr>\n",
              "    <tr>\n",
              "      <th>7</th>\n",
              "      <td>HS</td>\n",
              "      <td>22.781017</td>\n",
              "    </tr>\n",
              "    <tr>\n",
              "      <th>8</th>\n",
              "      <td>AVE</td>\n",
              "      <td>25.226566</td>\n",
              "    </tr>\n",
              "    <tr>\n",
              "      <th>9</th>\n",
              "      <td>SR-B</td>\n",
              "      <td>21.576204</td>\n",
              "    </tr>\n",
              "    <tr>\n",
              "      <th>10</th>\n",
              "      <td>SIXERS</td>\n",
              "      <td>9.547268</td>\n",
              "    </tr>\n",
              "    <tr>\n",
              "      <th>11</th>\n",
              "      <td>RUNS-C</td>\n",
              "      <td>38.229691</td>\n",
              "    </tr>\n",
              "    <tr>\n",
              "      <th>12</th>\n",
              "      <td>WKTS</td>\n",
              "      <td>33.366067</td>\n",
              "    </tr>\n",
              "    <tr>\n",
              "      <th>13</th>\n",
              "      <td>AVE-BL</td>\n",
              "      <td>100.198105</td>\n",
              "    </tr>\n",
              "    <tr>\n",
              "      <th>14</th>\n",
              "      <td>ECON</td>\n",
              "      <td>7.650140</td>\n",
              "    </tr>\n",
              "    <tr>\n",
              "      <th>15</th>\n",
              "      <td>SR-BL</td>\n",
              "      <td>103.723846</td>\n",
              "    </tr>\n",
              "    <tr>\n",
              "      <th>16</th>\n",
              "      <td>AGE_2</td>\n",
              "      <td>6.996226</td>\n",
              "    </tr>\n",
              "    <tr>\n",
              "      <th>17</th>\n",
              "      <td>AGE_3</td>\n",
              "      <td>3.855003</td>\n",
              "    </tr>\n",
              "    <tr>\n",
              "      <th>18</th>\n",
              "      <td>COUNTRY_BAN</td>\n",
              "      <td>1.469017</td>\n",
              "    </tr>\n",
              "    <tr>\n",
              "      <th>19</th>\n",
              "      <td>COUNTRY_ENG</td>\n",
              "      <td>1.391524</td>\n",
              "    </tr>\n",
              "    <tr>\n",
              "      <th>20</th>\n",
              "      <td>COUNTRY_IND</td>\n",
              "      <td>4.568898</td>\n",
              "    </tr>\n",
              "    <tr>\n",
              "      <th>21</th>\n",
              "      <td>COUNTRY_NZ</td>\n",
              "      <td>1.497856</td>\n",
              "    </tr>\n",
              "    <tr>\n",
              "      <th>22</th>\n",
              "      <td>COUNTRY_PAK</td>\n",
              "      <td>1.796355</td>\n",
              "    </tr>\n",
              "    <tr>\n",
              "      <th>23</th>\n",
              "      <td>COUNTRY_SA</td>\n",
              "      <td>1.886555</td>\n",
              "    </tr>\n",
              "    <tr>\n",
              "      <th>24</th>\n",
              "      <td>COUNTRY_SL</td>\n",
              "      <td>1.984902</td>\n",
              "    </tr>\n",
              "    <tr>\n",
              "      <th>25</th>\n",
              "      <td>COUNTRY_WI</td>\n",
              "      <td>1.531847</td>\n",
              "    </tr>\n",
              "    <tr>\n",
              "      <th>26</th>\n",
              "      <td>COUNTRY_ZIM</td>\n",
              "      <td>1.312168</td>\n",
              "    </tr>\n",
              "    <tr>\n",
              "      <th>27</th>\n",
              "      <td>PLAYING ROLE_Batsman</td>\n",
              "      <td>4.843136</td>\n",
              "    </tr>\n",
              "    <tr>\n",
              "      <th>28</th>\n",
              "      <td>PLAYING ROLE_Bowler</td>\n",
              "      <td>3.795864</td>\n",
              "    </tr>\n",
              "    <tr>\n",
              "      <th>29</th>\n",
              "      <td>PLAYING ROLE_W. Keeper</td>\n",
              "      <td>3.132044</td>\n",
              "    </tr>\n",
              "    <tr>\n",
              "      <th>30</th>\n",
              "      <td>CAPTAINCY EXP_1</td>\n",
              "      <td>4.245128</td>\n",
              "    </tr>\n",
              "  </tbody>\n",
              "</table>\n",
              "</div>\n",
              "      <button class=\"colab-df-convert\" onclick=\"convertToInteractive('df-555c69b4-6be2-4b42-a62b-fb5f35dad7e7')\"\n",
              "              title=\"Convert this dataframe to an interactive table.\"\n",
              "              style=\"display:none;\">\n",
              "        \n",
              "  <svg xmlns=\"http://www.w3.org/2000/svg\" height=\"24px\"viewBox=\"0 0 24 24\"\n",
              "       width=\"24px\">\n",
              "    <path d=\"M0 0h24v24H0V0z\" fill=\"none\"/>\n",
              "    <path d=\"M18.56 5.44l.94 2.06.94-2.06 2.06-.94-2.06-.94-.94-2.06-.94 2.06-2.06.94zm-11 1L8.5 8.5l.94-2.06 2.06-.94-2.06-.94L8.5 2.5l-.94 2.06-2.06.94zm10 10l.94 2.06.94-2.06 2.06-.94-2.06-.94-.94-2.06-.94 2.06-2.06.94z\"/><path d=\"M17.41 7.96l-1.37-1.37c-.4-.4-.92-.59-1.43-.59-.52 0-1.04.2-1.43.59L10.3 9.45l-7.72 7.72c-.78.78-.78 2.05 0 2.83L4 21.41c.39.39.9.59 1.41.59.51 0 1.02-.2 1.41-.59l7.78-7.78 2.81-2.81c.8-.78.8-2.07 0-2.86zM5.41 20L4 18.59l7.72-7.72 1.47 1.35L5.41 20z\"/>\n",
              "  </svg>\n",
              "      </button>\n",
              "      \n",
              "  <style>\n",
              "    .colab-df-container {\n",
              "      display:flex;\n",
              "      flex-wrap:wrap;\n",
              "      gap: 12px;\n",
              "    }\n",
              "\n",
              "    .colab-df-convert {\n",
              "      background-color: #E8F0FE;\n",
              "      border: none;\n",
              "      border-radius: 50%;\n",
              "      cursor: pointer;\n",
              "      display: none;\n",
              "      fill: #1967D2;\n",
              "      height: 32px;\n",
              "      padding: 0 0 0 0;\n",
              "      width: 32px;\n",
              "    }\n",
              "\n",
              "    .colab-df-convert:hover {\n",
              "      background-color: #E2EBFA;\n",
              "      box-shadow: 0px 1px 2px rgba(60, 64, 67, 0.3), 0px 1px 3px 1px rgba(60, 64, 67, 0.15);\n",
              "      fill: #174EA6;\n",
              "    }\n",
              "\n",
              "    [theme=dark] .colab-df-convert {\n",
              "      background-color: #3B4455;\n",
              "      fill: #D2E3FC;\n",
              "    }\n",
              "\n",
              "    [theme=dark] .colab-df-convert:hover {\n",
              "      background-color: #434B5C;\n",
              "      box-shadow: 0px 1px 3px 1px rgba(0, 0, 0, 0.15);\n",
              "      filter: drop-shadow(0px 1px 2px rgba(0, 0, 0, 0.3));\n",
              "      fill: #FFFFFF;\n",
              "    }\n",
              "  </style>\n",
              "\n",
              "      <script>\n",
              "        const buttonEl =\n",
              "          document.querySelector('#df-555c69b4-6be2-4b42-a62b-fb5f35dad7e7 button.colab-df-convert');\n",
              "        buttonEl.style.display =\n",
              "          google.colab.kernel.accessAllowed ? 'block' : 'none';\n",
              "\n",
              "        async function convertToInteractive(key) {\n",
              "          const element = document.querySelector('#df-555c69b4-6be2-4b42-a62b-fb5f35dad7e7');\n",
              "          const dataTable =\n",
              "            await google.colab.kernel.invokeFunction('convertToInteractive',\n",
              "                                                     [key], {});\n",
              "          if (!dataTable) return;\n",
              "\n",
              "          const docLinkHtml = 'Like what you see? Visit the ' +\n",
              "            '<a target=\"_blank\" href=https://colab.research.google.com/notebooks/data_table.ipynb>data table notebook</a>'\n",
              "            + ' to learn more about interactive tables.';\n",
              "          element.innerHTML = '';\n",
              "          dataTable['output_type'] = 'display_data';\n",
              "          await google.colab.output.renderOutput(dataTable, element);\n",
              "          const docLink = document.createElement('div');\n",
              "          docLink.innerHTML = docLinkHtml;\n",
              "          element.appendChild(docLink);\n",
              "        }\n",
              "      </script>\n",
              "    </div>\n",
              "  </div>\n",
              "  "
            ]
          },
          "metadata": {},
          "execution_count": 266
        }
      ]
    },
    {
      "cell_type": "markdown",
      "source": [
        "Checking Correlation of Columns with large VIFs"
      ],
      "metadata": {
        "id": "dPKq4LAAAbDL"
      }
    },
    {
      "cell_type": "code",
      "source": [
        "columns_with_large_vif = vif_factors[vif_factors.VIF>4].column"
      ],
      "metadata": {
        "id": "kZLKNIH9ACq-"
      },
      "execution_count": null,
      "outputs": []
    },
    {
      "cell_type": "code",
      "source": [
        "plt.figure(figsize = (12,10))\n",
        "sn.heatmap(X[columns_with_large_vif].corr(),annot=True);\n",
        "plt.title(\"Heatmap Depicting correlation between features\");"
      ],
      "metadata": {
        "colab": {
          "base_uri": "https://localhost:8080/",
          "height": 718
        },
        "id": "SxPndY6JAnCD",
        "outputId": "df0a6f84-68a3-46ff-c2ea-b32f2e07e1f1"
      },
      "execution_count": null,
      "outputs": [
        {
          "output_type": "display_data",
          "data": {
            "text/plain": [
              "<Figure size 864x720 with 2 Axes>"
            ],
            "image/png": "[encoded data removed]"
          },
          "metadata": {
            "needs_background": "light"
          }
        }
      ]
    },
    {
      "cell_type": "markdown",
      "source": [
        "As we can see that T-RUNS and ODI-RUNS-S are highly correlaed whereas ODI- WKTS and T-WKTS are highly correlated.\n",
        "\n",
        "Batsman features like RUNS-S, HS, AVE, SIXERS are highly correlated while bowler's features like AVE-BL,ECON and SR-BL are highly correlated\n",
        "\n",
        "We decide to remove the following features, however it might take many iterations"
      ],
      "metadata": {
        "id": "H6Gx95DvKsEb"
      }
    },
    {
      "cell_type": "code",
      "source": [
        "columns_to_be_removed = ['T-RUNS', 'T-WKTS','RUNS-S', 'HS', 'AVE', 'SR-B','RUNS-C','AVE-BL','ECON','ODI-SR-B','ODI-RUNS-S','AGE_2','SR-BL']"
      ],
      "metadata": {
        "id": "_HbATGVrA7As"
      },
      "execution_count": null,
      "outputs": []
    },
    {
      "cell_type": "code",
      "source": [
        "X_new_features = list(set(X_features)-set(columns_to_be_removed))"
      ],
      "metadata": {
        "id": "xQ-Yww7GLxuF"
      },
      "execution_count": null,
      "outputs": []
    },
    {
      "cell_type": "code",
      "source": [
        "get_vif_factors(X[X_new_features])"
      ],
      "metadata": {
        "colab": {
          "base_uri": "https://localhost:8080/",
          "height": 614
        },
        "id": "74D9RocNMwiV",
        "outputId": "638e9746-c5df-4b5d-f9e8-ec45cbf386d4"
      },
      "execution_count": null,
      "outputs": [
        {
          "output_type": "execute_result",
          "data": {
            "text/plain": [
              "                    column       VIF\n",
              "0               COUNTRY_SL  1.519752\n",
              "1              COUNTRY_ZIM  1.205305\n",
              "2      PLAYING ROLE_Bowler  3.060168\n",
              "3               COUNTRY_NZ  1.173418\n",
              "4                   SIXERS  2.397409\n",
              "5   PLAYING ROLE_W. Keeper  1.900941\n",
              "6     PLAYING ROLE_Batsman  2.680207\n",
              "7              COUNTRY_PAK  1.334773\n",
              "8               COUNTRY_WI  1.194093\n",
              "9              COUNTRY_IND  3.144668\n",
              "10             COUNTRY_BAN  1.094293\n",
              "11             COUNTRY_ENG  1.131869\n",
              "12         CAPTAINCY EXP_1  2.458745\n",
              "13                    WKTS  2.883101\n",
              "14                ODI-WKTS  2.742889\n",
              "15               ODI-SR-BL  2.822148\n",
              "16              COUNTRY_SA  1.416657\n",
              "17                   AGE_3  1.779861"
            ],
            "text/html": [
              "\n",
              "  <div id=\"df-5b55057f-c534-477c-8062-0e3d9ca21d9e\">\n",
              "    <div class=\"colab-df-container\">\n",
              "      <div>\n",
              "<style scoped>\n",
              "    .dataframe tbody tr th:only-of-type {\n",
              "        vertical-align: middle;\n",
              "    }\n",
              "\n",
              "    .dataframe tbody tr th {\n",
              "        vertical-align: top;\n",
              "    }\n",
              "\n",
              "    .dataframe thead th {\n",
              "        text-align: right;\n",
              "    }\n",
              "</style>\n",
              "<table border=\"1\" class=\"dataframe\">\n",
              "  <thead>\n",
              "    <tr style=\"text-align: right;\">\n",
              "      <th></th>\n",
              "      <th>column</th>\n",
              "      <th>VIF</th>\n",
              "    </tr>\n",
              "  </thead>\n",
              "  <tbody>\n",
              "    <tr>\n",
              "      <th>0</th>\n",
              "      <td>COUNTRY_SL</td>\n",
              "      <td>1.519752</td>\n",
              "    </tr>\n",
              "    <tr>\n",
              "      <th>1</th>\n",
              "      <td>COUNTRY_ZIM</td>\n",
              "      <td>1.205305</td>\n",
              "    </tr>\n",
              "    <tr>\n",
              "      <th>2</th>\n",
              "      <td>PLAYING ROLE_Bowler</td>\n",
              "      <td>3.060168</td>\n",
              "    </tr>\n",
              "    <tr>\n",
              "      <th>3</th>\n",
              "      <td>COUNTRY_NZ</td>\n",
              "      <td>1.173418</td>\n",
              "    </tr>\n",
              "    <tr>\n",
              "      <th>4</th>\n",
              "      <td>SIXERS</td>\n",
              "      <td>2.397409</td>\n",
              "    </tr>\n",
              "    <tr>\n",
              "      <th>5</th>\n",
              "      <td>PLAYING ROLE_W. Keeper</td>\n",
              "      <td>1.900941</td>\n",
              "    </tr>\n",
              "    <tr>\n",
              "      <th>6</th>\n",
              "      <td>PLAYING ROLE_Batsman</td>\n",
              "      <td>2.680207</td>\n",
              "    </tr>\n",
              "    <tr>\n",
              "      <th>7</th>\n",
              "      <td>COUNTRY_PAK</td>\n",
              "      <td>1.334773</td>\n",
              "    </tr>\n",
              "    <tr>\n",
              "      <th>8</th>\n",
              "      <td>COUNTRY_WI</td>\n",
              "      <td>1.194093</td>\n",
              "    </tr>\n",
              "    <tr>\n",
              "      <th>9</th>\n",
              "      <td>COUNTRY_IND</td>\n",
              "      <td>3.144668</td>\n",
              "    </tr>\n",
              "    <tr>\n",
              "      <th>10</th>\n",
              "      <td>COUNTRY_BAN</td>\n",
              "      <td>1.094293</td>\n",
              "    </tr>\n",
              "    <tr>\n",
              "      <th>11</th>\n",
              "      <td>COUNTRY_ENG</td>\n",
              "      <td>1.131869</td>\n",
              "    </tr>\n",
              "    <tr>\n",
              "      <th>12</th>\n",
              "      <td>CAPTAINCY EXP_1</td>\n",
              "      <td>2.458745</td>\n",
              "    </tr>\n",
              "    <tr>\n",
              "      <th>13</th>\n",
              "      <td>WKTS</td>\n",
              "      <td>2.883101</td>\n",
              "    </tr>\n",
              "    <tr>\n",
              "      <th>14</th>\n",
              "      <td>ODI-WKTS</td>\n",
              "      <td>2.742889</td>\n",
              "    </tr>\n",
              "    <tr>\n",
              "      <th>15</th>\n",
              "      <td>ODI-SR-BL</td>\n",
              "      <td>2.822148</td>\n",
              "    </tr>\n",
              "    <tr>\n",
              "      <th>16</th>\n",
              "      <td>COUNTRY_SA</td>\n",
              "      <td>1.416657</td>\n",
              "    </tr>\n",
              "    <tr>\n",
              "      <th>17</th>\n",
              "      <td>AGE_3</td>\n",
              "      <td>1.779861</td>\n",
              "    </tr>\n",
              "  </tbody>\n",
              "</table>\n",
              "</div>\n",
              "      <button class=\"colab-df-convert\" onclick=\"convertToInteractive('df-5b55057f-c534-477c-8062-0e3d9ca21d9e')\"\n",
              "              title=\"Convert this dataframe to an interactive table.\"\n",
              "              style=\"display:none;\">\n",
              "        \n",
              "  <svg xmlns=\"http://www.w3.org/2000/svg\" height=\"24px\"viewBox=\"0 0 24 24\"\n",
              "       width=\"24px\">\n",
              "    <path d=\"M0 0h24v24H0V0z\" fill=\"none\"/>\n",
              "    <path d=\"M18.56 5.44l.94 2.06.94-2.06 2.06-.94-2.06-.94-.94-2.06-.94 2.06-2.06.94zm-11 1L8.5 8.5l.94-2.06 2.06-.94-2.06-.94L8.5 2.5l-.94 2.06-2.06.94zm10 10l.94 2.06.94-2.06 2.06-.94-2.06-.94-.94-2.06-.94 2.06-2.06.94z\"/><path d=\"M17.41 7.96l-1.37-1.37c-.4-.4-.92-.59-1.43-.59-.52 0-1.04.2-1.43.59L10.3 9.45l-7.72 7.72c-.78.78-.78 2.05 0 2.83L4 21.41c.39.39.9.59 1.41.59.51 0 1.02-.2 1.41-.59l7.78-7.78 2.81-2.81c.8-.78.8-2.07 0-2.86zM5.41 20L4 18.59l7.72-7.72 1.47 1.35L5.41 20z\"/>\n",
              "  </svg>\n",
              "      </button>\n",
              "      \n",
              "  <style>\n",
              "    .colab-df-container {\n",
              "      display:flex;\n",
              "      flex-wrap:wrap;\n",
              "      gap: 12px;\n",
              "    }\n",
              "\n",
              "    .colab-df-convert {\n",
              "      background-color: #E8F0FE;\n",
              "      border: none;\n",
              "      border-radius: 50%;\n",
              "      cursor: pointer;\n",
              "      display: none;\n",
              "      fill: #1967D2;\n",
              "      height: 32px;\n",
              "      padding: 0 0 0 0;\n",
              "      width: 32px;\n",
              "    }\n",
              "\n",
              "    .colab-df-convert:hover {\n",
              "      background-color: #E2EBFA;\n",
              "      box-shadow: 0px 1px 2px rgba(60, 64, 67, 0.3), 0px 1px 3px 1px rgba(60, 64, 67, 0.15);\n",
              "      fill: #174EA6;\n",
              "    }\n",
              "\n",
              "    [theme=dark] .colab-df-convert {\n",
              "      background-color: #3B4455;\n",
              "      fill: #D2E3FC;\n",
              "    }\n",
              "\n",
              "    [theme=dark] .colab-df-convert:hover {\n",
              "      background-color: #434B5C;\n",
              "      box-shadow: 0px 1px 3px 1px rgba(0, 0, 0, 0.15);\n",
              "      filter: drop-shadow(0px 1px 2px rgba(0, 0, 0, 0.3));\n",
              "      fill: #FFFFFF;\n",
              "    }\n",
              "  </style>\n",
              "\n",
              "      <script>\n",
              "        const buttonEl =\n",
              "          document.querySelector('#df-5b55057f-c534-477c-8062-0e3d9ca21d9e button.colab-df-convert');\n",
              "        buttonEl.style.display =\n",
              "          google.colab.kernel.accessAllowed ? 'block' : 'none';\n",
              "\n",
              "        async function convertToInteractive(key) {\n",
              "          const element = document.querySelector('#df-5b55057f-c534-477c-8062-0e3d9ca21d9e');\n",
              "          const dataTable =\n",
              "            await google.colab.kernel.invokeFunction('convertToInteractive',\n",
              "                                                     [key], {});\n",
              "          if (!dataTable) return;\n",
              "\n",
              "          const docLinkHtml = 'Like what you see? Visit the ' +\n",
              "            '<a target=\"_blank\" href=https://colab.research.google.com/notebooks/data_table.ipynb>data table notebook</a>'\n",
              "            + ' to learn more about interactive tables.';\n",
              "          element.innerHTML = '';\n",
              "          dataTable['output_type'] = 'display_data';\n",
              "          await google.colab.output.renderOutput(dataTable, element);\n",
              "          const docLink = document.createElement('div');\n",
              "          docLink.innerHTML = docLinkHtml;\n",
              "          element.appendChild(docLink);\n",
              "        }\n",
              "      </script>\n",
              "    </div>\n",
              "  </div>\n",
              "  "
            ]
          },
          "metadata": {},
          "execution_count": 271
        }
      ]
    },
    {
      "cell_type": "markdown",
      "source": [
        "There is no multicollinearity"
      ],
      "metadata": {
        "id": "WoONMEDWM53b"
      }
    },
    {
      "cell_type": "code",
      "source": [
        "train_X = train_X[X_new_features]\n",
        "ipl_model_2 = sm.OLS(train_y,train_X).fit()\n",
        "ipl_model_2.summary2()"
      ],
      "metadata": {
        "colab": {
          "base_uri": "https://localhost:8080/",
          "height": 663
        },
        "id": "CSMBpucHM2ZY",
        "outputId": "c91b9149-c8a8-4ec1-e1c2-5ba495a7fe37"
      },
      "execution_count": null,
      "outputs": [
        {
          "output_type": "execute_result",
          "data": {
            "text/plain": [
              "<class 'statsmodels.iolib.summary2.Summary'>\n",
              "\"\"\"\n",
              "                            Results: Ordinary least squares\n",
              "========================================================================================\n",
              "Model:                      OLS                Adj. R-squared (uncentered):   0.728     \n",
              "Dependent Variable:         SOLD PRICE         AIC:                           2965.1080 \n",
              "Date:                       2022-10-08 07:31   BIC:                           3012.7070 \n",
              "No. Observations:           104                Log-Likelihood:                -1464.6   \n",
              "Df Model:                   18                 F-statistic:                   16.49     \n",
              "Df Residuals:               86                 Prob (F-statistic):            1.13e-20  \n",
              "R-squared (uncentered):     0.775              Scale:                         1.2071e+11\n",
              "----------------------------------------------------------------------------------------\n",
              "                          Coef.       Std.Err.     t    P>|t|     [0.025       0.975]   \n",
              "----------------------------------------------------------------------------------------\n",
              "COUNTRY_SL               55912.3398 142277.1829  0.3930 0.6953 -226925.3388  338750.0184\n",
              "COUNTRY_ZIM             -67977.6781 390859.9289 -0.1739 0.8623 -844981.5006  709026.1444\n",
              "PLAYING ROLE_Bowler     -18315.4968 106035.9664 -0.1727 0.8633 -229108.0215  192477.0279\n",
              "COUNTRY_NZ              142968.8843 151841.7382  0.9416 0.3491 -158882.5009  444820.2695\n",
              "SIXERS                    7862.1259   2086.6101  3.7679 0.0003    3714.0824   12010.1694\n",
              "PLAYING ROLE_W. Keeper  -55121.9240 169922.5271 -0.3244 0.7464 -392916.7280  282672.8801\n",
              "PLAYING ROLE_Batsman    121382.0570 106685.0356  1.1378 0.2584  -90700.7746  333464.8886\n",
              "COUNTRY_PAK             122810.2480 159600.8063  0.7695 0.4437 -194465.6541  440086.1502\n",
              "COUNTRY_WI              -22234.9315 213050.5847 -0.1044 0.9171 -445765.4766  401295.6135\n",
              "COUNTRY_IND             282829.8091  96188.0292  2.9404 0.0042   91614.3356  474045.2827\n",
              "COUNTRY_BAN            -108758.6040 369274.1916 -0.2945 0.7691 -842851.4010  625334.1930\n",
              "COUNTRY_ENG             682934.7166 216150.8279  3.1595 0.0022  253241.0920 1112628.3411\n",
              "CAPTAINCY EXP_1         208376.6957  98128.0284  2.1235 0.0366   13304.6315  403448.7600\n",
              "WKTS                      2431.8988   2105.3524  1.1551 0.2512   -1753.4033    6617.2008\n",
              "ODI-WKTS                   772.4088    470.6354  1.6412 0.1044    -163.1834    1708.0009\n",
              "ODI-SR-BL                  909.0021   1267.4969  0.7172 0.4752   -1610.6983    3428.7026\n",
              "COUNTRY_SA              108735.9086 115092.9596  0.9448 0.3474 -120061.3227  337533.1399\n",
              "AGE_3                    -8950.6659  98041.9325 -0.0913 0.9275 -203851.5772  185950.2453\n",
              "----------------------------------------------------------------------------------------\n",
              "Omnibus:                       8.635               Durbin-Watson:                  2.252\n",
              "Prob(Omnibus):                 0.013               Jarque-Bera (JB):               8.345\n",
              "Skew:                          0.623               Prob(JB):                       0.015\n",
              "Kurtosis:                      3.609               Condition No.:                  1492 \n",
              "========================================================================================\n",
              "* The condition number is large (1e+03). This might indicate             strong\n",
              "multicollinearity or other numerical problems.\n",
              "\"\"\""
            ],
            "text/html": [
              "<table class=\"simpletable\">\n",
              "<tr>\n",
              "          <td>Model:</td>                 <td>OLS</td>       <td>Adj. R-squared (uncentered):</td>    <td>0.728</td>  \n",
              "</tr>\n",
              "<tr>\n",
              "    <td>Dependent Variable:</td>      <td>SOLD PRICE</td>                <td>AIC:</td>              <td>2965.1080</td>\n",
              "</tr>\n",
              "<tr>\n",
              "           <td>Date:</td>          <td>2022-10-08 07:31</td>             <td>BIC:</td>              <td>3012.7070</td>\n",
              "</tr>\n",
              "<tr>\n",
              "     <td>No. Observations:</td>           <td>104</td>              <td>Log-Likelihood:</td>         <td>-1464.6</td> \n",
              "</tr>\n",
              "<tr>\n",
              "         <td>Df Model:</td>               <td>18</td>                <td>F-statistic:</td>            <td>16.49</td>  \n",
              "</tr>\n",
              "<tr>\n",
              "       <td>Df Residuals:</td>             <td>86</td>             <td>Prob (F-statistic):</td>      <td>1.13e-20</td> \n",
              "</tr>\n",
              "<tr>\n",
              "  <td>R-squared (uncentered):</td>       <td>0.775</td>                 <td>Scale:</td>            <td>1.2071e+11</td>\n",
              "</tr>\n",
              "</table>\n",
              "<table class=\"simpletable\">\n",
              "<tr>\n",
              "             <td></td>                <th>Coef.</th>     <th>Std.Err.</th>      <th>t</th>     <th>P>|t|</th>    <th>[0.025</th>       <th>0.975]</th>   \n",
              "</tr>\n",
              "<tr>\n",
              "  <th>COUNTRY_SL</th>              <td>55912.3398</td>  <td>142277.1829</td> <td>0.3930</td>  <td>0.6953</td> <td>-226925.3388</td>  <td>338750.0184</td>\n",
              "</tr>\n",
              "<tr>\n",
              "  <th>COUNTRY_ZIM</th>             <td>-67977.6781</td> <td>390859.9289</td> <td>-0.1739</td> <td>0.8623</td> <td>-844981.5006</td>  <td>709026.1444</td>\n",
              "</tr>\n",
              "<tr>\n",
              "  <th>PLAYING ROLE_Bowler</th>     <td>-18315.4968</td> <td>106035.9664</td> <td>-0.1727</td> <td>0.8633</td> <td>-229108.0215</td>  <td>192477.0279</td>\n",
              "</tr>\n",
              "<tr>\n",
              "  <th>COUNTRY_NZ</th>              <td>142968.8843</td> <td>151841.7382</td> <td>0.9416</td>  <td>0.3491</td> <td>-158882.5009</td>  <td>444820.2695</td>\n",
              "</tr>\n",
              "<tr>\n",
              "  <th>SIXERS</th>                   <td>7862.1259</td>   <td>2086.6101</td>  <td>3.7679</td>  <td>0.0003</td>   <td>3714.0824</td>   <td>12010.1694</td> \n",
              "</tr>\n",
              "<tr>\n",
              "  <th>PLAYING ROLE_W. Keeper</th>  <td>-55121.9240</td> <td>169922.5271</td> <td>-0.3244</td> <td>0.7464</td> <td>-392916.7280</td>  <td>282672.8801</td>\n",
              "</tr>\n",
              "<tr>\n",
              "  <th>PLAYING ROLE_Batsman</th>    <td>121382.0570</td> <td>106685.0356</td> <td>1.1378</td>  <td>0.2584</td>  <td>-90700.7746</td>  <td>333464.8886</td>\n",
              "</tr>\n",
              "<tr>\n",
              "  <th>COUNTRY_PAK</th>             <td>122810.2480</td> <td>159600.8063</td> <td>0.7695</td>  <td>0.4437</td> <td>-194465.6541</td>  <td>440086.1502</td>\n",
              "</tr>\n",
              "<tr>\n",
              "  <th>COUNTRY_WI</th>              <td>-22234.9315</td> <td>213050.5847</td> <td>-0.1044</td> <td>0.9171</td> <td>-445765.4766</td>  <td>401295.6135</td>\n",
              "</tr>\n",
              "<tr>\n",
              "  <th>COUNTRY_IND</th>             <td>282829.8091</td> <td>96188.0292</td>  <td>2.9404</td>  <td>0.0042</td>  <td>91614.3356</td>   <td>474045.2827</td>\n",
              "</tr>\n",
              "<tr>\n",
              "  <th>COUNTRY_BAN</th>            <td>-108758.6040</td> <td>369274.1916</td> <td>-0.2945</td> <td>0.7691</td> <td>-842851.4010</td>  <td>625334.1930</td>\n",
              "</tr>\n",
              "<tr>\n",
              "  <th>COUNTRY_ENG</th>             <td>682934.7166</td> <td>216150.8279</td> <td>3.1595</td>  <td>0.0022</td>  <td>253241.0920</td> <td>1112628.3411</td>\n",
              "</tr>\n",
              "<tr>\n",
              "  <th>CAPTAINCY EXP_1</th>         <td>208376.6957</td> <td>98128.0284</td>  <td>2.1235</td>  <td>0.0366</td>  <td>13304.6315</td>   <td>403448.7600</td>\n",
              "</tr>\n",
              "<tr>\n",
              "  <th>WKTS</th>                     <td>2431.8988</td>   <td>2105.3524</td>  <td>1.1551</td>  <td>0.2512</td>  <td>-1753.4033</td>    <td>6617.2008</td> \n",
              "</tr>\n",
              "<tr>\n",
              "  <th>ODI-WKTS</th>                 <td>772.4088</td>    <td>470.6354</td>   <td>1.6412</td>  <td>0.1044</td>   <td>-163.1834</td>    <td>1708.0009</td> \n",
              "</tr>\n",
              "<tr>\n",
              "  <th>ODI-SR-BL</th>                <td>909.0021</td>    <td>1267.4969</td>  <td>0.7172</td>  <td>0.4752</td>  <td>-1610.6983</td>    <td>3428.7026</td> \n",
              "</tr>\n",
              "<tr>\n",
              "  <th>COUNTRY_SA</th>              <td>108735.9086</td> <td>115092.9596</td> <td>0.9448</td>  <td>0.3474</td> <td>-120061.3227</td>  <td>337533.1399</td>\n",
              "</tr>\n",
              "<tr>\n",
              "  <th>AGE_3</th>                   <td>-8950.6659</td>  <td>98041.9325</td>  <td>-0.0913</td> <td>0.9275</td> <td>-203851.5772</td>  <td>185950.2453</td>\n",
              "</tr>\n",
              "</table>\n",
              "<table class=\"simpletable\">\n",
              "<tr>\n",
              "     <td>Omnibus:</td>    <td>8.635</td>  <td>Durbin-Watson:</td>   <td>2.252</td>\n",
              "</tr>\n",
              "<tr>\n",
              "  <td>Prob(Omnibus):</td> <td>0.013</td> <td>Jarque-Bera (JB):</td> <td>8.345</td>\n",
              "</tr>\n",
              "<tr>\n",
              "       <td>Skew:</td>     <td>0.623</td>     <td>Prob(JB):</td>     <td>0.015</td>\n",
              "</tr>\n",
              "<tr>\n",
              "     <td>Kurtosis:</td>   <td>3.609</td>  <td>Condition No.:</td>   <td>1492</td> \n",
              "</tr>\n",
              "</table>"
            ]
          },
          "metadata": {},
          "execution_count": 272
        }
      ]
    },
    {
      "cell_type": "markdown",
      "source": [
        "Let us create a new list called significant_vars to store the column names of significant variables and build a new model"
      ],
      "metadata": {
        "id": "9yOJdmjoW-l8"
      }
    },
    {
      "cell_type": "code",
      "source": [
        "significant_vars = ['COUNTRY_IND','COUNTRY_ENG','SIXERS','CAPTAINCY EXP_1']\n",
        "train_X = train_X[significant_vars]\n",
        "ipl_model_3 = sm.OLS(train_y,train_X).fit()\n",
        "ipl_model_3.summary2()"
      ],
      "metadata": {
        "colab": {
          "base_uri": "https://localhost:8080/",
          "height": 365
        },
        "id": "z0dfPXDINKdQ",
        "outputId": "581091fe-03b7-46e8-9413-b58b32da9fb6"
      },
      "execution_count": null,
      "outputs": [
        {
          "output_type": "execute_result",
          "data": {
            "text/plain": [
              "<class 'statsmodels.iolib.summary2.Summary'>\n",
              "\"\"\"\n",
              "                        Results: Ordinary least squares\n",
              "================================================================================\n",
              "Model:                  OLS              Adj. R-squared (uncentered): 0.704     \n",
              "Dependent Variable:     SOLD PRICE       AIC:                         2961.8089 \n",
              "Date:                   2022-10-08 07:31 BIC:                         2972.3864 \n",
              "No. Observations:       104              Log-Likelihood:              -1476.9   \n",
              "Df Model:               4                F-statistic:                 62.77     \n",
              "Df Residuals:           100              Prob (F-statistic):          1.97e-26  \n",
              "R-squared (uncentered): 0.715            Scale:                       1.3164e+11\n",
              "--------------------------------------------------------------------------------\n",
              "                     Coef.      Std.Err.    t    P>|t|     [0.025      0.975]   \n",
              "--------------------------------------------------------------------------------\n",
              "COUNTRY_IND       387890.2538  63007.1511 6.1563 0.0000 262885.8606  512894.6471\n",
              "COUNTRY_ENG       731833.6386 214164.4988 3.4172 0.0009 306937.3727 1156729.9045\n",
              "SIXERS              8637.8344   1675.1313 5.1565 0.0000   5314.4216   11961.2472\n",
              "CAPTAINCY EXP_1   359725.2741  74930.3460 4.8008 0.0000 211065.6018  508384.9463\n",
              "--------------------------------------------------------------------------------\n",
              "Omnibus:                   1.130             Durbin-Watson:                2.238\n",
              "Prob(Omnibus):             0.568             Jarque-Bera (JB):             0.874\n",
              "Skew:                      0.223             Prob(JB):                     0.646\n",
              "Kurtosis:                  3.046             Condition No.:                165  \n",
              "================================================================================\n",
              "\n",
              "\"\"\""
            ],
            "text/html": [
              "<table class=\"simpletable\">\n",
              "<tr>\n",
              "          <td>Model:</td>                 <td>OLS</td>       <td>Adj. R-squared (uncentered):</td>    <td>0.704</td>  \n",
              "</tr>\n",
              "<tr>\n",
              "    <td>Dependent Variable:</td>      <td>SOLD PRICE</td>                <td>AIC:</td>              <td>2961.8089</td>\n",
              "</tr>\n",
              "<tr>\n",
              "           <td>Date:</td>          <td>2022-10-08 07:31</td>             <td>BIC:</td>              <td>2972.3864</td>\n",
              "</tr>\n",
              "<tr>\n",
              "     <td>No. Observations:</td>           <td>104</td>              <td>Log-Likelihood:</td>         <td>-1476.9</td> \n",
              "</tr>\n",
              "<tr>\n",
              "         <td>Df Model:</td>                <td>4</td>                <td>F-statistic:</td>            <td>62.77</td>  \n",
              "</tr>\n",
              "<tr>\n",
              "       <td>Df Residuals:</td>             <td>100</td>            <td>Prob (F-statistic):</td>      <td>1.97e-26</td> \n",
              "</tr>\n",
              "<tr>\n",
              "  <td>R-squared (uncentered):</td>       <td>0.715</td>                 <td>Scale:</td>            <td>1.3164e+11</td>\n",
              "</tr>\n",
              "</table>\n",
              "<table class=\"simpletable\">\n",
              "<tr>\n",
              "         <td></td>            <th>Coef.</th>     <th>Std.Err.</th>      <th>t</th>    <th>P>|t|</th>   <th>[0.025</th>       <th>0.975]</th>   \n",
              "</tr>\n",
              "<tr>\n",
              "  <th>COUNTRY_IND</th>     <td>387890.2538</td> <td>63007.1511</td>  <td>6.1563</td> <td>0.0000</td> <td>262885.8606</td>  <td>512894.6471</td>\n",
              "</tr>\n",
              "<tr>\n",
              "  <th>COUNTRY_ENG</th>     <td>731833.6386</td> <td>214164.4988</td> <td>3.4172</td> <td>0.0009</td> <td>306937.3727</td> <td>1156729.9045</td>\n",
              "</tr>\n",
              "<tr>\n",
              "  <th>SIXERS</th>           <td>8637.8344</td>   <td>1675.1313</td>  <td>5.1565</td> <td>0.0000</td>  <td>5314.4216</td>   <td>11961.2472</td> \n",
              "</tr>\n",
              "<tr>\n",
              "  <th>CAPTAINCY EXP_1</th> <td>359725.2741</td> <td>74930.3460</td>  <td>4.8008</td> <td>0.0000</td> <td>211065.6018</td>  <td>508384.9463</td>\n",
              "</tr>\n",
              "</table>\n",
              "<table class=\"simpletable\">\n",
              "<tr>\n",
              "     <td>Omnibus:</td>    <td>1.130</td>  <td>Durbin-Watson:</td>   <td>2.238</td>\n",
              "</tr>\n",
              "<tr>\n",
              "  <td>Prob(Omnibus):</td> <td>0.568</td> <td>Jarque-Bera (JB):</td> <td>0.874</td>\n",
              "</tr>\n",
              "<tr>\n",
              "       <td>Skew:</td>     <td>0.223</td>     <td>Prob(JB):</td>     <td>0.646</td>\n",
              "</tr>\n",
              "<tr>\n",
              "     <td>Kurtosis:</td>   <td>3.046</td>  <td>Condition No.:</td>    <td>165</td> \n",
              "</tr>\n",
              "</table>"
            ]
          },
          "metadata": {},
          "execution_count": 273
        }
      ]
    },
    {
      "cell_type": "markdown",
      "source": [
        "The model can explain 71.5% variance in the sold Price"
      ],
      "metadata": {
        "id": "M0jwka2aXtM_"
      }
    },
    {
      "cell_type": "markdown",
      "source": [
        "## Residual Analysis in Multiple Linear Regression\n",
        "### Test for normality of residual"
      ],
      "metadata": {
        "id": "9a5HZ8YmX12q"
      }
    },
    {
      "cell_type": "code",
      "source": [
        "def draw_qq_plot(model,title):\n",
        "  probplot = sm.ProbPlot(model.resid);\n",
        "  plt.figure(figsize = (8,6));\n",
        "  probplot.qqplot(line = 's');\n",
        "  plt.title(title);\n",
        "  plt.show();\n"
      ],
      "metadata": {
        "id": "j7n6O_xoXmot"
      },
      "execution_count": null,
      "outputs": []
    },
    {
      "cell_type": "code",
      "source": [
        "draw_qq_plot(ipl_model_3,\n",
        "             \"Normal Q-Q plot of Regression Standardized residuals\");"
      ],
      "metadata": {
        "colab": {
          "base_uri": "https://localhost:8080/",
          "height": 313
        },
        "id": "DgTu7uo_YQtc",
        "outputId": "7a535209-324c-4078-f769-d488c6c0ed6d"
      },
      "execution_count": null,
      "outputs": [
        {
          "output_type": "display_data",
          "data": {
            "text/plain": [
              "<Figure size 576x432 with 0 Axes>"
            ]
          },
          "metadata": {}
        },
        {
          "output_type": "display_data",
          "data": {
            "text/plain": [
              "<Figure size 432x288 with 1 Axes>"
            ],
            "image/png": "[encoded data removed]"
          },
          "metadata": {
            "needs_background": "light"
          }
        }
      ]
    },
    {
      "cell_type": "markdown",
      "source": [
        "Residual Plot for Homoscedasticity and Model Specification"
      ],
      "metadata": {
        "id": "awh_rMF9Yz_B"
      }
    },
    {
      "cell_type": "code",
      "source": [
        "def plot_resid_fitted(fitted,resid,title):\n",
        "  plt.scatter(get_standardized_values(fitted),\n",
        "              get_standardized_values(resid))\n",
        "  plt.title(title)\n",
        "  plt.xlabel(\"Standardized predicted values\")\n",
        "  plt.ylabel(\"Standardized residual values\")\n",
        "  plt.show()"
      ],
      "metadata": {
        "id": "s_XQUCwXYcN_"
      },
      "execution_count": null,
      "outputs": []
    },
    {
      "cell_type": "code",
      "source": [
        "plot_resid_fitted(ipl_model_3.fittedvalues,\n",
        "                  ipl_model_3.resid,\n",
        "                  \"Residual Plot\")"
      ],
      "metadata": {
        "colab": {
          "base_uri": "https://localhost:8080/",
          "height": 295
        },
        "id": "DUb6ofcDZfp_",
        "outputId": "4f2ad333-bd81-4d0c-e789-dfc2cfc36233"
      },
      "execution_count": null,
      "outputs": [
        {
          "output_type": "display_data",
          "data": {
            "text/plain": [
              "<Figure size 432x288 with 1 Axes>"
            ],
            "image/png": "[encoded data removed]"
          },
          "metadata": {
            "needs_background": "light"
          }
        }
      ]
    },
    {
      "cell_type": "markdown",
      "source": [
        "### Detecting Influencers"
      ],
      "metadata": {
        "id": "Bgy3RNSaZvKW"
      }
    },
    {
      "cell_type": "markdown",
      "source": [
        "Leverage values of more than 3(k+1)/n are treated as highly influential observations."
      ],
      "metadata": {
        "id": "T28fM64cZ39c"
      }
    },
    {
      "cell_type": "code",
      "source": [
        "k = train_X.shape[1]\n",
        "n = train_X.shape[0]"
      ],
      "metadata": {
        "id": "4a3iLTGtZrUL"
      },
      "execution_count": null,
      "outputs": []
    },
    {
      "cell_type": "code",
      "source": [
        "print(\"Number of variables:\",k,\" and number of observations: \",n)"
      ],
      "metadata": {
        "colab": {
          "base_uri": "https://localhost:8080/"
        },
        "id": "MYd4YwSqaFUF",
        "outputId": "c3a08e33-af26-449e-fbd3-8998455990cc"
      },
      "execution_count": null,
      "outputs": [
        {
          "output_type": "stream",
          "name": "stdout",
          "text": [
            "Number of variables: 4  and number of observations:  104\n"
          ]
        }
      ]
    },
    {
      "cell_type": "code",
      "source": [
        "leverage_cutoff = 3*((k+1)/n)\n",
        "print(\"Cutoff for leverage value:\",round(leverage_cutoff,3))"
      ],
      "metadata": {
        "colab": {
          "base_uri": "https://localhost:8080/"
        },
        "id": "Pw2b4sGdaMuo",
        "outputId": "4ba85b1a-ab06-439a-ffb8-ce2339ea56ce"
      },
      "execution_count": null,
      "outputs": [
        {
          "output_type": "stream",
          "name": "stdout",
          "text": [
            "Cutoff for leverage value: 0.144\n"
          ]
        }
      ]
    },
    {
      "cell_type": "markdown",
      "source": [
        "So Observations with leverage values more than 0.178 are highly influential"
      ],
      "metadata": {
        "id": "-B_McZu-alWt"
      }
    },
    {
      "cell_type": "code",
      "source": [
        "from statsmodels.graphics.regressionplots import influence_plot\n",
        "fig,ax = plt.subplots(figsize =(8,6))\n",
        "influence_plot(ipl_model_3,ax = ax)\n",
        "plt.title(\"Leverage value vs. Residuals\")\n",
        "plt.show()"
      ],
      "metadata": {
        "colab": {
          "base_uri": "https://localhost:8080/",
          "height": 409
        },
        "id": "nzybx9iLaZmV",
        "outputId": "ec2480b2-36f7-4d05-f1b6-f61e5904975a"
      },
      "execution_count": null,
      "outputs": [
        {
          "output_type": "display_data",
          "data": {
            "text/plain": [
              "<Figure size 576x432 with 1 Axes>"
            ],
            "image/png": "[encoded data removed]"
          },
          "metadata": {
            "needs_background": "light"
          }
        }
      ]
    },
    {
      "cell_type": "markdown",
      "source": [
        "The above diagram shows that the three observations 25, 58 and 83 have comparatively high leverage and hence influential, we can filter out these observations"
      ],
      "metadata": {
        "id": "_yVnlbWbbL4l"
      }
    },
    {
      "cell_type": "code",
      "source": [
        "ipl_auction_df[ipl_auction_df.index.isin([23,58,83])]"
      ],
      "metadata": {
        "colab": {
          "base_uri": "https://localhost:8080/",
          "height": 289
        },
        "id": "HAR2RB5jbHt1",
        "outputId": "02b26b61-7e3e-4cc2-d0e3-cef2f861b1bc"
      },
      "execution_count": null,
      "outputs": [
        {
          "output_type": "execute_result",
          "data": {
            "text/plain": [
              "    Sl.NO.      PLAYER NAME  AGE COUNTRY  TEAM PLAYING ROLE  T-RUNS  T-WKTS  \\\n",
              "23      24      Flintoff, A    2     ENG   CSK   Allrounder    3845     226   \n",
              "58      59  Mascarenhas, AD    2     ENG   RR+   Allrounder       0       0   \n",
              "83      84    Pietersen, KP    2     ENG  RCB+      Batsman    6654       5   \n",
              "\n",
              "    ODI-RUNS-S  ODI-SR-B  ...    SR-B  SIXERS  RUNS-C  WKTS  AVE-BL  ECON  \\\n",
              "23        3394     88.82  ...  116.98       2     105     2   52.50  9.55   \n",
              "58         245     95.33  ...  101.37       1     331    19   17.42  7.01   \n",
              "83        4184     86.76  ...  141.20      30     215     7   30.71  7.41   \n",
              "\n",
              "    SR-BL  AUCTION YEAR  BASE PRICE  SOLD PRICE  \n",
              "23  33.00          2009      950000     1550000  \n",
              "58  14.95          2011      100000      100000  \n",
              "83  24.86          2009     1350000     1550000  \n",
              "\n",
              "[3 rows x 26 columns]"
            ],
            "text/html": [
              "\n",
              "  <div id=\"df-4cff74ac-c653-42f6-a648-f05e6c89eaaa\">\n",
              "    <div class=\"colab-df-container\">\n",
              "      <div>\n",
              "<style scoped>\n",
              "    .dataframe tbody tr th:only-of-type {\n",
              "        vertical-align: middle;\n",
              "    }\n",
              "\n",
              "    .dataframe tbody tr th {\n",
              "        vertical-align: top;\n",
              "    }\n",
              "\n",
              "    .dataframe thead th {\n",
              "        text-align: right;\n",
              "    }\n",
              "</style>\n",
              "<table border=\"1\" class=\"dataframe\">\n",
              "  <thead>\n",
              "    <tr style=\"text-align: right;\">\n",
              "      <th></th>\n",
              "      <th>Sl.NO.</th>\n",
              "      <th>PLAYER NAME</th>\n",
              "      <th>AGE</th>\n",
              "      <th>COUNTRY</th>\n",
              "      <th>TEAM</th>\n",
              "      <th>PLAYING ROLE</th>\n",
              "      <th>T-RUNS</th>\n",
              "      <th>T-WKTS</th>\n",
              "      <th>ODI-RUNS-S</th>\n",
              "      <th>ODI-SR-B</th>\n",
              "      <th>...</th>\n",
              "      <th>SR-B</th>\n",
              "      <th>SIXERS</th>\n",
              "      <th>RUNS-C</th>\n",
              "      <th>WKTS</th>\n",
              "      <th>AVE-BL</th>\n",
              "      <th>ECON</th>\n",
              "      <th>SR-BL</th>\n",
              "      <th>AUCTION YEAR</th>\n",
              "      <th>BASE PRICE</th>\n",
              "      <th>SOLD PRICE</th>\n",
              "    </tr>\n",
              "  </thead>\n",
              "  <tbody>\n",
              "    <tr>\n",
              "      <th>23</th>\n",
              "      <td>24</td>\n",
              "      <td>Flintoff, A</td>\n",
              "      <td>2</td>\n",
              "      <td>ENG</td>\n",
              "      <td>CSK</td>\n",
              "      <td>Allrounder</td>\n",
              "      <td>3845</td>\n",
              "      <td>226</td>\n",
              "      <td>3394</td>\n",
              "      <td>88.82</td>\n",
              "      <td>...</td>\n",
              "      <td>116.98</td>\n",
              "      <td>2</td>\n",
              "      <td>105</td>\n",
              "      <td>2</td>\n",
              "      <td>52.50</td>\n",
              "      <td>9.55</td>\n",
              "      <td>33.00</td>\n",
              "      <td>2009</td>\n",
              "      <td>950000</td>\n",
              "      <td>1550000</td>\n",
              "    </tr>\n",
              "    <tr>\n",
              "      <th>58</th>\n",
              "      <td>59</td>\n",
              "      <td>Mascarenhas, AD</td>\n",
              "      <td>2</td>\n",
              "      <td>ENG</td>\n",
              "      <td>RR+</td>\n",
              "      <td>Allrounder</td>\n",
              "      <td>0</td>\n",
              "      <td>0</td>\n",
              "      <td>245</td>\n",
              "      <td>95.33</td>\n",
              "      <td>...</td>\n",
              "      <td>101.37</td>\n",
              "      <td>1</td>\n",
              "      <td>331</td>\n",
              "      <td>19</td>\n",
              "      <td>17.42</td>\n",
              "      <td>7.01</td>\n",
              "      <td>14.95</td>\n",
              "      <td>2011</td>\n",
              "      <td>100000</td>\n",
              "      <td>100000</td>\n",
              "    </tr>\n",
              "    <tr>\n",
              "      <th>83</th>\n",
              "      <td>84</td>\n",
              "      <td>Pietersen, KP</td>\n",
              "      <td>2</td>\n",
              "      <td>ENG</td>\n",
              "      <td>RCB+</td>\n",
              "      <td>Batsman</td>\n",
              "      <td>6654</td>\n",
              "      <td>5</td>\n",
              "      <td>4184</td>\n",
              "      <td>86.76</td>\n",
              "      <td>...</td>\n",
              "      <td>141.20</td>\n",
              "      <td>30</td>\n",
              "      <td>215</td>\n",
              "      <td>7</td>\n",
              "      <td>30.71</td>\n",
              "      <td>7.41</td>\n",
              "      <td>24.86</td>\n",
              "      <td>2009</td>\n",
              "      <td>1350000</td>\n",
              "      <td>1550000</td>\n",
              "    </tr>\n",
              "  </tbody>\n",
              "</table>\n",
              "<p>3 rows × 26 columns</p>\n",
              "</div>\n",
              "      <button class=\"colab-df-convert\" onclick=\"convertToInteractive('df-4cff74ac-c653-42f6-a648-f05e6c89eaaa')\"\n",
              "              title=\"Convert this dataframe to an interactive table.\"\n",
              "              style=\"display:none;\">\n",
              "        \n",
              "  <svg xmlns=\"http://www.w3.org/2000/svg\" height=\"24px\"viewBox=\"0 0 24 24\"\n",
              "       width=\"24px\">\n",
              "    <path d=\"M0 0h24v24H0V0z\" fill=\"none\"/>\n",
              "    <path d=\"M18.56 5.44l.94 2.06.94-2.06 2.06-.94-2.06-.94-.94-2.06-.94 2.06-2.06.94zm-11 1L8.5 8.5l.94-2.06 2.06-.94-2.06-.94L8.5 2.5l-.94 2.06-2.06.94zm10 10l.94 2.06.94-2.06 2.06-.94-2.06-.94-.94-2.06-.94 2.06-2.06.94z\"/><path d=\"M17.41 7.96l-1.37-1.37c-.4-.4-.92-.59-1.43-.59-.52 0-1.04.2-1.43.59L10.3 9.45l-7.72 7.72c-.78.78-.78 2.05 0 2.83L4 21.41c.39.39.9.59 1.41.59.51 0 1.02-.2 1.41-.59l7.78-7.78 2.81-2.81c.8-.78.8-2.07 0-2.86zM5.41 20L4 18.59l7.72-7.72 1.47 1.35L5.41 20z\"/>\n",
              "  </svg>\n",
              "      </button>\n",
              "      \n",
              "  <style>\n",
              "    .colab-df-container {\n",
              "      display:flex;\n",
              "      flex-wrap:wrap;\n",
              "      gap: 12px;\n",
              "    }\n",
              "\n",
              "    .colab-df-convert {\n",
              "      background-color: #E8F0FE;\n",
              "      border: none;\n",
              "      border-radius: 50%;\n",
              "      cursor: pointer;\n",
              "      display: none;\n",
              "      fill: #1967D2;\n",
              "      height: 32px;\n",
              "      padding: 0 0 0 0;\n",
              "      width: 32px;\n",
              "    }\n",
              "\n",
              "    .colab-df-convert:hover {\n",
              "      background-color: #E2EBFA;\n",
              "      box-shadow: 0px 1px 2px rgba(60, 64, 67, 0.3), 0px 1px 3px 1px rgba(60, 64, 67, 0.15);\n",
              "      fill: #174EA6;\n",
              "    }\n",
              "\n",
              "    [theme=dark] .colab-df-convert {\n",
              "      background-color: #3B4455;\n",
              "      fill: #D2E3FC;\n",
              "    }\n",
              "\n",
              "    [theme=dark] .colab-df-convert:hover {\n",
              "      background-color: #434B5C;\n",
              "      box-shadow: 0px 1px 3px 1px rgba(0, 0, 0, 0.15);\n",
              "      filter: drop-shadow(0px 1px 2px rgba(0, 0, 0, 0.3));\n",
              "      fill: #FFFFFF;\n",
              "    }\n",
              "  </style>\n",
              "\n",
              "      <script>\n",
              "        const buttonEl =\n",
              "          document.querySelector('#df-4cff74ac-c653-42f6-a648-f05e6c89eaaa button.colab-df-convert');\n",
              "        buttonEl.style.display =\n",
              "          google.colab.kernel.accessAllowed ? 'block' : 'none';\n",
              "\n",
              "        async function convertToInteractive(key) {\n",
              "          const element = document.querySelector('#df-4cff74ac-c653-42f6-a648-f05e6c89eaaa');\n",
              "          const dataTable =\n",
              "            await google.colab.kernel.invokeFunction('convertToInteractive',\n",
              "                                                     [key], {});\n",
              "          if (!dataTable) return;\n",
              "\n",
              "          const docLinkHtml = 'Like what you see? Visit the ' +\n",
              "            '<a target=\"_blank\" href=https://colab.research.google.com/notebooks/data_table.ipynb>data table notebook</a>'\n",
              "            + ' to learn more about interactive tables.';\n",
              "          element.innerHTML = '';\n",
              "          dataTable['output_type'] = 'display_data';\n",
              "          await google.colab.output.renderOutput(dataTable, element);\n",
              "          const docLink = document.createElement('div');\n",
              "          docLink.innerHTML = docLinkHtml;\n",
              "          element.appendChild(docLink);\n",
              "        }\n",
              "      </script>\n",
              "    </div>\n",
              "  </div>\n",
              "  "
            ]
          },
          "metadata": {},
          "execution_count": 282
        }
      ]
    },
    {
      "cell_type": "markdown",
      "source": [
        "We can drop these observations"
      ],
      "metadata": {
        "id": "nRf_LEB2bn53"
      }
    },
    {
      "cell_type": "code",
      "source": [
        "train_X_new = train_X.drop([23,58,83],axis = 0)\n",
        "train_y_new = train_y.drop([23,58,83],axis = 0)"
      ],
      "metadata": {
        "id": "cmJ5bB3gbjd4"
      },
      "execution_count": null,
      "outputs": []
    },
    {
      "cell_type": "markdown",
      "source": [
        "Lets Build a model."
      ],
      "metadata": {
        "id": "JfMDYEN6c49Z"
      }
    },
    {
      "cell_type": "code",
      "source": [
        "ipl_model_4 = sm.OLS(train_y_new,train_X_new).fit()\n",
        "ipl_model_4.summary2()"
      ],
      "metadata": {
        "colab": {
          "base_uri": "https://localhost:8080/",
          "height": 365
        },
        "id": "Zh-ZGvV7cvPT",
        "outputId": "d48a2e8d-653b-4add-b2c0-2b948acee3d8"
      },
      "execution_count": null,
      "outputs": [
        {
          "output_type": "execute_result",
          "data": {
            "text/plain": [
              "<class 'statsmodels.iolib.summary2.Summary'>\n",
              "\"\"\"\n",
              "                        Results: Ordinary least squares\n",
              "================================================================================\n",
              "Model:                  OLS              Adj. R-squared (uncentered): 0.689     \n",
              "Dependent Variable:     SOLD PRICE       AIC:                         2872.3664 \n",
              "Date:                   2022-10-08 07:31 BIC:                         2880.2117 \n",
              "No. Observations:       101              Log-Likelihood:              -1433.2   \n",
              "Df Model:               3                F-statistic:                 75.50     \n",
              "Df Residuals:           98               Prob (F-statistic):          2.22e-25  \n",
              "R-squared (uncentered): 0.698            Scale:                       1.2760e+11\n",
              "--------------------------------------------------------------------------------\n",
              "                       Coef.     Std.Err.    t    P>|t|     [0.025      0.975]  \n",
              "--------------------------------------------------------------------------------\n",
              "COUNTRY_IND         390069.6377 62096.7593 6.2816 0.0000 266840.6399 513298.6355\n",
              "COUNTRY_ENG              0.0000     0.0000 6.0776 0.0000      0.0000      0.0000\n",
              "SIXERS                8790.0052  1656.5116 5.3063 0.0000   5502.7118  12077.2986\n",
              "CAPTAINCY EXP_1     334569.0056 74599.3795 4.4849 0.0000 186528.9648 482609.0464\n",
              "--------------------------------------------------------------------------------\n",
              "Omnibus:                1.880        Durbin-Watson:           2.251             \n",
              "Prob(Omnibus):          0.391        Jarque-Bera (JB):        1.497             \n",
              "Skew:                   0.294        Prob(JB):                0.473             \n",
              "Kurtosis:               3.104        Condition No.:           133837876829417968\n",
              "================================================================================\n",
              "* The condition number is large (1e+17). This might indicate             strong\n",
              "multicollinearity or other numerical problems.\n",
              "\"\"\""
            ],
            "text/html": [
              "<table class=\"simpletable\">\n",
              "<tr>\n",
              "          <td>Model:</td>                 <td>OLS</td>       <td>Adj. R-squared (uncentered):</td>    <td>0.689</td>  \n",
              "</tr>\n",
              "<tr>\n",
              "    <td>Dependent Variable:</td>      <td>SOLD PRICE</td>                <td>AIC:</td>              <td>2872.3664</td>\n",
              "</tr>\n",
              "<tr>\n",
              "           <td>Date:</td>          <td>2022-10-08 07:31</td>             <td>BIC:</td>              <td>2880.2117</td>\n",
              "</tr>\n",
              "<tr>\n",
              "     <td>No. Observations:</td>           <td>101</td>              <td>Log-Likelihood:</td>         <td>-1433.2</td> \n",
              "</tr>\n",
              "<tr>\n",
              "         <td>Df Model:</td>                <td>3</td>                <td>F-statistic:</td>            <td>75.50</td>  \n",
              "</tr>\n",
              "<tr>\n",
              "       <td>Df Residuals:</td>             <td>98</td>             <td>Prob (F-statistic):</td>      <td>2.22e-25</td> \n",
              "</tr>\n",
              "<tr>\n",
              "  <td>R-squared (uncentered):</td>       <td>0.698</td>                 <td>Scale:</td>            <td>1.2760e+11</td>\n",
              "</tr>\n",
              "</table>\n",
              "<table class=\"simpletable\">\n",
              "<tr>\n",
              "         <td></td>            <th>Coef.</th>     <th>Std.Err.</th>     <th>t</th>    <th>P>|t|</th>   <th>[0.025</th>      <th>0.975]</th>   \n",
              "</tr>\n",
              "<tr>\n",
              "  <th>COUNTRY_IND</th>     <td>390069.6377</td> <td>62096.7593</td> <td>6.2816</td> <td>0.0000</td> <td>266840.6399</td> <td>513298.6355</td>\n",
              "</tr>\n",
              "<tr>\n",
              "  <th>COUNTRY_ENG</th>       <td>0.0000</td>      <td>0.0000</td>   <td>6.0776</td> <td>0.0000</td>   <td>0.0000</td>      <td>0.0000</td>   \n",
              "</tr>\n",
              "<tr>\n",
              "  <th>SIXERS</th>           <td>8790.0052</td>   <td>1656.5116</td> <td>5.3063</td> <td>0.0000</td>  <td>5502.7118</td>  <td>12077.2986</td> \n",
              "</tr>\n",
              "<tr>\n",
              "  <th>CAPTAINCY EXP_1</th> <td>334569.0056</td> <td>74599.3795</td> <td>4.4849</td> <td>0.0000</td> <td>186528.9648</td> <td>482609.0464</td>\n",
              "</tr>\n",
              "</table>\n",
              "<table class=\"simpletable\">\n",
              "<tr>\n",
              "     <td>Omnibus:</td>    <td>1.880</td>  <td>Durbin-Watson:</td>          <td>2.251</td>      \n",
              "</tr>\n",
              "<tr>\n",
              "  <td>Prob(Omnibus):</td> <td>0.391</td> <td>Jarque-Bera (JB):</td>        <td>1.497</td>      \n",
              "</tr>\n",
              "<tr>\n",
              "       <td>Skew:</td>     <td>0.294</td>     <td>Prob(JB):</td>            <td>0.473</td>      \n",
              "</tr>\n",
              "<tr>\n",
              "     <td>Kurtosis:</td>   <td>3.104</td>  <td>Condition No.:</td>   <td>133837876829417968</td>\n",
              "</tr>\n",
              "</table>"
            ]
          },
          "metadata": {},
          "execution_count": 284
        }
      ]
    },
    {
      "cell_type": "markdown",
      "source": [
        "R-squared value is slightly reduced."
      ],
      "metadata": {
        "id": "CAf3F0XadOHK"
      }
    },
    {
      "cell_type": "markdown",
      "source": [
        "### Transforming Response Variable"
      ],
      "metadata": {
        "id": "tn1_3lO5iNnI"
      }
    },
    {
      "cell_type": "markdown",
      "source": [
        "We will create a new response variable by taking the square root of the existing values. This can be done by using Numpy's sqrt() method"
      ],
      "metadata": {
        "id": "vH3NhEj9iUlh"
      }
    },
    {
      "cell_type": "code",
      "source": [
        "train_y = np.sqrt(train_y)"
      ],
      "metadata": {
        "id": "NAhIxw7_dNM1"
      },
      "execution_count": null,
      "outputs": []
    },
    {
      "cell_type": "code",
      "source": [
        "ipl_model_5 = sm.OLS(train_y,train_X).fit()\n",
        "ipl_model_5.summary2()"
      ],
      "metadata": {
        "colab": {
          "base_uri": "https://localhost:8080/",
          "height": 365
        },
        "id": "r34LK75WdCQv",
        "outputId": "93253f05-aebd-408c-c0fe-4dc3d5aa138a"
      },
      "execution_count": null,
      "outputs": [
        {
          "output_type": "execute_result",
          "data": {
            "text/plain": [
              "<class 'statsmodels.iolib.summary2.Summary'>\n",
              "\"\"\"\n",
              "                        Results: Ordinary least squares\n",
              "================================================================================\n",
              "Model:                  OLS              Adj. R-squared (uncentered): 0.741     \n",
              "Dependent Variable:     SOLD PRICE       AIC:                         1527.9999 \n",
              "Date:                   2022-10-08 07:31 BIC:                         1538.5775 \n",
              "No. Observations:       104              Log-Likelihood:              -760.00   \n",
              "Df Model:               4                F-statistic:                 75.29     \n",
              "Df Residuals:           100              Prob (F-statistic):          2.63e-29  \n",
              "R-squared (uncentered): 0.751            Scale:                       1.3550e+05\n",
              "-----------------------------------------------------------------------------------\n",
              "                    Coef.      Std.Err.      t       P>|t|      [0.025      0.975] \n",
              "-----------------------------------------------------------------------------------\n",
              "COUNTRY_IND        490.7089     63.9238    7.6765    0.0000    363.8860    617.5318\n",
              "COUNTRY_ENG        563.0261    217.2801    2.5912    0.0110    131.9486    994.1036\n",
              "SIXERS               8.5338      1.6995    5.0213    0.0000      5.1620     11.9055\n",
              "CAPTAINCY EXP_1    417.7575     76.0204    5.4953    0.0000    266.9352    568.5799\n",
              "--------------------------------------------------------------------------------\n",
              "Omnibus:                   0.017             Durbin-Watson:                1.879\n",
              "Prob(Omnibus):             0.992             Jarque-Bera (JB):             0.145\n",
              "Skew:                      0.005             Prob(JB):                     0.930\n",
              "Kurtosis:                  2.817             Condition No.:                165  \n",
              "================================================================================\n",
              "\n",
              "\"\"\""
            ],
            "text/html": [
              "<table class=\"simpletable\">\n",
              "<tr>\n",
              "          <td>Model:</td>                 <td>OLS</td>       <td>Adj. R-squared (uncentered):</td>    <td>0.741</td>  \n",
              "</tr>\n",
              "<tr>\n",
              "    <td>Dependent Variable:</td>      <td>SOLD PRICE</td>                <td>AIC:</td>              <td>1527.9999</td>\n",
              "</tr>\n",
              "<tr>\n",
              "           <td>Date:</td>          <td>2022-10-08 07:31</td>             <td>BIC:</td>              <td>1538.5775</td>\n",
              "</tr>\n",
              "<tr>\n",
              "     <td>No. Observations:</td>           <td>104</td>              <td>Log-Likelihood:</td>         <td>-760.00</td> \n",
              "</tr>\n",
              "<tr>\n",
              "         <td>Df Model:</td>                <td>4</td>                <td>F-statistic:</td>            <td>75.29</td>  \n",
              "</tr>\n",
              "<tr>\n",
              "       <td>Df Residuals:</td>             <td>100</td>            <td>Prob (F-statistic):</td>      <td>2.63e-29</td> \n",
              "</tr>\n",
              "<tr>\n",
              "  <td>R-squared (uncentered):</td>       <td>0.751</td>                 <td>Scale:</td>            <td>1.3550e+05</td>\n",
              "</tr>\n",
              "</table>\n",
              "<table class=\"simpletable\">\n",
              "<tr>\n",
              "         <td></td>           <th>Coef.</th>  <th>Std.Err.</th>    <th>t</th>    <th>P>|t|</th>  <th>[0.025</th>   <th>0.975]</th> \n",
              "</tr>\n",
              "<tr>\n",
              "  <th>COUNTRY_IND</th>     <td>490.7089</td>  <td>63.9238</td> <td>7.6765</td> <td>0.0000</td> <td>363.8860</td> <td>617.5318</td>\n",
              "</tr>\n",
              "<tr>\n",
              "  <th>COUNTRY_ENG</th>     <td>563.0261</td> <td>217.2801</td> <td>2.5912</td> <td>0.0110</td> <td>131.9486</td> <td>994.1036</td>\n",
              "</tr>\n",
              "<tr>\n",
              "  <th>SIXERS</th>           <td>8.5338</td>   <td>1.6995</td>  <td>5.0213</td> <td>0.0000</td>  <td>5.1620</td>   <td>11.9055</td>\n",
              "</tr>\n",
              "<tr>\n",
              "  <th>CAPTAINCY EXP_1</th> <td>417.7575</td>  <td>76.0204</td> <td>5.4953</td> <td>0.0000</td> <td>266.9352</td> <td>568.5799</td>\n",
              "</tr>\n",
              "</table>\n",
              "<table class=\"simpletable\">\n",
              "<tr>\n",
              "     <td>Omnibus:</td>    <td>0.017</td>  <td>Durbin-Watson:</td>   <td>1.879</td>\n",
              "</tr>\n",
              "<tr>\n",
              "  <td>Prob(Omnibus):</td> <td>0.992</td> <td>Jarque-Bera (JB):</td> <td>0.145</td>\n",
              "</tr>\n",
              "<tr>\n",
              "       <td>Skew:</td>     <td>0.005</td>     <td>Prob(JB):</td>     <td>0.930</td>\n",
              "</tr>\n",
              "<tr>\n",
              "     <td>Kurtosis:</td>   <td>2.817</td>  <td>Condition No.:</td>    <td>165</td> \n",
              "</tr>\n",
              "</table>"
            ]
          },
          "metadata": {},
          "execution_count": 286
        }
      ]
    },
    {
      "cell_type": "markdown",
      "source": [
        "As we can see R-squared value of the model has increased to 0.75"
      ],
      "metadata": {
        "id": "WQlAgoz2i2E9"
      }
    },
    {
      "cell_type": "code",
      "source": [
        "draw_qq_plot(ipl_model_4,\"Normal qq plot of Regression Standardized Residuals\");"
      ],
      "metadata": {
        "colab": {
          "base_uri": "https://localhost:8080/",
          "height": 313
        },
        "id": "6cEPN4Zpiueq",
        "outputId": "779057e4-36ad-489d-ac5b-24401894f97b"
      },
      "execution_count": null,
      "outputs": [
        {
          "output_type": "display_data",
          "data": {
            "text/plain": [
              "<Figure size 576x432 with 0 Axes>"
            ]
          },
          "metadata": {}
        },
        {
          "output_type": "display_data",
          "data": {
            "text/plain": [
              "<Figure size 432x288 with 1 Axes>"
            ],
            "image/png": "[encoded data removed]"
          },
          "metadata": {
            "needs_background": "light"
          }
        }
      ]
    },
    {
      "cell_type": "markdown",
      "source": [
        "## Making prediction on the validation Set\n",
        "\n",
        "We need to square the predicted values to get the actual SOLD PRICE of the players"
      ],
      "metadata": {
        "id": "uvAux8cjjLRe"
      }
    },
    {
      "cell_type": "code",
      "source": [
        "pred_y = np.power(ipl_model_5.predict(test_X[train_X.columns]),2)"
      ],
      "metadata": {
        "id": "SWpo_x1xjEPk"
      },
      "execution_count": null,
      "outputs": []
    },
    {
      "cell_type": "markdown",
      "source": [
        "Measuring RMSE"
      ],
      "metadata": {
        "id": "cJ3FXKN1tos9"
      }
    },
    {
      "cell_type": "code",
      "source": [
        "from sklearn import metrics\n",
        "np.sqrt(metrics.mean_squared_error(pred_y,test_y))"
      ],
      "metadata": {
        "colab": {
          "base_uri": "https://localhost:8080/"
        },
        "id": "0WpAfOm-tcZW",
        "outputId": "6eeb4bc6-4611-4c4a-bf62-54c5abe6d8e2"
      },
      "execution_count": null,
      "outputs": [
        {
          "output_type": "execute_result",
          "data": {
            "text/plain": [
              "496151.18122558534"
            ]
          },
          "metadata": {},
          "execution_count": 289
        }
      ]
    },
    {
      "cell_type": "markdown",
      "source": [
        "Measuring R-Squared Value"
      ],
      "metadata": {
        "id": "joM2Uqctt7CO"
      }
    },
    {
      "cell_type": "code",
      "source": [
        "np.round(metrics.r2_score(pred_y,test_y),2)"
      ],
      "metadata": {
        "colab": {
          "base_uri": "https://localhost:8080/"
        },
        "id": "oeiwZ0umt1ii",
        "outputId": "017d8b3b-f2ff-46ba-de2a-9b9e1cf91f09"
      },
      "execution_count": null,
      "outputs": [
        {
          "output_type": "execute_result",
          "data": {
            "text/plain": [
              "0.44"
            ]
          },
          "metadata": {},
          "execution_count": 290
        }
      ]
    },
    {
      "cell_type": "markdown",
      "source": [
        "The accuracy value ( R-Squred) of this set is 0.44 than 0.75 in the train set. This could be a sign of model overfitting."
      ],
      "metadata": {
        "id": "qpESLOc3uISH"
      }
    },
    {
      "cell_type": "markdown",
      "source": [
        "There should not be any autocorrelation betwen error terms. The presence of autocorrelation is established using the Durbin Watson Test. As a thumb rule a Durbin Watson statistics close to 2 would imply the absence of autocorrelation.\n",
        "\n",
        "The model summary shows that the Durbin Watson statistics value is 2.2 which is very close to 2, hence it can be concluded that the error terms are not autocorrelated. Note that autocorrelation is more relevant in the case of time series data."
      ],
      "metadata": {
        "id": "b1isCaSkuatn"
      }
    }
  ]
}