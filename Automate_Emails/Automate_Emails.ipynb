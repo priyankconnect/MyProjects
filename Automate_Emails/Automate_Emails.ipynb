{
 "cells": [
  {
   "cell_type": "markdown",
   "id": "1803bf4d",
   "metadata": {},
   "source": [
    "We need two files. First file is called emaildata.xlsx. It contains the format that need to be reconfigured.\n",
    "\n",
    "2nd folder is called \"attachment\". It contains in turn folders such as \"vendor1\" etc which contains the files that you want to attach. You can create as many folders as \"vendor1\" etc. \n",
    "\n",
    "To send mails to multiple people separate the names by semi columns\";\""
   ]
  },
  {
   "cell_type": "code",
   "execution_count": null,
   "id": "6673f5aa",
   "metadata": {},
   "outputs": [],
   "source": [
    "import win32.client\n",
    "import pandas as pd\n",
    "import os"
   ]
  },
  {
   "cell_type": "code",
   "execution_count": null,
   "id": "77d005fc",
   "metadata": {},
   "outputs": [],
   "source": [
    "df = pd.read_excel(\"email_excel.xlsx\")"
   ]
  },
  {
   "cell_type": "code",
   "execution_count": null,
   "id": "7f4180a2",
   "metadata": {},
   "outputs": [],
   "source": [
    "folder = \"path\\attachment\"\n",
    "for ind in df.index:\n",
    "    ol = win32com.client.Dispatch(\"outlook.application\")\n",
    "    olmailitem = 0x0 # size of the new email\n",
    "    newmail = ol.CreateItem(olmailitem)\n",
    "    newmail.Subject = df['subject'][ind]\n",
    "    newmail.To = df['to'][ind]\n",
    "    newmail.CC = df['cc'][ind]\n",
    "    newmail.HTMLBody = df['text'][ind]\n",
    "    directory = os.path.join(folder,df['attachment'][ind])\n",
    "    for filename in os.listdir(directory):\n",
    "        f = os.path.join(directory,filename)\n",
    "        attach = f\n",
    "        # To display the mail before sending it\n",
    "        newmail.Display\n",
    "        newmail.Send()"
   ]
  }
 ],
 "metadata": {
  "kernelspec": {
   "display_name": "Python 3 (ipykernel)",
   "language": "python",
   "name": "python3"
  },
  "language_info": {
   "codemirror_mode": {
    "name": "ipython",
    "version": 3
   },
   "file_extension": ".py",
   "mimetype": "text/x-python",
   "name": "python",
   "nbconvert_exporter": "python",
   "pygments_lexer": "ipython3",
   "version": "3.10.9"
  }
 },
 "nbformat": 4,
 "nbformat_minor": 5
}
