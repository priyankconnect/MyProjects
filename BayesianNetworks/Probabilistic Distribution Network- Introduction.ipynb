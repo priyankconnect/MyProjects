{
 "cells": [
  {
   "cell_type": "code",
   "execution_count": 1,
   "id": "7e992439",
   "metadata": {},
   "outputs": [
    {
     "name": "stderr",
     "output_type": "stream",
     "text": [
      "INFO:numexpr.utils:NumExpr defaulting to 4 threads.\n"
     ]
    }
   ],
   "source": [
    "from pgmpy.factors.discrete import TabularCPD"
   ]
  },
  {
   "cell_type": "code",
   "execution_count": 2,
   "id": "e5054ef6",
   "metadata": {},
   "outputs": [],
   "source": [
    "cpd_G = TabularCPD(variable='G', variable_card=3,  # 'G' has 3 possible states: g1, g2, g3 \n",
    "                   # so the values will be in this order [[g1],[g2],[g3]]\n",
    "                   values=[[0.126,0.252,0.009,0.06],[0.168,0.0224,0.045,0.036],[0.126,0.0056,0.126,0.024]],\n",
    "                          # Probabilities for g1, g2, g3 when I=i1, D=d0\n",
    "                   evidence=['D', 'I'],  # 'I' and 'D' are the parent nodes of 'G'\n",
    "                   evidence_card=[2, 2])  # 'I' and 'D' have 2 possible states each"
   ]
  },
  {
   "cell_type": "code",
   "execution_count": 3,
   "id": "4eb261a7",
   "metadata": {},
   "outputs": [
    {
     "name": "stdout",
     "output_type": "stream",
     "text": [
      "+------+-------+--------+-------+-------+\n",
      "| D    | D(0)  | D(0)   | D(1)  | D(1)  |\n",
      "+------+-------+--------+-------+-------+\n",
      "| I    | I(0)  | I(1)   | I(0)  | I(1)  |\n",
      "+------+-------+--------+-------+-------+\n",
      "| G(0) | 0.126 | 0.252  | 0.009 | 0.06  |\n",
      "+------+-------+--------+-------+-------+\n",
      "| G(1) | 0.168 | 0.0224 | 0.045 | 0.036 |\n",
      "+------+-------+--------+-------+-------+\n",
      "| G(2) | 0.126 | 0.0056 | 0.126 | 0.024 |\n",
      "+------+-------+--------+-------+-------+\n"
     ]
    }
   ],
   "source": [
    "print(cpd_G)\n"
   ]
  },
  {
   "cell_type": "code",
   "execution_count": 4,
   "id": "4d700dd4",
   "metadata": {},
   "outputs": [
    {
     "name": "stdout",
     "output_type": "stream",
     "text": [
      "[[[0.126  0.252 ]\n",
      "  [0.009  0.06  ]]\n",
      "\n",
      " [[0.168  0.0224]\n",
      "  [0.045  0.036 ]]\n",
      "\n",
      " [[0.126  0.0056]\n",
      "  [0.126  0.024 ]]]\n"
     ]
    }
   ],
   "source": [
    "print(cpd_G.values)"
   ]
  },
  {
   "cell_type": "code",
   "execution_count": 5,
   "id": "b95128d1",
   "metadata": {},
   "outputs": [
    {
     "data": {
      "text/plain": [
       "['G', 'D', 'I']"
      ]
     },
     "execution_count": 5,
     "metadata": {},
     "output_type": "execute_result"
    }
   ],
   "source": [
    "cpd_G.variables"
   ]
  },
  {
   "cell_type": "code",
   "execution_count": 6,
   "id": "27612d12",
   "metadata": {},
   "outputs": [
    {
     "data": {
      "text/plain": [
       "array([3, 2, 2])"
      ]
     },
     "execution_count": 6,
     "metadata": {},
     "output_type": "execute_result"
    }
   ],
   "source": [
    "cpd_G.cardinality"
   ]
  },
  {
   "cell_type": "code",
   "execution_count": 7,
   "id": "4e2e9c15",
   "metadata": {},
   "outputs": [
    {
     "data": {
      "text/plain": [
       "'G'"
      ]
     },
     "execution_count": 7,
     "metadata": {},
     "output_type": "execute_result"
    }
   ],
   "source": [
    "cpd_G.variable"
   ]
  },
  {
   "cell_type": "code",
   "execution_count": 8,
   "id": "91998063",
   "metadata": {},
   "outputs": [
    {
     "data": {
      "text/plain": [
       "3"
      ]
     },
     "execution_count": 8,
     "metadata": {},
     "output_type": "execute_result"
    }
   ],
   "source": [
    "cpd_G.variable_card"
   ]
  },
  {
   "cell_type": "code",
   "execution_count": 9,
   "id": "97d913bd",
   "metadata": {},
   "outputs": [
    {
     "name": "stdout",
     "output_type": "stream",
     "text": [
      "+------+-------+--------+-------+-------+\n",
      "| D    | D(0)  | D(0)   | D(1)  | D(1)  |\n",
      "+------+-------+--------+-------+-------+\n",
      "| I    | I(0)  | I(1)   | I(0)  | I(1)  |\n",
      "+------+-------+--------+-------+-------+\n",
      "| G(0) | 0.126 | 0.252  | 0.009 | 0.06  |\n",
      "+------+-------+--------+-------+-------+\n",
      "| G(1) | 0.168 | 0.0224 | 0.045 | 0.036 |\n",
      "+------+-------+--------+-------+-------+\n",
      "| G(2) | 0.126 | 0.0056 | 0.126 | 0.024 |\n",
      "+------+-------+--------+-------+-------+\n"
     ]
    }
   ],
   "source": [
    "print(cpd_G)"
   ]
  },
  {
   "cell_type": "code",
   "execution_count": 10,
   "id": "30d60a93",
   "metadata": {},
   "outputs": [],
   "source": [
    "# I am going to marginalize D which means that we are going to throw away D and sumup and Normalize the values"
   ]
  },
  {
   "cell_type": "code",
   "execution_count": 11,
   "id": "0edc5488",
   "metadata": {},
   "outputs": [
    {
     "name": "stdout",
     "output_type": "stream",
     "text": [
      "+------+---------------------+---------------------+\n",
      "| I    | I(0)                | I(1)                |\n",
      "+------+---------------------+---------------------+\n",
      "| G(0) | 0.22499999999999998 | 0.7799999999999999  |\n",
      "+------+---------------------+---------------------+\n",
      "| G(1) | 0.355               | 0.14599999999999996 |\n",
      "+------+---------------------+---------------------+\n",
      "| G(2) | 0.41999999999999993 | 0.074               |\n",
      "+------+---------------------+---------------------+\n"
     ]
    }
   ],
   "source": [
    "Mar_D=cpd_G.copy()\n",
    "Mar_D.marginalize(['D'])\n",
    "print(Mar_D)\n",
    "# This is conditional probability of G given I "
   ]
  },
  {
   "cell_type": "code",
   "execution_count": 12,
   "id": "156f57f6",
   "metadata": {},
   "outputs": [
    {
     "name": "stdout",
     "output_type": "stream",
     "text": [
      "+------+-------+---------------------+\n",
      "| D    | D(0)  | D(1)                |\n",
      "+------+-------+---------------------+\n",
      "| G(0) | 0.54  | 0.23000000000000004 |\n",
      "+------+-------+---------------------+\n",
      "| G(1) | 0.272 | 0.27                |\n",
      "+------+-------+---------------------+\n",
      "| G(2) | 0.188 | 0.5000000000000001  |\n",
      "+------+-------+---------------------+\n"
     ]
    }
   ],
   "source": [
    "Mar_I=cpd_G.copy()\n",
    "Mar_I.marginalize(['I'])\n",
    "print(Mar_I)\n",
    "# This is conditional probability of G given D "
   ]
  },
  {
   "cell_type": "code",
   "execution_count": 13,
   "id": "af4c2734",
   "metadata": {},
   "outputs": [
    {
     "name": "stdout",
     "output_type": "stream",
     "text": [
      "+------+-------+--------+-------+-------+\n",
      "| D    | D(0)  | D(0)   | D(1)  | D(1)  |\n",
      "+------+-------+--------+-------+-------+\n",
      "| I    | I(0)  | I(1)   | I(0)  | I(1)  |\n",
      "+------+-------+--------+-------+-------+\n",
      "| G(0) | 0.126 | 0.252  | 0.009 | 0.06  |\n",
      "+------+-------+--------+-------+-------+\n",
      "| G(1) | 0.168 | 0.0224 | 0.045 | 0.036 |\n",
      "+------+-------+--------+-------+-------+\n",
      "| G(2) | 0.126 | 0.0056 | 0.126 | 0.024 |\n",
      "+------+-------+--------+-------+-------+\n"
     ]
    }
   ],
   "source": [
    "print(cpd_G)\n"
   ]
  },
  {
   "cell_type": "code",
   "execution_count": 14,
   "id": "7d24122e",
   "metadata": {},
   "outputs": [
    {
     "name": "stdout",
     "output_type": "stream",
     "text": [
      "+------+---------------------+--------------------+----------------------+------+\n",
      "| D    | D(0)                | D(0)               | D(1)                 | D(1) |\n",
      "+------+---------------------+--------------------+----------------------+------+\n",
      "| I    | I(0)                | I(1)               | I(0)                 | I(1) |\n",
      "+------+---------------------+--------------------+----------------------+------+\n",
      "| G(0) | 0.3                 | 0.9000000000000001 | 0.049999999999999996 | 0.5  |\n",
      "+------+---------------------+--------------------+----------------------+------+\n",
      "| G(1) | 0.39999999999999997 | 0.08               | 0.25                 | 0.3  |\n",
      "+------+---------------------+--------------------+----------------------+------+\n",
      "| G(2) | 0.3                 | 0.02               | 0.7000000000000001   | 0.2  |\n",
      "+------+---------------------+--------------------+----------------------+------+\n"
     ]
    }
   ],
   "source": [
    "norm_copy = cpd_G.copy()\n",
    "norm_copy.normalize()\n",
    "print(norm_copy)\n",
    "# This is conditional probability of G given I and D P(G|D,I)\n",
    "# It means of every combination of values D and I, we have a PD over G\n",
    "# so if I have an intelligent student ( I(1)) in a difficult class D1, \n",
    "#then the probability of getting an g1 is 0.5, g2 is 0.3 and g3 is 0.2"
   ]
  },
  {
   "cell_type": "code",
   "execution_count": 15,
   "id": "4bc66ab3",
   "metadata": {},
   "outputs": [
    {
     "name": "stdout",
     "output_type": "stream",
     "text": [
      "+------+----------------------+------+\n",
      "| I    | I(0)                 | I(1) |\n",
      "+------+----------------------+------+\n",
      "| G(0) | 0.049999999999999996 | 0.5  |\n",
      "+------+----------------------+------+\n",
      "| G(1) | 0.25                 | 0.3  |\n",
      "+------+----------------------+------+\n",
      "| G(2) | 0.7000000000000001   | 0.2  |\n",
      "+------+----------------------+------+\n"
     ]
    }
   ],
   "source": [
    "reduce_copy = cpd_G.copy()\n",
    "reduce_copy.reduce([('D',1)])\n",
    "print(reduce_copy)\n",
    "# this is P(G,I|D1)"
   ]
  },
  {
   "cell_type": "markdown",
   "id": "dbab0a91",
   "metadata": {},
   "source": [
    "### Factor"
   ]
  },
  {
   "cell_type": "code",
   "execution_count": 16,
   "id": "c780ba76",
   "metadata": {},
   "outputs": [],
   "source": [
    "import numpy as np\n",
    "from pgmpy.factors.discrete import DiscreteFactor"
   ]
  },
  {
   "cell_type": "code",
   "execution_count": 17,
   "id": "15e8584c",
   "metadata": {},
   "outputs": [
    {
     "name": "stdout",
     "output_type": "stream",
     "text": [
      "+-------+-------+--------------+\n",
      "| a1    | b1    |   phi(a1,b1) |\n",
      "+=======+=======+==============+\n",
      "| a1(0) | b1(0) |       0.5000 |\n",
      "+-------+-------+--------------+\n",
      "| a1(0) | b1(1) |       0.8000 |\n",
      "+-------+-------+--------------+\n",
      "| a1(1) | b1(0) |       0.1000 |\n",
      "+-------+-------+--------------+\n",
      "| a1(1) | b1(1) |       0.0000 |\n",
      "+-------+-------+--------------+\n",
      "| a1(2) | b1(0) |       0.3000 |\n",
      "+-------+-------+--------------+\n",
      "| a1(2) | b1(1) |       0.9000 |\n",
      "+-------+-------+--------------+\n"
     ]
    }
   ],
   "source": [
    "phi1 = DiscreteFactor(['a1', 'b1'], [3, 2],[0.5,0.8,0.1,0,0.3,0.9])\n",
    "print(phi1)"
   ]
  },
  {
   "cell_type": "code",
   "execution_count": 18,
   "id": "50c187f3",
   "metadata": {},
   "outputs": [
    {
     "name": "stdout",
     "output_type": "stream",
     "text": [
      "+-------+-------+--------------+\n",
      "| b1    | c1    |   phi(b1,c1) |\n",
      "+=======+=======+==============+\n",
      "| b1(0) | c1(0) |       0.5000 |\n",
      "+-------+-------+--------------+\n",
      "| b1(0) | c1(1) |       0.7000 |\n",
      "+-------+-------+--------------+\n",
      "| b1(1) | c1(0) |       0.1000 |\n",
      "+-------+-------+--------------+\n",
      "| b1(1) | c1(1) |       0.2000 |\n",
      "+-------+-------+--------------+\n"
     ]
    }
   ],
   "source": [
    "phi2 = DiscreteFactor(['b1', 'c1'], [2, 2],[0.5,0.7,0.1,0.2])\n",
    "print(phi2)"
   ]
  },
  {
   "cell_type": "code",
   "execution_count": 19,
   "id": "ef83b701",
   "metadata": {},
   "outputs": [
    {
     "data": {
      "text/plain": [
       "['b1', 'c1', 'a1']"
      ]
     },
     "execution_count": 19,
     "metadata": {},
     "output_type": "execute_result"
    }
   ],
   "source": [
    "phi1.product(phi2, inplace=True)\n",
    "phi1.variables"
   ]
  },
  {
   "cell_type": "code",
   "execution_count": 20,
   "id": "515279ea",
   "metadata": {},
   "outputs": [
    {
     "data": {
      "text/plain": [
       "array([2, 2, 3])"
      ]
     },
     "execution_count": 20,
     "metadata": {},
     "output_type": "execute_result"
    }
   ],
   "source": [
    "phi1.cardinality"
   ]
  },
  {
   "cell_type": "code",
   "execution_count": 21,
   "id": "3a8ddb3f",
   "metadata": {},
   "outputs": [
    {
     "name": "stdout",
     "output_type": "stream",
     "text": [
      "+-------+-------+-------+-----------------+\n",
      "| b1    | c1    | a1    |   phi(b1,c1,a1) |\n",
      "+=======+=======+=======+=================+\n",
      "| b1(0) | c1(0) | a1(0) |          0.2500 |\n",
      "+-------+-------+-------+-----------------+\n",
      "| b1(0) | c1(0) | a1(1) |          0.0500 |\n",
      "+-------+-------+-------+-----------------+\n",
      "| b1(0) | c1(0) | a1(2) |          0.1500 |\n",
      "+-------+-------+-------+-----------------+\n",
      "| b1(0) | c1(1) | a1(0) |          0.3500 |\n",
      "+-------+-------+-------+-----------------+\n",
      "| b1(0) | c1(1) | a1(1) |          0.0700 |\n",
      "+-------+-------+-------+-----------------+\n",
      "| b1(0) | c1(1) | a1(2) |          0.2100 |\n",
      "+-------+-------+-------+-----------------+\n",
      "| b1(1) | c1(0) | a1(0) |          0.0800 |\n",
      "+-------+-------+-------+-----------------+\n",
      "| b1(1) | c1(0) | a1(1) |          0.0000 |\n",
      "+-------+-------+-------+-----------------+\n",
      "| b1(1) | c1(0) | a1(2) |          0.0900 |\n",
      "+-------+-------+-------+-----------------+\n",
      "| b1(1) | c1(1) | a1(0) |          0.1600 |\n",
      "+-------+-------+-------+-----------------+\n",
      "| b1(1) | c1(1) | a1(1) |          0.0000 |\n",
      "+-------+-------+-------+-----------------+\n",
      "| b1(1) | c1(1) | a1(2) |          0.1800 |\n",
      "+-------+-------+-------+-----------------+\n"
     ]
    }
   ],
   "source": [
    "print(phi1)"
   ]
  },
  {
   "cell_type": "code",
   "execution_count": 22,
   "id": "43bdb262",
   "metadata": {},
   "outputs": [
    {
     "name": "stdout",
     "output_type": "stream",
     "text": [
      "+-------+-------+--------------+\n",
      "| b1    | a1    |   phi(b1,a1) |\n",
      "+=======+=======+==============+\n",
      "| b1(0) | a1(0) |       0.6000 |\n",
      "+-------+-------+--------------+\n",
      "| b1(0) | a1(1) |       0.1200 |\n",
      "+-------+-------+--------------+\n",
      "| b1(0) | a1(2) |       0.3600 |\n",
      "+-------+-------+--------------+\n",
      "| b1(1) | a1(0) |       0.2400 |\n",
      "+-------+-------+--------------+\n",
      "| b1(1) | a1(1) |       0.0000 |\n",
      "+-------+-------+--------------+\n",
      "| b1(1) | a1(2) |       0.2700 |\n",
      "+-------+-------+--------------+\n"
     ]
    }
   ],
   "source": [
    "# Factor Marginalization\n",
    "Mar_c1=phi1.copy()\n",
    "Mar_c1.marginalize(['c1'])\n",
    "print(Mar_c1)\n",
    "# This is conditional probability of G given D "
   ]
  },
  {
   "cell_type": "code",
   "execution_count": 73,
   "id": "7e79ce0c",
   "metadata": {},
   "outputs": [],
   "source": [
    "from pgmpy.models import BayesianNetwork\n",
    "# Defining network structure\n",
    "\n",
    "student_model = BayesianNetwork(\n",
    "    [\n",
    "        (\"D\", \"G\"),\n",
    "        (\"I\", \"G\"),\n",
    "        (\"I\",\"S\"),\n",
    "        (\"G\",\"L\")\n",
    "    ]\n",
    ")\n",
    "cpd_G = TabularCPD(variable='G', variable_card=3,  # 'G' has 3 possible states: g1, g2, g3 \n",
    "                   # so the values will be in this order [[g1],[g2],[g3]]\n",
    "                   values=[[0.126,0.252,0.009,0.06],[0.168,0.0224,0.045,0.036],[0.126,0.0056,0.126,0.024]],\n",
    "                          # Probabilities for g1, g2, g3 when I=i1, D=d0\n",
    "                   evidence=['D', 'I'],  # 'I' and 'D' are the parent nodes of 'G'\n",
    "                   evidence_card=[2, 2])  # 'I' and 'D' have 2 possible states each\n",
    "                    # P(G|ID)\n",
    "\n",
    "\n",
    "cpd_G.normalize()\n",
    "cpd_D = TabularCPD(variable='D', variable_card=2,  # 'D' has 2 possible states: d0,d1\n",
    "                   # so the values will be in this order [[d0],[d1]]\n",
    "                   values=[[0.6],[0.4]]) \n",
    "                    #P(D)\n",
    "\n",
    "cpd_I = TabularCPD(variable='I', variable_card=2,  # 'I' has 2 possible states: i0,i1\n",
    "                   # so the values will be in this order [[d0],[d1]]\n",
    "                   values=[[0.7],[0.3]])\n",
    "                    #P(I)\n",
    "cpd_S = TabularCPD(variable='S', variable_card=2,  # 'S' has 2 possible states: s1, s2, s3 \n",
    "                   # so the values will be in this order [[s0],[s1]]\n",
    "                   values=[[0.95,0.2],[0.05,0.8]], # prob of s0 and s1                          \n",
    "                   evidence=['I'],  # 'I' is the parent node of 'S'\n",
    "                   evidence_card=[2])  # 'I' has two possible states\n",
    "                    #P(S|I)\n",
    "cpd_L = TabularCPD(variable='L', variable_card=2,  # 'L' has 2 possible states: l0, l1\n",
    "                   # so the values will be in this order [[l0],[l1]]\n",
    "                   values=[[0.1,0.4,0.99],[0.9,0.6,0.01]], # prob of l0 and l1                          \n",
    "                   evidence=['G'],  # 'G' is the parent node of 'L'\n",
    "                   evidence_card=[3])  # 'G' has two possible states\n",
    "                    #P(L|G)\n",
    "student_model.add_cpds(cpd_G,cpd_D,cpd_I,cpd_S,cpd_L)\n"
   ]
  },
  {
   "cell_type": "code",
   "execution_count": 85,
   "id": "367c8218",
   "metadata": {},
   "outputs": [
    {
     "name": "stdout",
     "output_type": "stream",
     "text": [
      "+------+---------------------+--------------------+----------------------+------+\n",
      "| D    | D(0)                | D(0)               | D(1)                 | D(1) |\n",
      "+------+---------------------+--------------------+----------------------+------+\n",
      "| I    | I(0)                | I(1)               | I(0)                 | I(1) |\n",
      "+------+---------------------+--------------------+----------------------+------+\n",
      "| G(0) | 0.3                 | 0.9000000000000001 | 0.049999999999999996 | 0.5  |\n",
      "+------+---------------------+--------------------+----------------------+------+\n",
      "| G(1) | 0.39999999999999997 | 0.08               | 0.25                 | 0.3  |\n",
      "+------+---------------------+--------------------+----------------------+------+\n",
      "| G(2) | 0.3                 | 0.02               | 0.7000000000000001   | 0.2  |\n",
      "+------+---------------------+--------------------+----------------------+------+\n"
     ]
    }
   ],
   "source": [
    "print(cpd_G)"
   ]
  },
  {
   "cell_type": "code",
   "execution_count": 83,
   "id": "3281af59",
   "metadata": {},
   "outputs": [
    {
     "name": "stdout",
     "output_type": "stream",
     "text": [
      "+------+-----+\n",
      "| D(0) | 0.6 |\n",
      "+------+-----+\n",
      "| D(1) | 0.4 |\n",
      "+------+-----+\n"
     ]
    }
   ],
   "source": [
    "print(cpd_D)"
   ]
  },
  {
   "cell_type": "code",
   "execution_count": 84,
   "id": "671d2853",
   "metadata": {},
   "outputs": [
    {
     "name": "stdout",
     "output_type": "stream",
     "text": [
      "+------+-----+\n",
      "| I(0) | 0.7 |\n",
      "+------+-----+\n",
      "| I(1) | 0.3 |\n",
      "+------+-----+\n"
     ]
    }
   ],
   "source": [
    "print(cpd_I)"
   ]
  },
  {
   "cell_type": "code",
   "execution_count": 74,
   "id": "c29014bd",
   "metadata": {},
   "outputs": [
    {
     "name": "stdout",
     "output_type": "stream",
     "text": [
      "+------+------+------+------+\n",
      "| G    | G(0) | G(1) | G(2) |\n",
      "+------+------+------+------+\n",
      "| L(0) | 0.1  | 0.4  | 0.99 |\n",
      "+------+------+------+------+\n",
      "| L(1) | 0.9  | 0.6  | 0.01 |\n",
      "+------+------+------+------+\n"
     ]
    }
   ],
   "source": [
    "print(cpd_L)"
   ]
  },
  {
   "cell_type": "code",
   "execution_count": 75,
   "id": "d8dcb61a",
   "metadata": {},
   "outputs": [
    {
     "data": {
      "text/plain": [
       "True"
      ]
     },
     "execution_count": 75,
     "metadata": {},
     "output_type": "execute_result"
    }
   ],
   "source": [
    "student_model.check_model()"
   ]
  },
  {
   "cell_type": "code",
   "execution_count": 76,
   "id": "44629e44",
   "metadata": {},
   "outputs": [
    {
     "data": {
      "text/plain": [
       "NodeView(('D', 'G', 'I', 'S', 'L'))"
      ]
     },
     "execution_count": 76,
     "metadata": {},
     "output_type": "execute_result"
    }
   ],
   "source": [
    "# Viewing nodes of the model\n",
    "student_model.nodes()"
   ]
  },
  {
   "cell_type": "code",
   "execution_count": 77,
   "id": "6e5d0cd8",
   "metadata": {},
   "outputs": [
    {
     "data": {
      "text/plain": [
       "OutEdgeView([('D', 'G'), ('G', 'L'), ('I', 'G'), ('I', 'S')])"
      ]
     },
     "execution_count": 77,
     "metadata": {},
     "output_type": "execute_result"
    }
   ],
   "source": [
    "# Viewing edges of the model\n",
    "student_model.edges()"
   ]
  },
  {
   "cell_type": "code",
   "execution_count": 78,
   "id": "d9f0b175",
   "metadata": {},
   "outputs": [
    {
     "data": {
      "text/plain": [
       "(G ⟂ S | I, D)"
      ]
     },
     "execution_count": 78,
     "metadata": {},
     "output_type": "execute_result"
    }
   ],
   "source": [
    "# Checking independcies of a node\n",
    "student_model.local_independencies(\"G\")"
   ]
  },
  {
   "cell_type": "code",
   "execution_count": 79,
   "id": "672ea428",
   "metadata": {},
   "outputs": [
    {
     "data": {
      "text/plain": [
       "(I ⟂ D)\n",
       "(I ⟂ D | S)\n",
       "(I ⟂ L | G)\n",
       "(I ⟂ L | D, G)\n",
       "(I ⟂ L | S, G)\n",
       "(I ⟂ L | S, D, G)\n",
       "(L ⟂ S | I)\n",
       "(L ⟂ I, S, D | G)\n",
       "(L ⟂ S | I, D)\n",
       "(L ⟂ S, D | I, G)\n",
       "(L ⟂ I, S | D, G)\n",
       "(L ⟂ I, D | S, G)\n",
       "(L ⟂ S | I, D, G)\n",
       "(L ⟂ D | I, S, G)\n",
       "(L ⟂ I | S, D, G)\n",
       "(S ⟂ D)\n",
       "(S ⟂ L, D, G | I)\n",
       "(S ⟂ L | G)\n",
       "(S ⟂ D, G | I, L)\n",
       "(S ⟂ L, G | I, D)\n",
       "(S ⟂ L, D | I, G)\n",
       "(S ⟂ L | D, G)\n",
       "(S ⟂ G | I, L, D)\n",
       "(S ⟂ D | I, L, G)\n",
       "(S ⟂ L | I, D, G)\n",
       "(D ⟂ I, S)\n",
       "(D ⟂ S | I)\n",
       "(D ⟂ I | S)\n",
       "(D ⟂ L | G)\n",
       "(D ⟂ S | I, L)\n",
       "(D ⟂ L, S | I, G)\n",
       "(D ⟂ L | S, G)\n",
       "(D ⟂ S | I, L, G)\n",
       "(D ⟂ L | I, S, G)\n",
       "(G ⟂ S | I)\n",
       "(G ⟂ S | I, L)\n",
       "(G ⟂ S | I, D)\n",
       "(G ⟂ S | I, L, D)"
      ]
     },
     "execution_count": 79,
     "metadata": {},
     "output_type": "execute_result"
    }
   ],
   "source": [
    "# Listing all Independencies\n",
    "student_model.get_independencies()"
   ]
  },
  {
   "cell_type": "code",
   "execution_count": null,
   "id": "db880160",
   "metadata": {},
   "outputs": [],
   "source": [
    "# It means that eg. (I ⟂ L | D, G) Once we know the difficulty of Class and Grade then you don't need I to explain l. \n",
    "# Similarly (D ⟂ S | I, L, G) Once we know the intelligence, letter and grade the you don't need D to explain S"
   ]
  },
  {
   "cell_type": "code",
   "execution_count": 80,
   "id": "02022806",
   "metadata": {},
   "outputs": [
    {
     "data": {
      "text/plain": [
       "['I', 'D']"
      ]
     },
     "execution_count": 80,
     "metadata": {},
     "output_type": "execute_result"
    }
   ],
   "source": [
    "# Listing all Independencies\n",
    "cpd_G.get_evidence()"
   ]
  },
  {
   "cell_type": "code",
   "execution_count": 71,
   "id": "79a20c3c",
   "metadata": {},
   "outputs": [
    {
     "name": "stdout",
     "output_type": "stream",
     "text": [
      "CPD D variables: ['D']\n",
      "CPD I variables: ['I']\n",
      "CPD G variables: ['G', 'D', 'I']\n",
      "CPD S variables: ['S', 'I']\n",
      "CPD L variables: ['L', 'G']\n"
     ]
    }
   ],
   "source": [
    "print(\"CPD D variables:\", cpd_D.variables)\n",
    "print(\"CPD I variables:\", cpd_I.variables)\n",
    "print(\"CPD G variables:\", cpd_G.variables)\n",
    "print(\"CPD S variables:\", cpd_S.variables)\n",
    "print(\"CPD L variables:\", cpd_L.variables)"
   ]
  },
  {
   "cell_type": "code",
   "execution_count": 82,
   "id": "f3202b56",
   "metadata": {},
   "outputs": [
    {
     "name": "stdout",
     "output_type": "stream",
     "text": [
      "+------+------+---------------------+\n",
      "| D    | D(0) | D(1)                |\n",
      "+------+------+---------------------+\n",
      "| D(0) | 0.42 | 0.27999999999999997 |\n",
      "+------+------+---------------------+\n",
      "| D(1) | 0.18 | 0.12                |\n",
      "+------+------+---------------------+\n"
     ]
    }
   ],
   "source": [
    "# Multiply the CPDs together to get the joint PD\n",
    "joint_pd = cpd_D * cpd_I #* cpd_G * cpd_S * cpd_L\n",
    "\n",
    "print(joint_pd)"
   ]
  },
  {
   "cell_type": "markdown",
   "id": "db722a7e",
   "metadata": {},
   "source": [
    "## Causal Reasoning"
   ]
  },
  {
   "cell_type": "code",
   "execution_count": 91,
   "id": "802f6e69",
   "metadata": {},
   "outputs": [
    {
     "name": "stdout",
     "output_type": "stream",
     "text": [
      "Probability of L being L(1): 0.5023360000000001\n"
     ]
    }
   ],
   "source": [
    "# what is the probability of getting a strong letter. P(L1)\n",
    "from pgmpy.inference import VariableElimination\n",
    "\n",
    "# Create a variable elimination instance\n",
    "infer = VariableElimination(student_model)\n",
    "\n",
    "# Query the probability of L being L(1) given evidence about G\n",
    "result = infer.query(variables=['L'])\n",
    "#result = infer.query(variables=['L'], evidence={'G': 0})\n",
    "# Get the probability of L(1) from the resulting factor\n",
    "prob_L_1 = result.values[1]\n",
    "\n",
    "print(\"Probability of L being L(1):\", prob_L_1)\n"
   ]
  },
  {
   "cell_type": "code",
   "execution_count": 93,
   "id": "43e3bdf2",
   "metadata": {},
   "outputs": [
    {
     "name": "stdout",
     "output_type": "stream",
     "text": [
      "Probability of L being L(1) given evidence about intelligence: 0.38860000000000006\n",
      "This is causal Reasoning\n"
     ]
    }
   ],
   "source": [
    "# what is the probability of getting a strong letter given low intelligence ( P(l1|i0)). It should go down\n",
    "from pgmpy.inference import VariableElimination\n",
    "\n",
    "# Create a variable elimination instance\n",
    "infer = VariableElimination(student_model)\n",
    "\n",
    "# Query the probability of L being L(1) given evidence about G\n",
    "result = infer.query(variables=['L'])\n",
    "result = infer.query(variables=['L'], evidence={'I': 0})\n",
    "# Get the probability of L(1) from the resulting factor\n",
    "prob_L_1 = result.values[1]\n",
    "\n",
    "print(\"Probability of L being L(1) given evidence about intelligence:\", prob_L_1)\n",
    "print(\"This is causal Reasoning\")"
   ]
  },
  {
   "cell_type": "code",
   "execution_count": 94,
   "id": "25b64bbd",
   "metadata": {},
   "outputs": [
    {
     "name": "stdout",
     "output_type": "stream",
     "text": [
      "Probability of L being L(1) given evidence about intelligence and difficulty: 0.513\n",
      "This is causal Reasoning\n"
     ]
    }
   ],
   "source": [
    "# what is the probability of getting a strong letter given low intelligence and low difficulty ( P(l1|d0,i0)). \n",
    "#It should go up\n",
    "from pgmpy.inference import VariableElimination\n",
    "\n",
    "# Create a variable elimination instance\n",
    "infer = VariableElimination(student_model)\n",
    "\n",
    "# Query the probability of L being L(1) given evidence about G\n",
    "result = infer.query(variables=['L'])\n",
    "result = infer.query(variables=['L'], evidence={'I': 0,'D':0})\n",
    "# Get the probability of L(1) from the resulting factor\n",
    "prob_L_1 = result.values[1]\n",
    "\n",
    "print(\"Probability of L being L(1) given evidence about intelligence and difficulty:\", prob_L_1)\n",
    "print(\"This is causal Reasoning\")"
   ]
  },
  {
   "cell_type": "markdown",
   "id": "b8ce77be",
   "metadata": {},
   "source": [
    "## Evedential Reasoning"
   ]
  },
  {
   "cell_type": "code",
   "execution_count": 110,
   "id": "f54071a1",
   "metadata": {},
   "outputs": [
    {
     "name": "stdout",
     "output_type": "stream",
     "text": [
      "Probability of D being difficult(D1): 0.4\n"
     ]
    }
   ],
   "source": [
    "# what is the probability of getting a difficult exam. P(D1)\n",
    "from pgmpy.inference import VariableElimination\n",
    "\n",
    "# Create a variable elimination instance\n",
    "infer = VariableElimination(student_model)\n",
    "\n",
    "# Query the probability of L being L(1) given evidence about G\n",
    "result = infer.query(variables=['D'])\n",
    "#result = infer.query(variables=['L'], evidence={'G': 0})\n",
    "# Get the probability of L(1) from the resulting factor\n",
    "prob_D_1 = result.values[1]\n",
    "\n",
    "print(\"Probability of D being difficult(D1):\", prob_D_1)"
   ]
  },
  {
   "cell_type": "code",
   "execution_count": 111,
   "id": "1b7a546c",
   "metadata": {},
   "outputs": [
    {
     "name": "stdout",
     "output_type": "stream",
     "text": [
      "what is the probability of test being difficult (d1) given the student getting a C(g2) ( P(d1|g2)). \n",
      "Intuition:It should go up from  0.4\n",
      "Probability of D being D(1) given evidence about grade: 0.6292906178489703\n",
      "This is Evedential Reasoning\n"
     ]
    }
   ],
   "source": [
    "print(\"what is the probability of test being difficult (d1) given the student getting a C(g2) ( P(d1|g2)). \")\n",
    "print(\"Intuition:It should go up from \",prob_D_1)\n",
    "from pgmpy.inference import VariableElimination\n",
    "\n",
    "# Create a variable elimination instance\n",
    "infer = VariableElimination(student_model)\n",
    "\n",
    "# Query the probability of L being L(1) given evidence about G\n",
    "result = infer.query(variables=['D'])\n",
    "result = infer.query(variables=['D'], evidence={'G':2})\n",
    "# Get the probability of L(1) from the resulting factor\n",
    "prob_D_1g2 = result.values[1]\n",
    "\n",
    "print(\"Probability of D being D(1) given evidence about grade:\", prob_D_1g2)\n",
    "print(\"This is Evedential Reasoning\")"
   ]
  },
  {
   "cell_type": "code",
   "execution_count": 112,
   "id": "09425eee",
   "metadata": {},
   "outputs": [
    {
     "name": "stdout",
     "output_type": "stream",
     "text": [
      "Probability of student being intelligent(i1): 0.3\n"
     ]
    }
   ],
   "source": [
    "# what is the probability of Student being Intelligent. P(i1)\n",
    "from pgmpy.inference import VariableElimination\n",
    "\n",
    "# Create a variable elimination instance\n",
    "infer = VariableElimination(student_model)\n",
    "\n",
    "result = infer.query(variables=['I'])\n",
    "prob_I_1 = result.values[1]\n",
    "\n",
    "print(\"Probability of student being intelligent(i1):\", prob_I_1)"
   ]
  },
  {
   "cell_type": "code",
   "execution_count": 113,
   "id": "61b21c32",
   "metadata": {},
   "outputs": [
    {
     "name": "stdout",
     "output_type": "stream",
     "text": [
      "what is the probability of student being intelligent (i1) given the student getting a C(g2) ( P(i1|g2)). \n",
      "Intuition:It should go down from  0.3\n",
      "Probability of I being I(1) given evidence about grade: 0.07894736842105264\n",
      "This is Evedential Reasoning\n"
     ]
    }
   ],
   "source": [
    "print(\"what is the probability of student being intelligent (i1) given the student getting a C(g2) ( P(i1|g2)). \")\n",
    "print(\"Intuition:It should go down from \",prob_I_1)\n",
    "from pgmpy.inference import VariableElimination\n",
    "\n",
    "# Create a variable elimination instance\n",
    "infer = VariableElimination(student_model)\n",
    "\n",
    "# Query the probability of L being L(1) given evidence about G\n",
    "result = infer.query(variables=['I'])\n",
    "result = infer.query(variables=['I'], evidence={'G':2})\n",
    "# Get the probability of L(1) from the resulting factor\n",
    "prob_I_1g2 = result.values[1]\n",
    "\n",
    "print(\"Probability of I being I(1) given evidence about grade:\", prob_I_1g2)\n",
    "print(\"This is Evedential Reasoning\")"
   ]
  },
  {
   "cell_type": "code",
   "execution_count": 114,
   "id": "f5bf9061",
   "metadata": {},
   "outputs": [
    {
     "name": "stdout",
     "output_type": "stream",
     "text": [
      "what is the probability of student being intelligent (i1) given the student getting a C(g2) ( P(i1|g2)) and exam as difficult(d1):P(i1|g3,d1. \n",
      "Intuition:It should go up from  0.3\n",
      "Probability of I being I(1) given evidence about grade and exam: 0.10909090909090907\n",
      "This is Intercausal Reasoning\n"
     ]
    }
   ],
   "source": [
    "print(\"what is the probability of student being intelligent (i1) given the student getting a C(g2) ( P(i1|g2)) and class as difficult(d1):P(i1|g3,d1. \")\n",
    "print(\"Intuition:It should go up from \",prob_I_1)\n",
    "from pgmpy.inference import VariableElimination\n",
    "\n",
    "# Create a variable elimination instance\n",
    "infer = VariableElimination(student_model)\n",
    "\n",
    "# Query the probability of L being L(1) given evidence about G\n",
    "result = infer.query(variables=['I'])\n",
    "result = infer.query(variables=['I'], evidence={'G':2,'D':1})\n",
    "# Get the probability of L(1) from the resulting factor\n",
    "prob_I_1g2d1 = result.values[1]\n",
    "\n",
    "print(\"Probability of I being I(1) given evidence about grade and exam:\", prob_I_1g2d1)\n",
    "print(\"This is Intercausal Reasoning\")"
   ]
  },
  {
   "cell_type": "code",
   "execution_count": 115,
   "id": "de5bd642",
   "metadata": {},
   "outputs": [
    {
     "name": "stdout",
     "output_type": "stream",
     "text": [
      "what is the probability of student being intelligent (i1) given the student getting a B(g1) ( P(i1|g1)). \n",
      "Intuition:It should go down from  0.3\n",
      "Probability of I being I(1) given evidence about grade: 0.17475728155339806\n",
      "This is Evedential Reasoning\n"
     ]
    }
   ],
   "source": [
    "print(\"what is the probability of student being intelligent (i1) given the student getting a B(g1) ( P(i1|g1)). \")\n",
    "print(\"Intuition:It should go down from \",prob_I_1)\n",
    "from pgmpy.inference import VariableElimination\n",
    "\n",
    "# Create a variable elimination instance\n",
    "infer = VariableElimination(student_model)\n",
    "\n",
    "# Query the probability of L being L(1) given evidence about G\n",
    "result = infer.query(variables=['I'])\n",
    "result = infer.query(variables=['I'], evidence={'G':1})\n",
    "# Get the probability of L(1) from the resulting factor\n",
    "prob_I_1g1 = result.values[1]\n",
    "\n",
    "print(\"Probability of I being I(1) given evidence about grade:\", prob_I_1g1)\n",
    "print(\"This is Evedential Reasoning\")"
   ]
  },
  {
   "cell_type": "code",
   "execution_count": 116,
   "id": "5863b4e0",
   "metadata": {},
   "outputs": [
    {
     "name": "stdout",
     "output_type": "stream",
     "text": [
      "what is the probability of student being intelligent (i1) given the student getting a B(g1) ( P(i1|g2)) and class as difficult(d1):P(i1|g3,d1. \n",
      "Intuition:It should go up from  0.3\n",
      "Probability of I being I(1) given evidence about grade and exam: 0.33962264150943394\n",
      "This is Intercausal Reasoning\n"
     ]
    }
   ],
   "source": [
    "print(\"what is the probability of student being intelligent (i1) given the student getting a B(g1) ( P(i1|g2)) and class as difficult(d1):P(i1|g3,d1. \")\n",
    "print(\"Intuition:It should go up from \",prob_I_1)\n",
    "from pgmpy.inference import VariableElimination\n",
    "\n",
    "# Create a variable elimination instance\n",
    "infer = VariableElimination(student_model)\n",
    "\n",
    "# Query the probability of L being L(1) given evidence about G\n",
    "result = infer.query(variables=['I'])\n",
    "result = infer.query(variables=['I'], evidence={'G':1,'D':1})\n",
    "# Get the probability of L(1) from the resulting factor\n",
    "prob_I_1g1d1 = result.values[1]\n",
    "\n",
    "print(\"Probability of I being I(1) given evidence about grade and exam:\", prob_I_1g1d1)\n",
    "print(\"This is Intercausal Reasoning\")"
   ]
  },
  {
   "cell_type": "code",
   "execution_count": 117,
   "id": "2bfca021",
   "metadata": {},
   "outputs": [
    {
     "name": "stdout",
     "output_type": "stream",
     "text": [
      "what is the probability of student being intelligent (i1) given the student getting a C(g2) ( P(i1|g2)) and aces the SAT s1:P(i1|g3,s1. \n",
      "Intuition:It should go up from  0.3\n",
      "Probability of I being I(1) given evidence about grade and exam: 0.5783132530120482\n",
      "This is Intercausal Reasoning\n"
     ]
    }
   ],
   "source": [
    "print(\"what is the probability of student being intelligent (i1) given the student getting a C(g2) ( P(i1|g2)) and aces the SAT s1:P(i1|g3,s1. \")\n",
    "print(\"Intuition:It should go up from \",prob_I_1)\n",
    "from pgmpy.inference import VariableElimination\n",
    "\n",
    "# Create a variable elimination instance\n",
    "infer = VariableElimination(student_model)\n",
    "\n",
    "# Query the probability of L being L(1) given evidence about G\n",
    "result = infer.query(variables=['I'])\n",
    "result = infer.query(variables=['I'], evidence={'G':2,'S':1})\n",
    "# Get the probability of L(1) from the resulting factor\n",
    "prob_I_1g2s1 = result.values[1]\n",
    "\n",
    "print(\"Probability of I being I(1) given evidence about grade and exam:\", prob_I_1g2s1)\n",
    "print(\"This is Intercausal Reasoning\")"
   ]
  },
  {
   "cell_type": "code",
   "execution_count": 118,
   "id": "dfce5cd6",
   "metadata": {},
   "outputs": [
    {
     "name": "stdout",
     "output_type": "stream",
     "text": [
      "what is the probability of class being difficult (d1) given the student getting a C(g2) ( P(i1|g2)) and aces the SAT s1:P(i1|g3,s1. \n",
      "Intuition:It should go up from  0.4\n",
      "Probability of D being D(1) given evidence about grade and exam: 0.7595599790466213\n",
      "This is Intercausal Reasoning\n"
     ]
    }
   ],
   "source": [
    "print(\"what is the probability of class being difficult (d1) given the student getting a C(g2) ( P(i1|g2)) and aces the SAT s1:P(i1|g3,s1. \")\n",
    "print(\"Intuition:It should go up from \",prob_D_1)\n",
    "from pgmpy.inference import VariableElimination\n",
    "\n",
    "# Create a variable elimination instance\n",
    "infer = VariableElimination(student_model)\n",
    "\n",
    "# Query the probability of L being L(1) given evidence about G\n",
    "result = infer.query(variables=['D'])\n",
    "result = infer.query(variables=['D'], evidence={'G':2,'S':1})\n",
    "# Get the probability of L(1) from the resulting factor\n",
    "prob_D_1g2s1 = result.values[1]\n",
    "\n",
    "print(\"Probability of D being D(1) given evidence about grade and exam:\", prob_D_1g2s1)\n",
    "print(\"This is Intercausal Reasoning\")"
   ]
  },
  {
   "cell_type": "code",
   "execution_count": 119,
   "id": "e52e36af",
   "metadata": {},
   "outputs": [
    {
     "data": {
      "text/plain": [
       "{'D': {'D', 'G', 'L'}}"
      ]
     },
     "execution_count": 119,
     "metadata": {},
     "output_type": "execute_result"
    }
   ],
   "source": [
    "# Active trail: For any two variables A and B in a network if any change in A influences the values of B then we say\n",
    "#               that there is an active trail between A and B.\n",
    "# In pgmpy active_trail_nodes gives a set of nodes which are affected (i.e. correlated) by any\n",
    "# change in the node passed in the argument.\n",
    "student_model.active_trail_nodes('D')"
   ]
  },
  {
   "cell_type": "code",
   "execution_count": 120,
   "id": "c1438090",
   "metadata": {},
   "outputs": [
    {
     "data": {
      "text/plain": [
       "{'D': {'D', 'I', 'S'}}"
      ]
     },
     "execution_count": 120,
     "metadata": {},
     "output_type": "execute_result"
    }
   ],
   "source": [
    "student_model.active_trail_nodes('D', observed='G')"
   ]
  },
  {
   "cell_type": "code",
   "execution_count": null,
   "id": "8127d153",
   "metadata": {},
   "outputs": [],
   "source": []
  }
 ],
 "metadata": {
  "kernelspec": {
   "display_name": "Python 3 (ipykernel)",
   "language": "python",
   "name": "python3"
  },
  "language_info": {
   "codemirror_mode": {
    "name": "ipython",
    "version": 3
   },
   "file_extension": ".py",
   "mimetype": "text/x-python",
   "name": "python",
   "nbconvert_exporter": "python",
   "pygments_lexer": "ipython3",
   "version": "3.11.4"
  }
 },
 "nbformat": 4,
 "nbformat_minor": 5
}
